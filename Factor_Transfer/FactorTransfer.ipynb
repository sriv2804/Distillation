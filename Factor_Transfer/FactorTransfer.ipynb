{
 "cells": [
  {
   "cell_type": "markdown",
   "id": "70c0c1c7",
   "metadata": {},
   "source": [
    "# Libraries"
   ]
  },
  {
   "cell_type": "code",
   "execution_count": 50,
   "id": "9cc75e75",
   "metadata": {},
   "outputs": [],
   "source": [
    "import os\n",
    "import time\n",
    "import random\n",
    "\n",
    "import numpy as np\n",
    "import matplotlib.pyplot as plt\n",
    "from tqdm import tqdm\n",
    "import torch\n",
    "import torch.nn as nn\n",
    "from torchvision import transforms\n",
    "from torch.utils.data import Dataset, DataLoader\n",
    "from torch.optim import SGD, Adam, AdamW\n",
    "from torch.optim.lr_scheduler import ReduceLROnPlateau, CosineAnnealingLR, CosineAnnealingWarmRestarts, MultiStepLR\n",
    "import torch.nn.init as init\n",
    "import torch.nn.functional as F\n",
    "\n",
    "from sklearn.metrics import accuracy_score\n",
    "from sklearn.model_selection import train_test_split\n",
    "\n",
    "from models.resnet import *\n",
    "from utils import *"
   ]
  },
  {
   "cell_type": "code",
   "execution_count": 51,
   "id": "6dbdaee3",
   "metadata": {},
   "outputs": [
    {
     "data": {
      "text/plain": [
       "device(type='cuda', index=3)"
      ]
     },
     "execution_count": 51,
     "metadata": {},
     "output_type": "execute_result"
    }
   ],
   "source": [
    "device = torch.device('cuda:3' if torch.cuda.is_available() else 'cpu')\n",
    "device"
   ]
  },
  {
   "cell_type": "markdown",
   "id": "6b29132c",
   "metadata": {},
   "source": [
    "# Configuration"
   ]
  },
  {
   "cell_type": "code",
   "execution_count": 52,
   "id": "7ad7c83a",
   "metadata": {},
   "outputs": [],
   "source": [
    "class CFG:\n",
    "    debug = False\n",
    "    num_workers = 4\n",
    "    batch_size = 128\n",
    "    epochs = 163\n",
    "    lr = 0.1\n",
    "    weight_decay = 5e-4\n",
    "    seed = 27\n",
    "    \n",
    "    # Factor Transfer\n",
    "    rate = 0.5\n",
    "    beta = 500\n",
    "    \n",
    "    #Multistep Scheduler\n",
    "    milestones = [82, 123]\n",
    "    gamma = 0.1\n",
    "    \n",
    "    #LOGS\n",
    "    LOGS_DIR = './logs'"
   ]
  },
  {
   "cell_type": "code",
   "execution_count": 53,
   "id": "0379692d",
   "metadata": {},
   "outputs": [],
   "source": [
    "def seed_torch(seed=42):\n",
    "    random.seed(seed)\n",
    "    os.environ['PYTHONHASHSEED'] = str(seed)\n",
    "    np.random.seed(seed)\n",
    "    torch.manual_seed(seed)\n",
    "    torch.cuda.manual_seed(seed)\n",
    "    torch.backends.cudnn.deterministic = True\n",
    "\n",
    "seed_torch(CFG.seed)"
   ]
  },
  {
   "cell_type": "markdown",
   "id": "37b0f6d8",
   "metadata": {},
   "source": [
    "# Dataset"
   ]
  },
  {
   "cell_type": "code",
   "execution_count": 54,
   "id": "3c642dfe",
   "metadata": {},
   "outputs": [],
   "source": [
    "def unpickle(file):\n",
    "    import pickle\n",
    "    with open(file, 'rb') as fo:\n",
    "        dict = pickle.load(fo, encoding='bytes')\n",
    "    return dict"
   ]
  },
  {
   "cell_type": "code",
   "execution_count": 55,
   "id": "61917e56",
   "metadata": {},
   "outputs": [],
   "source": [
    "BASE_DIR = \"cifar-10-batches-py\""
   ]
  },
  {
   "cell_type": "code",
   "execution_count": 56,
   "id": "6f66e619",
   "metadata": {},
   "outputs": [],
   "source": [
    "data = np.empty((0, 3072))\n",
    "labels = []\n",
    "for i in range(1,6):\n",
    "    path = os.path.join(BASE_DIR, f\"data_batch_{i}\")\n",
    "    dict = unpickle(path)\n",
    "    data = np.vstack((data, dict[b'data']))\n",
    "    labels.extend(dict[b'labels'])"
   ]
  },
  {
   "cell_type": "code",
   "execution_count": 57,
   "id": "45701f8c",
   "metadata": {},
   "outputs": [],
   "source": [
    "train_data, valid_data, train_labels, valid_labels = train_test_split(data, labels, test_size=0.1, random_state=CFG.seed)"
   ]
  },
  {
   "cell_type": "code",
   "execution_count": 58,
   "id": "3304f2f4",
   "metadata": {},
   "outputs": [],
   "source": [
    "class CifarDataset(Dataset):\n",
    "    def __init__(self, data, labels, transform=None):\n",
    "        self.data = np.transpose(data.reshape(data.shape[0], 3, 32, 32), (0, 2, 3, 1))/255\n",
    "        \n",
    "        self.labels = np.array(labels)\n",
    "        self.transform = transform\n",
    "\n",
    "    def __len__(self):\n",
    "        return self.data.shape[0]\n",
    "\n",
    "    def __getitem__(self, idx):\n",
    "        if self.transform:\n",
    "            image = self.transform(self.data[idx])\n",
    "        else:\n",
    "            image = torch.tensor(self.data[idx])\n",
    "        label = torch.tensor(self.labels[idx])\n",
    "        return image, label"
   ]
  },
  {
   "cell_type": "code",
   "execution_count": 59,
   "id": "33b7190d",
   "metadata": {},
   "outputs": [],
   "source": [
    "transform_train = transforms.Compose(\n",
    "                [\n",
    "                    transforms.ToTensor(),\n",
    "                    transforms.Pad(4, padding_mode='reflect'),\n",
    "                    transforms.RandomCrop(32),\n",
    "                    transforms.RandomHorizontalFlip(),\n",
    "                    transforms.Normalize((0.4914, 0.4822, 0.4465), (0.247, 0.243, 0.261))\n",
    "                ]\n",
    "            )\n",
    "\n",
    "transform_test = transforms.Compose(\n",
    "                [\n",
    "                    transforms.ToTensor(),\n",
    "                    transforms.Normalize((0.4914, 0.4822, 0.4465), (0.247, 0.243, 0.261))\n",
    "                ]\n",
    "            )"
   ]
  },
  {
   "cell_type": "code",
   "execution_count": 60,
   "id": "f09afcf6",
   "metadata": {},
   "outputs": [],
   "source": [
    "train_dataset = CifarDataset(train_data, train_labels, transform_train)\n",
    "valid_dataset = CifarDataset(valid_data, valid_labels, transform_test)"
   ]
  },
  {
   "cell_type": "code",
   "execution_count": 61,
   "id": "607fb2bf",
   "metadata": {},
   "outputs": [],
   "source": [
    "def show_img(x):\n",
    "    img, label = x\n",
    "    print(label)\n",
    "    plt.imshow(torch.permute(img, (1,2,0)))"
   ]
  },
  {
   "cell_type": "code",
   "execution_count": 62,
   "id": "ca9dd371",
   "metadata": {},
   "outputs": [
    {
     "name": "stderr",
     "output_type": "stream",
     "text": [
      "Clipping input data to the valid range for imshow with RGB data ([0..1] for floats or [0..255] for integers).\n"
     ]
    },
    {
     "name": "stdout",
     "output_type": "stream",
     "text": [
      "tensor(0)\n"
     ]
    },
    {
     "data": {
      "image/png": "[encoded data removed]",
      "text/plain": [
       "<Figure size 432x288 with 1 Axes>"
      ]
     },
     "metadata": {
      "needs_background": "light"
     },
     "output_type": "display_data"
    }
   ],
   "source": [
    "show_img(train_dataset[9])"
   ]
  },
  {
   "cell_type": "code",
   "execution_count": 63,
   "id": "089fc4ee",
   "metadata": {},
   "outputs": [],
   "source": [
    "path = os.path.join(BASE_DIR, f\"test_batch\")\n",
    "dict = unpickle(path)\n",
    "data = dict[b'data']\n",
    "labels = dict[b'labels']"
   ]
  },
  {
   "cell_type": "code",
   "execution_count": 64,
   "id": "1dcbbb84",
   "metadata": {},
   "outputs": [],
   "source": [
    "test_dataset = CifarDataset(data, labels, transform_test)"
   ]
  },
  {
   "cell_type": "code",
   "execution_count": 65,
   "id": "e7d9fda1",
   "metadata": {},
   "outputs": [],
   "source": [
    "train_loader = DataLoader(train_dataset, batch_size=CFG.batch_size, shuffle=True,\n",
    "                          num_workers=CFG.num_workers, pin_memory=True, drop_last=True)\n",
    "valid_loader = DataLoader(valid_dataset, batch_size=CFG.batch_size, shuffle=True,\n",
    "                          num_workers=CFG.num_workers, pin_memory=True, drop_last=True)"
   ]
  },
  {
   "cell_type": "markdown",
   "id": "8f1ed82d",
   "metadata": {},
   "source": [
    "# Model"
   ]
  },
  {
   "cell_type": "code",
   "execution_count": 80,
   "id": "64f13540",
   "metadata": {},
   "outputs": [
    {
     "data": {
      "text/plain": [
       "ResNet_simple(\n",
       "  (conv1): Conv2d(3, 16, kernel_size=(3, 3), stride=(1, 1), padding=(1, 1), bias=False)\n",
       "  (bn1): BatchNorm2d(16, eps=1e-05, momentum=0.1, affine=True, track_running_stats=True)\n",
       "  (layer1): Sequential(\n",
       "    (0): BasicBlock(\n",
       "      (conv1): Conv2d(16, 16, kernel_size=(3, 3), stride=(1, 1), padding=(1, 1), bias=False)\n",
       "      (bn1): BatchNorm2d(16, eps=1e-05, momentum=0.1, affine=True, track_running_stats=True)\n",
       "      (conv2): Conv2d(16, 16, kernel_size=(3, 3), stride=(1, 1), padding=(1, 1), bias=False)\n",
       "      (bn2): BatchNorm2d(16, eps=1e-05, momentum=0.1, affine=True, track_running_stats=True)\n",
       "      (shortcut): Sequential()\n",
       "    )\n",
       "    (1): BasicBlock(\n",
       "      (conv1): Conv2d(16, 16, kernel_size=(3, 3), stride=(1, 1), padding=(1, 1), bias=False)\n",
       "      (bn1): BatchNorm2d(16, eps=1e-05, momentum=0.1, affine=True, track_running_stats=True)\n",
       "      (conv2): Conv2d(16, 16, kernel_size=(3, 3), stride=(1, 1), padding=(1, 1), bias=False)\n",
       "      (bn2): BatchNorm2d(16, eps=1e-05, momentum=0.1, affine=True, track_running_stats=True)\n",
       "      (shortcut): Sequential()\n",
       "    )\n",
       "    (2): BasicBlock(\n",
       "      (conv1): Conv2d(16, 16, kernel_size=(3, 3), stride=(1, 1), padding=(1, 1), bias=False)\n",
       "      (bn1): BatchNorm2d(16, eps=1e-05, momentum=0.1, affine=True, track_running_stats=True)\n",
       "      (conv2): Conv2d(16, 16, kernel_size=(3, 3), stride=(1, 1), padding=(1, 1), bias=False)\n",
       "      (bn2): BatchNorm2d(16, eps=1e-05, momentum=0.1, affine=True, track_running_stats=True)\n",
       "      (shortcut): Sequential()\n",
       "    )\n",
       "  )\n",
       "  (layer2): Sequential(\n",
       "    (0): BasicBlock(\n",
       "      (conv1): Conv2d(16, 32, kernel_size=(3, 3), stride=(2, 2), padding=(1, 1), bias=False)\n",
       "      (bn1): BatchNorm2d(32, eps=1e-05, momentum=0.1, affine=True, track_running_stats=True)\n",
       "      (conv2): Conv2d(32, 32, kernel_size=(3, 3), stride=(1, 1), padding=(1, 1), bias=False)\n",
       "      (bn2): BatchNorm2d(32, eps=1e-05, momentum=0.1, affine=True, track_running_stats=True)\n",
       "      (shortcut): Sequential(\n",
       "        (0): Conv2d(16, 32, kernel_size=(1, 1), stride=(2, 2), bias=False)\n",
       "        (1): BatchNorm2d(32, eps=1e-05, momentum=0.1, affine=True, track_running_stats=True)\n",
       "      )\n",
       "    )\n",
       "    (1): BasicBlock(\n",
       "      (conv1): Conv2d(32, 32, kernel_size=(3, 3), stride=(1, 1), padding=(1, 1), bias=False)\n",
       "      (bn1): BatchNorm2d(32, eps=1e-05, momentum=0.1, affine=True, track_running_stats=True)\n",
       "      (conv2): Conv2d(32, 32, kernel_size=(3, 3), stride=(1, 1), padding=(1, 1), bias=False)\n",
       "      (bn2): BatchNorm2d(32, eps=1e-05, momentum=0.1, affine=True, track_running_stats=True)\n",
       "      (shortcut): Sequential()\n",
       "    )\n",
       "    (2): BasicBlock(\n",
       "      (conv1): Conv2d(32, 32, kernel_size=(3, 3), stride=(1, 1), padding=(1, 1), bias=False)\n",
       "      (bn1): BatchNorm2d(32, eps=1e-05, momentum=0.1, affine=True, track_running_stats=True)\n",
       "      (conv2): Conv2d(32, 32, kernel_size=(3, 3), stride=(1, 1), padding=(1, 1), bias=False)\n",
       "      (bn2): BatchNorm2d(32, eps=1e-05, momentum=0.1, affine=True, track_running_stats=True)\n",
       "      (shortcut): Sequential()\n",
       "    )\n",
       "  )\n",
       "  (layer3): Sequential(\n",
       "    (0): BasicBlock(\n",
       "      (conv1): Conv2d(32, 64, kernel_size=(3, 3), stride=(2, 2), padding=(1, 1), bias=False)\n",
       "      (bn1): BatchNorm2d(64, eps=1e-05, momentum=0.1, affine=True, track_running_stats=True)\n",
       "      (conv2): Conv2d(64, 64, kernel_size=(3, 3), stride=(1, 1), padding=(1, 1), bias=False)\n",
       "      (bn2): BatchNorm2d(64, eps=1e-05, momentum=0.1, affine=True, track_running_stats=True)\n",
       "      (shortcut): Sequential(\n",
       "        (0): Conv2d(32, 64, kernel_size=(1, 1), stride=(2, 2), bias=False)\n",
       "        (1): BatchNorm2d(64, eps=1e-05, momentum=0.1, affine=True, track_running_stats=True)\n",
       "      )\n",
       "    )\n",
       "    (1): BasicBlock(\n",
       "      (conv1): Conv2d(64, 64, kernel_size=(3, 3), stride=(1, 1), padding=(1, 1), bias=False)\n",
       "      (bn1): BatchNorm2d(64, eps=1e-05, momentum=0.1, affine=True, track_running_stats=True)\n",
       "      (conv2): Conv2d(64, 64, kernel_size=(3, 3), stride=(1, 1), padding=(1, 1), bias=False)\n",
       "      (bn2): BatchNorm2d(64, eps=1e-05, momentum=0.1, affine=True, track_running_stats=True)\n",
       "      (shortcut): Sequential()\n",
       "    )\n",
       "    (2): BasicBlock(\n",
       "      (conv1): Conv2d(64, 64, kernel_size=(3, 3), stride=(1, 1), padding=(1, 1), bias=False)\n",
       "      (bn1): BatchNorm2d(64, eps=1e-05, momentum=0.1, affine=True, track_running_stats=True)\n",
       "      (conv2): Conv2d(64, 64, kernel_size=(3, 3), stride=(1, 1), padding=(1, 1), bias=False)\n",
       "      (bn2): BatchNorm2d(64, eps=1e-05, momentum=0.1, affine=True, track_running_stats=True)\n",
       "      (shortcut): Sequential()\n",
       "    )\n",
       "  )\n",
       "  (linear): Linear(in_features=64, out_features=10, bias=True)\n",
       ")"
      ]
     },
     "execution_count": 80,
     "metadata": {},
     "output_type": "execute_result"
    }
   ],
   "source": [
    "teacher_model = ResNet56()\n",
    "student_model = ResNet20()\n",
    "\n",
    "teacher_model.to(device)\n",
    "student_model.to(device)"
   ]
  },
  {
   "cell_type": "code",
   "execution_count": 87,
   "id": "01cf3e5f",
   "metadata": {},
   "outputs": [
    {
     "data": {
      "text/plain": [
       "<All keys matched successfully>"
      ]
     },
     "execution_count": 87,
     "metadata": {},
     "output_type": "execute_result"
    }
   ],
   "source": [
    "teacher_model.load_state_dict(torch.load(\"./last_model_resnet20.pt\"))"
   ]
  },
  {
   "cell_type": "markdown",
   "id": "b5d91032",
   "metadata": {},
   "source": [
    "# Helper Functions"
   ]
  },
  {
   "cell_type": "code",
   "execution_count": 68,
   "id": "81392bdc",
   "metadata": {},
   "outputs": [],
   "source": [
    "class AverageMeter(object):\n",
    "    \"\"\"Computes and stores the average and current value\"\"\"\n",
    "    def __init__(self):\n",
    "        self.reset()\n",
    "\n",
    "    def reset(self):\n",
    "        self.val = 0\n",
    "        self.avg = 0\n",
    "        self.sum = 0\n",
    "        self.count = 0\n",
    "\n",
    "    def update(self, val, n=1):\n",
    "        self.val = val\n",
    "        self.sum += val * n\n",
    "        self.count += n\n",
    "        self.avg = self.sum / self.count\n",
    "\n",
    "def get_score(y_true, y_pred):\n",
    "    return accuracy_score(y_true, y_pred)"
   ]
  },
  {
   "cell_type": "markdown",
   "id": "2cd7fcc2",
   "metadata": {},
   "source": [
    "# Paraphraser"
   ]
  },
  {
   "cell_type": "code",
   "execution_count": 69,
   "id": "3a2073bc",
   "metadata": {},
   "outputs": [
    {
     "data": {
      "text/plain": [
       "Paraphraser(\n",
       "  (leakyrelu): LeakyReLU(negative_slope=0.1)\n",
       "  (conv0): Conv2d(64, 64, kernel_size=(3, 3), stride=(1, 1), padding=(1, 1))\n",
       "  (conv1): Conv2d(64, 32, kernel_size=(3, 3), stride=(1, 1), padding=(1, 1))\n",
       "  (conv2): Conv2d(32, 32, kernel_size=(3, 3), stride=(1, 1), padding=(1, 1))\n",
       "  (deconv0): ConvTranspose2d(32, 32, kernel_size=(3, 3), stride=(1, 1), padding=(1, 1))\n",
       "  (deconv1): ConvTranspose2d(32, 64, kernel_size=(3, 3), stride=(1, 1), padding=(1, 1))\n",
       "  (deconv2): ConvTranspose2d(64, 64, kernel_size=(3, 3), stride=(1, 1), padding=(1, 1))\n",
       ")"
      ]
     },
     "execution_count": 69,
     "metadata": {},
     "output_type": "execute_result"
    }
   ],
   "source": [
    "paraphraser = Paraphraser(64, int(64*CFG.rate))\n",
    "paraphraser.to(device)"
   ]
  },
  {
   "cell_type": "code",
   "execution_count": 70,
   "id": "0b7d1a37",
   "metadata": {},
   "outputs": [
    {
     "data": {
      "text/plain": [
       "<All keys matched successfully>"
      ]
     },
     "execution_count": 70,
     "metadata": {},
     "output_type": "execute_result"
    }
   ],
   "source": [
    "paraphraser.load_state_dict(torch.load('./paraphraser_resnet56_2.pt'))"
   ]
  },
  {
   "cell_type": "markdown",
   "id": "946e77e1",
   "metadata": {},
   "source": [
    "# Translator"
   ]
  },
  {
   "cell_type": "code",
   "execution_count": 71,
   "id": "ba5ac909",
   "metadata": {},
   "outputs": [
    {
     "data": {
      "text/plain": [
       "Translator(\n",
       "  (leakyrelu): LeakyReLU(negative_slope=0.1)\n",
       "  (conv0): Conv2d(64, 64, kernel_size=(3, 3), stride=(1, 1), padding=(1, 1))\n",
       "  (conv1): Conv2d(64, 32, kernel_size=(3, 3), stride=(1, 1), padding=(1, 1))\n",
       "  (conv2): Conv2d(32, 32, kernel_size=(3, 3), stride=(1, 1), padding=(1, 1))\n",
       ")"
      ]
     },
     "execution_count": 71,
     "metadata": {},
     "output_type": "execute_result"
    }
   ],
   "source": [
    "translator = Translator(64, int(64*CFG.rate))\n",
    "translator.to(device)"
   ]
  },
  {
   "cell_type": "markdown",
   "id": "5ecd4d86",
   "metadata": {},
   "source": [
    "# Loss Function"
   ]
  },
  {
   "cell_type": "code",
   "execution_count": 72,
   "id": "58e34727",
   "metadata": {},
   "outputs": [],
   "source": [
    "ft_loss = FTLoss(CFG.beta, nn.L1Loss(), nn.CrossEntropyLoss())"
   ]
  },
  {
   "cell_type": "markdown",
   "id": "9d54e19f",
   "metadata": {},
   "source": [
    "# Training"
   ]
  },
  {
   "cell_type": "code",
   "execution_count": 73,
   "id": "bb84b303",
   "metadata": {},
   "outputs": [],
   "source": [
    "def train_fn(train_loader, teacher_model, student_model, paraphraser, translator, criterion, epoch, optimizer, optimizer_translator, device):\n",
    "    \"\"\"\n",
    "    Training a single epoch\n",
    "    \"\"\"\n",
    "    batch_time = AverageMeter()\n",
    "    data_time = AverageMeter()\n",
    "    losses = AverageMeter()\n",
    "\n",
    "    teacher_model.eval()\n",
    "    paraphraser.eval()\n",
    "    student_model.train()\n",
    "    translator.train()\n",
    "    \n",
    "    \n",
    "    start = end = time.time()\n",
    "    for step, (images, labels) in tqdm(enumerate(train_loader), total = len(train_loader)):\n",
    "        data_time.update(time.time() - end)\n",
    "        images = images.to(device, dtype=torch.float)\n",
    "        labels = labels.to(device, dtype=torch.long)\n",
    "        batch_size = labels.size(0)\n",
    "\n",
    "        outputs_teacher = teacher_model(images)\n",
    "        outputs_student = student_model(images)\n",
    "\n",
    "        factor_teacher = paraphraser(outputs_teacher[2],1)\n",
    "        factor_student = translator(outputs_student[2])\n",
    "        \n",
    "        loss = criterion(factor_teacher, factor_student, outputs_student[3], labels)\n",
    "        \n",
    "        losses.update(loss.item(), batch_size)\n",
    "\n",
    "        loss.backward()\n",
    "        \n",
    "        optimizer.step()\n",
    "        optimizer_translator.step()\n",
    "        optimizer.zero_grad()\n",
    "        optimizer_translator.zero_grad()\n",
    "        \n",
    "        batch_time.update(time.time() - end)\n",
    "        end = time.time()\n",
    "\n",
    "    return losses.avg"
   ]
  },
  {
   "cell_type": "code",
   "execution_count": 74,
   "id": "8dd91348",
   "metadata": {},
   "outputs": [],
   "source": [
    "def valid_fn(test_loader, teacher_model, student_model, paraphraser, translator, criterion, epoch, optimizer, optimizer_translator, device):\n",
    "    \"\"\"\n",
    "    Validate after training an epoch\n",
    "    \"\"\"\n",
    "    batch_time = AverageMeter()\n",
    "    data_time = AverageMeter()\n",
    "    losses = AverageMeter()\n",
    "\n",
    "    teacher_model.eval()\n",
    "    paraphraser.eval()\n",
    "    student_model.eval()\n",
    "    translator.eval()\n",
    "    \n",
    "    start = end = time.time()\n",
    "    preds = []\n",
    "    valid_labels = []\n",
    "    for step, (images, labels) in tqdm(enumerate(test_loader), total = len(test_loader)):\n",
    "        data_time.update(time.time() - end)\n",
    "        images = images.to(device, dtype=torch.float)\n",
    "        labels = labels.to(device, dtype=torch.long)\n",
    "        batch_size = labels.size(0)\n",
    "\n",
    "        with torch.no_grad():\n",
    "            outputs_teacher = teacher_model(images)\n",
    "            outputs_student = student_model(images)\n",
    "\n",
    "            factor_teacher = paraphraser(outputs_teacher[2],1)\n",
    "            factor_student = translator(outputs_student[2])\n",
    "        \n",
    "        loss = criterion(factor_teacher, factor_student, outputs_student[3], labels)\n",
    "\n",
    "        losses.update(loss.item(), batch_size)\n",
    "\n",
    "        preds.append(outputs_student[3].softmax(1).to('cpu').numpy())\n",
    "        valid_labels.append(labels.to('cpu').numpy())\n",
    "        \n",
    "        batch_time.update(time.time() - end)\n",
    "        end = time.time()\n",
    "\n",
    "    predictions = np.concatenate(preds)\n",
    "    valid_labels = np.concatenate(valid_labels)\n",
    "    \n",
    "    score = get_score(valid_labels, predictions.argmax(1))\n",
    "    \n",
    "    return losses.avg, score"
   ]
  },
  {
   "cell_type": "code",
   "execution_count": 75,
   "id": "e6f20612",
   "metadata": {},
   "outputs": [],
   "source": [
    "optimizer = SGD(student_model.parameters(), lr=CFG.lr, momentum=0.9, weight_decay=CFG.weight_decay)\n",
    "scheduler = MultiStepLR(optimizer, milestones=CFG.milestones, gamma=CFG.gamma)\n",
    "optimizer_translator = SGD(translator.parameters(), CFG.lr, momentum=0.9, weight_decay=CFG.weight_decay)\n",
    "scheduler_translator = MultiStepLR(optimizer_translator, milestones=CFG.milestones, gamma=CFG.gamma)"
   ]
  },
  {
   "cell_type": "code",
   "execution_count": 33,
   "id": "5b5ed8c7",
   "metadata": {},
   "outputs": [
    {
     "name": "stderr",
     "output_type": "stream",
     "text": [
      "100%|█████████████████████████████████████████████████████████████████████████████████████████████████████████████████████| 351/351 [00:23<00:00, 14.91it/s]\n",
      "100%|███████████████████████████████████████████████████████████████████████████████████████████████████████████████████████| 39/39 [00:01<00:00, 22.75it/s]"
     ]
    },
    {
     "name": "stdout",
     "output_type": "stream",
     "text": [
      "Adjusting learning rate of group 0 to 1.0000e-01.\n",
      "Adjusting learning rate of group 0 to 1.0000e-01.\n",
      "Epoch 1\n",
      "Accuracy: 0.4699519230769231 | Train loss: 7.390990709647154 | Valid loss: 7.280364268865341\n",
      "YES\n"
     ]
    },
    {
     "name": "stderr",
     "output_type": "stream",
     "text": [
      "\n",
      "100%|█████████████████████████████████████████████████████████████████████████████████████████████████████████████████████| 351/351 [00:22<00:00, 15.81it/s]\n",
      "100%|███████████████████████████████████████████████████████████████████████████████████████████████████████████████████████| 39/39 [00:01<00:00, 28.72it/s]"
     ]
    },
    {
     "name": "stdout",
     "output_type": "stream",
     "text": [
      "Adjusting learning rate of group 0 to 1.0000e-01.\n",
      "Adjusting learning rate of group 0 to 1.0000e-01.\n",
      "Epoch 2\n",
      "Accuracy: 0.633613782051282 | Train loss: 6.661586329468295 | Valid loss: 6.181974838941525\n",
      "YES\n"
     ]
    },
    {
     "name": "stderr",
     "output_type": "stream",
     "text": [
      "\n",
      "100%|█████████████████████████████████████████████████████████████████████████████████████████████████████████████████████| 351/351 [00:21<00:00, 16.60it/s]\n",
      "100%|███████████████████████████████████████████████████████████████████████████████████████████████████████████████████████| 39/39 [00:01<00:00, 23.21it/s]"
     ]
    },
    {
     "name": "stdout",
     "output_type": "stream",
     "text": [
      "Adjusting learning rate of group 0 to 1.0000e-01.\n",
      "Adjusting learning rate of group 0 to 1.0000e-01.\n",
      "Epoch 3\n",
      "Accuracy: 0.7235576923076923 | Train loss: 5.566221349938982 | Valid loss: 4.934780695499518\n",
      "YES\n"
     ]
    },
    {
     "name": "stderr",
     "output_type": "stream",
     "text": [
      "\n",
      "100%|█████████████████████████████████████████████████████████████████████████████████████████████████████████████████████| 351/351 [00:22<00:00, 15.49it/s]\n",
      "100%|███████████████████████████████████████████████████████████████████████████████████████████████████████████████████████| 39/39 [00:01<00:00, 27.13it/s]"
     ]
    },
    {
     "name": "stdout",
     "output_type": "stream",
     "text": [
      "Adjusting learning rate of group 0 to 1.0000e-01.\n",
      "Adjusting learning rate of group 0 to 1.0000e-01.\n",
      "Epoch 4\n",
      "Accuracy: 0.7433894230769231 | Train loss: 4.6200520537178065 | Valid loss: 4.583525278629401\n",
      "YES\n"
     ]
    },
    {
     "name": "stderr",
     "output_type": "stream",
     "text": [
      "\n",
      "100%|█████████████████████████████████████████████████████████████████████████████████████████████████████████████████████| 351/351 [00:23<00:00, 15.24it/s]\n",
      "100%|███████████████████████████████████████████████████████████████████████████████████████████████████████████████████████| 39/39 [00:01<00:00, 29.83it/s]"
     ]
    },
    {
     "name": "stdout",
     "output_type": "stream",
     "text": [
      "Adjusting learning rate of group 0 to 1.0000e-01.\n",
      "Adjusting learning rate of group 0 to 1.0000e-01.\n",
      "Epoch 5\n",
      "Accuracy: 0.782051282051282 | Train loss: 4.177750759314947 | Valid loss: 4.205705978931525\n",
      "YES\n"
     ]
    },
    {
     "name": "stderr",
     "output_type": "stream",
     "text": [
      "\n",
      "100%|█████████████████████████████████████████████████████████████████████████████████████████████████████████████████████| 351/351 [00:22<00:00, 15.68it/s]\n",
      "100%|███████████████████████████████████████████████████████████████████████████████████████████████████████████████████████| 39/39 [00:01<00:00, 28.43it/s]"
     ]
    },
    {
     "name": "stdout",
     "output_type": "stream",
     "text": [
      "Adjusting learning rate of group 0 to 1.0000e-01.\n",
      "Adjusting learning rate of group 0 to 1.0000e-01.\n",
      "Epoch 6\n",
      "Accuracy: 0.8094951923076923 | Train loss: 3.949223788035901 | Valid loss: 3.94917422074538\n",
      "YES\n"
     ]
    },
    {
     "name": "stderr",
     "output_type": "stream",
     "text": [
      "\n",
      "100%|█████████████████████████████████████████████████████████████████████████████████████████████████████████████████████| 351/351 [00:21<00:00, 16.08it/s]\n",
      "100%|███████████████████████████████████████████████████████████████████████████████████████████████████████████████████████| 39/39 [00:01<00:00, 25.45it/s]"
     ]
    },
    {
     "name": "stdout",
     "output_type": "stream",
     "text": [
      "Adjusting learning rate of group 0 to 1.0000e-01.\n",
      "Adjusting learning rate of group 0 to 1.0000e-01.\n",
      "Epoch 7\n",
      "Accuracy: 0.7928685897435898 | Train loss: 3.7893247237572303 | Valid loss: 3.9554445254497037\n"
     ]
    },
    {
     "name": "stderr",
     "output_type": "stream",
     "text": [
      "\n",
      "100%|█████████████████████████████████████████████████████████████████████████████████████████████████████████████████████| 351/351 [00:22<00:00, 15.88it/s]\n",
      "100%|███████████████████████████████████████████████████████████████████████████████████████████████████████████████████████| 39/39 [00:01<00:00, 29.46it/s]"
     ]
    },
    {
     "name": "stdout",
     "output_type": "stream",
     "text": [
      "Adjusting learning rate of group 0 to 1.0000e-01.\n",
      "Adjusting learning rate of group 0 to 1.0000e-01.\n",
      "Epoch 8\n",
      "Accuracy: 0.8000801282051282 | Train loss: 3.68197453191817 | Valid loss: 3.8814158256237326\n"
     ]
    },
    {
     "name": "stderr",
     "output_type": "stream",
     "text": [
      "\n",
      "100%|█████████████████████████████████████████████████████████████████████████████████████████████████████████████████████| 351/351 [00:22<00:00, 15.93it/s]\n",
      "100%|███████████████████████████████████████████████████████████████████████████████████████████████████████████████████████| 39/39 [00:01<00:00, 29.55it/s]"
     ]
    },
    {
     "name": "stdout",
     "output_type": "stream",
     "text": [
      "Adjusting learning rate of group 0 to 1.0000e-01.\n",
      "Adjusting learning rate of group 0 to 1.0000e-01.\n",
      "Epoch 9\n",
      "Accuracy: 0.8361378205128205 | Train loss: 3.597741146033306 | Valid loss: 3.74452988918011\n",
      "YES\n"
     ]
    },
    {
     "name": "stderr",
     "output_type": "stream",
     "text": [
      "\n",
      "100%|█████████████████████████████████████████████████████████████████████████████████████████████████████████████████████| 351/351 [00:21<00:00, 16.25it/s]\n",
      "100%|███████████████████████████████████████████████████████████████████████████████████████████████████████████████████████| 39/39 [00:01<00:00, 27.95it/s]"
     ]
    },
    {
     "name": "stdout",
     "output_type": "stream",
     "text": [
      "Adjusting learning rate of group 0 to 1.0000e-01.\n",
      "Adjusting learning rate of group 0 to 1.0000e-01.\n",
      "Epoch 10\n",
      "Accuracy: 0.8215144230769231 | Train loss: 3.5134667698134723 | Valid loss: 3.878099514887883\n"
     ]
    },
    {
     "name": "stderr",
     "output_type": "stream",
     "text": [
      "\n",
      "100%|█████████████████████████████████████████████████████████████████████████████████████████████████████████████████████| 351/351 [00:22<00:00, 15.78it/s]\n",
      "100%|███████████████████████████████████████████████████████████████████████████████████████████████████████████████████████| 39/39 [00:01<00:00, 29.32it/s]"
     ]
    },
    {
     "name": "stdout",
     "output_type": "stream",
     "text": [
      "Adjusting learning rate of group 0 to 1.0000e-01.\n",
      "Adjusting learning rate of group 0 to 1.0000e-01.\n",
      "Epoch 11\n",
      "Accuracy: 0.84375 | Train loss: 3.4736819246895294 | Valid loss: 3.6032372621389537\n",
      "YES\n"
     ]
    },
    {
     "name": "stderr",
     "output_type": "stream",
     "text": [
      "\n",
      "100%|█████████████████████████████████████████████████████████████████████████████████████████████████████████████████████| 351/351 [00:21<00:00, 16.14it/s]\n",
      "100%|███████████████████████████████████████████████████████████████████████████████████████████████████████████████████████| 39/39 [00:01<00:00, 26.91it/s]"
     ]
    },
    {
     "name": "stdout",
     "output_type": "stream",
     "text": [
      "Adjusting learning rate of group 0 to 1.0000e-01.\n",
      "Adjusting learning rate of group 0 to 1.0000e-01.\n",
      "Epoch 12\n",
      "Accuracy: 0.8349358974358975 | Train loss: 3.4102571540408664 | Valid loss: 3.6205785396771555\n"
     ]
    },
    {
     "name": "stderr",
     "output_type": "stream",
     "text": [
      "\n",
      "100%|█████████████████████████████████████████████████████████████████████████████████████████████████████████████████████| 351/351 [00:23<00:00, 15.08it/s]\n",
      "100%|███████████████████████████████████████████████████████████████████████████████████████████████████████████████████████| 39/39 [00:01<00:00, 28.59it/s]"
     ]
    },
    {
     "name": "stdout",
     "output_type": "stream",
     "text": [
      "Adjusting learning rate of group 0 to 1.0000e-01.\n",
      "Adjusting learning rate of group 0 to 1.0000e-01.\n",
      "Epoch 13\n",
      "Accuracy: 0.8467548076923077 | Train loss: 3.3750217653747296 | Valid loss: 3.5409330465854745\n",
      "YES\n"
     ]
    },
    {
     "name": "stderr",
     "output_type": "stream",
     "text": [
      "\n",
      "100%|█████████████████████████████████████████████████████████████████████████████████████████████████████████████████████| 351/351 [00:23<00:00, 15.25it/s]\n",
      "100%|███████████████████████████████████████████████████████████████████████████████████████████████████████████████████████| 39/39 [00:01<00:00, 30.13it/s]"
     ]
    },
    {
     "name": "stdout",
     "output_type": "stream",
     "text": [
      "Adjusting learning rate of group 0 to 1.0000e-01.\n",
      "Adjusting learning rate of group 0 to 1.0000e-01.\n",
      "Epoch 14\n",
      "Accuracy: 0.8733974358974359 | Train loss: 3.342791554594991 | Valid loss: 3.323281862796881\n",
      "YES\n"
     ]
    },
    {
     "name": "stderr",
     "output_type": "stream",
     "text": [
      "\n",
      "100%|█████████████████████████████████████████████████████████████████████████████████████████████████████████████████████| 351/351 [00:22<00:00, 15.60it/s]\n",
      "100%|███████████████████████████████████████████████████████████████████████████████████████████████████████████████████████| 39/39 [00:01<00:00, 29.68it/s]"
     ]
    },
    {
     "name": "stdout",
     "output_type": "stream",
     "text": [
      "Adjusting learning rate of group 0 to 1.0000e-01.\n",
      "Adjusting learning rate of group 0 to 1.0000e-01.\n",
      "Epoch 15\n",
      "Accuracy: 0.8421474358974359 | Train loss: 3.30203607415202 | Valid loss: 3.514197160036136\n"
     ]
    },
    {
     "name": "stderr",
     "output_type": "stream",
     "text": [
      "\n",
      "100%|█████████████████████████████████████████████████████████████████████████████████████████████████████████████████████| 351/351 [00:22<00:00, 15.41it/s]\n",
      "100%|███████████████████████████████████████████████████████████████████████████████████████████████████████████████████████| 39/39 [00:01<00:00, 24.06it/s]"
     ]
    },
    {
     "name": "stdout",
     "output_type": "stream",
     "text": [
      "Adjusting learning rate of group 0 to 1.0000e-01.\n",
      "Adjusting learning rate of group 0 to 1.0000e-01.\n",
      "Epoch 16\n",
      "Accuracy: 0.8659855769230769 | Train loss: 3.268718861446761 | Valid loss: 3.341474698140071\n"
     ]
    },
    {
     "name": "stderr",
     "output_type": "stream",
     "text": [
      "\n",
      "100%|█████████████████████████████████████████████████████████████████████████████████████████████████████████████████████| 351/351 [00:22<00:00, 15.66it/s]\n",
      "100%|███████████████████████████████████████████████████████████████████████████████████████████████████████████████████████| 39/39 [00:01<00:00, 25.63it/s]"
     ]
    },
    {
     "name": "stdout",
     "output_type": "stream",
     "text": [
      "Adjusting learning rate of group 0 to 1.0000e-01.\n",
      "Adjusting learning rate of group 0 to 1.0000e-01.\n",
      "Epoch 17\n",
      "Accuracy: 0.8764022435897436 | Train loss: 3.245379189140776 | Valid loss: 3.255539215528048\n",
      "YES\n"
     ]
    },
    {
     "name": "stderr",
     "output_type": "stream",
     "text": [
      "\n",
      "100%|█████████████████████████████████████████████████████████████████████████████████████████████████████████████████████| 351/351 [00:23<00:00, 15.20it/s]\n",
      "100%|███████████████████████████████████████████████████████████████████████████████████████████████████████████████████████| 39/39 [00:01<00:00, 29.86it/s]"
     ]
    },
    {
     "name": "stdout",
     "output_type": "stream",
     "text": [
      "Adjusting learning rate of group 0 to 1.0000e-01.\n",
      "Adjusting learning rate of group 0 to 1.0000e-01.\n",
      "Epoch 18\n",
      "Accuracy: 0.8685897435897436 | Train loss: 3.228335266439324 | Valid loss: 3.37662079395392\n"
     ]
    },
    {
     "name": "stderr",
     "output_type": "stream",
     "text": [
      "\n",
      "100%|█████████████████████████████████████████████████████████████████████████████████████████████████████████████████████| 351/351 [00:22<00:00, 15.67it/s]\n",
      "100%|███████████████████████████████████████████████████████████████████████████████████████████████████████████████████████| 39/39 [00:01<00:00, 28.47it/s]"
     ]
    },
    {
     "name": "stdout",
     "output_type": "stream",
     "text": [
      "Adjusting learning rate of group 0 to 1.0000e-01.\n",
      "Adjusting learning rate of group 0 to 1.0000e-01.\n",
      "Epoch 19\n",
      "Accuracy: 0.8747996794871795 | Train loss: 3.2050220551993434 | Valid loss: 3.2661482248550806\n"
     ]
    },
    {
     "name": "stderr",
     "output_type": "stream",
     "text": [
      "\n",
      "100%|█████████████████████████████████████████████████████████████████████████████████████████████████████████████████████| 351/351 [00:21<00:00, 16.01it/s]\n",
      "100%|███████████████████████████████████████████████████████████████████████████████████████████████████████████████████████| 39/39 [00:01<00:00, 25.86it/s]"
     ]
    },
    {
     "name": "stdout",
     "output_type": "stream",
     "text": [
      "Adjusting learning rate of group 0 to 1.0000e-01.\n",
      "Adjusting learning rate of group 0 to 1.0000e-01.\n",
      "Epoch 20\n",
      "Accuracy: 0.8681891025641025 | Train loss: 3.199141604947908 | Valid loss: 3.3682440488766403\n"
     ]
    },
    {
     "name": "stderr",
     "output_type": "stream",
     "text": [
      "\n",
      "100%|█████████████████████████████████████████████████████████████████████████████████████████████████████████████████████| 351/351 [00:22<00:00, 15.52it/s]\n",
      "100%|███████████████████████████████████████████████████████████████████████████████████████████████████████████████████████| 39/39 [00:01<00:00, 29.16it/s]"
     ]
    },
    {
     "name": "stdout",
     "output_type": "stream",
     "text": [
      "Adjusting learning rate of group 0 to 1.0000e-01.\n",
      "Adjusting learning rate of group 0 to 1.0000e-01.\n",
      "Epoch 21\n",
      "Accuracy: 0.8551682692307693 | Train loss: 3.1766202741878327 | Valid loss: 3.452220672216171\n"
     ]
    },
    {
     "name": "stderr",
     "output_type": "stream",
     "text": [
      "\n",
      "100%|█████████████████████████████████████████████████████████████████████████████████████████████████████████████████████| 351/351 [00:21<00:00, 16.26it/s]\n",
      "100%|███████████████████████████████████████████████████████████████████████████████████████████████████████████████████████| 39/39 [00:01<00:00, 29.66it/s]"
     ]
    },
    {
     "name": "stdout",
     "output_type": "stream",
     "text": [
      "Adjusting learning rate of group 0 to 1.0000e-01.\n",
      "Adjusting learning rate of group 0 to 1.0000e-01.\n",
      "Epoch 22\n",
      "Accuracy: 0.8337339743589743 | Train loss: 3.177727329085695 | Valid loss: 3.5293099880218506\n"
     ]
    },
    {
     "name": "stderr",
     "output_type": "stream",
     "text": [
      "\n",
      "100%|█████████████████████████████████████████████████████████████████████████████████████████████████████████████████████| 351/351 [00:22<00:00, 15.42it/s]\n",
      "100%|███████████████████████████████████████████████████████████████████████████████████████████████████████████████████████| 39/39 [00:01<00:00, 30.23it/s]"
     ]
    },
    {
     "name": "stdout",
     "output_type": "stream",
     "text": [
      "Adjusting learning rate of group 0 to 1.0000e-01.\n",
      "Adjusting learning rate of group 0 to 1.0000e-01.\n",
      "Epoch 23\n",
      "Accuracy: 0.8768028846153846 | Train loss: 3.1534176266770757 | Valid loss: 3.2603040230579867\n",
      "YES\n"
     ]
    },
    {
     "name": "stderr",
     "output_type": "stream",
     "text": [
      "\n",
      "100%|█████████████████████████████████████████████████████████████████████████████████████████████████████████████████████| 351/351 [00:23<00:00, 15.00it/s]\n",
      "100%|███████████████████████████████████████████████████████████████████████████████████████████████████████████████████████| 39/39 [00:01<00:00, 26.64it/s]"
     ]
    },
    {
     "name": "stdout",
     "output_type": "stream",
     "text": [
      "Adjusting learning rate of group 0 to 1.0000e-01.\n",
      "Adjusting learning rate of group 0 to 1.0000e-01.\n",
      "Epoch 24\n",
      "Accuracy: 0.8651842948717948 | Train loss: 3.1502497114686885 | Valid loss: 3.441315559240488\n"
     ]
    },
    {
     "name": "stderr",
     "output_type": "stream",
     "text": [
      "\n",
      "100%|█████████████████████████████████████████████████████████████████████████████████████████████████████████████████████| 351/351 [00:22<00:00, 15.78it/s]\n",
      "100%|███████████████████████████████████████████████████████████████████████████████████████████████████████████████████████| 39/39 [00:01<00:00, 30.15it/s]"
     ]
    },
    {
     "name": "stdout",
     "output_type": "stream",
     "text": [
      "Adjusting learning rate of group 0 to 1.0000e-01.\n",
      "Adjusting learning rate of group 0 to 1.0000e-01.\n",
      "Epoch 25\n",
      "Accuracy: 0.8597756410256411 | Train loss: 3.1451204971030906 | Valid loss: 3.4371422743185973\n"
     ]
    },
    {
     "name": "stderr",
     "output_type": "stream",
     "text": [
      "\n",
      "100%|█████████████████████████████████████████████████████████████████████████████████████████████████████████████████████| 351/351 [00:21<00:00, 16.66it/s]\n",
      "100%|███████████████████████████████████████████████████████████████████████████████████████████████████████████████████████| 39/39 [00:01<00:00, 29.26it/s]"
     ]
    },
    {
     "name": "stdout",
     "output_type": "stream",
     "text": [
      "Adjusting learning rate of group 0 to 1.0000e-01.\n",
      "Adjusting learning rate of group 0 to 1.0000e-01.\n",
      "Epoch 26\n",
      "Accuracy: 0.8619791666666666 | Train loss: 3.1266808013970357 | Valid loss: 3.298853868093246\n"
     ]
    },
    {
     "name": "stderr",
     "output_type": "stream",
     "text": [
      "\n",
      "100%|█████████████████████████████████████████████████████████████████████████████████████████████████████████████████████| 351/351 [00:22<00:00, 15.92it/s]\n",
      "100%|███████████████████████████████████████████████████████████████████████████████████████████████████████████████████████| 39/39 [00:01<00:00, 30.78it/s]"
     ]
    },
    {
     "name": "stdout",
     "output_type": "stream",
     "text": [
      "Adjusting learning rate of group 0 to 1.0000e-01.\n",
      "Adjusting learning rate of group 0 to 1.0000e-01.\n",
      "Epoch 27\n",
      "Accuracy: 0.8665865384615384 | Train loss: 3.126254313352101 | Valid loss: 3.254219745978331\n"
     ]
    },
    {
     "name": "stderr",
     "output_type": "stream",
     "text": [
      "\n",
      "100%|█████████████████████████████████████████████████████████████████████████████████████████████████████████████████████| 351/351 [00:23<00:00, 14.83it/s]\n",
      "100%|███████████████████████████████████████████████████████████████████████████████████████████████████████████████████████| 39/39 [00:01<00:00, 22.70it/s]"
     ]
    },
    {
     "name": "stdout",
     "output_type": "stream",
     "text": [
      "Adjusting learning rate of group 0 to 1.0000e-01.\n",
      "Adjusting learning rate of group 0 to 1.0000e-01.\n",
      "Epoch 28\n",
      "Accuracy: 0.8501602564102564 | Train loss: 3.0956794339367466 | Valid loss: 3.465793028855935\n"
     ]
    },
    {
     "name": "stderr",
     "output_type": "stream",
     "text": [
      "\n",
      "100%|█████████████████████████████████████████████████████████████████████████████████████████████████████████████████████| 351/351 [00:22<00:00, 15.28it/s]\n",
      "100%|███████████████████████████████████████████████████████████████████████████████████████████████████████████████████████| 39/39 [00:01<00:00, 28.65it/s]"
     ]
    },
    {
     "name": "stdout",
     "output_type": "stream",
     "text": [
      "Adjusting learning rate of group 0 to 1.0000e-01.\n",
      "Adjusting learning rate of group 0 to 1.0000e-01.\n",
      "Epoch 29\n",
      "Accuracy: 0.8711939102564102 | Train loss: 3.105208603405205 | Valid loss: 3.254004019957322\n"
     ]
    },
    {
     "name": "stderr",
     "output_type": "stream",
     "text": [
      "\n",
      "100%|█████████████████████████████████████████████████████████████████████████████████████████████████████████████████████| 351/351 [00:22<00:00, 15.42it/s]\n",
      "100%|███████████████████████████████████████████████████████████████████████████████████████████████████████████████████████| 39/39 [00:01<00:00, 29.68it/s]"
     ]
    },
    {
     "name": "stdout",
     "output_type": "stream",
     "text": [
      "Adjusting learning rate of group 0 to 1.0000e-01.\n",
      "Adjusting learning rate of group 0 to 1.0000e-01.\n",
      "Epoch 30\n",
      "Accuracy: 0.8745993589743589 | Train loss: 3.093709996622852 | Valid loss: 3.1584295431772866\n"
     ]
    },
    {
     "name": "stderr",
     "output_type": "stream",
     "text": [
      "\n",
      "100%|█████████████████████████████████████████████████████████████████████████████████████████████████████████████████████| 351/351 [00:23<00:00, 15.25it/s]\n",
      "100%|███████████████████████████████████████████████████████████████████████████████████████████████████████████████████████| 39/39 [00:01<00:00, 29.01it/s]"
     ]
    },
    {
     "name": "stdout",
     "output_type": "stream",
     "text": [
      "Adjusting learning rate of group 0 to 1.0000e-01.\n",
      "Adjusting learning rate of group 0 to 1.0000e-01.\n",
      "Epoch 31\n",
      "Accuracy: 0.8607772435897436 | Train loss: 3.0829774022441985 | Valid loss: 3.276045493590526\n"
     ]
    },
    {
     "name": "stderr",
     "output_type": "stream",
     "text": [
      "\n",
      "100%|█████████████████████████████████████████████████████████████████████████████████████████████████████████████████████| 351/351 [00:23<00:00, 15.13it/s]\n",
      "100%|███████████████████████████████████████████████████████████████████████████████████████████████████████████████████████| 39/39 [00:01<00:00, 27.99it/s]"
     ]
    },
    {
     "name": "stdout",
     "output_type": "stream",
     "text": [
      "Adjusting learning rate of group 0 to 1.0000e-01.\n",
      "Adjusting learning rate of group 0 to 1.0000e-01.\n",
      "Epoch 32\n",
      "Accuracy: 0.8305288461538461 | Train loss: 3.0835478774502745 | Valid loss: 3.471337330647004\n"
     ]
    },
    {
     "name": "stderr",
     "output_type": "stream",
     "text": [
      "\n",
      "100%|█████████████████████████████████████████████████████████████████████████████████████████████████████████████████████| 351/351 [00:22<00:00, 15.72it/s]\n",
      "100%|███████████████████████████████████████████████████████████████████████████████████████████████████████████████████████| 39/39 [00:01<00:00, 30.02it/s]"
     ]
    },
    {
     "name": "stdout",
     "output_type": "stream",
     "text": [
      "Adjusting learning rate of group 0 to 1.0000e-01.\n",
      "Adjusting learning rate of group 0 to 1.0000e-01.\n",
      "Epoch 33\n",
      "Accuracy: 0.8804086538461539 | Train loss: 3.0623404538189924 | Valid loss: 3.180692275365194\n",
      "YES\n"
     ]
    },
    {
     "name": "stderr",
     "output_type": "stream",
     "text": [
      "\n",
      "100%|█████████████████████████████████████████████████████████████████████████████████████████████████████████████████████| 351/351 [00:23<00:00, 15.09it/s]\n",
      "100%|███████████████████████████████████████████████████████████████████████████████████████████████████████████████████████| 39/39 [00:01<00:00, 31.87it/s]"
     ]
    },
    {
     "name": "stdout",
     "output_type": "stream",
     "text": [
      "Adjusting learning rate of group 0 to 1.0000e-01.\n",
      "Adjusting learning rate of group 0 to 1.0000e-01.\n",
      "Epoch 34\n",
      "Accuracy: 0.8691907051282052 | Train loss: 3.077300006507808 | Valid loss: 3.3506295742132726\n"
     ]
    },
    {
     "name": "stderr",
     "output_type": "stream",
     "text": [
      "\n",
      "100%|█████████████████████████████████████████████████████████████████████████████████████████████████████████████████████| 351/351 [00:21<00:00, 16.00it/s]\n",
      "100%|███████████████████████████████████████████████████████████████████████████████████████████████████████████████████████| 39/39 [00:01<00:00, 29.92it/s]"
     ]
    },
    {
     "name": "stdout",
     "output_type": "stream",
     "text": [
      "Adjusting learning rate of group 0 to 1.0000e-01.\n",
      "Adjusting learning rate of group 0 to 1.0000e-01.\n",
      "Epoch 35\n",
      "Accuracy: 0.8571714743589743 | Train loss: 3.0759813466303028 | Valid loss: 3.321849083289122\n"
     ]
    },
    {
     "name": "stderr",
     "output_type": "stream",
     "text": [
      "\n",
      "100%|█████████████████████████████████████████████████████████████████████████████████████████████████████████████████████| 351/351 [00:22<00:00, 15.61it/s]\n",
      "100%|███████████████████████████████████████████████████████████████████████████████████████████████████████████████████████| 39/39 [00:01<00:00, 30.99it/s]"
     ]
    },
    {
     "name": "stdout",
     "output_type": "stream",
     "text": [
      "Adjusting learning rate of group 0 to 1.0000e-01.\n",
      "Adjusting learning rate of group 0 to 1.0000e-01.\n",
      "Epoch 36\n",
      "Accuracy: 0.8475560897435898 | Train loss: 3.0536754158487347 | Valid loss: 3.4817910438928847\n"
     ]
    },
    {
     "name": "stderr",
     "output_type": "stream",
     "text": [
      "\n",
      "100%|█████████████████████████████████████████████████████████████████████████████████████████████████████████████████████| 351/351 [00:23<00:00, 15.15it/s]\n",
      "100%|███████████████████████████████████████████████████████████████████████████████████████████████████████████████████████| 39/39 [00:01<00:00, 25.89it/s]"
     ]
    },
    {
     "name": "stdout",
     "output_type": "stream",
     "text": [
      "Adjusting learning rate of group 0 to 1.0000e-01.\n",
      "Adjusting learning rate of group 0 to 1.0000e-01.\n",
      "Epoch 37\n",
      "Accuracy: 0.8832131410256411 | Train loss: 3.050027341924162 | Valid loss: 3.184595450376853\n",
      "YES\n"
     ]
    },
    {
     "name": "stderr",
     "output_type": "stream",
     "text": [
      "\n",
      "100%|█████████████████████████████████████████████████████████████████████████████████████████████████████████████████████| 351/351 [00:22<00:00, 15.43it/s]\n",
      "100%|███████████████████████████████████████████████████████████████████████████████████████████████████████████████████████| 39/39 [00:01<00:00, 31.18it/s]"
     ]
    },
    {
     "name": "stdout",
     "output_type": "stream",
     "text": [
      "Adjusting learning rate of group 0 to 1.0000e-01.\n",
      "Adjusting learning rate of group 0 to 1.0000e-01.\n",
      "Epoch 38\n",
      "Accuracy: 0.8776041666666666 | Train loss: 3.0440630831270137 | Valid loss: 3.117262540719448\n"
     ]
    },
    {
     "name": "stderr",
     "output_type": "stream",
     "text": [
      "\n",
      "100%|█████████████████████████████████████████████████████████████████████████████████████████████████████████████████████| 351/351 [00:22<00:00, 15.69it/s]\n",
      "100%|███████████████████████████████████████████████████████████████████████████████████████████████████████████████████████| 39/39 [00:01<00:00, 29.65it/s]"
     ]
    },
    {
     "name": "stdout",
     "output_type": "stream",
     "text": [
      "Adjusting learning rate of group 0 to 1.0000e-01.\n",
      "Adjusting learning rate of group 0 to 1.0000e-01.\n",
      "Epoch 39\n",
      "Accuracy: 0.8513621794871795 | Train loss: 3.0270585273405763 | Valid loss: 3.439566080386822\n"
     ]
    },
    {
     "name": "stderr",
     "output_type": "stream",
     "text": [
      "\n",
      "100%|█████████████████████████████████████████████████████████████████████████████████████████████████████████████████████| 351/351 [00:21<00:00, 16.11it/s]\n",
      "100%|███████████████████████████████████████████████████████████████████████████████████████████████████████████████████████| 39/39 [00:01<00:00, 30.33it/s]"
     ]
    },
    {
     "name": "stdout",
     "output_type": "stream",
     "text": [
      "Adjusting learning rate of group 0 to 1.0000e-01.\n",
      "Adjusting learning rate of group 0 to 1.0000e-01.\n",
      "Epoch 40\n",
      "Accuracy: 0.8713942307692307 | Train loss: 3.039527104451106 | Valid loss: 3.2408965673202124\n"
     ]
    },
    {
     "name": "stderr",
     "output_type": "stream",
     "text": [
      "\n",
      "100%|█████████████████████████████████████████████████████████████████████████████████████████████████████████████████████| 351/351 [00:22<00:00, 15.82it/s]\n",
      "100%|███████████████████████████████████████████████████████████████████████████████████████████████████████████████████████| 39/39 [00:01<00:00, 31.02it/s]"
     ]
    },
    {
     "name": "stdout",
     "output_type": "stream",
     "text": [
      "Adjusting learning rate of group 0 to 1.0000e-01.\n",
      "Adjusting learning rate of group 0 to 1.0000e-01.\n",
      "Epoch 41\n",
      "Accuracy: 0.8555689102564102 | Train loss: 3.046093982169431 | Valid loss: 3.2745923812572775\n"
     ]
    },
    {
     "name": "stderr",
     "output_type": "stream",
     "text": [
      "\n",
      "100%|█████████████████████████████████████████████████████████████████████████████████████████████████████████████████████| 351/351 [00:19<00:00, 18.42it/s]\n",
      "100%|███████████████████████████████████████████████████████████████████████████████████████████████████████████████████████| 39/39 [00:01<00:00, 31.90it/s]"
     ]
    },
    {
     "name": "stdout",
     "output_type": "stream",
     "text": [
      "Adjusting learning rate of group 0 to 1.0000e-01.\n",
      "Adjusting learning rate of group 0 to 1.0000e-01.\n",
      "Epoch 42\n",
      "Accuracy: 0.8615785256410257 | Train loss: 3.055800960953759 | Valid loss: 3.358007583862696\n"
     ]
    },
    {
     "name": "stderr",
     "output_type": "stream",
     "text": [
      "\n",
      "100%|█████████████████████████████████████████████████████████████████████████████████████████████████████████████████████| 351/351 [00:23<00:00, 15.08it/s]\n",
      "100%|███████████████████████████████████████████████████████████████████████████████████████████████████████████████████████| 39/39 [00:01<00:00, 26.78it/s]"
     ]
    },
    {
     "name": "stdout",
     "output_type": "stream",
     "text": [
      "Adjusting learning rate of group 0 to 1.0000e-01.\n",
      "Adjusting learning rate of group 0 to 1.0000e-01.\n",
      "Epoch 43\n",
      "Accuracy: 0.8655849358974359 | Train loss: 3.0072375892573953 | Valid loss: 3.298757161849584\n"
     ]
    },
    {
     "name": "stderr",
     "output_type": "stream",
     "text": [
      "\n",
      "100%|█████████████████████████████████████████████████████████████████████████████████████████████████████████████████████| 351/351 [00:22<00:00, 15.46it/s]\n",
      "100%|███████████████████████████████████████████████████████████████████████████████████████████████████████████████████████| 39/39 [00:01<00:00, 30.73it/s]"
     ]
    },
    {
     "name": "stdout",
     "output_type": "stream",
     "text": [
      "Adjusting learning rate of group 0 to 1.0000e-01.\n",
      "Adjusting learning rate of group 0 to 1.0000e-01.\n",
      "Epoch 44\n",
      "Accuracy: 0.8697916666666666 | Train loss: 3.031532831001825 | Valid loss: 3.3194072246551514\n"
     ]
    },
    {
     "name": "stderr",
     "output_type": "stream",
     "text": [
      "\n",
      "100%|█████████████████████████████████████████████████████████████████████████████████████████████████████████████████████| 351/351 [00:21<00:00, 16.47it/s]\n",
      "100%|███████████████████████████████████████████████████████████████████████████████████████████████████████████████████████| 39/39 [00:01<00:00, 30.53it/s]"
     ]
    },
    {
     "name": "stdout",
     "output_type": "stream",
     "text": [
      "Adjusting learning rate of group 0 to 1.0000e-01.\n",
      "Adjusting learning rate of group 0 to 1.0000e-01.\n",
      "Epoch 45\n",
      "Accuracy: 0.8729967948717948 | Train loss: 3.0212735233143864 | Valid loss: 3.138022074332604\n"
     ]
    },
    {
     "name": "stderr",
     "output_type": "stream",
     "text": [
      "\n",
      "100%|█████████████████████████████████████████████████████████████████████████████████████████████████████████████████████| 351/351 [00:21<00:00, 16.43it/s]\n",
      "100%|███████████████████████████████████████████████████████████████████████████████████████████████████████████████████████| 39/39 [00:01<00:00, 28.77it/s]"
     ]
    },
    {
     "name": "stdout",
     "output_type": "stream",
     "text": [
      "Adjusting learning rate of group 0 to 1.0000e-01.\n",
      "Adjusting learning rate of group 0 to 1.0000e-01.\n",
      "Epoch 46\n",
      "Accuracy: 0.8565705128205128 | Train loss: 3.032391463929092 | Valid loss: 3.2351620502960987\n"
     ]
    },
    {
     "name": "stderr",
     "output_type": "stream",
     "text": [
      "\n",
      "100%|█████████████████████████████████████████████████████████████████████████████████████████████████████████████████████| 351/351 [00:22<00:00, 15.78it/s]\n",
      "100%|███████████████████████████████████████████████████████████████████████████████████████████████████████████████████████| 39/39 [00:01<00:00, 30.49it/s]"
     ]
    },
    {
     "name": "stdout",
     "output_type": "stream",
     "text": [
      "Adjusting learning rate of group 0 to 1.0000e-01.\n",
      "Adjusting learning rate of group 0 to 1.0000e-01.\n",
      "Epoch 47\n",
      "Accuracy: 0.8671875 | Train loss: 3.0193029448517366 | Valid loss: 3.2377116619012294\n"
     ]
    },
    {
     "name": "stderr",
     "output_type": "stream",
     "text": [
      "\n",
      "100%|█████████████████████████████████████████████████████████████████████████████████████████████████████████████████████| 351/351 [00:23<00:00, 14.98it/s]\n",
      "100%|███████████████████████████████████████████████████████████████████████████████████████████████████████████████████████| 39/39 [00:01<00:00, 26.62it/s]"
     ]
    },
    {
     "name": "stdout",
     "output_type": "stream",
     "text": [
      "Adjusting learning rate of group 0 to 1.0000e-01.\n",
      "Adjusting learning rate of group 0 to 1.0000e-01.\n",
      "Epoch 48\n",
      "Accuracy: 0.8629807692307693 | Train loss: 3.009228721982733 | Valid loss: 3.2788718724862123\n"
     ]
    },
    {
     "name": "stderr",
     "output_type": "stream",
     "text": [
      "\n",
      "100%|█████████████████████████████████████████████████████████████████████████████████████████████████████████████████████| 351/351 [00:23<00:00, 15.14it/s]\n",
      "100%|███████████████████████████████████████████████████████████████████████████████████████████████████████████████████████| 39/39 [00:01<00:00, 30.20it/s]"
     ]
    },
    {
     "name": "stdout",
     "output_type": "stream",
     "text": [
      "Adjusting learning rate of group 0 to 1.0000e-01.\n",
      "Adjusting learning rate of group 0 to 1.0000e-01.\n",
      "Epoch 49\n",
      "Accuracy: 0.8754006410256411 | Train loss: 3.0089883668470248 | Valid loss: 3.1782014003166785\n"
     ]
    },
    {
     "name": "stderr",
     "output_type": "stream",
     "text": [
      "\n",
      "100%|█████████████████████████████████████████████████████████████████████████████████████████████████████████████████████| 351/351 [00:22<00:00, 15.41it/s]\n",
      "100%|███████████████████████████████████████████████████████████████████████████████████████████████████████████████████████| 39/39 [00:01<00:00, 27.07it/s]"
     ]
    },
    {
     "name": "stdout",
     "output_type": "stream",
     "text": [
      "Adjusting learning rate of group 0 to 1.0000e-01.\n",
      "Adjusting learning rate of group 0 to 1.0000e-01.\n",
      "Epoch 50\n",
      "Accuracy: 0.8854166666666666 | Train loss: 3.0098432869653076 | Valid loss: 3.061317578340188\n",
      "YES\n"
     ]
    },
    {
     "name": "stderr",
     "output_type": "stream",
     "text": [
      "\n",
      "100%|█████████████████████████████████████████████████████████████████████████████████████████████████████████████████████| 351/351 [00:23<00:00, 14.99it/s]\n",
      "100%|███████████████████████████████████████████████████████████████████████████████████████████████████████████████████████| 39/39 [00:01<00:00, 31.01it/s]"
     ]
    },
    {
     "name": "stdout",
     "output_type": "stream",
     "text": [
      "Adjusting learning rate of group 0 to 1.0000e-01.\n",
      "Adjusting learning rate of group 0 to 1.0000e-01.\n",
      "Epoch 51\n",
      "Accuracy: 0.8385416666666666 | Train loss: 3.004536996879469 | Valid loss: 3.452109660857763\n"
     ]
    },
    {
     "name": "stderr",
     "output_type": "stream",
     "text": [
      "\n",
      "100%|█████████████████████████████████████████████████████████████████████████████████████████████████████████████████████| 351/351 [00:23<00:00, 14.67it/s]\n",
      "100%|███████████████████████████████████████████████████████████████████████████████████████████████████████████████████████| 39/39 [00:01<00:00, 29.21it/s]"
     ]
    },
    {
     "name": "stdout",
     "output_type": "stream",
     "text": [
      "Adjusting learning rate of group 0 to 1.0000e-01.\n",
      "Adjusting learning rate of group 0 to 1.0000e-01.\n",
      "Epoch 52\n",
      "Accuracy: 0.8613782051282052 | Train loss: 2.998816708893518 | Valid loss: 3.4749363324581046\n"
     ]
    },
    {
     "name": "stderr",
     "output_type": "stream",
     "text": [
      "\n",
      "100%|█████████████████████████████████████████████████████████████████████████████████████████████████████████████████████| 351/351 [00:23<00:00, 15.15it/s]\n",
      "100%|███████████████████████████████████████████████████████████████████████████████████████████████████████████████████████| 39/39 [00:01<00:00, 29.84it/s]"
     ]
    },
    {
     "name": "stdout",
     "output_type": "stream",
     "text": [
      "Adjusting learning rate of group 0 to 1.0000e-01.\n",
      "Adjusting learning rate of group 0 to 1.0000e-01.\n",
      "Epoch 53\n",
      "Accuracy: 0.8627804487179487 | Train loss: 3.0068827911659524 | Valid loss: 3.2720744487566824\n"
     ]
    },
    {
     "name": "stderr",
     "output_type": "stream",
     "text": [
      "\n",
      "100%|█████████████████████████████████████████████████████████████████████████████████████████████████████████████████████| 351/351 [00:22<00:00, 15.63it/s]\n",
      "100%|███████████████████████████████████████████████████████████████████████████████████████████████████████████████████████| 39/39 [00:01<00:00, 29.98it/s]"
     ]
    },
    {
     "name": "stdout",
     "output_type": "stream",
     "text": [
      "Adjusting learning rate of group 0 to 1.0000e-01.\n",
      "Adjusting learning rate of group 0 to 1.0000e-01.\n",
      "Epoch 54\n",
      "Accuracy: 0.8770032051282052 | Train loss: 2.986558698181413 | Valid loss: 3.1713875440450816\n"
     ]
    },
    {
     "name": "stderr",
     "output_type": "stream",
     "text": [
      "\n",
      "100%|█████████████████████████████████████████████████████████████████████████████████████████████████████████████████████| 351/351 [00:22<00:00, 15.29it/s]\n",
      "100%|███████████████████████████████████████████████████████████████████████████████████████████████████████████████████████| 39/39 [00:01<00:00, 30.91it/s]"
     ]
    },
    {
     "name": "stdout",
     "output_type": "stream",
     "text": [
      "Adjusting learning rate of group 0 to 1.0000e-01.\n",
      "Adjusting learning rate of group 0 to 1.0000e-01.\n",
      "Epoch 55\n",
      "Accuracy: 0.8467548076923077 | Train loss: 3.002346948341087 | Valid loss: 3.388394832611084\n"
     ]
    },
    {
     "name": "stderr",
     "output_type": "stream",
     "text": [
      "\n",
      "100%|█████████████████████████████████████████████████████████████████████████████████████████████████████████████████████| 351/351 [00:21<00:00, 16.17it/s]\n",
      "100%|███████████████████████████████████████████████████████████████████████████████████████████████████████████████████████| 39/39 [00:01<00:00, 30.94it/s]"
     ]
    },
    {
     "name": "stdout",
     "output_type": "stream",
     "text": [
      "Adjusting learning rate of group 0 to 1.0000e-01.\n",
      "Adjusting learning rate of group 0 to 1.0000e-01.\n",
      "Epoch 56\n",
      "Accuracy: 0.8649839743589743 | Train loss: 2.9959153273166756 | Valid loss: 3.304663444176698\n"
     ]
    },
    {
     "name": "stderr",
     "output_type": "stream",
     "text": [
      "\n",
      "100%|█████████████████████████████████████████████████████████████████████████████████████████████████████████████████████| 351/351 [00:22<00:00, 15.72it/s]\n",
      "100%|███████████████████████████████████████████████████████████████████████████████████████████████████████████████████████| 39/39 [00:01<00:00, 27.99it/s]"
     ]
    },
    {
     "name": "stdout",
     "output_type": "stream",
     "text": [
      "Adjusting learning rate of group 0 to 1.0000e-01.\n",
      "Adjusting learning rate of group 0 to 1.0000e-01.\n",
      "Epoch 57\n",
      "Accuracy: 0.8639823717948718 | Train loss: 2.980730744168969 | Valid loss: 3.297565704736954\n"
     ]
    },
    {
     "name": "stderr",
     "output_type": "stream",
     "text": [
      "\n",
      "100%|█████████████████████████████████████████████████████████████████████████████████████████████████████████████████████| 351/351 [00:22<00:00, 15.61it/s]\n",
      "100%|███████████████████████████████████████████████████████████████████████████████████████████████████████████████████████| 39/39 [00:01<00:00, 30.10it/s]"
     ]
    },
    {
     "name": "stdout",
     "output_type": "stream",
     "text": [
      "Adjusting learning rate of group 0 to 1.0000e-01.\n",
      "Adjusting learning rate of group 0 to 1.0000e-01.\n",
      "Epoch 58\n",
      "Accuracy: 0.8613782051282052 | Train loss: 3.0002449041078574 | Valid loss: 3.2698647731389756\n"
     ]
    },
    {
     "name": "stderr",
     "output_type": "stream",
     "text": [
      "\n",
      "100%|█████████████████████████████████████████████████████████████████████████████████████████████████████████████████████| 351/351 [00:22<00:00, 15.44it/s]\n",
      "100%|███████████████████████████████████████████████████████████████████████████████████████████████████████████████████████| 39/39 [00:01<00:00, 29.84it/s]"
     ]
    },
    {
     "name": "stdout",
     "output_type": "stream",
     "text": [
      "Adjusting learning rate of group 0 to 1.0000e-01.\n",
      "Adjusting learning rate of group 0 to 1.0000e-01.\n",
      "Epoch 59\n",
      "Accuracy: 0.8603766025641025 | Train loss: 2.9766685412480283 | Valid loss: 3.4219514712309227\n"
     ]
    },
    {
     "name": "stderr",
     "output_type": "stream",
     "text": [
      "\n",
      "100%|█████████████████████████████████████████████████████████████████████████████████████████████████████████████████████| 351/351 [00:22<00:00, 15.30it/s]\n",
      "100%|███████████████████████████████████████████████████████████████████████████████████████████████████████████████████████| 39/39 [00:01<00:00, 29.43it/s]"
     ]
    },
    {
     "name": "stdout",
     "output_type": "stream",
     "text": [
      "Adjusting learning rate of group 0 to 1.0000e-01.\n",
      "Adjusting learning rate of group 0 to 1.0000e-01.\n",
      "Epoch 60\n",
      "Accuracy: 0.8784054487179487 | Train loss: 2.9717611546530005 | Valid loss: 3.125020858569023\n"
     ]
    },
    {
     "name": "stderr",
     "output_type": "stream",
     "text": [
      "\n",
      "100%|█████████████████████████████████████████████████████████████████████████████████████████████████████████████████████| 351/351 [00:22<00:00, 15.54it/s]\n",
      "100%|███████████████████████████████████████████████████████████████████████████████████████████████████████████████████████| 39/39 [00:01<00:00, 30.76it/s]"
     ]
    },
    {
     "name": "stdout",
     "output_type": "stream",
     "text": [
      "Adjusting learning rate of group 0 to 1.0000e-01.\n",
      "Adjusting learning rate of group 0 to 1.0000e-01.\n",
      "Epoch 61\n",
      "Accuracy: 0.8613782051282052 | Train loss: 2.9849498326282555 | Valid loss: 3.2832070925296883\n"
     ]
    },
    {
     "name": "stderr",
     "output_type": "stream",
     "text": [
      "\n",
      "100%|█████████████████████████████████████████████████████████████████████████████████████████████████████████████████████| 351/351 [00:22<00:00, 15.37it/s]\n",
      "100%|███████████████████████████████████████████████████████████████████████████████████████████████████████████████████████| 39/39 [00:01<00:00, 30.62it/s]"
     ]
    },
    {
     "name": "stdout",
     "output_type": "stream",
     "text": [
      "Adjusting learning rate of group 0 to 1.0000e-01.\n",
      "Adjusting learning rate of group 0 to 1.0000e-01.\n",
      "Epoch 62\n",
      "Accuracy: 0.8627804487179487 | Train loss: 2.9888317686879735 | Valid loss: 3.1995818737225656\n"
     ]
    },
    {
     "name": "stderr",
     "output_type": "stream",
     "text": [
      "\n",
      "100%|█████████████████████████████████████████████████████████████████████████████████████████████████████████████████████| 351/351 [00:22<00:00, 15.75it/s]\n",
      "100%|███████████████████████████████████████████████████████████████████████████████████████████████████████████████████████| 39/39 [00:01<00:00, 31.01it/s]"
     ]
    },
    {
     "name": "stdout",
     "output_type": "stream",
     "text": [
      "Adjusting learning rate of group 0 to 1.0000e-01.\n",
      "Adjusting learning rate of group 0 to 1.0000e-01.\n",
      "Epoch 63\n",
      "Accuracy: 0.8711939102564102 | Train loss: 2.98084326279469 | Valid loss: 3.184484084447225\n"
     ]
    },
    {
     "name": "stderr",
     "output_type": "stream",
     "text": [
      "\n",
      "100%|█████████████████████████████████████████████████████████████████████████████████████████████████████████████████████| 351/351 [00:22<00:00, 15.60it/s]\n",
      "100%|███████████████████████████████████████████████████████████████████████████████████████████████████████████████████████| 39/39 [00:01<00:00, 31.11it/s]"
     ]
    },
    {
     "name": "stdout",
     "output_type": "stream",
     "text": [
      "Adjusting learning rate of group 0 to 1.0000e-01.\n",
      "Adjusting learning rate of group 0 to 1.0000e-01.\n",
      "Epoch 64\n",
      "Accuracy: 0.8926282051282052 | Train loss: 2.9740007562175435 | Valid loss: 3.1289409001668296\n",
      "YES\n"
     ]
    },
    {
     "name": "stderr",
     "output_type": "stream",
     "text": [
      "\n",
      "100%|█████████████████████████████████████████████████████████████████████████████████████████████████████████████████████| 351/351 [00:22<00:00, 15.52it/s]\n",
      "100%|███████████████████████████████████████████████████████████████████████████████████████████████████████████████████████| 39/39 [00:01<00:00, 30.18it/s]"
     ]
    },
    {
     "name": "stdout",
     "output_type": "stream",
     "text": [
      "Adjusting learning rate of group 0 to 1.0000e-01.\n",
      "Adjusting learning rate of group 0 to 1.0000e-01.\n",
      "Epoch 65\n",
      "Accuracy: 0.8739983974358975 | Train loss: 2.9847774736562007 | Valid loss: 3.1537800079736953\n"
     ]
    },
    {
     "name": "stderr",
     "output_type": "stream",
     "text": [
      "\n",
      "100%|█████████████████████████████████████████████████████████████████████████████████████████████████████████████████████| 351/351 [00:22<00:00, 15.80it/s]\n",
      "100%|███████████████████████████████████████████████████████████████████████████████████████████████████████████████████████| 39/39 [00:01<00:00, 31.57it/s]"
     ]
    },
    {
     "name": "stdout",
     "output_type": "stream",
     "text": [
      "Adjusting learning rate of group 0 to 1.0000e-01.\n",
      "Adjusting learning rate of group 0 to 1.0000e-01.\n",
      "Epoch 66\n",
      "Accuracy: 0.8794070512820513 | Train loss: 2.970221410789381 | Valid loss: 3.09906591513218\n"
     ]
    },
    {
     "name": "stderr",
     "output_type": "stream",
     "text": [
      "\n",
      "100%|█████████████████████████████████████████████████████████████████████████████████████████████████████████████████████| 351/351 [00:23<00:00, 14.85it/s]\n",
      "100%|███████████████████████████████████████████████████████████████████████████████████████████████████████████████████████| 39/39 [00:01<00:00, 31.16it/s]"
     ]
    },
    {
     "name": "stdout",
     "output_type": "stream",
     "text": [
      "Adjusting learning rate of group 0 to 1.0000e-01.\n",
      "Adjusting learning rate of group 0 to 1.0000e-01.\n",
      "Epoch 67\n",
      "Accuracy: 0.8854166666666666 | Train loss: 2.9657948200519266 | Valid loss: 3.106050106195303\n"
     ]
    },
    {
     "name": "stderr",
     "output_type": "stream",
     "text": [
      "\n",
      "100%|█████████████████████████████████████████████████████████████████████████████████████████████████████████████████████| 351/351 [00:23<00:00, 15.18it/s]\n",
      "100%|███████████████████████████████████████████████████████████████████████████████████████████████████████████████████████| 39/39 [00:01<00:00, 29.64it/s]"
     ]
    },
    {
     "name": "stdout",
     "output_type": "stream",
     "text": [
      "Adjusting learning rate of group 0 to 1.0000e-01.\n",
      "Adjusting learning rate of group 0 to 1.0000e-01.\n",
      "Epoch 68\n",
      "Accuracy: 0.8611778846153846 | Train loss: 2.9784638365449387 | Valid loss: 3.3386220993139806\n"
     ]
    },
    {
     "name": "stderr",
     "output_type": "stream",
     "text": [
      "\n",
      "100%|█████████████████████████████████████████████████████████████████████████████████████████████████████████████████████| 351/351 [00:22<00:00, 15.27it/s]\n",
      "100%|███████████████████████████████████████████████████████████████████████████████████████████████████████████████████████| 39/39 [00:01<00:00, 26.33it/s]"
     ]
    },
    {
     "name": "stdout",
     "output_type": "stream",
     "text": [
      "Adjusting learning rate of group 0 to 1.0000e-01.\n",
      "Adjusting learning rate of group 0 to 1.0000e-01.\n",
      "Epoch 69\n",
      "Accuracy: 0.8854166666666666 | Train loss: 2.9712195539066935 | Valid loss: 3.091971366833418\n"
     ]
    },
    {
     "name": "stderr",
     "output_type": "stream",
     "text": [
      "\n",
      "100%|█████████████████████████████████████████████████████████████████████████████████████████████████████████████████████| 351/351 [00:23<00:00, 14.74it/s]\n",
      "100%|███████████████████████████████████████████████████████████████████████████████████████████████████████████████████████| 39/39 [00:01<00:00, 31.15it/s]"
     ]
    },
    {
     "name": "stdout",
     "output_type": "stream",
     "text": [
      "Adjusting learning rate of group 0 to 1.0000e-01.\n",
      "Adjusting learning rate of group 0 to 1.0000e-01.\n",
      "Epoch 70\n",
      "Accuracy: 0.8926282051282052 | Train loss: 2.9590941161511632 | Valid loss: 3.0483777156242957\n"
     ]
    },
    {
     "name": "stderr",
     "output_type": "stream",
     "text": [
      "\n",
      "100%|█████████████████████████████████████████████████████████████████████████████████████████████████████████████████████| 351/351 [00:22<00:00, 15.51it/s]\n",
      "100%|███████████████████████████████████████████████████████████████████████████████████████████████████████████████████████| 39/39 [00:01<00:00, 27.27it/s]"
     ]
    },
    {
     "name": "stdout",
     "output_type": "stream",
     "text": [
      "Adjusting learning rate of group 0 to 1.0000e-01.\n",
      "Adjusting learning rate of group 0 to 1.0000e-01.\n",
      "Epoch 71\n",
      "Accuracy: 0.8581730769230769 | Train loss: 2.9586518109693825 | Valid loss: 3.323246772472675\n"
     ]
    },
    {
     "name": "stderr",
     "output_type": "stream",
     "text": [
      "\n",
      "100%|█████████████████████████████████████████████████████████████████████████████████████████████████████████████████████| 351/351 [00:22<00:00, 15.29it/s]\n",
      "100%|███████████████████████████████████████████████████████████████████████████████████████████████████████████████████████| 39/39 [00:01<00:00, 25.25it/s]"
     ]
    },
    {
     "name": "stdout",
     "output_type": "stream",
     "text": [
      "Adjusting learning rate of group 0 to 1.0000e-01.\n",
      "Adjusting learning rate of group 0 to 1.0000e-01.\n",
      "Epoch 72\n",
      "Accuracy: 0.8844150641025641 | Train loss: 2.957295183442597 | Valid loss: 3.096303206223708\n"
     ]
    },
    {
     "name": "stderr",
     "output_type": "stream",
     "text": [
      "\n",
      "100%|█████████████████████████████████████████████████████████████████████████████████████████████████████████████████████| 351/351 [00:22<00:00, 15.35it/s]\n",
      "100%|███████████████████████████████████████████████████████████████████████████████████████████████████████████████████████| 39/39 [00:01<00:00, 31.18it/s]"
     ]
    },
    {
     "name": "stdout",
     "output_type": "stream",
     "text": [
      "Adjusting learning rate of group 0 to 1.0000e-01.\n",
      "Adjusting learning rate of group 0 to 1.0000e-01.\n",
      "Epoch 73\n",
      "Accuracy: 0.8639823717948718 | Train loss: 2.9792418547844957 | Valid loss: 3.223586021325527\n"
     ]
    },
    {
     "name": "stderr",
     "output_type": "stream",
     "text": [
      "\n",
      "100%|█████████████████████████████████████████████████████████████████████████████████████████████████████████████████████| 351/351 [00:22<00:00, 15.27it/s]\n",
      "100%|███████████████████████████████████████████████████████████████████████████████████████████████████████████████████████| 39/39 [00:01<00:00, 31.02it/s]"
     ]
    },
    {
     "name": "stdout",
     "output_type": "stream",
     "text": [
      "Adjusting learning rate of group 0 to 1.0000e-01.\n",
      "Adjusting learning rate of group 0 to 1.0000e-01.\n",
      "Epoch 74\n",
      "Accuracy: 0.8810096153846154 | Train loss: 2.9606919363353326 | Valid loss: 3.134518556105785\n"
     ]
    },
    {
     "name": "stderr",
     "output_type": "stream",
     "text": [
      "\n",
      "100%|█████████████████████████████████████████████████████████████████████████████████████████████████████████████████████| 351/351 [00:22<00:00, 15.32it/s]\n",
      "100%|███████████████████████████████████████████████████████████████████████████████████████████████████████████████████████| 39/39 [00:01<00:00, 27.74it/s]"
     ]
    },
    {
     "name": "stdout",
     "output_type": "stream",
     "text": [
      "Adjusting learning rate of group 0 to 1.0000e-01.\n",
      "Adjusting learning rate of group 0 to 1.0000e-01.\n",
      "Epoch 75\n",
      "Accuracy: 0.8579727564102564 | Train loss: 2.953296348240301 | Valid loss: 3.2685300081204147\n"
     ]
    },
    {
     "name": "stderr",
     "output_type": "stream",
     "text": [
      "\n",
      "100%|█████████████████████████████████████████████████████████████████████████████████████████████████████████████████████| 351/351 [00:22<00:00, 15.32it/s]\n",
      "100%|███████████████████████████████████████████████████████████████████████████████████████████████████████████████████████| 39/39 [00:01<00:00, 30.58it/s]"
     ]
    },
    {
     "name": "stdout",
     "output_type": "stream",
     "text": [
      "Adjusting learning rate of group 0 to 1.0000e-01.\n",
      "Adjusting learning rate of group 0 to 1.0000e-01.\n",
      "Epoch 76\n",
      "Accuracy: 0.8571714743589743 | Train loss: 2.965641302260918 | Valid loss: 3.363405478306306\n"
     ]
    },
    {
     "name": "stderr",
     "output_type": "stream",
     "text": [
      "\n",
      "100%|█████████████████████████████████████████████████████████████████████████████████████████████████████████████████████| 351/351 [00:20<00:00, 17.18it/s]\n",
      "100%|███████████████████████████████████████████████████████████████████████████████████████████████████████████████████████| 39/39 [00:01<00:00, 31.16it/s]"
     ]
    },
    {
     "name": "stdout",
     "output_type": "stream",
     "text": [
      "Adjusting learning rate of group 0 to 1.0000e-01.\n",
      "Adjusting learning rate of group 0 to 1.0000e-01.\n",
      "Epoch 77\n",
      "Accuracy: 0.8623798076923077 | Train loss: 2.9545417178390374 | Valid loss: 3.2174305487901735\n"
     ]
    },
    {
     "name": "stderr",
     "output_type": "stream",
     "text": [
      "\n",
      "100%|█████████████████████████████████████████████████████████████████████████████████████████████████████████████████████| 351/351 [00:22<00:00, 15.27it/s]\n",
      "100%|███████████████████████████████████████████████████████████████████████████████████████████████████████████████████████| 39/39 [00:01<00:00, 22.84it/s]"
     ]
    },
    {
     "name": "stdout",
     "output_type": "stream",
     "text": [
      "Adjusting learning rate of group 0 to 1.0000e-01.\n",
      "Adjusting learning rate of group 0 to 1.0000e-01.\n",
      "Epoch 78\n",
      "Accuracy: 0.8938301282051282 | Train loss: 2.956634895074741 | Valid loss: 3.0486493416321583\n",
      "YES\n"
     ]
    },
    {
     "name": "stderr",
     "output_type": "stream",
     "text": [
      "\n",
      "100%|█████████████████████████████████████████████████████████████████████████████████████████████████████████████████████| 351/351 [00:22<00:00, 15.47it/s]\n",
      "100%|███████████████████████████████████████████████████████████████████████████████████████████████████████████████████████| 39/39 [00:01<00:00, 31.29it/s]"
     ]
    },
    {
     "name": "stdout",
     "output_type": "stream",
     "text": [
      "Adjusting learning rate of group 0 to 1.0000e-01.\n",
      "Adjusting learning rate of group 0 to 1.0000e-01.\n",
      "Epoch 79\n",
      "Accuracy: 0.8838141025641025 | Train loss: 2.9479150228690556 | Valid loss: 3.1161507031856437\n"
     ]
    },
    {
     "name": "stderr",
     "output_type": "stream",
     "text": [
      "\n",
      "100%|█████████████████████████████████████████████████████████████████████████████████████████████████████████████████████| 351/351 [00:24<00:00, 14.59it/s]\n",
      "100%|███████████████████████████████████████████████████████████████████████████████████████████████████████████████████████| 39/39 [00:01<00:00, 31.53it/s]"
     ]
    },
    {
     "name": "stdout",
     "output_type": "stream",
     "text": [
      "Adjusting learning rate of group 0 to 1.0000e-01.\n",
      "Adjusting learning rate of group 0 to 1.0000e-01.\n",
      "Epoch 80\n",
      "Accuracy: 0.8858173076923077 | Train loss: 2.953594851018357 | Valid loss: 3.135049214729896\n"
     ]
    },
    {
     "name": "stderr",
     "output_type": "stream",
     "text": [
      "\n",
      "100%|█████████████████████████████████████████████████████████████████████████████████████████████████████████████████████| 351/351 [00:22<00:00, 15.45it/s]\n",
      "100%|███████████████████████████████████████████████████████████████████████████████████████████████████████████████████████| 39/39 [00:01<00:00, 29.51it/s]"
     ]
    },
    {
     "name": "stdout",
     "output_type": "stream",
     "text": [
      "Adjusting learning rate of group 0 to 1.0000e-01.\n",
      "Adjusting learning rate of group 0 to 1.0000e-01.\n",
      "Epoch 81\n",
      "Accuracy: 0.8747996794871795 | Train loss: 2.9588862633773063 | Valid loss: 3.320830938143608\n"
     ]
    },
    {
     "name": "stderr",
     "output_type": "stream",
     "text": [
      "\n",
      "100%|█████████████████████████████████████████████████████████████████████████████████████████████████████████████████████| 351/351 [00:22<00:00, 15.45it/s]\n",
      "100%|███████████████████████████████████████████████████████████████████████████████████████████████████████████████████████| 39/39 [00:01<00:00, 28.36it/s]\n"
     ]
    },
    {
     "name": "stdout",
     "output_type": "stream",
     "text": [
      "Adjusting learning rate of group 0 to 1.0000e-02.\n",
      "Adjusting learning rate of group 0 to 1.0000e-02.\n",
      "Epoch 82\n",
      "Accuracy: 0.8183092948717948 | Train loss: 2.932642000013607 | Valid loss: 3.56407616688655\n"
     ]
    },
    {
     "name": "stderr",
     "output_type": "stream",
     "text": [
      "100%|█████████████████████████████████████████████████████████████████████████████████████████████████████████████████████| 351/351 [00:22<00:00, 15.54it/s]\n",
      "100%|███████████████████████████████████████████████████████████████████████████████████████████████████████████████████████| 39/39 [00:01<00:00, 30.55it/s]"
     ]
    },
    {
     "name": "stdout",
     "output_type": "stream",
     "text": [
      "Adjusting learning rate of group 0 to 1.0000e-02.\n",
      "Adjusting learning rate of group 0 to 1.0000e-02.\n",
      "Epoch 83\n",
      "Accuracy: 0.9318910256410257 | Train loss: 2.5489453712419907 | Valid loss: 2.459845029390775\n",
      "YES\n"
     ]
    },
    {
     "name": "stderr",
     "output_type": "stream",
     "text": [
      "\n",
      "100%|█████████████████████████████████████████████████████████████████████████████████████████████████████████████████████| 351/351 [00:23<00:00, 15.21it/s]\n",
      "100%|███████████████████████████████████████████████████████████████████████████████████████████████████████████████████████| 39/39 [00:01<00:00, 30.53it/s]"
     ]
    },
    {
     "name": "stdout",
     "output_type": "stream",
     "text": [
      "Adjusting learning rate of group 0 to 1.0000e-02.\n",
      "Adjusting learning rate of group 0 to 1.0000e-02.\n",
      "Epoch 84\n",
      "Accuracy: 0.9332932692307693 | Train loss: 2.43181829235153 | Valid loss: 2.4236682928525486\n",
      "YES\n"
     ]
    },
    {
     "name": "stderr",
     "output_type": "stream",
     "text": [
      "\n",
      "100%|█████████████████████████████████████████████████████████████████████████████████████████████████████████████████████| 351/351 [00:23<00:00, 15.14it/s]\n",
      "100%|███████████████████████████████████████████████████████████████████████████████████████████████████████████████████████| 39/39 [00:01<00:00, 28.77it/s]"
     ]
    },
    {
     "name": "stdout",
     "output_type": "stream",
     "text": [
      "Adjusting learning rate of group 0 to 1.0000e-02.\n",
      "Adjusting learning rate of group 0 to 1.0000e-02.\n",
      "Epoch 85\n",
      "Accuracy: 0.9354967948717948 | Train loss: 2.3949642677252787 | Valid loss: 2.398051237448668\n",
      "YES\n"
     ]
    },
    {
     "name": "stderr",
     "output_type": "stream",
     "text": [
      "\n",
      "100%|█████████████████████████████████████████████████████████████████████████████████████████████████████████████████████| 351/351 [00:23<00:00, 14.93it/s]\n",
      "100%|███████████████████████████████████████████████████████████████████████████████████████████████████████████████████████| 39/39 [00:01<00:00, 27.74it/s]"
     ]
    },
    {
     "name": "stdout",
     "output_type": "stream",
     "text": [
      "Adjusting learning rate of group 0 to 1.0000e-02.\n",
      "Adjusting learning rate of group 0 to 1.0000e-02.\n",
      "Epoch 86\n",
      "Accuracy: 0.9354967948717948 | Train loss: 2.3652671504224467 | Valid loss: 2.3739401254898462\n"
     ]
    },
    {
     "name": "stderr",
     "output_type": "stream",
     "text": [
      "\n",
      "100%|█████████████████████████████████████████████████████████████████████████████████████████████████████████████████████| 351/351 [00:22<00:00, 15.52it/s]\n",
      "100%|███████████████████████████████████████████████████████████████████████████████████████████████████████████████████████| 39/39 [00:01<00:00, 26.26it/s]"
     ]
    },
    {
     "name": "stdout",
     "output_type": "stream",
     "text": [
      "Adjusting learning rate of group 0 to 1.0000e-02.\n",
      "Adjusting learning rate of group 0 to 1.0000e-02.\n",
      "Epoch 87\n",
      "Accuracy: 0.9338942307692307 | Train loss: 2.3463989295850793 | Valid loss: 2.360808036266229\n"
     ]
    },
    {
     "name": "stderr",
     "output_type": "stream",
     "text": [
      "\n",
      "100%|█████████████████████████████████████████████████████████████████████████████████████████████████████████████████████| 351/351 [00:23<00:00, 15.23it/s]\n",
      "100%|███████████████████████████████████████████████████████████████████████████████████████████████████████████████████████| 39/39 [00:01<00:00, 31.04it/s]"
     ]
    },
    {
     "name": "stdout",
     "output_type": "stream",
     "text": [
      "Adjusting learning rate of group 0 to 1.0000e-02.\n",
      "Adjusting learning rate of group 0 to 1.0000e-02.\n",
      "Epoch 88\n",
      "Accuracy: 0.9379006410256411 | Train loss: 2.3339478772589963 | Valid loss: 2.3674861039870825\n",
      "YES\n"
     ]
    },
    {
     "name": "stderr",
     "output_type": "stream",
     "text": [
      "\n",
      "100%|█████████████████████████████████████████████████████████████████████████████████████████████████████████████████████| 351/351 [00:22<00:00, 15.36it/s]\n",
      "100%|███████████████████████████████████████████████████████████████████████████████████████████████████████████████████████| 39/39 [00:01<00:00, 27.20it/s]"
     ]
    },
    {
     "name": "stdout",
     "output_type": "stream",
     "text": [
      "Adjusting learning rate of group 0 to 1.0000e-02.\n",
      "Adjusting learning rate of group 0 to 1.0000e-02.\n",
      "Epoch 89\n",
      "Accuracy: 0.936698717948718 | Train loss: 2.321128475700009 | Valid loss: 2.350743593313755\n"
     ]
    },
    {
     "name": "stderr",
     "output_type": "stream",
     "text": [
      "\n",
      "100%|█████████████████████████████████████████████████████████████████████████████████████████████████████████████████████| 351/351 [00:23<00:00, 15.23it/s]\n",
      "100%|███████████████████████████████████████████████████████████████████████████████████████████████████████████████████████| 39/39 [00:01<00:00, 27.91it/s]"
     ]
    },
    {
     "name": "stdout",
     "output_type": "stream",
     "text": [
      "Adjusting learning rate of group 0 to 1.0000e-02.\n",
      "Adjusting learning rate of group 0 to 1.0000e-02.\n",
      "Epoch 90\n",
      "Accuracy: 0.9348958333333334 | Train loss: 2.3088753535876587 | Valid loss: 2.355155993730594\n"
     ]
    },
    {
     "name": "stderr",
     "output_type": "stream",
     "text": [
      "\n",
      "100%|█████████████████████████████████████████████████████████████████████████████████████████████████████████████████████| 351/351 [00:22<00:00, 15.37it/s]\n",
      "100%|███████████████████████████████████████████████████████████████████████████████████████████████████████████████████████| 39/39 [00:01<00:00, 30.75it/s]"
     ]
    },
    {
     "name": "stdout",
     "output_type": "stream",
     "text": [
      "Adjusting learning rate of group 0 to 1.0000e-02.\n",
      "Adjusting learning rate of group 0 to 1.0000e-02.\n",
      "Epoch 91\n",
      "Accuracy: 0.9350961538461539 | Train loss: 2.3047445227957177 | Valid loss: 2.349116013600276\n"
     ]
    },
    {
     "name": "stderr",
     "output_type": "stream",
     "text": [
      "\n",
      "100%|█████████████████████████████████████████████████████████████████████████████████████████████████████████████████████| 351/351 [00:21<00:00, 16.06it/s]\n",
      "100%|███████████████████████████████████████████████████████████████████████████████████████████████████████████████████████| 39/39 [00:01<00:00, 26.20it/s]"
     ]
    },
    {
     "name": "stdout",
     "output_type": "stream",
     "text": [
      "Adjusting learning rate of group 0 to 1.0000e-02.\n",
      "Adjusting learning rate of group 0 to 1.0000e-02.\n",
      "Epoch 92\n",
      "Accuracy: 0.9350961538461539 | Train loss: 2.3014700338032172 | Valid loss: 2.339707839183318\n"
     ]
    },
    {
     "name": "stderr",
     "output_type": "stream",
     "text": [
      "\n",
      "100%|█████████████████████████████████████████████████████████████████████████████████████████████████████████████████████| 351/351 [00:22<00:00, 15.81it/s]\n",
      "100%|███████████████████████████████████████████████████████████████████████████████████████████████████████████████████████| 39/39 [00:01<00:00, 30.03it/s]"
     ]
    },
    {
     "name": "stdout",
     "output_type": "stream",
     "text": [
      "Adjusting learning rate of group 0 to 1.0000e-02.\n",
      "Adjusting learning rate of group 0 to 1.0000e-02.\n",
      "Epoch 93\n",
      "Accuracy: 0.9375 | Train loss: 2.2913877773828317 | Valid loss: 2.339893157665546\n"
     ]
    },
    {
     "name": "stderr",
     "output_type": "stream",
     "text": [
      "\n",
      "100%|█████████████████████████████████████████████████████████████████████████████████████████████████████████████████████| 351/351 [00:22<00:00, 15.30it/s]\n",
      "100%|███████████████████████████████████████████████████████████████████████████████████████████████████████████████████████| 39/39 [00:01<00:00, 30.02it/s]"
     ]
    },
    {
     "name": "stdout",
     "output_type": "stream",
     "text": [
      "Adjusting learning rate of group 0 to 1.0000e-02.\n",
      "Adjusting learning rate of group 0 to 1.0000e-02.\n",
      "Epoch 94\n",
      "Accuracy: 0.9340945512820513 | Train loss: 2.2846360464720985 | Valid loss: 2.3416216312310634\n"
     ]
    },
    {
     "name": "stderr",
     "output_type": "stream",
     "text": [
      "\n",
      "100%|█████████████████████████████████████████████████████████████████████████████████████████████████████████████████████| 351/351 [00:23<00:00, 14.65it/s]\n",
      "100%|███████████████████████████████████████████████████████████████████████████████████████████████████████████████████████| 39/39 [00:01<00:00, 29.99it/s]"
     ]
    },
    {
     "name": "stdout",
     "output_type": "stream",
     "text": [
      "Adjusting learning rate of group 0 to 1.0000e-02.\n",
      "Adjusting learning rate of group 0 to 1.0000e-02.\n",
      "Epoch 95\n",
      "Accuracy: 0.9358974358974359 | Train loss: 2.2783342487791662 | Valid loss: 2.342076356594379\n"
     ]
    },
    {
     "name": "stderr",
     "output_type": "stream",
     "text": [
      "\n",
      "100%|█████████████████████████████████████████████████████████████████████████████████████████████████████████████████████| 351/351 [00:23<00:00, 14.69it/s]\n",
      "100%|███████████████████████████████████████████████████████████████████████████████████████████████████████████████████████| 39/39 [00:01<00:00, 26.56it/s]"
     ]
    },
    {
     "name": "stdout",
     "output_type": "stream",
     "text": [
      "Adjusting learning rate of group 0 to 1.0000e-02.\n",
      "Adjusting learning rate of group 0 to 1.0000e-02.\n",
      "Epoch 96\n",
      "Accuracy: 0.9348958333333334 | Train loss: 2.2753372233138127 | Valid loss: 2.342048314901499\n"
     ]
    },
    {
     "name": "stderr",
     "output_type": "stream",
     "text": [
      "\n",
      "100%|█████████████████████████████████████████████████████████████████████████████████████████████████████████████████████| 351/351 [00:22<00:00, 15.90it/s]\n",
      "100%|███████████████████████████████████████████████████████████████████████████████████████████████████████████████████████| 39/39 [00:01<00:00, 26.36it/s]"
     ]
    },
    {
     "name": "stdout",
     "output_type": "stream",
     "text": [
      "Adjusting learning rate of group 0 to 1.0000e-02.\n",
      "Adjusting learning rate of group 0 to 1.0000e-02.\n",
      "Epoch 97\n",
      "Accuracy: 0.9352964743589743 | Train loss: 2.2745962265210276 | Valid loss: 2.343642674959623\n"
     ]
    },
    {
     "name": "stderr",
     "output_type": "stream",
     "text": [
      "\n",
      "100%|█████████████████████████████████████████████████████████████████████████████████████████████████████████████████████| 351/351 [00:22<00:00, 15.58it/s]\n",
      "100%|███████████████████████████████████████████████████████████████████████████████████████████████████████████████████████| 39/39 [00:01<00:00, 30.16it/s]"
     ]
    },
    {
     "name": "stdout",
     "output_type": "stream",
     "text": [
      "Adjusting learning rate of group 0 to 1.0000e-02.\n",
      "Adjusting learning rate of group 0 to 1.0000e-02.\n",
      "Epoch 98\n",
      "Accuracy: 0.9326923076923077 | Train loss: 2.2675228737018727 | Valid loss: 2.3424756771478896\n"
     ]
    },
    {
     "name": "stderr",
     "output_type": "stream",
     "text": [
      "\n",
      "100%|█████████████████████████████████████████████████████████████████████████████████████████████████████████████████████| 351/351 [00:20<00:00, 17.19it/s]\n",
      "100%|███████████████████████████████████████████████████████████████████████████████████████████████████████████████████████| 39/39 [00:01<00:00, 26.86it/s]"
     ]
    },
    {
     "name": "stdout",
     "output_type": "stream",
     "text": [
      "Adjusting learning rate of group 0 to 1.0000e-02.\n",
      "Adjusting learning rate of group 0 to 1.0000e-02.\n",
      "Epoch 99\n",
      "Accuracy: 0.9332932692307693 | Train loss: 2.270629378125878 | Valid loss: 2.3536043350513163\n"
     ]
    },
    {
     "name": "stderr",
     "output_type": "stream",
     "text": [
      "\n",
      "100%|█████████████████████████████████████████████████████████████████████████████████████████████████████████████████████| 351/351 [00:21<00:00, 16.16it/s]\n",
      "100%|███████████████████████████████████████████████████████████████████████████████████████████████████████████████████████| 39/39 [00:01<00:00, 28.43it/s]"
     ]
    },
    {
     "name": "stdout",
     "output_type": "stream",
     "text": [
      "Adjusting learning rate of group 0 to 1.0000e-02.\n",
      "Adjusting learning rate of group 0 to 1.0000e-02.\n",
      "Epoch 100\n",
      "Accuracy: 0.9364983974358975 | Train loss: 2.26205904531343 | Valid loss: 2.3649924168219933\n"
     ]
    },
    {
     "name": "stderr",
     "output_type": "stream",
     "text": [
      "\n",
      "100%|█████████████████████████████████████████████████████████████████████████████████████████████████████████████████████| 351/351 [00:23<00:00, 15.09it/s]\n",
      "100%|███████████████████████████████████████████████████████████████████████████████████████████████████████████████████████| 39/39 [00:01<00:00, 25.42it/s]"
     ]
    },
    {
     "name": "stdout",
     "output_type": "stream",
     "text": [
      "Adjusting learning rate of group 0 to 1.0000e-02.\n",
      "Adjusting learning rate of group 0 to 1.0000e-02.\n",
      "Epoch 101\n",
      "Accuracy: 0.9324919871794872 | Train loss: 2.2621212039577996 | Valid loss: 2.3652123304513784\n"
     ]
    },
    {
     "name": "stderr",
     "output_type": "stream",
     "text": [
      "\n",
      "100%|█████████████████████████████████████████████████████████████████████████████████████████████████████████████████████| 351/351 [00:22<00:00, 15.71it/s]\n",
      "100%|███████████████████████████████████████████████████████████████████████████████████████████████████████████████████████| 39/39 [00:01<00:00, 29.89it/s]"
     ]
    },
    {
     "name": "stdout",
     "output_type": "stream",
     "text": [
      "Adjusting learning rate of group 0 to 1.0000e-02.\n",
      "Adjusting learning rate of group 0 to 1.0000e-02.\n",
      "Epoch 102\n",
      "Accuracy: 0.9368990384615384 | Train loss: 2.26168808706126 | Valid loss: 2.3499234517415366\n"
     ]
    },
    {
     "name": "stderr",
     "output_type": "stream",
     "text": [
      "\n",
      "100%|█████████████████████████████████████████████████████████████████████████████████████████████████████████████████████| 351/351 [00:23<00:00, 15.20it/s]\n",
      "100%|███████████████████████████████████████████████████████████████████████████████████████████████████████████████████████| 39/39 [00:01<00:00, 30.32it/s]"
     ]
    },
    {
     "name": "stdout",
     "output_type": "stream",
     "text": [
      "Adjusting learning rate of group 0 to 1.0000e-02.\n",
      "Adjusting learning rate of group 0 to 1.0000e-02.\n",
      "Epoch 103\n",
      "Accuracy: 0.9362980769230769 | Train loss: 2.253819712886104 | Valid loss: 2.33388920319386\n"
     ]
    },
    {
     "name": "stderr",
     "output_type": "stream",
     "text": [
      "\n",
      "100%|█████████████████████████████████████████████████████████████████████████████████████████████████████████████████████| 351/351 [00:22<00:00, 15.41it/s]\n",
      "100%|███████████████████████████████████████████████████████████████████████████████████████████████████████████████████████| 39/39 [00:01<00:00, 28.25it/s]"
     ]
    },
    {
     "name": "stdout",
     "output_type": "stream",
     "text": [
      "Adjusting learning rate of group 0 to 1.0000e-02.\n",
      "Adjusting learning rate of group 0 to 1.0000e-02.\n",
      "Epoch 104\n",
      "Accuracy: 0.9332932692307693 | Train loss: 2.2532174641590172 | Valid loss: 2.387112965950599\n"
     ]
    },
    {
     "name": "stderr",
     "output_type": "stream",
     "text": [
      "\n",
      "100%|█████████████████████████████████████████████████████████████████████████████████████████████████████████████████████| 351/351 [00:23<00:00, 15.04it/s]\n",
      "100%|███████████████████████████████████████████████████████████████████████████████████████████████████████████████████████| 39/39 [00:01<00:00, 31.03it/s]"
     ]
    },
    {
     "name": "stdout",
     "output_type": "stream",
     "text": [
      "Adjusting learning rate of group 0 to 1.0000e-02.\n",
      "Adjusting learning rate of group 0 to 1.0000e-02.\n",
      "Epoch 105\n",
      "Accuracy: 0.938301282051282 | Train loss: 2.2587280090038595 | Valid loss: 2.3507338548317933\n",
      "YES\n"
     ]
    },
    {
     "name": "stderr",
     "output_type": "stream",
     "text": [
      "\n",
      "100%|█████████████████████████████████████████████████████████████████████████████████████████████████████████████████████| 351/351 [00:23<00:00, 15.16it/s]\n",
      "100%|███████████████████████████████████████████████████████████████████████████████████████████████████████████████████████| 39/39 [00:01<00:00, 30.85it/s]"
     ]
    },
    {
     "name": "stdout",
     "output_type": "stream",
     "text": [
      "Adjusting learning rate of group 0 to 1.0000e-02.\n",
      "Adjusting learning rate of group 0 to 1.0000e-02.\n",
      "Epoch 106\n",
      "Accuracy: 0.9328926282051282 | Train loss: 2.2575683288085155 | Valid loss: 2.3472891648610434\n"
     ]
    },
    {
     "name": "stderr",
     "output_type": "stream",
     "text": [
      "\n",
      "100%|█████████████████████████████████████████████████████████████████████████████████████████████████████████████████████| 351/351 [00:22<00:00, 15.41it/s]\n",
      "100%|███████████████████████████████████████████████████████████████████████████████████████████████████████████████████████| 39/39 [00:01<00:00, 29.22it/s]"
     ]
    },
    {
     "name": "stdout",
     "output_type": "stream",
     "text": [
      "Adjusting learning rate of group 0 to 1.0000e-02.\n",
      "Adjusting learning rate of group 0 to 1.0000e-02.\n",
      "Epoch 107\n",
      "Accuracy: 0.9320913461538461 | Train loss: 2.25630019940542 | Valid loss: 2.4024481039780836\n"
     ]
    },
    {
     "name": "stderr",
     "output_type": "stream",
     "text": [
      "\n",
      "100%|█████████████████████████████████████████████████████████████████████████████████████████████████████████████████████| 351/351 [00:23<00:00, 15.14it/s]\n",
      "100%|███████████████████████████████████████████████████████████████████████████████████████████████████████████████████████| 39/39 [00:01<00:00, 29.50it/s]"
     ]
    },
    {
     "name": "stdout",
     "output_type": "stream",
     "text": [
      "Adjusting learning rate of group 0 to 1.0000e-02.\n",
      "Adjusting learning rate of group 0 to 1.0000e-02.\n",
      "Epoch 108\n",
      "Accuracy: 0.9328926282051282 | Train loss: 2.255038031825313 | Valid loss: 2.393679875593919\n"
     ]
    },
    {
     "name": "stderr",
     "output_type": "stream",
     "text": [
      "\n",
      "100%|█████████████████████████████████████████████████████████████████████████████████████████████████████████████████████| 351/351 [00:23<00:00, 15.19it/s]\n",
      "100%|███████████████████████████████████████████████████████████████████████████████████████████████████████████████████████| 39/39 [00:01<00:00, 27.78it/s]"
     ]
    },
    {
     "name": "stdout",
     "output_type": "stream",
     "text": [
      "Adjusting learning rate of group 0 to 1.0000e-02.\n",
      "Adjusting learning rate of group 0 to 1.0000e-02.\n",
      "Epoch 109\n",
      "Accuracy: 0.9360977564102564 | Train loss: 2.2573317421807184 | Valid loss: 2.3541982907515306\n"
     ]
    },
    {
     "name": "stderr",
     "output_type": "stream",
     "text": [
      "\n",
      "100%|█████████████████████████████████████████████████████████████████████████████████████████████████████████████████████| 351/351 [00:23<00:00, 15.13it/s]\n",
      "100%|███████████████████████████████████████████████████████████████████████████████████████████████████████████████████████| 39/39 [00:01<00:00, 30.65it/s]"
     ]
    },
    {
     "name": "stdout",
     "output_type": "stream",
     "text": [
      "Adjusting learning rate of group 0 to 1.0000e-02.\n",
      "Adjusting learning rate of group 0 to 1.0000e-02.\n",
      "Epoch 110\n",
      "Accuracy: 0.9326923076923077 | Train loss: 2.2560190746926856 | Valid loss: 2.3525122618063903\n"
     ]
    },
    {
     "name": "stderr",
     "output_type": "stream",
     "text": [
      "\n",
      "100%|█████████████████████████████████████████████████████████████████████████████████████████████████████████████████████| 351/351 [00:22<00:00, 15.31it/s]\n",
      "100%|███████████████████████████████████████████████████████████████████████████████████████████████████████████████████████| 39/39 [00:01<00:00, 30.65it/s]"
     ]
    },
    {
     "name": "stdout",
     "output_type": "stream",
     "text": [
      "Adjusting learning rate of group 0 to 1.0000e-02.\n",
      "Adjusting learning rate of group 0 to 1.0000e-02.\n",
      "Epoch 111\n",
      "Accuracy: 0.9379006410256411 | Train loss: 2.2534748475436133 | Valid loss: 2.348308722178141\n"
     ]
    },
    {
     "name": "stderr",
     "output_type": "stream",
     "text": [
      "\n",
      "100%|█████████████████████████████████████████████████████████████████████████████████████████████████████████████████████| 351/351 [00:22<00:00, 15.29it/s]\n",
      "100%|███████████████████████████████████████████████████████████████████████████████████████████████████████████████████████| 39/39 [00:01<00:00, 30.31it/s]"
     ]
    },
    {
     "name": "stdout",
     "output_type": "stream",
     "text": [
      "Adjusting learning rate of group 0 to 1.0000e-02.\n",
      "Adjusting learning rate of group 0 to 1.0000e-02.\n",
      "Epoch 112\n",
      "Accuracy: 0.9330929487179487 | Train loss: 2.261601612438843 | Valid loss: 2.373489703887548\n"
     ]
    },
    {
     "name": "stderr",
     "output_type": "stream",
     "text": [
      "\n",
      "100%|█████████████████████████████████████████████████████████████████████████████████████████████████████████████████████| 351/351 [00:22<00:00, 15.27it/s]\n",
      "100%|███████████████████████████████████████████████████████████████████████████████████████████████████████████████████████| 39/39 [00:01<00:00, 30.53it/s]"
     ]
    },
    {
     "name": "stdout",
     "output_type": "stream",
     "text": [
      "Adjusting learning rate of group 0 to 1.0000e-02.\n",
      "Adjusting learning rate of group 0 to 1.0000e-02.\n",
      "Epoch 113\n",
      "Accuracy: 0.9350961538461539 | Train loss: 2.255931484733212 | Valid loss: 2.3616682382730336\n"
     ]
    },
    {
     "name": "stderr",
     "output_type": "stream",
     "text": [
      "\n",
      "100%|█████████████████████████████████████████████████████████████████████████████████████████████████████████████████████| 351/351 [00:23<00:00, 15.10it/s]\n",
      "100%|███████████████████████████████████████████████████████████████████████████████████████████████████████████████████████| 39/39 [00:01<00:00, 31.31it/s]"
     ]
    },
    {
     "name": "stdout",
     "output_type": "stream",
     "text": [
      "Adjusting learning rate of group 0 to 1.0000e-02.\n",
      "Adjusting learning rate of group 0 to 1.0000e-02.\n",
      "Epoch 114\n",
      "Accuracy: 0.9348958333333334 | Train loss: 2.2563647164238825 | Valid loss: 2.374763928926908\n"
     ]
    },
    {
     "name": "stderr",
     "output_type": "stream",
     "text": [
      "\n",
      "100%|█████████████████████████████████████████████████████████████████████████████████████████████████████████████████████| 351/351 [00:22<00:00, 15.30it/s]\n",
      "100%|███████████████████████████████████████████████████████████████████████████████████████████████████████████████████████| 39/39 [00:01<00:00, 28.27it/s]"
     ]
    },
    {
     "name": "stdout",
     "output_type": "stream",
     "text": [
      "Adjusting learning rate of group 0 to 1.0000e-02.\n",
      "Adjusting learning rate of group 0 to 1.0000e-02.\n",
      "Epoch 115\n",
      "Accuracy: 0.9314903846153846 | Train loss: 2.2624509320979103 | Valid loss: 2.3659678483620667\n"
     ]
    },
    {
     "name": "stderr",
     "output_type": "stream",
     "text": [
      "\n",
      "100%|█████████████████████████████████████████████████████████████████████████████████████████████████████████████████████| 351/351 [00:22<00:00, 15.64it/s]\n",
      "100%|███████████████████████████████████████████████████████████████████████████████████████████████████████████████████████| 39/39 [00:01<00:00, 22.58it/s]"
     ]
    },
    {
     "name": "stdout",
     "output_type": "stream",
     "text": [
      "Adjusting learning rate of group 0 to 1.0000e-02.\n",
      "Adjusting learning rate of group 0 to 1.0000e-02.\n",
      "Epoch 116\n",
      "Accuracy: 0.9332932692307693 | Train loss: 2.2615845590575128 | Valid loss: 2.4050381428156142\n"
     ]
    },
    {
     "name": "stderr",
     "output_type": "stream",
     "text": [
      "\n",
      "100%|█████████████████████████████████████████████████████████████████████████████████████████████████████████████████████| 351/351 [00:23<00:00, 15.16it/s]\n",
      "100%|███████████████████████████████████████████████████████████████████████████████████████████████████████████████████████| 39/39 [00:01<00:00, 31.42it/s]"
     ]
    },
    {
     "name": "stdout",
     "output_type": "stream",
     "text": [
      "Adjusting learning rate of group 0 to 1.0000e-02.\n",
      "Adjusting learning rate of group 0 to 1.0000e-02.\n",
      "Epoch 117\n",
      "Accuracy: 0.9316907051282052 | Train loss: 2.256196294415031 | Valid loss: 2.414859197078607\n"
     ]
    },
    {
     "name": "stderr",
     "output_type": "stream",
     "text": [
      "\n",
      "100%|█████████████████████████████████████████████████████████████████████████████████████████████████████████████████████| 351/351 [00:24<00:00, 14.55it/s]\n",
      "100%|███████████████████████████████████████████████████████████████████████████████████████████████████████████████████████| 39/39 [00:01<00:00, 22.87it/s]"
     ]
    },
    {
     "name": "stdout",
     "output_type": "stream",
     "text": [
      "Adjusting learning rate of group 0 to 1.0000e-02.\n",
      "Adjusting learning rate of group 0 to 1.0000e-02.\n",
      "Epoch 118\n",
      "Accuracy: 0.9352964743589743 | Train loss: 2.26386585534468 | Valid loss: 2.3701837185101633\n"
     ]
    },
    {
     "name": "stderr",
     "output_type": "stream",
     "text": [
      "\n",
      "100%|█████████████████████████████████████████████████████████████████████████████████████████████████████████████████████| 351/351 [00:23<00:00, 14.91it/s]\n",
      "100%|███████████████████████████████████████████████████████████████████████████████████████████████████████████████████████| 39/39 [00:01<00:00, 29.28it/s]"
     ]
    },
    {
     "name": "stdout",
     "output_type": "stream",
     "text": [
      "Adjusting learning rate of group 0 to 1.0000e-02.\n",
      "Adjusting learning rate of group 0 to 1.0000e-02.\n",
      "Epoch 119\n",
      "Accuracy: 0.9360977564102564 | Train loss: 2.26088800185766 | Valid loss: 2.3878471362285123\n"
     ]
    },
    {
     "name": "stderr",
     "output_type": "stream",
     "text": [
      "\n",
      "100%|█████████████████████████████████████████████████████████████████████████████████████████████████████████████████████| 351/351 [00:22<00:00, 15.85it/s]\n",
      "100%|███████████████████████████████████████████████████████████████████████████████████████████████████████████████████████| 39/39 [00:01<00:00, 23.09it/s]"
     ]
    },
    {
     "name": "stdout",
     "output_type": "stream",
     "text": [
      "Adjusting learning rate of group 0 to 1.0000e-02.\n",
      "Adjusting learning rate of group 0 to 1.0000e-02.\n",
      "Epoch 120\n",
      "Accuracy: 0.9296875 | Train loss: 2.2572869242426337 | Valid loss: 2.465757828492385\n"
     ]
    },
    {
     "name": "stderr",
     "output_type": "stream",
     "text": [
      "\n",
      "100%|█████████████████████████████████████████████████████████████████████████████████████████████████████████████████████| 351/351 [00:22<00:00, 15.67it/s]\n",
      "100%|███████████████████████████████████████████████████████████████████████████████████████████████████████████████████████| 39/39 [00:01<00:00, 23.22it/s]"
     ]
    },
    {
     "name": "stdout",
     "output_type": "stream",
     "text": [
      "Adjusting learning rate of group 0 to 1.0000e-02.\n",
      "Adjusting learning rate of group 0 to 1.0000e-02.\n",
      "Epoch 121\n",
      "Accuracy: 0.9250801282051282 | Train loss: 2.263309463136896 | Valid loss: 2.44130190824851\n"
     ]
    },
    {
     "name": "stderr",
     "output_type": "stream",
     "text": [
      "\n",
      "100%|█████████████████████████████████████████████████████████████████████████████████████████████████████████████████████| 351/351 [00:22<00:00, 15.47it/s]\n",
      "100%|███████████████████████████████████████████████████████████████████████████████████████████████████████████████████████| 39/39 [00:01<00:00, 22.75it/s]"
     ]
    },
    {
     "name": "stdout",
     "output_type": "stream",
     "text": [
      "Adjusting learning rate of group 0 to 1.0000e-02.\n",
      "Adjusting learning rate of group 0 to 1.0000e-02.\n",
      "Epoch 122\n",
      "Accuracy: 0.9362980769230769 | Train loss: 2.2604744644925803 | Valid loss: 2.379030838990823\n"
     ]
    },
    {
     "name": "stderr",
     "output_type": "stream",
     "text": [
      "\n",
      "100%|█████████████████████████████████████████████████████████████████████████████████████████████████████████████████████| 351/351 [00:22<00:00, 15.51it/s]\n",
      "100%|███████████████████████████████████████████████████████████████████████████████████████████████████████████████████████| 39/39 [00:01<00:00, 25.63it/s]"
     ]
    },
    {
     "name": "stdout",
     "output_type": "stream",
     "text": [
      "Adjusting learning rate of group 0 to 1.0000e-03.\n",
      "Adjusting learning rate of group 0 to 1.0000e-03.\n",
      "Epoch 123\n",
      "Accuracy: 0.9310897435897436 | Train loss: 2.2615575763235065 | Valid loss: 2.4007920179611597\n"
     ]
    },
    {
     "name": "stderr",
     "output_type": "stream",
     "text": [
      "\n",
      "100%|█████████████████████████████████████████████████████████████████████████████████████████████████████████████████████| 351/351 [00:23<00:00, 14.69it/s]\n",
      "100%|███████████████████████████████████████████████████████████████████████████████████████████████████████████████████████| 39/39 [00:01<00:00, 23.14it/s]"
     ]
    },
    {
     "name": "stdout",
     "output_type": "stream",
     "text": [
      "Adjusting learning rate of group 0 to 1.0000e-03.\n",
      "Adjusting learning rate of group 0 to 1.0000e-03.\n",
      "Epoch 124\n",
      "Accuracy: 0.9399038461538461 | Train loss: 2.155252117716689 | Valid loss: 2.2392357801779723\n",
      "YES\n"
     ]
    },
    {
     "name": "stderr",
     "output_type": "stream",
     "text": [
      "\n",
      "100%|█████████████████████████████████████████████████████████████████████████████████████████████████████████████████████| 351/351 [00:23<00:00, 14.94it/s]\n",
      "100%|███████████████████████████████████████████████████████████████████████████████████████████████████████████████████████| 39/39 [00:01<00:00, 22.61it/s]"
     ]
    },
    {
     "name": "stdout",
     "output_type": "stream",
     "text": [
      "Adjusting learning rate of group 0 to 1.0000e-03.\n",
      "Adjusting learning rate of group 0 to 1.0000e-03.\n",
      "Epoch 125\n",
      "Accuracy: 0.9395032051282052 | Train loss: 2.1301137599510347 | Valid loss: 2.2334334819744797\n"
     ]
    },
    {
     "name": "stderr",
     "output_type": "stream",
     "text": [
      "\n",
      "100%|█████████████████████████████████████████████████████████████████████████████████████████████████████████████████████| 351/351 [00:25<00:00, 13.58it/s]\n",
      "100%|███████████████████████████████████████████████████████████████████████████████████████████████████████████████████████| 39/39 [00:01<00:00, 30.43it/s]"
     ]
    },
    {
     "name": "stdout",
     "output_type": "stream",
     "text": [
      "Adjusting learning rate of group 0 to 1.0000e-03.\n",
      "Adjusting learning rate of group 0 to 1.0000e-03.\n",
      "Epoch 126\n",
      "Accuracy: 0.9395032051282052 | Train loss: 2.115104566612135 | Valid loss: 2.226496941004044\n"
     ]
    },
    {
     "name": "stderr",
     "output_type": "stream",
     "text": [
      "\n",
      "100%|█████████████████████████████████████████████████████████████████████████████████████████████████████████████████████| 351/351 [00:20<00:00, 17.54it/s]\n",
      "100%|███████████████████████████████████████████████████████████████████████████████████████████████████████████████████████| 39/39 [00:01<00:00, 28.40it/s]"
     ]
    },
    {
     "name": "stdout",
     "output_type": "stream",
     "text": [
      "Adjusting learning rate of group 0 to 1.0000e-03.\n",
      "Adjusting learning rate of group 0 to 1.0000e-03.\n",
      "Epoch 127\n",
      "Accuracy: 0.9419070512820513 | Train loss: 2.110264374999239 | Valid loss: 2.225801327289679\n",
      "YES\n"
     ]
    },
    {
     "name": "stderr",
     "output_type": "stream",
     "text": [
      "\n",
      "100%|█████████████████████████████████████████████████████████████████████████████████████████████████████████████████████| 351/351 [00:22<00:00, 15.34it/s]\n",
      "100%|███████████████████████████████████████████████████████████████████████████████████████████████████████████████████████| 39/39 [00:01<00:00, 32.12it/s]"
     ]
    },
    {
     "name": "stdout",
     "output_type": "stream",
     "text": [
      "Adjusting learning rate of group 0 to 1.0000e-03.\n",
      "Adjusting learning rate of group 0 to 1.0000e-03.\n",
      "Epoch 128\n",
      "Accuracy: 0.9411057692307693 | Train loss: 2.110812024513201 | Valid loss: 2.21783954057938\n"
     ]
    },
    {
     "name": "stderr",
     "output_type": "stream",
     "text": [
      "\n",
      "100%|█████████████████████████████████████████████████████████████████████████████████████████████████████████████████████| 351/351 [00:22<00:00, 15.49it/s]\n",
      "100%|███████████████████████████████████████████████████████████████████████████████████████████████████████████████████████| 39/39 [00:01<00:00, 23.75it/s]\n"
     ]
    },
    {
     "name": "stdout",
     "output_type": "stream",
     "text": [
      "Adjusting learning rate of group 0 to 1.0000e-03.\n",
      "Adjusting learning rate of group 0 to 1.0000e-03.\n",
      "Epoch 129\n",
      "Accuracy: 0.9425080128205128 | Train loss: 2.1070585298402356 | Valid loss: 2.218821971844404\n",
      "YES\n"
     ]
    },
    {
     "name": "stderr",
     "output_type": "stream",
     "text": [
      "100%|█████████████████████████████████████████████████████████████████████████████████████████████████████████████████████| 351/351 [00:21<00:00, 16.26it/s]\n",
      "100%|███████████████████████████████████████████████████████████████████████████████████████████████████████████████████████| 39/39 [00:01<00:00, 31.33it/s]"
     ]
    },
    {
     "name": "stdout",
     "output_type": "stream",
     "text": [
      "Adjusting learning rate of group 0 to 1.0000e-03.\n",
      "Adjusting learning rate of group 0 to 1.0000e-03.\n",
      "Epoch 130\n",
      "Accuracy: 0.9409054487179487 | Train loss: 2.105892454796707 | Valid loss: 2.2180588184258876\n"
     ]
    },
    {
     "name": "stderr",
     "output_type": "stream",
     "text": [
      "\n",
      "100%|█████████████████████████████████████████████████████████████████████████████████████████████████████████████████████| 351/351 [00:22<00:00, 15.34it/s]\n",
      "100%|███████████████████████████████████████████████████████████████████████████████████████████████████████████████████████| 39/39 [00:01<00:00, 29.41it/s]"
     ]
    },
    {
     "name": "stdout",
     "output_type": "stream",
     "text": [
      "Adjusting learning rate of group 0 to 1.0000e-03.\n",
      "Adjusting learning rate of group 0 to 1.0000e-03.\n",
      "Epoch 131\n",
      "Accuracy: 0.9429086538461539 | Train loss: 2.101072882315372 | Valid loss: 2.2138590812683105\n",
      "YES\n"
     ]
    },
    {
     "name": "stderr",
     "output_type": "stream",
     "text": [
      "\n",
      "100%|█████████████████████████████████████████████████████████████████████████████████████████████████████████████████████| 351/351 [00:21<00:00, 16.26it/s]\n",
      "100%|███████████████████████████████████████████████████████████████████████████████████████████████████████████████████████| 39/39 [00:01<00:00, 30.32it/s]"
     ]
    },
    {
     "name": "stdout",
     "output_type": "stream",
     "text": [
      "Adjusting learning rate of group 0 to 1.0000e-03.\n",
      "Adjusting learning rate of group 0 to 1.0000e-03.\n",
      "Epoch 132\n",
      "Accuracy: 0.9421073717948718 | Train loss: 2.1008868431433654 | Valid loss: 2.2139679346329126\n"
     ]
    },
    {
     "name": "stderr",
     "output_type": "stream",
     "text": [
      "\n",
      "100%|█████████████████████████████████████████████████████████████████████████████████████████████████████████████████████| 351/351 [00:22<00:00, 15.92it/s]\n",
      "100%|███████████████████████████████████████████████████████████████████████████████████████████████████████████████████████| 39/39 [00:01<00:00, 29.08it/s]"
     ]
    },
    {
     "name": "stdout",
     "output_type": "stream",
     "text": [
      "Adjusting learning rate of group 0 to 1.0000e-03.\n",
      "Adjusting learning rate of group 0 to 1.0000e-03.\n",
      "Epoch 133\n",
      "Accuracy: 0.9407051282051282 | Train loss: 2.098427982411833 | Valid loss: 2.2196003168057175\n"
     ]
    },
    {
     "name": "stderr",
     "output_type": "stream",
     "text": [
      "\n",
      "100%|█████████████████████████████████████████████████████████████████████████████████████████████████████████████████████| 351/351 [00:22<00:00, 15.61it/s]\n",
      "100%|███████████████████████████████████████████████████████████████████████████████████████████████████████████████████████| 39/39 [00:01<00:00, 27.80it/s]"
     ]
    },
    {
     "name": "stdout",
     "output_type": "stream",
     "text": [
      "Adjusting learning rate of group 0 to 1.0000e-03.\n",
      "Adjusting learning rate of group 0 to 1.0000e-03.\n",
      "Epoch 134\n",
      "Accuracy: 0.9405048076923077 | Train loss: 2.0944500577415837 | Valid loss: 2.2152892381716995\n"
     ]
    },
    {
     "name": "stderr",
     "output_type": "stream",
     "text": [
      "\n",
      "100%|█████████████████████████████████████████████████████████████████████████████████████████████████████████████████████| 351/351 [00:23<00:00, 14.85it/s]\n",
      "100%|███████████████████████████████████████████████████████████████████████████████████████████████████████████████████████| 39/39 [00:01<00:00, 23.46it/s]"
     ]
    },
    {
     "name": "stdout",
     "output_type": "stream",
     "text": [
      "Adjusting learning rate of group 0 to 1.0000e-03.\n",
      "Adjusting learning rate of group 0 to 1.0000e-03.\n",
      "Epoch 135\n",
      "Accuracy: 0.9439102564102564 | Train loss: 2.096214624891254 | Valid loss: 2.2161622169690256\n",
      "YES\n"
     ]
    },
    {
     "name": "stderr",
     "output_type": "stream",
     "text": [
      "\n",
      "100%|█████████████████████████████████████████████████████████████████████████████████████████████████████████████████████| 351/351 [00:22<00:00, 15.39it/s]\n",
      "100%|███████████████████████████████████████████████████████████████████████████████████████████████████████████████████████| 39/39 [00:01<00:00, 29.45it/s]"
     ]
    },
    {
     "name": "stdout",
     "output_type": "stream",
     "text": [
      "Adjusting learning rate of group 0 to 1.0000e-03.\n",
      "Adjusting learning rate of group 0 to 1.0000e-03.\n",
      "Epoch 136\n",
      "Accuracy: 0.9421073717948718 | Train loss: 2.0959492307103256 | Valid loss: 2.215371009631035\n"
     ]
    },
    {
     "name": "stderr",
     "output_type": "stream",
     "text": [
      "\n",
      "100%|█████████████████████████████████████████████████████████████████████████████████████████████████████████████████████| 351/351 [00:22<00:00, 15.45it/s]\n",
      "100%|███████████████████████████████████████████████████████████████████████████████████████████████████████████████████████| 39/39 [00:01<00:00, 22.68it/s]"
     ]
    },
    {
     "name": "stdout",
     "output_type": "stream",
     "text": [
      "Adjusting learning rate of group 0 to 1.0000e-03.\n",
      "Adjusting learning rate of group 0 to 1.0000e-03.\n",
      "Epoch 137\n",
      "Accuracy: 0.9413060897435898 | Train loss: 2.094806313175082 | Valid loss: 2.2096018424400916\n"
     ]
    },
    {
     "name": "stderr",
     "output_type": "stream",
     "text": [
      "\n",
      "100%|█████████████████████████████████████████████████████████████████████████████████████████████████████████████████████| 351/351 [00:23<00:00, 14.95it/s]\n",
      "100%|███████████████████████████████████████████████████████████████████████████████████████████████████████████████████████| 39/39 [00:01<00:00, 24.39it/s]"
     ]
    },
    {
     "name": "stdout",
     "output_type": "stream",
     "text": [
      "Adjusting learning rate of group 0 to 1.0000e-03.\n",
      "Adjusting learning rate of group 0 to 1.0000e-03.\n",
      "Epoch 138\n",
      "Accuracy: 0.9419070512820513 | Train loss: 2.093864043893298 | Valid loss: 2.2152573940081473\n"
     ]
    },
    {
     "name": "stderr",
     "output_type": "stream",
     "text": [
      "\n",
      "100%|█████████████████████████████████████████████████████████████████████████████████████████████████████████████████████| 351/351 [00:23<00:00, 14.99it/s]\n",
      "100%|███████████████████████████████████████████████████████████████████████████████████████████████████████████████████████| 39/39 [00:01<00:00, 23.14it/s]"
     ]
    },
    {
     "name": "stdout",
     "output_type": "stream",
     "text": [
      "Adjusting learning rate of group 0 to 1.0000e-03.\n",
      "Adjusting learning rate of group 0 to 1.0000e-03.\n",
      "Epoch 139\n",
      "Accuracy: 0.9411057692307693 | Train loss: 2.0866503637400786 | Valid loss: 2.2099135227692432\n"
     ]
    },
    {
     "name": "stderr",
     "output_type": "stream",
     "text": [
      "\n",
      "100%|█████████████████████████████████████████████████████████████████████████████████████████████████████████████████████| 351/351 [00:23<00:00, 15.02it/s]\n",
      "100%|███████████████████████████████████████████████████████████████████████████████████████████████████████████████████████| 39/39 [00:01<00:00, 23.13it/s]"
     ]
    },
    {
     "name": "stdout",
     "output_type": "stream",
     "text": [
      "Adjusting learning rate of group 0 to 1.0000e-03.\n",
      "Adjusting learning rate of group 0 to 1.0000e-03.\n",
      "Epoch 140\n",
      "Accuracy: 0.9407051282051282 | Train loss: 2.090629002307555 | Valid loss: 2.2134832724546776\n"
     ]
    },
    {
     "name": "stderr",
     "output_type": "stream",
     "text": [
      "\n",
      "100%|█████████████████████████████████████████████████████████████████████████████████████████████████████████████████████| 351/351 [00:23<00:00, 14.82it/s]\n",
      "100%|███████████████████████████████████████████████████████████████████████████████████████████████████████████████████████| 39/39 [00:01<00:00, 22.87it/s]"
     ]
    },
    {
     "name": "stdout",
     "output_type": "stream",
     "text": [
      "Adjusting learning rate of group 0 to 1.0000e-03.\n",
      "Adjusting learning rate of group 0 to 1.0000e-03.\n",
      "Epoch 141\n",
      "Accuracy: 0.9415064102564102 | Train loss: 2.0886282316300266 | Valid loss: 2.2062768385960507\n"
     ]
    },
    {
     "name": "stderr",
     "output_type": "stream",
     "text": [
      "\n",
      "100%|█████████████████████████████████████████████████████████████████████████████████████████████████████████████████████| 351/351 [00:23<00:00, 15.08it/s]\n",
      "100%|███████████████████████████████████████████████████████████████████████████████████████████████████████████████████████| 39/39 [00:01<00:00, 22.02it/s]"
     ]
    },
    {
     "name": "stdout",
     "output_type": "stream",
     "text": [
      "Adjusting learning rate of group 0 to 1.0000e-03.\n",
      "Adjusting learning rate of group 0 to 1.0000e-03.\n",
      "Epoch 142\n",
      "Accuracy: 0.9423076923076923 | Train loss: 2.0893432204200333 | Valid loss: 2.2073082557091346\n"
     ]
    },
    {
     "name": "stderr",
     "output_type": "stream",
     "text": [
      "\n",
      "100%|█████████████████████████████████████████████████████████████████████████████████████████████████████████████████████| 351/351 [00:24<00:00, 14.52it/s]\n",
      "100%|███████████████████████████████████████████████████████████████████████████████████████████████████████████████████████| 39/39 [00:01<00:00, 20.66it/s]"
     ]
    },
    {
     "name": "stdout",
     "output_type": "stream",
     "text": [
      "Adjusting learning rate of group 0 to 1.0000e-03.\n",
      "Adjusting learning rate of group 0 to 1.0000e-03.\n",
      "Epoch 143\n",
      "Accuracy: 0.9415064102564102 | Train loss: 2.0855676017255864 | Valid loss: 2.217746343368139\n"
     ]
    },
    {
     "name": "stderr",
     "output_type": "stream",
     "text": [
      "\n",
      "100%|█████████████████████████████████████████████████████████████████████████████████████████████████████████████████████| 351/351 [00:23<00:00, 15.15it/s]\n",
      "100%|███████████████████████████████████████████████████████████████████████████████████████████████████████████████████████| 39/39 [00:02<00:00, 19.48it/s]"
     ]
    },
    {
     "name": "stdout",
     "output_type": "stream",
     "text": [
      "Adjusting learning rate of group 0 to 1.0000e-03.\n",
      "Adjusting learning rate of group 0 to 1.0000e-03.\n",
      "Epoch 144\n",
      "Accuracy: 0.9401041666666666 | Train loss: 2.086126655934543 | Valid loss: 2.209525615741045\n"
     ]
    },
    {
     "name": "stderr",
     "output_type": "stream",
     "text": [
      "\n",
      "100%|█████████████████████████████████████████████████████████████████████████████████████████████████████████████████████| 351/351 [00:23<00:00, 14.92it/s]\n",
      "100%|███████████████████████████████████████████████████████████████████████████████████████████████████████████████████████| 39/39 [00:01<00:00, 22.49it/s]"
     ]
    },
    {
     "name": "stdout",
     "output_type": "stream",
     "text": [
      "Adjusting learning rate of group 0 to 1.0000e-03.\n",
      "Adjusting learning rate of group 0 to 1.0000e-03.\n",
      "Epoch 145\n",
      "Accuracy: 0.9415064102564102 | Train loss: 2.0822254538196443 | Valid loss: 2.2115328250787196\n"
     ]
    },
    {
     "name": "stderr",
     "output_type": "stream",
     "text": [
      "\n",
      "100%|█████████████████████████████████████████████████████████████████████████████████████████████████████████████████████| 351/351 [00:23<00:00, 14.95it/s]\n",
      "100%|███████████████████████████████████████████████████████████████████████████████████████████████████████████████████████| 39/39 [00:01<00:00, 29.09it/s]"
     ]
    },
    {
     "name": "stdout",
     "output_type": "stream",
     "text": [
      "Adjusting learning rate of group 0 to 1.0000e-03.\n",
      "Adjusting learning rate of group 0 to 1.0000e-03.\n",
      "Epoch 146\n",
      "Accuracy: 0.9411057692307693 | Train loss: 2.082696309796086 | Valid loss: 2.206392948444073\n"
     ]
    },
    {
     "name": "stderr",
     "output_type": "stream",
     "text": [
      "\n",
      "100%|█████████████████████████████████████████████████████████████████████████████████████████████████████████████████████| 351/351 [00:22<00:00, 15.91it/s]\n",
      "100%|███████████████████████████████████████████████████████████████████████████████████████████████████████████████████████| 39/39 [00:01<00:00, 22.93it/s]"
     ]
    },
    {
     "name": "stdout",
     "output_type": "stream",
     "text": [
      "Adjusting learning rate of group 0 to 1.0000e-03.\n",
      "Adjusting learning rate of group 0 to 1.0000e-03.\n",
      "Epoch 147\n",
      "Accuracy: 0.9437099358974359 | Train loss: 2.084408869770517 | Valid loss: 2.2086815344981656\n"
     ]
    },
    {
     "name": "stderr",
     "output_type": "stream",
     "text": [
      "\n",
      "100%|█████████████████████████████████████████████████████████████████████████████████████████████████████████████████████| 351/351 [00:23<00:00, 14.99it/s]\n",
      "100%|███████████████████████████████████████████████████████████████████████████████████████████████████████████████████████| 39/39 [00:01<00:00, 22.63it/s]"
     ]
    },
    {
     "name": "stdout",
     "output_type": "stream",
     "text": [
      "Adjusting learning rate of group 0 to 1.0000e-03.\n",
      "Adjusting learning rate of group 0 to 1.0000e-03.\n",
      "Epoch 148\n",
      "Accuracy: 0.9421073717948718 | Train loss: 2.082933266617973 | Valid loss: 2.211690597045116\n"
     ]
    },
    {
     "name": "stderr",
     "output_type": "stream",
     "text": [
      "\n",
      "100%|█████████████████████████████████████████████████████████████████████████████████████████████████████████████████████| 351/351 [00:22<00:00, 15.84it/s]\n",
      "100%|███████████████████████████████████████████████████████████████████████████████████████████████████████████████████████| 39/39 [00:01<00:00, 24.19it/s]"
     ]
    },
    {
     "name": "stdout",
     "output_type": "stream",
     "text": [
      "Adjusting learning rate of group 0 to 1.0000e-03.\n",
      "Adjusting learning rate of group 0 to 1.0000e-03.\n",
      "Epoch 149\n",
      "Accuracy: 0.9409054487179487 | Train loss: 2.0814289791971192 | Valid loss: 2.2053538163503013\n"
     ]
    },
    {
     "name": "stderr",
     "output_type": "stream",
     "text": [
      "\n",
      "100%|█████████████████████████████████████████████████████████████████████████████████████████████████████████████████████| 351/351 [00:23<00:00, 15.08it/s]\n",
      "100%|███████████████████████████████████████████████████████████████████████████████████████████████████████████████████████| 39/39 [00:01<00:00, 29.37it/s]"
     ]
    },
    {
     "name": "stdout",
     "output_type": "stream",
     "text": [
      "Adjusting learning rate of group 0 to 1.0000e-03.\n",
      "Adjusting learning rate of group 0 to 1.0000e-03.\n",
      "Epoch 150\n",
      "Accuracy: 0.9417067307692307 | Train loss: 2.0808040562518304 | Valid loss: 2.207279229775453\n"
     ]
    },
    {
     "name": "stderr",
     "output_type": "stream",
     "text": [
      "\n",
      "100%|█████████████████████████████████████████████████████████████████████████████████████████████████████████████████████| 351/351 [00:23<00:00, 14.71it/s]\n",
      "100%|███████████████████████████████████████████████████████████████████████████████████████████████████████████████████████| 39/39 [00:01<00:00, 22.63it/s]"
     ]
    },
    {
     "name": "stdout",
     "output_type": "stream",
     "text": [
      "Adjusting learning rate of group 0 to 1.0000e-03.\n",
      "Adjusting learning rate of group 0 to 1.0000e-03.\n",
      "Epoch 151\n",
      "Accuracy: 0.9433092948717948 | Train loss: 2.0823035759803576 | Valid loss: 2.2066889665065665\n"
     ]
    },
    {
     "name": "stderr",
     "output_type": "stream",
     "text": [
      "\n",
      "100%|█████████████████████████████████████████████████████████████████████████████████████████████████████████████████████| 351/351 [00:23<00:00, 15.03it/s]\n",
      "100%|███████████████████████████████████████████████████████████████████████████████████████████████████████████████████████| 39/39 [00:01<00:00, 23.33it/s]"
     ]
    },
    {
     "name": "stdout",
     "output_type": "stream",
     "text": [
      "Adjusting learning rate of group 0 to 1.0000e-03.\n",
      "Adjusting learning rate of group 0 to 1.0000e-03.\n",
      "Epoch 152\n",
      "Accuracy: 0.9409054487179487 | Train loss: 2.077973041778956 | Valid loss: 2.2110439202724357\n"
     ]
    },
    {
     "name": "stderr",
     "output_type": "stream",
     "text": [
      "\n",
      "100%|█████████████████████████████████████████████████████████████████████████████████████████████████████████████████████| 351/351 [00:23<00:00, 14.96it/s]\n",
      "100%|███████████████████████████████████████████████████████████████████████████████████████████████████████████████████████| 39/39 [00:01<00:00, 23.07it/s]"
     ]
    },
    {
     "name": "stdout",
     "output_type": "stream",
     "text": [
      "Adjusting learning rate of group 0 to 1.0000e-03.\n",
      "Adjusting learning rate of group 0 to 1.0000e-03.\n",
      "Epoch 153\n",
      "Accuracy: 0.9407051282051282 | Train loss: 2.079131191272681 | Valid loss: 2.207355694893079\n"
     ]
    },
    {
     "name": "stderr",
     "output_type": "stream",
     "text": [
      "\n",
      "100%|█████████████████████████████████████████████████████████████████████████████████████████████████████████████████████| 351/351 [00:23<00:00, 14.90it/s]\n",
      "100%|███████████████████████████████████████████████████████████████████████████████████████████████████████████████████████| 39/39 [00:01<00:00, 22.72it/s]"
     ]
    },
    {
     "name": "stdout",
     "output_type": "stream",
     "text": [
      "Adjusting learning rate of group 0 to 1.0000e-03.\n",
      "Adjusting learning rate of group 0 to 1.0000e-03.\n",
      "Epoch 154\n",
      "Accuracy: 0.9425080128205128 | Train loss: 2.0794796739887986 | Valid loss: 2.20655886332194\n"
     ]
    },
    {
     "name": "stderr",
     "output_type": "stream",
     "text": [
      "\n",
      "100%|█████████████████████████████████████████████████████████████████████████████████████████████████████████████████████| 351/351 [00:23<00:00, 14.78it/s]\n",
      "100%|███████████████████████████████████████████████████████████████████████████████████████████████████████████████████████| 39/39 [00:01<00:00, 26.61it/s]"
     ]
    },
    {
     "name": "stdout",
     "output_type": "stream",
     "text": [
      "Adjusting learning rate of group 0 to 1.0000e-03.\n",
      "Adjusting learning rate of group 0 to 1.0000e-03.\n",
      "Epoch 155\n",
      "Accuracy: 0.9419070512820513 | Train loss: 2.078050572648008 | Valid loss: 2.206608087588579\n"
     ]
    },
    {
     "name": "stderr",
     "output_type": "stream",
     "text": [
      "\n",
      "100%|█████████████████████████████████████████████████████████████████████████████████████████████████████████████████████| 351/351 [00:23<00:00, 15.12it/s]\n",
      "100%|███████████████████████████████████████████████████████████████████████████████████████████████████████████████████████| 39/39 [00:01<00:00, 29.27it/s]"
     ]
    },
    {
     "name": "stdout",
     "output_type": "stream",
     "text": [
      "Adjusting learning rate of group 0 to 1.0000e-03.\n",
      "Adjusting learning rate of group 0 to 1.0000e-03.\n",
      "Epoch 156\n",
      "Accuracy: 0.9425080128205128 | Train loss: 2.0744402914644984 | Valid loss: 2.2091475816873403\n"
     ]
    },
    {
     "name": "stderr",
     "output_type": "stream",
     "text": [
      "\n",
      "100%|█████████████████████████████████████████████████████████████████████████████████████████████████████████████████████| 351/351 [00:21<00:00, 16.50it/s]\n",
      "100%|███████████████████████████████████████████████████████████████████████████████████████████████████████████████████████| 39/39 [00:01<00:00, 25.26it/s]"
     ]
    },
    {
     "name": "stdout",
     "output_type": "stream",
     "text": [
      "Adjusting learning rate of group 0 to 1.0000e-03.\n",
      "Adjusting learning rate of group 0 to 1.0000e-03.\n",
      "Epoch 157\n",
      "Accuracy: 0.9409054487179487 | Train loss: 2.0778768561844134 | Valid loss: 2.206319264876537\n"
     ]
    },
    {
     "name": "stderr",
     "output_type": "stream",
     "text": [
      "\n",
      "100%|█████████████████████████████████████████████████████████████████████████████████████████████████████████████████████| 351/351 [00:23<00:00, 15.00it/s]\n",
      "100%|███████████████████████████████████████████████████████████████████████████████████████████████████████████████████████| 39/39 [00:01<00:00, 26.97it/s]"
     ]
    },
    {
     "name": "stdout",
     "output_type": "stream",
     "text": [
      "Adjusting learning rate of group 0 to 1.0000e-03.\n",
      "Adjusting learning rate of group 0 to 1.0000e-03.\n",
      "Epoch 158\n",
      "Accuracy: 0.9419070512820513 | Train loss: 2.0748236980872954 | Valid loss: 2.20860165816087\n"
     ]
    },
    {
     "name": "stderr",
     "output_type": "stream",
     "text": [
      "\n",
      "100%|█████████████████████████████████████████████████████████████████████████████████████████████████████████████████████| 351/351 [00:23<00:00, 15.09it/s]\n",
      "100%|███████████████████████████████████████████████████████████████████████████████████████████████████████████████████████| 39/39 [00:01<00:00, 23.20it/s]"
     ]
    },
    {
     "name": "stdout",
     "output_type": "stream",
     "text": [
      "Adjusting learning rate of group 0 to 1.0000e-03.\n",
      "Adjusting learning rate of group 0 to 1.0000e-03.\n",
      "Epoch 159\n",
      "Accuracy: 0.9423076923076923 | Train loss: 2.074297968138996 | Valid loss: 2.2067491152347665\n"
     ]
    },
    {
     "name": "stderr",
     "output_type": "stream",
     "text": [
      "\n",
      "100%|█████████████████████████████████████████████████████████████████████████████████████████████████████████████████████| 351/351 [00:22<00:00, 15.60it/s]\n",
      "100%|███████████████████████████████████████████████████████████████████████████████████████████████████████████████████████| 39/39 [00:01<00:00, 22.82it/s]"
     ]
    },
    {
     "name": "stdout",
     "output_type": "stream",
     "text": [
      "Adjusting learning rate of group 0 to 1.0000e-03.\n",
      "Adjusting learning rate of group 0 to 1.0000e-03.\n",
      "Epoch 160\n",
      "Accuracy: 0.9419070512820513 | Train loss: 2.0740040381070215 | Valid loss: 2.2062520186106362\n"
     ]
    },
    {
     "name": "stderr",
     "output_type": "stream",
     "text": [
      "\n",
      "100%|█████████████████████████████████████████████████████████████████████████████████████████████████████████████████████| 351/351 [00:22<00:00, 15.31it/s]\n",
      "100%|███████████████████████████████████████████████████████████████████████████████████████████████████████████████████████| 39/39 [00:01<00:00, 22.78it/s]"
     ]
    },
    {
     "name": "stdout",
     "output_type": "stream",
     "text": [
      "Adjusting learning rate of group 0 to 1.0000e-03.\n",
      "Adjusting learning rate of group 0 to 1.0000e-03.\n",
      "Epoch 161\n",
      "Accuracy: 0.9423076923076923 | Train loss: 2.073354220797873 | Valid loss: 2.206337977678348\n"
     ]
    },
    {
     "name": "stderr",
     "output_type": "stream",
     "text": [
      "\n",
      "100%|█████████████████████████████████████████████████████████████████████████████████████████████████████████████████████| 351/351 [00:22<00:00, 15.63it/s]\n",
      "100%|███████████████████████████████████████████████████████████████████████████████████████████████████████████████████████| 39/39 [00:01<00:00, 22.76it/s]"
     ]
    },
    {
     "name": "stdout",
     "output_type": "stream",
     "text": [
      "Adjusting learning rate of group 0 to 1.0000e-03.\n",
      "Adjusting learning rate of group 0 to 1.0000e-03.\n",
      "Epoch 162\n",
      "Accuracy: 0.9423076923076923 | Train loss: 2.071811327907095 | Valid loss: 2.207655277007665\n"
     ]
    },
    {
     "name": "stderr",
     "output_type": "stream",
     "text": [
      "\n",
      "100%|█████████████████████████████████████████████████████████████████████████████████████████████████████████████████████| 351/351 [00:22<00:00, 15.46it/s]\n",
      "100%|███████████████████████████████████████████████████████████████████████████████████████████████████████████████████████| 39/39 [00:01<00:00, 29.84it/s]"
     ]
    },
    {
     "name": "stdout",
     "output_type": "stream",
     "text": [
      "Adjusting learning rate of group 0 to 1.0000e-03.\n",
      "Adjusting learning rate of group 0 to 1.0000e-03.\n",
      "Epoch 163\n",
      "Accuracy: 0.9415064102564102 | Train loss: 2.075102066382384 | Valid loss: 2.201929984948574\n"
     ]
    },
    {
     "name": "stderr",
     "output_type": "stream",
     "text": [
      "\n"
     ]
    }
   ],
   "source": [
    "best_score = 0\n",
    "\n",
    "for epoch in range(CFG.epochs):\n",
    "    \n",
    "    start_time = time.time()\n",
    "    \n",
    "    avg_loss = train_fn(train_loader, teacher_model, student_model, paraphraser, translator, ft_loss, epoch, optimizer, optimizer_translator, device)\n",
    "    avg_val_loss, score = valid_fn(valid_loader, teacher_model, student_model, paraphraser, translator, ft_loss, epoch, optimizer, optimizer_translator, device)\n",
    "    \n",
    "    scheduler.step()\n",
    "    scheduler_translator.step()\n",
    "    \n",
    "    print(f\"Epoch {epoch+1}\")\n",
    "    print(f\"Accuracy: {score} | Train loss: {avg_loss} | Valid loss: {avg_val_loss}\")\n",
    "    \n",
    "    if score > best_score:\n",
    "        # Save the model if the validation score is better\n",
    "        print(\"YES\")\n",
    "        best_score = score\n",
    "        torch.save(student_model.state_dict(), f\"best_model_transfer.pt\")\n",
    "        \n",
    "    elapsed = time.time() - start_time"
   ]
  },
  {
   "cell_type": "code",
   "execution_count": 34,
   "id": "f3e96204",
   "metadata": {},
   "outputs": [],
   "source": [
    "torch.save(student_model.state_dict(), f\"last_model_transfer.pt\")"
   ]
  },
  {
   "cell_type": "code",
   "execution_count": 45,
   "id": "1f1fb507",
   "metadata": {},
   "outputs": [
    {
     "data": {
      "text/plain": [
       "<All keys matched successfully>"
      ]
     },
     "execution_count": 45,
     "metadata": {},
     "output_type": "execute_result"
    }
   ],
   "source": [
    "student_model.load_state_dict(torch.load(\"./best_model_transfer.pt\"))"
   ]
  },
  {
   "cell_type": "code",
   "execution_count": 82,
   "id": "5d24f156",
   "metadata": {},
   "outputs": [],
   "source": [
    "test_loader = DataLoader(test_dataset, batch_size=CFG.batch_size, shuffle=False,\n",
    "                          num_workers=CFG.num_workers, pin_memory=True, drop_last=False)"
   ]
  },
  {
   "cell_type": "code",
   "execution_count": 88,
   "id": "276a2b97",
   "metadata": {},
   "outputs": [
    {
     "name": "stderr",
     "output_type": "stream",
     "text": [
      "100%|███████████████████████████████████████████████████████████████████████████████████████████████████████████████████████| 79/79 [00:02<00:00, 28.78it/s]\n"
     ]
    }
   ],
   "source": [
    "preds = []\n",
    "valid_labels = []\n",
    "\n",
    "student_model.eval()\n",
    "for step, (images, labels) in tqdm(enumerate(test_loader), total = len(test_loader)):\n",
    "\n",
    "    images = images.to(device, dtype=torch.float)\n",
    "    labels = labels.to(device)\n",
    "    batch_size = labels.size(0)\n",
    "\n",
    "    with torch.no_grad():\n",
    "        outputs = student_model(images)\n",
    "        \n",
    "    preds.append(outputs[3].softmax(1).to('cpu').numpy())\n",
    "    valid_labels.append(labels.to('cpu').numpy())\n",
    "\n",
    "predictions = np.concatenate(preds)\n",
    "valid_labels = np.concatenate(valid_labels)\n",
    "\n",
    "score = get_score(valid_labels, predictions.argmax(1))"
   ]
  },
  {
   "cell_type": "code",
   "execution_count": null,
   "id": "c31b663b",
   "metadata": {},
   "outputs": [],
   "source": []
  }
 ],
 "metadata": {
  "kernelspec": {
   "display_name": "Python 3 (ipykernel)",
   "language": "python",
   "name": "python3"
  },
  "language_info": {
   "codemirror_mode": {
    "name": "ipython",
    "version": 3
   },
   "file_extension": ".py",
   "mimetype": "text/x-python",
   "name": "python",
   "nbconvert_exporter": "python",
   "pygments_lexer": "ipython3",
   "version": "3.8.10"
  }
 },
 "nbformat": 4,
 "nbformat_minor": 5
}
