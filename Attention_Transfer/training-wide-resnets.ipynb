{
 "cells": [
  {
   "cell_type": "markdown",
   "id": "a211d0ae",
   "metadata": {
    "papermill": {
     "duration": 0.046249,
     "end_time": "2022-05-22T14:41:48.643576",
     "exception": false,
     "start_time": "2022-05-22T14:41:48.597327",
     "status": "completed"
    },
    "tags": []
   },
   "source": [
    "# Libraries"
   ]
  },
  {
   "cell_type": "code",
   "execution_count": 1,
   "id": "fab94105",
   "metadata": {
    "execution": {
     "iopub.execute_input": "2022-05-22T14:41:48.691788Z",
     "iopub.status.busy": "2022-05-22T14:41:48.691424Z",
     "iopub.status.idle": "2022-05-22T14:41:51.620327Z",
     "shell.execute_reply": "2022-05-22T14:41:51.619586Z"
    },
    "papermill": {
     "duration": 2.955597,
     "end_time": "2022-05-22T14:41:51.622616",
     "exception": false,
     "start_time": "2022-05-22T14:41:48.667019",
     "status": "completed"
    },
    "tags": []
   },
   "outputs": [],
   "source": [
    "import os\n",
    "import time\n",
    "import random\n",
    "\n",
    "import numpy as np\n",
    "import matplotlib.pyplot as plt\n",
    "from tqdm import tqdm\n",
    "import torch\n",
    "import torch.nn as nn\n",
    "from torchvision import transforms\n",
    "from torch.utils.data import Dataset, DataLoader\n",
    "from torch.optim import SGD, Adam, AdamW\n",
    "from torch.optim.lr_scheduler import ReduceLROnPlateau, CosineAnnealingLR, CosineAnnealingWarmRestarts, MultiStepLR\n",
    "import torch.nn.init as init\n",
    "import torch.nn.functional as F\n",
    "\n",
    "from sklearn.metrics import accuracy_score\n",
    "from sklearn.model_selection import train_test_split"
   ]
  },
  {
   "cell_type": "code",
   "execution_count": 2,
   "id": "34d9ce37",
   "metadata": {
    "execution": {
     "iopub.execute_input": "2022-05-22T14:41:51.672921Z",
     "iopub.status.busy": "2022-05-22T14:41:51.672689Z",
     "iopub.status.idle": "2022-05-22T14:41:51.734649Z",
     "shell.execute_reply": "2022-05-22T14:41:51.733942Z"
    },
    "papermill": {
     "duration": 0.089108,
     "end_time": "2022-05-22T14:41:51.736425",
     "exception": false,
     "start_time": "2022-05-22T14:41:51.647317",
     "status": "completed"
    },
    "tags": []
   },
   "outputs": [],
   "source": [
    "device = torch.device('cuda' if torch.cuda.is_available() else 'cpu')"
   ]
  },
  {
   "cell_type": "code",
   "execution_count": 3,
   "id": "3e3a6eee",
   "metadata": {
    "execution": {
     "iopub.execute_input": "2022-05-22T14:41:51.787467Z",
     "iopub.status.busy": "2022-05-22T14:41:51.787261Z",
     "iopub.status.idle": "2022-05-22T14:41:51.794248Z",
     "shell.execute_reply": "2022-05-22T14:41:51.793614Z"
    },
    "papermill": {
     "duration": 0.034451,
     "end_time": "2022-05-22T14:41:51.795952",
     "exception": false,
     "start_time": "2022-05-22T14:41:51.761501",
     "status": "completed"
    },
    "tags": []
   },
   "outputs": [],
   "source": [
    "def seed_torch(seed=42):\n",
    "    random.seed(seed)\n",
    "    os.environ['PYTHONHASHSEED'] = str(seed)\n",
    "    np.random.seed(seed)\n",
    "    torch.manual_seed(seed)\n",
    "    torch.cuda.manual_seed(seed)\n",
    "    torch.backends.cudnn.deterministic = True\n",
    "\n",
    "seed_torch(27)"
   ]
  },
  {
   "cell_type": "markdown",
   "id": "3efe0269",
   "metadata": {
    "papermill": {
     "duration": 0.022966,
     "end_time": "2022-05-22T14:41:51.842612",
     "exception": false,
     "start_time": "2022-05-22T14:41:51.819646",
     "status": "completed"
    },
    "tags": []
   },
   "source": [
    "# Dataset"
   ]
  },
  {
   "cell_type": "code",
   "execution_count": 4,
   "id": "652bf0f2",
   "metadata": {
    "execution": {
     "iopub.execute_input": "2022-05-22T14:41:51.892355Z",
     "iopub.status.busy": "2022-05-22T14:41:51.891839Z",
     "iopub.status.idle": "2022-05-22T14:41:51.895770Z",
     "shell.execute_reply": "2022-05-22T14:41:51.895139Z"
    },
    "papermill": {
     "duration": 0.03004,
     "end_time": "2022-05-22T14:41:51.897492",
     "exception": false,
     "start_time": "2022-05-22T14:41:51.867452",
     "status": "completed"
    },
    "tags": []
   },
   "outputs": [],
   "source": [
    "def unpickle(file):\n",
    "    import pickle\n",
    "    with open(file, 'rb') as fo:\n",
    "        dict = pickle.load(fo, encoding='bytes')\n",
    "    return dict"
   ]
  },
  {
   "cell_type": "code",
   "execution_count": 5,
   "id": "3925f611",
   "metadata": {
    "execution": {
     "iopub.execute_input": "2022-05-22T14:41:51.945168Z",
     "iopub.status.busy": "2022-05-22T14:41:51.944667Z",
     "iopub.status.idle": "2022-05-22T14:41:51.947748Z",
     "shell.execute_reply": "2022-05-22T14:41:51.947128Z"
    },
    "papermill": {
     "duration": 0.028779,
     "end_time": "2022-05-22T14:41:51.949344",
     "exception": false,
     "start_time": "2022-05-22T14:41:51.920565",
     "status": "completed"
    },
    "tags": []
   },
   "outputs": [],
   "source": [
    "BASE_DIR = \"../input/cifar10-python/cifar-10-batches-py\""
   ]
  },
  {
   "cell_type": "code",
   "execution_count": 6,
   "id": "6b6ef65d",
   "metadata": {
    "execution": {
     "iopub.execute_input": "2022-05-22T14:41:51.996764Z",
     "iopub.status.busy": "2022-05-22T14:41:51.996586Z",
     "iopub.status.idle": "2022-05-22T14:41:55.822157Z",
     "shell.execute_reply": "2022-05-22T14:41:55.821395Z"
    },
    "papermill": {
     "duration": 3.851923,
     "end_time": "2022-05-22T14:41:55.824351",
     "exception": false,
     "start_time": "2022-05-22T14:41:51.972428",
     "status": "completed"
    },
    "tags": []
   },
   "outputs": [],
   "source": [
    "data = np.empty((0, 3072))\n",
    "labels = []\n",
    "for i in range(1,6):\n",
    "    path = os.path.join(BASE_DIR, f\"data_batch_{i}\")\n",
    "    dict = unpickle(path)\n",
    "    data = np.vstack((data, dict[b'data']))\n",
    "    labels.extend(dict[b'labels'])"
   ]
  },
  {
   "cell_type": "code",
   "execution_count": 7,
   "id": "d5d31fdf",
   "metadata": {
    "execution": {
     "iopub.execute_input": "2022-05-22T14:41:55.872610Z",
     "iopub.status.busy": "2022-05-22T14:41:55.872265Z",
     "iopub.status.idle": "2022-05-22T14:41:56.233226Z",
     "shell.execute_reply": "2022-05-22T14:41:56.232463Z"
    },
    "papermill": {
     "duration": 0.387338,
     "end_time": "2022-05-22T14:41:56.235192",
     "exception": false,
     "start_time": "2022-05-22T14:41:55.847854",
     "status": "completed"
    },
    "tags": []
   },
   "outputs": [],
   "source": [
    "train_data, valid_data, train_labels, valid_labels = train_test_split(data, labels, test_size=0.1, random_state=42)"
   ]
  },
  {
   "cell_type": "code",
   "execution_count": 8,
   "id": "d92b908b",
   "metadata": {
    "execution": {
     "iopub.execute_input": "2022-05-22T14:41:56.283829Z",
     "iopub.status.busy": "2022-05-22T14:41:56.283232Z",
     "iopub.status.idle": "2022-05-22T14:41:56.290450Z",
     "shell.execute_reply": "2022-05-22T14:41:56.289812Z"
    },
    "papermill": {
     "duration": 0.032859,
     "end_time": "2022-05-22T14:41:56.292060",
     "exception": false,
     "start_time": "2022-05-22T14:41:56.259201",
     "status": "completed"
    },
    "tags": []
   },
   "outputs": [],
   "source": [
    "class CifarDataset(Dataset):\n",
    "    def __init__(self, data, labels, transform=None):\n",
    "        self.data = np.transpose(data.reshape(data.shape[0], 3, 32, 32), (0, 2, 3, 1))/255\n",
    "        \n",
    "        self.labels = np.array(labels)\n",
    "        self.transform = transform\n",
    "\n",
    "    def __len__(self):\n",
    "        return self.data.shape[0]\n",
    "\n",
    "    def __getitem__(self, idx):\n",
    "        if self.transform:\n",
    "            image = self.transform(self.data[idx])\n",
    "        else:\n",
    "            image = torch.tensor(self.data[idx])\n",
    "        label = torch.tensor(self.labels[idx])\n",
    "        return image, label"
   ]
  },
  {
   "cell_type": "code",
   "execution_count": 9,
   "id": "27add4cd",
   "metadata": {
    "execution": {
     "iopub.execute_input": "2022-05-22T14:41:56.339877Z",
     "iopub.status.busy": "2022-05-22T14:41:56.339694Z",
     "iopub.status.idle": "2022-05-22T14:41:56.345896Z",
     "shell.execute_reply": "2022-05-22T14:41:56.345083Z"
    },
    "papermill": {
     "duration": 0.032391,
     "end_time": "2022-05-22T14:41:56.347553",
     "exception": false,
     "start_time": "2022-05-22T14:41:56.315162",
     "status": "completed"
    },
    "tags": []
   },
   "outputs": [],
   "source": [
    "transform_train = transforms.Compose(\n",
    "                [\n",
    "                    \n",
    "                    transforms.ToTensor(),\n",
    "                    transforms.Pad(4, padding_mode='reflect'),\n",
    "                    transforms.RandomHorizontalFlip(p=0.5),\n",
    "                    transforms.RandomCrop(32),\n",
    "                    transforms.Normalize((0.4914, 0.4822, 0.4465), (0.247, 0.243, 0.261))\n",
    "                ]\n",
    "            )\n",
    "\n",
    "transform_test = transforms.Compose(\n",
    "                [\n",
    "                    transforms.ToTensor(),\n",
    "                    transforms.Normalize((0.4914, 0.4822, 0.4465), (0.247, 0.243, 0.261))\n",
    "                ]\n",
    "            )"
   ]
  },
  {
   "cell_type": "code",
   "execution_count": 10,
   "id": "87dfeb30",
   "metadata": {
    "execution": {
     "iopub.execute_input": "2022-05-22T14:41:56.395262Z",
     "iopub.status.busy": "2022-05-22T14:41:56.394644Z",
     "iopub.status.idle": "2022-05-22T14:41:56.753776Z",
     "shell.execute_reply": "2022-05-22T14:41:56.752963Z"
    },
    "papermill": {
     "duration": 0.385308,
     "end_time": "2022-05-22T14:41:56.756064",
     "exception": false,
     "start_time": "2022-05-22T14:41:56.370756",
     "status": "completed"
    },
    "tags": []
   },
   "outputs": [],
   "source": [
    "train_dataset = CifarDataset(train_data, train_labels, transform_train)\n",
    "valid_dataset = CifarDataset(valid_data, valid_labels, transform_test)"
   ]
  },
  {
   "cell_type": "code",
   "execution_count": 11,
   "id": "a5bbdb3a",
   "metadata": {
    "execution": {
     "iopub.execute_input": "2022-05-22T14:41:56.806647Z",
     "iopub.status.busy": "2022-05-22T14:41:56.806049Z",
     "iopub.status.idle": "2022-05-22T14:41:56.810246Z",
     "shell.execute_reply": "2022-05-22T14:41:56.809583Z"
    },
    "papermill": {
     "duration": 0.030087,
     "end_time": "2022-05-22T14:41:56.811862",
     "exception": false,
     "start_time": "2022-05-22T14:41:56.781775",
     "status": "completed"
    },
    "tags": []
   },
   "outputs": [],
   "source": [
    "def show_img(x):\n",
    "    img, label = x\n",
    "    print(label)\n",
    "    plt.imshow(torch.permute(img, (1,2,0)))"
   ]
  },
  {
   "cell_type": "code",
   "execution_count": 12,
   "id": "468bdc41",
   "metadata": {
    "execution": {
     "iopub.execute_input": "2022-05-22T14:41:56.859012Z",
     "iopub.status.busy": "2022-05-22T14:41:56.858516Z",
     "iopub.status.idle": "2022-05-22T14:41:57.066419Z",
     "shell.execute_reply": "2022-05-22T14:41:57.065743Z"
    },
    "papermill": {
     "duration": 0.233259,
     "end_time": "2022-05-22T14:41:57.068072",
     "exception": false,
     "start_time": "2022-05-22T14:41:56.834813",
     "status": "completed"
    },
    "tags": []
   },
   "outputs": [
    {
     "name": "stdout",
     "output_type": "stream",
     "text": [
      "tensor(1)\n"
     ]
    },
    {
     "data": {
      "image/png": "[encoded data removed]",
      "text/plain": [
       "<Figure size 432x288 with 1 Axes>"
      ]
     },
     "metadata": {
      "needs_background": "light"
     },
     "output_type": "display_data"
    }
   ],
   "source": [
    "show_img(train_dataset[900])"
   ]
  },
  {
   "cell_type": "code",
   "execution_count": 13,
   "id": "c8e51fac",
   "metadata": {
    "execution": {
     "iopub.execute_input": "2022-05-22T14:41:57.118856Z",
     "iopub.status.busy": "2022-05-22T14:41:57.118319Z",
     "iopub.status.idle": "2022-05-22T14:41:57.428184Z",
     "shell.execute_reply": "2022-05-22T14:41:57.427406Z"
    },
    "papermill": {
     "duration": 0.33691,
     "end_time": "2022-05-22T14:41:57.430223",
     "exception": false,
     "start_time": "2022-05-22T14:41:57.093313",
     "status": "completed"
    },
    "tags": []
   },
   "outputs": [],
   "source": [
    "path = os.path.join(BASE_DIR, f\"test_batch\")\n",
    "dict = unpickle(path)\n",
    "data = dict[b'data']\n",
    "labels = dict[b'labels']"
   ]
  },
  {
   "cell_type": "code",
   "execution_count": 14,
   "id": "eecad022",
   "metadata": {
    "execution": {
     "iopub.execute_input": "2022-05-22T14:41:57.481314Z",
     "iopub.status.busy": "2022-05-22T14:41:57.480631Z",
     "iopub.status.idle": "2022-05-22T14:41:57.560965Z",
     "shell.execute_reply": "2022-05-22T14:41:57.560144Z"
    },
    "papermill": {
     "duration": 0.10836,
     "end_time": "2022-05-22T14:41:57.563691",
     "exception": false,
     "start_time": "2022-05-22T14:41:57.455331",
     "status": "completed"
    },
    "tags": []
   },
   "outputs": [],
   "source": [
    "test_dataset = CifarDataset(data, labels, transform_test)"
   ]
  },
  {
   "cell_type": "markdown",
   "id": "bdc21a2c",
   "metadata": {
    "papermill": {
     "duration": 0.024097,
     "end_time": "2022-05-22T14:41:57.614064",
     "exception": false,
     "start_time": "2022-05-22T14:41:57.589967",
     "status": "completed"
    },
    "tags": []
   },
   "source": [
    "# Model"
   ]
  },
  {
   "cell_type": "code",
   "execution_count": 15,
   "id": "711dc884",
   "metadata": {
    "execution": {
     "iopub.execute_input": "2022-05-22T14:41:57.664293Z",
     "iopub.status.busy": "2022-05-22T14:41:57.664074Z",
     "iopub.status.idle": "2022-05-22T14:41:57.686612Z",
     "shell.execute_reply": "2022-05-22T14:41:57.685966Z"
    },
    "papermill": {
     "duration": 0.050065,
     "end_time": "2022-05-22T14:41:57.688307",
     "exception": false,
     "start_time": "2022-05-22T14:41:57.638242",
     "status": "completed"
    },
    "tags": []
   },
   "outputs": [],
   "source": [
    "import math\n",
    "import torch\n",
    "import torch.nn as nn\n",
    "import torch.nn.functional as F\n",
    "\n",
    "\n",
    "class BasicBlock(nn.Module):\n",
    "    def __init__(self, in_planes, out_planes, stride, dropRate=0.0):\n",
    "        super(BasicBlock, self).__init__()\n",
    "        self.bn1 = nn.BatchNorm2d(in_planes)\n",
    "        self.relu1 = nn.ReLU(inplace=True)\n",
    "        self.conv1 = nn.Conv2d(in_planes, out_planes, kernel_size=3, stride=stride,\n",
    "                               padding=1, bias=False)\n",
    "        self.bn2 = nn.BatchNorm2d(out_planes)\n",
    "        self.relu2 = nn.ReLU(inplace=True)\n",
    "        self.conv2 = nn.Conv2d(out_planes, out_planes, kernel_size=3, stride=1,\n",
    "                               padding=1, bias=False)\n",
    "        self.droprate = dropRate\n",
    "        self.equalInOut = (in_planes == out_planes)\n",
    "        self.convShortcut = (not self.equalInOut) and nn.Conv2d(in_planes, out_planes, kernel_size=1, stride=stride,\n",
    "                               padding=0, bias=False) or None\n",
    "    def forward(self, x):\n",
    "        if not self.equalInOut:\n",
    "            x = self.relu1(self.bn1(x))\n",
    "        else:\n",
    "            out = self.relu1(self.bn1(x))\n",
    "        out = self.relu2(self.bn2(self.conv1(out if self.equalInOut else x)))\n",
    "        if self.droprate > 0:\n",
    "            out = F.dropout(out, p=self.droprate, training=self.training)\n",
    "        out = self.conv2(out)\n",
    "        return torch.add(x if self.equalInOut else self.convShortcut(x), out)\n",
    "\n",
    "class NetworkBlock(nn.Module):\n",
    "    def __init__(self, nb_layers, in_planes, out_planes, block, stride, dropRate=0.0):\n",
    "        super(NetworkBlock, self).__init__()\n",
    "        self.layer = self._make_layer(block, in_planes, out_planes, nb_layers, stride, dropRate)\n",
    "    def _make_layer(self, block, in_planes, out_planes, nb_layers, stride, dropRate):\n",
    "        layers = []\n",
    "        for i in range(int(nb_layers)):\n",
    "            layers.append(block(i == 0 and in_planes or out_planes, out_planes, i == 0 and stride or 1, dropRate))\n",
    "        return nn.Sequential(*layers)\n",
    "    def forward(self, x):\n",
    "        return self.layer(x)\n",
    "\n",
    "class WideResNet(nn.Module):\n",
    "    def __init__(self, depth, num_classes, widen_factor=1, dropRate=0.0):\n",
    "        super(WideResNet, self).__init__()\n",
    "        nChannels = [16, 16*widen_factor, 32*widen_factor, 64*widen_factor]\n",
    "        assert((depth - 4) % 6 == 0)\n",
    "        n = (depth - 4) / 6\n",
    "        block = BasicBlock\n",
    "        # 1st conv before any network block\n",
    "        self.conv1 = nn.Conv2d(3, nChannels[0], kernel_size=3, stride=1,\n",
    "                               padding=1, bias=False)\n",
    "        # 1st block\n",
    "        self.block1 = NetworkBlock(n, nChannels[0], nChannels[1], block, 1, dropRate)\n",
    "        # 2nd block\n",
    "        self.block2 = NetworkBlock(n, nChannels[1], nChannels[2], block, 2, dropRate)\n",
    "        # 3rd block\n",
    "        self.block3 = NetworkBlock(n, nChannels[2], nChannels[3], block, 2, dropRate)\n",
    "        # global average pooling and classifier\n",
    "        self.bn1 = nn.BatchNorm2d(nChannels[3])\n",
    "        self.relu = nn.ReLU(inplace=True)\n",
    "        self.fc = nn.Linear(nChannels[3], num_classes)\n",
    "        self.nChannels = nChannels[3]\n",
    "\n",
    "        for m in self.modules():\n",
    "            if isinstance(m, nn.Conv2d):\n",
    "                nn.init.kaiming_normal_(m.weight, mode='fan_out', nonlinearity='relu')\n",
    "            elif isinstance(m, nn.BatchNorm2d):\n",
    "                m.weight.data.fill_(1)\n",
    "                m.bias.data.zero_()\n",
    "            elif isinstance(m, nn.Linear):\n",
    "                m.bias.data.zero_()\n",
    "    def forward(self, x):\n",
    "        out = self.conv1(x)\n",
    "        out = self.block1(out)\n",
    "        out = self.block2(out)\n",
    "        out = self.block3(out)\n",
    "        out = self.relu(self.bn1(out))\n",
    "        out = F.avg_pool2d(out, 8)\n",
    "        out = out.view(-1, self.nChannels)\n",
    "        return self.fc(out)"
   ]
  },
  {
   "cell_type": "code",
   "execution_count": 16,
   "id": "5c9e7fe4",
   "metadata": {
    "execution": {
     "iopub.execute_input": "2022-05-22T14:41:57.738170Z",
     "iopub.status.busy": "2022-05-22T14:41:57.737685Z",
     "iopub.status.idle": "2022-05-22T14:42:00.439304Z",
     "shell.execute_reply": "2022-05-22T14:42:00.438599Z"
    },
    "papermill": {
     "duration": 2.728079,
     "end_time": "2022-05-22T14:42:00.441086",
     "exception": false,
     "start_time": "2022-05-22T14:41:57.713007",
     "status": "completed"
    },
    "tags": []
   },
   "outputs": [
    {
     "data": {
      "text/plain": [
       "WideResNet(\n",
       "  (conv1): Conv2d(3, 16, kernel_size=(3, 3), stride=(1, 1), padding=(1, 1), bias=False)\n",
       "  (block1): NetworkBlock(\n",
       "    (layer): Sequential(\n",
       "      (0): BasicBlock(\n",
       "        (bn1): BatchNorm2d(16, eps=1e-05, momentum=0.1, affine=True, track_running_stats=True)\n",
       "        (relu1): ReLU(inplace=True)\n",
       "        (conv1): Conv2d(16, 16, kernel_size=(3, 3), stride=(1, 1), padding=(1, 1), bias=False)\n",
       "        (bn2): BatchNorm2d(16, eps=1e-05, momentum=0.1, affine=True, track_running_stats=True)\n",
       "        (relu2): ReLU(inplace=True)\n",
       "        (conv2): Conv2d(16, 16, kernel_size=(3, 3), stride=(1, 1), padding=(1, 1), bias=False)\n",
       "      )\n",
       "      (1): BasicBlock(\n",
       "        (bn1): BatchNorm2d(16, eps=1e-05, momentum=0.1, affine=True, track_running_stats=True)\n",
       "        (relu1): ReLU(inplace=True)\n",
       "        (conv1): Conv2d(16, 16, kernel_size=(3, 3), stride=(1, 1), padding=(1, 1), bias=False)\n",
       "        (bn2): BatchNorm2d(16, eps=1e-05, momentum=0.1, affine=True, track_running_stats=True)\n",
       "        (relu2): ReLU(inplace=True)\n",
       "        (conv2): Conv2d(16, 16, kernel_size=(3, 3), stride=(1, 1), padding=(1, 1), bias=False)\n",
       "      )\n",
       "    )\n",
       "  )\n",
       "  (block2): NetworkBlock(\n",
       "    (layer): Sequential(\n",
       "      (0): BasicBlock(\n",
       "        (bn1): BatchNorm2d(16, eps=1e-05, momentum=0.1, affine=True, track_running_stats=True)\n",
       "        (relu1): ReLU(inplace=True)\n",
       "        (conv1): Conv2d(16, 32, kernel_size=(3, 3), stride=(2, 2), padding=(1, 1), bias=False)\n",
       "        (bn2): BatchNorm2d(32, eps=1e-05, momentum=0.1, affine=True, track_running_stats=True)\n",
       "        (relu2): ReLU(inplace=True)\n",
       "        (conv2): Conv2d(32, 32, kernel_size=(3, 3), stride=(1, 1), padding=(1, 1), bias=False)\n",
       "        (convShortcut): Conv2d(16, 32, kernel_size=(1, 1), stride=(2, 2), bias=False)\n",
       "      )\n",
       "      (1): BasicBlock(\n",
       "        (bn1): BatchNorm2d(32, eps=1e-05, momentum=0.1, affine=True, track_running_stats=True)\n",
       "        (relu1): ReLU(inplace=True)\n",
       "        (conv1): Conv2d(32, 32, kernel_size=(3, 3), stride=(1, 1), padding=(1, 1), bias=False)\n",
       "        (bn2): BatchNorm2d(32, eps=1e-05, momentum=0.1, affine=True, track_running_stats=True)\n",
       "        (relu2): ReLU(inplace=True)\n",
       "        (conv2): Conv2d(32, 32, kernel_size=(3, 3), stride=(1, 1), padding=(1, 1), bias=False)\n",
       "      )\n",
       "    )\n",
       "  )\n",
       "  (block3): NetworkBlock(\n",
       "    (layer): Sequential(\n",
       "      (0): BasicBlock(\n",
       "        (bn1): BatchNorm2d(32, eps=1e-05, momentum=0.1, affine=True, track_running_stats=True)\n",
       "        (relu1): ReLU(inplace=True)\n",
       "        (conv1): Conv2d(32, 64, kernel_size=(3, 3), stride=(2, 2), padding=(1, 1), bias=False)\n",
       "        (bn2): BatchNorm2d(64, eps=1e-05, momentum=0.1, affine=True, track_running_stats=True)\n",
       "        (relu2): ReLU(inplace=True)\n",
       "        (conv2): Conv2d(64, 64, kernel_size=(3, 3), stride=(1, 1), padding=(1, 1), bias=False)\n",
       "        (convShortcut): Conv2d(32, 64, kernel_size=(1, 1), stride=(2, 2), bias=False)\n",
       "      )\n",
       "      (1): BasicBlock(\n",
       "        (bn1): BatchNorm2d(64, eps=1e-05, momentum=0.1, affine=True, track_running_stats=True)\n",
       "        (relu1): ReLU(inplace=True)\n",
       "        (conv1): Conv2d(64, 64, kernel_size=(3, 3), stride=(1, 1), padding=(1, 1), bias=False)\n",
       "        (bn2): BatchNorm2d(64, eps=1e-05, momentum=0.1, affine=True, track_running_stats=True)\n",
       "        (relu2): ReLU(inplace=True)\n",
       "        (conv2): Conv2d(64, 64, kernel_size=(3, 3), stride=(1, 1), padding=(1, 1), bias=False)\n",
       "      )\n",
       "    )\n",
       "  )\n",
       "  (bn1): BatchNorm2d(64, eps=1e-05, momentum=0.1, affine=True, track_running_stats=True)\n",
       "  (relu): ReLU(inplace=True)\n",
       "  (fc): Linear(in_features=64, out_features=10, bias=True)\n",
       ")"
      ]
     },
     "execution_count": 16,
     "metadata": {},
     "output_type": "execute_result"
    }
   ],
   "source": [
    "train_loader = DataLoader(train_dataset, batch_size=128, shuffle=True,\n",
    "                          num_workers=2, pin_memory=True, drop_last=False)\n",
    "valid_loader = DataLoader(valid_dataset, batch_size=128, shuffle=True,\n",
    "                          num_workers=2, pin_memory=True, drop_last=False)\n",
    "\n",
    "model = WideResNet(16, 10, 1)\n",
    "model.to(device)"
   ]
  },
  {
   "cell_type": "code",
   "execution_count": 17,
   "id": "7cd085d0",
   "metadata": {
    "execution": {
     "iopub.execute_input": "2022-05-22T14:42:00.492079Z",
     "iopub.status.busy": "2022-05-22T14:42:00.491409Z",
     "iopub.status.idle": "2022-05-22T14:42:00.497956Z",
     "shell.execute_reply": "2022-05-22T14:42:00.497294Z"
    },
    "papermill": {
     "duration": 0.033509,
     "end_time": "2022-05-22T14:42:00.499539",
     "exception": false,
     "start_time": "2022-05-22T14:42:00.466030",
     "status": "completed"
    },
    "tags": []
   },
   "outputs": [],
   "source": [
    "class AverageMeter(object):\n",
    "    \"\"\"Computes and stores the average and current value\"\"\"\n",
    "    def __init__(self):\n",
    "        self.reset()\n",
    "\n",
    "    def reset(self):\n",
    "        self.val = 0\n",
    "        self.avg = 0\n",
    "        self.sum = 0\n",
    "        self.count = 0\n",
    "\n",
    "    def update(self, val, n=1):\n",
    "        self.val = val\n",
    "        self.sum += val * n\n",
    "        self.count += n\n",
    "        self.avg = self.sum / self.count\n",
    "\n",
    "def get_score(y_true, y_pred):\n",
    "    return accuracy_score(y_true, y_pred)"
   ]
  },
  {
   "cell_type": "code",
   "execution_count": 18,
   "id": "bb57756e",
   "metadata": {
    "execution": {
     "iopub.execute_input": "2022-05-22T14:42:00.549829Z",
     "iopub.status.busy": "2022-05-22T14:42:00.549307Z",
     "iopub.status.idle": "2022-05-22T14:42:00.561707Z",
     "shell.execute_reply": "2022-05-22T14:42:00.561082Z"
    },
    "papermill": {
     "duration": 0.039448,
     "end_time": "2022-05-22T14:42:00.563270",
     "exception": false,
     "start_time": "2022-05-22T14:42:00.523822",
     "status": "completed"
    },
    "tags": []
   },
   "outputs": [],
   "source": [
    "def train_fn(train_loader, model, criterion, optimizer, scheduler, device):\n",
    "    batch_time = AverageMeter()\n",
    "    data_time = AverageMeter()\n",
    "    losses = AverageMeter()\n",
    "\n",
    "    model.train()\n",
    "    start = end = time.time()\n",
    "    for step, (images, labels) in tqdm(enumerate(train_loader), total = len(train_loader)):\n",
    "        data_time.update(time.time() - end)\n",
    "        images = images.to(device, dtype=torch.float)\n",
    "        labels = labels.to(device)\n",
    "        batch_size = labels.size(0)\n",
    "\n",
    "        y_preds = model(images)\n",
    "        loss = criterion(y_preds, labels)\n",
    "        losses.update(loss.item(), batch_size)\n",
    "\n",
    "        loss.backward()\n",
    "        optimizer.step()\n",
    "        optimizer.zero_grad()\n",
    "\n",
    "        batch_time.update(time.time() - end)\n",
    "        end = time.time()\n",
    "\n",
    "    return losses.avg\n",
    "\n",
    "def valid_fn(test_loader, model, criterion, device):\n",
    "    batch_time = AverageMeter()\n",
    "    data_time = AverageMeter()\n",
    "    losses = AverageMeter()\n",
    "\n",
    "    model.eval()\n",
    "    start = end = time.time()\n",
    "    preds = []\n",
    "    valid_labels = []\n",
    "    for step, (images, labels) in tqdm(enumerate(test_loader), total = len(test_loader)):\n",
    "        data_time.update(time.time() - end)\n",
    "        images = images.to(device, dtype=torch.float)\n",
    "        labels = labels.to(device)\n",
    "        batch_size = labels.size(0)\n",
    "\n",
    "        with torch.no_grad():\n",
    "            y_preds = model(images)\n",
    "        loss = criterion(y_preds, labels)\n",
    "        losses.update(loss.item(), batch_size)\n",
    "\n",
    "        preds.append(y_preds.softmax(1).to('cpu').numpy())\n",
    "        valid_labels.append(labels.to('cpu').numpy())\n",
    "        \n",
    "        batch_time.update(time.time() - end)\n",
    "        end = time.time()\n",
    "\n",
    "    predictions = np.concatenate(preds)\n",
    "    valid_labels = np.concatenate(valid_labels)\n",
    "    \n",
    "    score = get_score(valid_labels, predictions.argmax(1))\n",
    "    \n",
    "    return losses.avg, score"
   ]
  },
  {
   "cell_type": "code",
   "execution_count": 19,
   "id": "474d281b",
   "metadata": {
    "execution": {
     "iopub.execute_input": "2022-05-22T14:42:00.613792Z",
     "iopub.status.busy": "2022-05-22T14:42:00.613601Z",
     "iopub.status.idle": "2022-05-22T14:42:00.619214Z",
     "shell.execute_reply": "2022-05-22T14:42:00.618560Z"
    },
    "papermill": {
     "duration": 0.033009,
     "end_time": "2022-05-22T14:42:00.621205",
     "exception": false,
     "start_time": "2022-05-22T14:42:00.588196",
     "status": "completed"
    },
    "tags": []
   },
   "outputs": [
    {
     "name": "stdout",
     "output_type": "stream",
     "text": [
      "Adjusting learning rate of group 0 to 1.0000e-01.\n"
     ]
    }
   ],
   "source": [
    "criterion = nn.CrossEntropyLoss()\n",
    "optimizer = SGD(model.parameters(), lr=1e-1, momentum=0.9, weight_decay=0.0005, nesterov=True)\n",
    "#optimizer = AdamW(model.parameters(), lr=1e-3)\n",
    "#scheduler = ReduceLROnPlateau(optimizer, mode='min', factor=0.2, patience=3, verbose=True, eps=1e-6)\n",
    "#scheduler = CosineAnnealingLR(optimizer, T_max=15000, eta_min=1e-6, last_epoch=-1)\n",
    "#scheduler = CosineAnnealingWarmRestarts(optimizer, T_0=10, T_mult=1, eta_min=1e-5, last_epoch=-1, verbose=True)\n",
    "scheduler = MultiStepLR(optimizer, milestones=[60, 120, 160], gamma=0.2, verbose=True)"
   ]
  },
  {
   "cell_type": "code",
   "execution_count": 20,
   "id": "3b6fc0e5",
   "metadata": {
    "execution": {
     "iopub.execute_input": "2022-05-22T14:42:00.672132Z",
     "iopub.status.busy": "2022-05-22T14:42:00.671638Z",
     "iopub.status.idle": "2022-05-22T15:35:35.505035Z",
     "shell.execute_reply": "2022-05-22T15:35:35.504147Z"
    },
    "papermill": {
     "duration": 3220.926279,
     "end_time": "2022-05-22T15:35:41.572286",
     "exception": false,
     "start_time": "2022-05-22T14:42:00.646007",
     "status": "completed"
    },
    "tags": []
   },
   "outputs": [
    {
     "name": "stderr",
     "output_type": "stream",
     "text": [
      "100%|██████████| 352/352 [00:22<00:00, 15.64it/s]\n",
      "100%|██████████| 40/40 [00:01<00:00, 39.75it/s]"
     ]
    },
    {
     "name": "stdout",
     "output_type": "stream",
     "text": [
      "Adjusting learning rate of group 0 to 1.0000e-01.\n",
      "Epoch 1\n",
      "Accuracy: 0.5026 | Train loss: 1.4495093865288629 | Valid loss: 1.486290304374695\n",
      "YES\n"
     ]
    },
    {
     "name": "stderr",
     "output_type": "stream",
     "text": [
      "\n",
      "100%|██████████| 352/352 [00:14<00:00, 23.50it/s]\n",
      "100%|██████████| 40/40 [00:00<00:00, 50.79it/s]"
     ]
    },
    {
     "name": "stdout",
     "output_type": "stream",
     "text": [
      "Adjusting learning rate of group 0 to 1.0000e-01.\n",
      "Epoch 2\n",
      "Accuracy: 0.6566 | Train loss: 1.0153448535283407 | Valid loss: 0.9566788623809814\n",
      "YES\n"
     ]
    },
    {
     "name": "stderr",
     "output_type": "stream",
     "text": [
      "\n",
      "100%|██████████| 352/352 [00:15<00:00, 23.16it/s]\n",
      "100%|██████████| 40/40 [00:00<00:00, 45.20it/s]"
     ]
    },
    {
     "name": "stdout",
     "output_type": "stream",
     "text": [
      "Adjusting learning rate of group 0 to 1.0000e-01.\n",
      "Epoch 3\n",
      "Accuracy: 0.6376 | Train loss: 0.868682567914327 | Valid loss: 1.05019693069458\n"
     ]
    },
    {
     "name": "stderr",
     "output_type": "stream",
     "text": [
      "\n",
      "100%|██████████| 352/352 [00:15<00:00, 22.83it/s]\n",
      "100%|██████████| 40/40 [00:00<00:00, 52.40it/s]"
     ]
    },
    {
     "name": "stdout",
     "output_type": "stream",
     "text": [
      "Adjusting learning rate of group 0 to 1.0000e-01.\n",
      "Epoch 4\n",
      "Accuracy: 0.6624 | Train loss: 0.7737999092737834 | Valid loss: 1.0634279424667359\n",
      "YES\n"
     ]
    },
    {
     "name": "stderr",
     "output_type": "stream",
     "text": [
      "\n",
      "100%|██████████| 352/352 [00:14<00:00, 24.29it/s]\n",
      "100%|██████████| 40/40 [00:00<00:00, 50.87it/s]"
     ]
    },
    {
     "name": "stdout",
     "output_type": "stream",
     "text": [
      "Adjusting learning rate of group 0 to 1.0000e-01.\n",
      "Epoch 5\n",
      "Accuracy: 0.698 | Train loss: 0.7078453761312696 | Valid loss: 0.9283505885124207\n",
      "YES\n"
     ]
    },
    {
     "name": "stderr",
     "output_type": "stream",
     "text": [
      "\n",
      "100%|██████████| 352/352 [00:15<00:00, 22.69it/s]\n",
      "100%|██████████| 40/40 [00:00<00:00, 52.43it/s]"
     ]
    },
    {
     "name": "stdout",
     "output_type": "stream",
     "text": [
      "Adjusting learning rate of group 0 to 1.0000e-01.\n",
      "Epoch 6\n",
      "Accuracy: 0.7342 | Train loss: 0.6656932672500611 | Valid loss: 0.7668421933412551\n",
      "YES\n"
     ]
    },
    {
     "name": "stderr",
     "output_type": "stream",
     "text": [
      "\n",
      "100%|██████████| 352/352 [00:14<00:00, 24.38it/s]\n",
      "100%|██████████| 40/40 [00:00<00:00, 54.16it/s]"
     ]
    },
    {
     "name": "stdout",
     "output_type": "stream",
     "text": [
      "Adjusting learning rate of group 0 to 1.0000e-01.\n",
      "Epoch 7\n",
      "Accuracy: 0.686 | Train loss: 0.6379145861201816 | Valid loss: 1.0234578406333923\n"
     ]
    },
    {
     "name": "stderr",
     "output_type": "stream",
     "text": [
      "\n",
      "100%|██████████| 352/352 [00:15<00:00, 22.61it/s]\n",
      "100%|██████████| 40/40 [00:00<00:00, 54.60it/s]"
     ]
    },
    {
     "name": "stdout",
     "output_type": "stream",
     "text": [
      "Adjusting learning rate of group 0 to 1.0000e-01.\n",
      "Epoch 8\n",
      "Accuracy: 0.7302 | Train loss: 0.6122625700738695 | Valid loss: 0.8059400720119476\n"
     ]
    },
    {
     "name": "stderr",
     "output_type": "stream",
     "text": [
      "\n",
      "100%|██████████| 352/352 [00:14<00:00, 24.56it/s]\n",
      "100%|██████████| 40/40 [00:00<00:00, 55.81it/s]"
     ]
    },
    {
     "name": "stdout",
     "output_type": "stream",
     "text": [
      "Adjusting learning rate of group 0 to 1.0000e-01.\n",
      "Epoch 9\n",
      "Accuracy: 0.7442 | Train loss: 0.5947742824024624 | Valid loss: 0.7669322040557861\n",
      "YES\n"
     ]
    },
    {
     "name": "stderr",
     "output_type": "stream",
     "text": [
      "\n",
      "100%|██████████| 352/352 [00:16<00:00, 21.95it/s]\n",
      "100%|██████████| 40/40 [00:00<00:00, 43.30it/s]"
     ]
    },
    {
     "name": "stdout",
     "output_type": "stream",
     "text": [
      "Adjusting learning rate of group 0 to 1.0000e-01.\n",
      "Epoch 10\n",
      "Accuracy: 0.7794 | Train loss: 0.5797425578223334 | Valid loss: 0.6429370448112488\n",
      "YES\n"
     ]
    },
    {
     "name": "stderr",
     "output_type": "stream",
     "text": [
      "\n",
      "100%|██████████| 352/352 [00:14<00:00, 24.56it/s]\n",
      "100%|██████████| 40/40 [00:00<00:00, 53.20it/s]"
     ]
    },
    {
     "name": "stdout",
     "output_type": "stream",
     "text": [
      "Adjusting learning rate of group 0 to 1.0000e-01.\n",
      "Epoch 11\n",
      "Accuracy: 0.7788 | Train loss: 0.5647153880225287 | Valid loss: 0.6329432119846344\n"
     ]
    },
    {
     "name": "stderr",
     "output_type": "stream",
     "text": [
      "\n",
      "100%|██████████| 352/352 [00:15<00:00, 22.97it/s]\n",
      "100%|██████████| 40/40 [00:00<00:00, 42.58it/s]"
     ]
    },
    {
     "name": "stdout",
     "output_type": "stream",
     "text": [
      "Adjusting learning rate of group 0 to 1.0000e-01.\n",
      "Epoch 12\n",
      "Accuracy: 0.7778 | Train loss: 0.557655354086558 | Valid loss: 0.6426013116836548\n"
     ]
    },
    {
     "name": "stderr",
     "output_type": "stream",
     "text": [
      "\n",
      "100%|██████████| 352/352 [00:14<00:00, 24.69it/s]\n",
      "100%|██████████| 40/40 [00:00<00:00, 53.35it/s]"
     ]
    },
    {
     "name": "stdout",
     "output_type": "stream",
     "text": [
      "Adjusting learning rate of group 0 to 1.0000e-01.\n",
      "Epoch 13\n",
      "Accuracy: 0.7498 | Train loss: 0.5494405351956685 | Valid loss: 0.743491760969162\n"
     ]
    },
    {
     "name": "stderr",
     "output_type": "stream",
     "text": [
      "\n",
      "100%|██████████| 352/352 [00:14<00:00, 24.05it/s]\n",
      "100%|██████████| 40/40 [00:00<00:00, 54.97it/s]\n"
     ]
    },
    {
     "name": "stdout",
     "output_type": "stream",
     "text": [
      "Adjusting learning rate of group 0 to 1.0000e-01.\n",
      "Epoch 14\n",
      "Accuracy: 0.7768 | Train loss: 0.5454499301539527 | Valid loss: 0.6829834358215332\n"
     ]
    },
    {
     "name": "stderr",
     "output_type": "stream",
     "text": [
      "100%|██████████| 352/352 [00:15<00:00, 22.73it/s]\n",
      "100%|██████████| 40/40 [00:00<00:00, 56.76it/s]"
     ]
    },
    {
     "name": "stdout",
     "output_type": "stream",
     "text": [
      "Adjusting learning rate of group 0 to 1.0000e-01.\n",
      "Epoch 15\n",
      "Accuracy: 0.7694 | Train loss: 0.5351006974220276 | Valid loss: 0.7107941106200218\n"
     ]
    },
    {
     "name": "stderr",
     "output_type": "stream",
     "text": [
      "\n",
      "100%|██████████| 352/352 [00:14<00:00, 23.84it/s]\n",
      "100%|██████████| 40/40 [00:00<00:00, 55.07it/s]"
     ]
    },
    {
     "name": "stdout",
     "output_type": "stream",
     "text": [
      "Adjusting learning rate of group 0 to 1.0000e-01.\n",
      "Epoch 16\n",
      "Accuracy: 0.7648 | Train loss: 0.5234588458802965 | Valid loss: 0.6680755876541138\n"
     ]
    },
    {
     "name": "stderr",
     "output_type": "stream",
     "text": [
      "\n",
      "100%|██████████| 352/352 [00:15<00:00, 23.12it/s]\n",
      "100%|██████████| 40/40 [00:00<00:00, 54.67it/s]"
     ]
    },
    {
     "name": "stdout",
     "output_type": "stream",
     "text": [
      "Adjusting learning rate of group 0 to 1.0000e-01.\n",
      "Epoch 17\n",
      "Accuracy: 0.762 | Train loss: 0.5215659145832062 | Valid loss: 0.7280081638336182\n"
     ]
    },
    {
     "name": "stderr",
     "output_type": "stream",
     "text": [
      "\n",
      "100%|██████████| 352/352 [00:14<00:00, 23.66it/s]\n",
      "100%|██████████| 40/40 [00:00<00:00, 48.69it/s]"
     ]
    },
    {
     "name": "stdout",
     "output_type": "stream",
     "text": [
      "Adjusting learning rate of group 0 to 1.0000e-01.\n",
      "Epoch 18\n",
      "Accuracy: 0.7688 | Train loss: 0.5218952222665151 | Valid loss: 0.7156791565895081\n"
     ]
    },
    {
     "name": "stderr",
     "output_type": "stream",
     "text": [
      "\n",
      "100%|██████████| 352/352 [00:15<00:00, 23.01it/s]\n",
      "100%|██████████| 40/40 [00:00<00:00, 53.04it/s]\n"
     ]
    },
    {
     "name": "stdout",
     "output_type": "stream",
     "text": [
      "Adjusting learning rate of group 0 to 1.0000e-01.\n",
      "Epoch 19\n",
      "Accuracy: 0.7926 | Train loss: 0.5099890420489841 | Valid loss: 0.6453797723770142\n",
      "YES\n"
     ]
    },
    {
     "name": "stderr",
     "output_type": "stream",
     "text": [
      "100%|██████████| 352/352 [00:15<00:00, 22.94it/s]\n",
      "100%|██████████| 40/40 [00:00<00:00, 53.22it/s]"
     ]
    },
    {
     "name": "stdout",
     "output_type": "stream",
     "text": [
      "Adjusting learning rate of group 0 to 1.0000e-01.\n",
      "Epoch 20\n",
      "Accuracy: 0.7608 | Train loss: 0.511964723247952 | Valid loss: 0.7070232090473175\n"
     ]
    },
    {
     "name": "stderr",
     "output_type": "stream",
     "text": [
      "\n",
      "100%|██████████| 352/352 [00:16<00:00, 21.70it/s]\n",
      "100%|██████████| 40/40 [00:00<00:00, 44.17it/s]"
     ]
    },
    {
     "name": "stdout",
     "output_type": "stream",
     "text": [
      "Adjusting learning rate of group 0 to 1.0000e-01.\n",
      "Epoch 21\n",
      "Accuracy: 0.7318 | Train loss: 0.5055853843635983 | Valid loss: 0.8112730377197266\n"
     ]
    },
    {
     "name": "stderr",
     "output_type": "stream",
     "text": [
      "\n",
      "100%|██████████| 352/352 [00:15<00:00, 22.33it/s]\n",
      "100%|██████████| 40/40 [00:00<00:00, 54.33it/s]"
     ]
    },
    {
     "name": "stdout",
     "output_type": "stream",
     "text": [
      "Adjusting learning rate of group 0 to 1.0000e-01.\n",
      "Epoch 22\n",
      "Accuracy: 0.7434 | Train loss: 0.5071159510824416 | Valid loss: 0.7953812432765961\n"
     ]
    },
    {
     "name": "stderr",
     "output_type": "stream",
     "text": [
      "\n",
      "100%|██████████| 352/352 [00:14<00:00, 23.65it/s]\n",
      "100%|██████████| 40/40 [00:00<00:00, 53.91it/s]"
     ]
    },
    {
     "name": "stdout",
     "output_type": "stream",
     "text": [
      "Adjusting learning rate of group 0 to 1.0000e-01.\n",
      "Epoch 23\n",
      "Accuracy: 0.8106 | Train loss: 0.49759769644737245 | Valid loss: 0.549844745349884\n",
      "YES\n"
     ]
    },
    {
     "name": "stderr",
     "output_type": "stream",
     "text": [
      "\n",
      "100%|██████████| 352/352 [00:16<00:00, 21.74it/s]\n",
      "100%|██████████| 40/40 [00:00<00:00, 53.53it/s]"
     ]
    },
    {
     "name": "stdout",
     "output_type": "stream",
     "text": [
      "Adjusting learning rate of group 0 to 1.0000e-01.\n",
      "Epoch 24\n",
      "Accuracy: 0.7584 | Train loss: 0.49169962785508897 | Valid loss: 0.7319248791694641\n"
     ]
    },
    {
     "name": "stderr",
     "output_type": "stream",
     "text": [
      "\n",
      "100%|██████████| 352/352 [00:14<00:00, 24.36it/s]\n",
      "100%|██████████| 40/40 [00:00<00:00, 45.01it/s]"
     ]
    },
    {
     "name": "stdout",
     "output_type": "stream",
     "text": [
      "Adjusting learning rate of group 0 to 1.0000e-01.\n",
      "Epoch 25\n",
      "Accuracy: 0.7662 | Train loss: 0.4978996207078298 | Valid loss: 0.6969424018025399\n"
     ]
    },
    {
     "name": "stderr",
     "output_type": "stream",
     "text": [
      "\n",
      "100%|██████████| 352/352 [00:16<00:00, 21.42it/s]\n",
      "100%|██████████| 40/40 [00:00<00:00, 55.36it/s]"
     ]
    },
    {
     "name": "stdout",
     "output_type": "stream",
     "text": [
      "Adjusting learning rate of group 0 to 1.0000e-01.\n",
      "Epoch 26\n",
      "Accuracy: 0.745 | Train loss: 0.4945538312594096 | Valid loss: 0.7884390766143798\n"
     ]
    },
    {
     "name": "stderr",
     "output_type": "stream",
     "text": [
      "\n",
      "100%|██████████| 352/352 [00:14<00:00, 24.75it/s]\n",
      "100%|██████████| 40/40 [00:01<00:00, 39.96it/s]"
     ]
    },
    {
     "name": "stdout",
     "output_type": "stream",
     "text": [
      "Adjusting learning rate of group 0 to 1.0000e-01.\n",
      "Epoch 27\n",
      "Accuracy: 0.7496 | Train loss: 0.487344394270579 | Valid loss: 0.7684281224250793\n"
     ]
    },
    {
     "name": "stderr",
     "output_type": "stream",
     "text": [
      "\n",
      "100%|██████████| 352/352 [00:16<00:00, 21.31it/s]\n",
      "100%|██████████| 40/40 [00:00<00:00, 54.43it/s]"
     ]
    },
    {
     "name": "stdout",
     "output_type": "stream",
     "text": [
      "Adjusting learning rate of group 0 to 1.0000e-01.\n",
      "Epoch 28\n",
      "Accuracy: 0.7278 | Train loss: 0.4911845747417874 | Valid loss: 0.8677455419540405\n"
     ]
    },
    {
     "name": "stderr",
     "output_type": "stream",
     "text": [
      "\n",
      "100%|██████████| 352/352 [00:14<00:00, 24.30it/s]\n",
      "100%|██████████| 40/40 [00:01<00:00, 38.76it/s]"
     ]
    },
    {
     "name": "stdout",
     "output_type": "stream",
     "text": [
      "Adjusting learning rate of group 0 to 1.0000e-01.\n",
      "Epoch 29\n",
      "Accuracy: 0.7152 | Train loss: 0.48698841053644815 | Valid loss: 0.9040451547622681\n"
     ]
    },
    {
     "name": "stderr",
     "output_type": "stream",
     "text": [
      "\n",
      "100%|██████████| 352/352 [00:16<00:00, 21.25it/s]\n",
      "100%|██████████| 40/40 [00:00<00:00, 52.15it/s]"
     ]
    },
    {
     "name": "stdout",
     "output_type": "stream",
     "text": [
      "Adjusting learning rate of group 0 to 1.0000e-01.\n",
      "Epoch 30\n",
      "Accuracy: 0.7986 | Train loss: 0.48408010919358996 | Valid loss: 0.641887382888794\n"
     ]
    },
    {
     "name": "stderr",
     "output_type": "stream",
     "text": [
      "\n",
      "100%|██████████| 352/352 [00:14<00:00, 24.47it/s]\n",
      "100%|██████████| 40/40 [00:00<00:00, 42.37it/s]"
     ]
    },
    {
     "name": "stdout",
     "output_type": "stream",
     "text": [
      "Adjusting learning rate of group 0 to 1.0000e-01.\n",
      "Epoch 31\n",
      "Accuracy: 0.7888 | Train loss: 0.4838890838093228 | Valid loss: 0.6323953763008118\n"
     ]
    },
    {
     "name": "stderr",
     "output_type": "stream",
     "text": [
      "\n",
      "100%|██████████| 352/352 [00:16<00:00, 21.09it/s]\n",
      "100%|██████████| 40/40 [00:00<00:00, 50.02it/s]"
     ]
    },
    {
     "name": "stdout",
     "output_type": "stream",
     "text": [
      "Adjusting learning rate of group 0 to 1.0000e-01.\n",
      "Epoch 32\n",
      "Accuracy: 0.8128 | Train loss: 0.47829697953330147 | Valid loss: 0.5542326350688934\n",
      "YES\n"
     ]
    },
    {
     "name": "stderr",
     "output_type": "stream",
     "text": [
      "\n",
      "100%|██████████| 352/352 [00:14<00:00, 24.05it/s]\n",
      "100%|██████████| 40/40 [00:00<00:00, 46.36it/s]"
     ]
    },
    {
     "name": "stdout",
     "output_type": "stream",
     "text": [
      "Adjusting learning rate of group 0 to 1.0000e-01.\n",
      "Epoch 33\n",
      "Accuracy: 0.772 | Train loss: 0.47731587789853414 | Valid loss: 0.6925331876277924\n"
     ]
    },
    {
     "name": "stderr",
     "output_type": "stream",
     "text": [
      "\n",
      "100%|██████████| 352/352 [00:16<00:00, 21.82it/s]\n",
      "100%|██████████| 40/40 [00:01<00:00, 35.72it/s]"
     ]
    },
    {
     "name": "stdout",
     "output_type": "stream",
     "text": [
      "Adjusting learning rate of group 0 to 1.0000e-01.\n",
      "Epoch 34\n",
      "Accuracy: 0.7752 | Train loss: 0.4771497894710965 | Valid loss: 0.6651523271560669\n"
     ]
    },
    {
     "name": "stderr",
     "output_type": "stream",
     "text": [
      "\n",
      "100%|██████████| 352/352 [00:14<00:00, 23.60it/s]\n",
      "100%|██████████| 40/40 [00:00<00:00, 54.61it/s]"
     ]
    },
    {
     "name": "stdout",
     "output_type": "stream",
     "text": [
      "Adjusting learning rate of group 0 to 1.0000e-01.\n",
      "Epoch 35\n",
      "Accuracy: 0.8172 | Train loss: 0.47193689822620816 | Valid loss: 0.5537258712768555\n",
      "YES\n"
     ]
    },
    {
     "name": "stderr",
     "output_type": "stream",
     "text": [
      "\n",
      "100%|██████████| 352/352 [00:15<00:00, 22.73it/s]\n",
      "100%|██████████| 40/40 [00:01<00:00, 36.21it/s]"
     ]
    },
    {
     "name": "stdout",
     "output_type": "stream",
     "text": [
      "Adjusting learning rate of group 0 to 1.0000e-01.\n",
      "Epoch 36\n",
      "Accuracy: 0.809 | Train loss: 0.47566900219387476 | Valid loss: 0.5642580108642579\n"
     ]
    },
    {
     "name": "stderr",
     "output_type": "stream",
     "text": [
      "\n",
      "100%|██████████| 352/352 [00:15<00:00, 23.24it/s]\n",
      "100%|██████████| 40/40 [00:00<00:00, 47.19it/s]"
     ]
    },
    {
     "name": "stdout",
     "output_type": "stream",
     "text": [
      "Adjusting learning rate of group 0 to 1.0000e-01.\n",
      "Epoch 37\n",
      "Accuracy: 0.8086 | Train loss: 0.47049421316782636 | Valid loss: 0.5455667497634887\n"
     ]
    },
    {
     "name": "stderr",
     "output_type": "stream",
     "text": [
      "\n",
      "100%|██████████| 352/352 [00:15<00:00, 23.16it/s]\n",
      "100%|██████████| 40/40 [00:00<00:00, 56.01it/s]"
     ]
    },
    {
     "name": "stdout",
     "output_type": "stream",
     "text": [
      "Adjusting learning rate of group 0 to 1.0000e-01.\n",
      "Epoch 38\n",
      "Accuracy: 0.7938 | Train loss: 0.4749697942097982 | Valid loss: 0.6203977754592895\n"
     ]
    },
    {
     "name": "stderr",
     "output_type": "stream",
     "text": [
      "\n",
      "100%|██████████| 352/352 [00:15<00:00, 22.28it/s]\n",
      "100%|██████████| 40/40 [00:00<00:00, 50.45it/s]"
     ]
    },
    {
     "name": "stdout",
     "output_type": "stream",
     "text": [
      "Adjusting learning rate of group 0 to 1.0000e-01.\n",
      "Epoch 39\n",
      "Accuracy: 0.8012 | Train loss: 0.4686843867407905 | Valid loss: 0.5924330470561981\n"
     ]
    },
    {
     "name": "stderr",
     "output_type": "stream",
     "text": [
      "\n",
      "100%|██████████| 352/352 [00:13<00:00, 25.23it/s]\n",
      "100%|██████████| 40/40 [00:00<00:00, 54.25it/s]\n"
     ]
    },
    {
     "name": "stdout",
     "output_type": "stream",
     "text": [
      "Adjusting learning rate of group 0 to 1.0000e-01.\n",
      "Epoch 40\n",
      "Accuracy: 0.8214 | Train loss: 0.4713969148053063 | Valid loss: 0.5275712123870849\n",
      "YES\n"
     ]
    },
    {
     "name": "stderr",
     "output_type": "stream",
     "text": [
      "100%|██████████| 352/352 [00:16<00:00, 21.47it/s]\n",
      "100%|██████████| 40/40 [00:00<00:00, 41.81it/s]"
     ]
    },
    {
     "name": "stdout",
     "output_type": "stream",
     "text": [
      "Adjusting learning rate of group 0 to 1.0000e-01.\n",
      "Epoch 41\n",
      "Accuracy: 0.7894 | Train loss: 0.46796858846876355 | Valid loss: 0.6150790941238403\n"
     ]
    },
    {
     "name": "stderr",
     "output_type": "stream",
     "text": [
      "\n",
      "100%|██████████| 352/352 [00:14<00:00, 24.47it/s]\n",
      "100%|██████████| 40/40 [00:00<00:00, 54.88it/s]"
     ]
    },
    {
     "name": "stdout",
     "output_type": "stream",
     "text": [
      "Adjusting learning rate of group 0 to 1.0000e-01.\n",
      "Epoch 42\n",
      "Accuracy: 0.7646 | Train loss: 0.4615986294057634 | Valid loss: 0.7847230331420898\n"
     ]
    },
    {
     "name": "stderr",
     "output_type": "stream",
     "text": [
      "\n",
      "100%|██████████| 352/352 [00:16<00:00, 21.08it/s]\n",
      "100%|██████████| 40/40 [00:00<00:00, 43.91it/s]"
     ]
    },
    {
     "name": "stdout",
     "output_type": "stream",
     "text": [
      "Adjusting learning rate of group 0 to 1.0000e-01.\n",
      "Epoch 43\n",
      "Accuracy: 0.8282 | Train loss: 0.46406560044818457 | Valid loss: 0.508256595993042\n",
      "YES\n"
     ]
    },
    {
     "name": "stderr",
     "output_type": "stream",
     "text": [
      "\n",
      "100%|██████████| 352/352 [00:14<00:00, 24.52it/s]\n",
      "100%|██████████| 40/40 [00:00<00:00, 51.70it/s]"
     ]
    },
    {
     "name": "stdout",
     "output_type": "stream",
     "text": [
      "Adjusting learning rate of group 0 to 1.0000e-01.\n",
      "Epoch 44\n",
      "Accuracy: 0.821 | Train loss: 0.45944402979744803 | Valid loss: 0.5261402698516846\n"
     ]
    },
    {
     "name": "stderr",
     "output_type": "stream",
     "text": [
      "\n",
      "100%|██████████| 352/352 [00:17<00:00, 20.36it/s]\n",
      "100%|██████████| 40/40 [00:01<00:00, 35.66it/s]\n"
     ]
    },
    {
     "name": "stdout",
     "output_type": "stream",
     "text": [
      "Adjusting learning rate of group 0 to 1.0000e-01.\n",
      "Epoch 45\n",
      "Accuracy: 0.7832 | Train loss: 0.4623273043367598 | Valid loss: 0.6385251477241516\n"
     ]
    },
    {
     "name": "stderr",
     "output_type": "stream",
     "text": [
      "100%|██████████| 352/352 [00:14<00:00, 24.26it/s]\n",
      "100%|██████████| 40/40 [00:00<00:00, 52.92it/s]"
     ]
    },
    {
     "name": "stdout",
     "output_type": "stream",
     "text": [
      "Adjusting learning rate of group 0 to 1.0000e-01.\n",
      "Epoch 46\n",
      "Accuracy: 0.7562 | Train loss: 0.4662418238745795 | Valid loss: 0.7646388862609863\n"
     ]
    },
    {
     "name": "stderr",
     "output_type": "stream",
     "text": [
      "\n",
      "100%|██████████| 352/352 [00:15<00:00, 23.33it/s]\n",
      "100%|██████████| 40/40 [00:01<00:00, 39.09it/s]"
     ]
    },
    {
     "name": "stdout",
     "output_type": "stream",
     "text": [
      "Adjusting learning rate of group 0 to 1.0000e-01.\n",
      "Epoch 47\n",
      "Accuracy: 0.7938 | Train loss: 0.4642346607791053 | Valid loss: 0.604618250656128\n"
     ]
    },
    {
     "name": "stderr",
     "output_type": "stream",
     "text": [
      "\n",
      "100%|██████████| 352/352 [00:16<00:00, 21.96it/s]\n",
      "100%|██████████| 40/40 [00:00<00:00, 51.69it/s]"
     ]
    },
    {
     "name": "stdout",
     "output_type": "stream",
     "text": [
      "Adjusting learning rate of group 0 to 1.0000e-01.\n",
      "Epoch 48\n",
      "Accuracy: 0.8274 | Train loss: 0.4592224192831251 | Valid loss: 0.5028337138175965\n"
     ]
    },
    {
     "name": "stderr",
     "output_type": "stream",
     "text": [
      "\n",
      "100%|██████████| 352/352 [00:14<00:00, 23.77it/s]\n",
      "100%|██████████| 40/40 [00:00<00:00, 53.40it/s]"
     ]
    },
    {
     "name": "stdout",
     "output_type": "stream",
     "text": [
      "Adjusting learning rate of group 0 to 1.0000e-01.\n",
      "Epoch 49\n",
      "Accuracy: 0.7378 | Train loss: 0.46126069815953574 | Valid loss: 0.8663411283493042\n"
     ]
    },
    {
     "name": "stderr",
     "output_type": "stream",
     "text": [
      "\n",
      "100%|██████████| 352/352 [00:16<00:00, 21.33it/s]\n",
      "100%|██████████| 40/40 [00:00<00:00, 53.09it/s]"
     ]
    },
    {
     "name": "stdout",
     "output_type": "stream",
     "text": [
      "Adjusting learning rate of group 0 to 1.0000e-01.\n",
      "Epoch 50\n",
      "Accuracy: 0.785 | Train loss: 0.4634785329818726 | Valid loss: 0.6534760097980499\n"
     ]
    },
    {
     "name": "stderr",
     "output_type": "stream",
     "text": [
      "\n",
      "100%|██████████| 352/352 [00:15<00:00, 23.38it/s]\n",
      "100%|██████████| 40/40 [00:00<00:00, 41.44it/s]"
     ]
    },
    {
     "name": "stdout",
     "output_type": "stream",
     "text": [
      "Adjusting learning rate of group 0 to 1.0000e-01.\n",
      "Epoch 51\n",
      "Accuracy: 0.7992 | Train loss: 0.459603162293964 | Valid loss: 0.5752428711891174\n"
     ]
    },
    {
     "name": "stderr",
     "output_type": "stream",
     "text": [
      "\n",
      "100%|██████████| 352/352 [00:16<00:00, 21.00it/s]\n",
      "100%|██████████| 40/40 [00:00<00:00, 53.54it/s]"
     ]
    },
    {
     "name": "stdout",
     "output_type": "stream",
     "text": [
      "Adjusting learning rate of group 0 to 1.0000e-01.\n",
      "Epoch 52\n",
      "Accuracy: 0.777 | Train loss: 0.4548926952997843 | Valid loss: 0.7004448421478271\n"
     ]
    },
    {
     "name": "stderr",
     "output_type": "stream",
     "text": [
      "\n",
      "100%|██████████| 352/352 [00:15<00:00, 23.42it/s]\n",
      "100%|██████████| 40/40 [00:00<00:00, 44.15it/s]"
     ]
    },
    {
     "name": "stdout",
     "output_type": "stream",
     "text": [
      "Adjusting learning rate of group 0 to 1.0000e-01.\n",
      "Epoch 53\n",
      "Accuracy: 0.7902 | Train loss: 0.45673862783643937 | Valid loss: 0.6639731442451478\n"
     ]
    },
    {
     "name": "stderr",
     "output_type": "stream",
     "text": [
      "\n",
      "100%|██████████| 352/352 [00:14<00:00, 24.75it/s]\n",
      "100%|██████████| 40/40 [00:00<00:00, 54.88it/s]"
     ]
    },
    {
     "name": "stdout",
     "output_type": "stream",
     "text": [
      "Adjusting learning rate of group 0 to 1.0000e-01.\n",
      "Epoch 54\n",
      "Accuracy: 0.7842 | Train loss: 0.4530407605701023 | Valid loss: 0.6738141328811645\n"
     ]
    },
    {
     "name": "stderr",
     "output_type": "stream",
     "text": [
      "\n",
      "100%|██████████| 352/352 [00:15<00:00, 23.28it/s]\n",
      "100%|██████████| 40/40 [00:00<00:00, 52.33it/s]"
     ]
    },
    {
     "name": "stdout",
     "output_type": "stream",
     "text": [
      "Adjusting learning rate of group 0 to 1.0000e-01.\n",
      "Epoch 55\n",
      "Accuracy: 0.8018 | Train loss: 0.4544766135215759 | Valid loss: 0.5689631460189819\n"
     ]
    },
    {
     "name": "stderr",
     "output_type": "stream",
     "text": [
      "\n",
      "100%|██████████| 352/352 [00:17<00:00, 20.63it/s]\n",
      "100%|██████████| 40/40 [00:00<00:00, 40.78it/s]"
     ]
    },
    {
     "name": "stdout",
     "output_type": "stream",
     "text": [
      "Adjusting learning rate of group 0 to 1.0000e-01.\n",
      "Epoch 56\n",
      "Accuracy: 0.7524 | Train loss: 0.45116834101147124 | Valid loss: 0.7847071577548981\n"
     ]
    },
    {
     "name": "stderr",
     "output_type": "stream",
     "text": [
      "\n",
      "100%|██████████| 352/352 [00:15<00:00, 23.16it/s]\n",
      "100%|██████████| 40/40 [00:01<00:00, 38.17it/s]"
     ]
    },
    {
     "name": "stdout",
     "output_type": "stream",
     "text": [
      "Adjusting learning rate of group 0 to 1.0000e-01.\n",
      "Epoch 57\n",
      "Accuracy: 0.7706 | Train loss: 0.454147984096739 | Valid loss: 0.6732236185073852\n"
     ]
    },
    {
     "name": "stderr",
     "output_type": "stream",
     "text": [
      "\n",
      "100%|██████████| 352/352 [00:14<00:00, 24.59it/s]\n",
      "100%|██████████| 40/40 [00:00<00:00, 53.30it/s]"
     ]
    },
    {
     "name": "stdout",
     "output_type": "stream",
     "text": [
      "Adjusting learning rate of group 0 to 1.0000e-01.\n",
      "Epoch 58\n",
      "Accuracy: 0.7312 | Train loss: 0.4554653829680549 | Valid loss: 0.8109078568458558\n"
     ]
    },
    {
     "name": "stderr",
     "output_type": "stream",
     "text": [
      "\n",
      "100%|██████████| 352/352 [00:15<00:00, 23.45it/s]\n",
      "100%|██████████| 40/40 [00:00<00:00, 53.74it/s]\n"
     ]
    },
    {
     "name": "stdout",
     "output_type": "stream",
     "text": [
      "Adjusting learning rate of group 0 to 1.0000e-01.\n",
      "Epoch 59\n",
      "Accuracy: 0.783 | Train loss: 0.44793866662979126 | Valid loss: 0.6517607931137085\n"
     ]
    },
    {
     "name": "stderr",
     "output_type": "stream",
     "text": [
      "100%|██████████| 352/352 [00:15<00:00, 22.64it/s]\n",
      "100%|██████████| 40/40 [00:00<00:00, 40.86it/s]"
     ]
    },
    {
     "name": "stdout",
     "output_type": "stream",
     "text": [
      "Adjusting learning rate of group 0 to 2.0000e-02.\n",
      "Epoch 60\n",
      "Accuracy: 0.8168 | Train loss: 0.45049413623809814 | Valid loss: 0.5512191853284836\n"
     ]
    },
    {
     "name": "stderr",
     "output_type": "stream",
     "text": [
      "\n",
      "100%|██████████| 352/352 [00:16<00:00, 21.66it/s]\n",
      "100%|██████████| 40/40 [00:00<00:00, 55.24it/s]\n"
     ]
    },
    {
     "name": "stdout",
     "output_type": "stream",
     "text": [
      "Adjusting learning rate of group 0 to 2.0000e-02.\n",
      "Epoch 61\n",
      "Accuracy: 0.884 | Train loss: 0.3170782325691647 | Valid loss: 0.33140099165439607\n",
      "YES\n"
     ]
    },
    {
     "name": "stderr",
     "output_type": "stream",
     "text": [
      "100%|██████████| 352/352 [00:14<00:00, 23.55it/s]\n",
      "100%|██████████| 40/40 [00:00<00:00, 52.55it/s]\n"
     ]
    },
    {
     "name": "stdout",
     "output_type": "stream",
     "text": [
      "Adjusting learning rate of group 0 to 2.0000e-02.\n",
      "Epoch 62\n",
      "Accuracy: 0.8866 | Train loss: 0.28371066607369316 | Valid loss: 0.3565457034111023\n",
      "YES\n"
     ]
    },
    {
     "name": "stderr",
     "output_type": "stream",
     "text": [
      "100%|██████████| 352/352 [00:14<00:00, 23.82it/s]\n",
      "100%|██████████| 40/40 [00:00<00:00, 52.34it/s]"
     ]
    },
    {
     "name": "stdout",
     "output_type": "stream",
     "text": [
      "Adjusting learning rate of group 0 to 2.0000e-02.\n",
      "Epoch 63\n",
      "Accuracy: 0.8864 | Train loss: 0.2682135321988 | Valid loss: 0.33064774075746534\n"
     ]
    },
    {
     "name": "stderr",
     "output_type": "stream",
     "text": [
      "\n",
      "100%|██████████| 352/352 [00:14<00:00, 23.64it/s]\n",
      "100%|██████████| 40/40 [00:00<00:00, 55.93it/s]"
     ]
    },
    {
     "name": "stdout",
     "output_type": "stream",
     "text": [
      "Adjusting learning rate of group 0 to 2.0000e-02.\n",
      "Epoch 64\n",
      "Accuracy: 0.8916 | Train loss: 0.26011608179940116 | Valid loss: 0.3126217621803284\n",
      "YES\n"
     ]
    },
    {
     "name": "stderr",
     "output_type": "stream",
     "text": [
      "\n",
      "100%|██████████| 352/352 [00:17<00:00, 20.57it/s]\n",
      "100%|██████████| 40/40 [00:00<00:00, 51.66it/s]"
     ]
    },
    {
     "name": "stdout",
     "output_type": "stream",
     "text": [
      "Adjusting learning rate of group 0 to 2.0000e-02.\n",
      "Epoch 65\n",
      "Accuracy: 0.8878 | Train loss: 0.2580221686681112 | Valid loss: 0.3479215802669525\n"
     ]
    },
    {
     "name": "stderr",
     "output_type": "stream",
     "text": [
      "\n",
      "100%|██████████| 352/352 [00:14<00:00, 23.62it/s]\n",
      "100%|██████████| 40/40 [00:00<00:00, 52.31it/s]"
     ]
    },
    {
     "name": "stdout",
     "output_type": "stream",
     "text": [
      "Adjusting learning rate of group 0 to 2.0000e-02.\n",
      "Epoch 66\n",
      "Accuracy: 0.8816 | Train loss: 0.25466409468121 | Valid loss: 0.3532939806163311\n"
     ]
    },
    {
     "name": "stderr",
     "output_type": "stream",
     "text": [
      "\n",
      "100%|██████████| 352/352 [00:15<00:00, 23.38it/s]\n",
      "100%|██████████| 40/40 [00:00<00:00, 57.12it/s]"
     ]
    },
    {
     "name": "stdout",
     "output_type": "stream",
     "text": [
      "Adjusting learning rate of group 0 to 2.0000e-02.\n",
      "Epoch 67\n",
      "Accuracy: 0.8702 | Train loss: 0.26095399271647135 | Valid loss: 0.3762756489753723\n"
     ]
    },
    {
     "name": "stderr",
     "output_type": "stream",
     "text": [
      "\n",
      "100%|██████████| 352/352 [00:14<00:00, 24.71it/s]\n",
      "100%|██████████| 40/40 [00:00<00:00, 53.94it/s]"
     ]
    },
    {
     "name": "stdout",
     "output_type": "stream",
     "text": [
      "Adjusting learning rate of group 0 to 2.0000e-02.\n",
      "Epoch 68\n",
      "Accuracy: 0.8806 | Train loss: 0.2542880636374156 | Valid loss: 0.35734562684893606\n"
     ]
    },
    {
     "name": "stderr",
     "output_type": "stream",
     "text": [
      "\n",
      "100%|██████████| 352/352 [00:17<00:00, 20.07it/s]\n",
      "100%|██████████| 40/40 [00:00<00:00, 55.55it/s]"
     ]
    },
    {
     "name": "stdout",
     "output_type": "stream",
     "text": [
      "Adjusting learning rate of group 0 to 2.0000e-02.\n",
      "Epoch 69\n",
      "Accuracy: 0.891 | Train loss: 0.2532240542226368 | Valid loss: 0.3192348243713379\n"
     ]
    },
    {
     "name": "stderr",
     "output_type": "stream",
     "text": [
      "\n",
      "100%|██████████| 352/352 [00:14<00:00, 24.78it/s]\n",
      "100%|██████████| 40/40 [00:00<00:00, 55.06it/s]"
     ]
    },
    {
     "name": "stdout",
     "output_type": "stream",
     "text": [
      "Adjusting learning rate of group 0 to 2.0000e-02.\n",
      "Epoch 70\n",
      "Accuracy: 0.8728 | Train loss: 0.2537283594555325 | Valid loss: 0.3886993496417999\n"
     ]
    },
    {
     "name": "stderr",
     "output_type": "stream",
     "text": [
      "\n",
      "100%|██████████| 352/352 [00:14<00:00, 23.86it/s]\n",
      "100%|██████████| 40/40 [00:00<00:00, 50.33it/s]"
     ]
    },
    {
     "name": "stdout",
     "output_type": "stream",
     "text": [
      "Adjusting learning rate of group 0 to 2.0000e-02.\n",
      "Epoch 71\n",
      "Accuracy: 0.8746 | Train loss: 0.25192222896946803 | Valid loss: 0.3681177474975586\n"
     ]
    },
    {
     "name": "stderr",
     "output_type": "stream",
     "text": [
      "\n",
      "100%|██████████| 352/352 [00:14<00:00, 24.04it/s]\n",
      "100%|██████████| 40/40 [00:00<00:00, 41.08it/s]"
     ]
    },
    {
     "name": "stdout",
     "output_type": "stream",
     "text": [
      "Adjusting learning rate of group 0 to 2.0000e-02.\n",
      "Epoch 72\n",
      "Accuracy: 0.8864 | Train loss: 0.25435128690136805 | Valid loss: 0.36018012409210204\n"
     ]
    },
    {
     "name": "stderr",
     "output_type": "stream",
     "text": [
      "\n",
      "100%|██████████| 352/352 [00:14<00:00, 23.89it/s]\n",
      "100%|██████████| 40/40 [00:01<00:00, 24.13it/s]"
     ]
    },
    {
     "name": "stdout",
     "output_type": "stream",
     "text": [
      "Adjusting learning rate of group 0 to 2.0000e-02.\n",
      "Epoch 73\n",
      "Accuracy: 0.8736 | Train loss: 0.2551298613230387 | Valid loss: 0.3761249904632568\n"
     ]
    },
    {
     "name": "stderr",
     "output_type": "stream",
     "text": [
      "\n",
      "100%|██████████| 352/352 [00:16<00:00, 21.31it/s]\n",
      "100%|██████████| 40/40 [00:00<00:00, 54.46it/s]"
     ]
    },
    {
     "name": "stdout",
     "output_type": "stream",
     "text": [
      "Adjusting learning rate of group 0 to 2.0000e-02.\n",
      "Epoch 74\n",
      "Accuracy: 0.8764 | Train loss: 0.2533296906153361 | Valid loss: 0.37705772276893257\n"
     ]
    },
    {
     "name": "stderr",
     "output_type": "stream",
     "text": [
      "\n",
      "100%|██████████| 352/352 [00:15<00:00, 22.50it/s]\n",
      "100%|██████████| 40/40 [00:00<00:00, 46.36it/s]"
     ]
    },
    {
     "name": "stdout",
     "output_type": "stream",
     "text": [
      "Adjusting learning rate of group 0 to 2.0000e-02.\n",
      "Epoch 75\n",
      "Accuracy: 0.8862 | Train loss: 0.256161226855384 | Valid loss: 0.33393504350185393\n"
     ]
    },
    {
     "name": "stderr",
     "output_type": "stream",
     "text": [
      "\n",
      "100%|██████████| 352/352 [00:15<00:00, 22.47it/s]\n",
      "100%|██████████| 40/40 [00:00<00:00, 50.24it/s]"
     ]
    },
    {
     "name": "stdout",
     "output_type": "stream",
     "text": [
      "Adjusting learning rate of group 0 to 2.0000e-02.\n",
      "Epoch 76\n",
      "Accuracy: 0.8592 | Train loss: 0.2573918005466461 | Valid loss: 0.4222774477481842\n"
     ]
    },
    {
     "name": "stderr",
     "output_type": "stream",
     "text": [
      "\n",
      "100%|██████████| 352/352 [00:16<00:00, 21.93it/s]\n",
      "100%|██████████| 40/40 [00:00<00:00, 40.79it/s]"
     ]
    },
    {
     "name": "stdout",
     "output_type": "stream",
     "text": [
      "Adjusting learning rate of group 0 to 2.0000e-02.\n",
      "Epoch 77\n",
      "Accuracy: 0.8858 | Train loss: 0.2594561436229282 | Valid loss: 0.34821834125518797\n"
     ]
    },
    {
     "name": "stderr",
     "output_type": "stream",
     "text": [
      "\n",
      "100%|██████████| 352/352 [00:18<00:00, 19.49it/s]\n",
      "100%|██████████| 40/40 [00:00<00:00, 52.44it/s]"
     ]
    },
    {
     "name": "stdout",
     "output_type": "stream",
     "text": [
      "Adjusting learning rate of group 0 to 2.0000e-02.\n",
      "Epoch 78\n",
      "Accuracy: 0.8678 | Train loss: 0.258406848526001 | Valid loss: 0.3932461157798767\n"
     ]
    },
    {
     "name": "stderr",
     "output_type": "stream",
     "text": [
      "\n",
      "100%|██████████| 352/352 [00:15<00:00, 23.09it/s]\n",
      "100%|██████████| 40/40 [00:00<00:00, 45.05it/s]"
     ]
    },
    {
     "name": "stdout",
     "output_type": "stream",
     "text": [
      "Adjusting learning rate of group 0 to 2.0000e-02.\n",
      "Epoch 79\n",
      "Accuracy: 0.8764 | Train loss: 0.2558123178296619 | Valid loss: 0.38600679998397824\n"
     ]
    },
    {
     "name": "stderr",
     "output_type": "stream",
     "text": [
      "\n",
      "100%|██████████| 352/352 [00:14<00:00, 23.95it/s]\n",
      "100%|██████████| 40/40 [00:00<00:00, 46.83it/s]"
     ]
    },
    {
     "name": "stdout",
     "output_type": "stream",
     "text": [
      "Adjusting learning rate of group 0 to 2.0000e-02.\n",
      "Epoch 80\n",
      "Accuracy: 0.8682 | Train loss: 0.25418196523454456 | Valid loss: 0.39566733670234683\n"
     ]
    },
    {
     "name": "stderr",
     "output_type": "stream",
     "text": [
      "\n",
      "100%|██████████| 352/352 [00:15<00:00, 22.96it/s]\n",
      "100%|██████████| 40/40 [00:00<00:00, 56.66it/s]"
     ]
    },
    {
     "name": "stdout",
     "output_type": "stream",
     "text": [
      "Adjusting learning rate of group 0 to 2.0000e-02.\n",
      "Epoch 81\n",
      "Accuracy: 0.8514 | Train loss: 0.2548606216483646 | Valid loss: 0.47793229211568833\n"
     ]
    },
    {
     "name": "stderr",
     "output_type": "stream",
     "text": [
      "\n",
      "100%|██████████| 352/352 [00:17<00:00, 20.35it/s]\n",
      "100%|██████████| 40/40 [00:00<00:00, 54.29it/s]"
     ]
    },
    {
     "name": "stdout",
     "output_type": "stream",
     "text": [
      "Adjusting learning rate of group 0 to 2.0000e-02.\n",
      "Epoch 82\n",
      "Accuracy: 0.8606 | Train loss: 0.2547397294892205 | Valid loss: 0.41146474905014035\n"
     ]
    },
    {
     "name": "stderr",
     "output_type": "stream",
     "text": [
      "\n",
      "100%|██████████| 352/352 [00:14<00:00, 24.58it/s]\n",
      "100%|██████████| 40/40 [00:00<00:00, 55.40it/s]"
     ]
    },
    {
     "name": "stdout",
     "output_type": "stream",
     "text": [
      "Adjusting learning rate of group 0 to 2.0000e-02.\n",
      "Epoch 83\n",
      "Accuracy: 0.872 | Train loss: 0.25748016562196946 | Valid loss: 0.3724768650531769\n"
     ]
    },
    {
     "name": "stderr",
     "output_type": "stream",
     "text": [
      "\n",
      "100%|██████████| 352/352 [00:14<00:00, 25.11it/s]\n",
      "100%|██████████| 40/40 [00:00<00:00, 54.68it/s]"
     ]
    },
    {
     "name": "stdout",
     "output_type": "stream",
     "text": [
      "Adjusting learning rate of group 0 to 2.0000e-02.\n",
      "Epoch 84\n",
      "Accuracy: 0.8452 | Train loss: 0.25603290633890363 | Valid loss: 0.43755173416137694\n"
     ]
    },
    {
     "name": "stderr",
     "output_type": "stream",
     "text": [
      "\n",
      "100%|██████████| 352/352 [00:14<00:00, 23.58it/s]\n",
      "100%|██████████| 40/40 [00:00<00:00, 56.81it/s]"
     ]
    },
    {
     "name": "stdout",
     "output_type": "stream",
     "text": [
      "Adjusting learning rate of group 0 to 2.0000e-02.\n",
      "Epoch 85\n",
      "Accuracy: 0.8742 | Train loss: 0.2560074367655648 | Valid loss: 0.37667458786964414\n"
     ]
    },
    {
     "name": "stderr",
     "output_type": "stream",
     "text": [
      "\n",
      "100%|██████████| 352/352 [00:14<00:00, 24.89it/s]\n",
      "100%|██████████| 40/40 [00:01<00:00, 31.34it/s]"
     ]
    },
    {
     "name": "stdout",
     "output_type": "stream",
     "text": [
      "Adjusting learning rate of group 0 to 2.0000e-02.\n",
      "Epoch 86\n",
      "Accuracy: 0.8586 | Train loss: 0.26054080198076035 | Valid loss: 0.38804728193283083\n"
     ]
    },
    {
     "name": "stderr",
     "output_type": "stream",
     "text": [
      "\n",
      "100%|██████████| 352/352 [00:16<00:00, 21.27it/s]\n",
      "100%|██████████| 40/40 [00:00<00:00, 57.31it/s]"
     ]
    },
    {
     "name": "stdout",
     "output_type": "stream",
     "text": [
      "Adjusting learning rate of group 0 to 2.0000e-02.\n",
      "Epoch 87\n",
      "Accuracy: 0.8412 | Train loss: 0.2576131886853112 | Valid loss: 0.4995957257986069\n"
     ]
    },
    {
     "name": "stderr",
     "output_type": "stream",
     "text": [
      "\n",
      "100%|██████████| 352/352 [00:13<00:00, 26.00it/s]\n",
      "100%|██████████| 40/40 [00:00<00:00, 57.92it/s]"
     ]
    },
    {
     "name": "stdout",
     "output_type": "stream",
     "text": [
      "Adjusting learning rate of group 0 to 2.0000e-02.\n",
      "Epoch 88\n",
      "Accuracy: 0.8624 | Train loss: 0.25629132789505854 | Valid loss: 0.40848558163642884\n"
     ]
    },
    {
     "name": "stderr",
     "output_type": "stream",
     "text": [
      "\n",
      "100%|██████████| 352/352 [00:14<00:00, 23.95it/s]\n",
      "100%|██████████| 40/40 [00:00<00:00, 56.43it/s]"
     ]
    },
    {
     "name": "stdout",
     "output_type": "stream",
     "text": [
      "Adjusting learning rate of group 0 to 2.0000e-02.\n",
      "Epoch 89\n",
      "Accuracy: 0.8702 | Train loss: 0.25609321072896324 | Valid loss: 0.3849968823432922\n"
     ]
    },
    {
     "name": "stderr",
     "output_type": "stream",
     "text": [
      "\n",
      "100%|██████████| 352/352 [00:14<00:00, 24.23it/s]\n",
      "100%|██████████| 40/40 [00:00<00:00, 55.86it/s]"
     ]
    },
    {
     "name": "stdout",
     "output_type": "stream",
     "text": [
      "Adjusting learning rate of group 0 to 2.0000e-02.\n",
      "Epoch 90\n",
      "Accuracy: 0.8734 | Train loss: 0.2579552298704783 | Valid loss: 0.4051080096542835\n"
     ]
    },
    {
     "name": "stderr",
     "output_type": "stream",
     "text": [
      "\n",
      "100%|██████████| 352/352 [00:17<00:00, 20.14it/s]\n",
      "100%|██████████| 40/40 [00:00<00:00, 44.07it/s]"
     ]
    },
    {
     "name": "stdout",
     "output_type": "stream",
     "text": [
      "Adjusting learning rate of group 0 to 2.0000e-02.\n",
      "Epoch 91\n",
      "Accuracy: 0.875 | Train loss: 0.2529951573689779 | Valid loss: 0.3772115734100342\n"
     ]
    },
    {
     "name": "stderr",
     "output_type": "stream",
     "text": [
      "\n",
      "100%|██████████| 352/352 [00:14<00:00, 23.66it/s]\n",
      "100%|██████████| 40/40 [00:00<00:00, 55.91it/s]"
     ]
    },
    {
     "name": "stdout",
     "output_type": "stream",
     "text": [
      "Adjusting learning rate of group 0 to 2.0000e-02.\n",
      "Epoch 92\n",
      "Accuracy: 0.8768 | Train loss: 0.2533632658614053 | Valid loss: 0.3549165991306305\n"
     ]
    },
    {
     "name": "stderr",
     "output_type": "stream",
     "text": [
      "\n",
      "100%|██████████| 352/352 [00:13<00:00, 25.44it/s]\n",
      "100%|██████████| 40/40 [00:00<00:00, 55.15it/s]"
     ]
    },
    {
     "name": "stdout",
     "output_type": "stream",
     "text": [
      "Adjusting learning rate of group 0 to 2.0000e-02.\n",
      "Epoch 93\n",
      "Accuracy: 0.8782 | Train loss: 0.2540621253066593 | Valid loss: 0.3698580033540726\n"
     ]
    },
    {
     "name": "stderr",
     "output_type": "stream",
     "text": [
      "\n",
      "100%|██████████| 352/352 [00:14<00:00, 24.43it/s]\n",
      "100%|██████████| 40/40 [00:00<00:00, 54.48it/s]"
     ]
    },
    {
     "name": "stdout",
     "output_type": "stream",
     "text": [
      "Adjusting learning rate of group 0 to 2.0000e-02.\n",
      "Epoch 94\n",
      "Accuracy: 0.8746 | Train loss: 0.2546953733179304 | Valid loss: 0.3824130712032318\n"
     ]
    },
    {
     "name": "stderr",
     "output_type": "stream",
     "text": [
      "\n",
      "100%|██████████| 352/352 [00:14<00:00, 25.03it/s]\n",
      "100%|██████████| 40/40 [00:00<00:00, 56.18it/s]"
     ]
    },
    {
     "name": "stdout",
     "output_type": "stream",
     "text": [
      "Adjusting learning rate of group 0 to 2.0000e-02.\n",
      "Epoch 95\n",
      "Accuracy: 0.8298 | Train loss: 0.25561325306892396 | Valid loss: 0.513937799835205\n"
     ]
    },
    {
     "name": "stderr",
     "output_type": "stream",
     "text": [
      "\n",
      "100%|██████████| 352/352 [00:18<00:00, 19.02it/s]\n",
      "100%|██████████| 40/40 [00:00<00:00, 55.40it/s]"
     ]
    },
    {
     "name": "stdout",
     "output_type": "stream",
     "text": [
      "Adjusting learning rate of group 0 to 2.0000e-02.\n",
      "Epoch 96\n",
      "Accuracy: 0.8672 | Train loss: 0.2530368421342638 | Valid loss: 0.3854252574920654\n"
     ]
    },
    {
     "name": "stderr",
     "output_type": "stream",
     "text": [
      "\n",
      "100%|██████████| 352/352 [00:13<00:00, 25.76it/s]\n",
      "100%|██████████| 40/40 [00:00<00:00, 40.08it/s]"
     ]
    },
    {
     "name": "stdout",
     "output_type": "stream",
     "text": [
      "Adjusting learning rate of group 0 to 2.0000e-02.\n",
      "Epoch 97\n",
      "Accuracy: 0.855 | Train loss: 0.25370078622500103 | Valid loss: 0.44181217164993286\n"
     ]
    },
    {
     "name": "stderr",
     "output_type": "stream",
     "text": [
      "\n",
      "100%|██████████| 352/352 [00:14<00:00, 24.63it/s]\n",
      "100%|██████████| 40/40 [00:00<00:00, 54.17it/s]"
     ]
    },
    {
     "name": "stdout",
     "output_type": "stream",
     "text": [
      "Adjusting learning rate of group 0 to 2.0000e-02.\n",
      "Epoch 98\n",
      "Accuracy: 0.8672 | Train loss: 0.2506375386926863 | Valid loss: 0.39715778656005857\n"
     ]
    },
    {
     "name": "stderr",
     "output_type": "stream",
     "text": [
      "\n",
      "100%|██████████| 352/352 [00:13<00:00, 25.89it/s]\n",
      "100%|██████████| 40/40 [00:00<00:00, 55.85it/s]"
     ]
    },
    {
     "name": "stdout",
     "output_type": "stream",
     "text": [
      "Adjusting learning rate of group 0 to 2.0000e-02.\n",
      "Epoch 99\n",
      "Accuracy: 0.8806 | Train loss: 0.2542691028753916 | Valid loss: 0.35985469007492066\n"
     ]
    },
    {
     "name": "stderr",
     "output_type": "stream",
     "text": [
      "\n",
      "100%|██████████| 352/352 [00:15<00:00, 22.54it/s]\n",
      "100%|██████████| 40/40 [00:00<00:00, 40.76it/s]"
     ]
    },
    {
     "name": "stdout",
     "output_type": "stream",
     "text": [
      "Adjusting learning rate of group 0 to 2.0000e-02.\n",
      "Epoch 100\n",
      "Accuracy: 0.8622 | Train loss: 0.2528886909008026 | Valid loss: 0.4463731376171112\n"
     ]
    },
    {
     "name": "stderr",
     "output_type": "stream",
     "text": [
      "\n",
      "100%|██████████| 352/352 [00:16<00:00, 21.27it/s]\n",
      "100%|██████████| 40/40 [00:00<00:00, 57.83it/s]"
     ]
    },
    {
     "name": "stdout",
     "output_type": "stream",
     "text": [
      "Adjusting learning rate of group 0 to 2.0000e-02.\n",
      "Epoch 101\n",
      "Accuracy: 0.8674 | Train loss: 0.2511307993650436 | Valid loss: 0.39903262394964695\n"
     ]
    },
    {
     "name": "stderr",
     "output_type": "stream",
     "text": [
      "\n",
      "100%|██████████| 352/352 [00:14<00:00, 24.13it/s]\n",
      "100%|██████████| 40/40 [00:00<00:00, 53.54it/s]"
     ]
    },
    {
     "name": "stdout",
     "output_type": "stream",
     "text": [
      "Adjusting learning rate of group 0 to 2.0000e-02.\n",
      "Epoch 102\n",
      "Accuracy: 0.8762 | Train loss: 0.24625967366695403 | Valid loss: 0.3721824042260647\n"
     ]
    },
    {
     "name": "stderr",
     "output_type": "stream",
     "text": [
      "\n",
      "100%|██████████| 352/352 [00:13<00:00, 26.23it/s]\n",
      "100%|██████████| 40/40 [00:00<00:00, 56.65it/s]"
     ]
    },
    {
     "name": "stdout",
     "output_type": "stream",
     "text": [
      "Adjusting learning rate of group 0 to 2.0000e-02.\n",
      "Epoch 103\n",
      "Accuracy: 0.8712 | Train loss: 0.2524497702810499 | Valid loss: 0.3987060104608536\n"
     ]
    },
    {
     "name": "stderr",
     "output_type": "stream",
     "text": [
      "\n",
      "100%|██████████| 352/352 [00:14<00:00, 23.68it/s]\n",
      "100%|██████████| 40/40 [00:00<00:00, 49.29it/s]"
     ]
    },
    {
     "name": "stdout",
     "output_type": "stream",
     "text": [
      "Adjusting learning rate of group 0 to 2.0000e-02.\n",
      "Epoch 104\n",
      "Accuracy: 0.8778 | Train loss: 0.24731163228882683 | Valid loss: 0.3893872031211853\n"
     ]
    },
    {
     "name": "stderr",
     "output_type": "stream",
     "text": [
      "\n",
      "100%|██████████| 352/352 [00:15<00:00, 22.05it/s]\n",
      "100%|██████████| 40/40 [00:00<00:00, 41.44it/s]"
     ]
    },
    {
     "name": "stdout",
     "output_type": "stream",
     "text": [
      "Adjusting learning rate of group 0 to 2.0000e-02.\n",
      "Epoch 105\n",
      "Accuracy: 0.87 | Train loss: 0.24652073209550646 | Valid loss: 0.38523146135807035\n"
     ]
    },
    {
     "name": "stderr",
     "output_type": "stream",
     "text": [
      "\n",
      "100%|██████████| 352/352 [00:15<00:00, 22.53it/s]\n",
      "100%|██████████| 40/40 [00:01<00:00, 38.84it/s]"
     ]
    },
    {
     "name": "stdout",
     "output_type": "stream",
     "text": [
      "Adjusting learning rate of group 0 to 2.0000e-02.\n",
      "Epoch 106\n",
      "Accuracy: 0.8872 | Train loss: 0.24757978595627678 | Valid loss: 0.35010551776885984\n"
     ]
    },
    {
     "name": "stderr",
     "output_type": "stream",
     "text": [
      "\n",
      "100%|██████████| 352/352 [00:13<00:00, 25.19it/s]\n",
      "100%|██████████| 40/40 [00:00<00:00, 53.43it/s]"
     ]
    },
    {
     "name": "stdout",
     "output_type": "stream",
     "text": [
      "Adjusting learning rate of group 0 to 2.0000e-02.\n",
      "Epoch 107\n",
      "Accuracy: 0.8612 | Train loss: 0.2482598039706548 | Valid loss: 0.4234594735622406\n"
     ]
    },
    {
     "name": "stderr",
     "output_type": "stream",
     "text": [
      "\n",
      "100%|██████████| 352/352 [00:14<00:00, 25.11it/s]\n",
      "100%|██████████| 40/40 [00:00<00:00, 55.90it/s]\n"
     ]
    },
    {
     "name": "stdout",
     "output_type": "stream",
     "text": [
      "Adjusting learning rate of group 0 to 2.0000e-02.\n",
      "Epoch 108\n",
      "Accuracy: 0.8674 | Train loss: 0.24617660776244268 | Valid loss: 0.4123551320075989\n"
     ]
    },
    {
     "name": "stderr",
     "output_type": "stream",
     "text": [
      "100%|██████████| 352/352 [00:13<00:00, 25.35it/s]\n",
      "100%|██████████| 40/40 [00:00<00:00, 54.38it/s]"
     ]
    },
    {
     "name": "stdout",
     "output_type": "stream",
     "text": [
      "Adjusting learning rate of group 0 to 2.0000e-02.\n",
      "Epoch 109\n",
      "Accuracy: 0.879 | Train loss: 0.2477156148698595 | Valid loss: 0.3817443204402924\n"
     ]
    },
    {
     "name": "stderr",
     "output_type": "stream",
     "text": [
      "\n",
      "100%|██████████| 352/352 [00:18<00:00, 19.44it/s]\n",
      "100%|██████████| 40/40 [00:01<00:00, 39.65it/s]"
     ]
    },
    {
     "name": "stdout",
     "output_type": "stream",
     "text": [
      "Adjusting learning rate of group 0 to 2.0000e-02.\n",
      "Epoch 110\n",
      "Accuracy: 0.8494 | Train loss: 0.2437248831907908 | Valid loss: 0.46185511078834535\n"
     ]
    },
    {
     "name": "stderr",
     "output_type": "stream",
     "text": [
      "\n",
      "100%|██████████| 352/352 [00:14<00:00, 24.36it/s]\n",
      "100%|██████████| 40/40 [00:00<00:00, 52.45it/s]"
     ]
    },
    {
     "name": "stdout",
     "output_type": "stream",
     "text": [
      "Adjusting learning rate of group 0 to 2.0000e-02.\n",
      "Epoch 111\n",
      "Accuracy: 0.888 | Train loss: 0.24802733057869805 | Valid loss: 0.344046533703804\n"
     ]
    },
    {
     "name": "stderr",
     "output_type": "stream",
     "text": [
      "\n",
      "100%|██████████| 352/352 [00:14<00:00, 24.88it/s]\n",
      "100%|██████████| 40/40 [00:00<00:00, 53.84it/s]"
     ]
    },
    {
     "name": "stdout",
     "output_type": "stream",
     "text": [
      "Adjusting learning rate of group 0 to 2.0000e-02.\n",
      "Epoch 112\n",
      "Accuracy: 0.8728 | Train loss: 0.2460334311114417 | Valid loss: 0.38565854497551916\n"
     ]
    },
    {
     "name": "stderr",
     "output_type": "stream",
     "text": [
      "\n",
      "100%|██████████| 352/352 [00:13<00:00, 25.57it/s]\n",
      "100%|██████████| 40/40 [00:00<00:00, 56.47it/s]"
     ]
    },
    {
     "name": "stdout",
     "output_type": "stream",
     "text": [
      "Adjusting learning rate of group 0 to 2.0000e-02.\n",
      "Epoch 113\n",
      "Accuracy: 0.8738 | Train loss: 0.2444605106300778 | Valid loss: 0.37930022730827334\n"
     ]
    },
    {
     "name": "stderr",
     "output_type": "stream",
     "text": [
      "\n",
      "100%|██████████| 352/352 [00:13<00:00, 25.34it/s]\n",
      "100%|██████████| 40/40 [00:00<00:00, 56.61it/s]"
     ]
    },
    {
     "name": "stdout",
     "output_type": "stream",
     "text": [
      "Adjusting learning rate of group 0 to 2.0000e-02.\n",
      "Epoch 114\n",
      "Accuracy: 0.8752 | Train loss: 0.2482319185839759 | Valid loss: 0.38496399459838865\n"
     ]
    },
    {
     "name": "stderr",
     "output_type": "stream",
     "text": [
      "\n",
      "100%|██████████| 352/352 [00:15<00:00, 23.45it/s]\n",
      "100%|██████████| 40/40 [00:00<00:00, 52.18it/s]"
     ]
    },
    {
     "name": "stdout",
     "output_type": "stream",
     "text": [
      "Adjusting learning rate of group 0 to 2.0000e-02.\n",
      "Epoch 115\n",
      "Accuracy: 0.875 | Train loss: 0.24482039438353645 | Valid loss: 0.37104047527313233\n"
     ]
    },
    {
     "name": "stderr",
     "output_type": "stream",
     "text": [
      "\n",
      "100%|██████████| 352/352 [00:14<00:00, 24.85it/s]\n",
      "100%|██████████| 40/40 [00:00<00:00, 55.97it/s]"
     ]
    },
    {
     "name": "stdout",
     "output_type": "stream",
     "text": [
      "Adjusting learning rate of group 0 to 2.0000e-02.\n",
      "Epoch 116\n",
      "Accuracy: 0.853 | Train loss: 0.2438965857187907 | Valid loss: 0.45056288213729856\n"
     ]
    },
    {
     "name": "stderr",
     "output_type": "stream",
     "text": [
      "\n",
      "100%|██████████| 352/352 [00:14<00:00, 24.20it/s]\n",
      "100%|██████████| 40/40 [00:00<00:00, 51.05it/s]"
     ]
    },
    {
     "name": "stdout",
     "output_type": "stream",
     "text": [
      "Adjusting learning rate of group 0 to 2.0000e-02.\n",
      "Epoch 117\n",
      "Accuracy: 0.863 | Train loss: 0.24413303604125977 | Valid loss: 0.39987091580629347\n"
     ]
    },
    {
     "name": "stderr",
     "output_type": "stream",
     "text": [
      "\n",
      "100%|██████████| 352/352 [00:14<00:00, 24.97it/s]\n",
      "100%|██████████| 40/40 [00:00<00:00, 56.80it/s]"
     ]
    },
    {
     "name": "stdout",
     "output_type": "stream",
     "text": [
      "Adjusting learning rate of group 0 to 2.0000e-02.\n",
      "Epoch 118\n",
      "Accuracy: 0.8776 | Train loss: 0.24075428806410895 | Valid loss: 0.3738562692165375\n"
     ]
    },
    {
     "name": "stderr",
     "output_type": "stream",
     "text": [
      "\n",
      "100%|██████████| 352/352 [00:18<00:00, 18.53it/s]\n",
      "100%|██████████| 40/40 [00:00<00:00, 56.75it/s]"
     ]
    },
    {
     "name": "stdout",
     "output_type": "stream",
     "text": [
      "Adjusting learning rate of group 0 to 2.0000e-02.\n",
      "Epoch 119\n",
      "Accuracy: 0.875 | Train loss: 0.23989852553473578 | Valid loss: 0.38295681437253953\n"
     ]
    },
    {
     "name": "stderr",
     "output_type": "stream",
     "text": [
      "\n",
      "100%|██████████| 352/352 [00:13<00:00, 25.77it/s]\n",
      "100%|██████████| 40/40 [00:00<00:00, 42.21it/s]"
     ]
    },
    {
     "name": "stdout",
     "output_type": "stream",
     "text": [
      "Adjusting learning rate of group 0 to 4.0000e-03.\n",
      "Epoch 120\n",
      "Accuracy: 0.8486 | Train loss: 0.24444328094058568 | Valid loss: 0.47939482498168945\n"
     ]
    },
    {
     "name": "stderr",
     "output_type": "stream",
     "text": [
      "\n",
      "100%|██████████| 352/352 [00:14<00:00, 24.31it/s]\n",
      "100%|██████████| 40/40 [00:00<00:00, 51.72it/s]"
     ]
    },
    {
     "name": "stdout",
     "output_type": "stream",
     "text": [
      "Adjusting learning rate of group 0 to 4.0000e-03.\n",
      "Epoch 121\n",
      "Accuracy: 0.9128 | Train loss: 0.17480702782736884 | Valid loss: 0.2608751920700073\n",
      "YES\n"
     ]
    },
    {
     "name": "stderr",
     "output_type": "stream",
     "text": [
      "\n",
      "100%|██████████| 352/352 [00:13<00:00, 25.55it/s]\n",
      "100%|██████████| 40/40 [00:00<00:00, 55.61it/s]"
     ]
    },
    {
     "name": "stdout",
     "output_type": "stream",
     "text": [
      "Adjusting learning rate of group 0 to 4.0000e-03.\n",
      "Epoch 122\n",
      "Accuracy: 0.9144 | Train loss: 0.14724667679203882 | Valid loss: 0.2586219974517822\n",
      "YES\n"
     ]
    },
    {
     "name": "stderr",
     "output_type": "stream",
     "text": [
      "\n",
      "100%|██████████| 352/352 [00:14<00:00, 23.77it/s]\n",
      "100%|██████████| 40/40 [00:00<00:00, 57.54it/s]"
     ]
    },
    {
     "name": "stdout",
     "output_type": "stream",
     "text": [
      "Adjusting learning rate of group 0 to 4.0000e-03.\n",
      "Epoch 123\n",
      "Accuracy: 0.9138 | Train loss: 0.1375806235631307 | Valid loss: 0.25476352519989015\n"
     ]
    },
    {
     "name": "stderr",
     "output_type": "stream",
     "text": [
      "\n",
      "100%|██████████| 352/352 [00:13<00:00, 26.21it/s]\n",
      "100%|██████████| 40/40 [00:00<00:00, 53.68it/s]"
     ]
    },
    {
     "name": "stdout",
     "output_type": "stream",
     "text": [
      "Adjusting learning rate of group 0 to 4.0000e-03.\n",
      "Epoch 124\n",
      "Accuracy: 0.9108 | Train loss: 0.13363545300165813 | Valid loss: 0.26732037658691404\n"
     ]
    },
    {
     "name": "stderr",
     "output_type": "stream",
     "text": [
      "\n",
      "100%|██████████| 352/352 [00:14<00:00, 24.30it/s]\n",
      "100%|██████████| 40/40 [00:00<00:00, 51.35it/s]"
     ]
    },
    {
     "name": "stdout",
     "output_type": "stream",
     "text": [
      "Adjusting learning rate of group 0 to 4.0000e-03.\n",
      "Epoch 125\n",
      "Accuracy: 0.91 | Train loss: 0.13334832022455004 | Valid loss: 0.26049848260879516\n"
     ]
    },
    {
     "name": "stderr",
     "output_type": "stream",
     "text": [
      "\n",
      "100%|██████████| 352/352 [00:13<00:00, 25.59it/s]\n",
      "100%|██████████| 40/40 [00:00<00:00, 56.69it/s]"
     ]
    },
    {
     "name": "stdout",
     "output_type": "stream",
     "text": [
      "Adjusting learning rate of group 0 to 4.0000e-03.\n",
      "Epoch 126\n",
      "Accuracy: 0.9132 | Train loss: 0.1253652375631862 | Valid loss: 0.25382408056259154\n"
     ]
    },
    {
     "name": "stderr",
     "output_type": "stream",
     "text": [
      "\n",
      "100%|██████████| 352/352 [00:14<00:00, 24.92it/s]\n",
      "100%|██████████| 40/40 [00:00<00:00, 42.99it/s]"
     ]
    },
    {
     "name": "stdout",
     "output_type": "stream",
     "text": [
      "Adjusting learning rate of group 0 to 4.0000e-03.\n",
      "Epoch 127\n",
      "Accuracy: 0.9142 | Train loss: 0.12359631878799862 | Valid loss: 0.25414837279319763\n"
     ]
    },
    {
     "name": "stderr",
     "output_type": "stream",
     "text": [
      "\n",
      "100%|██████████| 352/352 [00:19<00:00, 18.11it/s]\n",
      "100%|██████████| 40/40 [00:00<00:00, 55.75it/s]"
     ]
    },
    {
     "name": "stdout",
     "output_type": "stream",
     "text": [
      "Adjusting learning rate of group 0 to 4.0000e-03.\n",
      "Epoch 128\n",
      "Accuracy: 0.9156 | Train loss: 0.11972544578181372 | Valid loss: 0.2601527320384979\n",
      "YES\n"
     ]
    },
    {
     "name": "stderr",
     "output_type": "stream",
     "text": [
      "\n",
      "100%|██████████| 352/352 [00:13<00:00, 25.63it/s]\n",
      "100%|██████████| 40/40 [00:00<00:00, 56.00it/s]"
     ]
    },
    {
     "name": "stdout",
     "output_type": "stream",
     "text": [
      "Adjusting learning rate of group 0 to 4.0000e-03.\n",
      "Epoch 129\n",
      "Accuracy: 0.9148 | Train loss: 0.12024676887392997 | Valid loss: 0.256969340133667\n"
     ]
    },
    {
     "name": "stderr",
     "output_type": "stream",
     "text": [
      "\n",
      "100%|██████████| 352/352 [00:14<00:00, 23.61it/s]\n",
      "100%|██████████| 40/40 [00:00<00:00, 57.68it/s]"
     ]
    },
    {
     "name": "stdout",
     "output_type": "stream",
     "text": [
      "Adjusting learning rate of group 0 to 4.0000e-03.\n",
      "Epoch 130\n",
      "Accuracy: 0.9098 | Train loss: 0.11716226411395603 | Valid loss: 0.26803664509058\n"
     ]
    },
    {
     "name": "stderr",
     "output_type": "stream",
     "text": [
      "\n",
      "100%|██████████| 352/352 [00:13<00:00, 25.82it/s]\n",
      "100%|██████████| 40/40 [00:00<00:00, 57.03it/s]"
     ]
    },
    {
     "name": "stdout",
     "output_type": "stream",
     "text": [
      "Adjusting learning rate of group 0 to 4.0000e-03.\n",
      "Epoch 131\n",
      "Accuracy: 0.9098 | Train loss: 0.11637516558700138 | Valid loss: 0.2691969960689545\n"
     ]
    },
    {
     "name": "stderr",
     "output_type": "stream",
     "text": [
      "\n",
      "100%|██████████| 352/352 [00:13<00:00, 26.17it/s]\n",
      "100%|██████████| 40/40 [00:00<00:00, 53.83it/s]"
     ]
    },
    {
     "name": "stdout",
     "output_type": "stream",
     "text": [
      "Adjusting learning rate of group 0 to 4.0000e-03.\n",
      "Epoch 132\n",
      "Accuracy: 0.9118 | Train loss: 0.11675739949279361 | Valid loss: 0.2618444980621338\n"
     ]
    },
    {
     "name": "stderr",
     "output_type": "stream",
     "text": [
      "\n",
      "100%|██████████| 352/352 [00:14<00:00, 24.45it/s]\n",
      "100%|██████████| 40/40 [00:00<00:00, 55.32it/s]"
     ]
    },
    {
     "name": "stdout",
     "output_type": "stream",
     "text": [
      "Adjusting learning rate of group 0 to 4.0000e-03.\n",
      "Epoch 133\n",
      "Accuracy: 0.9088 | Train loss: 0.11061789229710897 | Valid loss: 0.2648090877179056\n"
     ]
    },
    {
     "name": "stderr",
     "output_type": "stream",
     "text": [
      "\n",
      "100%|██████████| 352/352 [00:13<00:00, 25.93it/s]\n",
      "100%|██████████| 40/40 [00:00<00:00, 55.30it/s]"
     ]
    },
    {
     "name": "stdout",
     "output_type": "stream",
     "text": [
      "Adjusting learning rate of group 0 to 4.0000e-03.\n",
      "Epoch 134\n",
      "Accuracy: 0.9132 | Train loss: 0.11123361336125268 | Valid loss: 0.26016640577316286\n"
     ]
    },
    {
     "name": "stderr",
     "output_type": "stream",
     "text": [
      "\n",
      "100%|██████████| 352/352 [00:14<00:00, 23.69it/s]\n",
      "100%|██████████| 40/40 [00:00<00:00, 53.57it/s]"
     ]
    },
    {
     "name": "stdout",
     "output_type": "stream",
     "text": [
      "Adjusting learning rate of group 0 to 4.0000e-03.\n",
      "Epoch 135\n",
      "Accuracy: 0.9118 | Train loss: 0.11108665964868333 | Valid loss: 0.27170495358109475\n"
     ]
    },
    {
     "name": "stderr",
     "output_type": "stream",
     "text": [
      "\n",
      "100%|██████████| 352/352 [00:14<00:00, 24.21it/s]\n",
      "100%|██████████| 40/40 [00:00<00:00, 42.95it/s]"
     ]
    },
    {
     "name": "stdout",
     "output_type": "stream",
     "text": [
      "Adjusting learning rate of group 0 to 4.0000e-03.\n",
      "Epoch 136\n",
      "Accuracy: 0.9126 | Train loss: 0.10849910911454094 | Valid loss: 0.27088554124832154\n"
     ]
    },
    {
     "name": "stderr",
     "output_type": "stream",
     "text": [
      "\n",
      "100%|██████████| 352/352 [00:19<00:00, 17.95it/s]\n",
      "100%|██████████| 40/40 [00:00<00:00, 48.22it/s]"
     ]
    },
    {
     "name": "stdout",
     "output_type": "stream",
     "text": [
      "Adjusting learning rate of group 0 to 4.0000e-03.\n",
      "Epoch 137\n",
      "Accuracy: 0.9112 | Train loss: 0.10538035414351357 | Valid loss: 0.26814122269880025\n"
     ]
    },
    {
     "name": "stderr",
     "output_type": "stream",
     "text": [
      "\n",
      "100%|██████████| 352/352 [00:13<00:00, 25.28it/s]\n",
      "100%|██████████| 40/40 [00:00<00:00, 52.78it/s]"
     ]
    },
    {
     "name": "stdout",
     "output_type": "stream",
     "text": [
      "Adjusting learning rate of group 0 to 4.0000e-03.\n",
      "Epoch 138\n",
      "Accuracy: 0.9114 | Train loss: 0.10631827485760054 | Valid loss: 0.2828870060682297\n"
     ]
    },
    {
     "name": "stderr",
     "output_type": "stream",
     "text": [
      "\n",
      "100%|██████████| 352/352 [00:14<00:00, 24.84it/s]\n",
      "100%|██████████| 40/40 [00:00<00:00, 52.33it/s]"
     ]
    },
    {
     "name": "stdout",
     "output_type": "stream",
     "text": [
      "Adjusting learning rate of group 0 to 4.0000e-03.\n",
      "Epoch 139\n",
      "Accuracy: 0.9158 | Train loss: 0.10338797005812327 | Valid loss: 0.2810925421714783\n",
      "YES\n"
     ]
    },
    {
     "name": "stderr",
     "output_type": "stream",
     "text": [
      "\n",
      "100%|██████████| 352/352 [00:14<00:00, 24.65it/s]\n",
      "100%|██████████| 40/40 [00:00<00:00, 54.77it/s]"
     ]
    },
    {
     "name": "stdout",
     "output_type": "stream",
     "text": [
      "Adjusting learning rate of group 0 to 4.0000e-03.\n",
      "Epoch 140\n",
      "Accuracy: 0.9086 | Train loss: 0.10671927460763189 | Valid loss: 0.27646372900009153\n"
     ]
    },
    {
     "name": "stderr",
     "output_type": "stream",
     "text": [
      "\n",
      "100%|██████████| 352/352 [00:14<00:00, 24.39it/s]\n",
      "100%|██████████| 40/40 [00:00<00:00, 45.67it/s]"
     ]
    },
    {
     "name": "stdout",
     "output_type": "stream",
     "text": [
      "Adjusting learning rate of group 0 to 4.0000e-03.\n",
      "Epoch 141\n",
      "Accuracy: 0.9102 | Train loss: 0.10692349253230625 | Valid loss: 0.2728192274093628\n"
     ]
    },
    {
     "name": "stderr",
     "output_type": "stream",
     "text": [
      "\n",
      "100%|██████████| 352/352 [00:14<00:00, 24.22it/s]\n",
      "100%|██████████| 40/40 [00:00<00:00, 55.12it/s]"
     ]
    },
    {
     "name": "stdout",
     "output_type": "stream",
     "text": [
      "Adjusting learning rate of group 0 to 4.0000e-03.\n",
      "Epoch 142\n",
      "Accuracy: 0.9128 | Train loss: 0.10674240559207068 | Valid loss: 0.28699344415664674\n"
     ]
    },
    {
     "name": "stderr",
     "output_type": "stream",
     "text": [
      "\n",
      "100%|██████████| 352/352 [00:13<00:00, 25.40it/s]\n",
      "100%|██████████| 40/40 [00:00<00:00, 55.29it/s]"
     ]
    },
    {
     "name": "stdout",
     "output_type": "stream",
     "text": [
      "Adjusting learning rate of group 0 to 4.0000e-03.\n",
      "Epoch 143\n",
      "Accuracy: 0.9102 | Train loss: 0.10487015767097473 | Valid loss: 0.2784091273188591\n"
     ]
    },
    {
     "name": "stderr",
     "output_type": "stream",
     "text": [
      "\n",
      "100%|██████████| 352/352 [00:14<00:00, 24.16it/s]\n",
      "100%|██████████| 40/40 [00:00<00:00, 55.61it/s]"
     ]
    },
    {
     "name": "stdout",
     "output_type": "stream",
     "text": [
      "Adjusting learning rate of group 0 to 4.0000e-03.\n",
      "Epoch 144\n",
      "Accuracy: 0.9096 | Train loss: 0.10480431028074688 | Valid loss: 0.287341133380495\n"
     ]
    },
    {
     "name": "stderr",
     "output_type": "stream",
     "text": [
      "\n",
      "100%|██████████| 352/352 [00:15<00:00, 22.46it/s]\n",
      "100%|██████████| 40/40 [00:01<00:00, 37.79it/s]"
     ]
    },
    {
     "name": "stdout",
     "output_type": "stream",
     "text": [
      "Adjusting learning rate of group 0 to 4.0000e-03.\n",
      "Epoch 145\n",
      "Accuracy: 0.9084 | Train loss: 0.10395464211040073 | Valid loss: 0.28978777614831924\n"
     ]
    },
    {
     "name": "stderr",
     "output_type": "stream",
     "text": [
      "\n",
      "100%|██████████| 352/352 [00:19<00:00, 17.93it/s]\n",
      "100%|██████████| 40/40 [00:00<00:00, 53.65it/s]"
     ]
    },
    {
     "name": "stdout",
     "output_type": "stream",
     "text": [
      "Adjusting learning rate of group 0 to 4.0000e-03.\n",
      "Epoch 146\n",
      "Accuracy: 0.9112 | Train loss: 0.1029757917351193 | Valid loss: 0.28330736446380617\n"
     ]
    },
    {
     "name": "stderr",
     "output_type": "stream",
     "text": [
      "\n",
      "100%|██████████| 352/352 [00:14<00:00, 25.01it/s]\n",
      "100%|██████████| 40/40 [00:00<00:00, 52.06it/s]"
     ]
    },
    {
     "name": "stdout",
     "output_type": "stream",
     "text": [
      "Adjusting learning rate of group 0 to 4.0000e-03.\n",
      "Epoch 147\n",
      "Accuracy: 0.9134 | Train loss: 0.10147886737386386 | Valid loss: 0.282958424949646\n"
     ]
    },
    {
     "name": "stderr",
     "output_type": "stream",
     "text": [
      "\n",
      "100%|██████████| 352/352 [00:14<00:00, 23.90it/s]\n",
      "100%|██████████| 40/40 [00:00<00:00, 44.48it/s]"
     ]
    },
    {
     "name": "stdout",
     "output_type": "stream",
     "text": [
      "Adjusting learning rate of group 0 to 4.0000e-03.\n",
      "Epoch 148\n",
      "Accuracy: 0.9094 | Train loss: 0.10500334476629893 | Valid loss: 0.2875676157951355\n"
     ]
    },
    {
     "name": "stderr",
     "output_type": "stream",
     "text": [
      "\n",
      "100%|██████████| 352/352 [00:14<00:00, 24.37it/s]\n",
      "100%|██████████| 40/40 [00:00<00:00, 54.76it/s]"
     ]
    },
    {
     "name": "stdout",
     "output_type": "stream",
     "text": [
      "Adjusting learning rate of group 0 to 4.0000e-03.\n",
      "Epoch 149\n",
      "Accuracy: 0.9062 | Train loss: 0.10366821999814775 | Valid loss: 0.29229856271743776\n"
     ]
    },
    {
     "name": "stderr",
     "output_type": "stream",
     "text": [
      "\n",
      "100%|██████████| 352/352 [00:14<00:00, 24.09it/s]\n",
      "100%|██████████| 40/40 [00:00<00:00, 57.75it/s]"
     ]
    },
    {
     "name": "stdout",
     "output_type": "stream",
     "text": [
      "Adjusting learning rate of group 0 to 4.0000e-03.\n",
      "Epoch 150\n",
      "Accuracy: 0.9056 | Train loss: 0.10040953558286031 | Valid loss: 0.3078462421476841\n"
     ]
    },
    {
     "name": "stderr",
     "output_type": "stream",
     "text": [
      "\n",
      "100%|██████████| 352/352 [00:14<00:00, 23.61it/s]\n",
      "100%|██████████| 40/40 [00:00<00:00, 54.58it/s]"
     ]
    },
    {
     "name": "stdout",
     "output_type": "stream",
     "text": [
      "Adjusting learning rate of group 0 to 4.0000e-03.\n",
      "Epoch 151\n",
      "Accuracy: 0.911 | Train loss: 0.10247023034758038 | Valid loss: 0.2865751675605774\n"
     ]
    },
    {
     "name": "stderr",
     "output_type": "stream",
     "text": [
      "\n",
      "100%|██████████| 352/352 [00:14<00:00, 23.62it/s]\n",
      "100%|██████████| 40/40 [00:00<00:00, 54.88it/s]"
     ]
    },
    {
     "name": "stdout",
     "output_type": "stream",
     "text": [
      "Adjusting learning rate of group 0 to 4.0000e-03.\n",
      "Epoch 152\n",
      "Accuracy: 0.9086 | Train loss: 0.10209048160049651 | Valid loss: 0.2970819195389748\n"
     ]
    },
    {
     "name": "stderr",
     "output_type": "stream",
     "text": [
      "\n",
      "100%|██████████| 352/352 [00:14<00:00, 23.57it/s]\n",
      "100%|██████████| 40/40 [00:00<00:00, 55.88it/s]"
     ]
    },
    {
     "name": "stdout",
     "output_type": "stream",
     "text": [
      "Adjusting learning rate of group 0 to 4.0000e-03.\n",
      "Epoch 153\n",
      "Accuracy: 0.9126 | Train loss: 0.1040022500038147 | Valid loss: 0.28132147640548644\n"
     ]
    },
    {
     "name": "stderr",
     "output_type": "stream",
     "text": [
      "\n",
      "100%|██████████| 352/352 [00:16<00:00, 21.18it/s]\n",
      "100%|██████████| 40/40 [00:01<00:00, 37.38it/s]"
     ]
    },
    {
     "name": "stdout",
     "output_type": "stream",
     "text": [
      "Adjusting learning rate of group 0 to 4.0000e-03.\n",
      "Epoch 154\n",
      "Accuracy: 0.902 | Train loss: 0.09989417930444082 | Valid loss: 0.3052519635200501\n"
     ]
    },
    {
     "name": "stderr",
     "output_type": "stream",
     "text": [
      "\n",
      "100%|██████████| 352/352 [00:18<00:00, 18.92it/s]\n",
      "100%|██████████| 40/40 [00:00<00:00, 57.36it/s]"
     ]
    },
    {
     "name": "stdout",
     "output_type": "stream",
     "text": [
      "Adjusting learning rate of group 0 to 4.0000e-03.\n",
      "Epoch 155\n",
      "Accuracy: 0.9128 | Train loss: 0.09942441992229885 | Valid loss: 0.2985407704353332\n"
     ]
    },
    {
     "name": "stderr",
     "output_type": "stream",
     "text": [
      "\n",
      "100%|██████████| 352/352 [00:14<00:00, 24.36it/s]\n",
      "100%|██████████| 40/40 [00:00<00:00, 55.98it/s]"
     ]
    },
    {
     "name": "stdout",
     "output_type": "stream",
     "text": [
      "Adjusting learning rate of group 0 to 4.0000e-03.\n",
      "Epoch 156\n",
      "Accuracy: 0.9078 | Train loss: 0.10212589262061648 | Valid loss: 0.30399110296964643\n"
     ]
    },
    {
     "name": "stderr",
     "output_type": "stream",
     "text": [
      "\n",
      "100%|██████████| 352/352 [00:14<00:00, 24.60it/s]\n",
      "100%|██████████| 40/40 [00:00<00:00, 57.76it/s]"
     ]
    },
    {
     "name": "stdout",
     "output_type": "stream",
     "text": [
      "Adjusting learning rate of group 0 to 4.0000e-03.\n",
      "Epoch 157\n",
      "Accuracy: 0.9088 | Train loss: 0.10203784283796946 | Valid loss: 0.30117239607572555\n"
     ]
    },
    {
     "name": "stderr",
     "output_type": "stream",
     "text": [
      "\n",
      "100%|██████████| 352/352 [00:14<00:00, 23.97it/s]\n",
      "100%|██████████| 40/40 [00:00<00:00, 56.40it/s]"
     ]
    },
    {
     "name": "stdout",
     "output_type": "stream",
     "text": [
      "Adjusting learning rate of group 0 to 4.0000e-03.\n",
      "Epoch 158\n",
      "Accuracy: 0.9084 | Train loss: 0.10325278047190772 | Valid loss: 0.2958669737935066\n"
     ]
    },
    {
     "name": "stderr",
     "output_type": "stream",
     "text": [
      "\n",
      "100%|██████████| 352/352 [00:13<00:00, 25.36it/s]\n",
      "100%|██████████| 40/40 [00:00<00:00, 47.42it/s]"
     ]
    },
    {
     "name": "stdout",
     "output_type": "stream",
     "text": [
      "Adjusting learning rate of group 0 to 4.0000e-03.\n",
      "Epoch 159\n",
      "Accuracy: 0.9088 | Train loss: 0.10084126391940647 | Valid loss: 0.3069718858242035\n"
     ]
    },
    {
     "name": "stderr",
     "output_type": "stream",
     "text": [
      "\n",
      "100%|██████████| 352/352 [00:14<00:00, 24.38it/s]\n",
      "100%|██████████| 40/40 [00:00<00:00, 49.87it/s]"
     ]
    },
    {
     "name": "stdout",
     "output_type": "stream",
     "text": [
      "Adjusting learning rate of group 0 to 8.0000e-04.\n",
      "Epoch 160\n",
      "Accuracy: 0.9106 | Train loss: 0.10185482936633958 | Valid loss: 0.29345257574915884\n"
     ]
    },
    {
     "name": "stderr",
     "output_type": "stream",
     "text": [
      "\n",
      "100%|██████████| 352/352 [00:14<00:00, 24.68it/s]\n",
      "100%|██████████| 40/40 [00:00<00:00, 54.25it/s]\n"
     ]
    },
    {
     "name": "stdout",
     "output_type": "stream",
     "text": [
      "Adjusting learning rate of group 0 to 8.0000e-04.\n",
      "Epoch 161\n",
      "Accuracy: 0.9178 | Train loss: 0.07946513590812683 | Valid loss: 0.267417759424448\n",
      "YES\n"
     ]
    },
    {
     "name": "stderr",
     "output_type": "stream",
     "text": [
      "100%|██████████| 352/352 [00:14<00:00, 24.55it/s]\n",
      "100%|██████████| 40/40 [00:00<00:00, 54.89it/s]"
     ]
    },
    {
     "name": "stdout",
     "output_type": "stream",
     "text": [
      "Adjusting learning rate of group 0 to 8.0000e-04.\n",
      "Epoch 162\n",
      "Accuracy: 0.9164 | Train loss: 0.07264843672116597 | Valid loss: 0.2667900206983089\n"
     ]
    },
    {
     "name": "stderr",
     "output_type": "stream",
     "text": [
      "\n",
      "100%|██████████| 352/352 [00:15<00:00, 22.37it/s]\n",
      "100%|██████████| 40/40 [00:01<00:00, 39.61it/s]"
     ]
    },
    {
     "name": "stdout",
     "output_type": "stream",
     "text": [
      "Adjusting learning rate of group 0 to 8.0000e-04.\n",
      "Epoch 163\n",
      "Accuracy: 0.9192 | Train loss: 0.06886204044090377 | Valid loss: 0.2669836932387203\n",
      "YES\n"
     ]
    },
    {
     "name": "stderr",
     "output_type": "stream",
     "text": [
      "\n",
      "100%|██████████| 352/352 [00:18<00:00, 18.76it/s]\n",
      "100%|██████████| 40/40 [00:00<00:00, 55.61it/s]"
     ]
    },
    {
     "name": "stdout",
     "output_type": "stream",
     "text": [
      "Adjusting learning rate of group 0 to 8.0000e-04.\n",
      "Epoch 164\n",
      "Accuracy: 0.919 | Train loss: 0.06844236991935305 | Valid loss: 0.2654369432687759\n"
     ]
    },
    {
     "name": "stderr",
     "output_type": "stream",
     "text": [
      "\n",
      "100%|██████████| 352/352 [00:13<00:00, 25.84it/s]\n",
      "100%|██████████| 40/40 [00:00<00:00, 54.75it/s]"
     ]
    },
    {
     "name": "stdout",
     "output_type": "stream",
     "text": [
      "Adjusting learning rate of group 0 to 8.0000e-04.\n",
      "Epoch 165\n",
      "Accuracy: 0.9174 | Train loss: 0.06779703695509169 | Valid loss: 0.2663344897270203\n"
     ]
    },
    {
     "name": "stderr",
     "output_type": "stream",
     "text": [
      "\n",
      "100%|██████████| 352/352 [00:14<00:00, 24.25it/s]\n",
      "100%|██████████| 40/40 [00:00<00:00, 49.16it/s]"
     ]
    },
    {
     "name": "stdout",
     "output_type": "stream",
     "text": [
      "Adjusting learning rate of group 0 to 8.0000e-04.\n",
      "Epoch 166\n",
      "Accuracy: 0.9176 | Train loss: 0.06500820796555944 | Valid loss: 0.2672373833179474\n"
     ]
    },
    {
     "name": "stderr",
     "output_type": "stream",
     "text": [
      "\n",
      "100%|██████████| 352/352 [00:13<00:00, 25.78it/s]\n",
      "100%|██████████| 40/40 [00:00<00:00, 59.18it/s]"
     ]
    },
    {
     "name": "stdout",
     "output_type": "stream",
     "text": [
      "Adjusting learning rate of group 0 to 8.0000e-04.\n",
      "Epoch 167\n",
      "Accuracy: 0.9186 | Train loss: 0.06495861958993805 | Valid loss: 0.27139340705871584\n"
     ]
    },
    {
     "name": "stderr",
     "output_type": "stream",
     "text": [
      "\n",
      "100%|██████████| 352/352 [00:13<00:00, 25.24it/s]\n",
      "100%|██████████| 40/40 [00:00<00:00, 57.74it/s]"
     ]
    },
    {
     "name": "stdout",
     "output_type": "stream",
     "text": [
      "Adjusting learning rate of group 0 to 8.0000e-04.\n",
      "Epoch 168\n",
      "Accuracy: 0.9174 | Train loss: 0.06350846965975232 | Valid loss: 0.26670084204673766\n"
     ]
    },
    {
     "name": "stderr",
     "output_type": "stream",
     "text": [
      "\n",
      "100%|██████████| 352/352 [00:15<00:00, 23.37it/s]\n",
      "100%|██████████| 40/40 [00:00<00:00, 58.45it/s]"
     ]
    },
    {
     "name": "stdout",
     "output_type": "stream",
     "text": [
      "Adjusting learning rate of group 0 to 8.0000e-04.\n",
      "Epoch 169\n",
      "Accuracy: 0.9164 | Train loss: 0.06275909179316627 | Valid loss: 0.2726381805837154\n"
     ]
    },
    {
     "name": "stderr",
     "output_type": "stream",
     "text": [
      "\n",
      "100%|██████████| 352/352 [00:14<00:00, 25.13it/s]\n",
      "100%|██████████| 40/40 [00:00<00:00, 52.71it/s]"
     ]
    },
    {
     "name": "stdout",
     "output_type": "stream",
     "text": [
      "Adjusting learning rate of group 0 to 8.0000e-04.\n",
      "Epoch 170\n",
      "Accuracy: 0.9198 | Train loss: 0.06211484414603975 | Valid loss: 0.2660934984177351\n",
      "YES\n"
     ]
    },
    {
     "name": "stderr",
     "output_type": "stream",
     "text": [
      "\n",
      "100%|██████████| 352/352 [00:14<00:00, 23.77it/s]\n",
      "100%|██████████| 40/40 [00:00<00:00, 50.48it/s]"
     ]
    },
    {
     "name": "stdout",
     "output_type": "stream",
     "text": [
      "Adjusting learning rate of group 0 to 8.0000e-04.\n",
      "Epoch 171\n",
      "Accuracy: 0.915 | Train loss: 0.062114106002781125 | Valid loss: 0.27077106521129607\n"
     ]
    },
    {
     "name": "stderr",
     "output_type": "stream",
     "text": [
      "\n",
      "100%|██████████| 352/352 [00:15<00:00, 23.45it/s]\n",
      "100%|██████████| 40/40 [00:01<00:00, 39.89it/s]"
     ]
    },
    {
     "name": "stdout",
     "output_type": "stream",
     "text": [
      "Adjusting learning rate of group 0 to 8.0000e-04.\n",
      "Epoch 172\n",
      "Accuracy: 0.9192 | Train loss: 0.06337643314732445 | Valid loss: 0.2687637595176697\n"
     ]
    },
    {
     "name": "stderr",
     "output_type": "stream",
     "text": [
      "\n",
      "100%|██████████| 352/352 [00:19<00:00, 18.21it/s]\n",
      "100%|██████████| 40/40 [00:01<00:00, 36.75it/s]"
     ]
    },
    {
     "name": "stdout",
     "output_type": "stream",
     "text": [
      "Adjusting learning rate of group 0 to 8.0000e-04.\n",
      "Epoch 173\n",
      "Accuracy: 0.9172 | Train loss: 0.0610418631500668 | Valid loss: 0.27004745501875876\n"
     ]
    },
    {
     "name": "stderr",
     "output_type": "stream",
     "text": [
      "\n",
      "100%|██████████| 352/352 [00:13<00:00, 25.80it/s]\n",
      "100%|██████████| 40/40 [00:00<00:00, 59.20it/s]"
     ]
    },
    {
     "name": "stdout",
     "output_type": "stream",
     "text": [
      "Adjusting learning rate of group 0 to 8.0000e-04.\n",
      "Epoch 174\n",
      "Accuracy: 0.9176 | Train loss: 0.062100345811578965 | Valid loss: 0.2681697669029236\n"
     ]
    },
    {
     "name": "stderr",
     "output_type": "stream",
     "text": [
      "\n",
      "100%|██████████| 352/352 [00:14<00:00, 24.08it/s]\n",
      "100%|██████████| 40/40 [00:00<00:00, 52.92it/s]"
     ]
    },
    {
     "name": "stdout",
     "output_type": "stream",
     "text": [
      "Adjusting learning rate of group 0 to 8.0000e-04.\n",
      "Epoch 175\n",
      "Accuracy: 0.9166 | Train loss: 0.061243413665559555 | Valid loss: 0.27408612022399903\n"
     ]
    },
    {
     "name": "stderr",
     "output_type": "stream",
     "text": [
      "\n",
      "100%|██████████| 352/352 [00:13<00:00, 25.38it/s]\n",
      "100%|██████████| 40/40 [00:00<00:00, 54.72it/s]"
     ]
    },
    {
     "name": "stdout",
     "output_type": "stream",
     "text": [
      "Adjusting learning rate of group 0 to 8.0000e-04.\n",
      "Epoch 176\n",
      "Accuracy: 0.919 | Train loss: 0.059599415900972154 | Valid loss: 0.27075957503318787\n"
     ]
    },
    {
     "name": "stderr",
     "output_type": "stream",
     "text": [
      "\n",
      "100%|██████████| 352/352 [00:14<00:00, 24.44it/s]\n",
      "100%|██████████| 40/40 [00:00<00:00, 44.25it/s]\n"
     ]
    },
    {
     "name": "stdout",
     "output_type": "stream",
     "text": [
      "Adjusting learning rate of group 0 to 8.0000e-04.\n",
      "Epoch 177\n",
      "Accuracy: 0.9182 | Train loss: 0.05970535026391347 | Valid loss: 0.26763788521811366\n"
     ]
    },
    {
     "name": "stderr",
     "output_type": "stream",
     "text": [
      "100%|██████████| 352/352 [00:13<00:00, 25.65it/s]\n",
      "100%|██████████| 40/40 [00:00<00:00, 58.87it/s]"
     ]
    },
    {
     "name": "stdout",
     "output_type": "stream",
     "text": [
      "Adjusting learning rate of group 0 to 8.0000e-04.\n",
      "Epoch 178\n",
      "Accuracy: 0.9154 | Train loss: 0.05970334088934792 | Valid loss: 0.27163565318882466\n"
     ]
    },
    {
     "name": "stderr",
     "output_type": "stream",
     "text": [
      "\n",
      "100%|██████████| 352/352 [00:14<00:00, 24.63it/s]\n",
      "100%|██████████| 40/40 [00:00<00:00, 58.32it/s]"
     ]
    },
    {
     "name": "stdout",
     "output_type": "stream",
     "text": [
      "Adjusting learning rate of group 0 to 8.0000e-04.\n",
      "Epoch 179\n",
      "Accuracy: 0.9156 | Train loss: 0.05757395375834571 | Valid loss: 0.2739202837944031\n"
     ]
    },
    {
     "name": "stderr",
     "output_type": "stream",
     "text": [
      "\n",
      "100%|██████████| 352/352 [00:13<00:00, 25.85it/s]\n",
      "100%|██████████| 40/40 [00:00<00:00, 42.81it/s]"
     ]
    },
    {
     "name": "stdout",
     "output_type": "stream",
     "text": [
      "Adjusting learning rate of group 0 to 8.0000e-04.\n",
      "Epoch 180\n",
      "Accuracy: 0.9162 | Train loss: 0.05891355718506707 | Valid loss: 0.26871432197093964\n"
     ]
    },
    {
     "name": "stderr",
     "output_type": "stream",
     "text": [
      "\n",
      "100%|██████████| 352/352 [00:13<00:00, 25.58it/s]\n",
      "100%|██████████| 40/40 [00:00<00:00, 54.66it/s]"
     ]
    },
    {
     "name": "stdout",
     "output_type": "stream",
     "text": [
      "Adjusting learning rate of group 0 to 8.0000e-04.\n",
      "Epoch 181\n",
      "Accuracy: 0.9164 | Train loss: 0.059050339779920046 | Valid loss: 0.27207177053717896\n"
     ]
    },
    {
     "name": "stderr",
     "output_type": "stream",
     "text": [
      "\n",
      "100%|██████████| 352/352 [00:19<00:00, 18.42it/s]\n",
      "100%|██████████| 40/40 [00:01<00:00, 38.95it/s]"
     ]
    },
    {
     "name": "stdout",
     "output_type": "stream",
     "text": [
      "Adjusting learning rate of group 0 to 8.0000e-04.\n",
      "Epoch 182\n",
      "Accuracy: 0.9158 | Train loss: 0.059627534902758066 | Valid loss: 0.27187343489155175\n"
     ]
    },
    {
     "name": "stderr",
     "output_type": "stream",
     "text": [
      "\n",
      "100%|██████████| 352/352 [00:15<00:00, 22.49it/s]\n",
      "100%|██████████| 40/40 [00:00<00:00, 53.40it/s]"
     ]
    },
    {
     "name": "stdout",
     "output_type": "stream",
     "text": [
      "Adjusting learning rate of group 0 to 8.0000e-04.\n",
      "Epoch 183\n",
      "Accuracy: 0.9176 | Train loss: 0.05592384085390303 | Valid loss: 0.2687152196526527\n"
     ]
    },
    {
     "name": "stderr",
     "output_type": "stream",
     "text": [
      "\n",
      "100%|██████████| 352/352 [00:14<00:00, 23.86it/s]\n",
      "100%|██████████| 40/40 [00:00<00:00, 55.46it/s]"
     ]
    },
    {
     "name": "stdout",
     "output_type": "stream",
     "text": [
      "Adjusting learning rate of group 0 to 8.0000e-04.\n",
      "Epoch 184\n",
      "Accuracy: 0.9162 | Train loss: 0.056421913666857615 | Valid loss: 0.2738705066680908\n"
     ]
    },
    {
     "name": "stderr",
     "output_type": "stream",
     "text": [
      "\n",
      "100%|██████████| 352/352 [00:13<00:00, 25.43it/s]\n",
      "100%|██████████| 40/40 [00:00<00:00, 57.63it/s]"
     ]
    },
    {
     "name": "stdout",
     "output_type": "stream",
     "text": [
      "Adjusting learning rate of group 0 to 8.0000e-04.\n",
      "Epoch 185\n",
      "Accuracy: 0.9172 | Train loss: 0.05722252581119537 | Valid loss: 0.2735677150208503\n"
     ]
    },
    {
     "name": "stderr",
     "output_type": "stream",
     "text": [
      "\n",
      "100%|██████████| 352/352 [00:15<00:00, 23.44it/s]\n",
      "100%|██████████| 40/40 [00:00<00:00, 56.13it/s]"
     ]
    },
    {
     "name": "stdout",
     "output_type": "stream",
     "text": [
      "Adjusting learning rate of group 0 to 8.0000e-04.\n",
      "Epoch 186\n",
      "Accuracy: 0.9156 | Train loss: 0.05629412730799781 | Valid loss: 0.27323527421951294\n"
     ]
    },
    {
     "name": "stderr",
     "output_type": "stream",
     "text": [
      "\n",
      "100%|██████████| 352/352 [00:14<00:00, 24.44it/s]\n",
      "100%|██████████| 40/40 [00:00<00:00, 52.54it/s]"
     ]
    },
    {
     "name": "stdout",
     "output_type": "stream",
     "text": [
      "Adjusting learning rate of group 0 to 8.0000e-04.\n",
      "Epoch 187\n",
      "Accuracy: 0.9166 | Train loss: 0.05708257783916262 | Valid loss: 0.27251195495128633\n"
     ]
    },
    {
     "name": "stderr",
     "output_type": "stream",
     "text": [
      "\n",
      "100%|██████████| 352/352 [00:14<00:00, 24.15it/s]\n",
      "100%|██████████| 40/40 [00:00<00:00, 58.62it/s]"
     ]
    },
    {
     "name": "stdout",
     "output_type": "stream",
     "text": [
      "Adjusting learning rate of group 0 to 8.0000e-04.\n",
      "Epoch 188\n",
      "Accuracy: 0.9158 | Train loss: 0.056283218206299675 | Valid loss: 0.2717688665866852\n"
     ]
    },
    {
     "name": "stderr",
     "output_type": "stream",
     "text": [
      "\n",
      "100%|██████████| 352/352 [00:14<00:00, 24.79it/s]\n",
      "100%|██████████| 40/40 [00:01<00:00, 35.67it/s]"
     ]
    },
    {
     "name": "stdout",
     "output_type": "stream",
     "text": [
      "Adjusting learning rate of group 0 to 8.0000e-04.\n",
      "Epoch 189\n",
      "Accuracy: 0.9146 | Train loss: 0.05470592972172631 | Valid loss: 0.27412984523773193\n"
     ]
    },
    {
     "name": "stderr",
     "output_type": "stream",
     "text": [
      "\n",
      "100%|██████████| 352/352 [00:14<00:00, 24.61it/s]\n",
      "100%|██████████| 40/40 [00:00<00:00, 53.64it/s]"
     ]
    },
    {
     "name": "stdout",
     "output_type": "stream",
     "text": [
      "Adjusting learning rate of group 0 to 8.0000e-04.\n",
      "Epoch 190\n",
      "Accuracy: 0.9146 | Train loss: 0.055677917782465614 | Valid loss: 0.27320646892786027\n"
     ]
    },
    {
     "name": "stderr",
     "output_type": "stream",
     "text": [
      "\n",
      "100%|██████████| 352/352 [00:18<00:00, 19.48it/s]\n",
      "100%|██████████| 40/40 [00:01<00:00, 39.76it/s]"
     ]
    },
    {
     "name": "stdout",
     "output_type": "stream",
     "text": [
      "Adjusting learning rate of group 0 to 8.0000e-04.\n",
      "Epoch 191\n",
      "Accuracy: 0.9188 | Train loss: 0.05440469966597027 | Valid loss: 0.27460590846538546\n"
     ]
    },
    {
     "name": "stderr",
     "output_type": "stream",
     "text": [
      "\n",
      "100%|██████████| 352/352 [00:17<00:00, 19.94it/s]\n",
      "100%|██████████| 40/40 [00:00<00:00, 57.66it/s]"
     ]
    },
    {
     "name": "stdout",
     "output_type": "stream",
     "text": [
      "Adjusting learning rate of group 0 to 8.0000e-04.\n",
      "Epoch 192\n",
      "Accuracy: 0.9144 | Train loss: 0.05524020998742845 | Valid loss: 0.27650879621505736\n"
     ]
    },
    {
     "name": "stderr",
     "output_type": "stream",
     "text": [
      "\n",
      "100%|██████████| 352/352 [00:14<00:00, 23.97it/s]\n",
      "100%|██████████| 40/40 [00:00<00:00, 58.72it/s]"
     ]
    },
    {
     "name": "stdout",
     "output_type": "stream",
     "text": [
      "Adjusting learning rate of group 0 to 8.0000e-04.\n",
      "Epoch 193\n",
      "Accuracy: 0.9152 | Train loss: 0.05414931644466188 | Valid loss: 0.2736218725204468\n"
     ]
    },
    {
     "name": "stderr",
     "output_type": "stream",
     "text": [
      "\n",
      "100%|██████████| 352/352 [00:14<00:00, 24.39it/s]\n",
      "100%|██████████| 40/40 [00:00<00:00, 57.75it/s]"
     ]
    },
    {
     "name": "stdout",
     "output_type": "stream",
     "text": [
      "Adjusting learning rate of group 0 to 8.0000e-04.\n",
      "Epoch 194\n",
      "Accuracy: 0.9166 | Train loss: 0.05743064761824078 | Valid loss: 0.27159296988025305\n"
     ]
    },
    {
     "name": "stderr",
     "output_type": "stream",
     "text": [
      "\n",
      "100%|██████████| 352/352 [00:14<00:00, 24.42it/s]\n",
      "100%|██████████| 40/40 [00:00<00:00, 48.80it/s]"
     ]
    },
    {
     "name": "stdout",
     "output_type": "stream",
     "text": [
      "Adjusting learning rate of group 0 to 8.0000e-04.\n",
      "Epoch 195\n",
      "Accuracy: 0.9148 | Train loss: 0.05529696418444316 | Valid loss: 0.2709193248271942\n"
     ]
    },
    {
     "name": "stderr",
     "output_type": "stream",
     "text": [
      "\n",
      "100%|██████████| 352/352 [00:14<00:00, 24.09it/s]\n",
      "100%|██████████| 40/40 [00:00<00:00, 55.71it/s]"
     ]
    },
    {
     "name": "stdout",
     "output_type": "stream",
     "text": [
      "Adjusting learning rate of group 0 to 8.0000e-04.\n",
      "Epoch 196\n",
      "Accuracy: 0.9134 | Train loss: 0.0531438146021631 | Valid loss: 0.2723612755894661\n"
     ]
    },
    {
     "name": "stderr",
     "output_type": "stream",
     "text": [
      "\n",
      "100%|██████████| 352/352 [00:13<00:00, 25.34it/s]\n",
      "100%|██████████| 40/40 [00:00<00:00, 56.58it/s]"
     ]
    },
    {
     "name": "stdout",
     "output_type": "stream",
     "text": [
      "Adjusting learning rate of group 0 to 8.0000e-04.\n",
      "Epoch 197\n",
      "Accuracy: 0.918 | Train loss: 0.0545190699895223 | Valid loss: 0.2697979093313217\n"
     ]
    },
    {
     "name": "stderr",
     "output_type": "stream",
     "text": [
      "\n",
      "100%|██████████| 352/352 [00:14<00:00, 24.59it/s]\n",
      "100%|██████████| 40/40 [00:00<00:00, 46.76it/s]"
     ]
    },
    {
     "name": "stdout",
     "output_type": "stream",
     "text": [
      "Adjusting learning rate of group 0 to 8.0000e-04.\n",
      "Epoch 198\n",
      "Accuracy: 0.915 | Train loss: 0.05357842140727573 | Valid loss: 0.27564509325027464\n"
     ]
    },
    {
     "name": "stderr",
     "output_type": "stream",
     "text": [
      "\n",
      "100%|██████████| 352/352 [00:14<00:00, 24.18it/s]\n",
      "100%|██████████| 40/40 [00:00<00:00, 50.88it/s]"
     ]
    },
    {
     "name": "stdout",
     "output_type": "stream",
     "text": [
      "Adjusting learning rate of group 0 to 8.0000e-04.\n",
      "Epoch 199\n",
      "Accuracy: 0.9156 | Train loss: 0.05545646618737115 | Valid loss: 0.2735051671028137\n"
     ]
    },
    {
     "name": "stderr",
     "output_type": "stream",
     "text": [
      "\n",
      "100%|██████████| 352/352 [00:15<00:00, 22.52it/s]\n",
      "100%|██████████| 40/40 [00:00<00:00, 40.45it/s]"
     ]
    },
    {
     "name": "stdout",
     "output_type": "stream",
     "text": [
      "Adjusting learning rate of group 0 to 8.0000e-04.\n",
      "Epoch 200\n",
      "Accuracy: 0.9134 | Train loss: 0.05142623050411542 | Valid loss: 0.2777992293834686\n"
     ]
    },
    {
     "name": "stderr",
     "output_type": "stream",
     "text": [
      "\n"
     ]
    }
   ],
   "source": [
    "best_score = 0\n",
    "\n",
    "for epoch in range(200):\n",
    "    start_time = time.time()\n",
    "    \n",
    "    avg_loss = train_fn(train_loader, model, criterion, optimizer, None, device)\n",
    "    avg_val_loss, score = valid_fn(valid_loader, model, criterion, device)\n",
    "\n",
    "    scheduler.step()\n",
    "    \n",
    "    print(f\"Epoch {epoch+1}\")\n",
    "    print(f\"Accuracy: {score} | Train loss: {avg_loss} | Valid loss: {avg_val_loss}\")\n",
    "    \n",
    "    if score > best_score:\n",
    "        print(\"YES\")\n",
    "        best_score = score\n",
    "        torch.save(model.state_dict(), f\"best_model.pt\")\n",
    "        \n",
    "    elapsed = time.time() - start_time"
   ]
  },
  {
   "cell_type": "code",
   "execution_count": 21,
   "id": "08d4f7ee",
   "metadata": {
    "execution": {
     "iopub.execute_input": "2022-05-22T15:35:58.339428Z",
     "iopub.status.busy": "2022-05-22T15:35:58.339135Z",
     "iopub.status.idle": "2022-05-22T15:35:58.354513Z",
     "shell.execute_reply": "2022-05-22T15:35:58.353887Z"
    },
    "papermill": {
     "duration": 8.352755,
     "end_time": "2022-05-22T15:35:58.356353",
     "exception": false,
     "start_time": "2022-05-22T15:35:50.003598",
     "status": "completed"
    },
    "tags": []
   },
   "outputs": [],
   "source": [
    "torch.save(model.state_dict(), f\"last_model.pt\")"
   ]
  },
  {
   "cell_type": "code",
   "execution_count": 22,
   "id": "a0311326",
   "metadata": {
    "execution": {
     "iopub.execute_input": "2022-05-22T15:36:15.268552Z",
     "iopub.status.busy": "2022-05-22T15:36:15.268301Z",
     "iopub.status.idle": "2022-05-22T15:36:15.272508Z",
     "shell.execute_reply": "2022-05-22T15:36:15.271707Z"
    },
    "papermill": {
     "duration": 8.752909,
     "end_time": "2022-05-22T15:36:15.274560",
     "exception": false,
     "start_time": "2022-05-22T15:36:06.521651",
     "status": "completed"
    },
    "tags": []
   },
   "outputs": [],
   "source": [
    "test_loader = DataLoader(test_dataset, batch_size=128, shuffle=False,\n",
    "                          num_workers=2, pin_memory=True, drop_last=False)"
   ]
  },
  {
   "cell_type": "code",
   "execution_count": 23,
   "id": "1a8aba23",
   "metadata": {
    "execution": {
     "iopub.execute_input": "2022-05-22T15:36:31.890395Z",
     "iopub.status.busy": "2022-05-22T15:36:31.890142Z",
     "iopub.status.idle": "2022-05-22T15:36:31.912248Z",
     "shell.execute_reply": "2022-05-22T15:36:31.911490Z"
    },
    "papermill": {
     "duration": 8.268877,
     "end_time": "2022-05-22T15:36:31.914118",
     "exception": false,
     "start_time": "2022-05-22T15:36:23.645241",
     "status": "completed"
    },
    "tags": []
   },
   "outputs": [
    {
     "data": {
      "text/plain": [
       "<All keys matched successfully>"
      ]
     },
     "execution_count": 23,
     "metadata": {},
     "output_type": "execute_result"
    }
   ],
   "source": [
    "model.load_state_dict(torch.load(\"./best_model.pt\"))"
   ]
  },
  {
   "cell_type": "code",
   "execution_count": 24,
   "id": "20655bc2",
   "metadata": {
    "execution": {
     "iopub.execute_input": "2022-05-22T15:36:48.972912Z",
     "iopub.status.busy": "2022-05-22T15:36:48.972651Z",
     "iopub.status.idle": "2022-05-22T15:36:50.470679Z",
     "shell.execute_reply": "2022-05-22T15:36:50.469702Z"
    },
    "papermill": {
     "duration": 10.127698,
     "end_time": "2022-05-22T15:36:50.473044",
     "exception": false,
     "start_time": "2022-05-22T15:36:40.345346",
     "status": "completed"
    },
    "tags": []
   },
   "outputs": [
    {
     "name": "stderr",
     "output_type": "stream",
     "text": [
      "100%|██████████| 79/79 [00:01<00:00, 55.44it/s]\n"
     ]
    }
   ],
   "source": [
    "preds = []\n",
    "valid_labels = []\n",
    "for step, (images, labels) in tqdm(enumerate(test_loader), total = len(test_loader)):\n",
    "\n",
    "    images = images.to(device, dtype=torch.float)\n",
    "    labels = labels.to(device)\n",
    "    batch_size = labels.size(0)\n",
    "\n",
    "    with torch.no_grad():\n",
    "        y_preds = model(images)\n",
    "        \n",
    "    preds.append(y_preds.softmax(1).to('cpu').numpy())\n",
    "    valid_labels.append(labels.to('cpu').numpy())\n",
    "\n",
    "predictions = np.concatenate(preds)\n",
    "valid_labels = np.concatenate(valid_labels)\n",
    "\n",
    "score = get_score(valid_labels, predictions.argmax(1))"
   ]
  },
  {
   "cell_type": "code",
   "execution_count": 25,
   "id": "7d5a0be6",
   "metadata": {
    "execution": {
     "iopub.execute_input": "2022-05-22T15:37:07.055685Z",
     "iopub.status.busy": "2022-05-22T15:37:07.055418Z",
     "iopub.status.idle": "2022-05-22T15:37:07.060796Z",
     "shell.execute_reply": "2022-05-22T15:37:07.060170Z"
    },
    "papermill": {
     "duration": 8.275277,
     "end_time": "2022-05-22T15:37:07.062504",
     "exception": false,
     "start_time": "2022-05-22T15:36:58.787227",
     "status": "completed"
    },
    "tags": []
   },
   "outputs": [
    {
     "data": {
      "text/plain": [
       "0.9115"
      ]
     },
     "execution_count": 25,
     "metadata": {},
     "output_type": "execute_result"
    }
   ],
   "source": [
    "score"
   ]
  },
  {
   "cell_type": "code",
   "execution_count": null,
   "id": "269ce5da",
   "metadata": {
    "papermill": {
     "duration": 8.276889,
     "end_time": "2022-05-22T15:37:23.665735",
     "exception": false,
     "start_time": "2022-05-22T15:37:15.388846",
     "status": "completed"
    },
    "tags": []
   },
   "outputs": [],
   "source": []
  }
 ],
 "metadata": {
  "kernelspec": {
   "display_name": "Python 3",
   "language": "python",
   "name": "python3"
  },
  "language_info": {
   "codemirror_mode": {
    "name": "ipython",
    "version": 3
   },
   "file_extension": ".py",
   "mimetype": "text/x-python",
   "name": "python",
   "nbconvert_exporter": "python",
   "pygments_lexer": "ipython3",
   "version": "3.7.12"
  },
  "papermill": {
   "default_parameters": {},
   "duration": 3353.930228,
   "end_time": "2022-05-22T15:37:34.244009",
   "environment_variables": {},
   "exception": null,
   "input_path": "__notebook__.ipynb",
   "output_path": "__notebook__.ipynb",
   "parameters": {},
   "start_time": "2022-05-22T14:41:40.313781",
   "version": "2.3.4"
  }
 },
 "nbformat": 4,
 "nbformat_minor": 5
}
