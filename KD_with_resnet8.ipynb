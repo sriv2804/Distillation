{
 "cells": [
  {
   "cell_type": "code",
   "execution_count": 1,
   "id": "760dba6f",
   "metadata": {
    "execution": {
     "iopub.execute_input": "2022-05-23T16:53:20.898261Z",
     "iopub.status.busy": "2022-05-23T16:53:20.897697Z",
     "iopub.status.idle": "2022-05-23T16:53:23.430940Z",
     "shell.execute_reply": "2022-05-23T16:53:23.430236Z"
    },
    "papermill": {
     "duration": 2.565481,
     "end_time": "2022-05-23T16:53:23.433078",
     "exception": false,
     "start_time": "2022-05-23T16:53:20.867597",
     "status": "completed"
    },
    "tags": []
   },
   "outputs": [],
   "source": [
    "import numpy as np\n",
    "import pandas as pd\n",
    "import torch\n",
    "import torch.nn.functional as  F\n",
    "import torch.nn as nn\n",
    "from pathlib import Path\n",
    "import torchvision\n",
    "import torchvision.transforms as transforms\n",
    "from torch.utils.data import Dataset\n",
    "from collections import OrderedDict\n",
    "from tqdm import tqdm\n",
    "import sys\n",
    "import time\n",
    "from sklearn.metrics import accuracy_score"
   ]
  },
  {
   "cell_type": "code",
   "execution_count": 2,
   "id": "294c6d65",
   "metadata": {
    "execution": {
     "iopub.execute_input": "2022-05-23T16:53:23.488787Z",
     "iopub.status.busy": "2022-05-23T16:53:23.488587Z",
     "iopub.status.idle": "2022-05-23T16:53:23.491751Z",
     "shell.execute_reply": "2022-05-23T16:53:23.491112Z"
    },
    "papermill": {
     "duration": 0.03244,
     "end_time": "2022-05-23T16:53:23.493325",
     "exception": false,
     "start_time": "2022-05-23T16:53:23.460885",
     "status": "completed"
    },
    "tags": []
   },
   "outputs": [],
   "source": [
    "DEVICE='cuda'\n",
    "use_gpu=True"
   ]
  },
  {
   "cell_type": "code",
   "execution_count": 3,
   "id": "aa55bbf6",
   "metadata": {
    "execution": {
     "iopub.execute_input": "2022-05-23T16:53:23.580235Z",
     "iopub.status.busy": "2022-05-23T16:53:23.580010Z",
     "iopub.status.idle": "2022-05-23T16:53:23.586863Z",
     "shell.execute_reply": "2022-05-23T16:53:23.586243Z"
    },
    "papermill": {
     "duration": 0.057827,
     "end_time": "2022-05-23T16:53:23.588537",
     "exception": false,
     "start_time": "2022-05-23T16:53:23.530710",
     "status": "completed"
    },
    "tags": []
   },
   "outputs": [],
   "source": [
    "def reproducibilitySeed():\n",
    "    \"\"\"\n",
    "    Ensure reproducibility of results; Seeds to 0\n",
    "    \"\"\"\n",
    "    torch_init_seed = 0\n",
    "    torch.manual_seed(torch_init_seed)\n",
    "    numpy_init_seed = 0\n",
    "    np.random.seed(numpy_init_seed)\n",
    "    if use_gpu:\n",
    "        torch.backends.cudnn.deterministic = True\n",
    "        torch.backends.cudnn.benchmark = False\n",
    "\n",
    "reproducibilitySeed()"
   ]
  },
  {
   "cell_type": "markdown",
   "id": "dc4b7432",
   "metadata": {
    "papermill": {
     "duration": 0.026805,
     "end_time": "2022-05-23T16:53:23.642331",
     "exception": false,
     "start_time": "2022-05-23T16:53:23.615526",
     "status": "completed"
    },
    "tags": []
   },
   "source": [
    "# # # *Loading Cifar10*"
   ]
  },
  {
   "cell_type": "code",
   "execution_count": 4,
   "id": "500a89eb",
   "metadata": {
    "execution": {
     "iopub.execute_input": "2022-05-23T16:53:23.699059Z",
     "iopub.status.busy": "2022-05-23T16:53:23.698856Z",
     "iopub.status.idle": "2022-05-23T16:53:23.710677Z",
     "shell.execute_reply": "2022-05-23T16:53:23.709921Z"
    },
    "papermill": {
     "duration": 0.043536,
     "end_time": "2022-05-23T16:53:23.712538",
     "exception": false,
     "start_time": "2022-05-23T16:53:23.669002",
     "status": "completed"
    },
    "tags": []
   },
   "outputs": [],
   "source": [
    "\n",
    "\n",
    "NUM_WORKERS = 2\n",
    "\n",
    "\n",
    "class TensorImgSet(Dataset):\n",
    "    \"\"\"TensorDataset with support of transforms.\n",
    "    \"\"\"\n",
    "\n",
    "    def __init__(self, tensors, transform=None):\n",
    "        self.imgs = tensors[0]\n",
    "        self.targets = tensors[1]\n",
    "        self.tensors = tensors\n",
    "        self.transform = transform\n",
    "        self.len = len(self.imgs)\n",
    "\n",
    "    def __getitem__(self, index):\n",
    "        x = self.imgs[index]\n",
    "        if self.transform:\n",
    "            x = self.transform(x)\n",
    "        y = self.targets[index]\n",
    "        return x, y\n",
    "\n",
    "    def __len__(self):\n",
    "        return self.len\n",
    "\n",
    "\n",
    "\n",
    "def get_cifar(num_classes=100, dataset_dir=\"./data\", batch_size=128,\n",
    "              use_cifar_10_1=False):\n",
    "\n",
    "    if num_classes == 10:\n",
    "        print(\"Loading CIFAR10...\")\n",
    "        dataset = torchvision.datasets.CIFAR10\n",
    "        normalize = transforms.Normalize(\n",
    "            (0.4914, 0.4822, 0.4465), (0.2023, 0.1994, 0.2010))\n",
    "    else:\n",
    "        print(\"Loading CIFAR100...\")\n",
    "        dataset = torchvision.datasets.CIFAR100\n",
    "        normalize = transforms.Normalize(\n",
    "            mean=[0.507, 0.487, 0.441], std=[0.267, 0.256, 0.276])\n",
    "\n",
    "    train_transform = transforms.Compose([\n",
    "        transforms.RandomCrop(32, padding=4),\n",
    "        transforms.RandomHorizontalFlip(),\n",
    "        transforms.ToTensor(),\n",
    "        normalize,\n",
    "    ])\n",
    "\n",
    "    trainset = dataset(root=dataset_dir, train=True,\n",
    "                       download=True, transform=train_transform)\n",
    "\n",
    "    test_transform = transforms.Compose([\n",
    "        transforms.ToTensor(),\n",
    "        normalize,\n",
    "    ])\n",
    "\n",
    "    testset = dataset(root=dataset_dir, train=False,\n",
    "                          download=True,\n",
    "                          transform=test_transform)\n",
    "\n",
    "    train_loader = torch.utils.data.DataLoader(trainset,\n",
    "                                               batch_size=batch_size,\n",
    "                                               num_workers=NUM_WORKERS,\n",
    "                                               pin_memory=True, shuffle=True)\n",
    "    test_loader = torch.utils.data.DataLoader(testset,\n",
    "                                              batch_size=batch_size,\n",
    "                                              num_workers=NUM_WORKERS,\n",
    "                                              pin_memory=True, shuffle=False)\n",
    "    return train_loader, test_loader"
   ]
  },
  {
   "cell_type": "markdown",
   "id": "865b74aa",
   "metadata": {
    "papermill": {
     "duration": 0.026651,
     "end_time": "2022-05-23T16:53:23.765915",
     "exception": false,
     "start_time": "2022-05-23T16:53:23.739264",
     "status": "completed"
    },
    "tags": []
   },
   "source": [
    "# # #*Creating Models*"
   ]
  },
  {
   "cell_type": "code",
   "execution_count": 5,
   "id": "fd14a093",
   "metadata": {
    "execution": {
     "iopub.execute_input": "2022-05-23T16:53:23.820832Z",
     "iopub.status.busy": "2022-05-23T16:53:23.820552Z",
     "iopub.status.idle": "2022-05-23T16:53:23.873334Z",
     "shell.execute_reply": "2022-05-23T16:53:23.872731Z"
    },
    "papermill": {
     "duration": 0.082217,
     "end_time": "2022-05-23T16:53:23.875059",
     "exception": false,
     "start_time": "2022-05-23T16:53:23.792842",
     "status": "completed"
    },
    "tags": []
   },
   "outputs": [],
   "source": [
    "class BasicBlock(nn.Module):\n",
    "    expansion = 1\n",
    "\n",
    "    def __init__(self, in_planes, planes, stride=1):\n",
    "        super(BasicBlock, self).__init__()\n",
    "        self.conv1 = nn.Conv2d(\n",
    "            in_planes, planes, kernel_size=3, stride=stride, padding=1, bias=False)\n",
    "        self.bn1 = nn.BatchNorm2d(planes)\n",
    "        self.conv2 = nn.Conv2d(planes, planes, kernel_size=3,\n",
    "                               stride=1, padding=1, bias=False)\n",
    "        self.bn2 = nn.BatchNorm2d(planes)\n",
    "\n",
    "        self.shortcut = nn.Sequential()\n",
    "        if stride != 1 or in_planes != self.expansion * planes:\n",
    "            self.shortcut = nn.Sequential(\n",
    "                nn.Conv2d(in_planes, self.expansion * planes,\n",
    "                          kernel_size=1, stride=stride, bias=False),\n",
    "                nn.BatchNorm2d(self.expansion * planes)\n",
    "            )\n",
    "\n",
    "    def forward(self, x):\n",
    "        out = F.relu(x)\n",
    "        out = F.relu(self.bn1(self.conv1(x)))\n",
    "        out = self.bn2(self.conv2(out))\n",
    "        out += self.shortcut(x)\n",
    "        return out\n",
    "\n",
    "\n",
    "class Bottleneck(nn.Module):\n",
    "    expansion = 4\n",
    "\n",
    "    def __init__(self, in_planes, planes, stride=1):\n",
    "        super(Bottleneck, self).__init__()\n",
    "        self.conv1 = nn.Conv2d(in_planes, planes, kernel_size=1, bias=False)\n",
    "        self.bn1 = nn.BatchNorm2d(planes)\n",
    "        self.conv2 = nn.Conv2d(planes, planes, kernel_size=3,\n",
    "                               stride=stride, padding=1, bias=False)\n",
    "        self.bn2 = nn.BatchNorm2d(planes)\n",
    "        self.conv3 = nn.Conv2d(planes, self.expansion *\n",
    "                               planes, kernel_size=1, bias=False)\n",
    "        self.bn3 = nn.BatchNorm2d(self.expansion * planes)\n",
    "\n",
    "        self.shortcut = nn.Sequential()\n",
    "        if stride != 1 or in_planes != self.expansion * planes:\n",
    "            self.shortcut = nn.Sequential(\n",
    "                nn.Conv2d(in_planes, self.expansion * planes,\n",
    "                          kernel_size=1, stride=stride, bias=False),\n",
    "                nn.BatchNorm2d(self.expansion * planes)\n",
    "            )\n",
    "\n",
    "    def forward(self, x):\n",
    "        out = F.relu(x)\n",
    "        out = F.relu(self.bn1(self.conv1(x)))\n",
    "        out = F.relu(self.bn2(self.conv2(out)))\n",
    "        out = self.bn3(self.conv3(out))\n",
    "        out += self.shortcut(x)\n",
    "        return out\n",
    "\n",
    "\n",
    "class ResNet(nn.Module):\n",
    "    def __init__(self, block, num_blocks, num_classes=10):\n",
    "        super(ResNet, self).__init__()\n",
    "        self.in_planes = 64\n",
    "\n",
    "        self.conv1 = nn.Conv2d(3, 64, kernel_size=3,\n",
    "                               stride=1, padding=1, bias=False)\n",
    "        self.bn1 = nn.BatchNorm2d(64)\n",
    "        self.layer1 = self._make_layer(block, 64, num_blocks[0], stride=1)\n",
    "        self.layer2 = self._make_layer(block, 128, num_blocks[1], stride=2)\n",
    "        self.layer3 = self._make_layer(block, 256, num_blocks[2], stride=2)\n",
    "        self.layer4 = self._make_layer(block, 512, num_blocks[3], stride=2)\n",
    "        self.linear = nn.Linear(512 * block.expansion, num_classes)\n",
    "        self.n_channels = [64, 128, 256, 512]\n",
    "\n",
    "    def _make_layer(self, block, planes, num_blocks, stride):\n",
    "        strides = [stride] + [1] * (num_blocks - 1)\n",
    "        layers = []\n",
    "        for stride in strides:\n",
    "            layers.append(block(self.in_planes, planes, stride))\n",
    "            self.in_planes = planes * block.expansion\n",
    "        return nn.Sequential(*layers)\n",
    "\n",
    "    def forward(self, x, is_feat=False, use_relu=True):\n",
    "        out = self.conv1(x)\n",
    "        out = self.bn1(out)\n",
    "        if use_relu:\n",
    "            out = F.relu(out)\n",
    "        feat1 = self.layer1(out)\n",
    "        if use_relu:\n",
    "            feat1 = F.relu(feat1)\n",
    "        feat2 = self.layer2(feat1)\n",
    "        if use_relu:\n",
    "            feat2 = F.relu(feat2)\n",
    "        feat3 = self.layer3(feat2)\n",
    "        if use_relu:\n",
    "            feat3 = F.relu(feat3)\n",
    "\n",
    "        feat4 = self.layer4(feat3)\n",
    "        feat4 = F.relu(feat4)\n",
    "        pool = F.avg_pool2d(feat4, 4)\n",
    "        pool = pool.view(pool.size(0), -1)\n",
    "        out = self.linear(pool)\n",
    "\n",
    "        if is_feat:\n",
    "            return[feat1, feat2, feat3, feat4], pool, out\n",
    "\n",
    "        return out\n",
    "\n",
    "    def get_bn_before_relu(self):\n",
    "        if isinstance(self.layer1[0], Bottleneck):\n",
    "            bn1 = self.layer1[-1].bn3\n",
    "            bn2 = self.layer2[-1].bn3\n",
    "            bn3 = self.layer3[-1].bn3\n",
    "            bn4 = self.layer4[-1].bn3\n",
    "        elif isinstance(self.layer1[0], BasicBlock):\n",
    "            bn1 = self.layer1[-1].bn2\n",
    "            bn2 = self.layer2[-1].bn2\n",
    "            bn3 = self.layer3[-1].bn2\n",
    "            bn4 = self.layer4[-1].bn2\n",
    "        else:\n",
    "            print('ResNet unknown block error !!!')\n",
    "\n",
    "        return [bn1, bn2, bn3, bn4]\n",
    "\n",
    "    def get_channel_num(self):\n",
    "        return self.n_channels\n",
    "\n",
    "    def extract_feature(self, x, preReLU=False):\n",
    "\n",
    "        x = self.conv1(x)\n",
    "        x = self.bn1(x)\n",
    "\n",
    "        feat1 = self.layer1(x)\n",
    "        feat2 = self.layer2(feat1)\n",
    "        feat3 = self.layer3(feat2)\n",
    "        feat4 = self.layer4(feat3)\n",
    "\n",
    "        x = F.relu(feat4)\n",
    "        x = F.avg_pool2d(x, 4)\n",
    "        x = x.view(x.size(0), -1)\n",
    "        out = self.linear(x)\n",
    "\n",
    "        if not preReLU:\n",
    "            feat1 = F.relu(feat1)\n",
    "            feat2 = F.relu(feat2)\n",
    "            feat3 = F.relu(feat3)\n",
    "            feat4 = F.relu(feat4)\n",
    "\n",
    "        return [feat1, feat2, feat3, feat4], out\n",
    "\n",
    "\n",
    "class ResNetSmall(nn.Module):\n",
    "    def __init__(self, block, num_blocks, num_classes=10):\n",
    "        super(ResNetSmall, self).__init__()\n",
    "        self.in_planes = 64\n",
    "\n",
    "        self.conv1 = nn.Conv2d(3, 64, kernel_size=3,\n",
    "                               stride=1, padding=1, bias=False)\n",
    "        self.bn1 = nn.BatchNorm2d(64)\n",
    "        self.layer1 = self._make_layer(block, 16, num_blocks[0], stride=1)\n",
    "        self.layer2 = self._make_layer(block, 32, num_blocks[1], stride=2)\n",
    "        self.layer3 = self._make_layer(block, 64, num_blocks[2], stride=2)\n",
    "        self.linear = nn.Linear(256 * block.expansion, num_classes)\n",
    "        self.n_channels = [16, 32, 64]\n",
    "\n",
    "    def _make_layer(self, block, planes, num_blocks, stride):\n",
    "        strides = [stride] + [1] * (num_blocks - 1)\n",
    "        layers = []\n",
    "        for stride in strides:\n",
    "            layers.append(block(self.in_planes, planes, stride))\n",
    "            self.in_planes = planes * block.expansion\n",
    "        return nn.Sequential(*layers)\n",
    "\n",
    "    def forward(self, x, is_feat=False, use_relu=True):\n",
    "        out = self.conv1(x)\n",
    "        out = self.bn1(out)\n",
    "        if use_relu:\n",
    "            out = F.relu(out)\n",
    "        feat1 = self.layer1(out)\n",
    "        if use_relu:\n",
    "            feat1 = F.relu(feat1)\n",
    "        feat2 = self.layer2(feat1)\n",
    "        if use_relu:\n",
    "            feat2 = F.relu(feat2)\n",
    "        feat3 = self.layer3(feat2)\n",
    "\n",
    "        # the last relu is always included\n",
    "        feat3 = F.relu(feat3)\n",
    "        pool = F.avg_pool2d(feat3, 4)\n",
    "        pool = pool.view(pool.size(0), -1)\n",
    "        out = self.linear(pool)\n",
    "\n",
    "        if is_feat:\n",
    "            return[feat1, feat2, feat3], pool, out\n",
    "\n",
    "        return out\n",
    "\n",
    "    def get_bn_before_relu(self):\n",
    "        if isinstance(self.layer1[0], Bottleneck):\n",
    "            bn1 = self.layer1[-1].bn3\n",
    "            bn2 = self.layer2[-1].bn3\n",
    "            bn3 = self.layer3[-1].bn3\n",
    "        elif isinstance(self.layer1[0], BasicBlock):\n",
    "            bn1 = self.layer1[-1].bn2\n",
    "            bn2 = self.layer2[-1].bn2\n",
    "            bn3 = self.layer3[-1].bn2\n",
    "        else:\n",
    "            print('ResNet unknown block error !!!')\n",
    "\n",
    "        return [bn1, bn2, bn3]\n",
    "\n",
    "    def get_channel_num(self):\n",
    "        return self.n_channels\n",
    "\n",
    "    def extract_feature(self, x, preReLU=False):\n",
    "\n",
    "        x = self.conv1(x)\n",
    "        x = self.bn1(x)\n",
    "\n",
    "        feat1 = self.layer1(x)\n",
    "        feat2 = self.layer2(feat1)\n",
    "        feat3 = self.layer3(feat2)\n",
    "\n",
    "        x = F.relu(feat3)\n",
    "        x = F.avg_pool2d(x, 4)\n",
    "        x = x.view(x.size(0), -1)\n",
    "        out = self.linear(x)\n",
    "\n",
    "        if not preReLU:\n",
    "            feat1 = F.relu(feat1)\n",
    "            feat2 = F.relu(feat2)\n",
    "            feat3 = F.relu(feat3)\n",
    "\n",
    "        return [feat1, feat2, feat3], out\n",
    "\n",
    "\n",
    "def resnet8(**kwargs):\n",
    "    return ResNetSmall(BasicBlock, [1, 1, 1], **kwargs)\n",
    "\n",
    "\n",
    "def resnet14(**kwargs):\n",
    "    return ResNetSmall(BasicBlock, [2, 2, 2], **kwargs)\n",
    "\n",
    "\n",
    "def resnet20(**kwargs):\n",
    "    return ResNetSmall(BasicBlock, [3, 3, 3], **kwargs)\n",
    "\n",
    "\n",
    "def resnet26(**kwargs):\n",
    "    return ResNetSmall(BasicBlock, [4, 4, 4], **kwargs)\n",
    "\n",
    "\n",
    "def resnet32(**kwargs):\n",
    "    return ResNetSmall(BasicBlock, [5, 5, 5], **kwargs)\n",
    "\n",
    "\n",
    "def resnet44(**kwargs):\n",
    "    return ResNetSmall(BasicBlock, [7, 7, 7], **kwargs)\n",
    "\n",
    "\n",
    "def resnet56(**kwargs):\n",
    "    return ResNetSmall(BasicBlock, [9, 9, 9], **kwargs)\n",
    "\n",
    "\n",
    "def resnet10(**kwargs):\n",
    "    return ResNet(BasicBlock, [1, 1, 1, 1], **kwargs)\n",
    "\n",
    "\n",
    "def resnet18(**kwargs):\n",
    "    return ResNet(BasicBlock, [2, 2, 2, 2], **kwargs)\n",
    "\n",
    "\n",
    "def resnet34(**kwargs):\n",
    "    return ResNet(BasicBlock, [3, 4, 6, 3], **kwargs)\n",
    "\n",
    "\n",
    "def resnet50(**kwargs):\n",
    "    return ResNet(Bottleneck, [3, 4, 6, 3], **kwargs)\n",
    "\n",
    "\n",
    "def resnet101(**kwargs):\n",
    "    return ResNet(Bottleneck, [3, 4, 23, 3], **kwargs)\n",
    "\n",
    "\n",
    "def resnet152(**kwargs):\n",
    "    return ResNet(Bottleneck, [3, 8, 36, 3], **kwargs)\n",
    "\n",
    "\n",
    "def test():\n",
    "    net = resnet18()\n",
    "    y = net(torch.randn(1, 3, 32, 32))\n",
    "    print(y.size())"
   ]
  },
  {
   "cell_type": "code",
   "execution_count": 6,
   "id": "dbaacff0",
   "metadata": {
    "execution": {
     "iopub.execute_input": "2022-05-23T16:53:23.929583Z",
     "iopub.status.busy": "2022-05-23T16:53:23.929304Z",
     "iopub.status.idle": "2022-05-23T16:53:23.934757Z",
     "shell.execute_reply": "2022-05-23T16:53:23.934027Z"
    },
    "papermill": {
     "duration": 0.034462,
     "end_time": "2022-05-23T16:53:23.936305",
     "exception": false,
     "start_time": "2022-05-23T16:53:23.901843",
     "status": "completed"
    },
    "tags": []
   },
   "outputs": [],
   "source": [
    "def load_checkpoint(model, checkpoint_path,device ):\n",
    "    device = torch.device(device)\n",
    "    model_ckp = torch.load(checkpoint_path, map_location=device)\n",
    "\n",
    "    # handle both dataparallel and normal models\n",
    "    model_tmp_dict = OrderedDict()\n",
    "    for name, value in model_ckp[\"model_state_dict\"].items():\n",
    "        if name.startswith(\"module.\"):\n",
    "            name = name[7:]\n",
    "        model_tmp_dict[name] = value\n",
    "\n",
    "    if isinstance(model, torch.nn.DataParallel):\n",
    "        model.module.load_state_dict(model_tmp_dict)\n",
    "    else:\n",
    "        model.load_state_dict(model_tmp_dict)\n",
    "    return model"
   ]
  },
  {
   "cell_type": "code",
   "execution_count": 7,
   "id": "111b7b91",
   "metadata": {
    "execution": {
     "iopub.execute_input": "2022-05-23T16:53:24.012772Z",
     "iopub.status.busy": "2022-05-23T16:53:24.012168Z",
     "iopub.status.idle": "2022-05-23T16:53:27.781798Z",
     "shell.execute_reply": "2022-05-23T16:53:27.781139Z"
    },
    "papermill": {
     "duration": 3.820394,
     "end_time": "2022-05-23T16:53:27.783650",
     "exception": false,
     "start_time": "2022-05-23T16:53:23.963256",
     "status": "completed"
    },
    "tags": []
   },
   "outputs": [
    {
     "data": {
      "text/plain": [
       "<All keys matched successfully>"
      ]
     },
     "execution_count": 7,
     "metadata": {},
     "output_type": "execute_result"
    }
   ],
   "source": [
    "teacher_model=resnet18()\n",
    "PATH=\"../input/model-weights/best_model (1).pt\"\n",
    "teacher_model.load_state_dict(torch.load(PATH))"
   ]
  },
  {
   "cell_type": "code",
   "execution_count": 8,
   "id": "7ea6f988",
   "metadata": {
    "execution": {
     "iopub.execute_input": "2022-05-23T16:53:27.840292Z",
     "iopub.status.busy": "2022-05-23T16:53:27.840058Z",
     "iopub.status.idle": "2022-05-23T16:53:27.846261Z",
     "shell.execute_reply": "2022-05-23T16:53:27.845608Z"
    },
    "papermill": {
     "duration": 0.036389,
     "end_time": "2022-05-23T16:53:27.848136",
     "exception": false,
     "start_time": "2022-05-23T16:53:27.811747",
     "status": "completed"
    },
    "tags": []
   },
   "outputs": [
    {
     "data": {
      "text/plain": [
       "ResNet(\n",
       "  (conv1): Conv2d(3, 64, kernel_size=(3, 3), stride=(1, 1), padding=(1, 1), bias=False)\n",
       "  (bn1): BatchNorm2d(64, eps=1e-05, momentum=0.1, affine=True, track_running_stats=True)\n",
       "  (layer1): Sequential(\n",
       "    (0): BasicBlock(\n",
       "      (conv1): Conv2d(64, 64, kernel_size=(3, 3), stride=(1, 1), padding=(1, 1), bias=False)\n",
       "      (bn1): BatchNorm2d(64, eps=1e-05, momentum=0.1, affine=True, track_running_stats=True)\n",
       "      (conv2): Conv2d(64, 64, kernel_size=(3, 3), stride=(1, 1), padding=(1, 1), bias=False)\n",
       "      (bn2): BatchNorm2d(64, eps=1e-05, momentum=0.1, affine=True, track_running_stats=True)\n",
       "      (shortcut): Sequential()\n",
       "    )\n",
       "    (1): BasicBlock(\n",
       "      (conv1): Conv2d(64, 64, kernel_size=(3, 3), stride=(1, 1), padding=(1, 1), bias=False)\n",
       "      (bn1): BatchNorm2d(64, eps=1e-05, momentum=0.1, affine=True, track_running_stats=True)\n",
       "      (conv2): Conv2d(64, 64, kernel_size=(3, 3), stride=(1, 1), padding=(1, 1), bias=False)\n",
       "      (bn2): BatchNorm2d(64, eps=1e-05, momentum=0.1, affine=True, track_running_stats=True)\n",
       "      (shortcut): Sequential()\n",
       "    )\n",
       "  )\n",
       "  (layer2): Sequential(\n",
       "    (0): BasicBlock(\n",
       "      (conv1): Conv2d(64, 128, kernel_size=(3, 3), stride=(2, 2), padding=(1, 1), bias=False)\n",
       "      (bn1): BatchNorm2d(128, eps=1e-05, momentum=0.1, affine=True, track_running_stats=True)\n",
       "      (conv2): Conv2d(128, 128, kernel_size=(3, 3), stride=(1, 1), padding=(1, 1), bias=False)\n",
       "      (bn2): BatchNorm2d(128, eps=1e-05, momentum=0.1, affine=True, track_running_stats=True)\n",
       "      (shortcut): Sequential(\n",
       "        (0): Conv2d(64, 128, kernel_size=(1, 1), stride=(2, 2), bias=False)\n",
       "        (1): BatchNorm2d(128, eps=1e-05, momentum=0.1, affine=True, track_running_stats=True)\n",
       "      )\n",
       "    )\n",
       "    (1): BasicBlock(\n",
       "      (conv1): Conv2d(128, 128, kernel_size=(3, 3), stride=(1, 1), padding=(1, 1), bias=False)\n",
       "      (bn1): BatchNorm2d(128, eps=1e-05, momentum=0.1, affine=True, track_running_stats=True)\n",
       "      (conv2): Conv2d(128, 128, kernel_size=(3, 3), stride=(1, 1), padding=(1, 1), bias=False)\n",
       "      (bn2): BatchNorm2d(128, eps=1e-05, momentum=0.1, affine=True, track_running_stats=True)\n",
       "      (shortcut): Sequential()\n",
       "    )\n",
       "  )\n",
       "  (layer3): Sequential(\n",
       "    (0): BasicBlock(\n",
       "      (conv1): Conv2d(128, 256, kernel_size=(3, 3), stride=(2, 2), padding=(1, 1), bias=False)\n",
       "      (bn1): BatchNorm2d(256, eps=1e-05, momentum=0.1, affine=True, track_running_stats=True)\n",
       "      (conv2): Conv2d(256, 256, kernel_size=(3, 3), stride=(1, 1), padding=(1, 1), bias=False)\n",
       "      (bn2): BatchNorm2d(256, eps=1e-05, momentum=0.1, affine=True, track_running_stats=True)\n",
       "      (shortcut): Sequential(\n",
       "        (0): Conv2d(128, 256, kernel_size=(1, 1), stride=(2, 2), bias=False)\n",
       "        (1): BatchNorm2d(256, eps=1e-05, momentum=0.1, affine=True, track_running_stats=True)\n",
       "      )\n",
       "    )\n",
       "    (1): BasicBlock(\n",
       "      (conv1): Conv2d(256, 256, kernel_size=(3, 3), stride=(1, 1), padding=(1, 1), bias=False)\n",
       "      (bn1): BatchNorm2d(256, eps=1e-05, momentum=0.1, affine=True, track_running_stats=True)\n",
       "      (conv2): Conv2d(256, 256, kernel_size=(3, 3), stride=(1, 1), padding=(1, 1), bias=False)\n",
       "      (bn2): BatchNorm2d(256, eps=1e-05, momentum=0.1, affine=True, track_running_stats=True)\n",
       "      (shortcut): Sequential()\n",
       "    )\n",
       "  )\n",
       "  (layer4): Sequential(\n",
       "    (0): BasicBlock(\n",
       "      (conv1): Conv2d(256, 512, kernel_size=(3, 3), stride=(2, 2), padding=(1, 1), bias=False)\n",
       "      (bn1): BatchNorm2d(512, eps=1e-05, momentum=0.1, affine=True, track_running_stats=True)\n",
       "      (conv2): Conv2d(512, 512, kernel_size=(3, 3), stride=(1, 1), padding=(1, 1), bias=False)\n",
       "      (bn2): BatchNorm2d(512, eps=1e-05, momentum=0.1, affine=True, track_running_stats=True)\n",
       "      (shortcut): Sequential(\n",
       "        (0): Conv2d(256, 512, kernel_size=(1, 1), stride=(2, 2), bias=False)\n",
       "        (1): BatchNorm2d(512, eps=1e-05, momentum=0.1, affine=True, track_running_stats=True)\n",
       "      )\n",
       "    )\n",
       "    (1): BasicBlock(\n",
       "      (conv1): Conv2d(512, 512, kernel_size=(3, 3), stride=(1, 1), padding=(1, 1), bias=False)\n",
       "      (bn1): BatchNorm2d(512, eps=1e-05, momentum=0.1, affine=True, track_running_stats=True)\n",
       "      (conv2): Conv2d(512, 512, kernel_size=(3, 3), stride=(1, 1), padding=(1, 1), bias=False)\n",
       "      (bn2): BatchNorm2d(512, eps=1e-05, momentum=0.1, affine=True, track_running_stats=True)\n",
       "      (shortcut): Sequential()\n",
       "    )\n",
       "  )\n",
       "  (linear): Linear(in_features=512, out_features=10, bias=True)\n",
       ")"
      ]
     },
     "execution_count": 8,
     "metadata": {},
     "output_type": "execute_result"
    }
   ],
   "source": [
    "teacher_model.eval()"
   ]
  },
  {
   "cell_type": "code",
   "execution_count": 9,
   "id": "2dafe112",
   "metadata": {
    "execution": {
     "iopub.execute_input": "2022-05-23T16:53:27.904388Z",
     "iopub.status.busy": "2022-05-23T16:53:27.904168Z",
     "iopub.status.idle": "2022-05-23T16:53:27.925920Z",
     "shell.execute_reply": "2022-05-23T16:53:27.925152Z"
    },
    "papermill": {
     "duration": 0.051831,
     "end_time": "2022-05-23T16:53:27.927694",
     "exception": false,
     "start_time": "2022-05-23T16:53:27.875863",
     "status": "completed"
    },
    "tags": []
   },
   "outputs": [
    {
     "data": {
      "text/plain": [
       "ResNet(\n",
       "  (conv1): Conv2d(3, 64, kernel_size=(3, 3), stride=(1, 1), padding=(1, 1), bias=False)\n",
       "  (bn1): BatchNorm2d(64, eps=1e-05, momentum=0.1, affine=True, track_running_stats=True)\n",
       "  (layer1): Sequential(\n",
       "    (0): BasicBlock(\n",
       "      (conv1): Conv2d(64, 64, kernel_size=(3, 3), stride=(1, 1), padding=(1, 1), bias=False)\n",
       "      (bn1): BatchNorm2d(64, eps=1e-05, momentum=0.1, affine=True, track_running_stats=True)\n",
       "      (conv2): Conv2d(64, 64, kernel_size=(3, 3), stride=(1, 1), padding=(1, 1), bias=False)\n",
       "      (bn2): BatchNorm2d(64, eps=1e-05, momentum=0.1, affine=True, track_running_stats=True)\n",
       "      (shortcut): Sequential()\n",
       "    )\n",
       "    (1): BasicBlock(\n",
       "      (conv1): Conv2d(64, 64, kernel_size=(3, 3), stride=(1, 1), padding=(1, 1), bias=False)\n",
       "      (bn1): BatchNorm2d(64, eps=1e-05, momentum=0.1, affine=True, track_running_stats=True)\n",
       "      (conv2): Conv2d(64, 64, kernel_size=(3, 3), stride=(1, 1), padding=(1, 1), bias=False)\n",
       "      (bn2): BatchNorm2d(64, eps=1e-05, momentum=0.1, affine=True, track_running_stats=True)\n",
       "      (shortcut): Sequential()\n",
       "    )\n",
       "  )\n",
       "  (layer2): Sequential(\n",
       "    (0): BasicBlock(\n",
       "      (conv1): Conv2d(64, 128, kernel_size=(3, 3), stride=(2, 2), padding=(1, 1), bias=False)\n",
       "      (bn1): BatchNorm2d(128, eps=1e-05, momentum=0.1, affine=True, track_running_stats=True)\n",
       "      (conv2): Conv2d(128, 128, kernel_size=(3, 3), stride=(1, 1), padding=(1, 1), bias=False)\n",
       "      (bn2): BatchNorm2d(128, eps=1e-05, momentum=0.1, affine=True, track_running_stats=True)\n",
       "      (shortcut): Sequential(\n",
       "        (0): Conv2d(64, 128, kernel_size=(1, 1), stride=(2, 2), bias=False)\n",
       "        (1): BatchNorm2d(128, eps=1e-05, momentum=0.1, affine=True, track_running_stats=True)\n",
       "      )\n",
       "    )\n",
       "    (1): BasicBlock(\n",
       "      (conv1): Conv2d(128, 128, kernel_size=(3, 3), stride=(1, 1), padding=(1, 1), bias=False)\n",
       "      (bn1): BatchNorm2d(128, eps=1e-05, momentum=0.1, affine=True, track_running_stats=True)\n",
       "      (conv2): Conv2d(128, 128, kernel_size=(3, 3), stride=(1, 1), padding=(1, 1), bias=False)\n",
       "      (bn2): BatchNorm2d(128, eps=1e-05, momentum=0.1, affine=True, track_running_stats=True)\n",
       "      (shortcut): Sequential()\n",
       "    )\n",
       "  )\n",
       "  (layer3): Sequential(\n",
       "    (0): BasicBlock(\n",
       "      (conv1): Conv2d(128, 256, kernel_size=(3, 3), stride=(2, 2), padding=(1, 1), bias=False)\n",
       "      (bn1): BatchNorm2d(256, eps=1e-05, momentum=0.1, affine=True, track_running_stats=True)\n",
       "      (conv2): Conv2d(256, 256, kernel_size=(3, 3), stride=(1, 1), padding=(1, 1), bias=False)\n",
       "      (bn2): BatchNorm2d(256, eps=1e-05, momentum=0.1, affine=True, track_running_stats=True)\n",
       "      (shortcut): Sequential(\n",
       "        (0): Conv2d(128, 256, kernel_size=(1, 1), stride=(2, 2), bias=False)\n",
       "        (1): BatchNorm2d(256, eps=1e-05, momentum=0.1, affine=True, track_running_stats=True)\n",
       "      )\n",
       "    )\n",
       "    (1): BasicBlock(\n",
       "      (conv1): Conv2d(256, 256, kernel_size=(3, 3), stride=(1, 1), padding=(1, 1), bias=False)\n",
       "      (bn1): BatchNorm2d(256, eps=1e-05, momentum=0.1, affine=True, track_running_stats=True)\n",
       "      (conv2): Conv2d(256, 256, kernel_size=(3, 3), stride=(1, 1), padding=(1, 1), bias=False)\n",
       "      (bn2): BatchNorm2d(256, eps=1e-05, momentum=0.1, affine=True, track_running_stats=True)\n",
       "      (shortcut): Sequential()\n",
       "    )\n",
       "  )\n",
       "  (layer4): Sequential(\n",
       "    (0): BasicBlock(\n",
       "      (conv1): Conv2d(256, 512, kernel_size=(3, 3), stride=(2, 2), padding=(1, 1), bias=False)\n",
       "      (bn1): BatchNorm2d(512, eps=1e-05, momentum=0.1, affine=True, track_running_stats=True)\n",
       "      (conv2): Conv2d(512, 512, kernel_size=(3, 3), stride=(1, 1), padding=(1, 1), bias=False)\n",
       "      (bn2): BatchNorm2d(512, eps=1e-05, momentum=0.1, affine=True, track_running_stats=True)\n",
       "      (shortcut): Sequential(\n",
       "        (0): Conv2d(256, 512, kernel_size=(1, 1), stride=(2, 2), bias=False)\n",
       "        (1): BatchNorm2d(512, eps=1e-05, momentum=0.1, affine=True, track_running_stats=True)\n",
       "      )\n",
       "    )\n",
       "    (1): BasicBlock(\n",
       "      (conv1): Conv2d(512, 512, kernel_size=(3, 3), stride=(1, 1), padding=(1, 1), bias=False)\n",
       "      (bn1): BatchNorm2d(512, eps=1e-05, momentum=0.1, affine=True, track_running_stats=True)\n",
       "      (conv2): Conv2d(512, 512, kernel_size=(3, 3), stride=(1, 1), padding=(1, 1), bias=False)\n",
       "      (bn2): BatchNorm2d(512, eps=1e-05, momentum=0.1, affine=True, track_running_stats=True)\n",
       "      (shortcut): Sequential()\n",
       "    )\n",
       "  )\n",
       "  (linear): Linear(in_features=512, out_features=10, bias=True)\n",
       ")"
      ]
     },
     "execution_count": 9,
     "metadata": {},
     "output_type": "execute_result"
    }
   ],
   "source": [
    "teacher_model.to(DEVICE)"
   ]
  },
  {
   "cell_type": "code",
   "execution_count": 10,
   "id": "19dc0801",
   "metadata": {
    "execution": {
     "iopub.execute_input": "2022-05-23T16:53:27.984643Z",
     "iopub.status.busy": "2022-05-23T16:53:27.984454Z",
     "iopub.status.idle": "2022-05-23T16:53:27.987698Z",
     "shell.execute_reply": "2022-05-23T16:53:27.986933Z"
    },
    "papermill": {
     "duration": 0.034065,
     "end_time": "2022-05-23T16:53:27.989548",
     "exception": false,
     "start_time": "2022-05-23T16:53:27.955483",
     "status": "completed"
    },
    "tags": []
   },
   "outputs": [],
   "source": [
    "#avg_val_loss, score = valid_fn(test_loader, teacher_model, criterion, DEVICE)"
   ]
  },
  {
   "cell_type": "code",
   "execution_count": 11,
   "id": "4c1272ef",
   "metadata": {
    "execution": {
     "iopub.execute_input": "2022-05-23T16:53:28.046708Z",
     "iopub.status.busy": "2022-05-23T16:53:28.046525Z",
     "iopub.status.idle": "2022-05-23T16:53:28.049556Z",
     "shell.execute_reply": "2022-05-23T16:53:28.048897Z"
    },
    "papermill": {
     "duration": 0.033529,
     "end_time": "2022-05-23T16:53:28.051156",
     "exception": false,
     "start_time": "2022-05-23T16:53:28.017627",
     "status": "completed"
    },
    "tags": []
   },
   "outputs": [],
   "source": [
    "#score"
   ]
  },
  {
   "cell_type": "code",
   "execution_count": 12,
   "id": "7d834650",
   "metadata": {
    "execution": {
     "iopub.execute_input": "2022-05-23T16:53:28.108077Z",
     "iopub.status.busy": "2022-05-23T16:53:28.107900Z",
     "iopub.status.idle": "2022-05-23T16:53:28.110992Z",
     "shell.execute_reply": "2022-05-23T16:53:28.110248Z"
    },
    "papermill": {
     "duration": 0.033922,
     "end_time": "2022-05-23T16:53:28.112798",
     "exception": false,
     "start_time": "2022-05-23T16:53:28.078876",
     "status": "completed"
    },
    "tags": []
   },
   "outputs": [],
   "source": [
    "#for param in teacher_model.parameters():\n",
    "       # param.requires_grad=False"
   ]
  },
  {
   "cell_type": "code",
   "execution_count": 13,
   "id": "5d244405",
   "metadata": {
    "execution": {
     "iopub.execute_input": "2022-05-23T16:53:28.169664Z",
     "iopub.status.busy": "2022-05-23T16:53:28.169485Z",
     "iopub.status.idle": "2022-05-23T16:53:28.173312Z",
     "shell.execute_reply": "2022-05-23T16:53:28.172702Z"
    },
    "papermill": {
     "duration": 0.034184,
     "end_time": "2022-05-23T16:53:28.174940",
     "exception": false,
     "start_time": "2022-05-23T16:53:28.140756",
     "status": "completed"
    },
    "tags": []
   },
   "outputs": [],
   "source": [
    "#for param in teacher_model.linear.parameters():\n",
    "    #param.requires_grad = True"
   ]
  },
  {
   "cell_type": "code",
   "execution_count": 14,
   "id": "102e6ccd",
   "metadata": {
    "execution": {
     "iopub.execute_input": "2022-05-23T16:53:28.232255Z",
     "iopub.status.busy": "2022-05-23T16:53:28.232062Z",
     "iopub.status.idle": "2022-05-23T16:53:28.235082Z",
     "shell.execute_reply": "2022-05-23T16:53:28.234322Z"
    },
    "papermill": {
     "duration": 0.03388,
     "end_time": "2022-05-23T16:53:28.236934",
     "exception": false,
     "start_time": "2022-05-23T16:53:28.203054",
     "status": "completed"
    },
    "tags": []
   },
   "outputs": [],
   "source": [
    "#import torchvision.models as models\n",
    "#resnet18 = models.resnet18(pretrained=True)"
   ]
  },
  {
   "cell_type": "code",
   "execution_count": 15,
   "id": "cbfc30e4",
   "metadata": {
    "execution": {
     "iopub.execute_input": "2022-05-23T16:53:28.294544Z",
     "iopub.status.busy": "2022-05-23T16:53:28.294344Z",
     "iopub.status.idle": "2022-05-23T16:53:28.297093Z",
     "shell.execute_reply": "2022-05-23T16:53:28.296471Z"
    },
    "papermill": {
     "duration": 0.033743,
     "end_time": "2022-05-23T16:53:28.298793",
     "exception": false,
     "start_time": "2022-05-23T16:53:28.265050",
     "status": "completed"
    },
    "tags": []
   },
   "outputs": [],
   "source": [
    "#teacher_model=resnet18"
   ]
  },
  {
   "cell_type": "code",
   "execution_count": 16,
   "id": "2ae4494c",
   "metadata": {
    "execution": {
     "iopub.execute_input": "2022-05-23T16:53:28.356325Z",
     "iopub.status.busy": "2022-05-23T16:53:28.356121Z",
     "iopub.status.idle": "2022-05-23T16:53:28.359946Z",
     "shell.execute_reply": "2022-05-23T16:53:28.359374Z"
    },
    "papermill": {
     "duration": 0.034655,
     "end_time": "2022-05-23T16:53:28.361589",
     "exception": false,
     "start_time": "2022-05-23T16:53:28.326934",
     "status": "completed"
    },
    "tags": []
   },
   "outputs": [],
   "source": [
    "#teacher_model.fc"
   ]
  },
  {
   "cell_type": "code",
   "execution_count": 17,
   "id": "4ba31a0a",
   "metadata": {
    "execution": {
     "iopub.execute_input": "2022-05-23T16:53:28.420225Z",
     "iopub.status.busy": "2022-05-23T16:53:28.420031Z",
     "iopub.status.idle": "2022-05-23T16:53:28.422983Z",
     "shell.execute_reply": "2022-05-23T16:53:28.422252Z"
    },
    "papermill": {
     "duration": 0.034074,
     "end_time": "2022-05-23T16:53:28.424837",
     "exception": false,
     "start_time": "2022-05-23T16:53:28.390763",
     "status": "completed"
    },
    "tags": []
   },
   "outputs": [],
   "source": [
    "#for param in teacher_model.parameters():\n",
    "   # param.requires_grad = False"
   ]
  },
  {
   "cell_type": "code",
   "execution_count": 18,
   "id": "7cb9a966",
   "metadata": {
    "execution": {
     "iopub.execute_input": "2022-05-23T16:53:28.483402Z",
     "iopub.status.busy": "2022-05-23T16:53:28.483207Z",
     "iopub.status.idle": "2022-05-23T16:53:28.486206Z",
     "shell.execute_reply": "2022-05-23T16:53:28.485552Z"
    },
    "papermill": {
     "duration": 0.034306,
     "end_time": "2022-05-23T16:53:28.487828",
     "exception": false,
     "start_time": "2022-05-23T16:53:28.453522",
     "status": "completed"
    },
    "tags": []
   },
   "outputs": [],
   "source": [
    "#teacher_model.fc= nn.Linear(512,10)"
   ]
  },
  {
   "cell_type": "code",
   "execution_count": 19,
   "id": "3e2f26dc",
   "metadata": {
    "execution": {
     "iopub.execute_input": "2022-05-23T16:53:28.546843Z",
     "iopub.status.busy": "2022-05-23T16:53:28.546281Z",
     "iopub.status.idle": "2022-05-23T16:53:28.554452Z",
     "shell.execute_reply": "2022-05-23T16:53:28.553852Z"
    },
    "papermill": {
     "duration": 0.039998,
     "end_time": "2022-05-23T16:53:28.556423",
     "exception": false,
     "start_time": "2022-05-23T16:53:28.516425",
     "status": "completed"
    },
    "tags": []
   },
   "outputs": [],
   "source": [
    "student_model=resnet8()"
   ]
  },
  {
   "cell_type": "code",
   "execution_count": 20,
   "id": "3cd51db1",
   "metadata": {
    "execution": {
     "iopub.execute_input": "2022-05-23T16:53:28.616139Z",
     "iopub.status.busy": "2022-05-23T16:53:28.615662Z",
     "iopub.status.idle": "2022-05-23T16:53:28.623121Z",
     "shell.execute_reply": "2022-05-23T16:53:28.622464Z"
    },
    "papermill": {
     "duration": 0.039395,
     "end_time": "2022-05-23T16:53:28.624904",
     "exception": false,
     "start_time": "2022-05-23T16:53:28.585509",
     "status": "completed"
    },
    "tags": []
   },
   "outputs": [
    {
     "name": "stdout",
     "output_type": "stream",
     "text": [
      "Adjusting learning rate of group 0 to 1.0000e-01.\n"
     ]
    }
   ],
   "source": [
    "learning_rate=0.1\n",
    "num_epochs=200\n",
    "optimizer_student =torch.optim.SGD(student_model.parameters(), lr=1e-1, momentum=0.9, weight_decay=0.0005, nesterov=True)\n",
    "scheduler_student = torch.optim.lr_scheduler.MultiStepLR(optimizer_student, milestones=[66,132], gamma=0.1,verbose=True)"
   ]
  },
  {
   "cell_type": "code",
   "execution_count": 21,
   "id": "051bcc2d",
   "metadata": {
    "execution": {
     "iopub.execute_input": "2022-05-23T16:53:28.685374Z",
     "iopub.status.busy": "2022-05-23T16:53:28.685117Z",
     "iopub.status.idle": "2022-05-23T16:53:28.689428Z",
     "shell.execute_reply": "2022-05-23T16:53:28.688725Z"
    },
    "papermill": {
     "duration": 0.036625,
     "end_time": "2022-05-23T16:53:28.691066",
     "exception": false,
     "start_time": "2022-05-23T16:53:28.654441",
     "status": "completed"
    },
    "tags": []
   },
   "outputs": [],
   "source": [
    "def freeze_teacher(t_net):\n",
    "    # freeze the layers of the teacher\n",
    "    for param in t_net.parameters():\n",
    "        param.requires_grad = False\n",
    "    # set the teacher net into evaluation mode\n",
    "    t_net.eval()\n",
    "    return t_net"
   ]
  },
  {
   "cell_type": "code",
   "execution_count": 22,
   "id": "1abe1e26",
   "metadata": {
    "execution": {
     "iopub.execute_input": "2022-05-23T16:53:28.751836Z",
     "iopub.status.busy": "2022-05-23T16:53:28.751145Z",
     "iopub.status.idle": "2022-05-23T16:53:28.759304Z",
     "shell.execute_reply": "2022-05-23T16:53:28.758555Z"
    },
    "papermill": {
     "duration": 0.040352,
     "end_time": "2022-05-23T16:53:28.761009",
     "exception": false,
     "start_time": "2022-05-23T16:53:28.720657",
     "status": "completed"
    },
    "tags": []
   },
   "outputs": [
    {
     "data": {
      "text/plain": [
       "ResNetSmall(\n",
       "  (conv1): Conv2d(3, 64, kernel_size=(3, 3), stride=(1, 1), padding=(1, 1), bias=False)\n",
       "  (bn1): BatchNorm2d(64, eps=1e-05, momentum=0.1, affine=True, track_running_stats=True)\n",
       "  (layer1): Sequential(\n",
       "    (0): BasicBlock(\n",
       "      (conv1): Conv2d(64, 16, kernel_size=(3, 3), stride=(1, 1), padding=(1, 1), bias=False)\n",
       "      (bn1): BatchNorm2d(16, eps=1e-05, momentum=0.1, affine=True, track_running_stats=True)\n",
       "      (conv2): Conv2d(16, 16, kernel_size=(3, 3), stride=(1, 1), padding=(1, 1), bias=False)\n",
       "      (bn2): BatchNorm2d(16, eps=1e-05, momentum=0.1, affine=True, track_running_stats=True)\n",
       "      (shortcut): Sequential(\n",
       "        (0): Conv2d(64, 16, kernel_size=(1, 1), stride=(1, 1), bias=False)\n",
       "        (1): BatchNorm2d(16, eps=1e-05, momentum=0.1, affine=True, track_running_stats=True)\n",
       "      )\n",
       "    )\n",
       "  )\n",
       "  (layer2): Sequential(\n",
       "    (0): BasicBlock(\n",
       "      (conv1): Conv2d(16, 32, kernel_size=(3, 3), stride=(2, 2), padding=(1, 1), bias=False)\n",
       "      (bn1): BatchNorm2d(32, eps=1e-05, momentum=0.1, affine=True, track_running_stats=True)\n",
       "      (conv2): Conv2d(32, 32, kernel_size=(3, 3), stride=(1, 1), padding=(1, 1), bias=False)\n",
       "      (bn2): BatchNorm2d(32, eps=1e-05, momentum=0.1, affine=True, track_running_stats=True)\n",
       "      (shortcut): Sequential(\n",
       "        (0): Conv2d(16, 32, kernel_size=(1, 1), stride=(2, 2), bias=False)\n",
       "        (1): BatchNorm2d(32, eps=1e-05, momentum=0.1, affine=True, track_running_stats=True)\n",
       "      )\n",
       "    )\n",
       "  )\n",
       "  (layer3): Sequential(\n",
       "    (0): BasicBlock(\n",
       "      (conv1): Conv2d(32, 64, kernel_size=(3, 3), stride=(2, 2), padding=(1, 1), bias=False)\n",
       "      (bn1): BatchNorm2d(64, eps=1e-05, momentum=0.1, affine=True, track_running_stats=True)\n",
       "      (conv2): Conv2d(64, 64, kernel_size=(3, 3), stride=(1, 1), padding=(1, 1), bias=False)\n",
       "      (bn2): BatchNorm2d(64, eps=1e-05, momentum=0.1, affine=True, track_running_stats=True)\n",
       "      (shortcut): Sequential(\n",
       "        (0): Conv2d(32, 64, kernel_size=(1, 1), stride=(2, 2), bias=False)\n",
       "        (1): BatchNorm2d(64, eps=1e-05, momentum=0.1, affine=True, track_running_stats=True)\n",
       "      )\n",
       "    )\n",
       "  )\n",
       "  (linear): Linear(in_features=256, out_features=10, bias=True)\n",
       ")"
      ]
     },
     "execution_count": 22,
     "metadata": {},
     "output_type": "execute_result"
    }
   ],
   "source": [
    "student_model.to(DEVICE)"
   ]
  },
  {
   "cell_type": "code",
   "execution_count": 23,
   "id": "2f5119e1",
   "metadata": {
    "execution": {
     "iopub.execute_input": "2022-05-23T16:53:28.822458Z",
     "iopub.status.busy": "2022-05-23T16:53:28.821847Z",
     "iopub.status.idle": "2022-05-23T16:53:28.825529Z",
     "shell.execute_reply": "2022-05-23T16:53:28.824861Z"
    },
    "papermill": {
     "duration": 0.036221,
     "end_time": "2022-05-23T16:53:28.827146",
     "exception": false,
     "start_time": "2022-05-23T16:53:28.790925",
     "status": "completed"
    },
    "tags": []
   },
   "outputs": [],
   "source": [
    "#avg_val_loss, score = valid_fn(test_loader, student_model, criterion, DEVICE)\n",
    "#score"
   ]
  },
  {
   "cell_type": "code",
   "execution_count": 24,
   "id": "38d12273",
   "metadata": {
    "execution": {
     "iopub.execute_input": "2022-05-23T16:53:28.888221Z",
     "iopub.status.busy": "2022-05-23T16:53:28.887505Z",
     "iopub.status.idle": "2022-05-23T16:53:28.893042Z",
     "shell.execute_reply": "2022-05-23T16:53:28.892436Z"
    },
    "papermill": {
     "duration": 0.038232,
     "end_time": "2022-05-23T16:53:28.894902",
     "exception": false,
     "start_time": "2022-05-23T16:53:28.856670",
     "status": "completed"
    },
    "tags": []
   },
   "outputs": [],
   "source": [
    "def init_progress_bar(train_loader):\n",
    "    batch_size = train_loader.batch_size\n",
    "    bar_format = \"{desc}{percentage:3.0f}%\"\n",
    "    # bar_format += \"|{bar}|\"\n",
    "    bar_format += \" {n_fmt}/{total_fmt} [{elapsed} < {remaining}]\"\n",
    "    bar_format += \"{postfix}\"\n",
    "    # if stderr has no tty disable the progress bar\n",
    "    disable = not sys.stderr.isatty()\n",
    "    t = tqdm(total=len(train_loader) * batch_size,\n",
    "             bar_format=bar_format)\n",
    "    if disable:\n",
    "        # a trick to allow execution in environments where stderr is redirected\n",
    "        t._time = lambda: 0.0\n",
    "    return t"
   ]
  },
  {
   "cell_type": "code",
   "execution_count": 25,
   "id": "f78aedaf",
   "metadata": {
    "execution": {
     "iopub.execute_input": "2022-05-23T16:53:28.956333Z",
     "iopub.status.busy": "2022-05-23T16:53:28.955939Z",
     "iopub.status.idle": "2022-05-23T16:53:28.960043Z",
     "shell.execute_reply": "2022-05-23T16:53:28.959316Z"
    },
    "papermill": {
     "duration": 0.036445,
     "end_time": "2022-05-23T16:53:28.962027",
     "exception": false,
     "start_time": "2022-05-23T16:53:28.925582",
     "status": "completed"
    },
    "tags": []
   },
   "outputs": [
    {
     "name": "stdout",
     "output_type": "stream",
     "text": [
      "<function init_progress_bar at 0x7fb5df020b00>\n"
     ]
    }
   ],
   "source": [
    "print(init_progress_bar)"
   ]
  },
  {
   "cell_type": "code",
   "execution_count": 26,
   "id": "b44661f8",
   "metadata": {
    "execution": {
     "iopub.execute_input": "2022-05-23T16:53:29.023350Z",
     "iopub.status.busy": "2022-05-23T16:53:29.022935Z",
     "iopub.status.idle": "2022-05-23T16:53:29.028500Z",
     "shell.execute_reply": "2022-05-23T16:53:29.027830Z"
    },
    "papermill": {
     "duration": 0.038147,
     "end_time": "2022-05-23T16:53:29.030136",
     "exception": false,
     "start_time": "2022-05-23T16:53:28.991989",
     "status": "completed"
    },
    "tags": []
   },
   "outputs": [],
   "source": [
    "class AverageMeter(object):\n",
    "    \"\"\"Computes and stores the average and current value\"\"\"\n",
    "    def __init__(self):\n",
    "        self.reset()\n",
    "\n",
    "    def reset(self):\n",
    "        self.val = 0\n",
    "        self.avg = 0\n",
    "        self.sum = 0\n",
    "        self.count = 0\n",
    "\n",
    "    def update(self, val, n=1):\n",
    "        self.val = val\n",
    "        self.sum += val * n\n",
    "        self.count += n\n",
    "        self.avg = self.sum / self.count\n",
    "\n",
    "def get_score(y_true, y_pred):\n",
    "    return accuracy_score(y_true, y_pred)"
   ]
  },
  {
   "cell_type": "code",
   "execution_count": 27,
   "id": "c7435b12",
   "metadata": {
    "execution": {
     "iopub.execute_input": "2022-05-23T16:53:29.092079Z",
     "iopub.status.busy": "2022-05-23T16:53:29.091735Z",
     "iopub.status.idle": "2022-05-23T16:53:29.106056Z",
     "shell.execute_reply": "2022-05-23T16:53:29.105237Z"
    },
    "papermill": {
     "duration": 0.047437,
     "end_time": "2022-05-23T16:53:29.107921",
     "exception": false,
     "start_time": "2022-05-23T16:53:29.060484",
     "status": "completed"
    },
    "tags": []
   },
   "outputs": [],
   "source": [
    "def train_fn(train_loader, model, criterion, optimizer, scheduler, device,alpha,temperature):\n",
    "    batch_time = AverageMeter()\n",
    "    data_time = AverageMeter()\n",
    "    losses = AverageMeter()\n",
    "    scores = AverageMeter()\n",
    "\n",
    "    \n",
    "    start = end = time.time()\n",
    "    for step, (images, labels) in tqdm(enumerate(train_loader), total = len(train_loader)):\n",
    "        data_time.update(time.time() - end)\n",
    "        images = images.to(device, dtype=torch.float)\n",
    "        labels = labels.to(device)\n",
    "        batch_size = labels.size(0)\n",
    "        with torch.no_grad():\n",
    "                large_logits = teacher_model(images)\n",
    "        model.train()\n",
    "        y_preds = model(images)\n",
    "        soft_targets_loss = F.kl_div(F.log_softmax(y_preds/ temperature, dim=1), F.softmax(large_logits / temperature, dim=1), reduction='batchmean')\n",
    "        label_loss = F.cross_entropy(y_preds, labels)\n",
    "        # Weighted sum of the two losses\n",
    "        loss = alpha*(temperature*temperature) * soft_targets_loss + (1-alpha) * label_loss\n",
    "\n",
    "        #loss = criterion(y_preds, labels)\n",
    "        losses.update(loss.item(), batch_size)\n",
    "\n",
    "        loss.backward()\n",
    "        optimizer.step()\n",
    "        optimizer.zero_grad()\n",
    "        batch_time.update(time.time() - end)\n",
    "        end = time.time()\n",
    "\n",
    "    return losses.avg\n",
    "\n",
    "def valid_fn(test_loader, model, criterion, device):\n",
    "    batch_time = AverageMeter()\n",
    "    data_time = AverageMeter()\n",
    "    losses = AverageMeter()\n",
    "    scores = AverageMeter()\n",
    "\n",
    "\n",
    "    model.eval()\n",
    "    start = end = time.time()\n",
    "    preds = []\n",
    "    valid_labels = []\n",
    "    for step, (images, labels) in tqdm(enumerate(test_loader), total = len(test_loader)):\n",
    "        data_time.update(time.time() - end)\n",
    "        images = images.to(device, dtype=torch.float)\n",
    "        labels = labels.to(device)\n",
    "        batch_size = labels.size(0)\n",
    "\n",
    "        with torch.no_grad():\n",
    "            y_preds = model(images)\n",
    "        loss = criterion(y_preds, labels)\n",
    "        losses.update(loss.item(), batch_size)\n",
    "\n",
    "        preds.append(y_preds.softmax(1).to('cpu').numpy())\n",
    "        valid_labels.append(labels.to('cpu').numpy())\n",
    "        \n",
    "        batch_time.update(time.time() - end)\n",
    "        end = time.time()\n",
    "\n",
    "    predictions = np.concatenate(preds)\n",
    "    valid_labels = np.concatenate(valid_labels)\n",
    "    \n",
    "    score = get_score(valid_labels, predictions.argmax(1))\n",
    "    \n",
    "    return losses.avg, score"
   ]
  },
  {
   "cell_type": "code",
   "execution_count": 28,
   "id": "1a944da9",
   "metadata": {
    "execution": {
     "iopub.execute_input": "2022-05-23T16:53:29.173831Z",
     "iopub.status.busy": "2022-05-23T16:53:29.173365Z",
     "iopub.status.idle": "2022-05-23T16:53:29.177533Z",
     "shell.execute_reply": "2022-05-23T16:53:29.176829Z"
    },
    "papermill": {
     "duration": 0.038972,
     "end_time": "2022-05-23T16:53:29.179240",
     "exception": false,
     "start_time": "2022-05-23T16:53:29.140268",
     "status": "completed"
    },
    "tags": []
   },
   "outputs": [],
   "source": [
    "def calculate_loss(model, data, target):\n",
    "        # Standard Learning Loss ( Classification Loss)\n",
    "        output = model(data)\n",
    "        loss = F.cross_entropy(output, target)\n",
    "        loss.backward()\n",
    "        optimizer_teacher.step()\n",
    "        return output, loss"
   ]
  },
  {
   "cell_type": "code",
   "execution_count": 29,
   "id": "afb490ca",
   "metadata": {
    "execution": {
     "iopub.execute_input": "2022-05-23T16:53:29.245295Z",
     "iopub.status.busy": "2022-05-23T16:53:29.244726Z",
     "iopub.status.idle": "2022-05-23T16:53:29.248569Z",
     "shell.execute_reply": "2022-05-23T16:53:29.247834Z"
    },
    "papermill": {
     "duration": 0.038497,
     "end_time": "2022-05-23T16:53:29.250300",
     "exception": false,
     "start_time": "2022-05-23T16:53:29.211803",
     "status": "completed"
    },
    "tags": []
   },
   "outputs": [],
   "source": [
    " def save(model, epoch, name):\n",
    "        torch.save({\"model_state_dict\": model.state_dict(), }, name)"
   ]
  },
  {
   "cell_type": "code",
   "execution_count": 30,
   "id": "e7d3f5ca",
   "metadata": {
    "execution": {
     "iopub.execute_input": "2022-05-23T16:53:29.315940Z",
     "iopub.status.busy": "2022-05-23T16:53:29.315757Z",
     "iopub.status.idle": "2022-05-23T16:53:46.321801Z",
     "shell.execute_reply": "2022-05-23T16:53:46.321078Z"
    },
    "papermill": {
     "duration": 17.04178,
     "end_time": "2022-05-23T16:53:46.324114",
     "exception": false,
     "start_time": "2022-05-23T16:53:29.282334",
     "status": "completed"
    },
    "tags": []
   },
   "outputs": [
    {
     "name": "stdout",
     "output_type": "stream",
     "text": [
      "Loading CIFAR10...\n",
      "Downloading https://www.cs.toronto.edu/~kriz/cifar-10-python.tar.gz to ./data/cifar-10-python.tar.gz\n"
     ]
    },
    {
     "data": {
      "application/vnd.jupyter.widget-view+json": {
       "model_id": "58c8d0e000f04df8876f7ef63eb98b49",
       "version_major": 2,
       "version_minor": 0
      },
      "text/plain": [
       "  0%|          | 0/170498071 [00:00<?, ?it/s]"
      ]
     },
     "metadata": {},
     "output_type": "display_data"
    },
    {
     "name": "stdout",
     "output_type": "stream",
     "text": [
      "Extracting ./data/cifar-10-python.tar.gz to ./data\n",
      "Files already downloaded and verified\n"
     ]
    }
   ],
   "source": [
    "train_loader,test_loader=get_cifar(num_classes=10, dataset_dir=\"./data\", batch_size=128,\n",
    "              use_cifar_10_1=False)"
   ]
  },
  {
   "cell_type": "code",
   "execution_count": 31,
   "id": "120348cb",
   "metadata": {
    "execution": {
     "iopub.execute_input": "2022-05-23T16:53:46.391683Z",
     "iopub.status.busy": "2022-05-23T16:53:46.391475Z",
     "iopub.status.idle": "2022-05-23T16:53:46.394991Z",
     "shell.execute_reply": "2022-05-23T16:53:46.394237Z"
    },
    "papermill": {
     "duration": 0.038224,
     "end_time": "2022-05-23T16:53:46.396787",
     "exception": false,
     "start_time": "2022-05-23T16:53:46.358563",
     "status": "completed"
    },
    "tags": []
   },
   "outputs": [],
   "source": [
    "criterion = nn.CrossEntropyLoss()"
   ]
  },
  {
   "cell_type": "code",
   "execution_count": 32,
   "id": "5347e433",
   "metadata": {
    "execution": {
     "iopub.execute_input": "2022-05-23T16:53:46.462140Z",
     "iopub.status.busy": "2022-05-23T16:53:46.461947Z",
     "iopub.status.idle": "2022-05-23T18:23:20.804160Z",
     "shell.execute_reply": "2022-05-23T18:23:20.800754Z"
    },
    "papermill": {
     "duration": 5374.383479,
     "end_time": "2022-05-23T18:23:20.812486",
     "exception": false,
     "start_time": "2022-05-23T16:53:46.429007",
     "status": "completed"
    },
    "tags": []
   },
   "outputs": [
    {
     "name": "stderr",
     "output_type": "stream",
     "text": [
      "100%|██████████| 391/391 [00:29<00:00, 13.11it/s]\n",
      "100%|██████████| 79/79 [00:02<00:00, 33.11it/s]"
     ]
    },
    {
     "name": "stdout",
     "output_type": "stream",
     "text": [
      "Adjusting learning rate of group 0 to 1.0000e-01.\n",
      "Epoch 1\n",
      "Accuracy: 0.5911 | Train loss: 5.2459932881164555 | Valid loss: 1.4532183403015138\n",
      "YES\n"
     ]
    },
    {
     "name": "stderr",
     "output_type": "stream",
     "text": [
      "\n",
      "100%|██████████| 391/391 [00:24<00:00, 16.29it/s]\n",
      "100%|██████████| 79/79 [00:02<00:00, 29.26it/s]"
     ]
    },
    {
     "name": "stdout",
     "output_type": "stream",
     "text": [
      "Adjusting learning rate of group 0 to 1.0000e-01.\n",
      "Epoch 2\n",
      "Accuracy: 0.6962 | Train loss: 3.6960182596588136 | Valid loss: 1.0531272861480714\n",
      "YES\n"
     ]
    },
    {
     "name": "stderr",
     "output_type": "stream",
     "text": [
      "\n",
      "100%|██████████| 391/391 [00:23<00:00, 16.85it/s]\n",
      "100%|██████████| 79/79 [00:02<00:00, 34.13it/s]"
     ]
    },
    {
     "name": "stdout",
     "output_type": "stream",
     "text": [
      "Adjusting learning rate of group 0 to 1.0000e-01.\n",
      "Epoch 3\n",
      "Accuracy: 0.6674 | Train loss: 3.136332599945068 | Valid loss: 1.352709206867218\n"
     ]
    },
    {
     "name": "stderr",
     "output_type": "stream",
     "text": [
      "\n",
      "100%|██████████| 391/391 [00:23<00:00, 16.36it/s]\n",
      "100%|██████████| 79/79 [00:02<00:00, 29.98it/s]\n"
     ]
    },
    {
     "name": "stdout",
     "output_type": "stream",
     "text": [
      "Adjusting learning rate of group 0 to 1.0000e-01.\n",
      "Epoch 4\n",
      "Accuracy: 0.7334 | Train loss: 2.8956486252593994 | Valid loss: 0.9737015485763549\n",
      "YES\n"
     ]
    },
    {
     "name": "stderr",
     "output_type": "stream",
     "text": [
      "100%|██████████| 391/391 [00:24<00:00, 16.22it/s]\n",
      "100%|██████████| 79/79 [00:02<00:00, 32.39it/s]"
     ]
    },
    {
     "name": "stdout",
     "output_type": "stream",
     "text": [
      "Adjusting learning rate of group 0 to 1.0000e-01.\n",
      "Epoch 5\n",
      "Accuracy: 0.7267 | Train loss: 2.7338262342071533 | Valid loss: 1.063637871170044\n"
     ]
    },
    {
     "name": "stderr",
     "output_type": "stream",
     "text": [
      "\n",
      "100%|██████████| 391/391 [00:23<00:00, 16.77it/s]\n",
      "100%|██████████| 79/79 [00:02<00:00, 27.26it/s]"
     ]
    },
    {
     "name": "stdout",
     "output_type": "stream",
     "text": [
      "Adjusting learning rate of group 0 to 1.0000e-01.\n",
      "Epoch 6\n",
      "Accuracy: 0.755 | Train loss: 2.6197181665802 | Valid loss: 0.8998661253929138\n",
      "YES\n"
     ]
    },
    {
     "name": "stderr",
     "output_type": "stream",
     "text": [
      "\n",
      "100%|██████████| 391/391 [00:23<00:00, 16.80it/s]\n",
      "100%|██████████| 79/79 [00:02<00:00, 28.66it/s]"
     ]
    },
    {
     "name": "stdout",
     "output_type": "stream",
     "text": [
      "Adjusting learning rate of group 0 to 1.0000e-01.\n",
      "Epoch 7\n",
      "Accuracy: 0.7348 | Train loss: 2.542781431427002 | Valid loss: 0.992973273897171\n"
     ]
    },
    {
     "name": "stderr",
     "output_type": "stream",
     "text": [
      "\n",
      "100%|██████████| 391/391 [00:24<00:00, 16.20it/s]\n",
      "100%|██████████| 79/79 [00:02<00:00, 27.26it/s]\n"
     ]
    },
    {
     "name": "stdout",
     "output_type": "stream",
     "text": [
      "Adjusting learning rate of group 0 to 1.0000e-01.\n",
      "Epoch 8\n",
      "Accuracy: 0.7487 | Train loss: 2.4900185099792482 | Valid loss: 0.8576085222244263\n"
     ]
    },
    {
     "name": "stderr",
     "output_type": "stream",
     "text": [
      "100%|██████████| 391/391 [00:23<00:00, 16.48it/s]\n",
      "100%|██████████| 79/79 [00:02<00:00, 29.43it/s]"
     ]
    },
    {
     "name": "stdout",
     "output_type": "stream",
     "text": [
      "Adjusting learning rate of group 0 to 1.0000e-01.\n",
      "Epoch 9\n",
      "Accuracy: 0.7674 | Train loss: 2.4486731803512574 | Valid loss: 0.7804741245269775\n",
      "YES\n"
     ]
    },
    {
     "name": "stderr",
     "output_type": "stream",
     "text": [
      "\n",
      "100%|██████████| 391/391 [00:24<00:00, 15.95it/s]\n",
      "100%|██████████| 79/79 [00:02<00:00, 33.06it/s]"
     ]
    },
    {
     "name": "stdout",
     "output_type": "stream",
     "text": [
      "Adjusting learning rate of group 0 to 1.0000e-01.\n",
      "Epoch 10\n",
      "Accuracy: 0.7222 | Train loss: 2.4044998119354246 | Valid loss: 1.0155027564048766\n"
     ]
    },
    {
     "name": "stderr",
     "output_type": "stream",
     "text": [
      "\n",
      "100%|██████████| 391/391 [00:24<00:00, 16.17it/s]\n",
      "100%|██████████| 79/79 [00:02<00:00, 27.32it/s]"
     ]
    },
    {
     "name": "stdout",
     "output_type": "stream",
     "text": [
      "Adjusting learning rate of group 0 to 1.0000e-01.\n",
      "Epoch 11\n",
      "Accuracy: 0.7521 | Train loss: 2.3758681364440917 | Valid loss: 0.8664790639877319\n"
     ]
    },
    {
     "name": "stderr",
     "output_type": "stream",
     "text": [
      "\n",
      "100%|██████████| 391/391 [00:23<00:00, 16.45it/s]\n",
      "100%|██████████| 79/79 [00:02<00:00, 34.51it/s]"
     ]
    },
    {
     "name": "stdout",
     "output_type": "stream",
     "text": [
      "Adjusting learning rate of group 0 to 1.0000e-01.\n",
      "Epoch 12\n",
      "Accuracy: 0.7031 | Train loss: 2.342071209259033 | Valid loss: 1.230457631111145\n"
     ]
    },
    {
     "name": "stderr",
     "output_type": "stream",
     "text": [
      "\n",
      "100%|██████████| 391/391 [00:24<00:00, 16.02it/s]\n",
      "100%|██████████| 79/79 [00:02<00:00, 32.66it/s]"
     ]
    },
    {
     "name": "stdout",
     "output_type": "stream",
     "text": [
      "Adjusting learning rate of group 0 to 1.0000e-01.\n",
      "Epoch 13\n",
      "Accuracy: 0.7243 | Train loss: 2.3290884481048586 | Valid loss: 1.0909849885940552\n"
     ]
    },
    {
     "name": "stderr",
     "output_type": "stream",
     "text": [
      "\n",
      "100%|██████████| 391/391 [00:24<00:00, 16.05it/s]\n",
      "100%|██████████| 79/79 [00:02<00:00, 31.03it/s]"
     ]
    },
    {
     "name": "stdout",
     "output_type": "stream",
     "text": [
      "Adjusting learning rate of group 0 to 1.0000e-01.\n",
      "Epoch 14\n",
      "Accuracy: 0.7884 | Train loss: 2.291749322090149 | Valid loss: 0.7251778803348541\n",
      "YES\n"
     ]
    },
    {
     "name": "stderr",
     "output_type": "stream",
     "text": [
      "\n",
      "100%|██████████| 391/391 [00:24<00:00, 15.85it/s]\n",
      "100%|██████████| 79/79 [00:02<00:00, 33.85it/s]"
     ]
    },
    {
     "name": "stdout",
     "output_type": "stream",
     "text": [
      "Adjusting learning rate of group 0 to 1.0000e-01.\n",
      "Epoch 15\n",
      "Accuracy: 0.7783 | Train loss: 2.2937952362823486 | Valid loss: 0.8178634259223938\n"
     ]
    },
    {
     "name": "stderr",
     "output_type": "stream",
     "text": [
      "\n",
      "100%|██████████| 391/391 [00:24<00:00, 15.69it/s]\n",
      "100%|██████████| 79/79 [00:02<00:00, 33.04it/s]"
     ]
    },
    {
     "name": "stdout",
     "output_type": "stream",
     "text": [
      "Adjusting learning rate of group 0 to 1.0000e-01.\n",
      "Epoch 16\n",
      "Accuracy: 0.7398 | Train loss: 2.2746856816864014 | Valid loss: 1.018584143638611\n"
     ]
    },
    {
     "name": "stderr",
     "output_type": "stream",
     "text": [
      "\n",
      "100%|██████████| 391/391 [00:24<00:00, 15.82it/s]\n",
      "100%|██████████| 79/79 [00:02<00:00, 32.52it/s]"
     ]
    },
    {
     "name": "stdout",
     "output_type": "stream",
     "text": [
      "Adjusting learning rate of group 0 to 1.0000e-01.\n",
      "Epoch 17\n",
      "Accuracy: 0.7748 | Train loss: 2.2502646057128906 | Valid loss: 0.8388200464725495\n"
     ]
    },
    {
     "name": "stderr",
     "output_type": "stream",
     "text": [
      "\n",
      "100%|██████████| 391/391 [00:25<00:00, 15.51it/s]\n",
      "100%|██████████| 79/79 [00:02<00:00, 32.00it/s]"
     ]
    },
    {
     "name": "stdout",
     "output_type": "stream",
     "text": [
      "Adjusting learning rate of group 0 to 1.0000e-01.\n",
      "Epoch 18\n",
      "Accuracy: 0.794 | Train loss: 2.2495349439239503 | Valid loss: 0.7385698530197143\n",
      "YES\n"
     ]
    },
    {
     "name": "stderr",
     "output_type": "stream",
     "text": [
      "\n",
      "100%|██████████| 391/391 [00:23<00:00, 16.88it/s]\n",
      "100%|██████████| 79/79 [00:03<00:00, 23.78it/s]\n"
     ]
    },
    {
     "name": "stdout",
     "output_type": "stream",
     "text": [
      "Adjusting learning rate of group 0 to 1.0000e-01.\n",
      "Epoch 19\n",
      "Accuracy: 0.762 | Train loss: 2.2463958057403564 | Valid loss: 0.8647711307525635\n"
     ]
    },
    {
     "name": "stderr",
     "output_type": "stream",
     "text": [
      "100%|██████████| 391/391 [00:23<00:00, 16.37it/s]\n",
      "100%|██████████| 79/79 [00:02<00:00, 28.82it/s]"
     ]
    },
    {
     "name": "stdout",
     "output_type": "stream",
     "text": [
      "Adjusting learning rate of group 0 to 1.0000e-01.\n",
      "Epoch 20\n",
      "Accuracy: 0.7333 | Train loss: 2.210467993850708 | Valid loss: 1.0644457162857055\n"
     ]
    },
    {
     "name": "stderr",
     "output_type": "stream",
     "text": [
      "\n",
      "100%|██████████| 391/391 [00:25<00:00, 15.44it/s]\n",
      "100%|██████████| 79/79 [00:02<00:00, 33.85it/s]"
     ]
    },
    {
     "name": "stdout",
     "output_type": "stream",
     "text": [
      "Adjusting learning rate of group 0 to 1.0000e-01.\n",
      "Epoch 21\n",
      "Accuracy: 0.8042 | Train loss: 2.201124726791382 | Valid loss: 0.6953538774490357\n",
      "YES\n"
     ]
    },
    {
     "name": "stderr",
     "output_type": "stream",
     "text": [
      "\n",
      "100%|██████████| 391/391 [00:24<00:00, 15.72it/s]\n",
      "100%|██████████| 79/79 [00:02<00:00, 26.52it/s]"
     ]
    },
    {
     "name": "stdout",
     "output_type": "stream",
     "text": [
      "Adjusting learning rate of group 0 to 1.0000e-01.\n",
      "Epoch 22\n",
      "Accuracy: 0.6342 | Train loss: 2.2049269438934327 | Valid loss: 1.5623875034332275\n"
     ]
    },
    {
     "name": "stderr",
     "output_type": "stream",
     "text": [
      "\n",
      "100%|██████████| 391/391 [00:24<00:00, 15.86it/s]\n",
      "100%|██████████| 79/79 [00:03<00:00, 25.86it/s]"
     ]
    },
    {
     "name": "stdout",
     "output_type": "stream",
     "text": [
      "Adjusting learning rate of group 0 to 1.0000e-01.\n",
      "Epoch 23\n",
      "Accuracy: 0.786 | Train loss: 2.1907079554748536 | Valid loss: 0.7557400109291077\n"
     ]
    },
    {
     "name": "stderr",
     "output_type": "stream",
     "text": [
      "\n",
      "100%|██████████| 391/391 [00:23<00:00, 16.37it/s]\n",
      "100%|██████████| 79/79 [00:02<00:00, 29.46it/s]"
     ]
    },
    {
     "name": "stdout",
     "output_type": "stream",
     "text": [
      "Adjusting learning rate of group 0 to 1.0000e-01.\n",
      "Epoch 24\n",
      "Accuracy: 0.7367 | Train loss: 2.1772275148010256 | Valid loss: 1.0328127502441407\n"
     ]
    },
    {
     "name": "stderr",
     "output_type": "stream",
     "text": [
      "\n",
      "100%|██████████| 391/391 [00:24<00:00, 15.82it/s]\n",
      "100%|██████████| 79/79 [00:02<00:00, 28.61it/s]"
     ]
    },
    {
     "name": "stdout",
     "output_type": "stream",
     "text": [
      "Adjusting learning rate of group 0 to 1.0000e-01.\n",
      "Epoch 25\n",
      "Accuracy: 0.7782 | Train loss: 2.1733144013977053 | Valid loss: 0.8014558641433716\n"
     ]
    },
    {
     "name": "stderr",
     "output_type": "stream",
     "text": [
      "\n",
      "100%|██████████| 391/391 [00:24<00:00, 15.74it/s]\n",
      "100%|██████████| 79/79 [00:02<00:00, 27.06it/s]"
     ]
    },
    {
     "name": "stdout",
     "output_type": "stream",
     "text": [
      "Adjusting learning rate of group 0 to 1.0000e-01.\n",
      "Epoch 26\n",
      "Accuracy: 0.8043 | Train loss: 2.1719592234039307 | Valid loss: 0.6840579719543457\n",
      "YES\n"
     ]
    },
    {
     "name": "stderr",
     "output_type": "stream",
     "text": [
      "\n",
      "100%|██████████| 391/391 [00:25<00:00, 15.51it/s]\n",
      "100%|██████████| 79/79 [00:02<00:00, 33.45it/s]"
     ]
    },
    {
     "name": "stdout",
     "output_type": "stream",
     "text": [
      "Adjusting learning rate of group 0 to 1.0000e-01.\n",
      "Epoch 27\n",
      "Accuracy: 0.7895 | Train loss: 2.163428930892944 | Valid loss: 0.715128225183487\n"
     ]
    },
    {
     "name": "stderr",
     "output_type": "stream",
     "text": [
      "\n",
      "100%|██████████| 391/391 [00:23<00:00, 16.34it/s]\n",
      "100%|██████████| 79/79 [00:02<00:00, 28.30it/s]"
     ]
    },
    {
     "name": "stdout",
     "output_type": "stream",
     "text": [
      "Adjusting learning rate of group 0 to 1.0000e-01.\n",
      "Epoch 28\n",
      "Accuracy: 0.772 | Train loss: 2.146210626068115 | Valid loss: 0.9023986013412476\n"
     ]
    },
    {
     "name": "stderr",
     "output_type": "stream",
     "text": [
      "\n",
      "100%|██████████| 391/391 [00:25<00:00, 15.38it/s]\n",
      "100%|██████████| 79/79 [00:02<00:00, 33.27it/s]"
     ]
    },
    {
     "name": "stdout",
     "output_type": "stream",
     "text": [
      "Adjusting learning rate of group 0 to 1.0000e-01.\n",
      "Epoch 29\n",
      "Accuracy: 0.7782 | Train loss: 2.15388124671936 | Valid loss: 0.8747119518756866\n"
     ]
    },
    {
     "name": "stderr",
     "output_type": "stream",
     "text": [
      "\n",
      "100%|██████████| 391/391 [00:25<00:00, 15.15it/s]\n",
      "100%|██████████| 79/79 [00:02<00:00, 31.86it/s]"
     ]
    },
    {
     "name": "stdout",
     "output_type": "stream",
     "text": [
      "Adjusting learning rate of group 0 to 1.0000e-01.\n",
      "Epoch 30\n",
      "Accuracy: 0.768 | Train loss: 2.150815556793213 | Valid loss: 0.832497080039978\n"
     ]
    },
    {
     "name": "stderr",
     "output_type": "stream",
     "text": [
      "\n",
      "100%|██████████| 391/391 [00:24<00:00, 15.79it/s]\n",
      "100%|██████████| 79/79 [00:03<00:00, 23.29it/s]"
     ]
    },
    {
     "name": "stdout",
     "output_type": "stream",
     "text": [
      "Adjusting learning rate of group 0 to 1.0000e-01.\n",
      "Epoch 31\n",
      "Accuracy: 0.7885 | Train loss: 2.147092815170288 | Valid loss: 0.7372188472747803\n"
     ]
    },
    {
     "name": "stderr",
     "output_type": "stream",
     "text": [
      "\n",
      "100%|██████████| 391/391 [00:22<00:00, 17.11it/s]\n",
      "100%|██████████| 79/79 [00:02<00:00, 28.94it/s]"
     ]
    },
    {
     "name": "stdout",
     "output_type": "stream",
     "text": [
      "Adjusting learning rate of group 0 to 1.0000e-01.\n",
      "Epoch 32\n",
      "Accuracy: 0.7623 | Train loss: 2.143392378692627 | Valid loss: 0.8681532872200012\n"
     ]
    },
    {
     "name": "stderr",
     "output_type": "stream",
     "text": [
      "\n",
      "100%|██████████| 391/391 [00:23<00:00, 16.52it/s]\n",
      "100%|██████████| 79/79 [00:02<00:00, 28.18it/s]"
     ]
    },
    {
     "name": "stdout",
     "output_type": "stream",
     "text": [
      "Adjusting learning rate of group 0 to 1.0000e-01.\n",
      "Epoch 33\n",
      "Accuracy: 0.7306 | Train loss: 2.132242653961182 | Valid loss: 1.032042335319519\n"
     ]
    },
    {
     "name": "stderr",
     "output_type": "stream",
     "text": [
      "\n",
      "100%|██████████| 391/391 [00:25<00:00, 15.34it/s]\n",
      "100%|██████████| 79/79 [00:02<00:00, 26.46it/s]"
     ]
    },
    {
     "name": "stdout",
     "output_type": "stream",
     "text": [
      "Adjusting learning rate of group 0 to 1.0000e-01.\n",
      "Epoch 34\n",
      "Accuracy: 0.7868 | Train loss: 2.1255972885131835 | Valid loss: 0.8156742771148682\n"
     ]
    },
    {
     "name": "stderr",
     "output_type": "stream",
     "text": [
      "\n",
      "100%|██████████| 391/391 [00:23<00:00, 16.34it/s]\n",
      "100%|██████████| 79/79 [00:02<00:00, 33.80it/s]"
     ]
    },
    {
     "name": "stdout",
     "output_type": "stream",
     "text": [
      "Adjusting learning rate of group 0 to 1.0000e-01.\n",
      "Epoch 35\n",
      "Accuracy: 0.7693 | Train loss: 2.1219397579193116 | Valid loss: 0.9345163139343262\n"
     ]
    },
    {
     "name": "stderr",
     "output_type": "stream",
     "text": [
      "\n",
      "100%|██████████| 391/391 [00:23<00:00, 16.30it/s]\n",
      "100%|██████████| 79/79 [00:03<00:00, 22.34it/s]"
     ]
    },
    {
     "name": "stdout",
     "output_type": "stream",
     "text": [
      "Adjusting learning rate of group 0 to 1.0000e-01.\n",
      "Epoch 36\n",
      "Accuracy: 0.7693 | Train loss: 2.138714711456299 | Valid loss: 0.8088102536201477\n"
     ]
    },
    {
     "name": "stderr",
     "output_type": "stream",
     "text": [
      "\n",
      "100%|██████████| 391/391 [00:23<00:00, 16.79it/s]\n",
      "100%|██████████| 79/79 [00:02<00:00, 32.61it/s]"
     ]
    },
    {
     "name": "stdout",
     "output_type": "stream",
     "text": [
      "Adjusting learning rate of group 0 to 1.0000e-01.\n",
      "Epoch 37\n",
      "Accuracy: 0.7885 | Train loss: 2.1255067198562623 | Valid loss: 0.7415057097434997\n"
     ]
    },
    {
     "name": "stderr",
     "output_type": "stream",
     "text": [
      "\n",
      "100%|██████████| 391/391 [00:23<00:00, 16.52it/s]\n",
      "100%|██████████| 79/79 [00:02<00:00, 32.07it/s]"
     ]
    },
    {
     "name": "stdout",
     "output_type": "stream",
     "text": [
      "Adjusting learning rate of group 0 to 1.0000e-01.\n",
      "Epoch 38\n",
      "Accuracy: 0.7703 | Train loss: 2.115901065826416 | Valid loss: 0.8404972694396973\n"
     ]
    },
    {
     "name": "stderr",
     "output_type": "stream",
     "text": [
      "\n",
      "100%|██████████| 391/391 [00:26<00:00, 14.81it/s]\n",
      "100%|██████████| 79/79 [00:02<00:00, 33.31it/s]"
     ]
    },
    {
     "name": "stdout",
     "output_type": "stream",
     "text": [
      "Adjusting learning rate of group 0 to 1.0000e-01.\n",
      "Epoch 39\n",
      "Accuracy: 0.7767 | Train loss: 2.1169390394592287 | Valid loss: 0.8032568841934205\n"
     ]
    },
    {
     "name": "stderr",
     "output_type": "stream",
     "text": [
      "\n",
      "100%|██████████| 391/391 [00:23<00:00, 16.63it/s]\n",
      "100%|██████████| 79/79 [00:02<00:00, 32.50it/s]"
     ]
    },
    {
     "name": "stdout",
     "output_type": "stream",
     "text": [
      "Adjusting learning rate of group 0 to 1.0000e-01.\n",
      "Epoch 40\n",
      "Accuracy: 0.7959 | Train loss: 2.1069826663970948 | Valid loss: 0.7413589211702347\n"
     ]
    },
    {
     "name": "stderr",
     "output_type": "stream",
     "text": [
      "\n",
      "100%|██████████| 391/391 [00:24<00:00, 16.24it/s]\n",
      "100%|██████████| 79/79 [00:04<00:00, 17.45it/s]"
     ]
    },
    {
     "name": "stdout",
     "output_type": "stream",
     "text": [
      "Adjusting learning rate of group 0 to 1.0000e-01.\n",
      "Epoch 41\n",
      "Accuracy: 0.7763 | Train loss: 2.104770355834961 | Valid loss: 0.8628595997810363\n"
     ]
    },
    {
     "name": "stderr",
     "output_type": "stream",
     "text": [
      "\n",
      "100%|██████████| 391/391 [00:23<00:00, 16.53it/s]\n",
      "100%|██████████| 79/79 [00:02<00:00, 31.85it/s]"
     ]
    },
    {
     "name": "stdout",
     "output_type": "stream",
     "text": [
      "Adjusting learning rate of group 0 to 1.0000e-01.\n",
      "Epoch 42\n",
      "Accuracy: 0.7151 | Train loss: 2.1055888455200193 | Valid loss: 1.245012561225891\n"
     ]
    },
    {
     "name": "stderr",
     "output_type": "stream",
     "text": [
      "\n",
      "100%|██████████| 391/391 [00:23<00:00, 16.39it/s]\n",
      "100%|██████████| 79/79 [00:02<00:00, 33.50it/s]"
     ]
    },
    {
     "name": "stdout",
     "output_type": "stream",
     "text": [
      "Adjusting learning rate of group 0 to 1.0000e-01.\n",
      "Epoch 43\n",
      "Accuracy: 0.7179 | Train loss: 2.0986851176834107 | Valid loss: 1.2360649406433106\n"
     ]
    },
    {
     "name": "stderr",
     "output_type": "stream",
     "text": [
      "\n",
      "100%|██████████| 391/391 [00:26<00:00, 14.59it/s]\n",
      "100%|██████████| 79/79 [00:02<00:00, 31.67it/s]"
     ]
    },
    {
     "name": "stdout",
     "output_type": "stream",
     "text": [
      "Adjusting learning rate of group 0 to 1.0000e-01.\n",
      "Epoch 44\n",
      "Accuracy: 0.7784 | Train loss: 2.093701414260864 | Valid loss: 0.7931320343017578\n"
     ]
    },
    {
     "name": "stderr",
     "output_type": "stream",
     "text": [
      "\n",
      "100%|██████████| 391/391 [00:23<00:00, 16.31it/s]\n",
      "100%|██████████| 79/79 [00:02<00:00, 32.97it/s]"
     ]
    },
    {
     "name": "stdout",
     "output_type": "stream",
     "text": [
      "Adjusting learning rate of group 0 to 1.0000e-01.\n",
      "Epoch 45\n",
      "Accuracy: 0.7756 | Train loss: 2.090849201774597 | Valid loss: 0.8194795572280884\n"
     ]
    },
    {
     "name": "stderr",
     "output_type": "stream",
     "text": [
      "\n",
      "100%|██████████| 391/391 [00:23<00:00, 16.29it/s]\n",
      "100%|██████████| 79/79 [00:03<00:00, 20.65it/s]"
     ]
    },
    {
     "name": "stdout",
     "output_type": "stream",
     "text": [
      "Adjusting learning rate of group 0 to 1.0000e-01.\n",
      "Epoch 46\n",
      "Accuracy: 0.7511 | Train loss: 2.0970375886154176 | Valid loss: 0.9553573280334473\n"
     ]
    },
    {
     "name": "stderr",
     "output_type": "stream",
     "text": [
      "\n",
      "100%|██████████| 391/391 [00:26<00:00, 14.71it/s]\n",
      "100%|██████████| 79/79 [00:02<00:00, 32.11it/s]\n"
     ]
    },
    {
     "name": "stdout",
     "output_type": "stream",
     "text": [
      "Adjusting learning rate of group 0 to 1.0000e-01.\n",
      "Epoch 47\n",
      "Accuracy: 0.7864 | Train loss: 2.0780113919067382 | Valid loss: 0.7717699928283691\n"
     ]
    },
    {
     "name": "stderr",
     "output_type": "stream",
     "text": [
      "100%|██████████| 391/391 [00:24<00:00, 16.16it/s]\n",
      "100%|██████████| 79/79 [00:02<00:00, 28.33it/s]"
     ]
    },
    {
     "name": "stdout",
     "output_type": "stream",
     "text": [
      "Adjusting learning rate of group 0 to 1.0000e-01.\n",
      "Epoch 48\n",
      "Accuracy: 0.7993 | Train loss: 2.08648649520874 | Valid loss: 0.7105571467876435\n"
     ]
    },
    {
     "name": "stderr",
     "output_type": "stream",
     "text": [
      "\n",
      "100%|██████████| 391/391 [00:27<00:00, 13.98it/s]\n",
      "100%|██████████| 79/79 [00:02<00:00, 32.72it/s]"
     ]
    },
    {
     "name": "stdout",
     "output_type": "stream",
     "text": [
      "Adjusting learning rate of group 0 to 1.0000e-01.\n",
      "Epoch 49\n",
      "Accuracy: 0.8084 | Train loss: 2.0727580799865724 | Valid loss: 0.6628872490882873\n",
      "YES\n"
     ]
    },
    {
     "name": "stderr",
     "output_type": "stream",
     "text": [
      "\n",
      "100%|██████████| 391/391 [00:24<00:00, 16.00it/s]\n",
      "100%|██████████| 79/79 [00:02<00:00, 31.18it/s]"
     ]
    },
    {
     "name": "stdout",
     "output_type": "stream",
     "text": [
      "Adjusting learning rate of group 0 to 1.0000e-01.\n",
      "Epoch 50\n",
      "Accuracy: 0.7815 | Train loss: 2.084904588317871 | Valid loss: 0.8177093288421631\n"
     ]
    },
    {
     "name": "stderr",
     "output_type": "stream",
     "text": [
      "\n",
      "100%|██████████| 391/391 [00:23<00:00, 16.67it/s]\n",
      "100%|██████████| 79/79 [00:02<00:00, 29.87it/s]"
     ]
    },
    {
     "name": "stdout",
     "output_type": "stream",
     "text": [
      "Adjusting learning rate of group 0 to 1.0000e-01.\n",
      "Epoch 51\n",
      "Accuracy: 0.7812 | Train loss: 2.0957587628173826 | Valid loss: 0.8293620406150818\n"
     ]
    },
    {
     "name": "stderr",
     "output_type": "stream",
     "text": [
      "\n",
      "100%|██████████| 391/391 [00:27<00:00, 14.44it/s]\n",
      "100%|██████████| 79/79 [00:02<00:00, 31.95it/s]"
     ]
    },
    {
     "name": "stdout",
     "output_type": "stream",
     "text": [
      "Adjusting learning rate of group 0 to 1.0000e-01.\n",
      "Epoch 52\n",
      "Accuracy: 0.7856 | Train loss: 2.079748377532959 | Valid loss: 0.8576093012809753\n"
     ]
    },
    {
     "name": "stderr",
     "output_type": "stream",
     "text": [
      "\n",
      "100%|██████████| 391/391 [00:22<00:00, 17.17it/s]\n",
      "100%|██████████| 79/79 [00:02<00:00, 33.69it/s]"
     ]
    },
    {
     "name": "stdout",
     "output_type": "stream",
     "text": [
      "Adjusting learning rate of group 0 to 1.0000e-01.\n",
      "Epoch 53\n",
      "Accuracy: 0.8151 | Train loss: 2.0830108187103273 | Valid loss: 0.6395877294063568\n",
      "YES\n"
     ]
    },
    {
     "name": "stderr",
     "output_type": "stream",
     "text": [
      "\n",
      "100%|██████████| 391/391 [00:26<00:00, 14.95it/s]\n",
      "100%|██████████| 79/79 [00:03<00:00, 24.64it/s]"
     ]
    },
    {
     "name": "stdout",
     "output_type": "stream",
     "text": [
      "Adjusting learning rate of group 0 to 1.0000e-01.\n",
      "Epoch 54\n",
      "Accuracy: 0.7672 | Train loss: 2.091962220611572 | Valid loss: 0.8480924875259399\n"
     ]
    },
    {
     "name": "stderr",
     "output_type": "stream",
     "text": [
      "\n",
      "100%|██████████| 391/391 [00:23<00:00, 16.70it/s]\n",
      "100%|██████████| 79/79 [00:02<00:00, 33.94it/s]"
     ]
    },
    {
     "name": "stdout",
     "output_type": "stream",
     "text": [
      "Adjusting learning rate of group 0 to 1.0000e-01.\n",
      "Epoch 55\n",
      "Accuracy: 0.784 | Train loss: 2.0808982690429687 | Valid loss: 0.8733763078689575\n"
     ]
    },
    {
     "name": "stderr",
     "output_type": "stream",
     "text": [
      "\n",
      "100%|██████████| 391/391 [00:23<00:00, 16.65it/s]\n",
      "100%|██████████| 79/79 [00:02<00:00, 29.35it/s]"
     ]
    },
    {
     "name": "stdout",
     "output_type": "stream",
     "text": [
      "Adjusting learning rate of group 0 to 1.0000e-01.\n",
      "Epoch 56\n",
      "Accuracy: 0.7702 | Train loss: 2.074464808769226 | Valid loss: 0.8972636824607849\n"
     ]
    },
    {
     "name": "stderr",
     "output_type": "stream",
     "text": [
      "\n",
      "100%|██████████| 391/391 [00:26<00:00, 14.69it/s]\n",
      "100%|██████████| 79/79 [00:02<00:00, 33.23it/s]"
     ]
    },
    {
     "name": "stdout",
     "output_type": "stream",
     "text": [
      "Adjusting learning rate of group 0 to 1.0000e-01.\n",
      "Epoch 57\n",
      "Accuracy: 0.8019 | Train loss: 2.0760507538223267 | Valid loss: 0.7155349405050278\n"
     ]
    },
    {
     "name": "stderr",
     "output_type": "stream",
     "text": [
      "\n",
      "100%|██████████| 391/391 [00:22<00:00, 17.03it/s]\n",
      "100%|██████████| 79/79 [00:03<00:00, 21.51it/s]\n"
     ]
    },
    {
     "name": "stdout",
     "output_type": "stream",
     "text": [
      "Adjusting learning rate of group 0 to 1.0000e-01.\n",
      "Epoch 58\n",
      "Accuracy: 0.798 | Train loss: 2.0579007740020754 | Valid loss: 0.7406924889564515\n"
     ]
    },
    {
     "name": "stderr",
     "output_type": "stream",
     "text": [
      "100%|██████████| 391/391 [00:22<00:00, 17.05it/s]\n",
      "100%|██████████| 79/79 [00:02<00:00, 33.71it/s]"
     ]
    },
    {
     "name": "stdout",
     "output_type": "stream",
     "text": [
      "Adjusting learning rate of group 0 to 1.0000e-01.\n",
      "Epoch 59\n",
      "Accuracy: 0.7892 | Train loss: 2.0592841082000732 | Valid loss: 0.790846566581726\n"
     ]
    },
    {
     "name": "stderr",
     "output_type": "stream",
     "text": [
      "\n",
      "100%|██████████| 391/391 [00:26<00:00, 14.54it/s]\n",
      "100%|██████████| 79/79 [00:02<00:00, 29.38it/s]\n"
     ]
    },
    {
     "name": "stdout",
     "output_type": "stream",
     "text": [
      "Adjusting learning rate of group 0 to 1.0000e-01.\n",
      "Epoch 60\n",
      "Accuracy: 0.8093 | Train loss: 2.0822468092346194 | Valid loss: 0.6479056288719177\n"
     ]
    },
    {
     "name": "stderr",
     "output_type": "stream",
     "text": [
      "100%|██████████| 391/391 [00:23<00:00, 16.78it/s]\n",
      "100%|██████████| 79/79 [00:02<00:00, 32.16it/s]"
     ]
    },
    {
     "name": "stdout",
     "output_type": "stream",
     "text": [
      "Adjusting learning rate of group 0 to 1.0000e-01.\n",
      "Epoch 61\n",
      "Accuracy: 0.7858 | Train loss: 2.0595430970001223 | Valid loss: 0.7783059041023255\n"
     ]
    },
    {
     "name": "stderr",
     "output_type": "stream",
     "text": [
      "\n",
      "100%|██████████| 391/391 [00:23<00:00, 16.61it/s]\n",
      "100%|██████████| 79/79 [00:02<00:00, 32.11it/s]"
     ]
    },
    {
     "name": "stdout",
     "output_type": "stream",
     "text": [
      "Adjusting learning rate of group 0 to 1.0000e-01.\n",
      "Epoch 62\n",
      "Accuracy: 0.7597 | Train loss: 2.062592986984253 | Valid loss: 1.0235928668498993\n"
     ]
    },
    {
     "name": "stderr",
     "output_type": "stream",
     "text": [
      "\n",
      "100%|██████████| 391/391 [00:24<00:00, 16.25it/s]\n",
      "100%|██████████| 79/79 [00:02<00:00, 33.58it/s]"
     ]
    },
    {
     "name": "stdout",
     "output_type": "stream",
     "text": [
      "Adjusting learning rate of group 0 to 1.0000e-01.\n",
      "Epoch 63\n",
      "Accuracy: 0.7648 | Train loss: 2.068670427284241 | Valid loss: 0.9135405831336975\n"
     ]
    },
    {
     "name": "stderr",
     "output_type": "stream",
     "text": [
      "\n",
      "100%|██████████| 391/391 [00:22<00:00, 17.28it/s]\n",
      "100%|██████████| 79/79 [00:02<00:00, 33.43it/s]"
     ]
    },
    {
     "name": "stdout",
     "output_type": "stream",
     "text": [
      "Adjusting learning rate of group 0 to 1.0000e-01.\n",
      "Epoch 64\n",
      "Accuracy: 0.7996 | Train loss: 2.0637632543945315 | Valid loss: 0.7261215435028077\n"
     ]
    },
    {
     "name": "stderr",
     "output_type": "stream",
     "text": [
      "\n",
      "100%|██████████| 391/391 [00:27<00:00, 14.25it/s]\n",
      "100%|██████████| 79/79 [00:02<00:00, 33.52it/s]"
     ]
    },
    {
     "name": "stdout",
     "output_type": "stream",
     "text": [
      "Adjusting learning rate of group 0 to 1.0000e-01.\n",
      "Epoch 65\n",
      "Accuracy: 0.7666 | Train loss: 2.065695621643066 | Valid loss: 0.9639230689048767\n"
     ]
    },
    {
     "name": "stderr",
     "output_type": "stream",
     "text": [
      "\n",
      "100%|██████████| 391/391 [00:23<00:00, 16.95it/s]\n",
      "100%|██████████| 79/79 [00:02<00:00, 35.24it/s]"
     ]
    },
    {
     "name": "stdout",
     "output_type": "stream",
     "text": [
      "Adjusting learning rate of group 0 to 1.0000e-02.\n",
      "Epoch 66\n",
      "Accuracy: 0.7874 | Train loss: 2.0675211535644533 | Valid loss: 0.7903426122665406\n"
     ]
    },
    {
     "name": "stderr",
     "output_type": "stream",
     "text": [
      "\n",
      "100%|██████████| 391/391 [00:23<00:00, 16.47it/s]\n",
      "100%|██████████| 79/79 [00:02<00:00, 29.56it/s]"
     ]
    },
    {
     "name": "stdout",
     "output_type": "stream",
     "text": [
      "Adjusting learning rate of group 0 to 1.0000e-02.\n",
      "Epoch 67\n",
      "Accuracy: 0.8728 | Train loss: 1.687469095954895 | Valid loss: 0.43068924078941345\n",
      "YES\n"
     ]
    },
    {
     "name": "stderr",
     "output_type": "stream",
     "text": [
      "\n",
      "100%|██████████| 391/391 [00:23<00:00, 16.76it/s]\n",
      "100%|██████████| 79/79 [00:02<00:00, 34.58it/s]"
     ]
    },
    {
     "name": "stdout",
     "output_type": "stream",
     "text": [
      "Adjusting learning rate of group 0 to 1.0000e-02.\n",
      "Epoch 68\n",
      "Accuracy: 0.8733 | Train loss: 1.5996438777923585 | Valid loss: 0.42616369910240176\n",
      "YES\n"
     ]
    },
    {
     "name": "stderr",
     "output_type": "stream",
     "text": [
      "\n",
      "100%|██████████| 391/391 [00:23<00:00, 16.70it/s]\n",
      "100%|██████████| 79/79 [00:02<00:00, 28.03it/s]"
     ]
    },
    {
     "name": "stdout",
     "output_type": "stream",
     "text": [
      "Adjusting learning rate of group 0 to 1.0000e-02.\n",
      "Epoch 69\n",
      "Accuracy: 0.874 | Train loss: 1.5633667018508912 | Valid loss: 0.4335493165493011\n",
      "YES\n"
     ]
    },
    {
     "name": "stderr",
     "output_type": "stream",
     "text": [
      "\n",
      "100%|██████████| 391/391 [00:28<00:00, 13.63it/s]\n",
      "100%|██████████| 79/79 [00:02<00:00, 31.29it/s]"
     ]
    },
    {
     "name": "stdout",
     "output_type": "stream",
     "text": [
      "Adjusting learning rate of group 0 to 1.0000e-02.\n",
      "Epoch 70\n",
      "Accuracy: 0.8751 | Train loss: 1.539978230819702 | Valid loss: 0.42285932846069335\n",
      "YES\n"
     ]
    },
    {
     "name": "stderr",
     "output_type": "stream",
     "text": [
      "\n",
      "100%|██████████| 391/391 [00:23<00:00, 16.44it/s]\n",
      "100%|██████████| 79/79 [00:02<00:00, 27.87it/s]\n"
     ]
    },
    {
     "name": "stdout",
     "output_type": "stream",
     "text": [
      "Adjusting learning rate of group 0 to 1.0000e-02.\n",
      "Epoch 71\n",
      "Accuracy: 0.8774 | Train loss: 1.5134261266326905 | Valid loss: 0.41495453395843507\n",
      "YES\n"
     ]
    },
    {
     "name": "stderr",
     "output_type": "stream",
     "text": [
      "100%|██████████| 391/391 [00:24<00:00, 16.12it/s]\n",
      "100%|██████████| 79/79 [00:02<00:00, 32.58it/s]"
     ]
    },
    {
     "name": "stdout",
     "output_type": "stream",
     "text": [
      "Adjusting learning rate of group 0 to 1.0000e-02.\n",
      "Epoch 72\n",
      "Accuracy: 0.8793 | Train loss: 1.5045610260009765 | Valid loss: 0.4209101012706757\n",
      "YES\n"
     ]
    },
    {
     "name": "stderr",
     "output_type": "stream",
     "text": [
      "\n",
      "100%|██████████| 391/391 [00:23<00:00, 16.59it/s]\n",
      "100%|██████████| 79/79 [00:02<00:00, 33.71it/s]"
     ]
    },
    {
     "name": "stdout",
     "output_type": "stream",
     "text": [
      "Adjusting learning rate of group 0 to 1.0000e-02.\n",
      "Epoch 73\n",
      "Accuracy: 0.8799 | Train loss: 1.49420069480896 | Valid loss: 0.4194325143098831\n",
      "YES\n"
     ]
    },
    {
     "name": "stderr",
     "output_type": "stream",
     "text": [
      "\n",
      "100%|██████████| 391/391 [00:23<00:00, 16.55it/s]\n",
      "100%|██████████| 79/79 [00:02<00:00, 32.39it/s]"
     ]
    },
    {
     "name": "stdout",
     "output_type": "stream",
     "text": [
      "Adjusting learning rate of group 0 to 1.0000e-02.\n",
      "Epoch 74\n",
      "Accuracy: 0.879 | Train loss: 1.4850942763137818 | Valid loss: 0.42239613938331605\n"
     ]
    },
    {
     "name": "stderr",
     "output_type": "stream",
     "text": [
      "\n",
      "100%|██████████| 391/391 [00:26<00:00, 14.70it/s]\n",
      "100%|██████████| 79/79 [00:02<00:00, 28.93it/s]"
     ]
    },
    {
     "name": "stdout",
     "output_type": "stream",
     "text": [
      "Adjusting learning rate of group 0 to 1.0000e-02.\n",
      "Epoch 75\n",
      "Accuracy: 0.8789 | Train loss: 1.4793572687149048 | Valid loss: 0.411213853764534\n"
     ]
    },
    {
     "name": "stderr",
     "output_type": "stream",
     "text": [
      "\n",
      "100%|██████████| 391/391 [00:23<00:00, 16.85it/s]\n",
      "100%|██████████| 79/79 [00:02<00:00, 33.98it/s]"
     ]
    },
    {
     "name": "stdout",
     "output_type": "stream",
     "text": [
      "Adjusting learning rate of group 0 to 1.0000e-02.\n",
      "Epoch 76\n",
      "Accuracy: 0.8755 | Train loss: 1.4775854949951173 | Valid loss: 0.4271201462745666\n"
     ]
    },
    {
     "name": "stderr",
     "output_type": "stream",
     "text": [
      "\n",
      "100%|██████████| 391/391 [00:23<00:00, 16.96it/s]\n",
      "100%|██████████| 79/79 [00:02<00:00, 32.93it/s]"
     ]
    },
    {
     "name": "stdout",
     "output_type": "stream",
     "text": [
      "Adjusting learning rate of group 0 to 1.0000e-02.\n",
      "Epoch 77\n",
      "Accuracy: 0.8771 | Train loss: 1.4741759379196167 | Valid loss: 0.4198689656257629\n"
     ]
    },
    {
     "name": "stderr",
     "output_type": "stream",
     "text": [
      "\n",
      "100%|██████████| 391/391 [00:23<00:00, 16.69it/s]\n",
      "100%|██████████| 79/79 [00:02<00:00, 34.29it/s]"
     ]
    },
    {
     "name": "stdout",
     "output_type": "stream",
     "text": [
      "Adjusting learning rate of group 0 to 1.0000e-02.\n",
      "Epoch 78\n",
      "Accuracy: 0.8796 | Train loss: 1.4660754024505616 | Valid loss: 0.4033542531967163\n"
     ]
    },
    {
     "name": "stderr",
     "output_type": "stream",
     "text": [
      "\n",
      "100%|██████████| 391/391 [00:23<00:00, 16.71it/s]\n",
      "100%|██████████| 79/79 [00:02<00:00, 33.97it/s]"
     ]
    },
    {
     "name": "stdout",
     "output_type": "stream",
     "text": [
      "Adjusting learning rate of group 0 to 1.0000e-02.\n",
      "Epoch 79\n",
      "Accuracy: 0.8828 | Train loss: 1.46290417137146 | Valid loss: 0.39709066519737246\n",
      "YES\n"
     ]
    },
    {
     "name": "stderr",
     "output_type": "stream",
     "text": [
      "\n",
      "100%|██████████| 391/391 [00:27<00:00, 14.30it/s]\n",
      "100%|██████████| 79/79 [00:03<00:00, 23.41it/s]"
     ]
    },
    {
     "name": "stdout",
     "output_type": "stream",
     "text": [
      "Adjusting learning rate of group 0 to 1.0000e-02.\n",
      "Epoch 80\n",
      "Accuracy: 0.88 | Train loss: 1.4600545812225343 | Valid loss: 0.41992094311714173\n"
     ]
    },
    {
     "name": "stderr",
     "output_type": "stream",
     "text": [
      "\n",
      "100%|██████████| 391/391 [00:22<00:00, 17.46it/s]\n",
      "100%|██████████| 79/79 [00:02<00:00, 33.29it/s]"
     ]
    },
    {
     "name": "stdout",
     "output_type": "stream",
     "text": [
      "Adjusting learning rate of group 0 to 1.0000e-02.\n",
      "Epoch 81\n",
      "Accuracy: 0.8787 | Train loss: 1.461013398475647 | Valid loss: 0.4156077988624573\n"
     ]
    },
    {
     "name": "stderr",
     "output_type": "stream",
     "text": [
      "\n",
      "100%|██████████| 391/391 [00:24<00:00, 16.08it/s]\n",
      "100%|██████████| 79/79 [00:02<00:00, 32.11it/s]"
     ]
    },
    {
     "name": "stdout",
     "output_type": "stream",
     "text": [
      "Adjusting learning rate of group 0 to 1.0000e-02.\n",
      "Epoch 82\n",
      "Accuracy: 0.8687 | Train loss: 1.4627421419906617 | Valid loss: 0.45904476752281187\n"
     ]
    },
    {
     "name": "stderr",
     "output_type": "stream",
     "text": [
      "\n",
      "100%|██████████| 391/391 [00:23<00:00, 16.78it/s]\n",
      "100%|██████████| 79/79 [00:02<00:00, 28.29it/s]"
     ]
    },
    {
     "name": "stdout",
     "output_type": "stream",
     "text": [
      "Adjusting learning rate of group 0 to 1.0000e-02.\n",
      "Epoch 83\n",
      "Accuracy: 0.8781 | Train loss: 1.4644609492492675 | Valid loss: 0.4169638627052307\n"
     ]
    },
    {
     "name": "stderr",
     "output_type": "stream",
     "text": [
      "\n",
      "100%|██████████| 391/391 [00:23<00:00, 16.98it/s]\n",
      "100%|██████████| 79/79 [00:02<00:00, 32.23it/s]"
     ]
    },
    {
     "name": "stdout",
     "output_type": "stream",
     "text": [
      "Adjusting learning rate of group 0 to 1.0000e-02.\n",
      "Epoch 84\n",
      "Accuracy: 0.8757 | Train loss: 1.4534242136764526 | Valid loss: 0.421073835849762\n"
     ]
    },
    {
     "name": "stderr",
     "output_type": "stream",
     "text": [
      "\n",
      "100%|██████████| 391/391 [00:26<00:00, 14.96it/s]\n",
      "100%|██████████| 79/79 [00:04<00:00, 16.96it/s]"
     ]
    },
    {
     "name": "stdout",
     "output_type": "stream",
     "text": [
      "Adjusting learning rate of group 0 to 1.0000e-02.\n",
      "Epoch 85\n",
      "Accuracy: 0.879 | Train loss: 1.4533411102294922 | Valid loss: 0.42350765647888183\n"
     ]
    },
    {
     "name": "stderr",
     "output_type": "stream",
     "text": [
      "\n",
      "100%|██████████| 391/391 [00:23<00:00, 16.69it/s]\n",
      "100%|██████████| 79/79 [00:02<00:00, 33.09it/s]"
     ]
    },
    {
     "name": "stdout",
     "output_type": "stream",
     "text": [
      "Adjusting learning rate of group 0 to 1.0000e-02.\n",
      "Epoch 86\n",
      "Accuracy: 0.8701 | Train loss: 1.452407183456421 | Valid loss: 0.45476249887943265\n"
     ]
    },
    {
     "name": "stderr",
     "output_type": "stream",
     "text": [
      "\n",
      "100%|██████████| 391/391 [00:23<00:00, 16.70it/s]\n",
      "100%|██████████| 79/79 [00:02<00:00, 28.47it/s]"
     ]
    },
    {
     "name": "stdout",
     "output_type": "stream",
     "text": [
      "Adjusting learning rate of group 0 to 1.0000e-02.\n",
      "Epoch 87\n",
      "Accuracy: 0.8788 | Train loss: 1.4560933234024047 | Valid loss: 0.4184303363323212\n"
     ]
    },
    {
     "name": "stderr",
     "output_type": "stream",
     "text": [
      "\n",
      "100%|██████████| 391/391 [00:22<00:00, 17.11it/s]\n",
      "100%|██████████| 79/79 [00:02<00:00, 35.13it/s]\n"
     ]
    },
    {
     "name": "stdout",
     "output_type": "stream",
     "text": [
      "Adjusting learning rate of group 0 to 1.0000e-02.\n",
      "Epoch 88\n",
      "Accuracy: 0.8754 | Train loss: 1.4450984339904784 | Valid loss: 0.4383120222091675\n"
     ]
    },
    {
     "name": "stderr",
     "output_type": "stream",
     "text": [
      "100%|██████████| 391/391 [00:24<00:00, 16.18it/s]\n",
      "100%|██████████| 79/79 [00:02<00:00, 31.47it/s]"
     ]
    },
    {
     "name": "stdout",
     "output_type": "stream",
     "text": [
      "Adjusting learning rate of group 0 to 1.0000e-02.\n",
      "Epoch 89\n",
      "Accuracy: 0.8765 | Train loss: 1.4501090004730224 | Valid loss: 0.4353365689754486\n"
     ]
    },
    {
     "name": "stderr",
     "output_type": "stream",
     "text": [
      "\n",
      "100%|██████████| 391/391 [00:25<00:00, 15.60it/s]\n",
      "100%|██████████| 79/79 [00:04<00:00, 18.06it/s]"
     ]
    },
    {
     "name": "stdout",
     "output_type": "stream",
     "text": [
      "Adjusting learning rate of group 0 to 1.0000e-02.\n",
      "Epoch 90\n",
      "Accuracy: 0.8646 | Train loss: 1.4507833004379271 | Valid loss: 0.49327942943573\n"
     ]
    },
    {
     "name": "stderr",
     "output_type": "stream",
     "text": [
      "\n",
      "100%|██████████| 391/391 [00:25<00:00, 15.25it/s]\n",
      "100%|██████████| 79/79 [00:02<00:00, 28.41it/s]"
     ]
    },
    {
     "name": "stdout",
     "output_type": "stream",
     "text": [
      "Adjusting learning rate of group 0 to 1.0000e-02.\n",
      "Epoch 91\n",
      "Accuracy: 0.8783 | Train loss: 1.454761519088745 | Valid loss: 0.4216985266208649\n"
     ]
    },
    {
     "name": "stderr",
     "output_type": "stream",
     "text": [
      "\n",
      "100%|██████████| 391/391 [00:23<00:00, 16.91it/s]\n",
      "100%|██████████| 79/79 [00:02<00:00, 33.85it/s]"
     ]
    },
    {
     "name": "stdout",
     "output_type": "stream",
     "text": [
      "Adjusting learning rate of group 0 to 1.0000e-02.\n",
      "Epoch 92\n",
      "Accuracy: 0.8681 | Train loss: 1.4480263193130494 | Valid loss: 0.4593830427646637\n"
     ]
    },
    {
     "name": "stderr",
     "output_type": "stream",
     "text": [
      "\n",
      "100%|██████████| 391/391 [00:23<00:00, 16.88it/s]\n",
      "100%|██████████| 79/79 [00:02<00:00, 34.78it/s]"
     ]
    },
    {
     "name": "stdout",
     "output_type": "stream",
     "text": [
      "Adjusting learning rate of group 0 to 1.0000e-02.\n",
      "Epoch 93\n",
      "Accuracy: 0.8738 | Train loss: 1.451712084197998 | Valid loss: 0.43926611104011537\n"
     ]
    },
    {
     "name": "stderr",
     "output_type": "stream",
     "text": [
      "\n",
      "100%|██████████| 391/391 [00:22<00:00, 17.24it/s]\n",
      "100%|██████████| 79/79 [00:02<00:00, 28.94it/s]"
     ]
    },
    {
     "name": "stdout",
     "output_type": "stream",
     "text": [
      "Adjusting learning rate of group 0 to 1.0000e-02.\n",
      "Epoch 94\n",
      "Accuracy: 0.8715 | Train loss: 1.4563686330032348 | Valid loss: 0.4615521440982819\n"
     ]
    },
    {
     "name": "stderr",
     "output_type": "stream",
     "text": [
      "\n",
      "100%|██████████| 391/391 [00:23<00:00, 16.88it/s]\n",
      "100%|██████████| 79/79 [00:03<00:00, 20.35it/s]"
     ]
    },
    {
     "name": "stdout",
     "output_type": "stream",
     "text": [
      "Adjusting learning rate of group 0 to 1.0000e-02.\n",
      "Epoch 95\n",
      "Accuracy: 0.875 | Train loss: 1.4511290543746949 | Valid loss: 0.4390024739742279\n"
     ]
    },
    {
     "name": "stderr",
     "output_type": "stream",
     "text": [
      "\n",
      "100%|██████████| 391/391 [00:28<00:00, 13.73it/s]\n",
      "100%|██████████| 79/79 [00:02<00:00, 26.66it/s]\n"
     ]
    },
    {
     "name": "stdout",
     "output_type": "stream",
     "text": [
      "Adjusting learning rate of group 0 to 1.0000e-02.\n",
      "Epoch 96\n",
      "Accuracy: 0.8622 | Train loss: 1.4539307921218871 | Valid loss: 0.492607169342041\n"
     ]
    },
    {
     "name": "stderr",
     "output_type": "stream",
     "text": [
      "100%|██████████| 391/391 [00:23<00:00, 16.74it/s]\n",
      "100%|██████████| 79/79 [00:02<00:00, 30.38it/s]"
     ]
    },
    {
     "name": "stdout",
     "output_type": "stream",
     "text": [
      "Adjusting learning rate of group 0 to 1.0000e-02.\n",
      "Epoch 97\n",
      "Accuracy: 0.8698 | Train loss: 1.4614700790405273 | Valid loss: 0.4528697712898254\n"
     ]
    },
    {
     "name": "stderr",
     "output_type": "stream",
     "text": [
      "\n",
      "100%|██████████| 391/391 [00:24<00:00, 16.21it/s]\n",
      "100%|██████████| 79/79 [00:02<00:00, 33.34it/s]"
     ]
    },
    {
     "name": "stdout",
     "output_type": "stream",
     "text": [
      "Adjusting learning rate of group 0 to 1.0000e-02.\n",
      "Epoch 98\n",
      "Accuracy: 0.8721 | Train loss: 1.4578680799102783 | Valid loss: 0.4562162552833557\n"
     ]
    },
    {
     "name": "stderr",
     "output_type": "stream",
     "text": [
      "\n",
      "100%|██████████| 391/391 [00:23<00:00, 16.96it/s]\n",
      "100%|██████████| 79/79 [00:02<00:00, 34.04it/s]"
     ]
    },
    {
     "name": "stdout",
     "output_type": "stream",
     "text": [
      "Adjusting learning rate of group 0 to 1.0000e-02.\n",
      "Epoch 99\n",
      "Accuracy: 0.8737 | Train loss: 1.454938731689453 | Valid loss: 0.457194584941864\n"
     ]
    },
    {
     "name": "stderr",
     "output_type": "stream",
     "text": [
      "\n",
      "100%|██████████| 391/391 [00:24<00:00, 16.01it/s]\n",
      "100%|██████████| 79/79 [00:02<00:00, 27.69it/s]"
     ]
    },
    {
     "name": "stdout",
     "output_type": "stream",
     "text": [
      "Adjusting learning rate of group 0 to 1.0000e-02.\n",
      "Epoch 100\n",
      "Accuracy: 0.8749 | Train loss: 1.462174452934265 | Valid loss: 0.4261653784751892\n"
     ]
    },
    {
     "name": "stderr",
     "output_type": "stream",
     "text": [
      "\n",
      "100%|██████████| 391/391 [00:28<00:00, 13.70it/s]\n",
      "100%|██████████| 79/79 [00:02<00:00, 33.31it/s]"
     ]
    },
    {
     "name": "stdout",
     "output_type": "stream",
     "text": [
      "Adjusting learning rate of group 0 to 1.0000e-02.\n",
      "Epoch 101\n",
      "Accuracy: 0.8724 | Train loss: 1.4566146274566651 | Valid loss: 0.4306483284831047\n"
     ]
    },
    {
     "name": "stderr",
     "output_type": "stream",
     "text": [
      "\n",
      "100%|██████████| 391/391 [00:22<00:00, 17.69it/s]\n",
      "100%|██████████| 79/79 [00:02<00:00, 29.66it/s]"
     ]
    },
    {
     "name": "stdout",
     "output_type": "stream",
     "text": [
      "Adjusting learning rate of group 0 to 1.0000e-02.\n",
      "Epoch 102\n",
      "Accuracy: 0.8719 | Train loss: 1.45764461643219 | Valid loss: 0.4688887195587158\n"
     ]
    },
    {
     "name": "stderr",
     "output_type": "stream",
     "text": [
      "\n",
      "100%|██████████| 391/391 [00:23<00:00, 16.39it/s]\n",
      "100%|██████████| 79/79 [00:02<00:00, 31.25it/s]"
     ]
    },
    {
     "name": "stdout",
     "output_type": "stream",
     "text": [
      "Adjusting learning rate of group 0 to 1.0000e-02.\n",
      "Epoch 103\n",
      "Accuracy: 0.8696 | Train loss: 1.458063579788208 | Valid loss: 0.4514457100868225\n"
     ]
    },
    {
     "name": "stderr",
     "output_type": "stream",
     "text": [
      "\n",
      "100%|██████████| 391/391 [00:24<00:00, 15.95it/s]\n",
      "100%|██████████| 79/79 [00:02<00:00, 30.62it/s]"
     ]
    },
    {
     "name": "stdout",
     "output_type": "stream",
     "text": [
      "Adjusting learning rate of group 0 to 1.0000e-02.\n",
      "Epoch 104\n",
      "Accuracy: 0.8677 | Train loss: 1.4465420373916626 | Valid loss: 0.45002357625961303\n"
     ]
    },
    {
     "name": "stderr",
     "output_type": "stream",
     "text": [
      "\n",
      "100%|██████████| 391/391 [00:24<00:00, 15.98it/s]\n",
      "100%|██████████| 79/79 [00:02<00:00, 34.40it/s]\n"
     ]
    },
    {
     "name": "stdout",
     "output_type": "stream",
     "text": [
      "Adjusting learning rate of group 0 to 1.0000e-02.\n",
      "Epoch 105\n",
      "Accuracy: 0.878 | Train loss: 1.4679697858047485 | Valid loss: 0.40965341720581055\n"
     ]
    },
    {
     "name": "stderr",
     "output_type": "stream",
     "text": [
      "100%|██████████| 391/391 [00:28<00:00, 13.64it/s]\n",
      "100%|██████████| 79/79 [00:03<00:00, 20.29it/s]"
     ]
    },
    {
     "name": "stdout",
     "output_type": "stream",
     "text": [
      "Adjusting learning rate of group 0 to 1.0000e-02.\n",
      "Epoch 106\n",
      "Accuracy: 0.8404 | Train loss: 1.4531523852920532 | Valid loss: 0.5699550251483917\n"
     ]
    },
    {
     "name": "stderr",
     "output_type": "stream",
     "text": [
      "\n",
      "100%|██████████| 391/391 [00:24<00:00, 15.71it/s]\n",
      "100%|██████████| 79/79 [00:02<00:00, 32.98it/s]"
     ]
    },
    {
     "name": "stdout",
     "output_type": "stream",
     "text": [
      "Adjusting learning rate of group 0 to 1.0000e-02.\n",
      "Epoch 107\n",
      "Accuracy: 0.8589 | Train loss: 1.4538647959518434 | Valid loss: 0.4890398461341858\n"
     ]
    },
    {
     "name": "stderr",
     "output_type": "stream",
     "text": [
      "\n",
      "100%|██████████| 391/391 [00:22<00:00, 17.47it/s]\n",
      "100%|██████████| 79/79 [00:02<00:00, 30.97it/s]"
     ]
    },
    {
     "name": "stdout",
     "output_type": "stream",
     "text": [
      "Adjusting learning rate of group 0 to 1.0000e-02.\n",
      "Epoch 108\n",
      "Accuracy: 0.8707 | Train loss: 1.4627762517929077 | Valid loss: 0.4499023980140686\n"
     ]
    },
    {
     "name": "stderr",
     "output_type": "stream",
     "text": [
      "\n",
      "100%|██████████| 391/391 [00:22<00:00, 17.06it/s]\n",
      "100%|██████████| 79/79 [00:02<00:00, 35.17it/s]\n"
     ]
    },
    {
     "name": "stdout",
     "output_type": "stream",
     "text": [
      "Adjusting learning rate of group 0 to 1.0000e-02.\n",
      "Epoch 109\n",
      "Accuracy: 0.8677 | Train loss: 1.4542396138763427 | Valid loss: 0.4663334119796753\n"
     ]
    },
    {
     "name": "stderr",
     "output_type": "stream",
     "text": [
      "100%|██████████| 391/391 [00:22<00:00, 17.06it/s]\n",
      "100%|██████████| 79/79 [00:02<00:00, 34.13it/s]"
     ]
    },
    {
     "name": "stdout",
     "output_type": "stream",
     "text": [
      "Adjusting learning rate of group 0 to 1.0000e-02.\n",
      "Epoch 110\n",
      "Accuracy: 0.8749 | Train loss: 1.4487161077499389 | Valid loss: 0.4367157715320587\n"
     ]
    },
    {
     "name": "stderr",
     "output_type": "stream",
     "text": [
      "\n",
      "100%|██████████| 391/391 [00:23<00:00, 16.57it/s]\n",
      "100%|██████████| 79/79 [00:04<00:00, 17.77it/s]"
     ]
    },
    {
     "name": "stdout",
     "output_type": "stream",
     "text": [
      "Adjusting learning rate of group 0 to 1.0000e-02.\n",
      "Epoch 111\n",
      "Accuracy: 0.8707 | Train loss: 1.4573065018463134 | Valid loss: 0.4474979465484619\n"
     ]
    },
    {
     "name": "stderr",
     "output_type": "stream",
     "text": [
      "\n",
      "100%|██████████| 391/391 [00:26<00:00, 14.72it/s]\n",
      "100%|██████████| 79/79 [00:02<00:00, 29.65it/s]"
     ]
    },
    {
     "name": "stdout",
     "output_type": "stream",
     "text": [
      "Adjusting learning rate of group 0 to 1.0000e-02.\n",
      "Epoch 112\n",
      "Accuracy: 0.8778 | Train loss: 1.4668670462036133 | Valid loss: 0.42943150033950805\n"
     ]
    },
    {
     "name": "stderr",
     "output_type": "stream",
     "text": [
      "\n",
      "100%|██████████| 391/391 [00:22<00:00, 17.14it/s]\n",
      "100%|██████████| 79/79 [00:02<00:00, 34.37it/s]"
     ]
    },
    {
     "name": "stdout",
     "output_type": "stream",
     "text": [
      "Adjusting learning rate of group 0 to 1.0000e-02.\n",
      "Epoch 113\n",
      "Accuracy: 0.8765 | Train loss: 1.4512048748779296 | Valid loss: 0.4351240891456604\n"
     ]
    },
    {
     "name": "stderr",
     "output_type": "stream",
     "text": [
      "\n",
      "100%|██████████| 391/391 [00:22<00:00, 17.02it/s]\n",
      "100%|██████████| 79/79 [00:02<00:00, 32.43it/s]"
     ]
    },
    {
     "name": "stdout",
     "output_type": "stream",
     "text": [
      "Adjusting learning rate of group 0 to 1.0000e-02.\n",
      "Epoch 114\n",
      "Accuracy: 0.8592 | Train loss: 1.4480751175308229 | Valid loss: 0.48197796379327773\n"
     ]
    },
    {
     "name": "stderr",
     "output_type": "stream",
     "text": [
      "\n",
      "100%|██████████| 391/391 [00:23<00:00, 16.55it/s]\n",
      "100%|██████████| 79/79 [00:02<00:00, 29.66it/s]"
     ]
    },
    {
     "name": "stdout",
     "output_type": "stream",
     "text": [
      "Adjusting learning rate of group 0 to 1.0000e-02.\n",
      "Epoch 115\n",
      "Accuracy: 0.8668 | Train loss: 1.4555742918777466 | Valid loss: 0.46031029472351076\n"
     ]
    },
    {
     "name": "stderr",
     "output_type": "stream",
     "text": [
      "\n",
      "100%|██████████| 391/391 [00:22<00:00, 17.47it/s]\n",
      "100%|██████████| 79/79 [00:02<00:00, 32.62it/s]"
     ]
    },
    {
     "name": "stdout",
     "output_type": "stream",
     "text": [
      "Adjusting learning rate of group 0 to 1.0000e-02.\n",
      "Epoch 116\n",
      "Accuracy: 0.8552 | Train loss: 1.460204626312256 | Valid loss: 0.5071972789764404\n"
     ]
    },
    {
     "name": "stderr",
     "output_type": "stream",
     "text": [
      "\n",
      "100%|██████████| 391/391 [00:28<00:00, 13.93it/s]\n",
      "100%|██████████| 79/79 [00:03<00:00, 21.51it/s]\n"
     ]
    },
    {
     "name": "stdout",
     "output_type": "stream",
     "text": [
      "Adjusting learning rate of group 0 to 1.0000e-02.\n",
      "Epoch 117\n",
      "Accuracy: 0.8732 | Train loss: 1.4583174825286864 | Valid loss: 0.4361868668317795\n"
     ]
    },
    {
     "name": "stderr",
     "output_type": "stream",
     "text": [
      "100%|██████████| 391/391 [00:23<00:00, 16.78it/s]\n",
      "100%|██████████| 79/79 [00:02<00:00, 34.23it/s]"
     ]
    },
    {
     "name": "stdout",
     "output_type": "stream",
     "text": [
      "Adjusting learning rate of group 0 to 1.0000e-02.\n",
      "Epoch 118\n",
      "Accuracy: 0.8722 | Train loss: 1.4553443015289307 | Valid loss: 0.4530606694459915\n"
     ]
    },
    {
     "name": "stderr",
     "output_type": "stream",
     "text": [
      "\n",
      "100%|██████████| 391/391 [00:22<00:00, 17.26it/s]\n",
      "100%|██████████| 79/79 [00:02<00:00, 35.53it/s]"
     ]
    },
    {
     "name": "stdout",
     "output_type": "stream",
     "text": [
      "Adjusting learning rate of group 0 to 1.0000e-02.\n",
      "Epoch 119\n",
      "Accuracy: 0.8759 | Train loss: 1.453363445930481 | Valid loss: 0.42227767610549927\n"
     ]
    },
    {
     "name": "stderr",
     "output_type": "stream",
     "text": [
      "\n",
      "100%|██████████| 391/391 [00:22<00:00, 17.15it/s]\n",
      "100%|██████████| 79/79 [00:02<00:00, 30.52it/s]"
     ]
    },
    {
     "name": "stdout",
     "output_type": "stream",
     "text": [
      "Adjusting learning rate of group 0 to 1.0000e-02.\n",
      "Epoch 120\n",
      "Accuracy: 0.8654 | Train loss: 1.4594427587890626 | Valid loss: 0.48647419939041137\n"
     ]
    },
    {
     "name": "stderr",
     "output_type": "stream",
     "text": [
      "\n",
      "100%|██████████| 391/391 [00:21<00:00, 17.90it/s]\n",
      "100%|██████████| 79/79 [00:02<00:00, 26.50it/s]"
     ]
    },
    {
     "name": "stdout",
     "output_type": "stream",
     "text": [
      "Adjusting learning rate of group 0 to 1.0000e-02.\n",
      "Epoch 121\n",
      "Accuracy: 0.8592 | Train loss: 1.4557619005203246 | Valid loss: 0.5132104122161866\n"
     ]
    },
    {
     "name": "stderr",
     "output_type": "stream",
     "text": [
      "\n",
      "100%|██████████| 391/391 [00:24<00:00, 16.24it/s]\n",
      "100%|██████████| 79/79 [00:03<00:00, 21.83it/s]"
     ]
    },
    {
     "name": "stdout",
     "output_type": "stream",
     "text": [
      "Adjusting learning rate of group 0 to 1.0000e-02.\n",
      "Epoch 122\n",
      "Accuracy: 0.8624 | Train loss: 1.4451940705108643 | Valid loss: 0.47675495772361753\n"
     ]
    },
    {
     "name": "stderr",
     "output_type": "stream",
     "text": [
      "\n",
      "100%|██████████| 391/391 [00:27<00:00, 13.98it/s]\n",
      "100%|██████████| 79/79 [00:02<00:00, 32.44it/s]"
     ]
    },
    {
     "name": "stdout",
     "output_type": "stream",
     "text": [
      "Adjusting learning rate of group 0 to 1.0000e-02.\n",
      "Epoch 123\n",
      "Accuracy: 0.8522 | Train loss: 1.4605614260482789 | Valid loss: 0.5291010647296905\n"
     ]
    },
    {
     "name": "stderr",
     "output_type": "stream",
     "text": [
      "\n",
      "100%|██████████| 391/391 [00:22<00:00, 17.35it/s]\n",
      "100%|██████████| 79/79 [00:02<00:00, 29.72it/s]"
     ]
    },
    {
     "name": "stdout",
     "output_type": "stream",
     "text": [
      "Adjusting learning rate of group 0 to 1.0000e-02.\n",
      "Epoch 124\n",
      "Accuracy: 0.8624 | Train loss: 1.44694281124115 | Valid loss: 0.5043749778747558\n"
     ]
    },
    {
     "name": "stderr",
     "output_type": "stream",
     "text": [
      "\n",
      "100%|██████████| 391/391 [00:22<00:00, 17.15it/s]\n",
      "100%|██████████| 79/79 [00:02<00:00, 35.91it/s]"
     ]
    },
    {
     "name": "stdout",
     "output_type": "stream",
     "text": [
      "Adjusting learning rate of group 0 to 1.0000e-02.\n",
      "Epoch 125\n",
      "Accuracy: 0.8781 | Train loss: 1.4623797646331786 | Valid loss: 0.418309218454361\n"
     ]
    },
    {
     "name": "stderr",
     "output_type": "stream",
     "text": [
      "\n",
      "100%|██████████| 391/391 [00:22<00:00, 17.73it/s]\n",
      "100%|██████████| 79/79 [00:02<00:00, 27.68it/s]"
     ]
    },
    {
     "name": "stdout",
     "output_type": "stream",
     "text": [
      "Adjusting learning rate of group 0 to 1.0000e-02.\n",
      "Epoch 126\n",
      "Accuracy: 0.8728 | Train loss: 1.4489954662704467 | Valid loss: 0.4432024876356125\n"
     ]
    },
    {
     "name": "stderr",
     "output_type": "stream",
     "text": [
      "\n",
      "100%|██████████| 391/391 [00:21<00:00, 17.97it/s]\n",
      "100%|██████████| 79/79 [00:02<00:00, 35.57it/s]\n"
     ]
    },
    {
     "name": "stdout",
     "output_type": "stream",
     "text": [
      "Adjusting learning rate of group 0 to 1.0000e-02.\n",
      "Epoch 127\n",
      "Accuracy: 0.853 | Train loss: 1.456100567779541 | Valid loss: 0.52225290350914\n"
     ]
    },
    {
     "name": "stderr",
     "output_type": "stream",
     "text": [
      "100%|██████████| 391/391 [00:27<00:00, 14.23it/s]\n",
      "100%|██████████| 79/79 [00:03<00:00, 22.71it/s]"
     ]
    },
    {
     "name": "stdout",
     "output_type": "stream",
     "text": [
      "Adjusting learning rate of group 0 to 1.0000e-02.\n",
      "Epoch 128\n",
      "Accuracy: 0.8698 | Train loss: 1.4481241052246094 | Valid loss: 0.46386630644798277\n"
     ]
    },
    {
     "name": "stderr",
     "output_type": "stream",
     "text": [
      "\n",
      "100%|██████████| 391/391 [00:24<00:00, 15.70it/s]\n",
      "100%|██████████| 79/79 [00:02<00:00, 28.55it/s]"
     ]
    },
    {
     "name": "stdout",
     "output_type": "stream",
     "text": [
      "Adjusting learning rate of group 0 to 1.0000e-02.\n",
      "Epoch 129\n",
      "Accuracy: 0.87 | Train loss: 1.4549949206161499 | Valid loss: 0.4572920751571655\n"
     ]
    },
    {
     "name": "stderr",
     "output_type": "stream",
     "text": [
      "\n",
      "100%|██████████| 391/391 [00:23<00:00, 16.82it/s]\n",
      "100%|██████████| 79/79 [00:02<00:00, 35.12it/s]"
     ]
    },
    {
     "name": "stdout",
     "output_type": "stream",
     "text": [
      "Adjusting learning rate of group 0 to 1.0000e-02.\n",
      "Epoch 130\n",
      "Accuracy: 0.8697 | Train loss: 1.456803493423462 | Valid loss: 0.44901716833114624\n"
     ]
    },
    {
     "name": "stderr",
     "output_type": "stream",
     "text": [
      "\n",
      "100%|██████████| 391/391 [00:23<00:00, 16.98it/s]\n",
      "100%|██████████| 79/79 [00:02<00:00, 33.08it/s]"
     ]
    },
    {
     "name": "stdout",
     "output_type": "stream",
     "text": [
      "Adjusting learning rate of group 0 to 1.0000e-02.\n",
      "Epoch 131\n",
      "Accuracy: 0.8705 | Train loss: 1.449252235069275 | Valid loss: 0.4551506029129028\n"
     ]
    },
    {
     "name": "stderr",
     "output_type": "stream",
     "text": [
      "\n",
      "100%|██████████| 391/391 [00:22<00:00, 17.15it/s]\n",
      "100%|██████████| 79/79 [00:02<00:00, 26.40it/s]"
     ]
    },
    {
     "name": "stdout",
     "output_type": "stream",
     "text": [
      "Adjusting learning rate of group 0 to 1.0000e-03.\n",
      "Epoch 132\n",
      "Accuracy: 0.8618 | Train loss: 1.4442706924438478 | Valid loss: 0.5151310690879822\n"
     ]
    },
    {
     "name": "stderr",
     "output_type": "stream",
     "text": [
      "\n",
      "100%|██████████| 391/391 [00:25<00:00, 15.21it/s]\n",
      "100%|██████████| 79/79 [00:03<00:00, 20.14it/s]"
     ]
    },
    {
     "name": "stdout",
     "output_type": "stream",
     "text": [
      "Adjusting learning rate of group 0 to 1.0000e-03.\n",
      "Epoch 133\n",
      "Accuracy: 0.8941 | Train loss: 1.3128188554763793 | Valid loss: 0.3674096836566925\n",
      "YES\n"
     ]
    },
    {
     "name": "stderr",
     "output_type": "stream",
     "text": [
      "\n",
      "100%|██████████| 391/391 [00:29<00:00, 13.15it/s]\n",
      "100%|██████████| 79/79 [00:02<00:00, 32.90it/s]"
     ]
    },
    {
     "name": "stdout",
     "output_type": "stream",
     "text": [
      "Adjusting learning rate of group 0 to 1.0000e-03.\n",
      "Epoch 134\n",
      "Accuracy: 0.8923 | Train loss: 1.2769666068649292 | Valid loss: 0.36535610210895536\n"
     ]
    },
    {
     "name": "stderr",
     "output_type": "stream",
     "text": [
      "\n",
      "100%|██████████| 391/391 [00:25<00:00, 15.56it/s]\n",
      "100%|██████████| 79/79 [00:02<00:00, 33.19it/s]"
     ]
    },
    {
     "name": "stdout",
     "output_type": "stream",
     "text": [
      "Adjusting learning rate of group 0 to 1.0000e-03.\n",
      "Epoch 135\n",
      "Accuracy: 0.8919 | Train loss: 1.2607534320259095 | Valid loss: 0.3682646331310272\n"
     ]
    },
    {
     "name": "stderr",
     "output_type": "stream",
     "text": [
      "\n",
      "100%|██████████| 391/391 [00:23<00:00, 16.95it/s]\n",
      "100%|██████████| 79/79 [00:02<00:00, 34.40it/s]"
     ]
    },
    {
     "name": "stdout",
     "output_type": "stream",
     "text": [
      "Adjusting learning rate of group 0 to 1.0000e-03.\n",
      "Epoch 136\n",
      "Accuracy: 0.8937 | Train loss: 1.2579464547729493 | Valid loss: 0.3703447157382965\n"
     ]
    },
    {
     "name": "stderr",
     "output_type": "stream",
     "text": [
      "\n",
      "100%|██████████| 391/391 [00:23<00:00, 16.59it/s]\n",
      "100%|██████████| 79/79 [00:02<00:00, 28.57it/s]\n"
     ]
    },
    {
     "name": "stdout",
     "output_type": "stream",
     "text": [
      "Adjusting learning rate of group 0 to 1.0000e-03.\n",
      "Epoch 137\n",
      "Accuracy: 0.8948 | Train loss: 1.250980763092041 | Valid loss: 0.3608965449333191\n",
      "YES\n"
     ]
    },
    {
     "name": "stderr",
     "output_type": "stream",
     "text": [
      "100%|██████████| 391/391 [00:23<00:00, 16.66it/s]\n",
      "100%|██████████| 79/79 [00:02<00:00, 27.64it/s]"
     ]
    },
    {
     "name": "stdout",
     "output_type": "stream",
     "text": [
      "Adjusting learning rate of group 0 to 1.0000e-03.\n",
      "Epoch 138\n",
      "Accuracy: 0.894 | Train loss: 1.2460487007904053 | Valid loss: 0.3580980136394501\n"
     ]
    },
    {
     "name": "stderr",
     "output_type": "stream",
     "text": [
      "\n",
      "100%|██████████| 391/391 [00:22<00:00, 17.19it/s]\n",
      "100%|██████████| 79/79 [00:02<00:00, 34.92it/s]"
     ]
    },
    {
     "name": "stdout",
     "output_type": "stream",
     "text": [
      "Adjusting learning rate of group 0 to 1.0000e-03.\n",
      "Epoch 139\n",
      "Accuracy: 0.893 | Train loss: 1.2408249195861816 | Valid loss: 0.363515816116333\n"
     ]
    },
    {
     "name": "stderr",
     "output_type": "stream",
     "text": [
      "\n",
      "100%|██████████| 391/391 [00:22<00:00, 17.20it/s]\n",
      "100%|██████████| 79/79 [00:02<00:00, 28.27it/s]"
     ]
    },
    {
     "name": "stdout",
     "output_type": "stream",
     "text": [
      "Adjusting learning rate of group 0 to 1.0000e-03.\n",
      "Epoch 140\n",
      "Accuracy: 0.8971 | Train loss: 1.2434231605911255 | Valid loss: 0.35819362058639526\n",
      "YES\n"
     ]
    },
    {
     "name": "stderr",
     "output_type": "stream",
     "text": [
      "\n",
      "100%|██████████| 391/391 [00:22<00:00, 17.05it/s]\n",
      "100%|██████████| 79/79 [00:02<00:00, 34.65it/s]\n"
     ]
    },
    {
     "name": "stdout",
     "output_type": "stream",
     "text": [
      "Adjusting learning rate of group 0 to 1.0000e-03.\n",
      "Epoch 141\n",
      "Accuracy: 0.8944 | Train loss: 1.235989807395935 | Valid loss: 0.3644328718662262\n"
     ]
    },
    {
     "name": "stderr",
     "output_type": "stream",
     "text": [
      "100%|██████████| 391/391 [00:22<00:00, 17.18it/s]\n",
      "100%|██████████| 79/79 [00:02<00:00, 28.65it/s]"
     ]
    },
    {
     "name": "stdout",
     "output_type": "stream",
     "text": [
      "Adjusting learning rate of group 0 to 1.0000e-03.\n",
      "Epoch 142\n",
      "Accuracy: 0.8935 | Train loss: 1.2352693390274048 | Valid loss: 0.35804956834316254\n"
     ]
    },
    {
     "name": "stderr",
     "output_type": "stream",
     "text": [
      "\n",
      "100%|██████████| 391/391 [00:22<00:00, 17.23it/s]\n",
      "100%|██████████| 79/79 [00:03<00:00, 20.83it/s]"
     ]
    },
    {
     "name": "stdout",
     "output_type": "stream",
     "text": [
      "Adjusting learning rate of group 0 to 1.0000e-03.\n",
      "Epoch 143\n",
      "Accuracy: 0.8948 | Train loss: 1.2339738005828857 | Valid loss: 0.36460878248214723\n"
     ]
    },
    {
     "name": "stderr",
     "output_type": "stream",
     "text": [
      "\n",
      "100%|██████████| 391/391 [00:29<00:00, 13.24it/s]\n",
      "100%|██████████| 79/79 [00:02<00:00, 29.54it/s]"
     ]
    },
    {
     "name": "stdout",
     "output_type": "stream",
     "text": [
      "Adjusting learning rate of group 0 to 1.0000e-03.\n",
      "Epoch 144\n",
      "Accuracy: 0.8938 | Train loss: 1.235817244567871 | Valid loss: 0.3623934335708618\n"
     ]
    },
    {
     "name": "stderr",
     "output_type": "stream",
     "text": [
      "\n",
      "100%|██████████| 391/391 [00:23<00:00, 16.74it/s]\n",
      "100%|██████████| 79/79 [00:02<00:00, 34.00it/s]"
     ]
    },
    {
     "name": "stdout",
     "output_type": "stream",
     "text": [
      "Adjusting learning rate of group 0 to 1.0000e-03.\n",
      "Epoch 145\n",
      "Accuracy: 0.8929 | Train loss: 1.2292281300354004 | Valid loss: 0.36620391297340393\n"
     ]
    },
    {
     "name": "stderr",
     "output_type": "stream",
     "text": [
      "\n",
      "100%|██████████| 391/391 [00:22<00:00, 17.28it/s]\n",
      "100%|██████████| 79/79 [00:02<00:00, 34.23it/s]"
     ]
    },
    {
     "name": "stdout",
     "output_type": "stream",
     "text": [
      "Adjusting learning rate of group 0 to 1.0000e-03.\n",
      "Epoch 146\n",
      "Accuracy: 0.8946 | Train loss: 1.2234483070373534 | Valid loss: 0.362254775762558\n"
     ]
    },
    {
     "name": "stderr",
     "output_type": "stream",
     "text": [
      "\n",
      "100%|██████████| 391/391 [00:22<00:00, 17.41it/s]\n",
      "100%|██████████| 79/79 [00:02<00:00, 28.96it/s]"
     ]
    },
    {
     "name": "stdout",
     "output_type": "stream",
     "text": [
      "Adjusting learning rate of group 0 to 1.0000e-03.\n",
      "Epoch 147\n",
      "Accuracy: 0.8955 | Train loss: 1.2237197128295898 | Valid loss: 0.3596883786201477\n"
     ]
    },
    {
     "name": "stderr",
     "output_type": "stream",
     "text": [
      "\n",
      "100%|██████████| 391/391 [00:22<00:00, 17.02it/s]\n",
      "100%|██████████| 79/79 [00:02<00:00, 34.20it/s]"
     ]
    },
    {
     "name": "stdout",
     "output_type": "stream",
     "text": [
      "Adjusting learning rate of group 0 to 1.0000e-03.\n",
      "Epoch 148\n",
      "Accuracy: 0.8941 | Train loss: 1.222674441204071 | Valid loss: 0.36415909276008607\n"
     ]
    },
    {
     "name": "stderr",
     "output_type": "stream",
     "text": [
      "\n",
      "100%|██████████| 391/391 [00:23<00:00, 16.96it/s]\n",
      "100%|██████████| 79/79 [00:02<00:00, 33.42it/s]"
     ]
    },
    {
     "name": "stdout",
     "output_type": "stream",
     "text": [
      "Adjusting learning rate of group 0 to 1.0000e-03.\n",
      "Epoch 149\n",
      "Accuracy: 0.8925 | Train loss: 1.2226631604003906 | Valid loss: 0.3635714005947113\n"
     ]
    },
    {
     "name": "stderr",
     "output_type": "stream",
     "text": [
      "\n",
      "100%|██████████| 391/391 [00:23<00:00, 16.78it/s]\n",
      "100%|██████████| 79/79 [00:02<00:00, 30.73it/s]"
     ]
    },
    {
     "name": "stdout",
     "output_type": "stream",
     "text": [
      "Adjusting learning rate of group 0 to 1.0000e-03.\n",
      "Epoch 150\n",
      "Accuracy: 0.8941 | Train loss: 1.2207009065628052 | Valid loss: 0.36007177720069883\n"
     ]
    },
    {
     "name": "stderr",
     "output_type": "stream",
     "text": [
      "\n",
      "100%|██████████| 391/391 [00:22<00:00, 17.26it/s]\n",
      "100%|██████████| 79/79 [00:02<00:00, 32.32it/s]\n"
     ]
    },
    {
     "name": "stdout",
     "output_type": "stream",
     "text": [
      "Adjusting learning rate of group 0 to 1.0000e-03.\n",
      "Epoch 151\n",
      "Accuracy: 0.8955 | Train loss: 1.220209896736145 | Valid loss: 0.3585992887973785\n"
     ]
    },
    {
     "name": "stderr",
     "output_type": "stream",
     "text": [
      "100%|██████████| 391/391 [00:22<00:00, 17.44it/s]\n",
      "100%|██████████| 79/79 [00:02<00:00, 35.08it/s]"
     ]
    },
    {
     "name": "stdout",
     "output_type": "stream",
     "text": [
      "Adjusting learning rate of group 0 to 1.0000e-03.\n",
      "Epoch 152\n",
      "Accuracy: 0.8934 | Train loss: 1.2198136115646363 | Valid loss: 0.3696607421875\n"
     ]
    },
    {
     "name": "stderr",
     "output_type": "stream",
     "text": [
      "\n",
      "100%|██████████| 391/391 [00:22<00:00, 17.04it/s]\n",
      "100%|██████████| 79/79 [00:02<00:00, 35.42it/s]"
     ]
    },
    {
     "name": "stdout",
     "output_type": "stream",
     "text": [
      "Adjusting learning rate of group 0 to 1.0000e-03.\n",
      "Epoch 153\n",
      "Accuracy: 0.8937 | Train loss: 1.2166697240066529 | Valid loss: 0.36516737990379333\n"
     ]
    },
    {
     "name": "stderr",
     "output_type": "stream",
     "text": [
      "\n",
      "100%|██████████| 391/391 [00:29<00:00, 13.48it/s]\n",
      "100%|██████████| 79/79 [00:03<00:00, 22.31it/s]"
     ]
    },
    {
     "name": "stdout",
     "output_type": "stream",
     "text": [
      "Adjusting learning rate of group 0 to 1.0000e-03.\n",
      "Epoch 154\n",
      "Accuracy: 0.8937 | Train loss: 1.2197557697677612 | Valid loss: 0.3724964757919311\n"
     ]
    },
    {
     "name": "stderr",
     "output_type": "stream",
     "text": [
      "\n",
      "100%|██████████| 391/391 [00:25<00:00, 15.45it/s]\n",
      "100%|██████████| 79/79 [00:02<00:00, 29.30it/s]\n"
     ]
    },
    {
     "name": "stdout",
     "output_type": "stream",
     "text": [
      "Adjusting learning rate of group 0 to 1.0000e-03.\n",
      "Epoch 155\n",
      "Accuracy: 0.8959 | Train loss: 1.2247838777542115 | Valid loss: 0.3600522777557373\n"
     ]
    },
    {
     "name": "stderr",
     "output_type": "stream",
     "text": [
      "100%|██████████| 391/391 [00:22<00:00, 17.70it/s]\n",
      "100%|██████████| 79/79 [00:02<00:00, 34.39it/s]"
     ]
    },
    {
     "name": "stdout",
     "output_type": "stream",
     "text": [
      "Adjusting learning rate of group 0 to 1.0000e-03.\n",
      "Epoch 156\n",
      "Accuracy: 0.8944 | Train loss: 1.2149718524551392 | Valid loss: 0.3619368604183197\n"
     ]
    },
    {
     "name": "stderr",
     "output_type": "stream",
     "text": [
      "\n",
      "100%|██████████| 391/391 [00:22<00:00, 17.31it/s]\n",
      "100%|██████████| 79/79 [00:02<00:00, 35.00it/s]"
     ]
    },
    {
     "name": "stdout",
     "output_type": "stream",
     "text": [
      "Adjusting learning rate of group 0 to 1.0000e-03.\n",
      "Epoch 157\n",
      "Accuracy: 0.8955 | Train loss: 1.2133294874954224 | Valid loss: 0.36205226082801817\n"
     ]
    },
    {
     "name": "stderr",
     "output_type": "stream",
     "text": [
      "\n",
      "100%|██████████| 391/391 [00:22<00:00, 17.23it/s]\n",
      "100%|██████████| 79/79 [00:02<00:00, 31.55it/s]"
     ]
    },
    {
     "name": "stdout",
     "output_type": "stream",
     "text": [
      "Adjusting learning rate of group 0 to 1.0000e-03.\n",
      "Epoch 158\n",
      "Accuracy: 0.8939 | Train loss: 1.2136872959136964 | Valid loss: 0.36702404351234436\n"
     ]
    },
    {
     "name": "stderr",
     "output_type": "stream",
     "text": [
      "\n",
      "100%|██████████| 391/391 [00:21<00:00, 17.81it/s]\n",
      "100%|██████████| 79/79 [00:02<00:00, 27.34it/s]"
     ]
    },
    {
     "name": "stdout",
     "output_type": "stream",
     "text": [
      "Adjusting learning rate of group 0 to 1.0000e-03.\n",
      "Epoch 159\n",
      "Accuracy: 0.8947 | Train loss: 1.2097256575012207 | Valid loss: 0.3662039174079895\n"
     ]
    },
    {
     "name": "stderr",
     "output_type": "stream",
     "text": [
      "\n",
      "100%|██████████| 391/391 [00:22<00:00, 17.06it/s]\n",
      "100%|██████████| 79/79 [00:02<00:00, 34.72it/s]"
     ]
    },
    {
     "name": "stdout",
     "output_type": "stream",
     "text": [
      "Adjusting learning rate of group 0 to 1.0000e-03.\n",
      "Epoch 160\n",
      "Accuracy: 0.8942 | Train loss: 1.2160410380554199 | Valid loss: 0.3694980230331421\n"
     ]
    },
    {
     "name": "stderr",
     "output_type": "stream",
     "text": [
      "\n",
      "100%|██████████| 391/391 [00:22<00:00, 17.08it/s]\n",
      "100%|██████████| 79/79 [00:02<00:00, 29.08it/s]"
     ]
    },
    {
     "name": "stdout",
     "output_type": "stream",
     "text": [
      "Adjusting learning rate of group 0 to 1.0000e-03.\n",
      "Epoch 161\n",
      "Accuracy: 0.8922 | Train loss: 1.2078663946914674 | Valid loss: 0.36663564138412474\n"
     ]
    },
    {
     "name": "stderr",
     "output_type": "stream",
     "text": [
      "\n",
      "100%|██████████| 391/391 [00:22<00:00, 17.45it/s]\n",
      "100%|██████████| 79/79 [00:02<00:00, 35.26it/s]"
     ]
    },
    {
     "name": "stdout",
     "output_type": "stream",
     "text": [
      "Adjusting learning rate of group 0 to 1.0000e-03.\n",
      "Epoch 162\n",
      "Accuracy: 0.8951 | Train loss: 1.2088774798965454 | Valid loss: 0.36349221415519717\n"
     ]
    },
    {
     "name": "stderr",
     "output_type": "stream",
     "text": [
      "\n",
      "100%|██████████| 391/391 [00:22<00:00, 17.52it/s]\n",
      "100%|██████████| 79/79 [00:02<00:00, 33.83it/s]"
     ]
    },
    {
     "name": "stdout",
     "output_type": "stream",
     "text": [
      "Adjusting learning rate of group 0 to 1.0000e-03.\n",
      "Epoch 163\n",
      "Accuracy: 0.8944 | Train loss: 1.212663652496338 | Valid loss: 0.3637817650794983\n"
     ]
    },
    {
     "name": "stderr",
     "output_type": "stream",
     "text": [
      "\n",
      "100%|██████████| 391/391 [00:24<00:00, 16.08it/s]\n",
      "100%|██████████| 79/79 [00:03<00:00, 21.43it/s]"
     ]
    },
    {
     "name": "stdout",
     "output_type": "stream",
     "text": [
      "Adjusting learning rate of group 0 to 1.0000e-03.\n",
      "Epoch 164\n",
      "Accuracy: 0.8937 | Train loss: 1.2039389461517334 | Valid loss: 0.3642935595035553\n"
     ]
    },
    {
     "name": "stderr",
     "output_type": "stream",
     "text": [
      "\n",
      "100%|██████████| 391/391 [00:29<00:00, 13.34it/s]\n",
      "100%|██████████| 79/79 [00:02<00:00, 27.65it/s]"
     ]
    },
    {
     "name": "stdout",
     "output_type": "stream",
     "text": [
      "Adjusting learning rate of group 0 to 1.0000e-03.\n",
      "Epoch 165\n",
      "Accuracy: 0.8942 | Train loss: 1.2034868618392944 | Valid loss: 0.3598230676651001\n"
     ]
    },
    {
     "name": "stderr",
     "output_type": "stream",
     "text": [
      "\n",
      "100%|██████████| 391/391 [00:22<00:00, 17.20it/s]\n",
      "100%|██████████| 79/79 [00:02<00:00, 33.98it/s]"
     ]
    },
    {
     "name": "stdout",
     "output_type": "stream",
     "text": [
      "Adjusting learning rate of group 0 to 1.0000e-03.\n",
      "Epoch 166\n",
      "Accuracy: 0.8964 | Train loss: 1.2079791135787963 | Valid loss: 0.36208615341186523\n"
     ]
    },
    {
     "name": "stderr",
     "output_type": "stream",
     "text": [
      "\n",
      "100%|██████████| 391/391 [00:21<00:00, 17.90it/s]\n",
      "100%|██████████| 79/79 [00:02<00:00, 27.13it/s]"
     ]
    },
    {
     "name": "stdout",
     "output_type": "stream",
     "text": [
      "Adjusting learning rate of group 0 to 1.0000e-03.\n",
      "Epoch 167\n",
      "Accuracy: 0.8928 | Train loss: 1.2075090739822387 | Valid loss: 0.3655889443397522\n"
     ]
    },
    {
     "name": "stderr",
     "output_type": "stream",
     "text": [
      "\n",
      "100%|██████████| 391/391 [00:21<00:00, 17.91it/s]\n",
      "100%|██████████| 79/79 [00:02<00:00, 35.20it/s]"
     ]
    },
    {
     "name": "stdout",
     "output_type": "stream",
     "text": [
      "Adjusting learning rate of group 0 to 1.0000e-03.\n",
      "Epoch 168\n",
      "Accuracy: 0.8932 | Train loss: 1.2012581756210328 | Valid loss: 0.3637892292022705\n"
     ]
    },
    {
     "name": "stderr",
     "output_type": "stream",
     "text": [
      "\n",
      "100%|██████████| 391/391 [00:23<00:00, 16.97it/s]\n",
      "100%|██████████| 79/79 [00:02<00:00, 30.78it/s]"
     ]
    },
    {
     "name": "stdout",
     "output_type": "stream",
     "text": [
      "Adjusting learning rate of group 0 to 1.0000e-03.\n",
      "Epoch 169\n",
      "Accuracy: 0.8929 | Train loss: 1.2005584756469727 | Valid loss: 0.3669009956359863\n"
     ]
    },
    {
     "name": "stderr",
     "output_type": "stream",
     "text": [
      "\n",
      "100%|██████████| 391/391 [00:21<00:00, 17.91it/s]\n",
      "100%|██████████| 79/79 [00:02<00:00, 36.14it/s]"
     ]
    },
    {
     "name": "stdout",
     "output_type": "stream",
     "text": [
      "Adjusting learning rate of group 0 to 1.0000e-03.\n",
      "Epoch 170\n",
      "Accuracy: 0.8948 | Train loss: 1.201174807472229 | Valid loss: 0.3630205909729004\n"
     ]
    },
    {
     "name": "stderr",
     "output_type": "stream",
     "text": [
      "\n",
      "100%|██████████| 391/391 [00:23<00:00, 16.87it/s]\n",
      "100%|██████████| 79/79 [00:02<00:00, 35.16it/s]"
     ]
    },
    {
     "name": "stdout",
     "output_type": "stream",
     "text": [
      "Adjusting learning rate of group 0 to 1.0000e-03.\n",
      "Epoch 171\n",
      "Accuracy: 0.8942 | Train loss: 1.2042155499267577 | Valid loss: 0.36071900362968445\n"
     ]
    },
    {
     "name": "stderr",
     "output_type": "stream",
     "text": [
      "\n",
      "100%|██████████| 391/391 [00:22<00:00, 17.06it/s]\n",
      "100%|██████████| 79/79 [00:02<00:00, 28.65it/s]"
     ]
    },
    {
     "name": "stdout",
     "output_type": "stream",
     "text": [
      "Adjusting learning rate of group 0 to 1.0000e-03.\n",
      "Epoch 172\n",
      "Accuracy: 0.8944 | Train loss: 1.200637116317749 | Valid loss: 0.36409578919410707\n"
     ]
    },
    {
     "name": "stderr",
     "output_type": "stream",
     "text": [
      "\n",
      "100%|██████████| 391/391 [00:22<00:00, 17.26it/s]\n",
      "100%|██████████| 79/79 [00:02<00:00, 35.55it/s]\n"
     ]
    },
    {
     "name": "stdout",
     "output_type": "stream",
     "text": [
      "Adjusting learning rate of group 0 to 1.0000e-03.\n",
      "Epoch 173\n",
      "Accuracy: 0.8916 | Train loss: 1.2072845294952392 | Valid loss: 0.369783136510849\n"
     ]
    },
    {
     "name": "stderr",
     "output_type": "stream",
     "text": [
      "100%|██████████| 391/391 [00:22<00:00, 17.54it/s]\n",
      "100%|██████████| 79/79 [00:02<00:00, 31.09it/s]\n"
     ]
    },
    {
     "name": "stdout",
     "output_type": "stream",
     "text": [
      "Adjusting learning rate of group 0 to 1.0000e-03.\n",
      "Epoch 174\n",
      "Accuracy: 0.8935 | Train loss: 1.2009292221450805 | Valid loss: 0.35974010255336764\n"
     ]
    },
    {
     "name": "stderr",
     "output_type": "stream",
     "text": [
      "100%|██████████| 391/391 [00:27<00:00, 14.37it/s]\n",
      "100%|██████████| 79/79 [00:03<00:00, 23.64it/s]"
     ]
    },
    {
     "name": "stdout",
     "output_type": "stream",
     "text": [
      "Adjusting learning rate of group 0 to 1.0000e-03.\n",
      "Epoch 175\n",
      "Accuracy: 0.8931 | Train loss: 1.1944147814559936 | Valid loss: 0.3688544098854065\n"
     ]
    },
    {
     "name": "stderr",
     "output_type": "stream",
     "text": [
      "\n",
      "100%|██████████| 391/391 [00:27<00:00, 14.27it/s]\n",
      "100%|██████████| 79/79 [00:02<00:00, 29.31it/s]"
     ]
    },
    {
     "name": "stdout",
     "output_type": "stream",
     "text": [
      "Adjusting learning rate of group 0 to 1.0000e-03.\n",
      "Epoch 176\n",
      "Accuracy: 0.892 | Train loss: 1.1947657234954834 | Valid loss: 0.3680252477169037\n"
     ]
    },
    {
     "name": "stderr",
     "output_type": "stream",
     "text": [
      "\n",
      "100%|██████████| 391/391 [00:22<00:00, 17.32it/s]\n",
      "100%|██████████| 79/79 [00:02<00:00, 34.85it/s]"
     ]
    },
    {
     "name": "stdout",
     "output_type": "stream",
     "text": [
      "Adjusting learning rate of group 0 to 1.0000e-03.\n",
      "Epoch 177\n",
      "Accuracy: 0.8937 | Train loss: 1.2034832590103148 | Valid loss: 0.369477618932724\n"
     ]
    },
    {
     "name": "stderr",
     "output_type": "stream",
     "text": [
      "\n",
      "100%|██████████| 391/391 [00:22<00:00, 17.68it/s]\n",
      "100%|██████████| 79/79 [00:03<00:00, 26.22it/s]"
     ]
    },
    {
     "name": "stdout",
     "output_type": "stream",
     "text": [
      "Adjusting learning rate of group 0 to 1.0000e-03.\n",
      "Epoch 178\n",
      "Accuracy: 0.8941 | Train loss: 1.201838476638794 | Valid loss: 0.3671757544994354\n"
     ]
    },
    {
     "name": "stderr",
     "output_type": "stream",
     "text": [
      "\n",
      "100%|██████████| 391/391 [00:22<00:00, 17.61it/s]\n",
      "100%|██████████| 79/79 [00:02<00:00, 33.28it/s]"
     ]
    },
    {
     "name": "stdout",
     "output_type": "stream",
     "text": [
      "Adjusting learning rate of group 0 to 1.0000e-03.\n",
      "Epoch 179\n",
      "Accuracy: 0.8909 | Train loss: 1.1994615476226806 | Valid loss: 0.3680688755989075\n"
     ]
    },
    {
     "name": "stderr",
     "output_type": "stream",
     "text": [
      "\n",
      "100%|██████████| 391/391 [00:23<00:00, 16.68it/s]\n",
      "100%|██████████| 79/79 [00:02<00:00, 34.22it/s]"
     ]
    },
    {
     "name": "stdout",
     "output_type": "stream",
     "text": [
      "Adjusting learning rate of group 0 to 1.0000e-03.\n",
      "Epoch 180\n",
      "Accuracy: 0.8936 | Train loss: 1.1949782386398315 | Valid loss: 0.371642312335968\n"
     ]
    },
    {
     "name": "stderr",
     "output_type": "stream",
     "text": [
      "\n",
      "100%|██████████| 391/391 [00:22<00:00, 17.51it/s]\n",
      "100%|██████████| 79/79 [00:02<00:00, 33.21it/s]"
     ]
    },
    {
     "name": "stdout",
     "output_type": "stream",
     "text": [
      "Adjusting learning rate of group 0 to 1.0000e-03.\n",
      "Epoch 181\n",
      "Accuracy: 0.8935 | Train loss: 1.196342746734619 | Valid loss: 0.35940567922592165\n"
     ]
    },
    {
     "name": "stderr",
     "output_type": "stream",
     "text": [
      "\n",
      "100%|██████████| 391/391 [00:23<00:00, 16.63it/s]\n",
      "100%|██████████| 79/79 [00:02<00:00, 33.60it/s]"
     ]
    },
    {
     "name": "stdout",
     "output_type": "stream",
     "text": [
      "Adjusting learning rate of group 0 to 1.0000e-03.\n",
      "Epoch 182\n",
      "Accuracy: 0.895 | Train loss: 1.193190768470764 | Valid loss: 0.36526467962265013\n"
     ]
    },
    {
     "name": "stderr",
     "output_type": "stream",
     "text": [
      "\n",
      "100%|██████████| 391/391 [00:23<00:00, 16.95it/s]\n",
      "100%|██████████| 79/79 [00:02<00:00, 30.74it/s]"
     ]
    },
    {
     "name": "stdout",
     "output_type": "stream",
     "text": [
      "Adjusting learning rate of group 0 to 1.0000e-03.\n",
      "Epoch 183\n",
      "Accuracy: 0.894 | Train loss: 1.1895148907470703 | Valid loss: 0.36514121346473694\n"
     ]
    },
    {
     "name": "stderr",
     "output_type": "stream",
     "text": [
      "\n",
      "100%|██████████| 391/391 [00:22<00:00, 17.33it/s]\n",
      "100%|██████████| 79/79 [00:02<00:00, 35.43it/s]"
     ]
    },
    {
     "name": "stdout",
     "output_type": "stream",
     "text": [
      "Adjusting learning rate of group 0 to 1.0000e-03.\n",
      "Epoch 184\n",
      "Accuracy: 0.8914 | Train loss: 1.1894827464675903 | Valid loss: 0.3762835000514984\n"
     ]
    },
    {
     "name": "stderr",
     "output_type": "stream",
     "text": [
      "\n",
      "100%|██████████| 391/391 [00:23<00:00, 16.95it/s]\n",
      "100%|██████████| 79/79 [00:02<00:00, 33.94it/s]"
     ]
    },
    {
     "name": "stdout",
     "output_type": "stream",
     "text": [
      "Adjusting learning rate of group 0 to 1.0000e-03.\n",
      "Epoch 185\n",
      "Accuracy: 0.8933 | Train loss: 1.188984739112854 | Valid loss: 0.3628194869995117\n"
     ]
    },
    {
     "name": "stderr",
     "output_type": "stream",
     "text": [
      "\n",
      "100%|██████████| 391/391 [00:30<00:00, 12.99it/s]\n",
      "100%|██████████| 79/79 [00:03<00:00, 21.44it/s]"
     ]
    },
    {
     "name": "stdout",
     "output_type": "stream",
     "text": [
      "Adjusting learning rate of group 0 to 1.0000e-03.\n",
      "Epoch 186\n",
      "Accuracy: 0.8939 | Train loss: 1.1960937320709228 | Valid loss: 0.3623726310253143\n"
     ]
    },
    {
     "name": "stderr",
     "output_type": "stream",
     "text": [
      "\n",
      "100%|██████████| 391/391 [00:25<00:00, 15.40it/s]\n",
      "100%|██████████| 79/79 [00:02<00:00, 33.78it/s]"
     ]
    },
    {
     "name": "stdout",
     "output_type": "stream",
     "text": [
      "Adjusting learning rate of group 0 to 1.0000e-03.\n",
      "Epoch 187\n",
      "Accuracy: 0.892 | Train loss: 1.1896703522109986 | Valid loss: 0.3666425159931183\n"
     ]
    },
    {
     "name": "stderr",
     "output_type": "stream",
     "text": [
      "\n",
      "100%|██████████| 391/391 [00:22<00:00, 17.41it/s]\n",
      "100%|██████████| 79/79 [00:02<00:00, 26.68it/s]"
     ]
    },
    {
     "name": "stdout",
     "output_type": "stream",
     "text": [
      "Adjusting learning rate of group 0 to 1.0000e-03.\n",
      "Epoch 188\n",
      "Accuracy: 0.8934 | Train loss: 1.1934747325897217 | Valid loss: 0.3622869616985321\n"
     ]
    },
    {
     "name": "stderr",
     "output_type": "stream",
     "text": [
      "\n",
      "100%|██████████| 391/391 [00:22<00:00, 17.48it/s]\n",
      "100%|██████████| 79/79 [00:02<00:00, 30.40it/s]"
     ]
    },
    {
     "name": "stdout",
     "output_type": "stream",
     "text": [
      "Adjusting learning rate of group 0 to 1.0000e-03.\n",
      "Epoch 189\n",
      "Accuracy: 0.8941 | Train loss: 1.191749142074585 | Valid loss: 0.36720313935279847\n"
     ]
    },
    {
     "name": "stderr",
     "output_type": "stream",
     "text": [
      "\n",
      "100%|██████████| 391/391 [00:22<00:00, 17.29it/s]\n",
      "100%|██████████| 79/79 [00:02<00:00, 34.76it/s]"
     ]
    },
    {
     "name": "stdout",
     "output_type": "stream",
     "text": [
      "Adjusting learning rate of group 0 to 1.0000e-03.\n",
      "Epoch 190\n",
      "Accuracy: 0.8949 | Train loss: 1.1993249289512635 | Valid loss: 0.37413579282760623\n"
     ]
    },
    {
     "name": "stderr",
     "output_type": "stream",
     "text": [
      "\n",
      "100%|██████████| 391/391 [00:23<00:00, 16.97it/s]\n",
      "100%|██████████| 79/79 [00:02<00:00, 35.25it/s]"
     ]
    },
    {
     "name": "stdout",
     "output_type": "stream",
     "text": [
      "Adjusting learning rate of group 0 to 1.0000e-03.\n",
      "Epoch 191\n",
      "Accuracy: 0.8942 | Train loss: 1.194734785118103 | Valid loss: 0.37056834836006164\n"
     ]
    },
    {
     "name": "stderr",
     "output_type": "stream",
     "text": [
      "\n",
      "100%|██████████| 391/391 [00:22<00:00, 17.30it/s]\n",
      "100%|██████████| 79/79 [00:02<00:00, 31.65it/s]"
     ]
    },
    {
     "name": "stdout",
     "output_type": "stream",
     "text": [
      "Adjusting learning rate of group 0 to 1.0000e-03.\n",
      "Epoch 192\n",
      "Accuracy: 0.8938 | Train loss: 1.1900806985092163 | Valid loss: 0.36356641340255735\n"
     ]
    },
    {
     "name": "stderr",
     "output_type": "stream",
     "text": [
      "\n",
      "100%|██████████| 391/391 [00:23<00:00, 16.90it/s]\n",
      "100%|██████████| 79/79 [00:02<00:00, 34.79it/s]"
     ]
    },
    {
     "name": "stdout",
     "output_type": "stream",
     "text": [
      "Adjusting learning rate of group 0 to 1.0000e-03.\n",
      "Epoch 193\n",
      "Accuracy: 0.8929 | Train loss: 1.1853979079818726 | Valid loss: 0.36477699255943297\n"
     ]
    },
    {
     "name": "stderr",
     "output_type": "stream",
     "text": [
      "\n",
      "100%|██████████| 391/391 [00:23<00:00, 16.70it/s]\n",
      "100%|██████████| 79/79 [00:02<00:00, 35.72it/s]"
     ]
    },
    {
     "name": "stdout",
     "output_type": "stream",
     "text": [
      "Adjusting learning rate of group 0 to 1.0000e-03.\n",
      "Epoch 194\n",
      "Accuracy: 0.8939 | Train loss: 1.1939055999755859 | Valid loss: 0.3583343743801117\n"
     ]
    },
    {
     "name": "stderr",
     "output_type": "stream",
     "text": [
      "\n",
      "100%|██████████| 391/391 [00:23<00:00, 16.92it/s]\n",
      "100%|██████████| 79/79 [00:02<00:00, 32.63it/s]"
     ]
    },
    {
     "name": "stdout",
     "output_type": "stream",
     "text": [
      "Adjusting learning rate of group 0 to 1.0000e-03.\n",
      "Epoch 195\n",
      "Accuracy: 0.8909 | Train loss: 1.1893105825805663 | Valid loss: 0.3774225848197937\n"
     ]
    },
    {
     "name": "stderr",
     "output_type": "stream",
     "text": [
      "\n",
      "100%|██████████| 391/391 [00:24<00:00, 16.18it/s]\n",
      "100%|██████████| 79/79 [00:03<00:00, 23.39it/s]"
     ]
    },
    {
     "name": "stdout",
     "output_type": "stream",
     "text": [
      "Adjusting learning rate of group 0 to 1.0000e-03.\n",
      "Epoch 196\n",
      "Accuracy: 0.8954 | Train loss: 1.1938683680725097 | Valid loss: 0.36758722648620606\n"
     ]
    },
    {
     "name": "stderr",
     "output_type": "stream",
     "text": [
      "\n",
      "100%|██████████| 391/391 [00:29<00:00, 13.07it/s]\n",
      "100%|██████████| 79/79 [00:03<00:00, 24.14it/s]"
     ]
    },
    {
     "name": "stdout",
     "output_type": "stream",
     "text": [
      "Adjusting learning rate of group 0 to 1.0000e-03.\n",
      "Epoch 197\n",
      "Accuracy: 0.8928 | Train loss: 1.1890825383377075 | Valid loss: 0.366200097823143\n"
     ]
    },
    {
     "name": "stderr",
     "output_type": "stream",
     "text": [
      "\n",
      "100%|██████████| 391/391 [00:23<00:00, 16.81it/s]\n",
      "100%|██████████| 79/79 [00:02<00:00, 34.92it/s]"
     ]
    },
    {
     "name": "stdout",
     "output_type": "stream",
     "text": [
      "Adjusting learning rate of group 0 to 1.0000e-03.\n",
      "Epoch 198\n",
      "Accuracy: 0.8943 | Train loss: 1.1841402425384522 | Valid loss: 0.3654029008388519\n"
     ]
    },
    {
     "name": "stderr",
     "output_type": "stream",
     "text": [
      "\n",
      "100%|██████████| 391/391 [00:22<00:00, 17.22it/s]\n",
      "100%|██████████| 79/79 [00:02<00:00, 29.81it/s]"
     ]
    },
    {
     "name": "stdout",
     "output_type": "stream",
     "text": [
      "Adjusting learning rate of group 0 to 1.0000e-03.\n",
      "Epoch 199\n",
      "Accuracy: 0.8948 | Train loss: 1.1915472158050537 | Valid loss: 0.3620737578868866\n"
     ]
    },
    {
     "name": "stderr",
     "output_type": "stream",
     "text": [
      "\n",
      "100%|██████████| 391/391 [00:22<00:00, 17.56it/s]\n",
      "100%|██████████| 79/79 [00:02<00:00, 33.19it/s]"
     ]
    },
    {
     "name": "stdout",
     "output_type": "stream",
     "text": [
      "Adjusting learning rate of group 0 to 1.0000e-03.\n",
      "Epoch 200\n",
      "Accuracy: 0.8951 | Train loss: 1.1866149585342407 | Valid loss: 0.3673864377975464\n"
     ]
    },
    {
     "name": "stderr",
     "output_type": "stream",
     "text": [
      "\n"
     ]
    }
   ],
   "source": [
    "best_score = 0\n",
    "\n",
    "for epoch in range(200):\n",
    "    start_time = time.time()\n",
    "    student_model.to(DEVICE)\n",
    "    avg_loss = train_fn(train_loader, student_model, criterion, optimizer_student, None, DEVICE,0.5,5)\n",
    "    avg_val_loss, score = valid_fn(test_loader, student_model, criterion, DEVICE)\n",
    "\n",
    "    scheduler_student.step()\n",
    "    \n",
    "    print(f\"Epoch {epoch+1}\")\n",
    "    print(f\"Accuracy: {score} | Train loss: {avg_loss} | Valid loss: {avg_val_loss}\")\n",
    "    \n",
    "    if score > best_score:\n",
    "        print(\"YES\")\n",
    "        best_score = score\n",
    "        torch.save(student_model.state_dict(), f\"best_model.pt\")\n",
    "        \n",
    "    elapsed = time.time() - start_time"
   ]
  },
  {
   "cell_type": "code",
   "execution_count": 33,
   "id": "42f406fa",
   "metadata": {
    "execution": {
     "iopub.execute_input": "2022-05-23T18:23:47.225723Z",
     "iopub.status.busy": "2022-05-23T18:23:47.225446Z",
     "iopub.status.idle": "2022-05-23T18:23:47.231301Z",
     "shell.execute_reply": "2022-05-23T18:23:47.230622Z"
    },
    "papermill": {
     "duration": 12.884661,
     "end_time": "2022-05-23T18:23:47.233642",
     "exception": false,
     "start_time": "2022-05-23T18:23:34.348981",
     "status": "completed"
    },
    "tags": []
   },
   "outputs": [
    {
     "data": {
      "text/plain": [
       "0.8971"
      ]
     },
     "execution_count": 33,
     "metadata": {},
     "output_type": "execute_result"
    }
   ],
   "source": [
    "best_score"
   ]
  }
 ],
 "metadata": {
  "kernelspec": {
   "display_name": "Python 3",
   "language": "python",
   "name": "python3"
  },
  "language_info": {
   "codemirror_mode": {
    "name": "ipython",
    "version": 3
   },
   "file_extension": ".py",
   "mimetype": "text/x-python",
   "name": "python",
   "nbconvert_exporter": "python",
   "pygments_lexer": "ipython3",
   "version": "3.7.12"
  },
  "papermill": {
   "default_parameters": {},
   "duration": 5449.925712,
   "end_time": "2022-05-23T18:24:03.030355",
   "environment_variables": {},
   "exception": null,
   "input_path": "__notebook__.ipynb",
   "output_path": "__notebook__.ipynb",
   "parameters": {},
   "start_time": "2022-05-23T16:53:13.104643",
   "version": "2.3.4"
  },
  "widgets": {
   "application/vnd.jupyter.widget-state+json": {
    "state": {
     "1664a308aaf94edf9cc09f3a64ca5419": {
      "model_module": "@jupyter-widgets/base",
      "model_module_version": "1.2.0",
      "model_name": "LayoutModel",
      "state": {
       "_model_module": "@jupyter-widgets/base",
       "_model_module_version": "1.2.0",
       "_model_name": "LayoutModel",
       "_view_count": null,
       "_view_module": "@jupyter-widgets/base",
       "_view_module_version": "1.2.0",
       "_view_name": "LayoutView",
       "align_content": null,
       "align_items": null,
       "align_self": null,
       "border": null,
       "bottom": null,
       "display": null,
       "flex": null,
       "flex_flow": null,
       "grid_area": null,
       "grid_auto_columns": null,
       "grid_auto_flow": null,
       "grid_auto_rows": null,
       "grid_column": null,
       "grid_gap": null,
       "grid_row": null,
       "grid_template_areas": null,
       "grid_template_columns": null,
       "grid_template_rows": null,
       "height": null,
       "justify_content": null,
       "justify_items": null,
       "left": null,
       "margin": null,
       "max_height": null,
       "max_width": null,
       "min_height": null,
       "min_width": null,
       "object_fit": null,
       "object_position": null,
       "order": null,
       "overflow": null,
       "overflow_x": null,
       "overflow_y": null,
       "padding": null,
       "right": null,
       "top": null,
       "visibility": null,
       "width": null
      }
     },
     "203a6d1fcd2049e0ab8e0a5f60e175d8": {
      "model_module": "@jupyter-widgets/controls",
      "model_module_version": "1.5.0",
      "model_name": "FloatProgressModel",
      "state": {
       "_dom_classes": [],
       "_model_module": "@jupyter-widgets/controls",
       "_model_module_version": "1.5.0",
       "_model_name": "FloatProgressModel",
       "_view_count": null,
       "_view_module": "@jupyter-widgets/controls",
       "_view_module_version": "1.5.0",
       "_view_name": "ProgressView",
       "bar_style": "success",
       "description": "",
       "description_tooltip": null,
       "layout": "IPY_MODEL_1664a308aaf94edf9cc09f3a64ca5419",
       "max": 170498071.0,
       "min": 0.0,
       "orientation": "horizontal",
       "style": "IPY_MODEL_95e6e61fff404c348ea820de5bb381a9",
       "value": 170498071.0
      }
     },
     "34ca121a52e045b8bffc89e5ff0378e9": {
      "model_module": "@jupyter-widgets/base",
      "model_module_version": "1.2.0",
      "model_name": "LayoutModel",
      "state": {
       "_model_module": "@jupyter-widgets/base",
       "_model_module_version": "1.2.0",
       "_model_name": "LayoutModel",
       "_view_count": null,
       "_view_module": "@jupyter-widgets/base",
       "_view_module_version": "1.2.0",
       "_view_name": "LayoutView",
       "align_content": null,
       "align_items": null,
       "align_self": null,
       "border": null,
       "bottom": null,
       "display": null,
       "flex": null,
       "flex_flow": null,
       "grid_area": null,
       "grid_auto_columns": null,
       "grid_auto_flow": null,
       "grid_auto_rows": null,
       "grid_column": null,
       "grid_gap": null,
       "grid_row": null,
       "grid_template_areas": null,
       "grid_template_columns": null,
       "grid_template_rows": null,
       "height": null,
       "justify_content": null,
       "justify_items": null,
       "left": null,
       "margin": null,
       "max_height": null,
       "max_width": null,
       "min_height": null,
       "min_width": null,
       "object_fit": null,
       "object_position": null,
       "order": null,
       "overflow": null,
       "overflow_x": null,
       "overflow_y": null,
       "padding": null,
       "right": null,
       "top": null,
       "visibility": null,
       "width": null
      }
     },
     "374e0946538c44549e682dd86d0de1fe": {
      "model_module": "@jupyter-widgets/controls",
      "model_module_version": "1.5.0",
      "model_name": "DescriptionStyleModel",
      "state": {
       "_model_module": "@jupyter-widgets/controls",
       "_model_module_version": "1.5.0",
       "_model_name": "DescriptionStyleModel",
       "_view_count": null,
       "_view_module": "@jupyter-widgets/base",
       "_view_module_version": "1.2.0",
       "_view_name": "StyleView",
       "description_width": ""
      }
     },
     "58c8d0e000f04df8876f7ef63eb98b49": {
      "model_module": "@jupyter-widgets/controls",
      "model_module_version": "1.5.0",
      "model_name": "HBoxModel",
      "state": {
       "_dom_classes": [],
       "_model_module": "@jupyter-widgets/controls",
       "_model_module_version": "1.5.0",
       "_model_name": "HBoxModel",
       "_view_count": null,
       "_view_module": "@jupyter-widgets/controls",
       "_view_module_version": "1.5.0",
       "_view_name": "HBoxView",
       "box_style": "",
       "children": [
        "IPY_MODEL_8cbce73d12d7452ca4569ed4c2d01ae0",
        "IPY_MODEL_203a6d1fcd2049e0ab8e0a5f60e175d8",
        "IPY_MODEL_df0bcaf1308f4868a0558496efe818c9"
       ],
       "layout": "IPY_MODEL_34ca121a52e045b8bffc89e5ff0378e9"
      }
     },
     "63061505b9884d0eb2e687ce534964f0": {
      "model_module": "@jupyter-widgets/controls",
      "model_module_version": "1.5.0",
      "model_name": "DescriptionStyleModel",
      "state": {
       "_model_module": "@jupyter-widgets/controls",
       "_model_module_version": "1.5.0",
       "_model_name": "DescriptionStyleModel",
       "_view_count": null,
       "_view_module": "@jupyter-widgets/base",
       "_view_module_version": "1.2.0",
       "_view_name": "StyleView",
       "description_width": ""
      }
     },
     "8cbce73d12d7452ca4569ed4c2d01ae0": {
      "model_module": "@jupyter-widgets/controls",
      "model_module_version": "1.5.0",
      "model_name": "HTMLModel",
      "state": {
       "_dom_classes": [],
       "_model_module": "@jupyter-widgets/controls",
       "_model_module_version": "1.5.0",
       "_model_name": "HTMLModel",
       "_view_count": null,
       "_view_module": "@jupyter-widgets/controls",
       "_view_module_version": "1.5.0",
       "_view_name": "HTMLView",
       "description": "",
       "description_tooltip": null,
       "layout": "IPY_MODEL_ce03c60a88d446f388680c8ff50235d2",
       "placeholder": "​",
       "style": "IPY_MODEL_374e0946538c44549e682dd86d0de1fe",
       "value": ""
      }
     },
     "95e6e61fff404c348ea820de5bb381a9": {
      "model_module": "@jupyter-widgets/controls",
      "model_module_version": "1.5.0",
      "model_name": "ProgressStyleModel",
      "state": {
       "_model_module": "@jupyter-widgets/controls",
       "_model_module_version": "1.5.0",
       "_model_name": "ProgressStyleModel",
       "_view_count": null,
       "_view_module": "@jupyter-widgets/base",
       "_view_module_version": "1.2.0",
       "_view_name": "StyleView",
       "bar_color": null,
       "description_width": ""
      }
     },
     "a7bf78b39b554a1e95751ffdff800148": {
      "model_module": "@jupyter-widgets/base",
      "model_module_version": "1.2.0",
      "model_name": "LayoutModel",
      "state": {
       "_model_module": "@jupyter-widgets/base",
       "_model_module_version": "1.2.0",
       "_model_name": "LayoutModel",
       "_view_count": null,
       "_view_module": "@jupyter-widgets/base",
       "_view_module_version": "1.2.0",
       "_view_name": "LayoutView",
       "align_content": null,
       "align_items": null,
       "align_self": null,
       "border": null,
       "bottom": null,
       "display": null,
       "flex": null,
       "flex_flow": null,
       "grid_area": null,
       "grid_auto_columns": null,
       "grid_auto_flow": null,
       "grid_auto_rows": null,
       "grid_column": null,
       "grid_gap": null,
       "grid_row": null,
       "grid_template_areas": null,
       "grid_template_columns": null,
       "grid_template_rows": null,
       "height": null,
       "justify_content": null,
       "justify_items": null,
       "left": null,
       "margin": null,
       "max_height": null,
       "max_width": null,
       "min_height": null,
       "min_width": null,
       "object_fit": null,
       "object_position": null,
       "order": null,
       "overflow": null,
       "overflow_x": null,
       "overflow_y": null,
       "padding": null,
       "right": null,
       "top": null,
       "visibility": null,
       "width": null
      }
     },
     "ce03c60a88d446f388680c8ff50235d2": {
      "model_module": "@jupyter-widgets/base",
      "model_module_version": "1.2.0",
      "model_name": "LayoutModel",
      "state": {
       "_model_module": "@jupyter-widgets/base",
       "_model_module_version": "1.2.0",
       "_model_name": "LayoutModel",
       "_view_count": null,
       "_view_module": "@jupyter-widgets/base",
       "_view_module_version": "1.2.0",
       "_view_name": "LayoutView",
       "align_content": null,
       "align_items": null,
       "align_self": null,
       "border": null,
       "bottom": null,
       "display": null,
       "flex": null,
       "flex_flow": null,
       "grid_area": null,
       "grid_auto_columns": null,
       "grid_auto_flow": null,
       "grid_auto_rows": null,
       "grid_column": null,
       "grid_gap": null,
       "grid_row": null,
       "grid_template_areas": null,
       "grid_template_columns": null,
       "grid_template_rows": null,
       "height": null,
       "justify_content": null,
       "justify_items": null,
       "left": null,
       "margin": null,
       "max_height": null,
       "max_width": null,
       "min_height": null,
       "min_width": null,
       "object_fit": null,
       "object_position": null,
       "order": null,
       "overflow": null,
       "overflow_x": null,
       "overflow_y": null,
       "padding": null,
       "right": null,
       "top": null,
       "visibility": null,
       "width": null
      }
     },
     "df0bcaf1308f4868a0558496efe818c9": {
      "model_module": "@jupyter-widgets/controls",
      "model_module_version": "1.5.0",
      "model_name": "HTMLModel",
      "state": {
       "_dom_classes": [],
       "_model_module": "@jupyter-widgets/controls",
       "_model_module_version": "1.5.0",
       "_model_name": "HTMLModel",
       "_view_count": null,
       "_view_module": "@jupyter-widgets/controls",
       "_view_module_version": "1.5.0",
       "_view_name": "HTMLView",
       "description": "",
       "description_tooltip": null,
       "layout": "IPY_MODEL_a7bf78b39b554a1e95751ffdff800148",
       "placeholder": "​",
       "style": "IPY_MODEL_63061505b9884d0eb2e687ce534964f0",
       "value": " 170499072/? [00:12&lt;00:00, 15925309.79it/s]"
      }
     }
    },
    "version_major": 2,
    "version_minor": 0
   }
  }
 },
 "nbformat": 4,
 "nbformat_minor": 5
}
