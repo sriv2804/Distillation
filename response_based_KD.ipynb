{
 "cells": [
  {
   "cell_type": "code",
   "execution_count": 1,
   "id": "eb22314d",
   "metadata": {
    "execution": {
     "iopub.execute_input": "2022-05-15T12:57:10.280267Z",
     "iopub.status.busy": "2022-05-15T12:57:10.279492Z",
     "iopub.status.idle": "2022-05-15T12:57:10.285043Z",
     "shell.execute_reply": "2022-05-15T12:57:10.284217Z"
    },
    "id": "rv7XRdw3m_bl",
    "outputId": "11509ef4-55d5-4bf3-fde6-918d3984be80",
    "papermill": {
     "duration": 0.038175,
     "end_time": "2022-05-15T12:57:10.288112",
     "exception": false,
     "start_time": "2022-05-15T12:57:10.249937",
     "status": "completed"
    },
    "tags": []
   },
   "outputs": [],
   "source": [
    "#from google.colab import drive\n",
    "#drive.mount('/content/drive')"
   ]
  },
  {
   "cell_type": "code",
   "execution_count": 2,
   "id": "ff0dbb10",
   "metadata": {
    "execution": {
     "iopub.execute_input": "2022-05-15T12:57:10.342907Z",
     "iopub.status.busy": "2022-05-15T12:57:10.342172Z",
     "iopub.status.idle": "2022-05-15T12:57:12.282736Z",
     "shell.execute_reply": "2022-05-15T12:57:12.281920Z"
    },
    "id": "jIx7VR5OnATc",
    "papermill": {
     "duration": 1.970573,
     "end_time": "2022-05-15T12:57:12.285143",
     "exception": false,
     "start_time": "2022-05-15T12:57:10.314570",
     "status": "completed"
    },
    "tags": []
   },
   "outputs": [],
   "source": [
    "import numpy as np\n",
    "import pandas as pd\n",
    "import torch\n",
    "import torch.nn.functional as  F\n",
    "import torch.nn as nn"
   ]
  },
  {
   "cell_type": "code",
   "execution_count": 3,
   "id": "c1047dc8",
   "metadata": {
    "execution": {
     "iopub.execute_input": "2022-05-15T12:57:12.337228Z",
     "iopub.status.busy": "2022-05-15T12:57:12.336930Z",
     "iopub.status.idle": "2022-05-15T12:57:12.340733Z",
     "shell.execute_reply": "2022-05-15T12:57:12.339931Z"
    },
    "id": "zqF-hH7VTiZ8",
    "papermill": {
     "duration": 0.03168,
     "end_time": "2022-05-15T12:57:12.342863",
     "exception": false,
     "start_time": "2022-05-15T12:57:12.311183",
     "status": "completed"
    },
    "tags": []
   },
   "outputs": [],
   "source": [
    "DEVICE='cuda'\n",
    "use_gpu=True"
   ]
  },
  {
   "cell_type": "code",
   "execution_count": 4,
   "id": "6d86737e",
   "metadata": {
    "execution": {
     "iopub.execute_input": "2022-05-15T12:57:12.391595Z",
     "iopub.status.busy": "2022-05-15T12:57:12.391339Z",
     "iopub.status.idle": "2022-05-15T12:57:12.400305Z",
     "shell.execute_reply": "2022-05-15T12:57:12.399569Z"
    },
    "id": "oZ-fQaz9R6vW",
    "papermill": {
     "duration": 0.035849,
     "end_time": "2022-05-15T12:57:12.402230",
     "exception": false,
     "start_time": "2022-05-15T12:57:12.366381",
     "status": "completed"
    },
    "tags": []
   },
   "outputs": [],
   "source": [
    "def reproducibilitySeed():\n",
    "    \"\"\"\n",
    "    Ensure reproducibility of results; Seeds to 0\n",
    "    \"\"\"\n",
    "    torch_init_seed = 0\n",
    "    torch.manual_seed(torch_init_seed)\n",
    "    numpy_init_seed = 0\n",
    "    np.random.seed(numpy_init_seed)\n",
    "    if use_gpu:\n",
    "        torch.backends.cudnn.deterministic = True\n",
    "        torch.backends.cudnn.benchmark = False\n",
    "\n",
    "reproducibilitySeed()"
   ]
  },
  {
   "cell_type": "code",
   "execution_count": 5,
   "id": "10b90669",
   "metadata": {
    "execution": {
     "iopub.execute_input": "2022-05-15T12:57:12.453562Z",
     "iopub.status.busy": "2022-05-15T12:57:12.452950Z",
     "iopub.status.idle": "2022-05-15T12:57:12.457829Z",
     "shell.execute_reply": "2022-05-15T12:57:12.457168Z"
    },
    "id": "jChvzOwAnpBJ",
    "papermill": {
     "duration": 0.031012,
     "end_time": "2022-05-15T12:57:12.459682",
     "exception": false,
     "start_time": "2022-05-15T12:57:12.428670",
     "status": "completed"
    },
    "tags": []
   },
   "outputs": [],
   "source": [
    "#data=pd.read_csv('/content/drive/MyDrive/cs231n/mnist_train.csv')\n",
    "#X=data.iloc[:,1:]\n",
    "#Y=data.iloc[:,0]\n",
    "#X=np.array(X)\n",
    "#Y=np.array(Y)"
   ]
  },
  {
   "cell_type": "code",
   "execution_count": 6,
   "id": "da3d1f85",
   "metadata": {
    "execution": {
     "iopub.execute_input": "2022-05-15T12:57:12.510024Z",
     "iopub.status.busy": "2022-05-15T12:57:12.509771Z",
     "iopub.status.idle": "2022-05-15T12:57:12.515673Z",
     "shell.execute_reply": "2022-05-15T12:57:12.514903Z"
    },
    "id": "5iMQQ4ikoKev",
    "papermill": {
     "duration": 0.033829,
     "end_time": "2022-05-15T12:57:12.517562",
     "exception": false,
     "start_time": "2022-05-15T12:57:12.483733",
     "status": "completed"
    },
    "tags": []
   },
   "outputs": [],
   "source": [
    "#Dataset class ,not used here\n",
    "class CustomDataset:\n",
    "  def __init__(self,data,targets):\n",
    "    self.data=data\n",
    "    self.targets=targets\n",
    "  def __len__(self):\n",
    "    return len(self.data)\n",
    "  def __getitem__(self,idx):\n",
    "    current_sample=self.data[idx,:]\n",
    "    current_target=self.targets[idx]\n",
    "    return{\n",
    "        \"sample\":torch.tensor(current_sample,dtype=torch.float),\n",
    "        \"target\":torch.tensor(current_target,dtype=torch.long)\n",
    "    }"
   ]
  },
  {
   "cell_type": "markdown",
   "id": "7836b2cf",
   "metadata": {},
   "source": [
    "**Using MNIST and performing augmentations as mentioned in paper for the TEACHER MODEL ONLY**"
   ]
  },
  {
   "cell_type": "code",
   "execution_count": 7,
   "id": "682bdf37",
   "metadata": {
    "execution": {
     "iopub.execute_input": "2022-05-15T12:57:12.568183Z",
     "iopub.status.busy": "2022-05-15T12:57:12.567886Z",
     "iopub.status.idle": "2022-05-15T12:57:14.247369Z",
     "shell.execute_reply": "2022-05-15T12:57:14.246586Z"
    },
    "id": "qtwQ9QZYSJlL",
    "outputId": "54947441-a281-402e-e5aa-5297f3e56c48",
    "papermill": {
     "duration": 1.707976,
     "end_time": "2022-05-15T12:57:14.250320",
     "exception": false,
     "start_time": "2022-05-15T12:57:12.542344",
     "status": "completed"
    },
    "tags": []
   },
   "outputs": [
    {
     "name": "stdout",
     "output_type": "stream",
     "text": [
      "Downloading http://yann.lecun.com/exdb/mnist/train-images-idx3-ubyte.gz\n",
      "Downloading http://yann.lecun.com/exdb/mnist/train-images-idx3-ubyte.gz to ./MNIST_dataset/MNIST/raw/train-images-idx3-ubyte.gz\n"
     ]
    },
    {
     "data": {
      "application/vnd.jupyter.widget-view+json": {
       "model_id": "baae705ad2074db1aaabaa3a93029053",
       "version_major": 2,
       "version_minor": 0
      },
      "text/plain": [
       "  0%|          | 0/9912422 [00:00<?, ?it/s]"
      ]
     },
     "metadata": {},
     "output_type": "display_data"
    },
    {
     "name": "stdout",
     "output_type": "stream",
     "text": [
      "Extracting ./MNIST_dataset/MNIST/raw/train-images-idx3-ubyte.gz to ./MNIST_dataset/MNIST/raw\n",
      "\n",
      "Downloading http://yann.lecun.com/exdb/mnist/train-labels-idx1-ubyte.gz\n",
      "Downloading http://yann.lecun.com/exdb/mnist/train-labels-idx1-ubyte.gz to ./MNIST_dataset/MNIST/raw/train-labels-idx1-ubyte.gz\n"
     ]
    },
    {
     "data": {
      "application/vnd.jupyter.widget-view+json": {
       "model_id": "be40edc1459d421ca5f0d3dd849dbc65",
       "version_major": 2,
       "version_minor": 0
      },
      "text/plain": [
       "  0%|          | 0/28881 [00:00<?, ?it/s]"
      ]
     },
     "metadata": {},
     "output_type": "display_data"
    },
    {
     "name": "stdout",
     "output_type": "stream",
     "text": [
      "Extracting ./MNIST_dataset/MNIST/raw/train-labels-idx1-ubyte.gz to ./MNIST_dataset/MNIST/raw\n",
      "\n",
      "Downloading http://yann.lecun.com/exdb/mnist/t10k-images-idx3-ubyte.gz\n",
      "Downloading http://yann.lecun.com/exdb/mnist/t10k-images-idx3-ubyte.gz to ./MNIST_dataset/MNIST/raw/t10k-images-idx3-ubyte.gz\n"
     ]
    },
    {
     "data": {
      "application/vnd.jupyter.widget-view+json": {
       "model_id": "bb468a8650a6459abe09246e9d700a55",
       "version_major": 2,
       "version_minor": 0
      },
      "text/plain": [
       "  0%|          | 0/1648877 [00:00<?, ?it/s]"
      ]
     },
     "metadata": {},
     "output_type": "display_data"
    },
    {
     "name": "stdout",
     "output_type": "stream",
     "text": [
      "Extracting ./MNIST_dataset/MNIST/raw/t10k-images-idx3-ubyte.gz to ./MNIST_dataset/MNIST/raw\n",
      "\n",
      "Downloading http://yann.lecun.com/exdb/mnist/t10k-labels-idx1-ubyte.gz\n",
      "Downloading http://yann.lecun.com/exdb/mnist/t10k-labels-idx1-ubyte.gz to ./MNIST_dataset/MNIST/raw/t10k-labels-idx1-ubyte.gz\n"
     ]
    },
    {
     "data": {
      "application/vnd.jupyter.widget-view+json": {
       "model_id": "6b5425a23d234e0db71a0330ca7f3b67",
       "version_major": 2,
       "version_minor": 0
      },
      "text/plain": [
       "  0%|          | 0/4542 [00:00<?, ?it/s]"
      ]
     },
     "metadata": {},
     "output_type": "display_data"
    },
    {
     "name": "stdout",
     "output_type": "stream",
     "text": [
      "Extracting ./MNIST_dataset/MNIST/raw/t10k-labels-idx1-ubyte.gz to ./MNIST_dataset/MNIST/raw\n",
      "\n"
     ]
    }
   ],
   "source": [
    "import torchvision\n",
    "import torchvision.transforms as transforms\n",
    "\n",
    "mnist_image_shape = (28, 28)\n",
    "random_pad_size = 2\n",
    "# Training images augmented by randomly shifting images by at max. 2 pixels in any of 4 directions\n",
    "transform_train = transforms.Compose(\n",
    "                [\n",
    "                    transforms.RandomCrop(mnist_image_shape, random_pad_size),\n",
    "                    transforms.ToTensor(),\n",
    "                    transforms.Normalize((0.5,), (0.5,))\n",
    "                ]\n",
    "            )\n",
    "\n",
    "transform_test = transforms.Compose(\n",
    "                [\n",
    "                    transforms.ToTensor(),\n",
    "                    transforms.Normalize((0.5,), (0.5,))\n",
    "                ]\n",
    "            )\n",
    "\n",
    "train_val_dataset = torchvision.datasets.MNIST(root='./MNIST_dataset/', train=True, \n",
    "                                            download=True, transform=transform_train)\n",
    "\n",
    "test_dataset = torchvision.datasets.MNIST(root='./MNIST_dataset/', train=False, \n",
    "                                            download=True, transform=transform_test)\n",
    "\n",
    "num_train = int(1.0 * len(train_val_dataset) * 95 / 100)\n",
    "num_val = len(train_val_dataset) - num_train\n",
    "train_dataset, val_dataset = torch.utils.data.random_split(train_val_dataset, [num_train, num_val])\n",
    "\n",
    "batch_size = 128\n",
    "train_val_loader = torch.utils.data.DataLoader(train_val_dataset, batch_size=128, shuffle=True, num_workers=2)\n",
    "train_loader = torch.utils.data.DataLoader(train_dataset, batch_size=128, shuffle=True, num_workers=2)\n",
    "val_loader = torch.utils.data.DataLoader(val_dataset, batch_size=128, shuffle=False, num_workers=2)\n",
    "test_loader = torch.utils.data.DataLoader(test_dataset, batch_size=128, shuffle=False, num_workers=2)"
   ]
  },
  {
   "cell_type": "code",
   "execution_count": 8,
   "id": "120319f5",
   "metadata": {
    "execution": {
     "iopub.execute_input": "2022-05-15T12:57:14.349961Z",
     "iopub.status.busy": "2022-05-15T12:57:14.349637Z",
     "iopub.status.idle": "2022-05-15T12:57:14.361433Z",
     "shell.execute_reply": "2022-05-15T12:57:14.360571Z"
    },
    "id": "zPsp6P9FVj48",
    "outputId": "dc2453fb-6d1d-414d-fe57-ba86779a3084",
    "papermill": {
     "duration": 0.068049,
     "end_time": "2022-05-15T12:57:14.367763",
     "exception": false,
     "start_time": "2022-05-15T12:57:14.299714",
     "status": "completed"
    },
    "tags": []
   },
   "outputs": [
    {
     "name": "stdout",
     "output_type": "stream",
     "text": [
      "6\n"
     ]
    }
   ],
   "source": [
    "x,y=train_dataset.__getitem__(50)\n",
    "print(y)"
   ]
  },
  {
   "cell_type": "code",
   "execution_count": 9,
   "id": "fa76bb0d",
   "metadata": {
    "execution": {
     "iopub.execute_input": "2022-05-15T12:57:14.450581Z",
     "iopub.status.busy": "2022-05-15T12:57:14.450324Z",
     "iopub.status.idle": "2022-05-15T12:57:14.453928Z",
     "shell.execute_reply": "2022-05-15T12:57:14.453084Z"
    },
    "id": "gEm7qY9HoipH",
    "papermill": {
     "duration": 0.035726,
     "end_time": "2022-05-15T12:57:14.456044",
     "exception": false,
     "start_time": "2022-05-15T12:57:14.420318",
     "status": "completed"
    },
    "tags": []
   },
   "outputs": [],
   "source": [
    "#custom_dataset=CustomDataset(X,Y)\n",
    "#trainloader=torch.utils.data.DataLoader(custom_dataset,batch_size=100)"
   ]
  },
  {
   "cell_type": "code",
   "execution_count": 10,
   "id": "9ae62ac5",
   "metadata": {
    "execution": {
     "iopub.execute_input": "2022-05-15T12:57:14.517562Z",
     "iopub.status.busy": "2022-05-15T12:57:14.517298Z",
     "iopub.status.idle": "2022-05-15T12:57:14.522271Z",
     "shell.execute_reply": "2022-05-15T12:57:14.521555Z"
    },
    "id": "5uneM3jkeR__",
    "papermill": {
     "duration": 0.038389,
     "end_time": "2022-05-15T12:57:14.524345",
     "exception": false,
     "start_time": "2022-05-15T12:57:14.485956",
     "status": "completed"
    },
    "tags": []
   },
   "outputs": [],
   "source": [
    "#data_test=pd.read_csv('/content/drive/MyDrive/cs231n/mnist_test.csv',header=None)\n",
    "#X_test=np.array(data_test.iloc[:,1:])\n",
    "#Y_test=np.array(data_test.iloc[:,0])\n",
    "#val_dataset=CustomDataset(X_test,Y_test)\n",
    "#val_loader=torch.utils.data.DataLoader(val_dataset,batch_size=32)"
   ]
  },
  {
   "cell_type": "code",
   "execution_count": 11,
   "id": "37761a10",
   "metadata": {
    "execution": {
     "iopub.execute_input": "2022-05-15T12:57:14.588464Z",
     "iopub.status.busy": "2022-05-15T12:57:14.588206Z",
     "iopub.status.idle": "2022-05-15T12:57:14.591830Z",
     "shell.execute_reply": "2022-05-15T12:57:14.591106Z"
    },
    "id": "kL-rDHJ5mGpV",
    "outputId": "871d5b66-d645-452f-fde9-ae302c8cff2b",
    "papermill": {
     "duration": 0.038081,
     "end_time": "2022-05-15T12:57:14.593810",
     "exception": false,
     "start_time": "2022-05-15T12:57:14.555729",
     "status": "completed"
    },
    "tags": []
   },
   "outputs": [],
   "source": [
    "#print(X_test.shape,Y_test.shape)"
   ]
  },
  {
   "cell_type": "markdown",
   "id": "2e7c16f8",
   "metadata": {},
   "source": [
    "**MODEL class for implementing fully connected neural networks of required architecture**"
   ]
  },
  {
   "cell_type": "code",
   "execution_count": 12,
   "id": "573cdf98",
   "metadata": {
    "execution": {
     "iopub.execute_input": "2022-05-15T12:57:14.661119Z",
     "iopub.status.busy": "2022-05-15T12:57:14.660817Z",
     "iopub.status.idle": "2022-05-15T12:57:14.672256Z",
     "shell.execute_reply": "2022-05-15T12:57:14.671465Z"
    },
    "id": "TNe4-z8xVJgI",
    "papermill": {
     "duration": 0.047476,
     "end_time": "2022-05-15T12:57:14.674139",
     "exception": false,
     "start_time": "2022-05-15T12:57:14.626663",
     "status": "completed"
    },
    "tags": []
   },
   "outputs": [],
   "source": [
    "class model(nn.Module):\n",
    "    def __init__(self,in_channels,hidden_layer):\n",
    "        super(model,self).__init__()\n",
    "        self.in_channels=in_channels\n",
    "        self.hidden_layer=hidden_layer\n",
    "        self.drop1=nn.Dropout(p=0.5)\n",
    "        self.drop2=nn.Dropout(p=0.2)\n",
    "        self.fcs=nn.ModuleList()\n",
    "        for idx,layer_size in enumerate(hidden_layer):\n",
    "            self.fcs.append(nn.Linear(in_channels,layer_size))\n",
    "            nn.init.normal_(self.fcs[idx].weight, mean=0.0, std=0.01)\n",
    "            self.fcs.append(nn.BatchNorm1d(layer_size))\n",
    "            in_channels=layer_size\n",
    "        self.final=nn.Linear(in_channels,10)\n",
    "        nn.init.normal_(self.final.weight, mean=0.0, std=0.01)\n",
    "    def forward(self,x):\n",
    "        x = x.view(-1, 28 * 28)\n",
    "        x=self.drop2(x)\n",
    "        for idx in range(0,len(self.fcs),2):\n",
    "            x=self.fcs[idx](x)\n",
    "            x=self.fcs[idx+1](x)\n",
    "            x=F.relu(x)\n",
    "            x=self.drop1(x)\n",
    "        x=self.final(x)\n",
    "        return x"
   ]
  },
  {
   "cell_type": "markdown",
   "id": "29650e97",
   "metadata": {},
   "source": [
    "**This one uses dropout**"
   ]
  },
  {
   "cell_type": "code",
   "execution_count": 13,
   "id": "3ce6540d",
   "metadata": {
    "execution": {
     "iopub.execute_input": "2022-05-15T12:57:14.743075Z",
     "iopub.status.busy": "2022-05-15T12:57:14.742749Z",
     "iopub.status.idle": "2022-05-15T12:57:14.752919Z",
     "shell.execute_reply": "2022-05-15T12:57:14.752134Z"
    },
    "id": "2Pscf5DZlSo0",
    "papermill": {
     "duration": 0.046751,
     "end_time": "2022-05-15T12:57:14.754895",
     "exception": false,
     "start_time": "2022-05-15T12:57:14.708144",
     "status": "completed"
    },
    "tags": []
   },
   "outputs": [],
   "source": [
    "class model_without_dropout(nn.Module):\n",
    "    def __init__(self,in_channels,hidden_layer):\n",
    "        super(model_without_dropout,self).__init__()\n",
    "        self.in_channels=in_channels\n",
    "        self.hidden_layer=hidden_layer\n",
    "        self.drop1=nn.Dropout(p=0.5)\n",
    "        self.drop2=nn.Dropout(p=0.2)\n",
    "        self.fcs=nn.ModuleList()\n",
    "        for idx,layer_size in enumerate(hidden_layer):\n",
    "            self.fcs.append(nn.Linear(in_channels,layer_size))\n",
    "            nn.init.normal_(self.fcs[idx].weight, mean=0.0, std=0.01)\n",
    "            self.fcs.append(nn.BatchNorm1d(layer_size))\n",
    "            in_channels=layer_size\n",
    "        self.final=nn.Linear(in_channels,10)\n",
    "        nn.init.normal_(self.final.weight, mean=0.0, std=0.01)\n",
    "    def forward(self,x):\n",
    "        #x=self.drop2(x)\n",
    "        x = x.view(-1, 28 * 28)\n",
    "        for idx in range(0,len(self.fcs),2):\n",
    "            x=self.fcs[idx](x)\n",
    "            x=self.fcs[idx+1](x)\n",
    "            x=F.relu(x)\n",
    "            #x=self.drop1(x)\n",
    "        x=self.final(x)\n",
    "        return x"
   ]
  },
  {
   "cell_type": "markdown",
   "id": "4d3873ee",
   "metadata": {},
   "source": [
    "**Checker function to check accuracy on test set**"
   ]
  },
  {
   "cell_type": "code",
   "execution_count": 14,
   "id": "62c9e001",
   "metadata": {
    "execution": {
     "iopub.execute_input": "2022-05-15T12:57:14.821448Z",
     "iopub.status.busy": "2022-05-15T12:57:14.821174Z",
     "iopub.status.idle": "2022-05-15T12:57:14.828450Z",
     "shell.execute_reply": "2022-05-15T12:57:14.827520Z"
    },
    "id": "_u_QenyOeATG",
    "papermill": {
     "duration": 0.043102,
     "end_time": "2022-05-15T12:57:14.830914",
     "exception": false,
     "start_time": "2022-05-15T12:57:14.787812",
     "status": "completed"
    },
    "tags": []
   },
   "outputs": [],
   "source": [
    "def check(loader,model,device=\"cuda\"):\n",
    "  model.eval()\n",
    "  num_correct = 0\n",
    "  num_samples = 0\n",
    "  with torch.no_grad():\n",
    "      for t,data in enumerate(loader,0):\n",
    "        x,y=data\n",
    "        x=x.to(device)\n",
    "        y=y.to(device)\n",
    "        scores = model(x)\n",
    "        _, preds = scores.max(1)\n",
    "        num_correct += (preds == y).sum()\n",
    "        num_samples += preds.size(0)\n",
    "      acc = float(num_correct) / num_samples\n",
    "      print('Got %d wrong tests'%(num_samples-num_correct))\n",
    "      print('Got %d / %d correct (%.2f)' % (num_correct, num_samples, 100 * acc))\n"
   ]
  },
  {
   "cell_type": "markdown",
   "id": "7102aad6",
   "metadata": {},
   "source": [
    "**Train loop for baseline teacher and student model**"
   ]
  },
  {
   "cell_type": "code",
   "execution_count": 15,
   "id": "9e33444f",
   "metadata": {
    "execution": {
     "iopub.execute_input": "2022-05-15T12:57:14.899731Z",
     "iopub.status.busy": "2022-05-15T12:57:14.899454Z",
     "iopub.status.idle": "2022-05-15T12:57:14.906106Z",
     "shell.execute_reply": "2022-05-15T12:57:14.905298Z"
    },
    "id": "_toF-8p1qN_X",
    "papermill": {
     "duration": 0.04345,
     "end_time": "2022-05-15T12:57:14.907956",
     "exception": false,
     "start_time": "2022-05-15T12:57:14.864506",
     "status": "completed"
    },
    "tags": []
   },
   "outputs": [],
   "source": [
    "def train_loop(model,optimizer,epochs,scheduler):\n",
    "  for epoch in range(epochs):\n",
    "        for t,data in enumerate(train_val_loader,0):\n",
    "           x,y=data\n",
    "           x=x.to(DEVICE)\n",
    "           y=y.to(DEVICE)\n",
    "           model.to(DEVICE)\n",
    "           model.train()\n",
    "           scores=model(x)\n",
    "           loss=F.cross_entropy(scores,y)\n",
    "           optimizer.zero_grad()\n",
    "           loss.backward()\n",
    "           optimizer.step()\n",
    "        scheduler.step()\n",
    "        check(val_loader,model)\n",
    "        "
   ]
  },
  {
   "cell_type": "markdown",
   "id": "b8f2e5cc",
   "metadata": {},
   "source": [
    "**Train loop for training a distilled model-Uses both croos entropy loss from labels and KL div between the student's and teacher's predicted probabilities**"
   ]
  },
  {
   "cell_type": "code",
   "execution_count": 16,
   "id": "291cb183",
   "metadata": {
    "execution": {
     "iopub.execute_input": "2022-05-15T12:57:14.975126Z",
     "iopub.status.busy": "2022-05-15T12:57:14.974356Z",
     "iopub.status.idle": "2022-05-15T12:57:14.982652Z",
     "shell.execute_reply": "2022-05-15T12:57:14.981858Z"
    },
    "id": "vx5IXMg1aMm1",
    "papermill": {
     "duration": 0.043056,
     "end_time": "2022-05-15T12:57:14.984435",
     "exception": false,
     "start_time": "2022-05-15T12:57:14.941379",
     "status": "completed"
    },
    "tags": []
   },
   "outputs": [],
   "source": [
    "def train_loop_distill(epochs,model1,model3,temperature,soft_targets_weight,label_loss_weight):\n",
    "    #model1----Teacher Model\n",
    "    #model3----Student Model\n",
    "    for epoch in range(epochs):\n",
    "        for t,data in enumerate(train_val_loader,0):\n",
    "            x,y=data\n",
    "            x=x.to(DEVICE)\n",
    "            y=y.to(DEVICE)\n",
    "            model3.to(DEVICE)\n",
    "            model1.eval()\n",
    "            with torch.no_grad():\n",
    "                large_logits = model1(x)\n",
    "            model3.train()\n",
    "            scores=model3(x)\n",
    "            #soft_targets = F.log_softmax(large_logits / temperature, dim=-1)\n",
    "            #soft_prob = F.log_softmax(scores/ temperature, dim=-1)\n",
    "            soft_targets_loss = F.kl_div(F.log_softmax(scores / temperature, dim=1), F.softmax(large_logits / temperature, dim=1), reduction='batchmean')\n",
    "            label_loss = F.cross_entropy(scores, y)\n",
    "            # Weighted sum of the two losses\n",
    "            #label_loss_weight----------(1-alpha)\n",
    "            #soft_targets_weight--------alpha*(temperature^2)\n",
    "            loss = soft_targets_weight * soft_targets_loss + label_loss_weight * label_loss\n",
    "            optimizer_distilled.zero_grad()\n",
    "            loss.backward()\n",
    "            optimizer_distilled.step()\n",
    "        scheduler_distilled.step()\n",
    "        check(val_loader,model3)\n",
    "        "
   ]
  },
  {
   "cell_type": "code",
   "execution_count": 17,
   "id": "69e3e377",
   "metadata": {
    "execution": {
     "iopub.execute_input": "2022-05-15T12:57:15.050207Z",
     "iopub.status.busy": "2022-05-15T12:57:15.049914Z",
     "iopub.status.idle": "2022-05-15T12:57:15.053759Z",
     "shell.execute_reply": "2022-05-15T12:57:15.052990Z"
    },
    "id": "eBVtrPqUj9Ci",
    "papermill": {
     "duration": 0.039469,
     "end_time": "2022-05-15T12:57:15.055683",
     "exception": false,
     "start_time": "2022-05-15T12:57:15.016214",
     "status": "completed"
    },
    "tags": []
   },
   "outputs": [],
   "source": [
    "learning_rate=0.01\n"
   ]
  },
  {
   "cell_type": "markdown",
   "id": "3a86c25b",
   "metadata": {},
   "source": [
    "# Training Teacher Baseline"
   ]
  },
  {
   "cell_type": "code",
   "execution_count": 18,
   "id": "3f1f941e",
   "metadata": {
    "execution": {
     "iopub.execute_input": "2022-05-15T12:57:15.120987Z",
     "iopub.status.busy": "2022-05-15T12:57:15.120697Z",
     "iopub.status.idle": "2022-05-15T12:57:15.156742Z",
     "shell.execute_reply": "2022-05-15T12:57:15.155934Z"
    },
    "id": "I1GGM1wpBQzY",
    "papermill": {
     "duration": 0.071131,
     "end_time": "2022-05-15T12:57:15.159234",
     "exception": false,
     "start_time": "2022-05-15T12:57:15.088103",
     "status": "completed"
    },
    "tags": []
   },
   "outputs": [],
   "source": [
    "model_teacher = model_without_dropout(784,[1200,1200])\n",
    "optimizer_teacher =torch.optim.SGD(model_teacher.parameters(), lr=learning_rate,weight_decay=1e-5,momentum=0.9)\n",
    "scheduler_teacher = torch.optim.lr_scheduler.StepLR(optimizer_teacher, step_size=1, gamma=0.95)"
   ]
  },
  {
   "cell_type": "code",
   "execution_count": 19,
   "id": "054bddf9",
   "metadata": {
    "execution": {
     "iopub.execute_input": "2022-05-15T12:57:15.227149Z",
     "iopub.status.busy": "2022-05-15T12:57:15.226428Z",
     "iopub.status.idle": "2022-05-15T13:17:39.492695Z",
     "shell.execute_reply": "2022-05-15T13:17:39.491798Z"
    },
    "id": "zGc57NWUl9bE",
    "papermill": {
     "duration": 1224.353163,
     "end_time": "2022-05-15T13:17:39.546861",
     "exception": false,
     "start_time": "2022-05-15T12:57:15.193698",
     "status": "completed"
    },
    "tags": []
   },
   "outputs": [
    {
     "name": "stdout",
     "output_type": "stream",
     "text": [
      "Got 164 wrong tests\n",
      "Got 2836 / 3000 correct (94.53)\n",
      "Got 108 wrong tests\n",
      "Got 2892 / 3000 correct (96.40)\n",
      "Got 89 wrong tests\n",
      "Got 2911 / 3000 correct (97.03)\n",
      "Got 73 wrong tests\n",
      "Got 2927 / 3000 correct (97.57)\n",
      "Got 73 wrong tests\n",
      "Got 2927 / 3000 correct (97.57)\n",
      "Got 62 wrong tests\n",
      "Got 2938 / 3000 correct (97.93)\n",
      "Got 58 wrong tests\n",
      "Got 2942 / 3000 correct (98.07)\n",
      "Got 53 wrong tests\n",
      "Got 2947 / 3000 correct (98.23)\n",
      "Got 42 wrong tests\n",
      "Got 2958 / 3000 correct (98.60)\n",
      "Got 36 wrong tests\n",
      "Got 2964 / 3000 correct (98.80)\n",
      "Got 30 wrong tests\n",
      "Got 2970 / 3000 correct (99.00)\n",
      "Got 33 wrong tests\n",
      "Got 2967 / 3000 correct (98.90)\n",
      "Got 31 wrong tests\n",
      "Got 2969 / 3000 correct (98.97)\n",
      "Got 29 wrong tests\n",
      "Got 2971 / 3000 correct (99.03)\n",
      "Got 33 wrong tests\n",
      "Got 2967 / 3000 correct (98.90)\n",
      "Got 22 wrong tests\n",
      "Got 2978 / 3000 correct (99.27)\n",
      "Got 32 wrong tests\n",
      "Got 2968 / 3000 correct (98.93)\n",
      "Got 23 wrong tests\n",
      "Got 2977 / 3000 correct (99.23)\n",
      "Got 22 wrong tests\n",
      "Got 2978 / 3000 correct (99.27)\n",
      "Got 21 wrong tests\n",
      "Got 2979 / 3000 correct (99.30)\n",
      "Got 24 wrong tests\n",
      "Got 2976 / 3000 correct (99.20)\n",
      "Got 19 wrong tests\n",
      "Got 2981 / 3000 correct (99.37)\n",
      "Got 20 wrong tests\n",
      "Got 2980 / 3000 correct (99.33)\n",
      "Got 18 wrong tests\n",
      "Got 2982 / 3000 correct (99.40)\n",
      "Got 13 wrong tests\n",
      "Got 2987 / 3000 correct (99.57)\n",
      "Got 13 wrong tests\n",
      "Got 2987 / 3000 correct (99.57)\n",
      "Got 14 wrong tests\n",
      "Got 2986 / 3000 correct (99.53)\n",
      "Got 8 wrong tests\n",
      "Got 2992 / 3000 correct (99.73)\n",
      "Got 19 wrong tests\n",
      "Got 2981 / 3000 correct (99.37)\n",
      "Got 16 wrong tests\n",
      "Got 2984 / 3000 correct (99.47)\n",
      "Got 14 wrong tests\n",
      "Got 2986 / 3000 correct (99.53)\n",
      "Got 13 wrong tests\n",
      "Got 2987 / 3000 correct (99.57)\n",
      "Got 13 wrong tests\n",
      "Got 2987 / 3000 correct (99.57)\n",
      "Got 11 wrong tests\n",
      "Got 2989 / 3000 correct (99.63)\n",
      "Got 12 wrong tests\n",
      "Got 2988 / 3000 correct (99.60)\n",
      "Got 11 wrong tests\n",
      "Got 2989 / 3000 correct (99.63)\n",
      "Got 14 wrong tests\n",
      "Got 2986 / 3000 correct (99.53)\n",
      "Got 12 wrong tests\n",
      "Got 2988 / 3000 correct (99.60)\n",
      "Got 7 wrong tests\n",
      "Got 2993 / 3000 correct (99.77)\n",
      "Got 12 wrong tests\n",
      "Got 2988 / 3000 correct (99.60)\n",
      "Got 8 wrong tests\n",
      "Got 2992 / 3000 correct (99.73)\n",
      "Got 7 wrong tests\n",
      "Got 2993 / 3000 correct (99.77)\n",
      "Got 9 wrong tests\n",
      "Got 2991 / 3000 correct (99.70)\n",
      "Got 8 wrong tests\n",
      "Got 2992 / 3000 correct (99.73)\n",
      "Got 11 wrong tests\n",
      "Got 2989 / 3000 correct (99.63)\n",
      "Got 5 wrong tests\n",
      "Got 2995 / 3000 correct (99.83)\n",
      "Got 6 wrong tests\n",
      "Got 2994 / 3000 correct (99.80)\n",
      "Got 6 wrong tests\n",
      "Got 2994 / 3000 correct (99.80)\n",
      "Got 8 wrong tests\n",
      "Got 2992 / 3000 correct (99.73)\n",
      "Got 7 wrong tests\n",
      "Got 2993 / 3000 correct (99.77)\n",
      "Got 7 wrong tests\n",
      "Got 2993 / 3000 correct (99.77)\n",
      "Got 9 wrong tests\n",
      "Got 2991 / 3000 correct (99.70)\n",
      "Got 9 wrong tests\n",
      "Got 2991 / 3000 correct (99.70)\n",
      "Got 7 wrong tests\n",
      "Got 2993 / 3000 correct (99.77)\n",
      "Got 6 wrong tests\n",
      "Got 2994 / 3000 correct (99.80)\n",
      "Got 10 wrong tests\n",
      "Got 2990 / 3000 correct (99.67)\n",
      "Got 4 wrong tests\n",
      "Got 2996 / 3000 correct (99.87)\n",
      "Got 6 wrong tests\n",
      "Got 2994 / 3000 correct (99.80)\n",
      "Got 9 wrong tests\n",
      "Got 2991 / 3000 correct (99.70)\n",
      "Got 9 wrong tests\n",
      "Got 2991 / 3000 correct (99.70)\n"
     ]
    }
   ],
   "source": [
    "train_loop(model_teacher,optimizer_teacher,60,scheduler_teacher)"
   ]
  },
  {
   "cell_type": "code",
   "execution_count": 20,
   "id": "216a5f8e",
   "metadata": {
    "execution": {
     "iopub.execute_input": "2022-05-15T13:17:39.651666Z",
     "iopub.status.busy": "2022-05-15T13:17:39.650908Z",
     "iopub.status.idle": "2022-05-15T13:17:41.736717Z",
     "shell.execute_reply": "2022-05-15T13:17:41.735814Z"
    },
    "papermill": {
     "duration": 2.14024,
     "end_time": "2022-05-15T13:17:41.738828",
     "exception": false,
     "start_time": "2022-05-15T13:17:39.598588",
     "status": "completed"
    },
    "tags": []
   },
   "outputs": [
    {
     "name": "stdout",
     "output_type": "stream",
     "text": [
      "Got 71 wrong tests\n",
      "Got 9929 / 10000 correct (99.29)\n",
      "None\n"
     ]
    }
   ],
   "source": [
    "acc=check(test_loader,model_teacher)\n",
    "print(acc)"
   ]
  },
  {
   "cell_type": "markdown",
   "id": "c45dccaf",
   "metadata": {},
   "source": [
    "**Loading datasets for the student and distilled student They do not use augmented train sets**"
   ]
  },
  {
   "cell_type": "code",
   "execution_count": 21,
   "id": "adec56ed",
   "metadata": {
    "execution": {
     "iopub.execute_input": "2022-05-15T13:17:41.852748Z",
     "iopub.status.busy": "2022-05-15T13:17:41.852459Z",
     "iopub.status.idle": "2022-05-15T13:17:41.949679Z",
     "shell.execute_reply": "2022-05-15T13:17:41.948823Z"
    },
    "id": "SXCAzYMhf_jv",
    "outputId": "404cd30e-911c-4521-c0ae-8d659b76d216",
    "papermill": {
     "duration": 0.158933,
     "end_time": "2022-05-15T13:17:41.952101",
     "exception": false,
     "start_time": "2022-05-15T13:17:41.793168",
     "status": "completed"
    },
    "tags": []
   },
   "outputs": [],
   "source": [
    "transform = transforms.Compose(\n",
    "                [\n",
    "                    transforms.ToTensor(),\n",
    "                    transforms.Normalize((0.5,), (0.5,))\n",
    "                ]\n",
    "            )\n",
    "\n",
    "train_val_dataset = torchvision.datasets.MNIST(root='./MNIST_dataset/', train=True, \n",
    "                                            download=True, transform=transform)\n",
    "\n",
    "test_dataset = torchvision.datasets.MNIST(root='./MNIST_dataset/', train=False, \n",
    "                                            download=True, transform=transform)\n",
    "\n",
    "num_train = int(1.0 * len(train_val_dataset) * 95 / 100)\n",
    "num_val = len(train_val_dataset) - num_train\n",
    "train_dataset, val_dataset = torch.utils.data.random_split(train_val_dataset, [num_train, num_val])\n",
    "\n",
    "batch_size = 128\n",
    "train_val_loader = torch.utils.data.DataLoader(train_val_dataset, batch_size=128, shuffle=True, num_workers=2)\n",
    "train_loader = torch.utils.data.DataLoader(train_dataset, batch_size=128, shuffle=True, num_workers=2)\n",
    "val_loader = torch.utils.data.DataLoader(val_dataset, batch_size=128, shuffle=False, num_workers=2)\n",
    "test_loader = torch.utils.data.DataLoader(test_dataset, batch_size=128, shuffle=False, num_workers=2)"
   ]
  },
  {
   "cell_type": "code",
   "execution_count": 22,
   "id": "14fa332e",
   "metadata": {
    "execution": {
     "iopub.execute_input": "2022-05-15T13:17:42.057768Z",
     "iopub.status.busy": "2022-05-15T13:17:42.057493Z",
     "iopub.status.idle": "2022-05-15T13:17:42.081596Z",
     "shell.execute_reply": "2022-05-15T13:17:42.080630Z"
    },
    "id": "UbsVtKhfA3iT",
    "papermill": {
     "duration": 0.080465,
     "end_time": "2022-05-15T13:17:42.084187",
     "exception": false,
     "start_time": "2022-05-15T13:17:42.003722",
     "status": "completed"
    },
    "tags": []
   },
   "outputs": [],
   "source": [
    "model_student=model_without_dropout(784,[800,800])\n",
    "optimizer_student =torch.optim.SGD(model_student.parameters(), lr=learning_rate,weight_decay=1e-5,momentum=0.9)\n",
    "scheduler_student = torch.optim.lr_scheduler.StepLR(optimizer_student, step_size=1, gamma=0.95)"
   ]
  },
  {
   "cell_type": "code",
   "execution_count": 23,
   "id": "d2bd98ac",
   "metadata": {
    "execution": {
     "iopub.execute_input": "2022-05-15T13:17:42.193764Z",
     "iopub.status.busy": "2022-05-15T13:17:42.193487Z",
     "iopub.status.idle": "2022-05-15T13:17:42.215761Z",
     "shell.execute_reply": "2022-05-15T13:17:42.214892Z"
    },
    "id": "4Eo3Krr9_71D",
    "papermill": {
     "duration": 0.080729,
     "end_time": "2022-05-15T13:17:42.218361",
     "exception": false,
     "start_time": "2022-05-15T13:17:42.137632",
     "status": "completed"
    },
    "tags": []
   },
   "outputs": [],
   "source": [
    "model_distilled=model_without_dropout(784,[800,800])\n",
    "optimizer_distilled =torch.optim.SGD(model_distilled.parameters(), lr=learning_rate,weight_decay=1e-5,momentum=0.9)\n",
    "scheduler_distilled = torch.optim.lr_scheduler.StepLR(optimizer_distilled, step_size=1, gamma=0.95)"
   ]
  },
  {
   "cell_type": "markdown",
   "id": "1e3545ce",
   "metadata": {},
   "source": [
    "# Student Baseline"
   ]
  },
  {
   "cell_type": "code",
   "execution_count": 24,
   "id": "d4b070be",
   "metadata": {
    "execution": {
     "iopub.execute_input": "2022-05-15T13:17:42.332979Z",
     "iopub.status.busy": "2022-05-15T13:17:42.332690Z",
     "iopub.status.idle": "2022-05-15T13:32:22.824632Z",
     "shell.execute_reply": "2022-05-15T13:32:22.815673Z"
    },
    "id": "x5PGqmxI7dxe",
    "outputId": "db434058-b805-403b-d5a1-6f91b308b23c",
    "papermill": {
     "duration": 880.686654,
     "end_time": "2022-05-15T13:32:22.964624",
     "exception": false,
     "start_time": "2022-05-15T13:17:42.277970",
     "status": "completed"
    },
    "tags": []
   },
   "outputs": [
    {
     "name": "stdout",
     "output_type": "stream",
     "text": [
      "Got 71 wrong tests\n",
      "Got 2929 / 3000 correct (97.63)\n",
      "Got 27 wrong tests\n",
      "Got 2973 / 3000 correct (99.10)\n",
      "Got 24 wrong tests\n",
      "Got 2976 / 3000 correct (99.20)\n",
      "Got 12 wrong tests\n",
      "Got 2988 / 3000 correct (99.60)\n",
      "Got 8 wrong tests\n",
      "Got 2992 / 3000 correct (99.73)\n",
      "Got 2 wrong tests\n",
      "Got 2998 / 3000 correct (99.93)\n",
      "Got 0 wrong tests\n",
      "Got 3000 / 3000 correct (100.00)\n",
      "Got 1 wrong tests\n",
      "Got 2999 / 3000 correct (99.97)\n",
      "Got 0 wrong tests\n",
      "Got 3000 / 3000 correct (100.00)\n",
      "Got 0 wrong tests\n",
      "Got 3000 / 3000 correct (100.00)\n",
      "Got 0 wrong tests\n",
      "Got 3000 / 3000 correct (100.00)\n",
      "Got 0 wrong tests\n",
      "Got 3000 / 3000 correct (100.00)\n",
      "Got 0 wrong tests\n",
      "Got 3000 / 3000 correct (100.00)\n",
      "Got 1 wrong tests\n",
      "Got 2999 / 3000 correct (99.97)\n",
      "Got 0 wrong tests\n",
      "Got 3000 / 3000 correct (100.00)\n",
      "Got 0 wrong tests\n",
      "Got 3000 / 3000 correct (100.00)\n",
      "Got 0 wrong tests\n",
      "Got 3000 / 3000 correct (100.00)\n",
      "Got 0 wrong tests\n",
      "Got 3000 / 3000 correct (100.00)\n",
      "Got 0 wrong tests\n",
      "Got 3000 / 3000 correct (100.00)\n",
      "Got 0 wrong tests\n",
      "Got 3000 / 3000 correct (100.00)\n",
      "Got 0 wrong tests\n",
      "Got 3000 / 3000 correct (100.00)\n",
      "Got 0 wrong tests\n",
      "Got 3000 / 3000 correct (100.00)\n",
      "Got 0 wrong tests\n",
      "Got 3000 / 3000 correct (100.00)\n",
      "Got 0 wrong tests\n",
      "Got 3000 / 3000 correct (100.00)\n",
      "Got 0 wrong tests\n",
      "Got 3000 / 3000 correct (100.00)\n",
      "Got 0 wrong tests\n",
      "Got 3000 / 3000 correct (100.00)\n",
      "Got 0 wrong tests\n",
      "Got 3000 / 3000 correct (100.00)\n",
      "Got 0 wrong tests\n",
      "Got 3000 / 3000 correct (100.00)\n",
      "Got 0 wrong tests\n",
      "Got 3000 / 3000 correct (100.00)\n",
      "Got 0 wrong tests\n",
      "Got 3000 / 3000 correct (100.00)\n",
      "Got 0 wrong tests\n",
      "Got 3000 / 3000 correct (100.00)\n",
      "Got 0 wrong tests\n",
      "Got 3000 / 3000 correct (100.00)\n",
      "Got 0 wrong tests\n",
      "Got 3000 / 3000 correct (100.00)\n",
      "Got 0 wrong tests\n",
      "Got 3000 / 3000 correct (100.00)\n",
      "Got 0 wrong tests\n",
      "Got 3000 / 3000 correct (100.00)\n",
      "Got 0 wrong tests\n",
      "Got 3000 / 3000 correct (100.00)\n",
      "Got 0 wrong tests\n",
      "Got 3000 / 3000 correct (100.00)\n",
      "Got 0 wrong tests\n",
      "Got 3000 / 3000 correct (100.00)\n",
      "Got 0 wrong tests\n",
      "Got 3000 / 3000 correct (100.00)\n",
      "Got 0 wrong tests\n",
      "Got 3000 / 3000 correct (100.00)\n",
      "Got 0 wrong tests\n",
      "Got 3000 / 3000 correct (100.00)\n",
      "Got 0 wrong tests\n",
      "Got 3000 / 3000 correct (100.00)\n",
      "Got 0 wrong tests\n",
      "Got 3000 / 3000 correct (100.00)\n",
      "Got 0 wrong tests\n",
      "Got 3000 / 3000 correct (100.00)\n",
      "Got 0 wrong tests\n",
      "Got 3000 / 3000 correct (100.00)\n",
      "Got 0 wrong tests\n",
      "Got 3000 / 3000 correct (100.00)\n",
      "Got 0 wrong tests\n",
      "Got 3000 / 3000 correct (100.00)\n",
      "Got 0 wrong tests\n",
      "Got 3000 / 3000 correct (100.00)\n",
      "Got 0 wrong tests\n",
      "Got 3000 / 3000 correct (100.00)\n",
      "Got 0 wrong tests\n",
      "Got 3000 / 3000 correct (100.00)\n",
      "Got 0 wrong tests\n",
      "Got 3000 / 3000 correct (100.00)\n",
      "Got 0 wrong tests\n",
      "Got 3000 / 3000 correct (100.00)\n",
      "Got 0 wrong tests\n",
      "Got 3000 / 3000 correct (100.00)\n",
      "Got 0 wrong tests\n",
      "Got 3000 / 3000 correct (100.00)\n",
      "Got 0 wrong tests\n",
      "Got 3000 / 3000 correct (100.00)\n",
      "Got 0 wrong tests\n",
      "Got 3000 / 3000 correct (100.00)\n",
      "Got 0 wrong tests\n",
      "Got 3000 / 3000 correct (100.00)\n",
      "Got 0 wrong tests\n",
      "Got 3000 / 3000 correct (100.00)\n",
      "Got 0 wrong tests\n",
      "Got 3000 / 3000 correct (100.00)\n",
      "Got 0 wrong tests\n",
      "Got 3000 / 3000 correct (100.00)\n"
     ]
    }
   ],
   "source": [
    "train_loop(model_student,optimizer_student,60,scheduler_student)"
   ]
  },
  {
   "cell_type": "code",
   "execution_count": 25,
   "id": "2d8ff7bc",
   "metadata": {
    "execution": {
     "iopub.execute_input": "2022-05-15T13:32:23.224524Z",
     "iopub.status.busy": "2022-05-15T13:32:23.224174Z",
     "iopub.status.idle": "2022-05-15T13:32:25.741317Z",
     "shell.execute_reply": "2022-05-15T13:32:25.740264Z"
    },
    "papermill": {
     "duration": 2.646964,
     "end_time": "2022-05-15T13:32:25.743857",
     "exception": false,
     "start_time": "2022-05-15T13:32:23.096893",
     "status": "completed"
    },
    "tags": []
   },
   "outputs": [
    {
     "name": "stdout",
     "output_type": "stream",
     "text": [
      "Got 135 wrong tests\n",
      "Got 9865 / 10000 correct (98.65)\n",
      "None\n"
     ]
    }
   ],
   "source": [
    "acc=check(test_loader,model_student)\n",
    "print(acc)"
   ]
  },
  {
   "cell_type": "code",
   "execution_count": 26,
   "id": "6a853c6d",
   "metadata": {
    "execution": {
     "iopub.execute_input": "2022-05-15T13:32:25.913585Z",
     "iopub.status.busy": "2022-05-15T13:32:25.912708Z",
     "iopub.status.idle": "2022-05-15T13:47:33.321245Z",
     "shell.execute_reply": "2022-05-15T13:47:33.320187Z"
    },
    "id": "ey68igoBZULA",
    "outputId": "62b7c5b8-657d-4dd6-d0e6-b9b98013d370",
    "papermill": {
     "duration": 907.495037,
     "end_time": "2022-05-15T13:47:33.323786",
     "exception": false,
     "start_time": "2022-05-15T13:32:25.828749",
     "status": "completed"
    },
    "tags": []
   },
   "outputs": [
    {
     "name": "stdout",
     "output_type": "stream",
     "text": [
      "Got 31 wrong tests\n",
      "Got 2969 / 3000 correct (98.97)\n",
      "Got 16 wrong tests\n",
      "Got 2984 / 3000 correct (99.47)\n",
      "Got 18 wrong tests\n",
      "Got 2982 / 3000 correct (99.40)\n",
      "Got 8 wrong tests\n",
      "Got 2992 / 3000 correct (99.73)\n",
      "Got 5 wrong tests\n",
      "Got 2995 / 3000 correct (99.83)\n",
      "Got 6 wrong tests\n",
      "Got 2994 / 3000 correct (99.80)\n",
      "Got 5 wrong tests\n",
      "Got 2995 / 3000 correct (99.83)\n",
      "Got 3 wrong tests\n",
      "Got 2997 / 3000 correct (99.90)\n",
      "Got 4 wrong tests\n",
      "Got 2996 / 3000 correct (99.87)\n",
      "Got 3 wrong tests\n",
      "Got 2997 / 3000 correct (99.90)\n",
      "Got 3 wrong tests\n",
      "Got 2997 / 3000 correct (99.90)\n",
      "Got 3 wrong tests\n",
      "Got 2997 / 3000 correct (99.90)\n",
      "Got 3 wrong tests\n",
      "Got 2997 / 3000 correct (99.90)\n",
      "Got 3 wrong tests\n",
      "Got 2997 / 3000 correct (99.90)\n",
      "Got 3 wrong tests\n",
      "Got 2997 / 3000 correct (99.90)\n",
      "Got 3 wrong tests\n",
      "Got 2997 / 3000 correct (99.90)\n",
      "Got 3 wrong tests\n",
      "Got 2997 / 3000 correct (99.90)\n",
      "Got 3 wrong tests\n",
      "Got 2997 / 3000 correct (99.90)\n",
      "Got 3 wrong tests\n",
      "Got 2997 / 3000 correct (99.90)\n",
      "Got 3 wrong tests\n",
      "Got 2997 / 3000 correct (99.90)\n",
      "Got 3 wrong tests\n",
      "Got 2997 / 3000 correct (99.90)\n",
      "Got 3 wrong tests\n",
      "Got 2997 / 3000 correct (99.90)\n",
      "Got 3 wrong tests\n",
      "Got 2997 / 3000 correct (99.90)\n",
      "Got 3 wrong tests\n",
      "Got 2997 / 3000 correct (99.90)\n",
      "Got 3 wrong tests\n",
      "Got 2997 / 3000 correct (99.90)\n",
      "Got 3 wrong tests\n",
      "Got 2997 / 3000 correct (99.90)\n",
      "Got 3 wrong tests\n",
      "Got 2997 / 3000 correct (99.90)\n",
      "Got 3 wrong tests\n",
      "Got 2997 / 3000 correct (99.90)\n",
      "Got 3 wrong tests\n",
      "Got 2997 / 3000 correct (99.90)\n",
      "Got 3 wrong tests\n",
      "Got 2997 / 3000 correct (99.90)\n",
      "Got 3 wrong tests\n",
      "Got 2997 / 3000 correct (99.90)\n",
      "Got 3 wrong tests\n",
      "Got 2997 / 3000 correct (99.90)\n",
      "Got 3 wrong tests\n",
      "Got 2997 / 3000 correct (99.90)\n",
      "Got 3 wrong tests\n",
      "Got 2997 / 3000 correct (99.90)\n",
      "Got 3 wrong tests\n",
      "Got 2997 / 3000 correct (99.90)\n",
      "Got 3 wrong tests\n",
      "Got 2997 / 3000 correct (99.90)\n",
      "Got 3 wrong tests\n",
      "Got 2997 / 3000 correct (99.90)\n",
      "Got 3 wrong tests\n",
      "Got 2997 / 3000 correct (99.90)\n",
      "Got 3 wrong tests\n",
      "Got 2997 / 3000 correct (99.90)\n",
      "Got 3 wrong tests\n",
      "Got 2997 / 3000 correct (99.90)\n",
      "Got 3 wrong tests\n",
      "Got 2997 / 3000 correct (99.90)\n",
      "Got 3 wrong tests\n",
      "Got 2997 / 3000 correct (99.90)\n",
      "Got 3 wrong tests\n",
      "Got 2997 / 3000 correct (99.90)\n",
      "Got 3 wrong tests\n",
      "Got 2997 / 3000 correct (99.90)\n",
      "Got 3 wrong tests\n",
      "Got 2997 / 3000 correct (99.90)\n",
      "Got 3 wrong tests\n",
      "Got 2997 / 3000 correct (99.90)\n",
      "Got 3 wrong tests\n",
      "Got 2997 / 3000 correct (99.90)\n",
      "Got 3 wrong tests\n",
      "Got 2997 / 3000 correct (99.90)\n",
      "Got 3 wrong tests\n",
      "Got 2997 / 3000 correct (99.90)\n",
      "Got 3 wrong tests\n",
      "Got 2997 / 3000 correct (99.90)\n",
      "Got 3 wrong tests\n",
      "Got 2997 / 3000 correct (99.90)\n",
      "Got 3 wrong tests\n",
      "Got 2997 / 3000 correct (99.90)\n",
      "Got 3 wrong tests\n",
      "Got 2997 / 3000 correct (99.90)\n",
      "Got 3 wrong tests\n",
      "Got 2997 / 3000 correct (99.90)\n",
      "Got 3 wrong tests\n",
      "Got 2997 / 3000 correct (99.90)\n",
      "Got 3 wrong tests\n",
      "Got 2997 / 3000 correct (99.90)\n",
      "Got 3 wrong tests\n",
      "Got 2997 / 3000 correct (99.90)\n",
      "Got 3 wrong tests\n",
      "Got 2997 / 3000 correct (99.90)\n",
      "Got 3 wrong tests\n",
      "Got 2997 / 3000 correct (99.90)\n",
      "Got 3 wrong tests\n",
      "Got 2997 / 3000 correct (99.90)\n"
     ]
    }
   ],
   "source": [
    "train_loop_distill(60,model_teacher,model_distilled,temperature=20,soft_targets_weight=200,label_loss_weight=0.5)"
   ]
  },
  {
   "cell_type": "code",
   "execution_count": 27,
   "id": "db6599ac",
   "metadata": {
    "execution": {
     "iopub.execute_input": "2022-05-15T13:47:33.622409Z",
     "iopub.status.busy": "2022-05-15T13:47:33.620608Z",
     "iopub.status.idle": "2022-05-15T13:47:36.594945Z",
     "shell.execute_reply": "2022-05-15T13:47:36.594059Z"
    },
    "papermill": {
     "duration": 3.137618,
     "end_time": "2022-05-15T13:47:36.598318",
     "exception": false,
     "start_time": "2022-05-15T13:47:33.460700",
     "status": "completed"
    },
    "tags": []
   },
   "outputs": [
    {
     "name": "stdout",
     "output_type": "stream",
     "text": [
      "Got 71 wrong tests\n",
      "Got 9929 / 10000 correct (99.29)\n",
      "None\n"
     ]
    }
   ],
   "source": [
    "acc=check(test_loader,model_teacher)\n",
    "print(acc)"
   ]
  },
  {
   "cell_type": "code",
   "execution_count": 28,
   "id": "7e4855e1",
   "metadata": {
    "execution": {
     "iopub.execute_input": "2022-05-15T13:47:36.877776Z",
     "iopub.status.busy": "2022-05-15T13:47:36.877494Z",
     "iopub.status.idle": "2022-05-15T13:47:39.102090Z",
     "shell.execute_reply": "2022-05-15T13:47:39.101164Z"
    },
    "papermill": {
     "duration": 2.345491,
     "end_time": "2022-05-15T13:47:39.104629",
     "exception": false,
     "start_time": "2022-05-15T13:47:36.759138",
     "status": "completed"
    },
    "tags": []
   },
   "outputs": [
    {
     "name": "stdout",
     "output_type": "stream",
     "text": [
      "Got 135 wrong tests\n",
      "Got 9865 / 10000 correct (98.65)\n",
      "None\n"
     ]
    }
   ],
   "source": [
    "acc=check(test_loader,model_student)\n",
    "print(acc)"
   ]
  },
  {
   "cell_type": "code",
   "execution_count": 29,
   "id": "e8d51f74",
   "metadata": {
    "execution": {
     "iopub.execute_input": "2022-05-15T13:47:39.309242Z",
     "iopub.status.busy": "2022-05-15T13:47:39.308361Z",
     "iopub.status.idle": "2022-05-15T13:47:41.539231Z",
     "shell.execute_reply": "2022-05-15T13:47:41.538293Z"
    },
    "id": "0l7CoIQqZKUb",
    "outputId": "105c1e1d-f2ee-4f7b-9580-dbc835cd2dcf",
    "papermill": {
     "duration": 2.335792,
     "end_time": "2022-05-15T13:47:41.541799",
     "exception": false,
     "start_time": "2022-05-15T13:47:39.206007",
     "status": "completed"
    },
    "tags": []
   },
   "outputs": [
    {
     "name": "stdout",
     "output_type": "stream",
     "text": [
      "Got 77 wrong tests\n",
      "Got 9923 / 10000 correct (99.23)\n",
      "None\n"
     ]
    }
   ],
   "source": [
    "acc=check(test_loader,model_distilled)\n",
    "print(acc)"
   ]
  },
  {
   "cell_type": "code",
   "execution_count": null,
   "id": "ae4fe4b0",
   "metadata": {
    "id": "MKI5bq4Cb9Xl",
    "outputId": "db968180-8390-4d09-9331-ed9bfe4666f7",
    "papermill": {
     "duration": 0.096004,
     "end_time": "2022-05-15T13:47:41.735760",
     "exception": false,
     "start_time": "2022-05-15T13:47:41.639756",
     "status": "completed"
    },
    "tags": []
   },
   "outputs": [],
   "source": []
  },
  {
   "cell_type": "code",
   "execution_count": null,
   "id": "28bf7010",
   "metadata": {
    "id": "rnT9qddNAT3L",
    "papermill": {
     "duration": 0.097912,
     "end_time": "2022-05-15T13:47:41.930017",
     "exception": false,
     "start_time": "2022-05-15T13:47:41.832105",
     "status": "completed"
    },
    "tags": []
   },
   "outputs": [],
   "source": []
  }
 ],
 "metadata": {
  "kernelspec": {
   "display_name": "Python 3",
   "language": "python",
   "name": "python3"
  },
  "language_info": {
   "codemirror_mode": {
    "name": "ipython",
    "version": 3
   },
   "file_extension": ".py",
   "mimetype": "text/x-python",
   "name": "python",
   "nbconvert_exporter": "python",
   "pygments_lexer": "ipython3",
   "version": "3.7.12"
  },
  "papermill": {
   "default_parameters": {},
   "duration": 3042.101656,
   "end_time": "2022-05-15T13:47:43.356166",
   "environment_variables": {},
   "exception": null,
   "input_path": "__notebook__.ipynb",
   "output_path": "__notebook__.ipynb",
   "parameters": {},
   "start_time": "2022-05-15T12:57:01.254510",
   "version": "2.3.4"
  },
  "widgets": {
   "application/vnd.jupyter.widget-state+json": {
    "state": {
     "08eb1c68753d47f7bc97805b2bd22921": {
      "model_module": "@jupyter-widgets/controls",
      "model_module_version": "1.5.0",
      "model_name": "HTMLModel",
      "state": {
       "_dom_classes": [],
       "_model_module": "@jupyter-widgets/controls",
       "_model_module_version": "1.5.0",
       "_model_name": "HTMLModel",
       "_view_count": null,
       "_view_module": "@jupyter-widgets/controls",
       "_view_module_version": "1.5.0",
       "_view_name": "HTMLView",
       "description": "",
       "description_tooltip": null,
       "layout": "IPY_MODEL_2f0d0e2f537a4c4fb4e38de8009c65ce",
       "placeholder": "​",
       "style": "IPY_MODEL_0e5ce5e502db469ba02ebf7d23aec812",
       "value": ""
      }
     },
     "0e5ce5e502db469ba02ebf7d23aec812": {
      "model_module": "@jupyter-widgets/controls",
      "model_module_version": "1.5.0",
      "model_name": "DescriptionStyleModel",
      "state": {
       "_model_module": "@jupyter-widgets/controls",
       "_model_module_version": "1.5.0",
       "_model_name": "DescriptionStyleModel",
       "_view_count": null,
       "_view_module": "@jupyter-widgets/base",
       "_view_module_version": "1.2.0",
       "_view_name": "StyleView",
       "description_width": ""
      }
     },
     "0f3980ef3dd24e0e8b07146085f6cc2e": {
      "model_module": "@jupyter-widgets/controls",
      "model_module_version": "1.5.0",
      "model_name": "DescriptionStyleModel",
      "state": {
       "_model_module": "@jupyter-widgets/controls",
       "_model_module_version": "1.5.0",
       "_model_name": "DescriptionStyleModel",
       "_view_count": null,
       "_view_module": "@jupyter-widgets/base",
       "_view_module_version": "1.2.0",
       "_view_name": "StyleView",
       "description_width": ""
      }
     },
     "1e9acb3267f64ae5a975090e705be127": {
      "model_module": "@jupyter-widgets/base",
      "model_module_version": "1.2.0",
      "model_name": "LayoutModel",
      "state": {
       "_model_module": "@jupyter-widgets/base",
       "_model_module_version": "1.2.0",
       "_model_name": "LayoutModel",
       "_view_count": null,
       "_view_module": "@jupyter-widgets/base",
       "_view_module_version": "1.2.0",
       "_view_name": "LayoutView",
       "align_content": null,
       "align_items": null,
       "align_self": null,
       "border": null,
       "bottom": null,
       "display": null,
       "flex": null,
       "flex_flow": null,
       "grid_area": null,
       "grid_auto_columns": null,
       "grid_auto_flow": null,
       "grid_auto_rows": null,
       "grid_column": null,
       "grid_gap": null,
       "grid_row": null,
       "grid_template_areas": null,
       "grid_template_columns": null,
       "grid_template_rows": null,
       "height": null,
       "justify_content": null,
       "justify_items": null,
       "left": null,
       "margin": null,
       "max_height": null,
       "max_width": null,
       "min_height": null,
       "min_width": null,
       "object_fit": null,
       "object_position": null,
       "order": null,
       "overflow": null,
       "overflow_x": null,
       "overflow_y": null,
       "padding": null,
       "right": null,
       "top": null,
       "visibility": null,
       "width": null
      }
     },
     "2476fb4975384d18848ab9dbd2febd94": {
      "model_module": "@jupyter-widgets/base",
      "model_module_version": "1.2.0",
      "model_name": "LayoutModel",
      "state": {
       "_model_module": "@jupyter-widgets/base",
       "_model_module_version": "1.2.0",
       "_model_name": "LayoutModel",
       "_view_count": null,
       "_view_module": "@jupyter-widgets/base",
       "_view_module_version": "1.2.0",
       "_view_name": "LayoutView",
       "align_content": null,
       "align_items": null,
       "align_self": null,
       "border": null,
       "bottom": null,
       "display": null,
       "flex": null,
       "flex_flow": null,
       "grid_area": null,
       "grid_auto_columns": null,
       "grid_auto_flow": null,
       "grid_auto_rows": null,
       "grid_column": null,
       "grid_gap": null,
       "grid_row": null,
       "grid_template_areas": null,
       "grid_template_columns": null,
       "grid_template_rows": null,
       "height": null,
       "justify_content": null,
       "justify_items": null,
       "left": null,
       "margin": null,
       "max_height": null,
       "max_width": null,
       "min_height": null,
       "min_width": null,
       "object_fit": null,
       "object_position": null,
       "order": null,
       "overflow": null,
       "overflow_x": null,
       "overflow_y": null,
       "padding": null,
       "right": null,
       "top": null,
       "visibility": null,
       "width": null
      }
     },
     "28e9a3a3b7c945b8ae2571c04e8115bd": {
      "model_module": "@jupyter-widgets/controls",
      "model_module_version": "1.5.0",
      "model_name": "HTMLModel",
      "state": {
       "_dom_classes": [],
       "_model_module": "@jupyter-widgets/controls",
       "_model_module_version": "1.5.0",
       "_model_name": "HTMLModel",
       "_view_count": null,
       "_view_module": "@jupyter-widgets/controls",
       "_view_module_version": "1.5.0",
       "_view_name": "HTMLView",
       "description": "",
       "description_tooltip": null,
       "layout": "IPY_MODEL_b7e6c19280544f51b7176df9e0919205",
       "placeholder": "​",
       "style": "IPY_MODEL_d655c599fe7a4506878539f960d09143",
       "value": ""
      }
     },
     "2f0d0e2f537a4c4fb4e38de8009c65ce": {
      "model_module": "@jupyter-widgets/base",
      "model_module_version": "1.2.0",
      "model_name": "LayoutModel",
      "state": {
       "_model_module": "@jupyter-widgets/base",
       "_model_module_version": "1.2.0",
       "_model_name": "LayoutModel",
       "_view_count": null,
       "_view_module": "@jupyter-widgets/base",
       "_view_module_version": "1.2.0",
       "_view_name": "LayoutView",
       "align_content": null,
       "align_items": null,
       "align_self": null,
       "border": null,
       "bottom": null,
       "display": null,
       "flex": null,
       "flex_flow": null,
       "grid_area": null,
       "grid_auto_columns": null,
       "grid_auto_flow": null,
       "grid_auto_rows": null,
       "grid_column": null,
       "grid_gap": null,
       "grid_row": null,
       "grid_template_areas": null,
       "grid_template_columns": null,
       "grid_template_rows": null,
       "height": null,
       "justify_content": null,
       "justify_items": null,
       "left": null,
       "margin": null,
       "max_height": null,
       "max_width": null,
       "min_height": null,
       "min_width": null,
       "object_fit": null,
       "object_position": null,
       "order": null,
       "overflow": null,
       "overflow_x": null,
       "overflow_y": null,
       "padding": null,
       "right": null,
       "top": null,
       "visibility": null,
       "width": null
      }
     },
     "2f757e06f2e240d1a6bcc815fe166495": {
      "model_module": "@jupyter-widgets/base",
      "model_module_version": "1.2.0",
      "model_name": "LayoutModel",
      "state": {
       "_model_module": "@jupyter-widgets/base",
       "_model_module_version": "1.2.0",
       "_model_name": "LayoutModel",
       "_view_count": null,
       "_view_module": "@jupyter-widgets/base",
       "_view_module_version": "1.2.0",
       "_view_name": "LayoutView",
       "align_content": null,
       "align_items": null,
       "align_self": null,
       "border": null,
       "bottom": null,
       "display": null,
       "flex": null,
       "flex_flow": null,
       "grid_area": null,
       "grid_auto_columns": null,
       "grid_auto_flow": null,
       "grid_auto_rows": null,
       "grid_column": null,
       "grid_gap": null,
       "grid_row": null,
       "grid_template_areas": null,
       "grid_template_columns": null,
       "grid_template_rows": null,
       "height": null,
       "justify_content": null,
       "justify_items": null,
       "left": null,
       "margin": null,
       "max_height": null,
       "max_width": null,
       "min_height": null,
       "min_width": null,
       "object_fit": null,
       "object_position": null,
       "order": null,
       "overflow": null,
       "overflow_x": null,
       "overflow_y": null,
       "padding": null,
       "right": null,
       "top": null,
       "visibility": null,
       "width": null
      }
     },
     "308a413f555d474f838b5929e1345288": {
      "model_module": "@jupyter-widgets/controls",
      "model_module_version": "1.5.0",
      "model_name": "HTMLModel",
      "state": {
       "_dom_classes": [],
       "_model_module": "@jupyter-widgets/controls",
       "_model_module_version": "1.5.0",
       "_model_name": "HTMLModel",
       "_view_count": null,
       "_view_module": "@jupyter-widgets/controls",
       "_view_module_version": "1.5.0",
       "_view_name": "HTMLView",
       "description": "",
       "description_tooltip": null,
       "layout": "IPY_MODEL_e96b56dec83746d99e1c7e30e04e5555",
       "placeholder": "​",
       "style": "IPY_MODEL_82594cd90f2e46d4a829bb7234d32956",
       "value": ""
      }
     },
     "33454ba75e3d4bba83681d638e6347a2": {
      "model_module": "@jupyter-widgets/controls",
      "model_module_version": "1.5.0",
      "model_name": "FloatProgressModel",
      "state": {
       "_dom_classes": [],
       "_model_module": "@jupyter-widgets/controls",
       "_model_module_version": "1.5.0",
       "_model_name": "FloatProgressModel",
       "_view_count": null,
       "_view_module": "@jupyter-widgets/controls",
       "_view_module_version": "1.5.0",
       "_view_name": "ProgressView",
       "bar_style": "success",
       "description": "",
       "description_tooltip": null,
       "layout": "IPY_MODEL_bc807324b00b46dbb8b10f427db60c50",
       "max": 28881,
       "min": 0,
       "orientation": "horizontal",
       "style": "IPY_MODEL_90d8fa4ac18144f387e7de01ff3d7b9f",
       "value": 28881
      }
     },
     "33d2ed1ad5ac45c499e07ee3a039970c": {
      "model_module": "@jupyter-widgets/controls",
      "model_module_version": "1.5.0",
      "model_name": "HTMLModel",
      "state": {
       "_dom_classes": [],
       "_model_module": "@jupyter-widgets/controls",
       "_model_module_version": "1.5.0",
       "_model_name": "HTMLModel",
       "_view_count": null,
       "_view_module": "@jupyter-widgets/controls",
       "_view_module_version": "1.5.0",
       "_view_name": "HTMLView",
       "description": "",
       "description_tooltip": null,
       "layout": "IPY_MODEL_59a7a95a0d114902945d8aafad2c21ba",
       "placeholder": "​",
       "style": "IPY_MODEL_e6d5c81ab8e74b61b209954e5d032c82",
       "value": " 5120/? [00:00&lt;00:00, 92532.84it/s]"
      }
     },
     "35837804b6f045c4999858293157b33e": {
      "model_module": "@jupyter-widgets/controls",
      "model_module_version": "1.5.0",
      "model_name": "FloatProgressModel",
      "state": {
       "_dom_classes": [],
       "_model_module": "@jupyter-widgets/controls",
       "_model_module_version": "1.5.0",
       "_model_name": "FloatProgressModel",
       "_view_count": null,
       "_view_module": "@jupyter-widgets/controls",
       "_view_module_version": "1.5.0",
       "_view_name": "ProgressView",
       "bar_style": "success",
       "description": "",
       "description_tooltip": null,
       "layout": "IPY_MODEL_e5f9d9191ba24362937bf58f0c49aa8d",
       "max": 4542,
       "min": 0,
       "orientation": "horizontal",
       "style": "IPY_MODEL_5cc7af2d4a54406d9e8b97d75e969e7f",
       "value": 4542
      }
     },
     "38f86d546600428ba0cfbbc39be105bf": {
      "model_module": "@jupyter-widgets/base",
      "model_module_version": "1.2.0",
      "model_name": "LayoutModel",
      "state": {
       "_model_module": "@jupyter-widgets/base",
       "_model_module_version": "1.2.0",
       "_model_name": "LayoutModel",
       "_view_count": null,
       "_view_module": "@jupyter-widgets/base",
       "_view_module_version": "1.2.0",
       "_view_name": "LayoutView",
       "align_content": null,
       "align_items": null,
       "align_self": null,
       "border": null,
       "bottom": null,
       "display": null,
       "flex": null,
       "flex_flow": null,
       "grid_area": null,
       "grid_auto_columns": null,
       "grid_auto_flow": null,
       "grid_auto_rows": null,
       "grid_column": null,
       "grid_gap": null,
       "grid_row": null,
       "grid_template_areas": null,
       "grid_template_columns": null,
       "grid_template_rows": null,
       "height": null,
       "justify_content": null,
       "justify_items": null,
       "left": null,
       "margin": null,
       "max_height": null,
       "max_width": null,
       "min_height": null,
       "min_width": null,
       "object_fit": null,
       "object_position": null,
       "order": null,
       "overflow": null,
       "overflow_x": null,
       "overflow_y": null,
       "padding": null,
       "right": null,
       "top": null,
       "visibility": null,
       "width": null
      }
     },
     "526e31f7263c40c7a22e358aedd06b2c": {
      "model_module": "@jupyter-widgets/controls",
      "model_module_version": "1.5.0",
      "model_name": "DescriptionStyleModel",
      "state": {
       "_model_module": "@jupyter-widgets/controls",
       "_model_module_version": "1.5.0",
       "_model_name": "DescriptionStyleModel",
       "_view_count": null,
       "_view_module": "@jupyter-widgets/base",
       "_view_module_version": "1.2.0",
       "_view_name": "StyleView",
       "description_width": ""
      }
     },
     "59a7a95a0d114902945d8aafad2c21ba": {
      "model_module": "@jupyter-widgets/base",
      "model_module_version": "1.2.0",
      "model_name": "LayoutModel",
      "state": {
       "_model_module": "@jupyter-widgets/base",
       "_model_module_version": "1.2.0",
       "_model_name": "LayoutModel",
       "_view_count": null,
       "_view_module": "@jupyter-widgets/base",
       "_view_module_version": "1.2.0",
       "_view_name": "LayoutView",
       "align_content": null,
       "align_items": null,
       "align_self": null,
       "border": null,
       "bottom": null,
       "display": null,
       "flex": null,
       "flex_flow": null,
       "grid_area": null,
       "grid_auto_columns": null,
       "grid_auto_flow": null,
       "grid_auto_rows": null,
       "grid_column": null,
       "grid_gap": null,
       "grid_row": null,
       "grid_template_areas": null,
       "grid_template_columns": null,
       "grid_template_rows": null,
       "height": null,
       "justify_content": null,
       "justify_items": null,
       "left": null,
       "margin": null,
       "max_height": null,
       "max_width": null,
       "min_height": null,
       "min_width": null,
       "object_fit": null,
       "object_position": null,
       "order": null,
       "overflow": null,
       "overflow_x": null,
       "overflow_y": null,
       "padding": null,
       "right": null,
       "top": null,
       "visibility": null,
       "width": null
      }
     },
     "5cc7af2d4a54406d9e8b97d75e969e7f": {
      "model_module": "@jupyter-widgets/controls",
      "model_module_version": "1.5.0",
      "model_name": "ProgressStyleModel",
      "state": {
       "_model_module": "@jupyter-widgets/controls",
       "_model_module_version": "1.5.0",
       "_model_name": "ProgressStyleModel",
       "_view_count": null,
       "_view_module": "@jupyter-widgets/base",
       "_view_module_version": "1.2.0",
       "_view_name": "StyleView",
       "bar_color": null,
       "description_width": ""
      }
     },
     "669ff86404c04163902ea687914c467d": {
      "model_module": "@jupyter-widgets/controls",
      "model_module_version": "1.5.0",
      "model_name": "DescriptionStyleModel",
      "state": {
       "_model_module": "@jupyter-widgets/controls",
       "_model_module_version": "1.5.0",
       "_model_name": "DescriptionStyleModel",
       "_view_count": null,
       "_view_module": "@jupyter-widgets/base",
       "_view_module_version": "1.2.0",
       "_view_name": "StyleView",
       "description_width": ""
      }
     },
     "6b5425a23d234e0db71a0330ca7f3b67": {
      "model_module": "@jupyter-widgets/controls",
      "model_module_version": "1.5.0",
      "model_name": "HBoxModel",
      "state": {
       "_dom_classes": [],
       "_model_module": "@jupyter-widgets/controls",
       "_model_module_version": "1.5.0",
       "_model_name": "HBoxModel",
       "_view_count": null,
       "_view_module": "@jupyter-widgets/controls",
       "_view_module_version": "1.5.0",
       "_view_name": "HBoxView",
       "box_style": "",
       "children": [
        "IPY_MODEL_08eb1c68753d47f7bc97805b2bd22921",
        "IPY_MODEL_35837804b6f045c4999858293157b33e",
        "IPY_MODEL_33d2ed1ad5ac45c499e07ee3a039970c"
       ],
       "layout": "IPY_MODEL_b6046eaf00394b099991a2581c270d1f"
      }
     },
     "76349b23c7a741e08934cdc8993c0f3e": {
      "model_module": "@jupyter-widgets/base",
      "model_module_version": "1.2.0",
      "model_name": "LayoutModel",
      "state": {
       "_model_module": "@jupyter-widgets/base",
       "_model_module_version": "1.2.0",
       "_model_name": "LayoutModel",
       "_view_count": null,
       "_view_module": "@jupyter-widgets/base",
       "_view_module_version": "1.2.0",
       "_view_name": "LayoutView",
       "align_content": null,
       "align_items": null,
       "align_self": null,
       "border": null,
       "bottom": null,
       "display": null,
       "flex": null,
       "flex_flow": null,
       "grid_area": null,
       "grid_auto_columns": null,
       "grid_auto_flow": null,
       "grid_auto_rows": null,
       "grid_column": null,
       "grid_gap": null,
       "grid_row": null,
       "grid_template_areas": null,
       "grid_template_columns": null,
       "grid_template_rows": null,
       "height": null,
       "justify_content": null,
       "justify_items": null,
       "left": null,
       "margin": null,
       "max_height": null,
       "max_width": null,
       "min_height": null,
       "min_width": null,
       "object_fit": null,
       "object_position": null,
       "order": null,
       "overflow": null,
       "overflow_x": null,
       "overflow_y": null,
       "padding": null,
       "right": null,
       "top": null,
       "visibility": null,
       "width": null
      }
     },
     "82594cd90f2e46d4a829bb7234d32956": {
      "model_module": "@jupyter-widgets/controls",
      "model_module_version": "1.5.0",
      "model_name": "DescriptionStyleModel",
      "state": {
       "_model_module": "@jupyter-widgets/controls",
       "_model_module_version": "1.5.0",
       "_model_name": "DescriptionStyleModel",
       "_view_count": null,
       "_view_module": "@jupyter-widgets/base",
       "_view_module_version": "1.2.0",
       "_view_name": "StyleView",
       "description_width": ""
      }
     },
     "8370e23ccf774d2db3aaba39a44f79ea": {
      "model_module": "@jupyter-widgets/base",
      "model_module_version": "1.2.0",
      "model_name": "LayoutModel",
      "state": {
       "_model_module": "@jupyter-widgets/base",
       "_model_module_version": "1.2.0",
       "_model_name": "LayoutModel",
       "_view_count": null,
       "_view_module": "@jupyter-widgets/base",
       "_view_module_version": "1.2.0",
       "_view_name": "LayoutView",
       "align_content": null,
       "align_items": null,
       "align_self": null,
       "border": null,
       "bottom": null,
       "display": null,
       "flex": null,
       "flex_flow": null,
       "grid_area": null,
       "grid_auto_columns": null,
       "grid_auto_flow": null,
       "grid_auto_rows": null,
       "grid_column": null,
       "grid_gap": null,
       "grid_row": null,
       "grid_template_areas": null,
       "grid_template_columns": null,
       "grid_template_rows": null,
       "height": null,
       "justify_content": null,
       "justify_items": null,
       "left": null,
       "margin": null,
       "max_height": null,
       "max_width": null,
       "min_height": null,
       "min_width": null,
       "object_fit": null,
       "object_position": null,
       "order": null,
       "overflow": null,
       "overflow_x": null,
       "overflow_y": null,
       "padding": null,
       "right": null,
       "top": null,
       "visibility": null,
       "width": null
      }
     },
     "87269bfb474e4da4b423a669fe274c67": {
      "model_module": "@jupyter-widgets/controls",
      "model_module_version": "1.5.0",
      "model_name": "HTMLModel",
      "state": {
       "_dom_classes": [],
       "_model_module": "@jupyter-widgets/controls",
       "_model_module_version": "1.5.0",
       "_model_name": "HTMLModel",
       "_view_count": null,
       "_view_module": "@jupyter-widgets/controls",
       "_view_module_version": "1.5.0",
       "_view_name": "HTMLView",
       "description": "",
       "description_tooltip": null,
       "layout": "IPY_MODEL_2f757e06f2e240d1a6bcc815fe166495",
       "placeholder": "​",
       "style": "IPY_MODEL_ad3d2718278041fe8d7921d8f3b85b8b",
       "value": ""
      }
     },
     "90d8fa4ac18144f387e7de01ff3d7b9f": {
      "model_module": "@jupyter-widgets/controls",
      "model_module_version": "1.5.0",
      "model_name": "ProgressStyleModel",
      "state": {
       "_model_module": "@jupyter-widgets/controls",
       "_model_module_version": "1.5.0",
       "_model_name": "ProgressStyleModel",
       "_view_count": null,
       "_view_module": "@jupyter-widgets/base",
       "_view_module_version": "1.2.0",
       "_view_name": "StyleView",
       "bar_color": null,
       "description_width": ""
      }
     },
     "a19c6806f68c4deea97506eae243983f": {
      "model_module": "@jupyter-widgets/controls",
      "model_module_version": "1.5.0",
      "model_name": "HTMLModel",
      "state": {
       "_dom_classes": [],
       "_model_module": "@jupyter-widgets/controls",
       "_model_module_version": "1.5.0",
       "_model_name": "HTMLModel",
       "_view_count": null,
       "_view_module": "@jupyter-widgets/controls",
       "_view_module_version": "1.5.0",
       "_view_name": "HTMLView",
       "description": "",
       "description_tooltip": null,
       "layout": "IPY_MODEL_be918302d2d644e791a574d4ae4799f8",
       "placeholder": "​",
       "style": "IPY_MODEL_669ff86404c04163902ea687914c467d",
       "value": " 9913344/? [00:00&lt;00:00, 33274002.55it/s]"
      }
     },
     "abcc0342ed9645929391ef2074eeba3e": {
      "model_module": "@jupyter-widgets/controls",
      "model_module_version": "1.5.0",
      "model_name": "ProgressStyleModel",
      "state": {
       "_model_module": "@jupyter-widgets/controls",
       "_model_module_version": "1.5.0",
       "_model_name": "ProgressStyleModel",
       "_view_count": null,
       "_view_module": "@jupyter-widgets/base",
       "_view_module_version": "1.2.0",
       "_view_name": "StyleView",
       "bar_color": null,
       "description_width": ""
      }
     },
     "ad3d2718278041fe8d7921d8f3b85b8b": {
      "model_module": "@jupyter-widgets/controls",
      "model_module_version": "1.5.0",
      "model_name": "DescriptionStyleModel",
      "state": {
       "_model_module": "@jupyter-widgets/controls",
       "_model_module_version": "1.5.0",
       "_model_name": "DescriptionStyleModel",
       "_view_count": null,
       "_view_module": "@jupyter-widgets/base",
       "_view_module_version": "1.2.0",
       "_view_name": "StyleView",
       "description_width": ""
      }
     },
     "b6046eaf00394b099991a2581c270d1f": {
      "model_module": "@jupyter-widgets/base",
      "model_module_version": "1.2.0",
      "model_name": "LayoutModel",
      "state": {
       "_model_module": "@jupyter-widgets/base",
       "_model_module_version": "1.2.0",
       "_model_name": "LayoutModel",
       "_view_count": null,
       "_view_module": "@jupyter-widgets/base",
       "_view_module_version": "1.2.0",
       "_view_name": "LayoutView",
       "align_content": null,
       "align_items": null,
       "align_self": null,
       "border": null,
       "bottom": null,
       "display": null,
       "flex": null,
       "flex_flow": null,
       "grid_area": null,
       "grid_auto_columns": null,
       "grid_auto_flow": null,
       "grid_auto_rows": null,
       "grid_column": null,
       "grid_gap": null,
       "grid_row": null,
       "grid_template_areas": null,
       "grid_template_columns": null,
       "grid_template_rows": null,
       "height": null,
       "justify_content": null,
       "justify_items": null,
       "left": null,
       "margin": null,
       "max_height": null,
       "max_width": null,
       "min_height": null,
       "min_width": null,
       "object_fit": null,
       "object_position": null,
       "order": null,
       "overflow": null,
       "overflow_x": null,
       "overflow_y": null,
       "padding": null,
       "right": null,
       "top": null,
       "visibility": null,
       "width": null
      }
     },
     "b7e6c19280544f51b7176df9e0919205": {
      "model_module": "@jupyter-widgets/base",
      "model_module_version": "1.2.0",
      "model_name": "LayoutModel",
      "state": {
       "_model_module": "@jupyter-widgets/base",
       "_model_module_version": "1.2.0",
       "_model_name": "LayoutModel",
       "_view_count": null,
       "_view_module": "@jupyter-widgets/base",
       "_view_module_version": "1.2.0",
       "_view_name": "LayoutView",
       "align_content": null,
       "align_items": null,
       "align_self": null,
       "border": null,
       "bottom": null,
       "display": null,
       "flex": null,
       "flex_flow": null,
       "grid_area": null,
       "grid_auto_columns": null,
       "grid_auto_flow": null,
       "grid_auto_rows": null,
       "grid_column": null,
       "grid_gap": null,
       "grid_row": null,
       "grid_template_areas": null,
       "grid_template_columns": null,
       "grid_template_rows": null,
       "height": null,
       "justify_content": null,
       "justify_items": null,
       "left": null,
       "margin": null,
       "max_height": null,
       "max_width": null,
       "min_height": null,
       "min_width": null,
       "object_fit": null,
       "object_position": null,
       "order": null,
       "overflow": null,
       "overflow_x": null,
       "overflow_y": null,
       "padding": null,
       "right": null,
       "top": null,
       "visibility": null,
       "width": null
      }
     },
     "baae705ad2074db1aaabaa3a93029053": {
      "model_module": "@jupyter-widgets/controls",
      "model_module_version": "1.5.0",
      "model_name": "HBoxModel",
      "state": {
       "_dom_classes": [],
       "_model_module": "@jupyter-widgets/controls",
       "_model_module_version": "1.5.0",
       "_model_name": "HBoxModel",
       "_view_count": null,
       "_view_module": "@jupyter-widgets/controls",
       "_view_module_version": "1.5.0",
       "_view_name": "HBoxView",
       "box_style": "",
       "children": [
        "IPY_MODEL_87269bfb474e4da4b423a669fe274c67",
        "IPY_MODEL_bdfb6155e6c54f778e60e965efea6cb3",
        "IPY_MODEL_a19c6806f68c4deea97506eae243983f"
       ],
       "layout": "IPY_MODEL_8370e23ccf774d2db3aaba39a44f79ea"
      }
     },
     "bb468a8650a6459abe09246e9d700a55": {
      "model_module": "@jupyter-widgets/controls",
      "model_module_version": "1.5.0",
      "model_name": "HBoxModel",
      "state": {
       "_dom_classes": [],
       "_model_module": "@jupyter-widgets/controls",
       "_model_module_version": "1.5.0",
       "_model_name": "HBoxModel",
       "_view_count": null,
       "_view_module": "@jupyter-widgets/controls",
       "_view_module_version": "1.5.0",
       "_view_name": "HBoxView",
       "box_style": "",
       "children": [
        "IPY_MODEL_308a413f555d474f838b5929e1345288",
        "IPY_MODEL_bcb4bd7955654991ab913dc0d81ec8eb",
        "IPY_MODEL_c66d147c602d469aaaa42b0906ee7baa"
       ],
       "layout": "IPY_MODEL_76349b23c7a741e08934cdc8993c0f3e"
      }
     },
     "bc807324b00b46dbb8b10f427db60c50": {
      "model_module": "@jupyter-widgets/base",
      "model_module_version": "1.2.0",
      "model_name": "LayoutModel",
      "state": {
       "_model_module": "@jupyter-widgets/base",
       "_model_module_version": "1.2.0",
       "_model_name": "LayoutModel",
       "_view_count": null,
       "_view_module": "@jupyter-widgets/base",
       "_view_module_version": "1.2.0",
       "_view_name": "LayoutView",
       "align_content": null,
       "align_items": null,
       "align_self": null,
       "border": null,
       "bottom": null,
       "display": null,
       "flex": null,
       "flex_flow": null,
       "grid_area": null,
       "grid_auto_columns": null,
       "grid_auto_flow": null,
       "grid_auto_rows": null,
       "grid_column": null,
       "grid_gap": null,
       "grid_row": null,
       "grid_template_areas": null,
       "grid_template_columns": null,
       "grid_template_rows": null,
       "height": null,
       "justify_content": null,
       "justify_items": null,
       "left": null,
       "margin": null,
       "max_height": null,
       "max_width": null,
       "min_height": null,
       "min_width": null,
       "object_fit": null,
       "object_position": null,
       "order": null,
       "overflow": null,
       "overflow_x": null,
       "overflow_y": null,
       "padding": null,
       "right": null,
       "top": null,
       "visibility": null,
       "width": null
      }
     },
     "bcb4bd7955654991ab913dc0d81ec8eb": {
      "model_module": "@jupyter-widgets/controls",
      "model_module_version": "1.5.0",
      "model_name": "FloatProgressModel",
      "state": {
       "_dom_classes": [],
       "_model_module": "@jupyter-widgets/controls",
       "_model_module_version": "1.5.0",
       "_model_name": "FloatProgressModel",
       "_view_count": null,
       "_view_module": "@jupyter-widgets/controls",
       "_view_module_version": "1.5.0",
       "_view_name": "ProgressView",
       "bar_style": "success",
       "description": "",
       "description_tooltip": null,
       "layout": "IPY_MODEL_1e9acb3267f64ae5a975090e705be127",
       "max": 1648877,
       "min": 0,
       "orientation": "horizontal",
       "style": "IPY_MODEL_d30a4f2731204925814bef52c4b599d3",
       "value": 1648877
      }
     },
     "bdfb6155e6c54f778e60e965efea6cb3": {
      "model_module": "@jupyter-widgets/controls",
      "model_module_version": "1.5.0",
      "model_name": "FloatProgressModel",
      "state": {
       "_dom_classes": [],
       "_model_module": "@jupyter-widgets/controls",
       "_model_module_version": "1.5.0",
       "_model_name": "FloatProgressModel",
       "_view_count": null,
       "_view_module": "@jupyter-widgets/controls",
       "_view_module_version": "1.5.0",
       "_view_name": "ProgressView",
       "bar_style": "success",
       "description": "",
       "description_tooltip": null,
       "layout": "IPY_MODEL_38f86d546600428ba0cfbbc39be105bf",
       "max": 9912422,
       "min": 0,
       "orientation": "horizontal",
       "style": "IPY_MODEL_abcc0342ed9645929391ef2074eeba3e",
       "value": 9912422
      }
     },
     "be40edc1459d421ca5f0d3dd849dbc65": {
      "model_module": "@jupyter-widgets/controls",
      "model_module_version": "1.5.0",
      "model_name": "HBoxModel",
      "state": {
       "_dom_classes": [],
       "_model_module": "@jupyter-widgets/controls",
       "_model_module_version": "1.5.0",
       "_model_name": "HBoxModel",
       "_view_count": null,
       "_view_module": "@jupyter-widgets/controls",
       "_view_module_version": "1.5.0",
       "_view_name": "HBoxView",
       "box_style": "",
       "children": [
        "IPY_MODEL_28e9a3a3b7c945b8ae2571c04e8115bd",
        "IPY_MODEL_33454ba75e3d4bba83681d638e6347a2",
        "IPY_MODEL_c35baba3927746bfa12b8ebf17c05033"
       ],
       "layout": "IPY_MODEL_f57e99dc46654dfc8f50d33e172b8f9b"
      }
     },
     "be918302d2d644e791a574d4ae4799f8": {
      "model_module": "@jupyter-widgets/base",
      "model_module_version": "1.2.0",
      "model_name": "LayoutModel",
      "state": {
       "_model_module": "@jupyter-widgets/base",
       "_model_module_version": "1.2.0",
       "_model_name": "LayoutModel",
       "_view_count": null,
       "_view_module": "@jupyter-widgets/base",
       "_view_module_version": "1.2.0",
       "_view_name": "LayoutView",
       "align_content": null,
       "align_items": null,
       "align_self": null,
       "border": null,
       "bottom": null,
       "display": null,
       "flex": null,
       "flex_flow": null,
       "grid_area": null,
       "grid_auto_columns": null,
       "grid_auto_flow": null,
       "grid_auto_rows": null,
       "grid_column": null,
       "grid_gap": null,
       "grid_row": null,
       "grid_template_areas": null,
       "grid_template_columns": null,
       "grid_template_rows": null,
       "height": null,
       "justify_content": null,
       "justify_items": null,
       "left": null,
       "margin": null,
       "max_height": null,
       "max_width": null,
       "min_height": null,
       "min_width": null,
       "object_fit": null,
       "object_position": null,
       "order": null,
       "overflow": null,
       "overflow_x": null,
       "overflow_y": null,
       "padding": null,
       "right": null,
       "top": null,
       "visibility": null,
       "width": null
      }
     },
     "c35baba3927746bfa12b8ebf17c05033": {
      "model_module": "@jupyter-widgets/controls",
      "model_module_version": "1.5.0",
      "model_name": "HTMLModel",
      "state": {
       "_dom_classes": [],
       "_model_module": "@jupyter-widgets/controls",
       "_model_module_version": "1.5.0",
       "_model_name": "HTMLModel",
       "_view_count": null,
       "_view_module": "@jupyter-widgets/controls",
       "_view_module_version": "1.5.0",
       "_view_name": "HTMLView",
       "description": "",
       "description_tooltip": null,
       "layout": "IPY_MODEL_2476fb4975384d18848ab9dbd2febd94",
       "placeholder": "​",
       "style": "IPY_MODEL_0f3980ef3dd24e0e8b07146085f6cc2e",
       "value": " 29696/? [00:00&lt;00:00, 527704.32it/s]"
      }
     },
     "c66d147c602d469aaaa42b0906ee7baa": {
      "model_module": "@jupyter-widgets/controls",
      "model_module_version": "1.5.0",
      "model_name": "HTMLModel",
      "state": {
       "_dom_classes": [],
       "_model_module": "@jupyter-widgets/controls",
       "_model_module_version": "1.5.0",
       "_model_name": "HTMLModel",
       "_view_count": null,
       "_view_module": "@jupyter-widgets/controls",
       "_view_module_version": "1.5.0",
       "_view_name": "HTMLView",
       "description": "",
       "description_tooltip": null,
       "layout": "IPY_MODEL_d84a74d2da6c4d7fb67fd409efea39b2",
       "placeholder": "​",
       "style": "IPY_MODEL_526e31f7263c40c7a22e358aedd06b2c",
       "value": " 1649664/? [00:00&lt;00:00, 3419685.49it/s]"
      }
     },
     "d30a4f2731204925814bef52c4b599d3": {
      "model_module": "@jupyter-widgets/controls",
      "model_module_version": "1.5.0",
      "model_name": "ProgressStyleModel",
      "state": {
       "_model_module": "@jupyter-widgets/controls",
       "_model_module_version": "1.5.0",
       "_model_name": "ProgressStyleModel",
       "_view_count": null,
       "_view_module": "@jupyter-widgets/base",
       "_view_module_version": "1.2.0",
       "_view_name": "StyleView",
       "bar_color": null,
       "description_width": ""
      }
     },
     "d655c599fe7a4506878539f960d09143": {
      "model_module": "@jupyter-widgets/controls",
      "model_module_version": "1.5.0",
      "model_name": "DescriptionStyleModel",
      "state": {
       "_model_module": "@jupyter-widgets/controls",
       "_model_module_version": "1.5.0",
       "_model_name": "DescriptionStyleModel",
       "_view_count": null,
       "_view_module": "@jupyter-widgets/base",
       "_view_module_version": "1.2.0",
       "_view_name": "StyleView",
       "description_width": ""
      }
     },
     "d84a74d2da6c4d7fb67fd409efea39b2": {
      "model_module": "@jupyter-widgets/base",
      "model_module_version": "1.2.0",
      "model_name": "LayoutModel",
      "state": {
       "_model_module": "@jupyter-widgets/base",
       "_model_module_version": "1.2.0",
       "_model_name": "LayoutModel",
       "_view_count": null,
       "_view_module": "@jupyter-widgets/base",
       "_view_module_version": "1.2.0",
       "_view_name": "LayoutView",
       "align_content": null,
       "align_items": null,
       "align_self": null,
       "border": null,
       "bottom": null,
       "display": null,
       "flex": null,
       "flex_flow": null,
       "grid_area": null,
       "grid_auto_columns": null,
       "grid_auto_flow": null,
       "grid_auto_rows": null,
       "grid_column": null,
       "grid_gap": null,
       "grid_row": null,
       "grid_template_areas": null,
       "grid_template_columns": null,
       "grid_template_rows": null,
       "height": null,
       "justify_content": null,
       "justify_items": null,
       "left": null,
       "margin": null,
       "max_height": null,
       "max_width": null,
       "min_height": null,
       "min_width": null,
       "object_fit": null,
       "object_position": null,
       "order": null,
       "overflow": null,
       "overflow_x": null,
       "overflow_y": null,
       "padding": null,
       "right": null,
       "top": null,
       "visibility": null,
       "width": null
      }
     },
     "e5f9d9191ba24362937bf58f0c49aa8d": {
      "model_module": "@jupyter-widgets/base",
      "model_module_version": "1.2.0",
      "model_name": "LayoutModel",
      "state": {
       "_model_module": "@jupyter-widgets/base",
       "_model_module_version": "1.2.0",
       "_model_name": "LayoutModel",
       "_view_count": null,
       "_view_module": "@jupyter-widgets/base",
       "_view_module_version": "1.2.0",
       "_view_name": "LayoutView",
       "align_content": null,
       "align_items": null,
       "align_self": null,
       "border": null,
       "bottom": null,
       "display": null,
       "flex": null,
       "flex_flow": null,
       "grid_area": null,
       "grid_auto_columns": null,
       "grid_auto_flow": null,
       "grid_auto_rows": null,
       "grid_column": null,
       "grid_gap": null,
       "grid_row": null,
       "grid_template_areas": null,
       "grid_template_columns": null,
       "grid_template_rows": null,
       "height": null,
       "justify_content": null,
       "justify_items": null,
       "left": null,
       "margin": null,
       "max_height": null,
       "max_width": null,
       "min_height": null,
       "min_width": null,
       "object_fit": null,
       "object_position": null,
       "order": null,
       "overflow": null,
       "overflow_x": null,
       "overflow_y": null,
       "padding": null,
       "right": null,
       "top": null,
       "visibility": null,
       "width": null
      }
     },
     "e6d5c81ab8e74b61b209954e5d032c82": {
      "model_module": "@jupyter-widgets/controls",
      "model_module_version": "1.5.0",
      "model_name": "DescriptionStyleModel",
      "state": {
       "_model_module": "@jupyter-widgets/controls",
       "_model_module_version": "1.5.0",
       "_model_name": "DescriptionStyleModel",
       "_view_count": null,
       "_view_module": "@jupyter-widgets/base",
       "_view_module_version": "1.2.0",
       "_view_name": "StyleView",
       "description_width": ""
      }
     },
     "e96b56dec83746d99e1c7e30e04e5555": {
      "model_module": "@jupyter-widgets/base",
      "model_module_version": "1.2.0",
      "model_name": "LayoutModel",
      "state": {
       "_model_module": "@jupyter-widgets/base",
       "_model_module_version": "1.2.0",
       "_model_name": "LayoutModel",
       "_view_count": null,
       "_view_module": "@jupyter-widgets/base",
       "_view_module_version": "1.2.0",
       "_view_name": "LayoutView",
       "align_content": null,
       "align_items": null,
       "align_self": null,
       "border": null,
       "bottom": null,
       "display": null,
       "flex": null,
       "flex_flow": null,
       "grid_area": null,
       "grid_auto_columns": null,
       "grid_auto_flow": null,
       "grid_auto_rows": null,
       "grid_column": null,
       "grid_gap": null,
       "grid_row": null,
       "grid_template_areas": null,
       "grid_template_columns": null,
       "grid_template_rows": null,
       "height": null,
       "justify_content": null,
       "justify_items": null,
       "left": null,
       "margin": null,
       "max_height": null,
       "max_width": null,
       "min_height": null,
       "min_width": null,
       "object_fit": null,
       "object_position": null,
       "order": null,
       "overflow": null,
       "overflow_x": null,
       "overflow_y": null,
       "padding": null,
       "right": null,
       "top": null,
       "visibility": null,
       "width": null
      }
     },
     "f57e99dc46654dfc8f50d33e172b8f9b": {
      "model_module": "@jupyter-widgets/base",
      "model_module_version": "1.2.0",
      "model_name": "LayoutModel",
      "state": {
       "_model_module": "@jupyter-widgets/base",
       "_model_module_version": "1.2.0",
       "_model_name": "LayoutModel",
       "_view_count": null,
       "_view_module": "@jupyter-widgets/base",
       "_view_module_version": "1.2.0",
       "_view_name": "LayoutView",
       "align_content": null,
       "align_items": null,
       "align_self": null,
       "border": null,
       "bottom": null,
       "display": null,
       "flex": null,
       "flex_flow": null,
       "grid_area": null,
       "grid_auto_columns": null,
       "grid_auto_flow": null,
       "grid_auto_rows": null,
       "grid_column": null,
       "grid_gap": null,
       "grid_row": null,
       "grid_template_areas": null,
       "grid_template_columns": null,
       "grid_template_rows": null,
       "height": null,
       "justify_content": null,
       "justify_items": null,
       "left": null,
       "margin": null,
       "max_height": null,
       "max_width": null,
       "min_height": null,
       "min_width": null,
       "object_fit": null,
       "object_position": null,
       "order": null,
       "overflow": null,
       "overflow_x": null,
       "overflow_y": null,
       "padding": null,
       "right": null,
       "top": null,
       "visibility": null,
       "width": null
      }
     }
    },
    "version_major": 2,
    "version_minor": 0
   }
  }
 },
 "nbformat": 4,
 "nbformat_minor": 5
}
