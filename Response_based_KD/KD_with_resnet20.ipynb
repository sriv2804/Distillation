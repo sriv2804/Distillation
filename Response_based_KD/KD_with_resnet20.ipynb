{
 "cells": [
  {
   "cell_type": "code",
   "execution_count": 1,
   "id": "af0d9940",
   "metadata": {
    "execution": {
     "iopub.execute_input": "2022-05-23T17:34:30.069136Z",
     "iopub.status.busy": "2022-05-23T17:34:30.068584Z",
     "iopub.status.idle": "2022-05-23T17:34:33.430163Z",
     "shell.execute_reply": "2022-05-23T17:34:33.429123Z"
    },
    "papermill": {
     "duration": 3.404939,
     "end_time": "2022-05-23T17:34:33.432998",
     "exception": false,
     "start_time": "2022-05-23T17:34:30.028059",
     "status": "completed"
    },
    "tags": []
   },
   "outputs": [],
   "source": [
    "import numpy as np\n",
    "import pandas as pd\n",
    "import torch\n",
    "import torch.nn.functional as  F\n",
    "import torch.nn as nn\n",
    "from pathlib import Path\n",
    "import torchvision\n",
    "import torchvision.transforms as transforms\n",
    "from torch.utils.data import Dataset\n",
    "from collections import OrderedDict\n",
    "from tqdm import tqdm\n",
    "import sys\n",
    "import time\n",
    "from sklearn.metrics import accuracy_score"
   ]
  },
  {
   "cell_type": "code",
   "execution_count": 2,
   "id": "19132a2a",
   "metadata": {
    "execution": {
     "iopub.execute_input": "2022-05-23T17:34:33.510385Z",
     "iopub.status.busy": "2022-05-23T17:34:33.509567Z",
     "iopub.status.idle": "2022-05-23T17:34:33.515572Z",
     "shell.execute_reply": "2022-05-23T17:34:33.514669Z"
    },
    "papermill": {
     "duration": 0.045532,
     "end_time": "2022-05-23T17:34:33.517672",
     "exception": false,
     "start_time": "2022-05-23T17:34:33.472140",
     "status": "completed"
    },
    "tags": []
   },
   "outputs": [],
   "source": [
    "DEVICE='cuda'\n",
    "use_gpu=True"
   ]
  },
  {
   "cell_type": "code",
   "execution_count": 3,
   "id": "f438ad3a",
   "metadata": {
    "execution": {
     "iopub.execute_input": "2022-05-23T17:34:33.591223Z",
     "iopub.status.busy": "2022-05-23T17:34:33.589571Z",
     "iopub.status.idle": "2022-05-23T17:34:33.599903Z",
     "shell.execute_reply": "2022-05-23T17:34:33.598942Z"
    },
    "papermill": {
     "duration": 0.048479,
     "end_time": "2022-05-23T17:34:33.602080",
     "exception": false,
     "start_time": "2022-05-23T17:34:33.553601",
     "status": "completed"
    },
    "tags": []
   },
   "outputs": [],
   "source": [
    "def reproducibilitySeed():\n",
    "    \"\"\"\n",
    "    Ensure reproducibility of results; Seeds to 0\n",
    "    \"\"\"\n",
    "    torch_init_seed = 0\n",
    "    torch.manual_seed(torch_init_seed)\n",
    "    numpy_init_seed = 0\n",
    "    np.random.seed(numpy_init_seed)\n",
    "    if use_gpu:\n",
    "        torch.backends.cudnn.deterministic = True\n",
    "        torch.backends.cudnn.benchmark = False\n",
    "\n",
    "reproducibilitySeed()"
   ]
  },
  {
   "cell_type": "markdown",
   "id": "bdc7edfb",
   "metadata": {
    "papermill": {
     "duration": 0.035145,
     "end_time": "2022-05-23T17:34:33.672449",
     "exception": false,
     "start_time": "2022-05-23T17:34:33.637304",
     "status": "completed"
    },
    "tags": []
   },
   "source": [
    "# # # *Loading Cifar10*"
   ]
  },
  {
   "cell_type": "code",
   "execution_count": 4,
   "id": "76285224",
   "metadata": {
    "execution": {
     "iopub.execute_input": "2022-05-23T17:34:33.745676Z",
     "iopub.status.busy": "2022-05-23T17:34:33.745441Z",
     "iopub.status.idle": "2022-05-23T17:34:33.759959Z",
     "shell.execute_reply": "2022-05-23T17:34:33.759079Z"
    },
    "papermill": {
     "duration": 0.05437,
     "end_time": "2022-05-23T17:34:33.762058",
     "exception": false,
     "start_time": "2022-05-23T17:34:33.707688",
     "status": "completed"
    },
    "tags": []
   },
   "outputs": [],
   "source": [
    "\n",
    "\n",
    "NUM_WORKERS = 2\n",
    "\n",
    "\n",
    "class TensorImgSet(Dataset):\n",
    "    \"\"\"TensorDataset with support of transforms.\n",
    "    \"\"\"\n",
    "\n",
    "    def __init__(self, tensors, transform=None):\n",
    "        self.imgs = tensors[0]\n",
    "        self.targets = tensors[1]\n",
    "        self.tensors = tensors\n",
    "        self.transform = transform\n",
    "        self.len = len(self.imgs)\n",
    "\n",
    "    def __getitem__(self, index):\n",
    "        x = self.imgs[index]\n",
    "        if self.transform:\n",
    "            x = self.transform(x)\n",
    "        y = self.targets[index]\n",
    "        return x, y\n",
    "\n",
    "    def __len__(self):\n",
    "        return self.len\n",
    "\n",
    "\n",
    "\n",
    "def get_cifar(num_classes=100, dataset_dir=\"./data\", batch_size=128,\n",
    "              use_cifar_10_1=False):\n",
    "\n",
    "    if num_classes == 10:\n",
    "        print(\"Loading CIFAR10...\")\n",
    "        dataset = torchvision.datasets.CIFAR10\n",
    "        normalize = transforms.Normalize(\n",
    "            (0.4914, 0.4822, 0.4465), (0.2023, 0.1994, 0.2010))\n",
    "    else:\n",
    "        print(\"Loading CIFAR100...\")\n",
    "        dataset = torchvision.datasets.CIFAR100\n",
    "        normalize = transforms.Normalize(\n",
    "            mean=[0.507, 0.487, 0.441], std=[0.267, 0.256, 0.276])\n",
    "\n",
    "    train_transform = transforms.Compose([\n",
    "        transforms.RandomCrop(32, padding=4),\n",
    "        transforms.RandomHorizontalFlip(),\n",
    "        transforms.ToTensor(),\n",
    "        normalize,\n",
    "    ])\n",
    "\n",
    "    trainset = dataset(root=dataset_dir, train=True,\n",
    "                       download=True, transform=train_transform)\n",
    "\n",
    "    test_transform = transforms.Compose([\n",
    "        transforms.ToTensor(),\n",
    "        normalize,\n",
    "    ])\n",
    "\n",
    "    testset = dataset(root=dataset_dir, train=False,\n",
    "                          download=True,\n",
    "                          transform=test_transform)\n",
    "\n",
    "    train_loader = torch.utils.data.DataLoader(trainset,\n",
    "                                               batch_size=batch_size,\n",
    "                                               num_workers=NUM_WORKERS,\n",
    "                                               pin_memory=True, shuffle=True)\n",
    "    test_loader = torch.utils.data.DataLoader(testset,\n",
    "                                              batch_size=batch_size,\n",
    "                                              num_workers=NUM_WORKERS,\n",
    "                                              pin_memory=True, shuffle=False)\n",
    "    return train_loader, test_loader"
   ]
  },
  {
   "cell_type": "markdown",
   "id": "3097bf9a",
   "metadata": {
    "papermill": {
     "duration": 0.03584,
     "end_time": "2022-05-23T17:34:33.832977",
     "exception": false,
     "start_time": "2022-05-23T17:34:33.797137",
     "status": "completed"
    },
    "tags": []
   },
   "source": [
    "# # #*Creating Models*"
   ]
  },
  {
   "cell_type": "code",
   "execution_count": 5,
   "id": "bd256077",
   "metadata": {
    "execution": {
     "iopub.execute_input": "2022-05-23T17:34:33.906143Z",
     "iopub.status.busy": "2022-05-23T17:34:33.905860Z",
     "iopub.status.idle": "2022-05-23T17:34:33.970936Z",
     "shell.execute_reply": "2022-05-23T17:34:33.970024Z"
    },
    "papermill": {
     "duration": 0.104475,
     "end_time": "2022-05-23T17:34:33.973430",
     "exception": false,
     "start_time": "2022-05-23T17:34:33.868955",
     "status": "completed"
    },
    "tags": []
   },
   "outputs": [],
   "source": [
    "class BasicBlock(nn.Module):\n",
    "    expansion = 1\n",
    "\n",
    "    def __init__(self, in_planes, planes, stride=1):\n",
    "        super(BasicBlock, self).__init__()\n",
    "        self.conv1 = nn.Conv2d(\n",
    "            in_planes, planes, kernel_size=3, stride=stride, padding=1, bias=False)\n",
    "        self.bn1 = nn.BatchNorm2d(planes)\n",
    "        self.conv2 = nn.Conv2d(planes, planes, kernel_size=3,\n",
    "                               stride=1, padding=1, bias=False)\n",
    "        self.bn2 = nn.BatchNorm2d(planes)\n",
    "\n",
    "        self.shortcut = nn.Sequential()\n",
    "        if stride != 1 or in_planes != self.expansion * planes:\n",
    "            self.shortcut = nn.Sequential(\n",
    "                nn.Conv2d(in_planes, self.expansion * planes,\n",
    "                          kernel_size=1, stride=stride, bias=False),\n",
    "                nn.BatchNorm2d(self.expansion * planes)\n",
    "            )\n",
    "\n",
    "    def forward(self, x):\n",
    "        out = F.relu(x)\n",
    "        out = F.relu(self.bn1(self.conv1(x)))\n",
    "        out = self.bn2(self.conv2(out))\n",
    "        out += self.shortcut(x)\n",
    "        return out\n",
    "\n",
    "\n",
    "class Bottleneck(nn.Module):\n",
    "    expansion = 4\n",
    "\n",
    "    def __init__(self, in_planes, planes, stride=1):\n",
    "        super(Bottleneck, self).__init__()\n",
    "        self.conv1 = nn.Conv2d(in_planes, planes, kernel_size=1, bias=False)\n",
    "        self.bn1 = nn.BatchNorm2d(planes)\n",
    "        self.conv2 = nn.Conv2d(planes, planes, kernel_size=3,\n",
    "                               stride=stride, padding=1, bias=False)\n",
    "        self.bn2 = nn.BatchNorm2d(planes)\n",
    "        self.conv3 = nn.Conv2d(planes, self.expansion *\n",
    "                               planes, kernel_size=1, bias=False)\n",
    "        self.bn3 = nn.BatchNorm2d(self.expansion * planes)\n",
    "\n",
    "        self.shortcut = nn.Sequential()\n",
    "        if stride != 1 or in_planes != self.expansion * planes:\n",
    "            self.shortcut = nn.Sequential(\n",
    "                nn.Conv2d(in_planes, self.expansion * planes,\n",
    "                          kernel_size=1, stride=stride, bias=False),\n",
    "                nn.BatchNorm2d(self.expansion * planes)\n",
    "            )\n",
    "\n",
    "    def forward(self, x):\n",
    "        out = F.relu(x)\n",
    "        out = F.relu(self.bn1(self.conv1(x)))\n",
    "        out = F.relu(self.bn2(self.conv2(out)))\n",
    "        out = self.bn3(self.conv3(out))\n",
    "        out += self.shortcut(x)\n",
    "        return out\n",
    "\n",
    "\n",
    "class ResNet(nn.Module):\n",
    "    def __init__(self, block, num_blocks, num_classes=10):\n",
    "        super(ResNet, self).__init__()\n",
    "        self.in_planes = 64\n",
    "\n",
    "        self.conv1 = nn.Conv2d(3, 64, kernel_size=3,\n",
    "                               stride=1, padding=1, bias=False)\n",
    "        self.bn1 = nn.BatchNorm2d(64)\n",
    "        self.layer1 = self._make_layer(block, 64, num_blocks[0], stride=1)\n",
    "        self.layer2 = self._make_layer(block, 128, num_blocks[1], stride=2)\n",
    "        self.layer3 = self._make_layer(block, 256, num_blocks[2], stride=2)\n",
    "        self.layer4 = self._make_layer(block, 512, num_blocks[3], stride=2)\n",
    "        self.linear = nn.Linear(512 * block.expansion, num_classes)\n",
    "        self.n_channels = [64, 128, 256, 512]\n",
    "\n",
    "    def _make_layer(self, block, planes, num_blocks, stride):\n",
    "        strides = [stride] + [1] * (num_blocks - 1)\n",
    "        layers = []\n",
    "        for stride in strides:\n",
    "            layers.append(block(self.in_planes, planes, stride))\n",
    "            self.in_planes = planes * block.expansion\n",
    "        return nn.Sequential(*layers)\n",
    "\n",
    "    def forward(self, x, is_feat=False, use_relu=True):\n",
    "        out = self.conv1(x)\n",
    "        out = self.bn1(out)\n",
    "        if use_relu:\n",
    "            out = F.relu(out)\n",
    "        feat1 = self.layer1(out)\n",
    "        if use_relu:\n",
    "            feat1 = F.relu(feat1)\n",
    "        feat2 = self.layer2(feat1)\n",
    "        if use_relu:\n",
    "            feat2 = F.relu(feat2)\n",
    "        feat3 = self.layer3(feat2)\n",
    "        if use_relu:\n",
    "            feat3 = F.relu(feat3)\n",
    "\n",
    "        feat4 = self.layer4(feat3)\n",
    "        feat4 = F.relu(feat4)\n",
    "        pool = F.avg_pool2d(feat4, 4)\n",
    "        pool = pool.view(pool.size(0), -1)\n",
    "        out = self.linear(pool)\n",
    "\n",
    "        if is_feat:\n",
    "            return[feat1, feat2, feat3, feat4], pool, out\n",
    "\n",
    "        return out\n",
    "\n",
    "    def get_bn_before_relu(self):\n",
    "        if isinstance(self.layer1[0], Bottleneck):\n",
    "            bn1 = self.layer1[-1].bn3\n",
    "            bn2 = self.layer2[-1].bn3\n",
    "            bn3 = self.layer3[-1].bn3\n",
    "            bn4 = self.layer4[-1].bn3\n",
    "        elif isinstance(self.layer1[0], BasicBlock):\n",
    "            bn1 = self.layer1[-1].bn2\n",
    "            bn2 = self.layer2[-1].bn2\n",
    "            bn3 = self.layer3[-1].bn2\n",
    "            bn4 = self.layer4[-1].bn2\n",
    "        else:\n",
    "            print('ResNet unknown block error !!!')\n",
    "\n",
    "        return [bn1, bn2, bn3, bn4]\n",
    "\n",
    "    def get_channel_num(self):\n",
    "        return self.n_channels\n",
    "\n",
    "    def extract_feature(self, x, preReLU=False):\n",
    "\n",
    "        x = self.conv1(x)\n",
    "        x = self.bn1(x)\n",
    "\n",
    "        feat1 = self.layer1(x)\n",
    "        feat2 = self.layer2(feat1)\n",
    "        feat3 = self.layer3(feat2)\n",
    "        feat4 = self.layer4(feat3)\n",
    "\n",
    "        x = F.relu(feat4)\n",
    "        x = F.avg_pool2d(x, 4)\n",
    "        x = x.view(x.size(0), -1)\n",
    "        out = self.linear(x)\n",
    "\n",
    "        if not preReLU:\n",
    "            feat1 = F.relu(feat1)\n",
    "            feat2 = F.relu(feat2)\n",
    "            feat3 = F.relu(feat3)\n",
    "            feat4 = F.relu(feat4)\n",
    "\n",
    "        return [feat1, feat2, feat3, feat4], out\n",
    "\n",
    "\n",
    "class ResNetSmall(nn.Module):\n",
    "    def __init__(self, block, num_blocks, num_classes=10):\n",
    "        super(ResNetSmall, self).__init__()\n",
    "        self.in_planes = 64\n",
    "\n",
    "        self.conv1 = nn.Conv2d(3, 64, kernel_size=3,\n",
    "                               stride=1, padding=1, bias=False)\n",
    "        self.bn1 = nn.BatchNorm2d(64)\n",
    "        self.layer1 = self._make_layer(block, 16, num_blocks[0], stride=1)\n",
    "        self.layer2 = self._make_layer(block, 32, num_blocks[1], stride=2)\n",
    "        self.layer3 = self._make_layer(block, 64, num_blocks[2], stride=2)\n",
    "        self.linear = nn.Linear(256 * block.expansion, num_classes)\n",
    "        self.n_channels = [16, 32, 64]\n",
    "\n",
    "    def _make_layer(self, block, planes, num_blocks, stride):\n",
    "        strides = [stride] + [1] * (num_blocks - 1)\n",
    "        layers = []\n",
    "        for stride in strides:\n",
    "            layers.append(block(self.in_planes, planes, stride))\n",
    "            self.in_planes = planes * block.expansion\n",
    "        return nn.Sequential(*layers)\n",
    "\n",
    "    def forward(self, x, is_feat=False, use_relu=True):\n",
    "        out = self.conv1(x)\n",
    "        out = self.bn1(out)\n",
    "        if use_relu:\n",
    "            out = F.relu(out)\n",
    "        feat1 = self.layer1(out)\n",
    "        if use_relu:\n",
    "            feat1 = F.relu(feat1)\n",
    "        feat2 = self.layer2(feat1)\n",
    "        if use_relu:\n",
    "            feat2 = F.relu(feat2)\n",
    "        feat3 = self.layer3(feat2)\n",
    "\n",
    "        # the last relu is always included\n",
    "        feat3 = F.relu(feat3)\n",
    "        pool = F.avg_pool2d(feat3, 4)\n",
    "        pool = pool.view(pool.size(0), -1)\n",
    "        out = self.linear(pool)\n",
    "\n",
    "        if is_feat:\n",
    "            return[feat1, feat2, feat3], pool, out\n",
    "\n",
    "        return out\n",
    "\n",
    "    def get_bn_before_relu(self):\n",
    "        if isinstance(self.layer1[0], Bottleneck):\n",
    "            bn1 = self.layer1[-1].bn3\n",
    "            bn2 = self.layer2[-1].bn3\n",
    "            bn3 = self.layer3[-1].bn3\n",
    "        elif isinstance(self.layer1[0], BasicBlock):\n",
    "            bn1 = self.layer1[-1].bn2\n",
    "            bn2 = self.layer2[-1].bn2\n",
    "            bn3 = self.layer3[-1].bn2\n",
    "        else:\n",
    "            print('ResNet unknown block error !!!')\n",
    "\n",
    "        return [bn1, bn2, bn3]\n",
    "\n",
    "    def get_channel_num(self):\n",
    "        return self.n_channels\n",
    "\n",
    "    def extract_feature(self, x, preReLU=False):\n",
    "\n",
    "        x = self.conv1(x)\n",
    "        x = self.bn1(x)\n",
    "\n",
    "        feat1 = self.layer1(x)\n",
    "        feat2 = self.layer2(feat1)\n",
    "        feat3 = self.layer3(feat2)\n",
    "\n",
    "        x = F.relu(feat3)\n",
    "        x = F.avg_pool2d(x, 4)\n",
    "        x = x.view(x.size(0), -1)\n",
    "        out = self.linear(x)\n",
    "\n",
    "        if not preReLU:\n",
    "            feat1 = F.relu(feat1)\n",
    "            feat2 = F.relu(feat2)\n",
    "            feat3 = F.relu(feat3)\n",
    "\n",
    "        return [feat1, feat2, feat3], out\n",
    "\n",
    "\n",
    "def resnet8(**kwargs):\n",
    "    return ResNetSmall(BasicBlock, [1, 1, 1], **kwargs)\n",
    "\n",
    "\n",
    "def resnet14(**kwargs):\n",
    "    return ResNetSmall(BasicBlock, [2, 2, 2], **kwargs)\n",
    "\n",
    "\n",
    "def resnet20(**kwargs):\n",
    "    return ResNetSmall(BasicBlock, [3, 3, 3], **kwargs)\n",
    "\n",
    "\n",
    "def resnet26(**kwargs):\n",
    "    return ResNetSmall(BasicBlock, [4, 4, 4], **kwargs)\n",
    "\n",
    "\n",
    "def resnet32(**kwargs):\n",
    "    return ResNetSmall(BasicBlock, [5, 5, 5], **kwargs)\n",
    "\n",
    "\n",
    "def resnet44(**kwargs):\n",
    "    return ResNetSmall(BasicBlock, [7, 7, 7], **kwargs)\n",
    "\n",
    "\n",
    "def resnet56(**kwargs):\n",
    "    return ResNetSmall(BasicBlock, [9, 9, 9], **kwargs)\n",
    "\n",
    "\n",
    "def resnet10(**kwargs):\n",
    "    return ResNet(BasicBlock, [1, 1, 1, 1], **kwargs)\n",
    "\n",
    "\n",
    "def resnet18(**kwargs):\n",
    "    return ResNet(BasicBlock, [2, 2, 2, 2], **kwargs)\n",
    "\n",
    "\n",
    "def resnet34(**kwargs):\n",
    "    return ResNet(BasicBlock, [3, 4, 6, 3], **kwargs)\n",
    "\n",
    "\n",
    "def resnet50(**kwargs):\n",
    "    return ResNet(Bottleneck, [3, 4, 6, 3], **kwargs)\n",
    "\n",
    "\n",
    "def resnet101(**kwargs):\n",
    "    return ResNet(Bottleneck, [3, 4, 23, 3], **kwargs)\n",
    "\n",
    "\n",
    "def resnet152(**kwargs):\n",
    "    return ResNet(Bottleneck, [3, 8, 36, 3], **kwargs)\n",
    "\n",
    "\n",
    "def test():\n",
    "    net = resnet18()\n",
    "    y = net(torch.randn(1, 3, 32, 32))\n",
    "    print(y.size())"
   ]
  },
  {
   "cell_type": "code",
   "execution_count": 6,
   "id": "00a1c9ae",
   "metadata": {
    "execution": {
     "iopub.execute_input": "2022-05-23T17:34:34.046492Z",
     "iopub.status.busy": "2022-05-23T17:34:34.045896Z",
     "iopub.status.idle": "2022-05-23T17:34:34.053512Z",
     "shell.execute_reply": "2022-05-23T17:34:34.052658Z"
    },
    "papermill": {
     "duration": 0.046765,
     "end_time": "2022-05-23T17:34:34.055697",
     "exception": false,
     "start_time": "2022-05-23T17:34:34.008932",
     "status": "completed"
    },
    "tags": []
   },
   "outputs": [],
   "source": [
    "def load_checkpoint(model, checkpoint_path,device ):\n",
    "    device = torch.device(device)\n",
    "    model_ckp = torch.load(checkpoint_path, map_location=device)\n",
    "\n",
    "    # handle both dataparallel and normal models\n",
    "    model_tmp_dict = OrderedDict()\n",
    "    for name, value in model_ckp[\"model_state_dict\"].items():\n",
    "        if name.startswith(\"module.\"):\n",
    "            name = name[7:]\n",
    "        model_tmp_dict[name] = value\n",
    "\n",
    "    if isinstance(model, torch.nn.DataParallel):\n",
    "        model.module.load_state_dict(model_tmp_dict)\n",
    "    else:\n",
    "        model.load_state_dict(model_tmp_dict)\n",
    "    return model"
   ]
  },
  {
   "cell_type": "code",
   "execution_count": 7,
   "id": "d4c9521a",
   "metadata": {
    "execution": {
     "iopub.execute_input": "2022-05-23T17:34:34.128202Z",
     "iopub.status.busy": "2022-05-23T17:34:34.127908Z",
     "iopub.status.idle": "2022-05-23T17:34:38.455005Z",
     "shell.execute_reply": "2022-05-23T17:34:38.454068Z"
    },
    "papermill": {
     "duration": 4.365335,
     "end_time": "2022-05-23T17:34:38.457908",
     "exception": false,
     "start_time": "2022-05-23T17:34:34.092573",
     "status": "completed"
    },
    "tags": []
   },
   "outputs": [
    {
     "data": {
      "text/plain": [
       "<All keys matched successfully>"
      ]
     },
     "execution_count": 7,
     "metadata": {},
     "output_type": "execute_result"
    }
   ],
   "source": [
    "teacher_model=resnet18()\n",
    "PATH=\"../input/model-weights/best_model (1).pt\"\n",
    "teacher_model.load_state_dict(torch.load(PATH))"
   ]
  },
  {
   "cell_type": "code",
   "execution_count": 8,
   "id": "bf58d7aa",
   "metadata": {
    "execution": {
     "iopub.execute_input": "2022-05-23T17:34:38.532568Z",
     "iopub.status.busy": "2022-05-23T17:34:38.532310Z",
     "iopub.status.idle": "2022-05-23T17:34:38.539835Z",
     "shell.execute_reply": "2022-05-23T17:34:38.538967Z"
    },
    "papermill": {
     "duration": 0.046871,
     "end_time": "2022-05-23T17:34:38.542137",
     "exception": false,
     "start_time": "2022-05-23T17:34:38.495266",
     "status": "completed"
    },
    "tags": []
   },
   "outputs": [
    {
     "data": {
      "text/plain": [
       "ResNet(\n",
       "  (conv1): Conv2d(3, 64, kernel_size=(3, 3), stride=(1, 1), padding=(1, 1), bias=False)\n",
       "  (bn1): BatchNorm2d(64, eps=1e-05, momentum=0.1, affine=True, track_running_stats=True)\n",
       "  (layer1): Sequential(\n",
       "    (0): BasicBlock(\n",
       "      (conv1): Conv2d(64, 64, kernel_size=(3, 3), stride=(1, 1), padding=(1, 1), bias=False)\n",
       "      (bn1): BatchNorm2d(64, eps=1e-05, momentum=0.1, affine=True, track_running_stats=True)\n",
       "      (conv2): Conv2d(64, 64, kernel_size=(3, 3), stride=(1, 1), padding=(1, 1), bias=False)\n",
       "      (bn2): BatchNorm2d(64, eps=1e-05, momentum=0.1, affine=True, track_running_stats=True)\n",
       "      (shortcut): Sequential()\n",
       "    )\n",
       "    (1): BasicBlock(\n",
       "      (conv1): Conv2d(64, 64, kernel_size=(3, 3), stride=(1, 1), padding=(1, 1), bias=False)\n",
       "      (bn1): BatchNorm2d(64, eps=1e-05, momentum=0.1, affine=True, track_running_stats=True)\n",
       "      (conv2): Conv2d(64, 64, kernel_size=(3, 3), stride=(1, 1), padding=(1, 1), bias=False)\n",
       "      (bn2): BatchNorm2d(64, eps=1e-05, momentum=0.1, affine=True, track_running_stats=True)\n",
       "      (shortcut): Sequential()\n",
       "    )\n",
       "  )\n",
       "  (layer2): Sequential(\n",
       "    (0): BasicBlock(\n",
       "      (conv1): Conv2d(64, 128, kernel_size=(3, 3), stride=(2, 2), padding=(1, 1), bias=False)\n",
       "      (bn1): BatchNorm2d(128, eps=1e-05, momentum=0.1, affine=True, track_running_stats=True)\n",
       "      (conv2): Conv2d(128, 128, kernel_size=(3, 3), stride=(1, 1), padding=(1, 1), bias=False)\n",
       "      (bn2): BatchNorm2d(128, eps=1e-05, momentum=0.1, affine=True, track_running_stats=True)\n",
       "      (shortcut): Sequential(\n",
       "        (0): Conv2d(64, 128, kernel_size=(1, 1), stride=(2, 2), bias=False)\n",
       "        (1): BatchNorm2d(128, eps=1e-05, momentum=0.1, affine=True, track_running_stats=True)\n",
       "      )\n",
       "    )\n",
       "    (1): BasicBlock(\n",
       "      (conv1): Conv2d(128, 128, kernel_size=(3, 3), stride=(1, 1), padding=(1, 1), bias=False)\n",
       "      (bn1): BatchNorm2d(128, eps=1e-05, momentum=0.1, affine=True, track_running_stats=True)\n",
       "      (conv2): Conv2d(128, 128, kernel_size=(3, 3), stride=(1, 1), padding=(1, 1), bias=False)\n",
       "      (bn2): BatchNorm2d(128, eps=1e-05, momentum=0.1, affine=True, track_running_stats=True)\n",
       "      (shortcut): Sequential()\n",
       "    )\n",
       "  )\n",
       "  (layer3): Sequential(\n",
       "    (0): BasicBlock(\n",
       "      (conv1): Conv2d(128, 256, kernel_size=(3, 3), stride=(2, 2), padding=(1, 1), bias=False)\n",
       "      (bn1): BatchNorm2d(256, eps=1e-05, momentum=0.1, affine=True, track_running_stats=True)\n",
       "      (conv2): Conv2d(256, 256, kernel_size=(3, 3), stride=(1, 1), padding=(1, 1), bias=False)\n",
       "      (bn2): BatchNorm2d(256, eps=1e-05, momentum=0.1, affine=True, track_running_stats=True)\n",
       "      (shortcut): Sequential(\n",
       "        (0): Conv2d(128, 256, kernel_size=(1, 1), stride=(2, 2), bias=False)\n",
       "        (1): BatchNorm2d(256, eps=1e-05, momentum=0.1, affine=True, track_running_stats=True)\n",
       "      )\n",
       "    )\n",
       "    (1): BasicBlock(\n",
       "      (conv1): Conv2d(256, 256, kernel_size=(3, 3), stride=(1, 1), padding=(1, 1), bias=False)\n",
       "      (bn1): BatchNorm2d(256, eps=1e-05, momentum=0.1, affine=True, track_running_stats=True)\n",
       "      (conv2): Conv2d(256, 256, kernel_size=(3, 3), stride=(1, 1), padding=(1, 1), bias=False)\n",
       "      (bn2): BatchNorm2d(256, eps=1e-05, momentum=0.1, affine=True, track_running_stats=True)\n",
       "      (shortcut): Sequential()\n",
       "    )\n",
       "  )\n",
       "  (layer4): Sequential(\n",
       "    (0): BasicBlock(\n",
       "      (conv1): Conv2d(256, 512, kernel_size=(3, 3), stride=(2, 2), padding=(1, 1), bias=False)\n",
       "      (bn1): BatchNorm2d(512, eps=1e-05, momentum=0.1, affine=True, track_running_stats=True)\n",
       "      (conv2): Conv2d(512, 512, kernel_size=(3, 3), stride=(1, 1), padding=(1, 1), bias=False)\n",
       "      (bn2): BatchNorm2d(512, eps=1e-05, momentum=0.1, affine=True, track_running_stats=True)\n",
       "      (shortcut): Sequential(\n",
       "        (0): Conv2d(256, 512, kernel_size=(1, 1), stride=(2, 2), bias=False)\n",
       "        (1): BatchNorm2d(512, eps=1e-05, momentum=0.1, affine=True, track_running_stats=True)\n",
       "      )\n",
       "    )\n",
       "    (1): BasicBlock(\n",
       "      (conv1): Conv2d(512, 512, kernel_size=(3, 3), stride=(1, 1), padding=(1, 1), bias=False)\n",
       "      (bn1): BatchNorm2d(512, eps=1e-05, momentum=0.1, affine=True, track_running_stats=True)\n",
       "      (conv2): Conv2d(512, 512, kernel_size=(3, 3), stride=(1, 1), padding=(1, 1), bias=False)\n",
       "      (bn2): BatchNorm2d(512, eps=1e-05, momentum=0.1, affine=True, track_running_stats=True)\n",
       "      (shortcut): Sequential()\n",
       "    )\n",
       "  )\n",
       "  (linear): Linear(in_features=512, out_features=10, bias=True)\n",
       ")"
      ]
     },
     "execution_count": 8,
     "metadata": {},
     "output_type": "execute_result"
    }
   ],
   "source": [
    "teacher_model.eval()"
   ]
  },
  {
   "cell_type": "code",
   "execution_count": 9,
   "id": "1d61f771",
   "metadata": {
    "execution": {
     "iopub.execute_input": "2022-05-23T17:34:38.616019Z",
     "iopub.status.busy": "2022-05-23T17:34:38.615776Z",
     "iopub.status.idle": "2022-05-23T17:34:38.639198Z",
     "shell.execute_reply": "2022-05-23T17:34:38.638167Z"
    },
    "papermill": {
     "duration": 0.062405,
     "end_time": "2022-05-23T17:34:38.641308",
     "exception": false,
     "start_time": "2022-05-23T17:34:38.578903",
     "status": "completed"
    },
    "tags": []
   },
   "outputs": [
    {
     "data": {
      "text/plain": [
       "ResNet(\n",
       "  (conv1): Conv2d(3, 64, kernel_size=(3, 3), stride=(1, 1), padding=(1, 1), bias=False)\n",
       "  (bn1): BatchNorm2d(64, eps=1e-05, momentum=0.1, affine=True, track_running_stats=True)\n",
       "  (layer1): Sequential(\n",
       "    (0): BasicBlock(\n",
       "      (conv1): Conv2d(64, 64, kernel_size=(3, 3), stride=(1, 1), padding=(1, 1), bias=False)\n",
       "      (bn1): BatchNorm2d(64, eps=1e-05, momentum=0.1, affine=True, track_running_stats=True)\n",
       "      (conv2): Conv2d(64, 64, kernel_size=(3, 3), stride=(1, 1), padding=(1, 1), bias=False)\n",
       "      (bn2): BatchNorm2d(64, eps=1e-05, momentum=0.1, affine=True, track_running_stats=True)\n",
       "      (shortcut): Sequential()\n",
       "    )\n",
       "    (1): BasicBlock(\n",
       "      (conv1): Conv2d(64, 64, kernel_size=(3, 3), stride=(1, 1), padding=(1, 1), bias=False)\n",
       "      (bn1): BatchNorm2d(64, eps=1e-05, momentum=0.1, affine=True, track_running_stats=True)\n",
       "      (conv2): Conv2d(64, 64, kernel_size=(3, 3), stride=(1, 1), padding=(1, 1), bias=False)\n",
       "      (bn2): BatchNorm2d(64, eps=1e-05, momentum=0.1, affine=True, track_running_stats=True)\n",
       "      (shortcut): Sequential()\n",
       "    )\n",
       "  )\n",
       "  (layer2): Sequential(\n",
       "    (0): BasicBlock(\n",
       "      (conv1): Conv2d(64, 128, kernel_size=(3, 3), stride=(2, 2), padding=(1, 1), bias=False)\n",
       "      (bn1): BatchNorm2d(128, eps=1e-05, momentum=0.1, affine=True, track_running_stats=True)\n",
       "      (conv2): Conv2d(128, 128, kernel_size=(3, 3), stride=(1, 1), padding=(1, 1), bias=False)\n",
       "      (bn2): BatchNorm2d(128, eps=1e-05, momentum=0.1, affine=True, track_running_stats=True)\n",
       "      (shortcut): Sequential(\n",
       "        (0): Conv2d(64, 128, kernel_size=(1, 1), stride=(2, 2), bias=False)\n",
       "        (1): BatchNorm2d(128, eps=1e-05, momentum=0.1, affine=True, track_running_stats=True)\n",
       "      )\n",
       "    )\n",
       "    (1): BasicBlock(\n",
       "      (conv1): Conv2d(128, 128, kernel_size=(3, 3), stride=(1, 1), padding=(1, 1), bias=False)\n",
       "      (bn1): BatchNorm2d(128, eps=1e-05, momentum=0.1, affine=True, track_running_stats=True)\n",
       "      (conv2): Conv2d(128, 128, kernel_size=(3, 3), stride=(1, 1), padding=(1, 1), bias=False)\n",
       "      (bn2): BatchNorm2d(128, eps=1e-05, momentum=0.1, affine=True, track_running_stats=True)\n",
       "      (shortcut): Sequential()\n",
       "    )\n",
       "  )\n",
       "  (layer3): Sequential(\n",
       "    (0): BasicBlock(\n",
       "      (conv1): Conv2d(128, 256, kernel_size=(3, 3), stride=(2, 2), padding=(1, 1), bias=False)\n",
       "      (bn1): BatchNorm2d(256, eps=1e-05, momentum=0.1, affine=True, track_running_stats=True)\n",
       "      (conv2): Conv2d(256, 256, kernel_size=(3, 3), stride=(1, 1), padding=(1, 1), bias=False)\n",
       "      (bn2): BatchNorm2d(256, eps=1e-05, momentum=0.1, affine=True, track_running_stats=True)\n",
       "      (shortcut): Sequential(\n",
       "        (0): Conv2d(128, 256, kernel_size=(1, 1), stride=(2, 2), bias=False)\n",
       "        (1): BatchNorm2d(256, eps=1e-05, momentum=0.1, affine=True, track_running_stats=True)\n",
       "      )\n",
       "    )\n",
       "    (1): BasicBlock(\n",
       "      (conv1): Conv2d(256, 256, kernel_size=(3, 3), stride=(1, 1), padding=(1, 1), bias=False)\n",
       "      (bn1): BatchNorm2d(256, eps=1e-05, momentum=0.1, affine=True, track_running_stats=True)\n",
       "      (conv2): Conv2d(256, 256, kernel_size=(3, 3), stride=(1, 1), padding=(1, 1), bias=False)\n",
       "      (bn2): BatchNorm2d(256, eps=1e-05, momentum=0.1, affine=True, track_running_stats=True)\n",
       "      (shortcut): Sequential()\n",
       "    )\n",
       "  )\n",
       "  (layer4): Sequential(\n",
       "    (0): BasicBlock(\n",
       "      (conv1): Conv2d(256, 512, kernel_size=(3, 3), stride=(2, 2), padding=(1, 1), bias=False)\n",
       "      (bn1): BatchNorm2d(512, eps=1e-05, momentum=0.1, affine=True, track_running_stats=True)\n",
       "      (conv2): Conv2d(512, 512, kernel_size=(3, 3), stride=(1, 1), padding=(1, 1), bias=False)\n",
       "      (bn2): BatchNorm2d(512, eps=1e-05, momentum=0.1, affine=True, track_running_stats=True)\n",
       "      (shortcut): Sequential(\n",
       "        (0): Conv2d(256, 512, kernel_size=(1, 1), stride=(2, 2), bias=False)\n",
       "        (1): BatchNorm2d(512, eps=1e-05, momentum=0.1, affine=True, track_running_stats=True)\n",
       "      )\n",
       "    )\n",
       "    (1): BasicBlock(\n",
       "      (conv1): Conv2d(512, 512, kernel_size=(3, 3), stride=(1, 1), padding=(1, 1), bias=False)\n",
       "      (bn1): BatchNorm2d(512, eps=1e-05, momentum=0.1, affine=True, track_running_stats=True)\n",
       "      (conv2): Conv2d(512, 512, kernel_size=(3, 3), stride=(1, 1), padding=(1, 1), bias=False)\n",
       "      (bn2): BatchNorm2d(512, eps=1e-05, momentum=0.1, affine=True, track_running_stats=True)\n",
       "      (shortcut): Sequential()\n",
       "    )\n",
       "  )\n",
       "  (linear): Linear(in_features=512, out_features=10, bias=True)\n",
       ")"
      ]
     },
     "execution_count": 9,
     "metadata": {},
     "output_type": "execute_result"
    }
   ],
   "source": [
    "teacher_model.to(DEVICE)"
   ]
  },
  {
   "cell_type": "code",
   "execution_count": 10,
   "id": "6b16639a",
   "metadata": {
    "execution": {
     "iopub.execute_input": "2022-05-23T17:34:38.715778Z",
     "iopub.status.busy": "2022-05-23T17:34:38.714991Z",
     "iopub.status.idle": "2022-05-23T17:34:38.719081Z",
     "shell.execute_reply": "2022-05-23T17:34:38.718181Z"
    },
    "papermill": {
     "duration": 0.044062,
     "end_time": "2022-05-23T17:34:38.721264",
     "exception": false,
     "start_time": "2022-05-23T17:34:38.677202",
     "status": "completed"
    },
    "tags": []
   },
   "outputs": [],
   "source": [
    "#avg_val_loss, score = valid_fn(test_loader, teacher_model, criterion, DEVICE)"
   ]
  },
  {
   "cell_type": "code",
   "execution_count": 11,
   "id": "032aa313",
   "metadata": {
    "execution": {
     "iopub.execute_input": "2022-05-23T17:34:38.797406Z",
     "iopub.status.busy": "2022-05-23T17:34:38.797158Z",
     "iopub.status.idle": "2022-05-23T17:34:38.800870Z",
     "shell.execute_reply": "2022-05-23T17:34:38.799965Z"
    },
    "papermill": {
     "duration": 0.04367,
     "end_time": "2022-05-23T17:34:38.803040",
     "exception": false,
     "start_time": "2022-05-23T17:34:38.759370",
     "status": "completed"
    },
    "tags": []
   },
   "outputs": [],
   "source": [
    "#score"
   ]
  },
  {
   "cell_type": "code",
   "execution_count": 12,
   "id": "6e536570",
   "metadata": {
    "execution": {
     "iopub.execute_input": "2022-05-23T17:34:38.890077Z",
     "iopub.status.busy": "2022-05-23T17:34:38.889851Z",
     "iopub.status.idle": "2022-05-23T17:34:38.893775Z",
     "shell.execute_reply": "2022-05-23T17:34:38.892685Z"
    },
    "papermill": {
     "duration": 0.049584,
     "end_time": "2022-05-23T17:34:38.896022",
     "exception": false,
     "start_time": "2022-05-23T17:34:38.846438",
     "status": "completed"
    },
    "tags": []
   },
   "outputs": [],
   "source": [
    "#for param in teacher_model.parameters():\n",
    "       # param.requires_grad=False"
   ]
  },
  {
   "cell_type": "code",
   "execution_count": 13,
   "id": "4ba462eb",
   "metadata": {
    "execution": {
     "iopub.execute_input": "2022-05-23T17:34:38.968915Z",
     "iopub.status.busy": "2022-05-23T17:34:38.968703Z",
     "iopub.status.idle": "2022-05-23T17:34:38.972532Z",
     "shell.execute_reply": "2022-05-23T17:34:38.971512Z"
    },
    "papermill": {
     "duration": 0.043255,
     "end_time": "2022-05-23T17:34:38.974747",
     "exception": false,
     "start_time": "2022-05-23T17:34:38.931492",
     "status": "completed"
    },
    "tags": []
   },
   "outputs": [],
   "source": [
    "#for param in teacher_model.linear.parameters():\n",
    "    #param.requires_grad = True"
   ]
  },
  {
   "cell_type": "code",
   "execution_count": 14,
   "id": "608c7268",
   "metadata": {
    "execution": {
     "iopub.execute_input": "2022-05-23T17:34:39.051976Z",
     "iopub.status.busy": "2022-05-23T17:34:39.050985Z",
     "iopub.status.idle": "2022-05-23T17:34:39.061310Z",
     "shell.execute_reply": "2022-05-23T17:34:39.055027Z"
    },
    "papermill": {
     "duration": 0.053622,
     "end_time": "2022-05-23T17:34:39.065798",
     "exception": false,
     "start_time": "2022-05-23T17:34:39.012176",
     "status": "completed"
    },
    "tags": []
   },
   "outputs": [],
   "source": [
    "#import torchvision.models as models\n",
    "#resnet18 = models.resnet18(pretrained=True)"
   ]
  },
  {
   "cell_type": "code",
   "execution_count": 15,
   "id": "48219a3e",
   "metadata": {
    "execution": {
     "iopub.execute_input": "2022-05-23T17:34:39.223597Z",
     "iopub.status.busy": "2022-05-23T17:34:39.222781Z",
     "iopub.status.idle": "2022-05-23T17:34:39.227144Z",
     "shell.execute_reply": "2022-05-23T17:34:39.226295Z"
    },
    "papermill": {
     "duration": 0.086607,
     "end_time": "2022-05-23T17:34:39.234046",
     "exception": false,
     "start_time": "2022-05-23T17:34:39.147439",
     "status": "completed"
    },
    "tags": []
   },
   "outputs": [],
   "source": [
    "#teacher_model=resnet18"
   ]
  },
  {
   "cell_type": "code",
   "execution_count": 16,
   "id": "04211714",
   "metadata": {
    "execution": {
     "iopub.execute_input": "2022-05-23T17:34:39.364010Z",
     "iopub.status.busy": "2022-05-23T17:34:39.363345Z",
     "iopub.status.idle": "2022-05-23T17:34:39.369484Z",
     "shell.execute_reply": "2022-05-23T17:34:39.368567Z"
    },
    "papermill": {
     "duration": 0.075321,
     "end_time": "2022-05-23T17:34:39.372547",
     "exception": false,
     "start_time": "2022-05-23T17:34:39.297226",
     "status": "completed"
    },
    "tags": []
   },
   "outputs": [],
   "source": [
    "#teacher_model.fc"
   ]
  },
  {
   "cell_type": "code",
   "execution_count": 17,
   "id": "94d0bf25",
   "metadata": {
    "execution": {
     "iopub.execute_input": "2022-05-23T17:34:39.516475Z",
     "iopub.status.busy": "2022-05-23T17:34:39.516146Z",
     "iopub.status.idle": "2022-05-23T17:34:39.520264Z",
     "shell.execute_reply": "2022-05-23T17:34:39.519401Z"
    },
    "papermill": {
     "duration": 0.082405,
     "end_time": "2022-05-23T17:34:39.525356",
     "exception": false,
     "start_time": "2022-05-23T17:34:39.442951",
     "status": "completed"
    },
    "tags": []
   },
   "outputs": [],
   "source": [
    "#for param in teacher_model.parameters():\n",
    "   # param.requires_grad = False"
   ]
  },
  {
   "cell_type": "code",
   "execution_count": 18,
   "id": "44825a60",
   "metadata": {
    "execution": {
     "iopub.execute_input": "2022-05-23T17:34:39.658860Z",
     "iopub.status.busy": "2022-05-23T17:34:39.658449Z",
     "iopub.status.idle": "2022-05-23T17:34:39.662948Z",
     "shell.execute_reply": "2022-05-23T17:34:39.662012Z"
    },
    "papermill": {
     "duration": 0.075581,
     "end_time": "2022-05-23T17:34:39.667875",
     "exception": false,
     "start_time": "2022-05-23T17:34:39.592294",
     "status": "completed"
    },
    "tags": []
   },
   "outputs": [],
   "source": [
    "#teacher_model.fc= nn.Linear(512,10)"
   ]
  },
  {
   "cell_type": "code",
   "execution_count": 19,
   "id": "808325d1",
   "metadata": {
    "execution": {
     "iopub.execute_input": "2022-05-23T17:34:39.808445Z",
     "iopub.status.busy": "2022-05-23T17:34:39.808044Z",
     "iopub.status.idle": "2022-05-23T17:34:39.830922Z",
     "shell.execute_reply": "2022-05-23T17:34:39.830190Z"
    },
    "papermill": {
     "duration": 0.096293,
     "end_time": "2022-05-23T17:34:39.833688",
     "exception": false,
     "start_time": "2022-05-23T17:34:39.737395",
     "status": "completed"
    },
    "tags": []
   },
   "outputs": [],
   "source": [
    "student_model=resnet20()"
   ]
  },
  {
   "cell_type": "code",
   "execution_count": 20,
   "id": "429fd8c9",
   "metadata": {
    "execution": {
     "iopub.execute_input": "2022-05-23T17:34:39.958715Z",
     "iopub.status.busy": "2022-05-23T17:34:39.958417Z",
     "iopub.status.idle": "2022-05-23T17:34:39.971146Z",
     "shell.execute_reply": "2022-05-23T17:34:39.970300Z"
    },
    "papermill": {
     "duration": 0.078184,
     "end_time": "2022-05-23T17:34:39.974096",
     "exception": false,
     "start_time": "2022-05-23T17:34:39.895912",
     "status": "completed"
    },
    "tags": []
   },
   "outputs": [
    {
     "name": "stdout",
     "output_type": "stream",
     "text": [
      "Adjusting learning rate of group 0 to 1.0000e-01.\n"
     ]
    }
   ],
   "source": [
    "learning_rate=0.1\n",
    "num_epochs=200\n",
    "optimizer_student =torch.optim.SGD(student_model.parameters(), lr=1e-1, momentum=0.9, weight_decay=0.0005, nesterov=True)\n",
    "scheduler_student = torch.optim.lr_scheduler.MultiStepLR(optimizer_student, milestones=[66,132], gamma=0.1,verbose=True)"
   ]
  },
  {
   "cell_type": "code",
   "execution_count": 21,
   "id": "7bdf9099",
   "metadata": {
    "execution": {
     "iopub.execute_input": "2022-05-23T17:34:40.107112Z",
     "iopub.status.busy": "2022-05-23T17:34:40.106744Z",
     "iopub.status.idle": "2022-05-23T17:34:40.112591Z",
     "shell.execute_reply": "2022-05-23T17:34:40.111691Z"
    },
    "papermill": {
     "duration": 0.079744,
     "end_time": "2022-05-23T17:34:40.117509",
     "exception": false,
     "start_time": "2022-05-23T17:34:40.037765",
     "status": "completed"
    },
    "tags": []
   },
   "outputs": [],
   "source": [
    "def freeze_teacher(t_net):\n",
    "    # freeze the layers of the teacher\n",
    "    for param in t_net.parameters():\n",
    "        param.requires_grad = False\n",
    "    # set the teacher net into evaluation mode\n",
    "    t_net.eval()\n",
    "    return t_net"
   ]
  },
  {
   "cell_type": "code",
   "execution_count": 22,
   "id": "2e1d448c",
   "metadata": {
    "execution": {
     "iopub.execute_input": "2022-05-23T17:34:40.249584Z",
     "iopub.status.busy": "2022-05-23T17:34:40.249183Z",
     "iopub.status.idle": "2022-05-23T17:34:40.270259Z",
     "shell.execute_reply": "2022-05-23T17:34:40.269413Z"
    },
    "papermill": {
     "duration": 0.091593,
     "end_time": "2022-05-23T17:34:40.273259",
     "exception": false,
     "start_time": "2022-05-23T17:34:40.181666",
     "status": "completed"
    },
    "tags": []
   },
   "outputs": [
    {
     "data": {
      "text/plain": [
       "ResNetSmall(\n",
       "  (conv1): Conv2d(3, 64, kernel_size=(3, 3), stride=(1, 1), padding=(1, 1), bias=False)\n",
       "  (bn1): BatchNorm2d(64, eps=1e-05, momentum=0.1, affine=True, track_running_stats=True)\n",
       "  (layer1): Sequential(\n",
       "    (0): BasicBlock(\n",
       "      (conv1): Conv2d(64, 16, kernel_size=(3, 3), stride=(1, 1), padding=(1, 1), bias=False)\n",
       "      (bn1): BatchNorm2d(16, eps=1e-05, momentum=0.1, affine=True, track_running_stats=True)\n",
       "      (conv2): Conv2d(16, 16, kernel_size=(3, 3), stride=(1, 1), padding=(1, 1), bias=False)\n",
       "      (bn2): BatchNorm2d(16, eps=1e-05, momentum=0.1, affine=True, track_running_stats=True)\n",
       "      (shortcut): Sequential(\n",
       "        (0): Conv2d(64, 16, kernel_size=(1, 1), stride=(1, 1), bias=False)\n",
       "        (1): BatchNorm2d(16, eps=1e-05, momentum=0.1, affine=True, track_running_stats=True)\n",
       "      )\n",
       "    )\n",
       "    (1): BasicBlock(\n",
       "      (conv1): Conv2d(16, 16, kernel_size=(3, 3), stride=(1, 1), padding=(1, 1), bias=False)\n",
       "      (bn1): BatchNorm2d(16, eps=1e-05, momentum=0.1, affine=True, track_running_stats=True)\n",
       "      (conv2): Conv2d(16, 16, kernel_size=(3, 3), stride=(1, 1), padding=(1, 1), bias=False)\n",
       "      (bn2): BatchNorm2d(16, eps=1e-05, momentum=0.1, affine=True, track_running_stats=True)\n",
       "      (shortcut): Sequential()\n",
       "    )\n",
       "    (2): BasicBlock(\n",
       "      (conv1): Conv2d(16, 16, kernel_size=(3, 3), stride=(1, 1), padding=(1, 1), bias=False)\n",
       "      (bn1): BatchNorm2d(16, eps=1e-05, momentum=0.1, affine=True, track_running_stats=True)\n",
       "      (conv2): Conv2d(16, 16, kernel_size=(3, 3), stride=(1, 1), padding=(1, 1), bias=False)\n",
       "      (bn2): BatchNorm2d(16, eps=1e-05, momentum=0.1, affine=True, track_running_stats=True)\n",
       "      (shortcut): Sequential()\n",
       "    )\n",
       "  )\n",
       "  (layer2): Sequential(\n",
       "    (0): BasicBlock(\n",
       "      (conv1): Conv2d(16, 32, kernel_size=(3, 3), stride=(2, 2), padding=(1, 1), bias=False)\n",
       "      (bn1): BatchNorm2d(32, eps=1e-05, momentum=0.1, affine=True, track_running_stats=True)\n",
       "      (conv2): Conv2d(32, 32, kernel_size=(3, 3), stride=(1, 1), padding=(1, 1), bias=False)\n",
       "      (bn2): BatchNorm2d(32, eps=1e-05, momentum=0.1, affine=True, track_running_stats=True)\n",
       "      (shortcut): Sequential(\n",
       "        (0): Conv2d(16, 32, kernel_size=(1, 1), stride=(2, 2), bias=False)\n",
       "        (1): BatchNorm2d(32, eps=1e-05, momentum=0.1, affine=True, track_running_stats=True)\n",
       "      )\n",
       "    )\n",
       "    (1): BasicBlock(\n",
       "      (conv1): Conv2d(32, 32, kernel_size=(3, 3), stride=(1, 1), padding=(1, 1), bias=False)\n",
       "      (bn1): BatchNorm2d(32, eps=1e-05, momentum=0.1, affine=True, track_running_stats=True)\n",
       "      (conv2): Conv2d(32, 32, kernel_size=(3, 3), stride=(1, 1), padding=(1, 1), bias=False)\n",
       "      (bn2): BatchNorm2d(32, eps=1e-05, momentum=0.1, affine=True, track_running_stats=True)\n",
       "      (shortcut): Sequential()\n",
       "    )\n",
       "    (2): BasicBlock(\n",
       "      (conv1): Conv2d(32, 32, kernel_size=(3, 3), stride=(1, 1), padding=(1, 1), bias=False)\n",
       "      (bn1): BatchNorm2d(32, eps=1e-05, momentum=0.1, affine=True, track_running_stats=True)\n",
       "      (conv2): Conv2d(32, 32, kernel_size=(3, 3), stride=(1, 1), padding=(1, 1), bias=False)\n",
       "      (bn2): BatchNorm2d(32, eps=1e-05, momentum=0.1, affine=True, track_running_stats=True)\n",
       "      (shortcut): Sequential()\n",
       "    )\n",
       "  )\n",
       "  (layer3): Sequential(\n",
       "    (0): BasicBlock(\n",
       "      (conv1): Conv2d(32, 64, kernel_size=(3, 3), stride=(2, 2), padding=(1, 1), bias=False)\n",
       "      (bn1): BatchNorm2d(64, eps=1e-05, momentum=0.1, affine=True, track_running_stats=True)\n",
       "      (conv2): Conv2d(64, 64, kernel_size=(3, 3), stride=(1, 1), padding=(1, 1), bias=False)\n",
       "      (bn2): BatchNorm2d(64, eps=1e-05, momentum=0.1, affine=True, track_running_stats=True)\n",
       "      (shortcut): Sequential(\n",
       "        (0): Conv2d(32, 64, kernel_size=(1, 1), stride=(2, 2), bias=False)\n",
       "        (1): BatchNorm2d(64, eps=1e-05, momentum=0.1, affine=True, track_running_stats=True)\n",
       "      )\n",
       "    )\n",
       "    (1): BasicBlock(\n",
       "      (conv1): Conv2d(64, 64, kernel_size=(3, 3), stride=(1, 1), padding=(1, 1), bias=False)\n",
       "      (bn1): BatchNorm2d(64, eps=1e-05, momentum=0.1, affine=True, track_running_stats=True)\n",
       "      (conv2): Conv2d(64, 64, kernel_size=(3, 3), stride=(1, 1), padding=(1, 1), bias=False)\n",
       "      (bn2): BatchNorm2d(64, eps=1e-05, momentum=0.1, affine=True, track_running_stats=True)\n",
       "      (shortcut): Sequential()\n",
       "    )\n",
       "    (2): BasicBlock(\n",
       "      (conv1): Conv2d(64, 64, kernel_size=(3, 3), stride=(1, 1), padding=(1, 1), bias=False)\n",
       "      (bn1): BatchNorm2d(64, eps=1e-05, momentum=0.1, affine=True, track_running_stats=True)\n",
       "      (conv2): Conv2d(64, 64, kernel_size=(3, 3), stride=(1, 1), padding=(1, 1), bias=False)\n",
       "      (bn2): BatchNorm2d(64, eps=1e-05, momentum=0.1, affine=True, track_running_stats=True)\n",
       "      (shortcut): Sequential()\n",
       "    )\n",
       "  )\n",
       "  (linear): Linear(in_features=256, out_features=10, bias=True)\n",
       ")"
      ]
     },
     "execution_count": 22,
     "metadata": {},
     "output_type": "execute_result"
    }
   ],
   "source": [
    "student_model.to(DEVICE)"
   ]
  },
  {
   "cell_type": "code",
   "execution_count": 23,
   "id": "017b7fca",
   "metadata": {
    "execution": {
     "iopub.execute_input": "2022-05-23T17:34:40.402757Z",
     "iopub.status.busy": "2022-05-23T17:34:40.402383Z",
     "iopub.status.idle": "2022-05-23T17:34:40.406445Z",
     "shell.execute_reply": "2022-05-23T17:34:40.405705Z"
    },
    "papermill": {
     "duration": 0.074591,
     "end_time": "2022-05-23T17:34:40.411093",
     "exception": false,
     "start_time": "2022-05-23T17:34:40.336502",
     "status": "completed"
    },
    "tags": []
   },
   "outputs": [],
   "source": [
    "#avg_val_loss, score = valid_fn(test_loader, student_model, criterion, DEVICE)\n",
    "#score"
   ]
  },
  {
   "cell_type": "code",
   "execution_count": 24,
   "id": "f95239c6",
   "metadata": {
    "execution": {
     "iopub.execute_input": "2022-05-23T17:34:40.545224Z",
     "iopub.status.busy": "2022-05-23T17:34:40.544738Z",
     "iopub.status.idle": "2022-05-23T17:34:40.554399Z",
     "shell.execute_reply": "2022-05-23T17:34:40.553548Z"
    },
    "papermill": {
     "duration": 0.082476,
     "end_time": "2022-05-23T17:34:40.557537",
     "exception": false,
     "start_time": "2022-05-23T17:34:40.475061",
     "status": "completed"
    },
    "tags": []
   },
   "outputs": [],
   "source": [
    "def init_progress_bar(train_loader):\n",
    "    batch_size = train_loader.batch_size\n",
    "    bar_format = \"{desc}{percentage:3.0f}%\"\n",
    "    # bar_format += \"|{bar}|\"\n",
    "    bar_format += \" {n_fmt}/{total_fmt} [{elapsed} < {remaining}]\"\n",
    "    bar_format += \"{postfix}\"\n",
    "    # if stderr has no tty disable the progress bar\n",
    "    disable = not sys.stderr.isatty()\n",
    "    t = tqdm(total=len(train_loader) * batch_size,\n",
    "             bar_format=bar_format)\n",
    "    if disable:\n",
    "        # a trick to allow execution in environments where stderr is redirected\n",
    "        t._time = lambda: 0.0\n",
    "    return t"
   ]
  },
  {
   "cell_type": "code",
   "execution_count": 25,
   "id": "6bb4ea8d",
   "metadata": {
    "execution": {
     "iopub.execute_input": "2022-05-23T17:34:40.664635Z",
     "iopub.status.busy": "2022-05-23T17:34:40.663973Z",
     "iopub.status.idle": "2022-05-23T17:34:40.669278Z",
     "shell.execute_reply": "2022-05-23T17:34:40.668322Z"
    },
    "papermill": {
     "duration": 0.049727,
     "end_time": "2022-05-23T17:34:40.671746",
     "exception": false,
     "start_time": "2022-05-23T17:34:40.622019",
     "status": "completed"
    },
    "tags": []
   },
   "outputs": [
    {
     "name": "stdout",
     "output_type": "stream",
     "text": [
      "<function init_progress_bar at 0x7f2b5f9ba5f0>\n"
     ]
    }
   ],
   "source": [
    "print(init_progress_bar)"
   ]
  },
  {
   "cell_type": "code",
   "execution_count": 26,
   "id": "1ac8d1ec",
   "metadata": {
    "execution": {
     "iopub.execute_input": "2022-05-23T17:34:40.753334Z",
     "iopub.status.busy": "2022-05-23T17:34:40.753064Z",
     "iopub.status.idle": "2022-05-23T17:34:40.760370Z",
     "shell.execute_reply": "2022-05-23T17:34:40.759250Z"
    },
    "papermill": {
     "duration": 0.050943,
     "end_time": "2022-05-23T17:34:40.762753",
     "exception": false,
     "start_time": "2022-05-23T17:34:40.711810",
     "status": "completed"
    },
    "tags": []
   },
   "outputs": [],
   "source": [
    "class AverageMeter(object):\n",
    "    \"\"\"Computes and stores the average and current value\"\"\"\n",
    "    def __init__(self):\n",
    "        self.reset()\n",
    "\n",
    "    def reset(self):\n",
    "        self.val = 0\n",
    "        self.avg = 0\n",
    "        self.sum = 0\n",
    "        self.count = 0\n",
    "\n",
    "    def update(self, val, n=1):\n",
    "        self.val = val\n",
    "        self.sum += val * n\n",
    "        self.count += n\n",
    "        self.avg = self.sum / self.count\n",
    "\n",
    "def get_score(y_true, y_pred):\n",
    "    return accuracy_score(y_true, y_pred)"
   ]
  },
  {
   "cell_type": "code",
   "execution_count": 27,
   "id": "4f957809",
   "metadata": {
    "execution": {
     "iopub.execute_input": "2022-05-23T17:34:40.848857Z",
     "iopub.status.busy": "2022-05-23T17:34:40.848563Z",
     "iopub.status.idle": "2022-05-23T17:34:40.868547Z",
     "shell.execute_reply": "2022-05-23T17:34:40.867514Z"
    },
    "papermill": {
     "duration": 0.068625,
     "end_time": "2022-05-23T17:34:40.871189",
     "exception": false,
     "start_time": "2022-05-23T17:34:40.802564",
     "status": "completed"
    },
    "tags": []
   },
   "outputs": [],
   "source": [
    "def train_fn(train_loader, model, criterion, optimizer, scheduler, device,alpha,temperature):\n",
    "    batch_time = AverageMeter()\n",
    "    data_time = AverageMeter()\n",
    "    losses = AverageMeter()\n",
    "    scores = AverageMeter()\n",
    "\n",
    "    \n",
    "    start = end = time.time()\n",
    "    for step, (images, labels) in tqdm(enumerate(train_loader), total = len(train_loader)):\n",
    "        data_time.update(time.time() - end)\n",
    "        images = images.to(device, dtype=torch.float)\n",
    "        labels = labels.to(device)\n",
    "        batch_size = labels.size(0)\n",
    "        with torch.no_grad():\n",
    "                large_logits = teacher_model(images)\n",
    "        model.train()\n",
    "        y_preds = model(images)\n",
    "        soft_targets_loss = F.kl_div(F.log_softmax(y_preds/ temperature, dim=1), F.softmax(large_logits / temperature, dim=1), reduction='batchmean')\n",
    "        label_loss = F.cross_entropy(y_preds, labels)\n",
    "        # Weighted sum of the two losses\n",
    "        loss = alpha*(temperature*temperature) * soft_targets_loss + (1-alpha) * label_loss\n",
    "\n",
    "        #loss = criterion(y_preds, labels)\n",
    "        losses.update(loss.item(), batch_size)\n",
    "\n",
    "        loss.backward()\n",
    "        optimizer.step()\n",
    "        optimizer.zero_grad()\n",
    "        batch_time.update(time.time() - end)\n",
    "        end = time.time()\n",
    "\n",
    "    return losses.avg\n",
    "\n",
    "def valid_fn(test_loader, model, criterion, device):\n",
    "    batch_time = AverageMeter()\n",
    "    data_time = AverageMeter()\n",
    "    losses = AverageMeter()\n",
    "    scores = AverageMeter()\n",
    "\n",
    "\n",
    "    model.eval()\n",
    "    start = end = time.time()\n",
    "    preds = []\n",
    "    valid_labels = []\n",
    "    for step, (images, labels) in tqdm(enumerate(test_loader), total = len(test_loader)):\n",
    "        data_time.update(time.time() - end)\n",
    "        images = images.to(device, dtype=torch.float)\n",
    "        labels = labels.to(device)\n",
    "        batch_size = labels.size(0)\n",
    "\n",
    "        with torch.no_grad():\n",
    "            y_preds = model(images)\n",
    "        loss = criterion(y_preds, labels)\n",
    "        losses.update(loss.item(), batch_size)\n",
    "\n",
    "        preds.append(y_preds.softmax(1).to('cpu').numpy())\n",
    "        valid_labels.append(labels.to('cpu').numpy())\n",
    "        \n",
    "        batch_time.update(time.time() - end)\n",
    "        end = time.time()\n",
    "\n",
    "    predictions = np.concatenate(preds)\n",
    "    valid_labels = np.concatenate(valid_labels)\n",
    "    \n",
    "    score = get_score(valid_labels, predictions.argmax(1))\n",
    "    \n",
    "    return losses.avg, score"
   ]
  },
  {
   "cell_type": "code",
   "execution_count": 28,
   "id": "54eb3e11",
   "metadata": {
    "execution": {
     "iopub.execute_input": "2022-05-23T17:34:40.963166Z",
     "iopub.status.busy": "2022-05-23T17:34:40.962913Z",
     "iopub.status.idle": "2022-05-23T17:34:40.968379Z",
     "shell.execute_reply": "2022-05-23T17:34:40.967172Z"
    },
    "papermill": {
     "duration": 0.054573,
     "end_time": "2022-05-23T17:34:40.970699",
     "exception": false,
     "start_time": "2022-05-23T17:34:40.916126",
     "status": "completed"
    },
    "tags": []
   },
   "outputs": [],
   "source": [
    "def calculate_loss(model, data, target):\n",
    "        # Standard Learning Loss ( Classification Loss)\n",
    "        output = model(data)\n",
    "        loss = F.cross_entropy(output, target)\n",
    "        loss.backward()\n",
    "        optimizer_teacher.step()\n",
    "        return output, loss"
   ]
  },
  {
   "cell_type": "code",
   "execution_count": 29,
   "id": "713f00c6",
   "metadata": {
    "execution": {
     "iopub.execute_input": "2022-05-23T17:34:41.060257Z",
     "iopub.status.busy": "2022-05-23T17:34:41.059856Z",
     "iopub.status.idle": "2022-05-23T17:34:41.066340Z",
     "shell.execute_reply": "2022-05-23T17:34:41.064861Z"
    },
    "papermill": {
     "duration": 0.052112,
     "end_time": "2022-05-23T17:34:41.069094",
     "exception": false,
     "start_time": "2022-05-23T17:34:41.016982",
     "status": "completed"
    },
    "tags": []
   },
   "outputs": [],
   "source": [
    " def save(model, epoch, name):\n",
    "        torch.save({\"model_state_dict\": model.state_dict(), }, name)"
   ]
  },
  {
   "cell_type": "code",
   "execution_count": 30,
   "id": "67a1f85b",
   "metadata": {
    "execution": {
     "iopub.execute_input": "2022-05-23T17:34:41.151931Z",
     "iopub.status.busy": "2022-05-23T17:34:41.151618Z",
     "iopub.status.idle": "2022-05-23T17:34:52.386651Z",
     "shell.execute_reply": "2022-05-23T17:34:52.385631Z"
    },
    "papermill": {
     "duration": 11.279011,
     "end_time": "2022-05-23T17:34:52.389201",
     "exception": false,
     "start_time": "2022-05-23T17:34:41.110190",
     "status": "completed"
    },
    "tags": []
   },
   "outputs": [
    {
     "name": "stdout",
     "output_type": "stream",
     "text": [
      "Loading CIFAR10...\n",
      "Downloading https://www.cs.toronto.edu/~kriz/cifar-10-python.tar.gz to ./data/cifar-10-python.tar.gz\n"
     ]
    },
    {
     "data": {
      "application/vnd.jupyter.widget-view+json": {
       "model_id": "b76f7d0f8d2e4921af234c0c05b5adc2",
       "version_major": 2,
       "version_minor": 0
      },
      "text/plain": [
       "  0%|          | 0/170498071 [00:00<?, ?it/s]"
      ]
     },
     "metadata": {},
     "output_type": "display_data"
    },
    {
     "name": "stdout",
     "output_type": "stream",
     "text": [
      "Extracting ./data/cifar-10-python.tar.gz to ./data\n",
      "Files already downloaded and verified\n"
     ]
    }
   ],
   "source": [
    "train_loader,test_loader=get_cifar(num_classes=10, dataset_dir=\"./data\", batch_size=128,\n",
    "              use_cifar_10_1=False)"
   ]
  },
  {
   "cell_type": "code",
   "execution_count": 31,
   "id": "673f8c3b",
   "metadata": {
    "execution": {
     "iopub.execute_input": "2022-05-23T17:34:52.478511Z",
     "iopub.status.busy": "2022-05-23T17:34:52.477811Z",
     "iopub.status.idle": "2022-05-23T17:34:52.482484Z",
     "shell.execute_reply": "2022-05-23T17:34:52.481545Z"
    },
    "papermill": {
     "duration": 0.051577,
     "end_time": "2022-05-23T17:34:52.484756",
     "exception": false,
     "start_time": "2022-05-23T17:34:52.433179",
     "status": "completed"
    },
    "tags": []
   },
   "outputs": [],
   "source": [
    "criterion = nn.CrossEntropyLoss()"
   ]
  },
  {
   "cell_type": "code",
   "execution_count": 32,
   "id": "93c83bfe",
   "metadata": {
    "execution": {
     "iopub.execute_input": "2022-05-23T17:34:52.572817Z",
     "iopub.status.busy": "2022-05-23T17:34:52.572045Z",
     "iopub.status.idle": "2022-05-23T19:45:09.210108Z",
     "shell.execute_reply": "2022-05-23T19:45:09.209032Z"
    },
    "papermill": {
     "duration": 7816.685093,
     "end_time": "2022-05-23T19:45:09.212938",
     "exception": false,
     "start_time": "2022-05-23T17:34:52.527845",
     "status": "completed"
    },
    "tags": []
   },
   "outputs": [
    {
     "name": "stderr",
     "output_type": "stream",
     "text": [
      "100%|██████████| 391/391 [00:40<00:00,  9.59it/s]\n",
      "100%|██████████| 79/79 [00:03<00:00, 24.80it/s]\n"
     ]
    },
    {
     "name": "stdout",
     "output_type": "stream",
     "text": [
      "Adjusting learning rate of group 0 to 1.0000e-01.\n",
      "Epoch 1\n",
      "Accuracy: 0.4834 | Train loss: 6.0680620237731935 | Valid loss: 1.8559828826904297\n",
      "YES\n"
     ]
    },
    {
     "name": "stderr",
     "output_type": "stream",
     "text": [
      "100%|██████████| 391/391 [00:34<00:00, 11.35it/s]\n",
      "100%|██████████| 79/79 [00:03<00:00, 25.27it/s]"
     ]
    },
    {
     "name": "stdout",
     "output_type": "stream",
     "text": [
      "Adjusting learning rate of group 0 to 1.0000e-01.\n",
      "Epoch 2\n",
      "Accuracy: 0.618 | Train loss: 4.421740653686523 | Valid loss: 1.3260414360046386\n",
      "YES\n"
     ]
    },
    {
     "name": "stderr",
     "output_type": "stream",
     "text": [
      "\n",
      "100%|██████████| 391/391 [00:34<00:00, 11.40it/s]\n",
      "100%|██████████| 79/79 [00:03<00:00, 21.68it/s]"
     ]
    },
    {
     "name": "stdout",
     "output_type": "stream",
     "text": [
      "Adjusting learning rate of group 0 to 1.0000e-01.\n",
      "Epoch 3\n",
      "Accuracy: 0.6925 | Train loss: 3.5251644717407227 | Valid loss: 1.0786912509918214\n",
      "YES\n"
     ]
    },
    {
     "name": "stderr",
     "output_type": "stream",
     "text": [
      "\n",
      "100%|██████████| 391/391 [00:34<00:00, 11.17it/s]\n",
      "100%|██████████| 79/79 [00:03<00:00, 22.86it/s]"
     ]
    },
    {
     "name": "stdout",
     "output_type": "stream",
     "text": [
      "Adjusting learning rate of group 0 to 1.0000e-01.\n",
      "Epoch 4\n",
      "Accuracy: 0.7473 | Train loss: 2.9863833493041994 | Valid loss: 0.9095211145401001\n",
      "YES\n"
     ]
    },
    {
     "name": "stderr",
     "output_type": "stream",
     "text": [
      "\n",
      "100%|██████████| 391/391 [00:34<00:00, 11.27it/s]\n",
      "100%|██████████| 79/79 [00:03<00:00, 22.88it/s]"
     ]
    },
    {
     "name": "stdout",
     "output_type": "stream",
     "text": [
      "Adjusting learning rate of group 0 to 1.0000e-01.\n",
      "Epoch 5\n",
      "Accuracy: 0.7374 | Train loss: 2.616706748428345 | Valid loss: 0.9685753994941712\n"
     ]
    },
    {
     "name": "stderr",
     "output_type": "stream",
     "text": [
      "\n",
      "100%|██████████| 391/391 [00:34<00:00, 11.23it/s]\n",
      "100%|██████████| 79/79 [00:03<00:00, 24.38it/s]"
     ]
    },
    {
     "name": "stdout",
     "output_type": "stream",
     "text": [
      "Adjusting learning rate of group 0 to 1.0000e-01.\n",
      "Epoch 6\n",
      "Accuracy: 0.7403 | Train loss: 2.397597225036621 | Valid loss: 1.0848851614952086\n"
     ]
    },
    {
     "name": "stderr",
     "output_type": "stream",
     "text": [
      "\n",
      "100%|██████████| 391/391 [00:34<00:00, 11.28it/s]\n",
      "100%|██████████| 79/79 [00:03<00:00, 24.68it/s]"
     ]
    },
    {
     "name": "stdout",
     "output_type": "stream",
     "text": [
      "Adjusting learning rate of group 0 to 1.0000e-01.\n",
      "Epoch 7\n",
      "Accuracy: 0.7803 | Train loss: 2.245342003555298 | Valid loss: 0.864412455368042\n",
      "YES\n"
     ]
    },
    {
     "name": "stderr",
     "output_type": "stream",
     "text": [
      "\n",
      "100%|██████████| 391/391 [00:34<00:00, 11.32it/s]\n",
      "100%|██████████| 79/79 [00:03<00:00, 22.21it/s]"
     ]
    },
    {
     "name": "stdout",
     "output_type": "stream",
     "text": [
      "Adjusting learning rate of group 0 to 1.0000e-01.\n",
      "Epoch 8\n",
      "Accuracy: 0.7845 | Train loss: 2.137675756072998 | Valid loss: 0.8717600147247314\n",
      "YES\n"
     ]
    },
    {
     "name": "stderr",
     "output_type": "stream",
     "text": [
      "\n",
      "100%|██████████| 391/391 [00:34<00:00, 11.23it/s]\n",
      "100%|██████████| 79/79 [00:04<00:00, 19.30it/s]"
     ]
    },
    {
     "name": "stdout",
     "output_type": "stream",
     "text": [
      "Adjusting learning rate of group 0 to 1.0000e-01.\n",
      "Epoch 9\n",
      "Accuracy: 0.7804 | Train loss: 2.0340521461486816 | Valid loss: 0.8829697156906128\n"
     ]
    },
    {
     "name": "stderr",
     "output_type": "stream",
     "text": [
      "\n",
      "100%|██████████| 391/391 [00:35<00:00, 10.89it/s]\n",
      "100%|██████████| 79/79 [00:04<00:00, 18.16it/s]"
     ]
    },
    {
     "name": "stdout",
     "output_type": "stream",
     "text": [
      "Adjusting learning rate of group 0 to 1.0000e-01.\n",
      "Epoch 10\n",
      "Accuracy: 0.7971 | Train loss: 1.9776791635894775 | Valid loss: 0.7771355924606324\n",
      "YES\n"
     ]
    },
    {
     "name": "stderr",
     "output_type": "stream",
     "text": [
      "\n",
      "100%|██████████| 391/391 [00:35<00:00, 11.06it/s]\n",
      "100%|██████████| 79/79 [00:03<00:00, 21.94it/s]"
     ]
    },
    {
     "name": "stdout",
     "output_type": "stream",
     "text": [
      "Adjusting learning rate of group 0 to 1.0000e-01.\n",
      "Epoch 11\n",
      "Accuracy: 0.7859 | Train loss: 1.930433922805786 | Valid loss: 0.8576076077461243\n"
     ]
    },
    {
     "name": "stderr",
     "output_type": "stream",
     "text": [
      "\n",
      "100%|██████████| 391/391 [00:35<00:00, 11.09it/s]\n",
      "100%|██████████| 79/79 [00:03<00:00, 23.47it/s]"
     ]
    },
    {
     "name": "stdout",
     "output_type": "stream",
     "text": [
      "Adjusting learning rate of group 0 to 1.0000e-01.\n",
      "Epoch 12\n",
      "Accuracy: 0.7928 | Train loss: 1.8875936553955077 | Valid loss: 0.8391471921920777\n"
     ]
    },
    {
     "name": "stderr",
     "output_type": "stream",
     "text": [
      "\n",
      "100%|██████████| 391/391 [00:35<00:00, 10.89it/s]\n",
      "100%|██████████| 79/79 [00:03<00:00, 20.94it/s]\n"
     ]
    },
    {
     "name": "stdout",
     "output_type": "stream",
     "text": [
      "Adjusting learning rate of group 0 to 1.0000e-01.\n",
      "Epoch 13\n",
      "Accuracy: 0.7986 | Train loss: 1.826411861152649 | Valid loss: 0.8291585610389709\n",
      "YES\n"
     ]
    },
    {
     "name": "stderr",
     "output_type": "stream",
     "text": [
      "100%|██████████| 391/391 [00:35<00:00, 10.89it/s]\n",
      "100%|██████████| 79/79 [00:03<00:00, 23.42it/s]"
     ]
    },
    {
     "name": "stdout",
     "output_type": "stream",
     "text": [
      "Adjusting learning rate of group 0 to 1.0000e-01.\n",
      "Epoch 14\n",
      "Accuracy: 0.773 | Train loss: 1.7984142112731933 | Valid loss: 0.972421668434143\n"
     ]
    },
    {
     "name": "stderr",
     "output_type": "stream",
     "text": [
      "\n",
      "100%|██████████| 391/391 [00:35<00:00, 11.01it/s]\n",
      "100%|██████████| 79/79 [00:03<00:00, 23.19it/s]"
     ]
    },
    {
     "name": "stdout",
     "output_type": "stream",
     "text": [
      "Adjusting learning rate of group 0 to 1.0000e-01.\n",
      "Epoch 15\n",
      "Accuracy: 0.7941 | Train loss: 1.7602069706344605 | Valid loss: 0.8725285497665405\n"
     ]
    },
    {
     "name": "stderr",
     "output_type": "stream",
     "text": [
      "\n",
      "100%|██████████| 391/391 [00:35<00:00, 11.07it/s]\n",
      "100%|██████████| 79/79 [00:04<00:00, 17.22it/s]"
     ]
    },
    {
     "name": "stdout",
     "output_type": "stream",
     "text": [
      "Adjusting learning rate of group 0 to 1.0000e-01.\n",
      "Epoch 16\n",
      "Accuracy: 0.8001 | Train loss: 1.7538905289840698 | Valid loss: 0.8050944854736328\n",
      "YES\n"
     ]
    },
    {
     "name": "stderr",
     "output_type": "stream",
     "text": [
      "\n",
      "100%|██████████| 391/391 [00:35<00:00, 10.87it/s]\n",
      "100%|██████████| 79/79 [00:03<00:00, 22.84it/s]"
     ]
    },
    {
     "name": "stdout",
     "output_type": "stream",
     "text": [
      "Adjusting learning rate of group 0 to 1.0000e-01.\n",
      "Epoch 17\n",
      "Accuracy: 0.8345 | Train loss: 1.7220897900009156 | Valid loss: 0.6305189762115478\n",
      "YES\n"
     ]
    },
    {
     "name": "stderr",
     "output_type": "stream",
     "text": [
      "\n",
      "100%|██████████| 391/391 [00:34<00:00, 11.41it/s]\n",
      "100%|██████████| 79/79 [00:04<00:00, 19.35it/s]"
     ]
    },
    {
     "name": "stdout",
     "output_type": "stream",
     "text": [
      "Adjusting learning rate of group 0 to 1.0000e-01.\n",
      "Epoch 18\n",
      "Accuracy: 0.813 | Train loss: 1.7092482363128663 | Valid loss: 0.75810716714859\n"
     ]
    },
    {
     "name": "stderr",
     "output_type": "stream",
     "text": [
      "\n",
      "100%|██████████| 391/391 [00:36<00:00, 10.85it/s]\n",
      "100%|██████████| 79/79 [00:03<00:00, 24.49it/s]"
     ]
    },
    {
     "name": "stdout",
     "output_type": "stream",
     "text": [
      "Adjusting learning rate of group 0 to 1.0000e-01.\n",
      "Epoch 19\n",
      "Accuracy: 0.8137 | Train loss: 1.675018653717041 | Valid loss: 0.7608640751838684\n"
     ]
    },
    {
     "name": "stderr",
     "output_type": "stream",
     "text": [
      "\n",
      "100%|██████████| 391/391 [00:36<00:00, 10.57it/s]\n",
      "100%|██████████| 79/79 [00:03<00:00, 24.51it/s]"
     ]
    },
    {
     "name": "stdout",
     "output_type": "stream",
     "text": [
      "Adjusting learning rate of group 0 to 1.0000e-01.\n",
      "Epoch 20\n",
      "Accuracy: 0.7886 | Train loss: 1.6686491609573364 | Valid loss: 0.8558456897735596\n"
     ]
    },
    {
     "name": "stderr",
     "output_type": "stream",
     "text": [
      "\n",
      "100%|██████████| 391/391 [00:33<00:00, 11.53it/s]\n",
      "100%|██████████| 79/79 [00:04<00:00, 19.68it/s]"
     ]
    },
    {
     "name": "stdout",
     "output_type": "stream",
     "text": [
      "Adjusting learning rate of group 0 to 1.0000e-01.\n",
      "Epoch 21\n",
      "Accuracy: 0.7664 | Train loss: 1.645394005279541 | Valid loss: 1.0026601537704467\n"
     ]
    },
    {
     "name": "stderr",
     "output_type": "stream",
     "text": [
      "\n",
      "100%|██████████| 391/391 [00:36<00:00, 10.58it/s]\n",
      "100%|██████████| 79/79 [00:03<00:00, 24.47it/s]"
     ]
    },
    {
     "name": "stdout",
     "output_type": "stream",
     "text": [
      "Adjusting learning rate of group 0 to 1.0000e-01.\n",
      "Epoch 22\n",
      "Accuracy: 0.8284 | Train loss: 1.654553323287964 | Valid loss: 0.7086695845603943\n"
     ]
    },
    {
     "name": "stderr",
     "output_type": "stream",
     "text": [
      "\n",
      "100%|██████████| 391/391 [00:34<00:00, 11.21it/s]\n",
      "100%|██████████| 79/79 [00:03<00:00, 22.63it/s]"
     ]
    },
    {
     "name": "stdout",
     "output_type": "stream",
     "text": [
      "Adjusting learning rate of group 0 to 1.0000e-01.\n",
      "Epoch 23\n",
      "Accuracy: 0.8224 | Train loss: 1.6150367836380004 | Valid loss: 0.7386015398025513\n"
     ]
    },
    {
     "name": "stderr",
     "output_type": "stream",
     "text": [
      "\n",
      "100%|██████████| 391/391 [00:36<00:00, 10.74it/s]\n",
      "100%|██████████| 79/79 [00:03<00:00, 24.60it/s]"
     ]
    },
    {
     "name": "stdout",
     "output_type": "stream",
     "text": [
      "Adjusting learning rate of group 0 to 1.0000e-01.\n",
      "Epoch 24\n",
      "Accuracy: 0.8389 | Train loss: 1.6202921860504151 | Valid loss: 0.6228412868499756\n",
      "YES\n"
     ]
    },
    {
     "name": "stderr",
     "output_type": "stream",
     "text": [
      "\n",
      "100%|██████████| 391/391 [00:34<00:00, 11.38it/s]\n",
      "100%|██████████| 79/79 [00:03<00:00, 22.23it/s]"
     ]
    },
    {
     "name": "stdout",
     "output_type": "stream",
     "text": [
      "Adjusting learning rate of group 0 to 1.0000e-01.\n",
      "Epoch 25\n",
      "Accuracy: 0.8313 | Train loss: 1.6041802279663087 | Valid loss: 0.6630909468650817\n"
     ]
    },
    {
     "name": "stderr",
     "output_type": "stream",
     "text": [
      "\n",
      "100%|██████████| 391/391 [00:36<00:00, 10.71it/s]\n",
      "100%|██████████| 79/79 [00:03<00:00, 22.10it/s]"
     ]
    },
    {
     "name": "stdout",
     "output_type": "stream",
     "text": [
      "Adjusting learning rate of group 0 to 1.0000e-01.\n",
      "Epoch 26\n",
      "Accuracy: 0.7506 | Train loss: 1.5979086755752563 | Valid loss: 1.2251624802589416\n"
     ]
    },
    {
     "name": "stderr",
     "output_type": "stream",
     "text": [
      "\n",
      "100%|██████████| 391/391 [00:33<00:00, 11.54it/s]\n",
      "100%|██████████| 79/79 [00:04<00:00, 16.71it/s]"
     ]
    },
    {
     "name": "stdout",
     "output_type": "stream",
     "text": [
      "Adjusting learning rate of group 0 to 1.0000e-01.\n",
      "Epoch 27\n",
      "Accuracy: 0.8171 | Train loss: 1.5707899099349976 | Valid loss: 0.783026754951477\n"
     ]
    },
    {
     "name": "stderr",
     "output_type": "stream",
     "text": [
      "\n",
      "100%|██████████| 391/391 [00:35<00:00, 11.05it/s]\n",
      "100%|██████████| 79/79 [00:03<00:00, 23.28it/s]"
     ]
    },
    {
     "name": "stdout",
     "output_type": "stream",
     "text": [
      "Adjusting learning rate of group 0 to 1.0000e-01.\n",
      "Epoch 28\n",
      "Accuracy: 0.8211 | Train loss: 1.5566498546600342 | Valid loss: 0.7141798590660096\n"
     ]
    },
    {
     "name": "stderr",
     "output_type": "stream",
     "text": [
      "\n",
      "100%|██████████| 391/391 [00:35<00:00, 10.95it/s]\n",
      "100%|██████████| 79/79 [00:04<00:00, 17.21it/s]"
     ]
    },
    {
     "name": "stdout",
     "output_type": "stream",
     "text": [
      "Adjusting learning rate of group 0 to 1.0000e-01.\n",
      "Epoch 29\n",
      "Accuracy: 0.8195 | Train loss: 1.5704580110549926 | Valid loss: 0.7380633942604065\n"
     ]
    },
    {
     "name": "stderr",
     "output_type": "stream",
     "text": [
      "\n",
      "100%|██████████| 391/391 [00:34<00:00, 11.33it/s]\n",
      "100%|██████████| 79/79 [00:03<00:00, 23.10it/s]"
     ]
    },
    {
     "name": "stdout",
     "output_type": "stream",
     "text": [
      "Adjusting learning rate of group 0 to 1.0000e-01.\n",
      "Epoch 30\n",
      "Accuracy: 0.7863 | Train loss: 1.552940584716797 | Valid loss: 0.9670036221504211\n"
     ]
    },
    {
     "name": "stderr",
     "output_type": "stream",
     "text": [
      "\n",
      "100%|██████████| 391/391 [00:37<00:00, 10.50it/s]\n",
      "100%|██████████| 79/79 [00:04<00:00, 19.69it/s]"
     ]
    },
    {
     "name": "stdout",
     "output_type": "stream",
     "text": [
      "Adjusting learning rate of group 0 to 1.0000e-01.\n",
      "Epoch 31\n",
      "Accuracy: 0.8071 | Train loss: 1.5516723258972167 | Valid loss: 0.8209571599960327\n"
     ]
    },
    {
     "name": "stderr",
     "output_type": "stream",
     "text": [
      "\n",
      "100%|██████████| 391/391 [00:33<00:00, 11.59it/s]\n",
      "100%|██████████| 79/79 [00:03<00:00, 21.41it/s]"
     ]
    },
    {
     "name": "stdout",
     "output_type": "stream",
     "text": [
      "Adjusting learning rate of group 0 to 1.0000e-01.\n",
      "Epoch 32\n",
      "Accuracy: 0.815 | Train loss: 1.5485044537734984 | Valid loss: 0.7676167891025544\n"
     ]
    },
    {
     "name": "stderr",
     "output_type": "stream",
     "text": [
      "\n",
      "100%|██████████| 391/391 [00:37<00:00, 10.32it/s]\n",
      "100%|██████████| 79/79 [00:03<00:00, 24.46it/s]"
     ]
    },
    {
     "name": "stdout",
     "output_type": "stream",
     "text": [
      "Adjusting learning rate of group 0 to 1.0000e-01.\n",
      "Epoch 33\n",
      "Accuracy: 0.8387 | Train loss: 1.5475721881866455 | Valid loss: 0.6662679796218872\n"
     ]
    },
    {
     "name": "stderr",
     "output_type": "stream",
     "text": [
      "\n",
      "100%|██████████| 391/391 [00:33<00:00, 11.65it/s]\n",
      "100%|██████████| 79/79 [00:03<00:00, 22.42it/s]\n"
     ]
    },
    {
     "name": "stdout",
     "output_type": "stream",
     "text": [
      "Adjusting learning rate of group 0 to 1.0000e-01.\n",
      "Epoch 34\n",
      "Accuracy: 0.8328 | Train loss: 1.536700569229126 | Valid loss: 0.6719585720062256\n"
     ]
    },
    {
     "name": "stderr",
     "output_type": "stream",
     "text": [
      "100%|██████████| 391/391 [00:34<00:00, 11.35it/s]\n",
      "100%|██████████| 79/79 [00:03<00:00, 24.28it/s]"
     ]
    },
    {
     "name": "stdout",
     "output_type": "stream",
     "text": [
      "Adjusting learning rate of group 0 to 1.0000e-01.\n",
      "Epoch 35\n",
      "Accuracy: 0.833 | Train loss: 1.530026190109253 | Valid loss: 0.6764285117149353\n"
     ]
    },
    {
     "name": "stderr",
     "output_type": "stream",
     "text": [
      "\n",
      "100%|██████████| 391/391 [00:34<00:00, 11.44it/s]\n",
      "100%|██████████| 79/79 [00:04<00:00, 17.93it/s]"
     ]
    },
    {
     "name": "stdout",
     "output_type": "stream",
     "text": [
      "Adjusting learning rate of group 0 to 1.0000e-01.\n",
      "Epoch 36\n",
      "Accuracy: 0.8146 | Train loss: 1.5207777460098266 | Valid loss: 0.7513252853393555\n"
     ]
    },
    {
     "name": "stderr",
     "output_type": "stream",
     "text": [
      "\n",
      "100%|██████████| 391/391 [00:36<00:00, 10.58it/s]\n",
      "100%|██████████| 79/79 [00:04<00:00, 18.23it/s]"
     ]
    },
    {
     "name": "stdout",
     "output_type": "stream",
     "text": [
      "Adjusting learning rate of group 0 to 1.0000e-01.\n",
      "Epoch 37\n",
      "Accuracy: 0.8335 | Train loss: 1.513306707763672 | Valid loss: 0.6705650583267212\n"
     ]
    },
    {
     "name": "stderr",
     "output_type": "stream",
     "text": [
      "\n",
      "100%|██████████| 391/391 [00:33<00:00, 11.55it/s]\n",
      "100%|██████████| 79/79 [00:03<00:00, 24.38it/s]"
     ]
    },
    {
     "name": "stdout",
     "output_type": "stream",
     "text": [
      "Adjusting learning rate of group 0 to 1.0000e-01.\n",
      "Epoch 38\n",
      "Accuracy: 0.8309 | Train loss: 1.5361967358398438 | Valid loss: 0.7387189070701599\n"
     ]
    },
    {
     "name": "stderr",
     "output_type": "stream",
     "text": [
      "\n",
      "100%|██████████| 391/391 [00:34<00:00, 11.37it/s]\n",
      "100%|██████████| 79/79 [00:03<00:00, 24.33it/s]"
     ]
    },
    {
     "name": "stdout",
     "output_type": "stream",
     "text": [
      "Adjusting learning rate of group 0 to 1.0000e-01.\n",
      "Epoch 39\n",
      "Accuracy: 0.771 | Train loss: 1.5095775786590575 | Valid loss: 1.0683064146995545\n"
     ]
    },
    {
     "name": "stderr",
     "output_type": "stream",
     "text": [
      "\n",
      "100%|██████████| 391/391 [00:38<00:00, 10.17it/s]\n",
      "100%|██████████| 79/79 [00:03<00:00, 24.59it/s]"
     ]
    },
    {
     "name": "stdout",
     "output_type": "stream",
     "text": [
      "Adjusting learning rate of group 0 to 1.0000e-01.\n",
      "Epoch 40\n",
      "Accuracy: 0.796 | Train loss: 1.5044623094558716 | Valid loss: 0.9175789601325989\n"
     ]
    },
    {
     "name": "stderr",
     "output_type": "stream",
     "text": [
      "\n",
      "100%|██████████| 391/391 [00:33<00:00, 11.61it/s]\n",
      "100%|██████████| 79/79 [00:03<00:00, 22.25it/s]"
     ]
    },
    {
     "name": "stdout",
     "output_type": "stream",
     "text": [
      "Adjusting learning rate of group 0 to 1.0000e-01.\n",
      "Epoch 41\n",
      "Accuracy: 0.8077 | Train loss: 1.5170368143463135 | Valid loss: 0.7560154761314392\n"
     ]
    },
    {
     "name": "stderr",
     "output_type": "stream",
     "text": [
      "\n",
      "100%|██████████| 391/391 [00:33<00:00, 11.67it/s]\n",
      "100%|██████████| 79/79 [00:03<00:00, 21.25it/s]"
     ]
    },
    {
     "name": "stdout",
     "output_type": "stream",
     "text": [
      "Adjusting learning rate of group 0 to 1.0000e-01.\n",
      "Epoch 42\n",
      "Accuracy: 0.8236 | Train loss: 1.5057657006835938 | Valid loss: 0.7074376526832581\n"
     ]
    },
    {
     "name": "stderr",
     "output_type": "stream",
     "text": [
      "\n",
      "100%|██████████| 391/391 [00:33<00:00, 11.64it/s]\n",
      "100%|██████████| 79/79 [00:03<00:00, 24.83it/s]"
     ]
    },
    {
     "name": "stdout",
     "output_type": "stream",
     "text": [
      "Adjusting learning rate of group 0 to 1.0000e-01.\n",
      "Epoch 43\n",
      "Accuracy: 0.7651 | Train loss: 1.506234967803955 | Valid loss: 1.0557164313316345\n"
     ]
    },
    {
     "name": "stderr",
     "output_type": "stream",
     "text": [
      "\n",
      "100%|██████████| 391/391 [00:38<00:00, 10.19it/s]\n",
      "100%|██████████| 79/79 [00:03<00:00, 24.48it/s]"
     ]
    },
    {
     "name": "stdout",
     "output_type": "stream",
     "text": [
      "Adjusting learning rate of group 0 to 1.0000e-01.\n",
      "Epoch 44\n",
      "Accuracy: 0.7925 | Train loss: 1.490966626815796 | Valid loss: 0.9173130766868591\n"
     ]
    },
    {
     "name": "stderr",
     "output_type": "stream",
     "text": [
      "\n",
      "100%|██████████| 391/391 [00:33<00:00, 11.62it/s]\n",
      "100%|██████████| 79/79 [00:04<00:00, 18.12it/s]"
     ]
    },
    {
     "name": "stdout",
     "output_type": "stream",
     "text": [
      "Adjusting learning rate of group 0 to 1.0000e-01.\n",
      "Epoch 45\n",
      "Accuracy: 0.8201 | Train loss: 1.500975193710327 | Valid loss: 0.7881186166286468\n"
     ]
    },
    {
     "name": "stderr",
     "output_type": "stream",
     "text": [
      "\n",
      "100%|██████████| 391/391 [00:34<00:00, 11.50it/s]\n",
      "100%|██████████| 79/79 [00:03<00:00, 22.53it/s]"
     ]
    },
    {
     "name": "stdout",
     "output_type": "stream",
     "text": [
      "Adjusting learning rate of group 0 to 1.0000e-01.\n",
      "Epoch 46\n",
      "Accuracy: 0.8386 | Train loss: 1.4927625518417358 | Valid loss: 0.6613145757675171\n"
     ]
    },
    {
     "name": "stderr",
     "output_type": "stream",
     "text": [
      "\n",
      "100%|██████████| 391/391 [00:37<00:00, 10.56it/s]\n",
      "100%|██████████| 79/79 [00:04<00:00, 15.86it/s]\n"
     ]
    },
    {
     "name": "stdout",
     "output_type": "stream",
     "text": [
      "Adjusting learning rate of group 0 to 1.0000e-01.\n",
      "Epoch 47\n",
      "Accuracy: 0.8226 | Train loss: 1.5011912688446045 | Valid loss: 0.7515381911277771\n"
     ]
    },
    {
     "name": "stderr",
     "output_type": "stream",
     "text": [
      "100%|██████████| 391/391 [00:34<00:00, 11.41it/s]\n",
      "100%|██████████| 79/79 [00:03<00:00, 24.30it/s]"
     ]
    },
    {
     "name": "stdout",
     "output_type": "stream",
     "text": [
      "Adjusting learning rate of group 0 to 1.0000e-01.\n",
      "Epoch 48\n",
      "Accuracy: 0.8232 | Train loss: 1.49289337184906 | Valid loss: 0.7399001829147339\n"
     ]
    },
    {
     "name": "stderr",
     "output_type": "stream",
     "text": [
      "\n",
      "100%|██████████| 391/391 [00:34<00:00, 11.47it/s]\n",
      "100%|██████████| 79/79 [00:03<00:00, 21.37it/s]"
     ]
    },
    {
     "name": "stdout",
     "output_type": "stream",
     "text": [
      "Adjusting learning rate of group 0 to 1.0000e-01.\n",
      "Epoch 49\n",
      "Accuracy: 0.7894 | Train loss: 1.4831201539611816 | Valid loss: 1.0061967758178711\n"
     ]
    },
    {
     "name": "stderr",
     "output_type": "stream",
     "text": [
      "\n",
      "100%|██████████| 391/391 [00:33<00:00, 11.53it/s]\n",
      "100%|██████████| 79/79 [00:03<00:00, 24.44it/s]"
     ]
    },
    {
     "name": "stdout",
     "output_type": "stream",
     "text": [
      "Adjusting learning rate of group 0 to 1.0000e-01.\n",
      "Epoch 50\n",
      "Accuracy: 0.809 | Train loss: 1.4841702629852296 | Valid loss: 0.8381411518096924\n"
     ]
    },
    {
     "name": "stderr",
     "output_type": "stream",
     "text": [
      "\n",
      "100%|██████████| 391/391 [00:40<00:00,  9.76it/s]\n",
      "100%|██████████| 79/79 [00:03<00:00, 24.06it/s]\n"
     ]
    },
    {
     "name": "stdout",
     "output_type": "stream",
     "text": [
      "Adjusting learning rate of group 0 to 1.0000e-01.\n",
      "Epoch 51\n",
      "Accuracy: 0.8392 | Train loss: 1.485460069961548 | Valid loss: 0.6375224055767059\n",
      "YES\n"
     ]
    },
    {
     "name": "stderr",
     "output_type": "stream",
     "text": [
      "100%|██████████| 391/391 [00:34<00:00, 11.50it/s]\n",
      "100%|██████████| 79/79 [00:03<00:00, 22.55it/s]"
     ]
    },
    {
     "name": "stdout",
     "output_type": "stream",
     "text": [
      "Adjusting learning rate of group 0 to 1.0000e-01.\n",
      "Epoch 52\n",
      "Accuracy: 0.7671 | Train loss: 1.4893734533309937 | Valid loss: 1.0758880860328675\n"
     ]
    },
    {
     "name": "stderr",
     "output_type": "stream",
     "text": [
      "\n",
      "100%|██████████| 391/391 [00:34<00:00, 11.48it/s]\n",
      "100%|██████████| 79/79 [00:03<00:00, 24.63it/s]"
     ]
    },
    {
     "name": "stdout",
     "output_type": "stream",
     "text": [
      "Adjusting learning rate of group 0 to 1.0000e-01.\n",
      "Epoch 53\n",
      "Accuracy: 0.817 | Train loss: 1.4677501531982422 | Valid loss: 0.8112660380363464\n"
     ]
    },
    {
     "name": "stderr",
     "output_type": "stream",
     "text": [
      "\n",
      "100%|██████████| 391/391 [00:33<00:00, 11.51it/s]\n",
      "100%|██████████| 79/79 [00:04<00:00, 15.81it/s]"
     ]
    },
    {
     "name": "stdout",
     "output_type": "stream",
     "text": [
      "Adjusting learning rate of group 0 to 1.0000e-01.\n",
      "Epoch 54\n",
      "Accuracy: 0.8288 | Train loss: 1.486396813583374 | Valid loss: 0.7113731054306031\n"
     ]
    },
    {
     "name": "stderr",
     "output_type": "stream",
     "text": [
      "\n",
      "100%|██████████| 391/391 [00:37<00:00, 10.32it/s]\n",
      "100%|██████████| 79/79 [00:04<00:00, 18.97it/s]\n"
     ]
    },
    {
     "name": "stdout",
     "output_type": "stream",
     "text": [
      "Adjusting learning rate of group 0 to 1.0000e-01.\n",
      "Epoch 55\n",
      "Accuracy: 0.7899 | Train loss: 1.4629900857543945 | Valid loss: 0.9256727378845215\n"
     ]
    },
    {
     "name": "stderr",
     "output_type": "stream",
     "text": [
      "100%|██████████| 391/391 [00:34<00:00, 11.39it/s]\n",
      "100%|██████████| 79/79 [00:03<00:00, 22.66it/s]"
     ]
    },
    {
     "name": "stdout",
     "output_type": "stream",
     "text": [
      "Adjusting learning rate of group 0 to 1.0000e-01.\n",
      "Epoch 56\n",
      "Accuracy: 0.8186 | Train loss: 1.4616959429550171 | Valid loss: 0.7425760622024536\n"
     ]
    },
    {
     "name": "stderr",
     "output_type": "stream",
     "text": [
      "\n",
      "100%|██████████| 391/391 [00:33<00:00, 11.63it/s]\n",
      "100%|██████████| 79/79 [00:03<00:00, 25.08it/s]\n"
     ]
    },
    {
     "name": "stdout",
     "output_type": "stream",
     "text": [
      "Adjusting learning rate of group 0 to 1.0000e-01.\n",
      "Epoch 57\n",
      "Accuracy: 0.8288 | Train loss: 1.4718684257125854 | Valid loss: 0.721045396232605\n"
     ]
    },
    {
     "name": "stderr",
     "output_type": "stream",
     "text": [
      "100%|██████████| 391/391 [00:38<00:00, 10.23it/s]\n",
      "100%|██████████| 79/79 [00:04<00:00, 16.75it/s]"
     ]
    },
    {
     "name": "stdout",
     "output_type": "stream",
     "text": [
      "Adjusting learning rate of group 0 to 1.0000e-01.\n",
      "Epoch 58\n",
      "Accuracy: 0.8084 | Train loss: 1.4683775389862062 | Valid loss: 0.7730891680717469\n"
     ]
    },
    {
     "name": "stderr",
     "output_type": "stream",
     "text": [
      "\n",
      "100%|██████████| 391/391 [00:33<00:00, 11.55it/s]\n",
      "100%|██████████| 79/79 [00:03<00:00, 24.49it/s]"
     ]
    },
    {
     "name": "stdout",
     "output_type": "stream",
     "text": [
      "Adjusting learning rate of group 0 to 1.0000e-01.\n",
      "Epoch 59\n",
      "Accuracy: 0.8233 | Train loss: 1.4704750568389893 | Valid loss: 0.7288425892829895\n"
     ]
    },
    {
     "name": "stderr",
     "output_type": "stream",
     "text": [
      "\n",
      "100%|██████████| 391/391 [00:33<00:00, 11.53it/s]\n",
      "100%|██████████| 79/79 [00:03<00:00, 24.04it/s]"
     ]
    },
    {
     "name": "stdout",
     "output_type": "stream",
     "text": [
      "Adjusting learning rate of group 0 to 1.0000e-01.\n",
      "Epoch 60\n",
      "Accuracy: 0.8329 | Train loss: 1.4768289295959474 | Valid loss: 0.7000473380088806\n"
     ]
    },
    {
     "name": "stderr",
     "output_type": "stream",
     "text": [
      "\n",
      "100%|██████████| 391/391 [00:33<00:00, 11.56it/s]\n",
      "100%|██████████| 79/79 [00:03<00:00, 24.61it/s]"
     ]
    },
    {
     "name": "stdout",
     "output_type": "stream",
     "text": [
      "Adjusting learning rate of group 0 to 1.0000e-01.\n",
      "Epoch 61\n",
      "Accuracy: 0.8183 | Train loss: 1.47717142578125 | Valid loss: 0.7964387778997422\n"
     ]
    },
    {
     "name": "stderr",
     "output_type": "stream",
     "text": [
      "\n",
      "100%|██████████| 391/391 [00:40<00:00,  9.57it/s]\n",
      "100%|██████████| 79/79 [00:03<00:00, 24.10it/s]\n"
     ]
    },
    {
     "name": "stdout",
     "output_type": "stream",
     "text": [
      "Adjusting learning rate of group 0 to 1.0000e-01.\n",
      "Epoch 62\n",
      "Accuracy: 0.8363 | Train loss: 1.4541972734832764 | Valid loss: 0.6564207605361938\n"
     ]
    },
    {
     "name": "stderr",
     "output_type": "stream",
     "text": [
      "100%|██████████| 391/391 [00:33<00:00, 11.65it/s]\n",
      "100%|██████████| 79/79 [00:04<00:00, 18.89it/s]"
     ]
    },
    {
     "name": "stdout",
     "output_type": "stream",
     "text": [
      "Adjusting learning rate of group 0 to 1.0000e-01.\n",
      "Epoch 63\n",
      "Accuracy: 0.8251 | Train loss: 1.4600476205825805 | Valid loss: 0.7506424706935882\n"
     ]
    },
    {
     "name": "stderr",
     "output_type": "stream",
     "text": [
      "\n",
      "100%|██████████| 391/391 [00:33<00:00, 11.66it/s]\n",
      "100%|██████████| 79/79 [00:03<00:00, 24.33it/s]\n"
     ]
    },
    {
     "name": "stdout",
     "output_type": "stream",
     "text": [
      "Adjusting learning rate of group 0 to 1.0000e-01.\n",
      "Epoch 64\n",
      "Accuracy: 0.7941 | Train loss: 1.453534398727417 | Valid loss: 0.9149568721771241\n"
     ]
    },
    {
     "name": "stderr",
     "output_type": "stream",
     "text": [
      "100%|██████████| 391/391 [00:34<00:00, 11.47it/s]\n",
      "100%|██████████| 79/79 [00:03<00:00, 24.18it/s]"
     ]
    },
    {
     "name": "stdout",
     "output_type": "stream",
     "text": [
      "Adjusting learning rate of group 0 to 1.0000e-01.\n",
      "Epoch 65\n",
      "Accuracy: 0.8298 | Train loss: 1.4628129441833495 | Valid loss: 0.6845538856506348\n"
     ]
    },
    {
     "name": "stderr",
     "output_type": "stream",
     "text": [
      "\n",
      "100%|██████████| 391/391 [00:40<00:00,  9.61it/s]\n",
      "100%|██████████| 79/79 [00:03<00:00, 22.89it/s]"
     ]
    },
    {
     "name": "stdout",
     "output_type": "stream",
     "text": [
      "Adjusting learning rate of group 0 to 1.0000e-02.\n",
      "Epoch 66\n",
      "Accuracy: 0.8164 | Train loss: 1.4585285511016846 | Valid loss: 0.8328799399375916\n"
     ]
    },
    {
     "name": "stderr",
     "output_type": "stream",
     "text": [
      "\n",
      "100%|██████████| 391/391 [00:34<00:00, 11.41it/s]\n",
      "100%|██████████| 79/79 [00:03<00:00, 24.46it/s]\n"
     ]
    },
    {
     "name": "stdout",
     "output_type": "stream",
     "text": [
      "Adjusting learning rate of group 0 to 1.0000e-02.\n",
      "Epoch 67\n",
      "Accuracy: 0.906 | Train loss: 0.9759113849639892 | Valid loss: 0.37556705322265627\n",
      "YES\n"
     ]
    },
    {
     "name": "stderr",
     "output_type": "stream",
     "text": [
      "100%|██████████| 391/391 [00:33<00:00, 11.67it/s]\n",
      "100%|██████████| 79/79 [00:03<00:00, 25.08it/s]"
     ]
    },
    {
     "name": "stdout",
     "output_type": "stream",
     "text": [
      "Adjusting learning rate of group 0 to 1.0000e-02.\n",
      "Epoch 68\n",
      "Accuracy: 0.9114 | Train loss: 0.8147821802520752 | Valid loss: 0.36290670232772826\n",
      "YES\n"
     ]
    },
    {
     "name": "stderr",
     "output_type": "stream",
     "text": [
      "\n",
      "100%|██████████| 391/391 [00:35<00:00, 11.13it/s]\n",
      "100%|██████████| 79/79 [00:04<00:00, 16.62it/s]"
     ]
    },
    {
     "name": "stdout",
     "output_type": "stream",
     "text": [
      "Adjusting learning rate of group 0 to 1.0000e-02.\n",
      "Epoch 69\n",
      "Accuracy: 0.9121 | Train loss: 0.7706343342208862 | Valid loss: 0.35567050256729127\n",
      "YES\n"
     ]
    },
    {
     "name": "stderr",
     "output_type": "stream",
     "text": [
      "\n",
      "100%|██████████| 391/391 [00:39<00:00,  9.94it/s]\n",
      "100%|██████████| 79/79 [00:03<00:00, 24.83it/s]"
     ]
    },
    {
     "name": "stdout",
     "output_type": "stream",
     "text": [
      "Adjusting learning rate of group 0 to 1.0000e-02.\n",
      "Epoch 70\n",
      "Accuracy: 0.913 | Train loss: 0.7357067172241211 | Valid loss: 0.3492842935562134\n",
      "YES\n"
     ]
    },
    {
     "name": "stderr",
     "output_type": "stream",
     "text": [
      "\n",
      "100%|██████████| 391/391 [00:33<00:00, 11.68it/s]\n",
      "100%|██████████| 79/79 [00:03<00:00, 25.03it/s]"
     ]
    },
    {
     "name": "stdout",
     "output_type": "stream",
     "text": [
      "Adjusting learning rate of group 0 to 1.0000e-02.\n",
      "Epoch 71\n",
      "Accuracy: 0.9137 | Train loss: 0.7189598069572448 | Valid loss: 0.34450633878707887\n",
      "YES\n"
     ]
    },
    {
     "name": "stderr",
     "output_type": "stream",
     "text": [
      "\n",
      "100%|██████████| 391/391 [00:33<00:00, 11.59it/s]\n",
      "100%|██████████| 79/79 [00:03<00:00, 20.44it/s]"
     ]
    },
    {
     "name": "stdout",
     "output_type": "stream",
     "text": [
      "Adjusting learning rate of group 0 to 1.0000e-02.\n",
      "Epoch 72\n",
      "Accuracy: 0.9149 | Train loss: 0.6973585005569458 | Valid loss: 0.3574694416999817\n",
      "YES\n"
     ]
    },
    {
     "name": "stderr",
     "output_type": "stream",
     "text": [
      "\n",
      "100%|██████████| 391/391 [00:36<00:00, 10.68it/s]\n",
      "100%|██████████| 79/79 [00:04<00:00, 17.21it/s]\n"
     ]
    },
    {
     "name": "stdout",
     "output_type": "stream",
     "text": [
      "Adjusting learning rate of group 0 to 1.0000e-02.\n",
      "Epoch 73\n",
      "Accuracy: 0.9169 | Train loss: 0.6764501787948608 | Valid loss: 0.34461981854438783\n",
      "YES\n"
     ]
    },
    {
     "name": "stderr",
     "output_type": "stream",
     "text": [
      "100%|██████████| 391/391 [00:36<00:00, 10.74it/s]\n",
      "100%|██████████| 79/79 [00:03<00:00, 24.75it/s]"
     ]
    },
    {
     "name": "stdout",
     "output_type": "stream",
     "text": [
      "Adjusting learning rate of group 0 to 1.0000e-02.\n",
      "Epoch 74\n",
      "Accuracy: 0.9177 | Train loss: 0.6601614823913574 | Valid loss: 0.3545379502773285\n",
      "YES\n"
     ]
    },
    {
     "name": "stderr",
     "output_type": "stream",
     "text": [
      "\n",
      "100%|██████████| 391/391 [00:33<00:00, 11.79it/s]\n",
      "100%|██████████| 79/79 [00:03<00:00, 24.57it/s]"
     ]
    },
    {
     "name": "stdout",
     "output_type": "stream",
     "text": [
      "Adjusting learning rate of group 0 to 1.0000e-02.\n",
      "Epoch 75\n",
      "Accuracy: 0.9169 | Train loss: 0.6476432795810699 | Valid loss: 0.3488758499145508\n"
     ]
    },
    {
     "name": "stderr",
     "output_type": "stream",
     "text": [
      "\n",
      "100%|██████████| 391/391 [00:33<00:00, 11.66it/s]\n",
      "100%|██████████| 79/79 [00:03<00:00, 22.21it/s]"
     ]
    },
    {
     "name": "stdout",
     "output_type": "stream",
     "text": [
      "Adjusting learning rate of group 0 to 1.0000e-02.\n",
      "Epoch 76\n",
      "Accuracy: 0.9173 | Train loss: 0.6358189624977112 | Valid loss: 0.3519696434497833\n"
     ]
    },
    {
     "name": "stderr",
     "output_type": "stream",
     "text": [
      "\n",
      "100%|██████████| 391/391 [00:33<00:00, 11.77it/s]\n",
      "100%|██████████| 79/79 [00:03<00:00, 24.56it/s]"
     ]
    },
    {
     "name": "stdout",
     "output_type": "stream",
     "text": [
      "Adjusting learning rate of group 0 to 1.0000e-02.\n",
      "Epoch 77\n",
      "Accuracy: 0.9154 | Train loss: 0.633663869228363 | Valid loss: 0.35769450407028197\n"
     ]
    },
    {
     "name": "stderr",
     "output_type": "stream",
     "text": [
      "\n",
      "100%|██████████| 391/391 [00:33<00:00, 11.70it/s]\n",
      "100%|██████████| 79/79 [00:03<00:00, 24.62it/s]"
     ]
    },
    {
     "name": "stdout",
     "output_type": "stream",
     "text": [
      "Adjusting learning rate of group 0 to 1.0000e-02.\n",
      "Epoch 78\n",
      "Accuracy: 0.9172 | Train loss: 0.6223564216995239 | Valid loss: 0.35806852293014524\n"
     ]
    },
    {
     "name": "stderr",
     "output_type": "stream",
     "text": [
      "\n",
      "100%|██████████| 391/391 [00:33<00:00, 11.63it/s]\n",
      "100%|██████████| 79/79 [00:03<00:00, 22.20it/s]"
     ]
    },
    {
     "name": "stdout",
     "output_type": "stream",
     "text": [
      "Adjusting learning rate of group 0 to 1.0000e-02.\n",
      "Epoch 79\n",
      "Accuracy: 0.9161 | Train loss: 0.6118100097846985 | Valid loss: 0.3562238612651825\n"
     ]
    },
    {
     "name": "stderr",
     "output_type": "stream",
     "text": [
      "\n",
      "100%|██████████| 391/391 [00:34<00:00, 11.42it/s]\n",
      "100%|██████████| 79/79 [00:04<00:00, 16.92it/s]"
     ]
    },
    {
     "name": "stdout",
     "output_type": "stream",
     "text": [
      "Adjusting learning rate of group 0 to 1.0000e-02.\n",
      "Epoch 80\n",
      "Accuracy: 0.9138 | Train loss: 0.6118995854949951 | Valid loss: 0.3610575843811035\n"
     ]
    },
    {
     "name": "stderr",
     "output_type": "stream",
     "text": [
      "\n",
      "100%|██████████| 391/391 [00:39<00:00,  9.93it/s]\n",
      "100%|██████████| 79/79 [00:03<00:00, 24.53it/s]"
     ]
    },
    {
     "name": "stdout",
     "output_type": "stream",
     "text": [
      "Adjusting learning rate of group 0 to 1.0000e-02.\n",
      "Epoch 81\n",
      "Accuracy: 0.9145 | Train loss: 0.5968702331352234 | Valid loss: 0.361551806306839\n"
     ]
    },
    {
     "name": "stderr",
     "output_type": "stream",
     "text": [
      "\n",
      "100%|██████████| 391/391 [00:33<00:00, 11.57it/s]\n",
      "100%|██████████| 79/79 [00:03<00:00, 22.03it/s]"
     ]
    },
    {
     "name": "stdout",
     "output_type": "stream",
     "text": [
      "Adjusting learning rate of group 0 to 1.0000e-02.\n",
      "Epoch 82\n",
      "Accuracy: 0.9163 | Train loss: 0.5948857726860046 | Valid loss: 0.3644990415096283\n"
     ]
    },
    {
     "name": "stderr",
     "output_type": "stream",
     "text": [
      "\n",
      "100%|██████████| 391/391 [00:33<00:00, 11.59it/s]\n",
      "100%|██████████| 79/79 [00:03<00:00, 24.32it/s]\n"
     ]
    },
    {
     "name": "stdout",
     "output_type": "stream",
     "text": [
      "Adjusting learning rate of group 0 to 1.0000e-02.\n",
      "Epoch 83\n",
      "Accuracy: 0.9137 | Train loss: 0.6011240916442872 | Valid loss: 0.3718390000343323\n"
     ]
    },
    {
     "name": "stderr",
     "output_type": "stream",
     "text": [
      "100%|██████████| 391/391 [00:33<00:00, 11.64it/s]\n",
      "100%|██████████| 79/79 [00:03<00:00, 24.05it/s]"
     ]
    },
    {
     "name": "stdout",
     "output_type": "stream",
     "text": [
      "Adjusting learning rate of group 0 to 1.0000e-02.\n",
      "Epoch 84\n",
      "Accuracy: 0.9132 | Train loss: 0.5958672159767151 | Valid loss: 0.37969548635482786\n"
     ]
    },
    {
     "name": "stderr",
     "output_type": "stream",
     "text": [
      "\n",
      "100%|██████████| 391/391 [00:34<00:00, 11.41it/s]\n",
      "100%|██████████| 79/79 [00:03<00:00, 24.30it/s]"
     ]
    },
    {
     "name": "stdout",
     "output_type": "stream",
     "text": [
      "Adjusting learning rate of group 0 to 1.0000e-02.\n",
      "Epoch 85\n",
      "Accuracy: 0.9163 | Train loss: 0.5990824493217468 | Valid loss: 0.3594734482765198\n"
     ]
    },
    {
     "name": "stderr",
     "output_type": "stream",
     "text": [
      "\n",
      "100%|██████████| 391/391 [00:33<00:00, 11.62it/s]\n",
      "100%|██████████| 79/79 [00:03<00:00, 19.95it/s]"
     ]
    },
    {
     "name": "stdout",
     "output_type": "stream",
     "text": [
      "Adjusting learning rate of group 0 to 1.0000e-02.\n",
      "Epoch 86\n",
      "Accuracy: 0.9125 | Train loss: 0.5927139099788665 | Valid loss: 0.39338529500961306\n"
     ]
    },
    {
     "name": "stderr",
     "output_type": "stream",
     "text": [
      "\n",
      "100%|██████████| 391/391 [00:34<00:00, 11.41it/s]\n",
      "100%|██████████| 79/79 [00:05<00:00, 15.67it/s]"
     ]
    },
    {
     "name": "stdout",
     "output_type": "stream",
     "text": [
      "Adjusting learning rate of group 0 to 1.0000e-02.\n",
      "Epoch 87\n",
      "Accuracy: 0.9151 | Train loss: 0.5869995415306092 | Valid loss: 0.3827118753910065\n"
     ]
    },
    {
     "name": "stderr",
     "output_type": "stream",
     "text": [
      "\n",
      "100%|██████████| 391/391 [00:41<00:00,  9.49it/s]\n",
      "100%|██████████| 79/79 [00:03<00:00, 24.39it/s]"
     ]
    },
    {
     "name": "stdout",
     "output_type": "stream",
     "text": [
      "Adjusting learning rate of group 0 to 1.0000e-02.\n",
      "Epoch 88\n",
      "Accuracy: 0.9162 | Train loss: 0.597877690229416 | Valid loss: 0.3649259454727173\n"
     ]
    },
    {
     "name": "stderr",
     "output_type": "stream",
     "text": [
      "\n",
      "100%|██████████| 391/391 [00:34<00:00, 11.30it/s]\n",
      "100%|██████████| 79/79 [00:03<00:00, 24.63it/s]"
     ]
    },
    {
     "name": "stdout",
     "output_type": "stream",
     "text": [
      "Adjusting learning rate of group 0 to 1.0000e-02.\n",
      "Epoch 89\n",
      "Accuracy: 0.9179 | Train loss: 0.5725365182113648 | Valid loss: 0.3711622465133667\n",
      "YES\n"
     ]
    },
    {
     "name": "stderr",
     "output_type": "stream",
     "text": [
      "\n",
      "100%|██████████| 391/391 [00:34<00:00, 11.42it/s]\n",
      "100%|██████████| 79/79 [00:03<00:00, 23.04it/s]"
     ]
    },
    {
     "name": "stdout",
     "output_type": "stream",
     "text": [
      "Adjusting learning rate of group 0 to 1.0000e-02.\n",
      "Epoch 90\n",
      "Accuracy: 0.9173 | Train loss: 0.5842245012950897 | Valid loss: 0.36850229988098143\n"
     ]
    },
    {
     "name": "stderr",
     "output_type": "stream",
     "text": [
      "\n",
      "100%|██████████| 391/391 [00:34<00:00, 11.25it/s]\n",
      "100%|██████████| 79/79 [00:03<00:00, 24.74it/s]"
     ]
    },
    {
     "name": "stdout",
     "output_type": "stream",
     "text": [
      "Adjusting learning rate of group 0 to 1.0000e-02.\n",
      "Epoch 91\n",
      "Accuracy: 0.9126 | Train loss: 0.5805128273773194 | Valid loss: 0.3789386202812195\n"
     ]
    },
    {
     "name": "stderr",
     "output_type": "stream",
     "text": [
      "\n",
      "100%|██████████| 391/391 [00:33<00:00, 11.56it/s]\n",
      "100%|██████████| 79/79 [00:03<00:00, 21.93it/s]"
     ]
    },
    {
     "name": "stdout",
     "output_type": "stream",
     "text": [
      "Adjusting learning rate of group 0 to 1.0000e-02.\n",
      "Epoch 92\n",
      "Accuracy: 0.9162 | Train loss: 0.5869549562835693 | Valid loss: 0.3607866636753082\n"
     ]
    },
    {
     "name": "stderr",
     "output_type": "stream",
     "text": [
      "\n",
      "100%|██████████| 391/391 [00:33<00:00, 11.71it/s]\n",
      "100%|██████████| 79/79 [00:03<00:00, 24.80it/s]"
     ]
    },
    {
     "name": "stdout",
     "output_type": "stream",
     "text": [
      "Adjusting learning rate of group 0 to 1.0000e-02.\n",
      "Epoch 93\n",
      "Accuracy: 0.9162 | Train loss: 0.5891439785385132 | Valid loss: 0.366998974943161\n"
     ]
    },
    {
     "name": "stderr",
     "output_type": "stream",
     "text": [
      "\n",
      "100%|██████████| 391/391 [00:34<00:00, 11.47it/s]\n",
      "100%|██████████| 79/79 [00:03<00:00, 24.47it/s]"
     ]
    },
    {
     "name": "stdout",
     "output_type": "stream",
     "text": [
      "Adjusting learning rate of group 0 to 1.0000e-02.\n",
      "Epoch 94\n",
      "Accuracy: 0.9111 | Train loss: 0.5863866506576538 | Valid loss: 0.406586515045166\n"
     ]
    },
    {
     "name": "stderr",
     "output_type": "stream",
     "text": [
      "\n",
      "100%|██████████| 391/391 [00:45<00:00,  8.66it/s]\n",
      "100%|██████████| 79/79 [00:03<00:00, 25.09it/s]"
     ]
    },
    {
     "name": "stdout",
     "output_type": "stream",
     "text": [
      "Adjusting learning rate of group 0 to 1.0000e-02.\n",
      "Epoch 95\n",
      "Accuracy: 0.9095 | Train loss: 0.589281224193573 | Valid loss: 0.39880988664627076\n"
     ]
    },
    {
     "name": "stderr",
     "output_type": "stream",
     "text": [
      "\n",
      "100%|██████████| 391/391 [00:33<00:00, 11.75it/s]\n",
      "100%|██████████| 79/79 [00:03<00:00, 24.18it/s]"
     ]
    },
    {
     "name": "stdout",
     "output_type": "stream",
     "text": [
      "Adjusting learning rate of group 0 to 1.0000e-02.\n",
      "Epoch 96\n",
      "Accuracy: 0.9166 | Train loss: 0.5803866481971741 | Valid loss: 0.3719761856079102\n"
     ]
    },
    {
     "name": "stderr",
     "output_type": "stream",
     "text": [
      "\n",
      "100%|██████████| 391/391 [00:33<00:00, 11.71it/s]\n",
      "100%|██████████| 79/79 [00:03<00:00, 22.24it/s]"
     ]
    },
    {
     "name": "stdout",
     "output_type": "stream",
     "text": [
      "Adjusting learning rate of group 0 to 1.0000e-02.\n",
      "Epoch 97\n",
      "Accuracy: 0.9152 | Train loss: 0.588620516910553 | Valid loss: 0.3724422486782074\n"
     ]
    },
    {
     "name": "stderr",
     "output_type": "stream",
     "text": [
      "\n",
      "100%|██████████| 391/391 [00:33<00:00, 11.76it/s]\n",
      "100%|██████████| 79/79 [00:03<00:00, 24.85it/s]"
     ]
    },
    {
     "name": "stdout",
     "output_type": "stream",
     "text": [
      "Adjusting learning rate of group 0 to 1.0000e-02.\n",
      "Epoch 98\n",
      "Accuracy: 0.9089 | Train loss: 0.5910874782752991 | Valid loss: 0.40323143367767333\n"
     ]
    },
    {
     "name": "stderr",
     "output_type": "stream",
     "text": [
      "\n",
      "100%|██████████| 391/391 [00:33<00:00, 11.53it/s]\n",
      "100%|██████████| 79/79 [00:03<00:00, 24.37it/s]\n"
     ]
    },
    {
     "name": "stdout",
     "output_type": "stream",
     "text": [
      "Adjusting learning rate of group 0 to 1.0000e-02.\n",
      "Epoch 99\n",
      "Accuracy: 0.9009 | Train loss: 0.5921946837997436 | Valid loss: 0.4703923719406128\n"
     ]
    },
    {
     "name": "stderr",
     "output_type": "stream",
     "text": [
      "100%|██████████| 391/391 [00:34<00:00, 11.37it/s]\n",
      "100%|██████████| 79/79 [00:03<00:00, 21.24it/s]"
     ]
    },
    {
     "name": "stdout",
     "output_type": "stream",
     "text": [
      "Adjusting learning rate of group 0 to 1.0000e-02.\n",
      "Epoch 100\n",
      "Accuracy: 0.9088 | Train loss: 0.5970148996543885 | Valid loss: 0.41132854471206665\n"
     ]
    },
    {
     "name": "stderr",
     "output_type": "stream",
     "text": [
      "\n",
      "100%|██████████| 391/391 [00:34<00:00, 11.38it/s]\n",
      "100%|██████████| 79/79 [00:03<00:00, 24.72it/s]"
     ]
    },
    {
     "name": "stdout",
     "output_type": "stream",
     "text": [
      "Adjusting learning rate of group 0 to 1.0000e-02.\n",
      "Epoch 101\n",
      "Accuracy: 0.9112 | Train loss: 0.5913483397102356 | Valid loss: 0.3878987536907196\n"
     ]
    },
    {
     "name": "stderr",
     "output_type": "stream",
     "text": [
      "\n",
      "100%|██████████| 391/391 [00:41<00:00,  9.31it/s]\n",
      "100%|██████████| 79/79 [00:04<00:00, 16.96it/s]"
     ]
    },
    {
     "name": "stdout",
     "output_type": "stream",
     "text": [
      "Adjusting learning rate of group 0 to 1.0000e-02.\n",
      "Epoch 102\n",
      "Accuracy: 0.903 | Train loss: 0.5959748370933533 | Valid loss: 0.4302804663658142\n"
     ]
    },
    {
     "name": "stderr",
     "output_type": "stream",
     "text": [
      "\n",
      "100%|██████████| 391/391 [00:37<00:00, 10.53it/s]\n",
      "100%|██████████| 79/79 [00:03<00:00, 24.76it/s]"
     ]
    },
    {
     "name": "stdout",
     "output_type": "stream",
     "text": [
      "Adjusting learning rate of group 0 to 1.0000e-02.\n",
      "Epoch 103\n",
      "Accuracy: 0.9126 | Train loss: 0.5984616786766053 | Valid loss: 0.3869655663013458\n"
     ]
    },
    {
     "name": "stderr",
     "output_type": "stream",
     "text": [
      "\n",
      "100%|██████████| 391/391 [00:34<00:00, 11.46it/s]\n",
      "100%|██████████| 79/79 [00:03<00:00, 21.44it/s]"
     ]
    },
    {
     "name": "stdout",
     "output_type": "stream",
     "text": [
      "Adjusting learning rate of group 0 to 1.0000e-02.\n",
      "Epoch 104\n",
      "Accuracy: 0.9122 | Train loss: 0.5899475020313263 | Valid loss: 0.39373335952758787\n"
     ]
    },
    {
     "name": "stderr",
     "output_type": "stream",
     "text": [
      "\n",
      "100%|██████████| 391/391 [00:33<00:00, 11.62it/s]\n",
      "100%|██████████| 79/79 [00:03<00:00, 22.13it/s]"
     ]
    },
    {
     "name": "stdout",
     "output_type": "stream",
     "text": [
      "Adjusting learning rate of group 0 to 1.0000e-02.\n",
      "Epoch 105\n",
      "Accuracy: 0.902 | Train loss: 0.5958609357643128 | Valid loss: 0.4353572376012802\n"
     ]
    },
    {
     "name": "stderr",
     "output_type": "stream",
     "text": [
      "\n",
      "100%|██████████| 391/391 [00:33<00:00, 11.71it/s]\n",
      "100%|██████████| 79/79 [00:03<00:00, 24.62it/s]"
     ]
    },
    {
     "name": "stdout",
     "output_type": "stream",
     "text": [
      "Adjusting learning rate of group 0 to 1.0000e-02.\n",
      "Epoch 106\n",
      "Accuracy: 0.9104 | Train loss: 0.5945777762985229 | Valid loss: 0.39509372463226317\n"
     ]
    },
    {
     "name": "stderr",
     "output_type": "stream",
     "text": [
      "\n",
      "100%|██████████| 391/391 [00:33<00:00, 11.50it/s]\n",
      "100%|██████████| 79/79 [00:03<00:00, 22.31it/s]"
     ]
    },
    {
     "name": "stdout",
     "output_type": "stream",
     "text": [
      "Adjusting learning rate of group 0 to 1.0000e-02.\n",
      "Epoch 107\n",
      "Accuracy: 0.9102 | Train loss: 0.6049810729598999 | Valid loss: 0.40371261565685274\n"
     ]
    },
    {
     "name": "stderr",
     "output_type": "stream",
     "text": [
      "\n",
      "100%|██████████| 391/391 [00:34<00:00, 11.50it/s]\n",
      "100%|██████████| 79/79 [00:03<00:00, 25.46it/s]"
     ]
    },
    {
     "name": "stdout",
     "output_type": "stream",
     "text": [
      "Adjusting learning rate of group 0 to 1.0000e-02.\n",
      "Epoch 108\n",
      "Accuracy: 0.9064 | Train loss: 0.6015485320472718 | Valid loss: 0.42090754809379577\n"
     ]
    },
    {
     "name": "stderr",
     "output_type": "stream",
     "text": [
      "\n",
      "100%|██████████| 391/391 [00:36<00:00, 10.73it/s]\n",
      "100%|██████████| 79/79 [00:04<00:00, 16.14it/s]"
     ]
    },
    {
     "name": "stdout",
     "output_type": "stream",
     "text": [
      "Adjusting learning rate of group 0 to 1.0000e-02.\n",
      "Epoch 109\n",
      "Accuracy: 0.9121 | Train loss: 0.6002523062992096 | Valid loss: 0.4009872646331787\n"
     ]
    },
    {
     "name": "stderr",
     "output_type": "stream",
     "text": [
      "\n",
      "100%|██████████| 391/391 [00:38<00:00, 10.03it/s]\n",
      "100%|██████████| 79/79 [00:04<00:00, 18.73it/s]"
     ]
    },
    {
     "name": "stdout",
     "output_type": "stream",
     "text": [
      "Adjusting learning rate of group 0 to 1.0000e-02.\n",
      "Epoch 110\n",
      "Accuracy: 0.9096 | Train loss: 0.5983696744537353 | Valid loss: 0.40573061380386355\n"
     ]
    },
    {
     "name": "stderr",
     "output_type": "stream",
     "text": [
      "\n",
      "100%|██████████| 391/391 [00:33<00:00, 11.85it/s]\n",
      "100%|██████████| 79/79 [00:03<00:00, 25.48it/s]"
     ]
    },
    {
     "name": "stdout",
     "output_type": "stream",
     "text": [
      "Adjusting learning rate of group 0 to 1.0000e-02.\n",
      "Epoch 111\n",
      "Accuracy: 0.9102 | Train loss: 0.5989253341865539 | Valid loss: 0.4029323440551758\n"
     ]
    },
    {
     "name": "stderr",
     "output_type": "stream",
     "text": [
      "\n",
      "100%|██████████| 391/391 [00:33<00:00, 11.74it/s]\n",
      "100%|██████████| 79/79 [00:03<00:00, 21.88it/s]"
     ]
    },
    {
     "name": "stdout",
     "output_type": "stream",
     "text": [
      "Adjusting learning rate of group 0 to 1.0000e-02.\n",
      "Epoch 112\n",
      "Accuracy: 0.9073 | Train loss: 0.6048439047908784 | Valid loss: 0.40911090030670166\n"
     ]
    },
    {
     "name": "stderr",
     "output_type": "stream",
     "text": [
      "\n",
      "100%|██████████| 391/391 [00:33<00:00, 11.66it/s]\n",
      "100%|██████████| 79/79 [00:03<00:00, 24.94it/s]"
     ]
    },
    {
     "name": "stdout",
     "output_type": "stream",
     "text": [
      "Adjusting learning rate of group 0 to 1.0000e-02.\n",
      "Epoch 113\n",
      "Accuracy: 0.9143 | Train loss: 0.6010168999481201 | Valid loss: 0.37185374636650087\n"
     ]
    },
    {
     "name": "stderr",
     "output_type": "stream",
     "text": [
      "\n",
      "100%|██████████| 391/391 [00:33<00:00, 11.68it/s]\n",
      "100%|██████████| 79/79 [00:03<00:00, 25.50it/s]"
     ]
    },
    {
     "name": "stdout",
     "output_type": "stream",
     "text": [
      "Adjusting learning rate of group 0 to 1.0000e-02.\n",
      "Epoch 114\n",
      "Accuracy: 0.9083 | Train loss: 0.5965677423477173 | Valid loss: 0.4044218377113342\n"
     ]
    },
    {
     "name": "stderr",
     "output_type": "stream",
     "text": [
      "\n",
      "100%|██████████| 391/391 [00:33<00:00, 11.76it/s]\n",
      "100%|██████████| 79/79 [00:03<00:00, 22.46it/s]"
     ]
    },
    {
     "name": "stdout",
     "output_type": "stream",
     "text": [
      "Adjusting learning rate of group 0 to 1.0000e-02.\n",
      "Epoch 115\n",
      "Accuracy: 0.9079 | Train loss: 0.5975712395763397 | Valid loss: 0.41653162724375725\n"
     ]
    },
    {
     "name": "stderr",
     "output_type": "stream",
     "text": [
      "\n",
      "100%|██████████| 391/391 [00:32<00:00, 11.97it/s]\n",
      "100%|██████████| 79/79 [00:03<00:00, 25.32it/s]"
     ]
    },
    {
     "name": "stdout",
     "output_type": "stream",
     "text": [
      "Adjusting learning rate of group 0 to 1.0000e-02.\n",
      "Epoch 116\n",
      "Accuracy: 0.9077 | Train loss: 0.5959124324989319 | Valid loss: 0.4123590121269226\n"
     ]
    },
    {
     "name": "stderr",
     "output_type": "stream",
     "text": [
      "\n",
      "100%|██████████| 391/391 [00:43<00:00,  8.96it/s]\n",
      "100%|██████████| 79/79 [00:04<00:00, 17.77it/s]"
     ]
    },
    {
     "name": "stdout",
     "output_type": "stream",
     "text": [
      "Adjusting learning rate of group 0 to 1.0000e-02.\n",
      "Epoch 117\n",
      "Accuracy: 0.9017 | Train loss: 0.6035911465454101 | Valid loss: 0.4439268168449402\n"
     ]
    },
    {
     "name": "stderr",
     "output_type": "stream",
     "text": [
      "\n",
      "100%|██████████| 391/391 [00:34<00:00, 11.42it/s]\n",
      "100%|██████████| 79/79 [00:03<00:00, 22.81it/s]"
     ]
    },
    {
     "name": "stdout",
     "output_type": "stream",
     "text": [
      "Adjusting learning rate of group 0 to 1.0000e-02.\n",
      "Epoch 118\n",
      "Accuracy: 0.9083 | Train loss: 0.6087015815734863 | Valid loss: 0.41886722166538237\n"
     ]
    },
    {
     "name": "stderr",
     "output_type": "stream",
     "text": [
      "\n",
      "100%|██████████| 391/391 [00:33<00:00, 11.84it/s]\n",
      "100%|██████████| 79/79 [00:03<00:00, 25.09it/s]"
     ]
    },
    {
     "name": "stdout",
     "output_type": "stream",
     "text": [
      "Adjusting learning rate of group 0 to 1.0000e-02.\n",
      "Epoch 119\n",
      "Accuracy: 0.9027 | Train loss: 0.595565984249115 | Valid loss: 0.4528974135398865\n"
     ]
    },
    {
     "name": "stderr",
     "output_type": "stream",
     "text": [
      "\n",
      "100%|██████████| 391/391 [00:33<00:00, 11.84it/s]\n",
      "100%|██████████| 79/79 [00:03<00:00, 25.39it/s]"
     ]
    },
    {
     "name": "stdout",
     "output_type": "stream",
     "text": [
      "Adjusting learning rate of group 0 to 1.0000e-02.\n",
      "Epoch 120\n",
      "Accuracy: 0.9043 | Train loss: 0.5948590893936158 | Valid loss: 0.42619939374923704\n"
     ]
    },
    {
     "name": "stderr",
     "output_type": "stream",
     "text": [
      "\n",
      "100%|██████████| 391/391 [00:32<00:00, 11.88it/s]\n",
      "100%|██████████| 79/79 [00:03<00:00, 22.38it/s]"
     ]
    },
    {
     "name": "stdout",
     "output_type": "stream",
     "text": [
      "Adjusting learning rate of group 0 to 1.0000e-02.\n",
      "Epoch 121\n",
      "Accuracy: 0.9028 | Train loss: 0.5990189911937713 | Valid loss: 0.4512252126455307\n"
     ]
    },
    {
     "name": "stderr",
     "output_type": "stream",
     "text": [
      "\n",
      "100%|██████████| 391/391 [00:33<00:00, 11.64it/s]\n",
      "100%|██████████| 79/79 [00:03<00:00, 22.10it/s]"
     ]
    },
    {
     "name": "stdout",
     "output_type": "stream",
     "text": [
      "Adjusting learning rate of group 0 to 1.0000e-02.\n",
      "Epoch 122\n",
      "Accuracy: 0.9103 | Train loss: 0.5915647350120544 | Valid loss: 0.39740849052667615\n"
     ]
    },
    {
     "name": "stderr",
     "output_type": "stream",
     "text": [
      "\n",
      "100%|██████████| 391/391 [00:33<00:00, 11.83it/s]\n",
      "100%|██████████| 79/79 [00:03<00:00, 24.99it/s]"
     ]
    },
    {
     "name": "stdout",
     "output_type": "stream",
     "text": [
      "Adjusting learning rate of group 0 to 1.0000e-02.\n",
      "Epoch 123\n",
      "Accuracy: 0.9012 | Train loss: 0.5993729944038391 | Valid loss: 0.4373713780999184\n"
     ]
    },
    {
     "name": "stderr",
     "output_type": "stream",
     "text": [
      "\n",
      "100%|██████████| 391/391 [00:37<00:00, 10.39it/s]\n",
      "100%|██████████| 79/79 [00:04<00:00, 16.03it/s]"
     ]
    },
    {
     "name": "stdout",
     "output_type": "stream",
     "text": [
      "Adjusting learning rate of group 0 to 1.0000e-02.\n",
      "Epoch 124\n",
      "Accuracy: 0.9003 | Train loss: 0.5951777054214478 | Valid loss: 0.45158005638122556\n"
     ]
    },
    {
     "name": "stderr",
     "output_type": "stream",
     "text": [
      "\n",
      "100%|██████████| 391/391 [00:40<00:00,  9.58it/s]\n",
      "100%|██████████| 79/79 [00:03<00:00, 25.72it/s]"
     ]
    },
    {
     "name": "stdout",
     "output_type": "stream",
     "text": [
      "Adjusting learning rate of group 0 to 1.0000e-02.\n",
      "Epoch 125\n",
      "Accuracy: 0.9029 | Train loss: 0.5963073554611206 | Valid loss: 0.42372951620817184\n"
     ]
    },
    {
     "name": "stderr",
     "output_type": "stream",
     "text": [
      "\n",
      "100%|██████████| 391/391 [00:33<00:00, 11.75it/s]\n",
      "100%|██████████| 79/79 [00:03<00:00, 22.31it/s]"
     ]
    },
    {
     "name": "stdout",
     "output_type": "stream",
     "text": [
      "Adjusting learning rate of group 0 to 1.0000e-02.\n",
      "Epoch 126\n",
      "Accuracy: 0.901 | Train loss: 0.5875796858024597 | Valid loss: 0.4511375782966614\n"
     ]
    },
    {
     "name": "stderr",
     "output_type": "stream",
     "text": [
      "\n",
      "100%|██████████| 391/391 [00:32<00:00, 11.92it/s]\n",
      "100%|██████████| 79/79 [00:03<00:00, 25.27it/s]"
     ]
    },
    {
     "name": "stdout",
     "output_type": "stream",
     "text": [
      "Adjusting learning rate of group 0 to 1.0000e-02.\n",
      "Epoch 127\n",
      "Accuracy: 0.9075 | Train loss: 0.5977082199859619 | Valid loss: 0.4102508620977402\n"
     ]
    },
    {
     "name": "stderr",
     "output_type": "stream",
     "text": [
      "\n",
      "100%|██████████| 391/391 [00:33<00:00, 11.73it/s]\n",
      "100%|██████████| 79/79 [00:03<00:00, 24.49it/s]"
     ]
    },
    {
     "name": "stdout",
     "output_type": "stream",
     "text": [
      "Adjusting learning rate of group 0 to 1.0000e-02.\n",
      "Epoch 128\n",
      "Accuracy: 0.9015 | Train loss: 0.5828054281234741 | Valid loss: 0.43447194051742555\n"
     ]
    },
    {
     "name": "stderr",
     "output_type": "stream",
     "text": [
      "\n",
      "100%|██████████| 391/391 [00:33<00:00, 11.54it/s]\n",
      "100%|██████████| 79/79 [00:03<00:00, 22.16it/s]"
     ]
    },
    {
     "name": "stdout",
     "output_type": "stream",
     "text": [
      "Adjusting learning rate of group 0 to 1.0000e-02.\n",
      "Epoch 129\n",
      "Accuracy: 0.9062 | Train loss: 0.5917926601219178 | Valid loss: 0.42093634848594663\n"
     ]
    },
    {
     "name": "stderr",
     "output_type": "stream",
     "text": [
      "\n",
      "100%|██████████| 391/391 [00:33<00:00, 11.74it/s]\n",
      "100%|██████████| 79/79 [00:03<00:00, 24.91it/s]"
     ]
    },
    {
     "name": "stdout",
     "output_type": "stream",
     "text": [
      "Adjusting learning rate of group 0 to 1.0000e-02.\n",
      "Epoch 130\n",
      "Accuracy: 0.9057 | Train loss: 0.598060080165863 | Valid loss: 0.42245987797677514\n"
     ]
    },
    {
     "name": "stderr",
     "output_type": "stream",
     "text": [
      "\n",
      "100%|██████████| 391/391 [00:33<00:00, 11.78it/s]\n",
      "100%|██████████| 79/79 [00:04<00:00, 19.14it/s]"
     ]
    },
    {
     "name": "stdout",
     "output_type": "stream",
     "text": [
      "Adjusting learning rate of group 0 to 1.0000e-02.\n",
      "Epoch 131\n",
      "Accuracy: 0.9058 | Train loss: 0.5834129086303711 | Valid loss: 0.4400376772403717\n"
     ]
    },
    {
     "name": "stderr",
     "output_type": "stream",
     "text": [
      "\n",
      "100%|██████████| 391/391 [00:42<00:00,  9.24it/s]\n",
      "100%|██████████| 79/79 [00:05<00:00, 15.34it/s]"
     ]
    },
    {
     "name": "stdout",
     "output_type": "stream",
     "text": [
      "Adjusting learning rate of group 0 to 1.0000e-03.\n",
      "Epoch 132\n",
      "Accuracy: 0.907 | Train loss: 0.5775604133033753 | Valid loss: 0.4373533835887909\n"
     ]
    },
    {
     "name": "stderr",
     "output_type": "stream",
     "text": [
      "\n",
      "100%|██████████| 391/391 [00:37<00:00, 10.45it/s]\n",
      "100%|██████████| 79/79 [00:03<00:00, 24.63it/s]"
     ]
    },
    {
     "name": "stdout",
     "output_type": "stream",
     "text": [
      "Adjusting learning rate of group 0 to 1.0000e-03.\n",
      "Epoch 133\n",
      "Accuracy: 0.9265 | Train loss: 0.42914523315429687 | Valid loss: 0.325257239818573\n",
      "YES\n"
     ]
    },
    {
     "name": "stderr",
     "output_type": "stream",
     "text": [
      "\n",
      "100%|██████████| 391/391 [00:34<00:00, 11.32it/s]\n",
      "100%|██████████| 79/79 [00:03<00:00, 24.05it/s]"
     ]
    },
    {
     "name": "stdout",
     "output_type": "stream",
     "text": [
      "Adjusting learning rate of group 0 to 1.0000e-03.\n",
      "Epoch 134\n",
      "Accuracy: 0.9282 | Train loss: 0.37094393002510073 | Valid loss: 0.31575552587509154\n",
      "YES\n"
     ]
    },
    {
     "name": "stderr",
     "output_type": "stream",
     "text": [
      "\n",
      "100%|██████████| 391/391 [00:33<00:00, 11.69it/s]\n",
      "100%|██████████| 79/79 [00:03<00:00, 19.88it/s]\n"
     ]
    },
    {
     "name": "stdout",
     "output_type": "stream",
     "text": [
      "Adjusting learning rate of group 0 to 1.0000e-03.\n",
      "Epoch 135\n",
      "Accuracy: 0.9285 | Train loss: 0.3492877177619934 | Valid loss: 0.31500302357673643\n",
      "YES\n"
     ]
    },
    {
     "name": "stderr",
     "output_type": "stream",
     "text": [
      "100%|██████████| 391/391 [00:33<00:00, 11.63it/s]\n",
      "100%|██████████| 79/79 [00:03<00:00, 22.03it/s]"
     ]
    },
    {
     "name": "stdout",
     "output_type": "stream",
     "text": [
      "Adjusting learning rate of group 0 to 1.0000e-03.\n",
      "Epoch 136\n",
      "Accuracy: 0.931 | Train loss: 0.3418600731086731 | Valid loss: 0.3076446098804474\n",
      "YES\n"
     ]
    },
    {
     "name": "stderr",
     "output_type": "stream",
     "text": [
      "\n",
      "100%|██████████| 391/391 [00:33<00:00, 11.77it/s]\n",
      "100%|██████████| 79/79 [00:03<00:00, 25.57it/s]"
     ]
    },
    {
     "name": "stdout",
     "output_type": "stream",
     "text": [
      "Adjusting learning rate of group 0 to 1.0000e-03.\n",
      "Epoch 137\n",
      "Accuracy: 0.9316 | Train loss: 0.33244540658950805 | Valid loss: 0.306367310667038\n",
      "YES\n"
     ]
    },
    {
     "name": "stderr",
     "output_type": "stream",
     "text": [
      "\n",
      "100%|██████████| 391/391 [00:33<00:00, 11.60it/s]\n",
      "100%|██████████| 79/79 [00:03<00:00, 24.12it/s]"
     ]
    },
    {
     "name": "stdout",
     "output_type": "stream",
     "text": [
      "Adjusting learning rate of group 0 to 1.0000e-03.\n",
      "Epoch 138\n",
      "Accuracy: 0.9311 | Train loss: 0.32966563844680785 | Valid loss: 0.3053909903526306\n"
     ]
    },
    {
     "name": "stderr",
     "output_type": "stream",
     "text": [
      "\n",
      "100%|██████████| 391/391 [00:34<00:00, 11.31it/s]\n",
      "100%|██████████| 79/79 [00:04<00:00, 16.97it/s]"
     ]
    },
    {
     "name": "stdout",
     "output_type": "stream",
     "text": [
      "Adjusting learning rate of group 0 to 1.0000e-03.\n",
      "Epoch 139\n",
      "Accuracy: 0.9325 | Train loss: 0.32209649044036864 | Valid loss: 0.31095861825942994\n",
      "YES\n"
     ]
    },
    {
     "name": "stderr",
     "output_type": "stream",
     "text": [
      "\n",
      "100%|██████████| 391/391 [00:42<00:00,  9.18it/s]\n",
      "100%|██████████| 79/79 [00:05<00:00, 14.30it/s]"
     ]
    },
    {
     "name": "stdout",
     "output_type": "stream",
     "text": [
      "Adjusting learning rate of group 0 to 1.0000e-03.\n",
      "Epoch 140\n",
      "Accuracy: 0.932 | Train loss: 0.31612790864944457 | Valid loss: 0.3047232413291931\n"
     ]
    },
    {
     "name": "stderr",
     "output_type": "stream",
     "text": [
      "\n",
      "100%|██████████| 391/391 [00:33<00:00, 11.61it/s]\n",
      "100%|██████████| 79/79 [00:03<00:00, 22.07it/s]\n"
     ]
    },
    {
     "name": "stdout",
     "output_type": "stream",
     "text": [
      "Adjusting learning rate of group 0 to 1.0000e-03.\n",
      "Epoch 141\n",
      "Accuracy: 0.9316 | Train loss: 0.3147610336303711 | Valid loss: 0.30934013800621035\n"
     ]
    },
    {
     "name": "stderr",
     "output_type": "stream",
     "text": [
      "100%|██████████| 391/391 [00:33<00:00, 11.84it/s]\n",
      "100%|██████████| 79/79 [00:03<00:00, 24.51it/s]"
     ]
    },
    {
     "name": "stdout",
     "output_type": "stream",
     "text": [
      "Adjusting learning rate of group 0 to 1.0000e-03.\n",
      "Epoch 142\n",
      "Accuracy: 0.9328 | Train loss: 0.3071037864971161 | Valid loss: 0.3072947557449341\n",
      "YES\n"
     ]
    },
    {
     "name": "stderr",
     "output_type": "stream",
     "text": [
      "\n",
      "100%|██████████| 391/391 [00:33<00:00, 11.68it/s]\n",
      "100%|██████████| 79/79 [00:03<00:00, 24.88it/s]"
     ]
    },
    {
     "name": "stdout",
     "output_type": "stream",
     "text": [
      "Adjusting learning rate of group 0 to 1.0000e-03.\n",
      "Epoch 143\n",
      "Accuracy: 0.9324 | Train loss: 0.3058872573375702 | Valid loss: 0.3049090033531189\n"
     ]
    },
    {
     "name": "stderr",
     "output_type": "stream",
     "text": [
      "\n",
      "100%|██████████| 391/391 [00:34<00:00, 11.49it/s]\n",
      "100%|██████████| 79/79 [00:03<00:00, 23.88it/s]"
     ]
    },
    {
     "name": "stdout",
     "output_type": "stream",
     "text": [
      "Adjusting learning rate of group 0 to 1.0000e-03.\n",
      "Epoch 144\n",
      "Accuracy: 0.9323 | Train loss: 0.29862142246246337 | Valid loss: 0.3073415204524994\n"
     ]
    },
    {
     "name": "stderr",
     "output_type": "stream",
     "text": [
      "\n",
      "100%|██████████| 391/391 [00:34<00:00, 11.50it/s]\n",
      "100%|██████████| 79/79 [00:03<00:00, 24.55it/s]"
     ]
    },
    {
     "name": "stdout",
     "output_type": "stream",
     "text": [
      "Adjusting learning rate of group 0 to 1.0000e-03.\n",
      "Epoch 145\n",
      "Accuracy: 0.9328 | Train loss: 0.2992662948036194 | Valid loss: 0.30751140122413634\n"
     ]
    },
    {
     "name": "stderr",
     "output_type": "stream",
     "text": [
      "\n",
      "100%|██████████| 391/391 [00:33<00:00, 11.60it/s]\n",
      "100%|██████████| 79/79 [00:03<00:00, 21.67it/s]"
     ]
    },
    {
     "name": "stdout",
     "output_type": "stream",
     "text": [
      "Adjusting learning rate of group 0 to 1.0000e-03.\n",
      "Epoch 146\n",
      "Accuracy: 0.9299 | Train loss: 0.2949023163986206 | Valid loss: 0.3071384394168854\n"
     ]
    },
    {
     "name": "stderr",
     "output_type": "stream",
     "text": [
      "\n",
      "100%|██████████| 391/391 [00:40<00:00,  9.60it/s]\n",
      "100%|██████████| 79/79 [00:05<00:00, 15.41it/s]"
     ]
    },
    {
     "name": "stdout",
     "output_type": "stream",
     "text": [
      "Adjusting learning rate of group 0 to 1.0000e-03.\n",
      "Epoch 147\n",
      "Accuracy: 0.9328 | Train loss: 0.2925429537630081 | Valid loss: 0.30136333994865416\n"
     ]
    },
    {
     "name": "stderr",
     "output_type": "stream",
     "text": [
      "\n",
      "100%|██████████| 391/391 [00:42<00:00,  9.16it/s]\n",
      "100%|██████████| 79/79 [00:03<00:00, 24.35it/s]"
     ]
    },
    {
     "name": "stdout",
     "output_type": "stream",
     "text": [
      "Adjusting learning rate of group 0 to 1.0000e-03.\n",
      "Epoch 148\n",
      "Accuracy: 0.9318 | Train loss: 0.29114927775383 | Valid loss: 0.30385383682250977\n"
     ]
    },
    {
     "name": "stderr",
     "output_type": "stream",
     "text": [
      "\n",
      "100%|██████████| 391/391 [00:34<00:00, 11.42it/s]\n",
      "100%|██████████| 79/79 [00:03<00:00, 24.18it/s]"
     ]
    },
    {
     "name": "stdout",
     "output_type": "stream",
     "text": [
      "Adjusting learning rate of group 0 to 1.0000e-03.\n",
      "Epoch 149\n",
      "Accuracy: 0.9322 | Train loss: 0.28823829652786254 | Valid loss: 0.3051855764389038\n"
     ]
    },
    {
     "name": "stderr",
     "output_type": "stream",
     "text": [
      "\n",
      "100%|██████████| 391/391 [00:34<00:00, 11.25it/s]\n",
      "100%|██████████| 79/79 [00:03<00:00, 24.14it/s]"
     ]
    },
    {
     "name": "stdout",
     "output_type": "stream",
     "text": [
      "Adjusting learning rate of group 0 to 1.0000e-03.\n",
      "Epoch 150\n",
      "Accuracy: 0.9316 | Train loss: 0.28164519696235657 | Valid loss: 0.3082926644325256\n"
     ]
    },
    {
     "name": "stderr",
     "output_type": "stream",
     "text": [
      "\n",
      "100%|██████████| 391/391 [00:34<00:00, 11.20it/s]\n",
      "100%|██████████| 79/79 [00:03<00:00, 24.20it/s]"
     ]
    },
    {
     "name": "stdout",
     "output_type": "stream",
     "text": [
      "Adjusting learning rate of group 0 to 1.0000e-03.\n",
      "Epoch 151\n",
      "Accuracy: 0.932 | Train loss: 0.2831230256843567 | Valid loss: 0.30643885273933413\n"
     ]
    },
    {
     "name": "stderr",
     "output_type": "stream",
     "text": [
      "\n",
      "100%|██████████| 391/391 [00:34<00:00, 11.45it/s]\n",
      "100%|██████████| 79/79 [00:03<00:00, 24.32it/s]"
     ]
    },
    {
     "name": "stdout",
     "output_type": "stream",
     "text": [
      "Adjusting learning rate of group 0 to 1.0000e-03.\n",
      "Epoch 152\n",
      "Accuracy: 0.9324 | Train loss: 0.2808395327758789 | Valid loss: 0.307029238986969\n"
     ]
    },
    {
     "name": "stderr",
     "output_type": "stream",
     "text": [
      "\n",
      "100%|██████████| 391/391 [00:34<00:00, 11.27it/s]\n",
      "100%|██████████| 79/79 [00:03<00:00, 24.05it/s]"
     ]
    },
    {
     "name": "stdout",
     "output_type": "stream",
     "text": [
      "Adjusting learning rate of group 0 to 1.0000e-03.\n",
      "Epoch 153\n",
      "Accuracy: 0.9303 | Train loss: 0.2840535877418518 | Valid loss: 0.3101268341064453\n"
     ]
    },
    {
     "name": "stderr",
     "output_type": "stream",
     "text": [
      "\n",
      "100%|██████████| 391/391 [00:34<00:00, 11.45it/s]\n",
      "100%|██████████| 79/79 [00:03<00:00, 21.47it/s]"
     ]
    },
    {
     "name": "stdout",
     "output_type": "stream",
     "text": [
      "Adjusting learning rate of group 0 to 1.0000e-03.\n",
      "Epoch 154\n",
      "Accuracy: 0.9331 | Train loss: 0.27951471062660216 | Valid loss: 0.3101828582763672\n",
      "YES\n"
     ]
    },
    {
     "name": "stderr",
     "output_type": "stream",
     "text": [
      "\n",
      "100%|██████████| 391/391 [00:34<00:00, 11.28it/s]\n",
      "100%|██████████| 79/79 [00:03<00:00, 24.06it/s]"
     ]
    },
    {
     "name": "stdout",
     "output_type": "stream",
     "text": [
      "Adjusting learning rate of group 0 to 1.0000e-03.\n",
      "Epoch 155\n",
      "Accuracy: 0.9328 | Train loss: 0.27623436153888703 | Valid loss: 0.30843600564002993\n"
     ]
    },
    {
     "name": "stderr",
     "output_type": "stream",
     "text": [
      "\n",
      "100%|██████████| 391/391 [00:34<00:00, 11.45it/s]\n",
      "100%|██████████| 79/79 [00:03<00:00, 21.71it/s]"
     ]
    },
    {
     "name": "stdout",
     "output_type": "stream",
     "text": [
      "Adjusting learning rate of group 0 to 1.0000e-03.\n",
      "Epoch 156\n",
      "Accuracy: 0.9339 | Train loss: 0.2726192637252808 | Valid loss: 0.3095841452121735\n",
      "YES\n"
     ]
    },
    {
     "name": "stderr",
     "output_type": "stream",
     "text": [
      "\n",
      "100%|██████████| 391/391 [00:34<00:00, 11.26it/s]\n",
      "100%|██████████| 79/79 [00:04<00:00, 19.58it/s]"
     ]
    },
    {
     "name": "stdout",
     "output_type": "stream",
     "text": [
      "Adjusting learning rate of group 0 to 1.0000e-03.\n",
      "Epoch 157\n",
      "Accuracy: 0.9345 | Train loss: 0.27390705080032346 | Valid loss: 0.3089134747505188\n",
      "YES\n"
     ]
    },
    {
     "name": "stderr",
     "output_type": "stream",
     "text": [
      "\n",
      "100%|██████████| 391/391 [00:34<00:00, 11.25it/s]\n",
      "100%|██████████| 79/79 [00:03<00:00, 21.48it/s]"
     ]
    },
    {
     "name": "stdout",
     "output_type": "stream",
     "text": [
      "Adjusting learning rate of group 0 to 1.0000e-03.\n",
      "Epoch 158\n",
      "Accuracy: 0.9317 | Train loss: 0.2744658638858795 | Valid loss: 0.3078631295204163\n"
     ]
    },
    {
     "name": "stderr",
     "output_type": "stream",
     "text": [
      "\n",
      "100%|██████████| 391/391 [00:34<00:00, 11.46it/s]\n",
      "100%|██████████| 79/79 [00:03<00:00, 24.45it/s]"
     ]
    },
    {
     "name": "stdout",
     "output_type": "stream",
     "text": [
      "Adjusting learning rate of group 0 to 1.0000e-03.\n",
      "Epoch 159\n",
      "Accuracy: 0.9324 | Train loss: 0.2679856504440308 | Valid loss: 0.31260530898571015\n"
     ]
    },
    {
     "name": "stderr",
     "output_type": "stream",
     "text": [
      "\n",
      "100%|██████████| 391/391 [00:33<00:00, 11.57it/s]\n",
      "100%|██████████| 79/79 [00:03<00:00, 21.04it/s]"
     ]
    },
    {
     "name": "stdout",
     "output_type": "stream",
     "text": [
      "Adjusting learning rate of group 0 to 1.0000e-03.\n",
      "Epoch 160\n",
      "Accuracy: 0.9311 | Train loss: 0.269117695980072 | Valid loss: 0.3161885494232178\n"
     ]
    },
    {
     "name": "stderr",
     "output_type": "stream",
     "text": [
      "\n",
      "100%|██████████| 391/391 [00:40<00:00,  9.65it/s]\n",
      "100%|██████████| 79/79 [00:04<00:00, 15.92it/s]"
     ]
    },
    {
     "name": "stdout",
     "output_type": "stream",
     "text": [
      "Adjusting learning rate of group 0 to 1.0000e-03.\n",
      "Epoch 161\n",
      "Accuracy: 0.9327 | Train loss: 0.27084451806545257 | Valid loss: 0.3125919144630432\n"
     ]
    },
    {
     "name": "stderr",
     "output_type": "stream",
     "text": [
      "\n",
      "100%|██████████| 391/391 [00:44<00:00,  8.73it/s]\n",
      "100%|██████████| 79/79 [00:03<00:00, 23.81it/s]"
     ]
    },
    {
     "name": "stdout",
     "output_type": "stream",
     "text": [
      "Adjusting learning rate of group 0 to 1.0000e-03.\n",
      "Epoch 162\n",
      "Accuracy: 0.9303 | Train loss: 0.26644005074501037 | Valid loss: 0.315624566078186\n"
     ]
    },
    {
     "name": "stderr",
     "output_type": "stream",
     "text": [
      "\n",
      "100%|██████████| 391/391 [00:34<00:00, 11.35it/s]\n",
      "100%|██████████| 79/79 [00:03<00:00, 21.14it/s]\n"
     ]
    },
    {
     "name": "stdout",
     "output_type": "stream",
     "text": [
      "Adjusting learning rate of group 0 to 1.0000e-03.\n",
      "Epoch 163\n",
      "Accuracy: 0.9319 | Train loss: 0.26921767308235167 | Valid loss: 0.3180634222507477\n"
     ]
    },
    {
     "name": "stderr",
     "output_type": "stream",
     "text": [
      "100%|██████████| 391/391 [00:34<00:00, 11.22it/s]\n",
      "100%|██████████| 79/79 [00:03<00:00, 23.77it/s]"
     ]
    },
    {
     "name": "stdout",
     "output_type": "stream",
     "text": [
      "Adjusting learning rate of group 0 to 1.0000e-03.\n",
      "Epoch 164\n",
      "Accuracy: 0.9308 | Train loss: 0.26405351026535034 | Valid loss: 0.3124244126319885\n"
     ]
    },
    {
     "name": "stderr",
     "output_type": "stream",
     "text": [
      "\n",
      "100%|██████████| 391/391 [00:34<00:00, 11.36it/s]\n",
      "100%|██████████| 79/79 [00:03<00:00, 21.23it/s]"
     ]
    },
    {
     "name": "stdout",
     "output_type": "stream",
     "text": [
      "Adjusting learning rate of group 0 to 1.0000e-03.\n",
      "Epoch 165\n",
      "Accuracy: 0.9315 | Train loss: 0.26137455757141115 | Valid loss: 0.31184599289894105\n"
     ]
    },
    {
     "name": "stderr",
     "output_type": "stream",
     "text": [
      "\n",
      "100%|██████████| 391/391 [00:34<00:00, 11.29it/s]\n",
      "100%|██████████| 79/79 [00:04<00:00, 18.40it/s]"
     ]
    },
    {
     "name": "stdout",
     "output_type": "stream",
     "text": [
      "Adjusting learning rate of group 0 to 1.0000e-03.\n",
      "Epoch 166\n",
      "Accuracy: 0.9311 | Train loss: 0.2612602595329285 | Valid loss: 0.31649557185173033\n"
     ]
    },
    {
     "name": "stderr",
     "output_type": "stream",
     "text": [
      "\n",
      "100%|██████████| 391/391 [00:34<00:00, 11.33it/s]\n",
      "100%|██████████| 79/79 [00:03<00:00, 21.32it/s]"
     ]
    },
    {
     "name": "stdout",
     "output_type": "stream",
     "text": [
      "Adjusting learning rate of group 0 to 1.0000e-03.\n",
      "Epoch 167\n",
      "Accuracy: 0.9328 | Train loss: 0.25977018469810487 | Valid loss: 0.31721214303970335\n"
     ]
    },
    {
     "name": "stderr",
     "output_type": "stream",
     "text": [
      "\n",
      "100%|██████████| 391/391 [00:34<00:00, 11.37it/s]\n",
      "100%|██████████| 79/79 [00:03<00:00, 23.62it/s]"
     ]
    },
    {
     "name": "stdout",
     "output_type": "stream",
     "text": [
      "Adjusting learning rate of group 0 to 1.0000e-03.\n",
      "Epoch 168\n",
      "Accuracy: 0.9327 | Train loss: 0.26073006174087526 | Valid loss: 0.3146393104553223\n"
     ]
    },
    {
     "name": "stderr",
     "output_type": "stream",
     "text": [
      "\n",
      "100%|██████████| 391/391 [00:34<00:00, 11.25it/s]\n",
      "100%|██████████| 79/79 [00:03<00:00, 21.26it/s]"
     ]
    },
    {
     "name": "stdout",
     "output_type": "stream",
     "text": [
      "Adjusting learning rate of group 0 to 1.0000e-03.\n",
      "Epoch 169\n",
      "Accuracy: 0.9313 | Train loss: 0.26009738810539246 | Valid loss: 0.3141059189796448\n"
     ]
    },
    {
     "name": "stderr",
     "output_type": "stream",
     "text": [
      "\n",
      "100%|██████████| 391/391 [00:34<00:00, 11.35it/s]\n",
      "100%|██████████| 79/79 [00:03<00:00, 23.46it/s]"
     ]
    },
    {
     "name": "stdout",
     "output_type": "stream",
     "text": [
      "Adjusting learning rate of group 0 to 1.0000e-03.\n",
      "Epoch 170\n",
      "Accuracy: 0.9327 | Train loss: 0.25634074145317076 | Valid loss: 0.3166464190483093\n"
     ]
    },
    {
     "name": "stderr",
     "output_type": "stream",
     "text": [
      "\n",
      "100%|██████████| 391/391 [00:34<00:00, 11.34it/s]\n",
      "100%|██████████| 79/79 [00:03<00:00, 22.84it/s]"
     ]
    },
    {
     "name": "stdout",
     "output_type": "stream",
     "text": [
      "Adjusting learning rate of group 0 to 1.0000e-03.\n",
      "Epoch 171\n",
      "Accuracy: 0.9342 | Train loss: 0.25614080549240115 | Valid loss: 0.31778087291717527\n"
     ]
    },
    {
     "name": "stderr",
     "output_type": "stream",
     "text": [
      "\n",
      "100%|██████████| 391/391 [00:34<00:00, 11.19it/s]\n",
      "100%|██████████| 79/79 [00:03<00:00, 20.99it/s]"
     ]
    },
    {
     "name": "stdout",
     "output_type": "stream",
     "text": [
      "Adjusting learning rate of group 0 to 1.0000e-03.\n",
      "Epoch 172\n",
      "Accuracy: 0.9296 | Train loss: 0.2579442768573761 | Valid loss: 0.32479842433929446\n"
     ]
    },
    {
     "name": "stderr",
     "output_type": "stream",
     "text": [
      "\n",
      "100%|██████████| 391/391 [00:34<00:00, 11.23it/s]\n",
      "100%|██████████| 79/79 [00:03<00:00, 21.49it/s]"
     ]
    },
    {
     "name": "stdout",
     "output_type": "stream",
     "text": [
      "Adjusting learning rate of group 0 to 1.0000e-03.\n",
      "Epoch 173\n",
      "Accuracy: 0.933 | Train loss: 0.25597887170314787 | Valid loss: 0.3184926097869873\n"
     ]
    },
    {
     "name": "stderr",
     "output_type": "stream",
     "text": [
      "\n",
      "100%|██████████| 391/391 [00:34<00:00, 11.34it/s]\n",
      "100%|██████████| 79/79 [00:03<00:00, 23.74it/s]"
     ]
    },
    {
     "name": "stdout",
     "output_type": "stream",
     "text": [
      "Adjusting learning rate of group 0 to 1.0000e-03.\n",
      "Epoch 174\n",
      "Accuracy: 0.9318 | Train loss: 0.25814149828910826 | Valid loss: 0.323415672492981\n"
     ]
    },
    {
     "name": "stderr",
     "output_type": "stream",
     "text": [
      "\n",
      "100%|██████████| 391/391 [00:42<00:00,  9.20it/s]\n",
      "100%|██████████| 79/79 [00:04<00:00, 17.04it/s]"
     ]
    },
    {
     "name": "stdout",
     "output_type": "stream",
     "text": [
      "Adjusting learning rate of group 0 to 1.0000e-03.\n",
      "Epoch 175\n",
      "Accuracy: 0.9312 | Train loss: 0.25090752559185026 | Valid loss: 0.32047411532402037\n"
     ]
    },
    {
     "name": "stderr",
     "output_type": "stream",
     "text": [
      "\n",
      "100%|██████████| 391/391 [00:45<00:00,  8.62it/s]\n",
      "100%|██████████| 79/79 [00:03<00:00, 21.22it/s]"
     ]
    },
    {
     "name": "stdout",
     "output_type": "stream",
     "text": [
      "Adjusting learning rate of group 0 to 1.0000e-03.\n",
      "Epoch 176\n",
      "Accuracy: 0.9323 | Train loss: 0.2524546530437469 | Valid loss: 0.3237093753814697\n"
     ]
    },
    {
     "name": "stderr",
     "output_type": "stream",
     "text": [
      "\n",
      "100%|██████████| 391/391 [00:35<00:00, 11.14it/s]\n",
      "100%|██████████| 79/79 [00:03<00:00, 23.63it/s]"
     ]
    },
    {
     "name": "stdout",
     "output_type": "stream",
     "text": [
      "Adjusting learning rate of group 0 to 1.0000e-03.\n",
      "Epoch 177\n",
      "Accuracy: 0.9311 | Train loss: 0.25018155952453613 | Valid loss: 0.3162970307826996\n"
     ]
    },
    {
     "name": "stderr",
     "output_type": "stream",
     "text": [
      "\n",
      "100%|██████████| 391/391 [00:34<00:00, 11.35it/s]\n",
      "100%|██████████| 79/79 [00:03<00:00, 21.77it/s]"
     ]
    },
    {
     "name": "stdout",
     "output_type": "stream",
     "text": [
      "Adjusting learning rate of group 0 to 1.0000e-03.\n",
      "Epoch 178\n",
      "Accuracy: 0.9314 | Train loss: 0.2506019710445404 | Valid loss: 0.3222152642250061\n"
     ]
    },
    {
     "name": "stderr",
     "output_type": "stream",
     "text": [
      "\n",
      "100%|██████████| 391/391 [00:34<00:00, 11.23it/s]\n",
      "100%|██████████| 79/79 [00:03<00:00, 24.60it/s]\n"
     ]
    },
    {
     "name": "stdout",
     "output_type": "stream",
     "text": [
      "Adjusting learning rate of group 0 to 1.0000e-03.\n",
      "Epoch 179\n",
      "Accuracy: 0.9318 | Train loss: 0.25081151767730714 | Valid loss: 0.3202977010726929\n"
     ]
    },
    {
     "name": "stderr",
     "output_type": "stream",
     "text": [
      "100%|██████████| 391/391 [00:34<00:00, 11.46it/s]\n",
      "100%|██████████| 79/79 [00:03<00:00, 21.92it/s]"
     ]
    },
    {
     "name": "stdout",
     "output_type": "stream",
     "text": [
      "Adjusting learning rate of group 0 to 1.0000e-03.\n",
      "Epoch 180\n",
      "Accuracy: 0.9305 | Train loss: 0.25022571027755736 | Valid loss: 0.3196082266330719\n"
     ]
    },
    {
     "name": "stderr",
     "output_type": "stream",
     "text": [
      "\n",
      "100%|██████████| 391/391 [00:34<00:00, 11.49it/s]\n",
      "100%|██████████| 79/79 [00:04<00:00, 19.55it/s]"
     ]
    },
    {
     "name": "stdout",
     "output_type": "stream",
     "text": [
      "Adjusting learning rate of group 0 to 1.0000e-03.\n",
      "Epoch 181\n",
      "Accuracy: 0.9329 | Train loss: 0.24766638787269593 | Valid loss: 0.3203247399330139\n"
     ]
    },
    {
     "name": "stderr",
     "output_type": "stream",
     "text": [
      "\n",
      "100%|██████████| 391/391 [00:34<00:00, 11.46it/s]\n",
      "100%|██████████| 79/79 [00:04<00:00, 19.15it/s]"
     ]
    },
    {
     "name": "stdout",
     "output_type": "stream",
     "text": [
      "Adjusting learning rate of group 0 to 1.0000e-03.\n",
      "Epoch 182\n",
      "Accuracy: 0.9328 | Train loss: 0.24611430390834807 | Valid loss: 0.3203515791893005\n"
     ]
    },
    {
     "name": "stderr",
     "output_type": "stream",
     "text": [
      "\n",
      "100%|██████████| 391/391 [00:34<00:00, 11.42it/s]\n",
      "100%|██████████| 79/79 [00:03<00:00, 23.99it/s]"
     ]
    },
    {
     "name": "stdout",
     "output_type": "stream",
     "text": [
      "Adjusting learning rate of group 0 to 1.0000e-03.\n",
      "Epoch 183\n",
      "Accuracy: 0.9317 | Train loss: 0.24642891040802 | Valid loss: 0.32185294885635374\n"
     ]
    },
    {
     "name": "stderr",
     "output_type": "stream",
     "text": [
      "\n",
      "100%|██████████| 391/391 [00:34<00:00, 11.28it/s]\n",
      "100%|██████████| 79/79 [00:03<00:00, 21.64it/s]\n"
     ]
    },
    {
     "name": "stdout",
     "output_type": "stream",
     "text": [
      "Adjusting learning rate of group 0 to 1.0000e-03.\n",
      "Epoch 184\n",
      "Accuracy: 0.9316 | Train loss: 0.24766307011604308 | Valid loss: 0.3265190927505493\n"
     ]
    },
    {
     "name": "stderr",
     "output_type": "stream",
     "text": [
      "100%|██████████| 391/391 [00:34<00:00, 11.35it/s]\n",
      "100%|██████████| 79/79 [00:03<00:00, 23.93it/s]"
     ]
    },
    {
     "name": "stdout",
     "output_type": "stream",
     "text": [
      "Adjusting learning rate of group 0 to 1.0000e-03.\n",
      "Epoch 185\n",
      "Accuracy: 0.9321 | Train loss: 0.24566180198669432 | Valid loss: 0.32103427963256836\n"
     ]
    },
    {
     "name": "stderr",
     "output_type": "stream",
     "text": [
      "\n",
      "100%|██████████| 391/391 [00:34<00:00, 11.44it/s]\n",
      "100%|██████████| 79/79 [00:03<00:00, 24.20it/s]"
     ]
    },
    {
     "name": "stdout",
     "output_type": "stream",
     "text": [
      "Adjusting learning rate of group 0 to 1.0000e-03.\n",
      "Epoch 186\n",
      "Accuracy: 0.9323 | Train loss: 0.24701742635726928 | Valid loss: 0.31954605493545535\n"
     ]
    },
    {
     "name": "stderr",
     "output_type": "stream",
     "text": [
      "\n",
      "100%|██████████| 391/391 [00:34<00:00, 11.32it/s]\n",
      "100%|██████████| 79/79 [00:03<00:00, 23.64it/s]"
     ]
    },
    {
     "name": "stdout",
     "output_type": "stream",
     "text": [
      "Adjusting learning rate of group 0 to 1.0000e-03.\n",
      "Epoch 187\n",
      "Accuracy: 0.9323 | Train loss: 0.24372070706367494 | Valid loss: 0.3198401876449585\n"
     ]
    },
    {
     "name": "stderr",
     "output_type": "stream",
     "text": [
      "\n",
      "100%|██████████| 391/391 [00:35<00:00, 11.16it/s]\n",
      "100%|██████████| 79/79 [00:03<00:00, 20.41it/s]"
     ]
    },
    {
     "name": "stdout",
     "output_type": "stream",
     "text": [
      "Adjusting learning rate of group 0 to 1.0000e-03.\n",
      "Epoch 188\n",
      "Accuracy: 0.9336 | Train loss: 0.24172085560798645 | Valid loss: 0.3266596501350403\n"
     ]
    },
    {
     "name": "stderr",
     "output_type": "stream",
     "text": [
      "\n",
      "100%|██████████| 391/391 [00:40<00:00,  9.61it/s]\n",
      "100%|██████████| 79/79 [00:05<00:00, 15.78it/s]"
     ]
    },
    {
     "name": "stdout",
     "output_type": "stream",
     "text": [
      "Adjusting learning rate of group 0 to 1.0000e-03.\n",
      "Epoch 189\n",
      "Accuracy: 0.9299 | Train loss: 0.24355245079517365 | Valid loss: 0.32266055669784544\n"
     ]
    },
    {
     "name": "stderr",
     "output_type": "stream",
     "text": [
      "\n",
      "100%|██████████| 391/391 [00:44<00:00,  8.81it/s]\n",
      "100%|██████████| 79/79 [00:04<00:00, 16.85it/s]"
     ]
    },
    {
     "name": "stdout",
     "output_type": "stream",
     "text": [
      "Adjusting learning rate of group 0 to 1.0000e-03.\n",
      "Epoch 190\n",
      "Accuracy: 0.931 | Train loss: 0.24235444751739502 | Valid loss: 0.3272381830215454\n"
     ]
    },
    {
     "name": "stderr",
     "output_type": "stream",
     "text": [
      "\n",
      "100%|██████████| 391/391 [00:34<00:00, 11.20it/s]\n",
      "100%|██████████| 79/79 [00:04<00:00, 17.56it/s]"
     ]
    },
    {
     "name": "stdout",
     "output_type": "stream",
     "text": [
      "Adjusting learning rate of group 0 to 1.0000e-03.\n",
      "Epoch 191\n",
      "Accuracy: 0.9328 | Train loss: 0.24318806328773498 | Valid loss: 0.3216883764743805\n"
     ]
    },
    {
     "name": "stderr",
     "output_type": "stream",
     "text": [
      "\n",
      "100%|██████████| 391/391 [00:34<00:00, 11.24it/s]\n",
      "100%|██████████| 79/79 [00:03<00:00, 23.70it/s]"
     ]
    },
    {
     "name": "stdout",
     "output_type": "stream",
     "text": [
      "Adjusting learning rate of group 0 to 1.0000e-03.\n",
      "Epoch 192\n",
      "Accuracy: 0.9309 | Train loss: 0.2413692953300476 | Valid loss: 0.3207400890350342\n"
     ]
    },
    {
     "name": "stderr",
     "output_type": "stream",
     "text": [
      "\n",
      "100%|██████████| 391/391 [00:34<00:00, 11.39it/s]\n",
      "100%|██████████| 79/79 [00:03<00:00, 20.89it/s]"
     ]
    },
    {
     "name": "stdout",
     "output_type": "stream",
     "text": [
      "Adjusting learning rate of group 0 to 1.0000e-03.\n",
      "Epoch 193\n",
      "Accuracy: 0.9314 | Train loss: 0.23702201944351195 | Valid loss: 0.32660194664001463\n"
     ]
    },
    {
     "name": "stderr",
     "output_type": "stream",
     "text": [
      "\n",
      "100%|██████████| 391/391 [00:34<00:00, 11.35it/s]\n",
      "100%|██████████| 79/79 [00:03<00:00, 23.61it/s]"
     ]
    },
    {
     "name": "stdout",
     "output_type": "stream",
     "text": [
      "Adjusting learning rate of group 0 to 1.0000e-03.\n",
      "Epoch 194\n",
      "Accuracy: 0.9309 | Train loss: 0.23713304441452027 | Valid loss: 0.3264253071784973\n"
     ]
    },
    {
     "name": "stderr",
     "output_type": "stream",
     "text": [
      "\n",
      "100%|██████████| 391/391 [00:34<00:00, 11.30it/s]\n",
      "100%|██████████| 79/79 [00:03<00:00, 21.28it/s]"
     ]
    },
    {
     "name": "stdout",
     "output_type": "stream",
     "text": [
      "Adjusting learning rate of group 0 to 1.0000e-03.\n",
      "Epoch 195\n",
      "Accuracy: 0.9312 | Train loss: 0.24196737248420716 | Valid loss: 0.32388197469711305\n"
     ]
    },
    {
     "name": "stderr",
     "output_type": "stream",
     "text": [
      "\n",
      "100%|██████████| 391/391 [00:34<00:00, 11.31it/s]\n",
      "100%|██████████| 79/79 [00:03<00:00, 24.08it/s]"
     ]
    },
    {
     "name": "stdout",
     "output_type": "stream",
     "text": [
      "Adjusting learning rate of group 0 to 1.0000e-03.\n",
      "Epoch 196\n",
      "Accuracy: 0.9317 | Train loss: 0.23952987688064575 | Valid loss: 0.3248234746456146\n"
     ]
    },
    {
     "name": "stderr",
     "output_type": "stream",
     "text": [
      "\n",
      "100%|██████████| 391/391 [00:34<00:00, 11.30it/s]\n",
      "100%|██████████| 79/79 [00:03<00:00, 21.44it/s]"
     ]
    },
    {
     "name": "stdout",
     "output_type": "stream",
     "text": [
      "Adjusting learning rate of group 0 to 1.0000e-03.\n",
      "Epoch 197\n",
      "Accuracy: 0.9319 | Train loss: 0.23688102320194243 | Valid loss: 0.3218430280685425\n"
     ]
    },
    {
     "name": "stderr",
     "output_type": "stream",
     "text": [
      "\n",
      "100%|██████████| 391/391 [00:35<00:00, 11.15it/s]\n",
      "100%|██████████| 79/79 [00:03<00:00, 23.92it/s]"
     ]
    },
    {
     "name": "stdout",
     "output_type": "stream",
     "text": [
      "Adjusting learning rate of group 0 to 1.0000e-03.\n",
      "Epoch 198\n",
      "Accuracy: 0.93 | Train loss: 0.235200298743248 | Valid loss: 0.329350901222229\n"
     ]
    },
    {
     "name": "stderr",
     "output_type": "stream",
     "text": [
      "\n",
      "100%|██████████| 391/391 [00:34<00:00, 11.36it/s]\n",
      "100%|██████████| 79/79 [00:03<00:00, 21.39it/s]"
     ]
    },
    {
     "name": "stdout",
     "output_type": "stream",
     "text": [
      "Adjusting learning rate of group 0 to 1.0000e-03.\n",
      "Epoch 199\n",
      "Accuracy: 0.9295 | Train loss: 0.23935989603042604 | Valid loss: 0.33261438217163086\n"
     ]
    },
    {
     "name": "stderr",
     "output_type": "stream",
     "text": [
      "\n",
      "100%|██████████| 391/391 [00:34<00:00, 11.33it/s]\n",
      "100%|██████████| 79/79 [00:03<00:00, 23.52it/s]"
     ]
    },
    {
     "name": "stdout",
     "output_type": "stream",
     "text": [
      "Adjusting learning rate of group 0 to 1.0000e-03.\n",
      "Epoch 200\n",
      "Accuracy: 0.932 | Train loss: 0.23279077295303344 | Valid loss: 0.3289026490688324\n"
     ]
    },
    {
     "name": "stderr",
     "output_type": "stream",
     "text": [
      "\n"
     ]
    }
   ],
   "source": [
    "best_score = 0\n",
    "\n",
    "for epoch in range(200):\n",
    "    start_time = time.time()\n",
    "    student_model.to(DEVICE)\n",
    "    avg_loss = train_fn(train_loader, student_model, criterion, optimizer_student, None, DEVICE,0.5,5)\n",
    "    avg_val_loss, score = valid_fn(test_loader, student_model, criterion, DEVICE)\n",
    "\n",
    "    scheduler_student.step()\n",
    "    \n",
    "    print(f\"Epoch {epoch+1}\")\n",
    "    print(f\"Accuracy: {score} | Train loss: {avg_loss} | Valid loss: {avg_val_loss}\")\n",
    "    \n",
    "    if score > best_score:\n",
    "        print(\"YES\")\n",
    "        best_score = score\n",
    "        torch.save(student_model.state_dict(), f\"best_model.pt\")\n",
    "        \n",
    "    elapsed = time.time() - start_time"
   ]
  },
  {
   "cell_type": "code",
   "execution_count": 33,
   "id": "9955eb0d",
   "metadata": {
    "execution": {
     "iopub.execute_input": "2022-05-23T19:45:51.556380Z",
     "iopub.status.busy": "2022-05-23T19:45:51.555915Z",
     "iopub.status.idle": "2022-05-23T19:45:51.563288Z",
     "shell.execute_reply": "2022-05-23T19:45:51.562339Z"
    },
    "papermill": {
     "duration": 20.879557,
     "end_time": "2022-05-23T19:45:51.565601",
     "exception": false,
     "start_time": "2022-05-23T19:45:30.686044",
     "status": "completed"
    },
    "tags": []
   },
   "outputs": [
    {
     "data": {
      "text/plain": [
       "0.9345"
      ]
     },
     "execution_count": 33,
     "metadata": {},
     "output_type": "execute_result"
    }
   ],
   "source": [
    "best_score"
   ]
  }
 ],
 "metadata": {
  "kernelspec": {
   "display_name": "Python 3",
   "language": "python",
   "name": "python3"
  },
  "language_info": {
   "codemirror_mode": {
    "name": "ipython",
    "version": 3
   },
   "file_extension": ".py",
   "mimetype": "text/x-python",
   "name": "python",
   "nbconvert_exporter": "python",
   "pygments_lexer": "ipython3",
   "version": "3.7.12"
  },
  "papermill": {
   "default_parameters": {},
   "duration": 7915.584087,
   "end_time": "2022-05-23T19:46:16.076857",
   "environment_variables": {},
   "exception": null,
   "input_path": "__notebook__.ipynb",
   "output_path": "__notebook__.ipynb",
   "parameters": {},
   "start_time": "2022-05-23T17:34:20.492770",
   "version": "2.3.4"
  },
  "widgets": {
   "application/vnd.jupyter.widget-state+json": {
    "state": {
     "0ff838d6d23a479e9f4c7a854cb07325": {
      "model_module": "@jupyter-widgets/controls",
      "model_module_version": "1.5.0",
      "model_name": "ProgressStyleModel",
      "state": {
       "_model_module": "@jupyter-widgets/controls",
       "_model_module_version": "1.5.0",
       "_model_name": "ProgressStyleModel",
       "_view_count": null,
       "_view_module": "@jupyter-widgets/base",
       "_view_module_version": "1.2.0",
       "_view_name": "StyleView",
       "bar_color": null,
       "description_width": ""
      }
     },
     "3f4e5babcce445729a9b05112ae2db1c": {
      "model_module": "@jupyter-widgets/controls",
      "model_module_version": "1.5.0",
      "model_name": "HTMLModel",
      "state": {
       "_dom_classes": [],
       "_model_module": "@jupyter-widgets/controls",
       "_model_module_version": "1.5.0",
       "_model_name": "HTMLModel",
       "_view_count": null,
       "_view_module": "@jupyter-widgets/controls",
       "_view_module_version": "1.5.0",
       "_view_name": "HTMLView",
       "description": "",
       "description_tooltip": null,
       "layout": "IPY_MODEL_e00b4ec3b5a9433abe3eb69ad4926f15",
       "placeholder": "​",
       "style": "IPY_MODEL_72d84248b0444f3bb418f672649b677d",
       "value": ""
      }
     },
     "4382efbc21534b22bd38a2c723c425a5": {
      "model_module": "@jupyter-widgets/controls",
      "model_module_version": "1.5.0",
      "model_name": "FloatProgressModel",
      "state": {
       "_dom_classes": [],
       "_model_module": "@jupyter-widgets/controls",
       "_model_module_version": "1.5.0",
       "_model_name": "FloatProgressModel",
       "_view_count": null,
       "_view_module": "@jupyter-widgets/controls",
       "_view_module_version": "1.5.0",
       "_view_name": "ProgressView",
       "bar_style": "success",
       "description": "",
       "description_tooltip": null,
       "layout": "IPY_MODEL_cd646790ed344152ab550b34d241de09",
       "max": 170498071.0,
       "min": 0.0,
       "orientation": "horizontal",
       "style": "IPY_MODEL_0ff838d6d23a479e9f4c7a854cb07325",
       "value": 170498071.0
      }
     },
     "51812d765e0c4ff8bbf5133add5603be": {
      "model_module": "@jupyter-widgets/base",
      "model_module_version": "1.2.0",
      "model_name": "LayoutModel",
      "state": {
       "_model_module": "@jupyter-widgets/base",
       "_model_module_version": "1.2.0",
       "_model_name": "LayoutModel",
       "_view_count": null,
       "_view_module": "@jupyter-widgets/base",
       "_view_module_version": "1.2.0",
       "_view_name": "LayoutView",
       "align_content": null,
       "align_items": null,
       "align_self": null,
       "border": null,
       "bottom": null,
       "display": null,
       "flex": null,
       "flex_flow": null,
       "grid_area": null,
       "grid_auto_columns": null,
       "grid_auto_flow": null,
       "grid_auto_rows": null,
       "grid_column": null,
       "grid_gap": null,
       "grid_row": null,
       "grid_template_areas": null,
       "grid_template_columns": null,
       "grid_template_rows": null,
       "height": null,
       "justify_content": null,
       "justify_items": null,
       "left": null,
       "margin": null,
       "max_height": null,
       "max_width": null,
       "min_height": null,
       "min_width": null,
       "object_fit": null,
       "object_position": null,
       "order": null,
       "overflow": null,
       "overflow_x": null,
       "overflow_y": null,
       "padding": null,
       "right": null,
       "top": null,
       "visibility": null,
       "width": null
      }
     },
     "72d84248b0444f3bb418f672649b677d": {
      "model_module": "@jupyter-widgets/controls",
      "model_module_version": "1.5.0",
      "model_name": "DescriptionStyleModel",
      "state": {
       "_model_module": "@jupyter-widgets/controls",
       "_model_module_version": "1.5.0",
       "_model_name": "DescriptionStyleModel",
       "_view_count": null,
       "_view_module": "@jupyter-widgets/base",
       "_view_module_version": "1.2.0",
       "_view_name": "StyleView",
       "description_width": ""
      }
     },
     "7d8b84b1e57e4997a179a43b44b9738d": {
      "model_module": "@jupyter-widgets/controls",
      "model_module_version": "1.5.0",
      "model_name": "HTMLModel",
      "state": {
       "_dom_classes": [],
       "_model_module": "@jupyter-widgets/controls",
       "_model_module_version": "1.5.0",
       "_model_name": "HTMLModel",
       "_view_count": null,
       "_view_module": "@jupyter-widgets/controls",
       "_view_module_version": "1.5.0",
       "_view_name": "HTMLView",
       "description": "",
       "description_tooltip": null,
       "layout": "IPY_MODEL_9d1111d5b8984689964ba7941a547380",
       "placeholder": "​",
       "style": "IPY_MODEL_aed26384f66046c49326bc17df7a35de",
       "value": " 170499072/? [00:06&lt;00:00, 30045832.54it/s]"
      }
     },
     "9d1111d5b8984689964ba7941a547380": {
      "model_module": "@jupyter-widgets/base",
      "model_module_version": "1.2.0",
      "model_name": "LayoutModel",
      "state": {
       "_model_module": "@jupyter-widgets/base",
       "_model_module_version": "1.2.0",
       "_model_name": "LayoutModel",
       "_view_count": null,
       "_view_module": "@jupyter-widgets/base",
       "_view_module_version": "1.2.0",
       "_view_name": "LayoutView",
       "align_content": null,
       "align_items": null,
       "align_self": null,
       "border": null,
       "bottom": null,
       "display": null,
       "flex": null,
       "flex_flow": null,
       "grid_area": null,
       "grid_auto_columns": null,
       "grid_auto_flow": null,
       "grid_auto_rows": null,
       "grid_column": null,
       "grid_gap": null,
       "grid_row": null,
       "grid_template_areas": null,
       "grid_template_columns": null,
       "grid_template_rows": null,
       "height": null,
       "justify_content": null,
       "justify_items": null,
       "left": null,
       "margin": null,
       "max_height": null,
       "max_width": null,
       "min_height": null,
       "min_width": null,
       "object_fit": null,
       "object_position": null,
       "order": null,
       "overflow": null,
       "overflow_x": null,
       "overflow_y": null,
       "padding": null,
       "right": null,
       "top": null,
       "visibility": null,
       "width": null
      }
     },
     "aed26384f66046c49326bc17df7a35de": {
      "model_module": "@jupyter-widgets/controls",
      "model_module_version": "1.5.0",
      "model_name": "DescriptionStyleModel",
      "state": {
       "_model_module": "@jupyter-widgets/controls",
       "_model_module_version": "1.5.0",
       "_model_name": "DescriptionStyleModel",
       "_view_count": null,
       "_view_module": "@jupyter-widgets/base",
       "_view_module_version": "1.2.0",
       "_view_name": "StyleView",
       "description_width": ""
      }
     },
     "b76f7d0f8d2e4921af234c0c05b5adc2": {
      "model_module": "@jupyter-widgets/controls",
      "model_module_version": "1.5.0",
      "model_name": "HBoxModel",
      "state": {
       "_dom_classes": [],
       "_model_module": "@jupyter-widgets/controls",
       "_model_module_version": "1.5.0",
       "_model_name": "HBoxModel",
       "_view_count": null,
       "_view_module": "@jupyter-widgets/controls",
       "_view_module_version": "1.5.0",
       "_view_name": "HBoxView",
       "box_style": "",
       "children": [
        "IPY_MODEL_3f4e5babcce445729a9b05112ae2db1c",
        "IPY_MODEL_4382efbc21534b22bd38a2c723c425a5",
        "IPY_MODEL_7d8b84b1e57e4997a179a43b44b9738d"
       ],
       "layout": "IPY_MODEL_51812d765e0c4ff8bbf5133add5603be"
      }
     },
     "cd646790ed344152ab550b34d241de09": {
      "model_module": "@jupyter-widgets/base",
      "model_module_version": "1.2.0",
      "model_name": "LayoutModel",
      "state": {
       "_model_module": "@jupyter-widgets/base",
       "_model_module_version": "1.2.0",
       "_model_name": "LayoutModel",
       "_view_count": null,
       "_view_module": "@jupyter-widgets/base",
       "_view_module_version": "1.2.0",
       "_view_name": "LayoutView",
       "align_content": null,
       "align_items": null,
       "align_self": null,
       "border": null,
       "bottom": null,
       "display": null,
       "flex": null,
       "flex_flow": null,
       "grid_area": null,
       "grid_auto_columns": null,
       "grid_auto_flow": null,
       "grid_auto_rows": null,
       "grid_column": null,
       "grid_gap": null,
       "grid_row": null,
       "grid_template_areas": null,
       "grid_template_columns": null,
       "grid_template_rows": null,
       "height": null,
       "justify_content": null,
       "justify_items": null,
       "left": null,
       "margin": null,
       "max_height": null,
       "max_width": null,
       "min_height": null,
       "min_width": null,
       "object_fit": null,
       "object_position": null,
       "order": null,
       "overflow": null,
       "overflow_x": null,
       "overflow_y": null,
       "padding": null,
       "right": null,
       "top": null,
       "visibility": null,
       "width": null
      }
     },
     "e00b4ec3b5a9433abe3eb69ad4926f15": {
      "model_module": "@jupyter-widgets/base",
      "model_module_version": "1.2.0",
      "model_name": "LayoutModel",
      "state": {
       "_model_module": "@jupyter-widgets/base",
       "_model_module_version": "1.2.0",
       "_model_name": "LayoutModel",
       "_view_count": null,
       "_view_module": "@jupyter-widgets/base",
       "_view_module_version": "1.2.0",
       "_view_name": "LayoutView",
       "align_content": null,
       "align_items": null,
       "align_self": null,
       "border": null,
       "bottom": null,
       "display": null,
       "flex": null,
       "flex_flow": null,
       "grid_area": null,
       "grid_auto_columns": null,
       "grid_auto_flow": null,
       "grid_auto_rows": null,
       "grid_column": null,
       "grid_gap": null,
       "grid_row": null,
       "grid_template_areas": null,
       "grid_template_columns": null,
       "grid_template_rows": null,
       "height": null,
       "justify_content": null,
       "justify_items": null,
       "left": null,
       "margin": null,
       "max_height": null,
       "max_width": null,
       "min_height": null,
       "min_width": null,
       "object_fit": null,
       "object_position": null,
       "order": null,
       "overflow": null,
       "overflow_x": null,
       "overflow_y": null,
       "padding": null,
       "right": null,
       "top": null,
       "visibility": null,
       "width": null
      }
     }
    },
    "version_major": 2,
    "version_minor": 0
   }
  }
 },
 "nbformat": 4,
 "nbformat_minor": 5
}
