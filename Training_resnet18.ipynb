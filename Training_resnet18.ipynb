{
 "cells": [
  {
   "cell_type": "code",
   "execution_count": 1,
   "id": "e9b323c3",
   "metadata": {
    "execution": {
     "iopub.execute_input": "2022-05-23T08:37:24.469533Z",
     "iopub.status.busy": "2022-05-23T08:37:24.468938Z",
     "iopub.status.idle": "2022-05-23T08:37:26.980398Z",
     "shell.execute_reply": "2022-05-23T08:37:26.979671Z"
    },
    "papermill": {
     "duration": 2.540043,
     "end_time": "2022-05-23T08:37:26.982724",
     "exception": false,
     "start_time": "2022-05-23T08:37:24.442681",
     "status": "completed"
    },
    "tags": []
   },
   "outputs": [],
   "source": [
    "import numpy as np\n",
    "import pandas as pd\n",
    "import torch\n",
    "import torch.nn.functional as  F\n",
    "import torch.nn as nn\n",
    "from pathlib import Path\n",
    "import torchvision\n",
    "import torchvision.transforms as transforms\n",
    "from torch.utils.data import Dataset\n",
    "from collections import OrderedDict\n",
    "from tqdm import tqdm\n",
    "import sys\n",
    "import time\n",
    "from sklearn.metrics import accuracy_score"
   ]
  },
  {
   "cell_type": "code",
   "execution_count": 2,
   "id": "bd1d8314",
   "metadata": {
    "execution": {
     "iopub.execute_input": "2022-05-23T08:37:27.032050Z",
     "iopub.status.busy": "2022-05-23T08:37:27.031473Z",
     "iopub.status.idle": "2022-05-23T08:37:27.034759Z",
     "shell.execute_reply": "2022-05-23T08:37:27.034129Z"
    },
    "papermill": {
     "duration": 0.029627,
     "end_time": "2022-05-23T08:37:27.036438",
     "exception": false,
     "start_time": "2022-05-23T08:37:27.006811",
     "status": "completed"
    },
    "tags": []
   },
   "outputs": [],
   "source": [
    "DEVICE='cuda'\n",
    "use_gpu=True"
   ]
  },
  {
   "cell_type": "code",
   "execution_count": 3,
   "id": "4e5e392b",
   "metadata": {
    "execution": {
     "iopub.execute_input": "2022-05-23T08:37:27.084006Z",
     "iopub.status.busy": "2022-05-23T08:37:27.083592Z",
     "iopub.status.idle": "2022-05-23T08:37:27.090213Z",
     "shell.execute_reply": "2022-05-23T08:37:27.089561Z"
    },
    "papermill": {
     "duration": 0.03204,
     "end_time": "2022-05-23T08:37:27.091772",
     "exception": false,
     "start_time": "2022-05-23T08:37:27.059732",
     "status": "completed"
    },
    "tags": []
   },
   "outputs": [],
   "source": [
    "def reproducibilitySeed():\n",
    "    \"\"\"\n",
    "    Ensure reproducibility of results; Seeds to 0\n",
    "    \"\"\"\n",
    "    torch_init_seed = 0\n",
    "    torch.manual_seed(torch_init_seed)\n",
    "    numpy_init_seed = 0\n",
    "    np.random.seed(numpy_init_seed)\n",
    "    if use_gpu:\n",
    "        torch.backends.cudnn.deterministic = True\n",
    "        torch.backends.cudnn.benchmark = False\n",
    "\n",
    "reproducibilitySeed()"
   ]
  },
  {
   "cell_type": "markdown",
   "id": "b90a67b9",
   "metadata": {
    "papermill": {
     "duration": 0.052191,
     "end_time": "2022-05-23T08:37:27.187584",
     "exception": false,
     "start_time": "2022-05-23T08:37:27.135393",
     "status": "completed"
    },
    "tags": []
   },
   "source": [
    "# # # *Loading Cifar10*"
   ]
  },
  {
   "cell_type": "code",
   "execution_count": 4,
   "id": "b2ba79aa",
   "metadata": {
    "execution": {
     "iopub.execute_input": "2022-05-23T08:37:27.237416Z",
     "iopub.status.busy": "2022-05-23T08:37:27.237162Z",
     "iopub.status.idle": "2022-05-23T08:37:27.250222Z",
     "shell.execute_reply": "2022-05-23T08:37:27.249567Z"
    },
    "papermill": {
     "duration": 0.040909,
     "end_time": "2022-05-23T08:37:27.251869",
     "exception": false,
     "start_time": "2022-05-23T08:37:27.210960",
     "status": "completed"
    },
    "tags": []
   },
   "outputs": [],
   "source": [
    "\n",
    "\n",
    "NUM_WORKERS = 2\n",
    "\n",
    "\n",
    "class TensorImgSet(Dataset):\n",
    "    \"\"\"TensorDataset with support of transforms.\n",
    "    \"\"\"\n",
    "\n",
    "    def __init__(self, tensors, transform=None):\n",
    "        self.imgs = tensors[0]\n",
    "        self.targets = tensors[1]\n",
    "        self.tensors = tensors\n",
    "        self.transform = transform\n",
    "        self.len = len(self.imgs)\n",
    "\n",
    "    def __getitem__(self, index):\n",
    "        x = self.imgs[index]\n",
    "        if self.transform:\n",
    "            x = self.transform(x)\n",
    "        y = self.targets[index]\n",
    "        return x, y\n",
    "\n",
    "    def __len__(self):\n",
    "        return self.len\n",
    "\n",
    "\n",
    "\n",
    "def get_cifar(num_classes=100, dataset_dir=\"./data\", batch_size=128,\n",
    "              use_cifar_10_1=False):\n",
    "\n",
    "    if num_classes == 10:\n",
    "        print(\"Loading CIFAR10...\")\n",
    "        dataset = torchvision.datasets.CIFAR10\n",
    "        normalize = transforms.Normalize(\n",
    "            (0.4914, 0.4822, 0.4465), (0.2023, 0.1994, 0.2010))\n",
    "    else:\n",
    "        print(\"Loading CIFAR100...\")\n",
    "        dataset = torchvision.datasets.CIFAR100\n",
    "        normalize = transforms.Normalize(\n",
    "            mean=[0.507, 0.487, 0.441], std=[0.267, 0.256, 0.276])\n",
    "\n",
    "    train_transform = transforms.Compose([\n",
    "        transforms.RandomCrop(32, padding=4),\n",
    "        transforms.RandomHorizontalFlip(),\n",
    "        transforms.ToTensor(),\n",
    "        normalize,\n",
    "    ])\n",
    "\n",
    "    trainset = dataset(root=dataset_dir, train=True,\n",
    "                       download=True, transform=train_transform)\n",
    "\n",
    "    test_transform = transforms.Compose([\n",
    "        transforms.ToTensor(),\n",
    "        normalize,\n",
    "    ])\n",
    "\n",
    "    testset = dataset(root=dataset_dir, train=False,\n",
    "                          download=True,\n",
    "                          transform=test_transform)\n",
    "\n",
    "    train_loader = torch.utils.data.DataLoader(trainset,\n",
    "                                               batch_size=batch_size,\n",
    "                                               num_workers=NUM_WORKERS,\n",
    "                                               pin_memory=True, shuffle=True)\n",
    "    test_loader = torch.utils.data.DataLoader(testset,\n",
    "                                              batch_size=batch_size,\n",
    "                                              num_workers=NUM_WORKERS,\n",
    "                                              pin_memory=True, shuffle=False)\n",
    "    return train_loader, test_loader"
   ]
  },
  {
   "cell_type": "markdown",
   "id": "b49e4039",
   "metadata": {
    "papermill": {
     "duration": 0.023258,
     "end_time": "2022-05-23T08:37:27.298429",
     "exception": false,
     "start_time": "2022-05-23T08:37:27.275171",
     "status": "completed"
    },
    "tags": []
   },
   "source": [
    "# # #*Creating Models*"
   ]
  },
  {
   "cell_type": "code",
   "execution_count": 5,
   "id": "c59be546",
   "metadata": {
    "execution": {
     "iopub.execute_input": "2022-05-23T08:37:27.346599Z",
     "iopub.status.busy": "2022-05-23T08:37:27.346366Z",
     "iopub.status.idle": "2022-05-23T08:37:27.400250Z",
     "shell.execute_reply": "2022-05-23T08:37:27.399612Z"
    },
    "papermill": {
     "duration": 0.080284,
     "end_time": "2022-05-23T08:37:27.402015",
     "exception": false,
     "start_time": "2022-05-23T08:37:27.321731",
     "status": "completed"
    },
    "tags": []
   },
   "outputs": [],
   "source": [
    "class BasicBlock(nn.Module):\n",
    "    expansion = 1\n",
    "\n",
    "    def __init__(self, in_planes, planes, stride=1):\n",
    "        super(BasicBlock, self).__init__()\n",
    "        self.conv1 = nn.Conv2d(\n",
    "            in_planes, planes, kernel_size=3, stride=stride, padding=1, bias=False)\n",
    "        self.bn1 = nn.BatchNorm2d(planes)\n",
    "        self.conv2 = nn.Conv2d(planes, planes, kernel_size=3,\n",
    "                               stride=1, padding=1, bias=False)\n",
    "        self.bn2 = nn.BatchNorm2d(planes)\n",
    "\n",
    "        self.shortcut = nn.Sequential()\n",
    "        if stride != 1 or in_planes != self.expansion * planes:\n",
    "            self.shortcut = nn.Sequential(\n",
    "                nn.Conv2d(in_planes, self.expansion * planes,\n",
    "                          kernel_size=1, stride=stride, bias=False),\n",
    "                nn.BatchNorm2d(self.expansion * planes)\n",
    "            )\n",
    "\n",
    "    def forward(self, x):\n",
    "        out = F.relu(x)\n",
    "        out = F.relu(self.bn1(self.conv1(x)))\n",
    "        out = self.bn2(self.conv2(out))\n",
    "        out += self.shortcut(x)\n",
    "        return out\n",
    "\n",
    "\n",
    "class Bottleneck(nn.Module):\n",
    "    expansion = 4\n",
    "\n",
    "    def __init__(self, in_planes, planes, stride=1):\n",
    "        super(Bottleneck, self).__init__()\n",
    "        self.conv1 = nn.Conv2d(in_planes, planes, kernel_size=1, bias=False)\n",
    "        self.bn1 = nn.BatchNorm2d(planes)\n",
    "        self.conv2 = nn.Conv2d(planes, planes, kernel_size=3,\n",
    "                               stride=stride, padding=1, bias=False)\n",
    "        self.bn2 = nn.BatchNorm2d(planes)\n",
    "        self.conv3 = nn.Conv2d(planes, self.expansion *\n",
    "                               planes, kernel_size=1, bias=False)\n",
    "        self.bn3 = nn.BatchNorm2d(self.expansion * planes)\n",
    "\n",
    "        self.shortcut = nn.Sequential()\n",
    "        if stride != 1 or in_planes != self.expansion * planes:\n",
    "            self.shortcut = nn.Sequential(\n",
    "                nn.Conv2d(in_planes, self.expansion * planes,\n",
    "                          kernel_size=1, stride=stride, bias=False),\n",
    "                nn.BatchNorm2d(self.expansion * planes)\n",
    "            )\n",
    "\n",
    "    def forward(self, x):\n",
    "        out = F.relu(x)\n",
    "        out = F.relu(self.bn1(self.conv1(x)))\n",
    "        out = F.relu(self.bn2(self.conv2(out)))\n",
    "        out = self.bn3(self.conv3(out))\n",
    "        out += self.shortcut(x)\n",
    "        return out\n",
    "\n",
    "\n",
    "class ResNet(nn.Module):\n",
    "    def __init__(self, block, num_blocks, num_classes=10):\n",
    "        super(ResNet, self).__init__()\n",
    "        self.in_planes = 64\n",
    "\n",
    "        self.conv1 = nn.Conv2d(3, 64, kernel_size=3,\n",
    "                               stride=1, padding=1, bias=False)\n",
    "        self.bn1 = nn.BatchNorm2d(64)\n",
    "        self.layer1 = self._make_layer(block, 64, num_blocks[0], stride=1)\n",
    "        self.layer2 = self._make_layer(block, 128, num_blocks[1], stride=2)\n",
    "        self.layer3 = self._make_layer(block, 256, num_blocks[2], stride=2)\n",
    "        self.layer4 = self._make_layer(block, 512, num_blocks[3], stride=2)\n",
    "        self.linear = nn.Linear(512 * block.expansion, num_classes)\n",
    "        self.n_channels = [64, 128, 256, 512]\n",
    "\n",
    "    def _make_layer(self, block, planes, num_blocks, stride):\n",
    "        strides = [stride] + [1] * (num_blocks - 1)\n",
    "        layers = []\n",
    "        for stride in strides:\n",
    "            layers.append(block(self.in_planes, planes, stride))\n",
    "            self.in_planes = planes * block.expansion\n",
    "        return nn.Sequential(*layers)\n",
    "\n",
    "    def forward(self, x, is_feat=False, use_relu=True):\n",
    "        out = self.conv1(x)\n",
    "        out = self.bn1(out)\n",
    "        if use_relu:\n",
    "            out = F.relu(out)\n",
    "        feat1 = self.layer1(out)\n",
    "        if use_relu:\n",
    "            feat1 = F.relu(feat1)\n",
    "        feat2 = self.layer2(feat1)\n",
    "        if use_relu:\n",
    "            feat2 = F.relu(feat2)\n",
    "        feat3 = self.layer3(feat2)\n",
    "        if use_relu:\n",
    "            feat3 = F.relu(feat3)\n",
    "\n",
    "        feat4 = self.layer4(feat3)\n",
    "        feat4 = F.relu(feat4)\n",
    "        pool = F.avg_pool2d(feat4, 4)\n",
    "        pool = pool.view(pool.size(0), -1)\n",
    "        out = self.linear(pool)\n",
    "\n",
    "        if is_feat:\n",
    "            return[feat1, feat2, feat3, feat4], pool, out\n",
    "\n",
    "        return out\n",
    "\n",
    "    def get_bn_before_relu(self):\n",
    "        if isinstance(self.layer1[0], Bottleneck):\n",
    "            bn1 = self.layer1[-1].bn3\n",
    "            bn2 = self.layer2[-1].bn3\n",
    "            bn3 = self.layer3[-1].bn3\n",
    "            bn4 = self.layer4[-1].bn3\n",
    "        elif isinstance(self.layer1[0], BasicBlock):\n",
    "            bn1 = self.layer1[-1].bn2\n",
    "            bn2 = self.layer2[-1].bn2\n",
    "            bn3 = self.layer3[-1].bn2\n",
    "            bn4 = self.layer4[-1].bn2\n",
    "        else:\n",
    "            print('ResNet unknown block error !!!')\n",
    "\n",
    "        return [bn1, bn2, bn3, bn4]\n",
    "\n",
    "    def get_channel_num(self):\n",
    "        return self.n_channels\n",
    "\n",
    "    def extract_feature(self, x, preReLU=False):\n",
    "\n",
    "        x = self.conv1(x)\n",
    "        x = self.bn1(x)\n",
    "\n",
    "        feat1 = self.layer1(x)\n",
    "        feat2 = self.layer2(feat1)\n",
    "        feat3 = self.layer3(feat2)\n",
    "        feat4 = self.layer4(feat3)\n",
    "\n",
    "        x = F.relu(feat4)\n",
    "        x = F.avg_pool2d(x, 4)\n",
    "        x = x.view(x.size(0), -1)\n",
    "        out = self.linear(x)\n",
    "\n",
    "        if not preReLU:\n",
    "            feat1 = F.relu(feat1)\n",
    "            feat2 = F.relu(feat2)\n",
    "            feat3 = F.relu(feat3)\n",
    "            feat4 = F.relu(feat4)\n",
    "\n",
    "        return [feat1, feat2, feat3, feat4], out\n",
    "\n",
    "\n",
    "class ResNetSmall(nn.Module):\n",
    "    def __init__(self, block, num_blocks, num_classes=10):\n",
    "        super(ResNetSmall, self).__init__()\n",
    "        self.in_planes = 64\n",
    "\n",
    "        self.conv1 = nn.Conv2d(3, 64, kernel_size=3,\n",
    "                               stride=1, padding=1, bias=False)\n",
    "        self.bn1 = nn.BatchNorm2d(64)\n",
    "        self.layer1 = self._make_layer(block, 16, num_blocks[0], stride=1)\n",
    "        self.layer2 = self._make_layer(block, 32, num_blocks[1], stride=2)\n",
    "        self.layer3 = self._make_layer(block, 64, num_blocks[2], stride=2)\n",
    "        self.linear = nn.Linear(256 * block.expansion, num_classes)\n",
    "        self.n_channels = [16, 32, 64]\n",
    "\n",
    "    def _make_layer(self, block, planes, num_blocks, stride):\n",
    "        strides = [stride] + [1] * (num_blocks - 1)\n",
    "        layers = []\n",
    "        for stride in strides:\n",
    "            layers.append(block(self.in_planes, planes, stride))\n",
    "            self.in_planes = planes * block.expansion\n",
    "        return nn.Sequential(*layers)\n",
    "\n",
    "    def forward(self, x, is_feat=False, use_relu=True):\n",
    "        out = self.conv1(x)\n",
    "        out = self.bn1(out)\n",
    "        if use_relu:\n",
    "            out = F.relu(out)\n",
    "        feat1 = self.layer1(out)\n",
    "        if use_relu:\n",
    "            feat1 = F.relu(feat1)\n",
    "        feat2 = self.layer2(feat1)\n",
    "        if use_relu:\n",
    "            feat2 = F.relu(feat2)\n",
    "        feat3 = self.layer3(feat2)\n",
    "\n",
    "        # the last relu is always included\n",
    "        feat3 = F.relu(feat3)\n",
    "        pool = F.avg_pool2d(feat3, 4)\n",
    "        pool = pool.view(pool.size(0), -1)\n",
    "        out = self.linear(pool)\n",
    "\n",
    "        if is_feat:\n",
    "            return[feat1, feat2, feat3], pool, out\n",
    "\n",
    "        return out\n",
    "\n",
    "    def get_bn_before_relu(self):\n",
    "        if isinstance(self.layer1[0], Bottleneck):\n",
    "            bn1 = self.layer1[-1].bn3\n",
    "            bn2 = self.layer2[-1].bn3\n",
    "            bn3 = self.layer3[-1].bn3\n",
    "        elif isinstance(self.layer1[0], BasicBlock):\n",
    "            bn1 = self.layer1[-1].bn2\n",
    "            bn2 = self.layer2[-1].bn2\n",
    "            bn3 = self.layer3[-1].bn2\n",
    "        else:\n",
    "            print('ResNet unknown block error !!!')\n",
    "\n",
    "        return [bn1, bn2, bn3]\n",
    "\n",
    "    def get_channel_num(self):\n",
    "        return self.n_channels\n",
    "\n",
    "    def extract_feature(self, x, preReLU=False):\n",
    "\n",
    "        x = self.conv1(x)\n",
    "        x = self.bn1(x)\n",
    "\n",
    "        feat1 = self.layer1(x)\n",
    "        feat2 = self.layer2(feat1)\n",
    "        feat3 = self.layer3(feat2)\n",
    "\n",
    "        x = F.relu(feat3)\n",
    "        x = F.avg_pool2d(x, 4)\n",
    "        x = x.view(x.size(0), -1)\n",
    "        out = self.linear(x)\n",
    "\n",
    "        if not preReLU:\n",
    "            feat1 = F.relu(feat1)\n",
    "            feat2 = F.relu(feat2)\n",
    "            feat3 = F.relu(feat3)\n",
    "\n",
    "        return [feat1, feat2, feat3], out\n",
    "\n",
    "\n",
    "def resnet8(**kwargs):\n",
    "    return ResNetSmall(BasicBlock, [1, 1, 1], **kwargs)\n",
    "\n",
    "\n",
    "def resnet14(**kwargs):\n",
    "    return ResNetSmall(BasicBlock, [2, 2, 2], **kwargs)\n",
    "\n",
    "\n",
    "def resnet20(**kwargs):\n",
    "    return ResNetSmall(BasicBlock, [3, 3, 3], **kwargs)\n",
    "\n",
    "\n",
    "def resnet26(**kwargs):\n",
    "    return ResNetSmall(BasicBlock, [4, 4, 4], **kwargs)\n",
    "\n",
    "\n",
    "def resnet32(**kwargs):\n",
    "    return ResNetSmall(BasicBlock, [5, 5, 5], **kwargs)\n",
    "\n",
    "\n",
    "def resnet44(**kwargs):\n",
    "    return ResNetSmall(BasicBlock, [7, 7, 7], **kwargs)\n",
    "\n",
    "\n",
    "def resnet56(**kwargs):\n",
    "    return ResNetSmall(BasicBlock, [9, 9, 9], **kwargs)\n",
    "\n",
    "\n",
    "def resnet10(**kwargs):\n",
    "    return ResNet(BasicBlock, [1, 1, 1, 1], **kwargs)\n",
    "\n",
    "\n",
    "def resnet18(**kwargs):\n",
    "    return ResNet(BasicBlock, [2, 2, 2, 2], **kwargs)\n",
    "\n",
    "\n",
    "def resnet34(**kwargs):\n",
    "    return ResNet(BasicBlock, [3, 4, 6, 3], **kwargs)\n",
    "\n",
    "\n",
    "def resnet50(**kwargs):\n",
    "    return ResNet(Bottleneck, [3, 4, 6, 3], **kwargs)\n",
    "\n",
    "\n",
    "def resnet101(**kwargs):\n",
    "    return ResNet(Bottleneck, [3, 4, 23, 3], **kwargs)\n",
    "\n",
    "\n",
    "def resnet152(**kwargs):\n",
    "    return ResNet(Bottleneck, [3, 8, 36, 3], **kwargs)\n",
    "\n",
    "\n",
    "def test():\n",
    "    net = resnet18()\n",
    "    y = net(torch.randn(1, 3, 32, 32))\n",
    "    print(y.size())"
   ]
  },
  {
   "cell_type": "code",
   "execution_count": 6,
   "id": "cd1e4858",
   "metadata": {
    "execution": {
     "iopub.execute_input": "2022-05-23T08:37:27.450781Z",
     "iopub.status.busy": "2022-05-23T08:37:27.449633Z",
     "iopub.status.idle": "2022-05-23T08:37:27.456300Z",
     "shell.execute_reply": "2022-05-23T08:37:27.455689Z"
    },
    "papermill": {
     "duration": 0.03229,
     "end_time": "2022-05-23T08:37:27.457951",
     "exception": false,
     "start_time": "2022-05-23T08:37:27.425661",
     "status": "completed"
    },
    "tags": []
   },
   "outputs": [],
   "source": [
    "def load_checkpoint(model, checkpoint_path,device ):\n",
    "    device = torch.device(device)\n",
    "    model_ckp = torch.load(checkpoint_path, map_location=device)\n",
    "\n",
    "    # handle both dataparallel and normal models\n",
    "    model_tmp_dict = OrderedDict()\n",
    "    for name, value in model_ckp[\"model_state_dict\"].items():\n",
    "        if name.startswith(\"module.\"):\n",
    "            name = name[7:]\n",
    "        model_tmp_dict[name] = value\n",
    "\n",
    "    if isinstance(model, torch.nn.DataParallel):\n",
    "        model.module.load_state_dict(model_tmp_dict)\n",
    "    else:\n",
    "        model.load_state_dict(model_tmp_dict)\n",
    "    return model"
   ]
  },
  {
   "cell_type": "code",
   "execution_count": 7,
   "id": "de417eff",
   "metadata": {
    "execution": {
     "iopub.execute_input": "2022-05-23T08:37:27.505406Z",
     "iopub.status.busy": "2022-05-23T08:37:27.504916Z",
     "iopub.status.idle": "2022-05-23T08:37:27.642616Z",
     "shell.execute_reply": "2022-05-23T08:37:27.641653Z"
    },
    "papermill": {
     "duration": 0.165497,
     "end_time": "2022-05-23T08:37:27.646530",
     "exception": false,
     "start_time": "2022-05-23T08:37:27.481033",
     "status": "completed"
    },
    "tags": []
   },
   "outputs": [],
   "source": [
    "teacher_model=resnet18()\n",
    "#teacher_model=load_checkpoint(teacher_model,\"../input/model-weights/resnet18_cifar10.pth\",DEVICE)"
   ]
  },
  {
   "cell_type": "code",
   "execution_count": 8,
   "id": "baf57600",
   "metadata": {
    "execution": {
     "iopub.execute_input": "2022-05-23T08:37:27.710638Z",
     "iopub.status.busy": "2022-05-23T08:37:27.710426Z",
     "iopub.status.idle": "2022-05-23T08:37:27.719929Z",
     "shell.execute_reply": "2022-05-23T08:37:27.719281Z"
    },
    "papermill": {
     "duration": 0.038701,
     "end_time": "2022-05-23T08:37:27.722288",
     "exception": false,
     "start_time": "2022-05-23T08:37:27.683587",
     "status": "completed"
    },
    "tags": []
   },
   "outputs": [
    {
     "data": {
      "text/plain": [
       "ResNet(\n",
       "  (conv1): Conv2d(3, 64, kernel_size=(3, 3), stride=(1, 1), padding=(1, 1), bias=False)\n",
       "  (bn1): BatchNorm2d(64, eps=1e-05, momentum=0.1, affine=True, track_running_stats=True)\n",
       "  (layer1): Sequential(\n",
       "    (0): BasicBlock(\n",
       "      (conv1): Conv2d(64, 64, kernel_size=(3, 3), stride=(1, 1), padding=(1, 1), bias=False)\n",
       "      (bn1): BatchNorm2d(64, eps=1e-05, momentum=0.1, affine=True, track_running_stats=True)\n",
       "      (conv2): Conv2d(64, 64, kernel_size=(3, 3), stride=(1, 1), padding=(1, 1), bias=False)\n",
       "      (bn2): BatchNorm2d(64, eps=1e-05, momentum=0.1, affine=True, track_running_stats=True)\n",
       "      (shortcut): Sequential()\n",
       "    )\n",
       "    (1): BasicBlock(\n",
       "      (conv1): Conv2d(64, 64, kernel_size=(3, 3), stride=(1, 1), padding=(1, 1), bias=False)\n",
       "      (bn1): BatchNorm2d(64, eps=1e-05, momentum=0.1, affine=True, track_running_stats=True)\n",
       "      (conv2): Conv2d(64, 64, kernel_size=(3, 3), stride=(1, 1), padding=(1, 1), bias=False)\n",
       "      (bn2): BatchNorm2d(64, eps=1e-05, momentum=0.1, affine=True, track_running_stats=True)\n",
       "      (shortcut): Sequential()\n",
       "    )\n",
       "  )\n",
       "  (layer2): Sequential(\n",
       "    (0): BasicBlock(\n",
       "      (conv1): Conv2d(64, 128, kernel_size=(3, 3), stride=(2, 2), padding=(1, 1), bias=False)\n",
       "      (bn1): BatchNorm2d(128, eps=1e-05, momentum=0.1, affine=True, track_running_stats=True)\n",
       "      (conv2): Conv2d(128, 128, kernel_size=(3, 3), stride=(1, 1), padding=(1, 1), bias=False)\n",
       "      (bn2): BatchNorm2d(128, eps=1e-05, momentum=0.1, affine=True, track_running_stats=True)\n",
       "      (shortcut): Sequential(\n",
       "        (0): Conv2d(64, 128, kernel_size=(1, 1), stride=(2, 2), bias=False)\n",
       "        (1): BatchNorm2d(128, eps=1e-05, momentum=0.1, affine=True, track_running_stats=True)\n",
       "      )\n",
       "    )\n",
       "    (1): BasicBlock(\n",
       "      (conv1): Conv2d(128, 128, kernel_size=(3, 3), stride=(1, 1), padding=(1, 1), bias=False)\n",
       "      (bn1): BatchNorm2d(128, eps=1e-05, momentum=0.1, affine=True, track_running_stats=True)\n",
       "      (conv2): Conv2d(128, 128, kernel_size=(3, 3), stride=(1, 1), padding=(1, 1), bias=False)\n",
       "      (bn2): BatchNorm2d(128, eps=1e-05, momentum=0.1, affine=True, track_running_stats=True)\n",
       "      (shortcut): Sequential()\n",
       "    )\n",
       "  )\n",
       "  (layer3): Sequential(\n",
       "    (0): BasicBlock(\n",
       "      (conv1): Conv2d(128, 256, kernel_size=(3, 3), stride=(2, 2), padding=(1, 1), bias=False)\n",
       "      (bn1): BatchNorm2d(256, eps=1e-05, momentum=0.1, affine=True, track_running_stats=True)\n",
       "      (conv2): Conv2d(256, 256, kernel_size=(3, 3), stride=(1, 1), padding=(1, 1), bias=False)\n",
       "      (bn2): BatchNorm2d(256, eps=1e-05, momentum=0.1, affine=True, track_running_stats=True)\n",
       "      (shortcut): Sequential(\n",
       "        (0): Conv2d(128, 256, kernel_size=(1, 1), stride=(2, 2), bias=False)\n",
       "        (1): BatchNorm2d(256, eps=1e-05, momentum=0.1, affine=True, track_running_stats=True)\n",
       "      )\n",
       "    )\n",
       "    (1): BasicBlock(\n",
       "      (conv1): Conv2d(256, 256, kernel_size=(3, 3), stride=(1, 1), padding=(1, 1), bias=False)\n",
       "      (bn1): BatchNorm2d(256, eps=1e-05, momentum=0.1, affine=True, track_running_stats=True)\n",
       "      (conv2): Conv2d(256, 256, kernel_size=(3, 3), stride=(1, 1), padding=(1, 1), bias=False)\n",
       "      (bn2): BatchNorm2d(256, eps=1e-05, momentum=0.1, affine=True, track_running_stats=True)\n",
       "      (shortcut): Sequential()\n",
       "    )\n",
       "  )\n",
       "  (layer4): Sequential(\n",
       "    (0): BasicBlock(\n",
       "      (conv1): Conv2d(256, 512, kernel_size=(3, 3), stride=(2, 2), padding=(1, 1), bias=False)\n",
       "      (bn1): BatchNorm2d(512, eps=1e-05, momentum=0.1, affine=True, track_running_stats=True)\n",
       "      (conv2): Conv2d(512, 512, kernel_size=(3, 3), stride=(1, 1), padding=(1, 1), bias=False)\n",
       "      (bn2): BatchNorm2d(512, eps=1e-05, momentum=0.1, affine=True, track_running_stats=True)\n",
       "      (shortcut): Sequential(\n",
       "        (0): Conv2d(256, 512, kernel_size=(1, 1), stride=(2, 2), bias=False)\n",
       "        (1): BatchNorm2d(512, eps=1e-05, momentum=0.1, affine=True, track_running_stats=True)\n",
       "      )\n",
       "    )\n",
       "    (1): BasicBlock(\n",
       "      (conv1): Conv2d(512, 512, kernel_size=(3, 3), stride=(1, 1), padding=(1, 1), bias=False)\n",
       "      (bn1): BatchNorm2d(512, eps=1e-05, momentum=0.1, affine=True, track_running_stats=True)\n",
       "      (conv2): Conv2d(512, 512, kernel_size=(3, 3), stride=(1, 1), padding=(1, 1), bias=False)\n",
       "      (bn2): BatchNorm2d(512, eps=1e-05, momentum=0.1, affine=True, track_running_stats=True)\n",
       "      (shortcut): Sequential()\n",
       "    )\n",
       "  )\n",
       "  (linear): Linear(in_features=512, out_features=10, bias=True)\n",
       ")"
      ]
     },
     "execution_count": 8,
     "metadata": {},
     "output_type": "execute_result"
    }
   ],
   "source": [
    "teacher_model"
   ]
  },
  {
   "cell_type": "code",
   "execution_count": 9,
   "id": "4ed3975c",
   "metadata": {
    "execution": {
     "iopub.execute_input": "2022-05-23T08:37:27.779287Z",
     "iopub.status.busy": "2022-05-23T08:37:27.779072Z",
     "iopub.status.idle": "2022-05-23T08:37:27.782205Z",
     "shell.execute_reply": "2022-05-23T08:37:27.781270Z"
    },
    "papermill": {
     "duration": 0.03354,
     "end_time": "2022-05-23T08:37:27.784033",
     "exception": false,
     "start_time": "2022-05-23T08:37:27.750493",
     "status": "completed"
    },
    "tags": []
   },
   "outputs": [],
   "source": [
    "#for param in teacher_model.parameters():\n",
    "       # param.requires_grad=False"
   ]
  },
  {
   "cell_type": "code",
   "execution_count": 10,
   "id": "02e11337",
   "metadata": {
    "execution": {
     "iopub.execute_input": "2022-05-23T08:37:27.839884Z",
     "iopub.status.busy": "2022-05-23T08:37:27.839384Z",
     "iopub.status.idle": "2022-05-23T08:37:27.842832Z",
     "shell.execute_reply": "2022-05-23T08:37:27.842000Z"
    },
    "papermill": {
     "duration": 0.032736,
     "end_time": "2022-05-23T08:37:27.844544",
     "exception": false,
     "start_time": "2022-05-23T08:37:27.811808",
     "status": "completed"
    },
    "tags": []
   },
   "outputs": [],
   "source": [
    "#for param in teacher_model.linear.parameters():\n",
    "    #param.requires_grad = True"
   ]
  },
  {
   "cell_type": "code",
   "execution_count": 11,
   "id": "0fd6b038",
   "metadata": {
    "execution": {
     "iopub.execute_input": "2022-05-23T08:37:27.898449Z",
     "iopub.status.busy": "2022-05-23T08:37:27.897940Z",
     "iopub.status.idle": "2022-05-23T08:37:27.901127Z",
     "shell.execute_reply": "2022-05-23T08:37:27.900455Z"
    },
    "papermill": {
     "duration": 0.032054,
     "end_time": "2022-05-23T08:37:27.903058",
     "exception": false,
     "start_time": "2022-05-23T08:37:27.871004",
     "status": "completed"
    },
    "tags": []
   },
   "outputs": [],
   "source": [
    "#import torchvision.models as models\n",
    "#resnet18 = models.resnet18(pretrained=True)"
   ]
  },
  {
   "cell_type": "code",
   "execution_count": 12,
   "id": "b4ade808",
   "metadata": {
    "execution": {
     "iopub.execute_input": "2022-05-23T08:37:27.957210Z",
     "iopub.status.busy": "2022-05-23T08:37:27.956519Z",
     "iopub.status.idle": "2022-05-23T08:37:27.960273Z",
     "shell.execute_reply": "2022-05-23T08:37:27.959598Z"
    },
    "papermill": {
     "duration": 0.032253,
     "end_time": "2022-05-23T08:37:27.961984",
     "exception": false,
     "start_time": "2022-05-23T08:37:27.929731",
     "status": "completed"
    },
    "tags": []
   },
   "outputs": [],
   "source": [
    "#teacher_model=resnet18"
   ]
  },
  {
   "cell_type": "code",
   "execution_count": 13,
   "id": "1cd07e03",
   "metadata": {
    "execution": {
     "iopub.execute_input": "2022-05-23T08:37:28.015974Z",
     "iopub.status.busy": "2022-05-23T08:37:28.015273Z",
     "iopub.status.idle": "2022-05-23T08:37:28.018979Z",
     "shell.execute_reply": "2022-05-23T08:37:28.018169Z"
    },
    "papermill": {
     "duration": 0.032907,
     "end_time": "2022-05-23T08:37:28.021202",
     "exception": false,
     "start_time": "2022-05-23T08:37:27.988295",
     "status": "completed"
    },
    "tags": []
   },
   "outputs": [],
   "source": [
    "#teacher_model.fc"
   ]
  },
  {
   "cell_type": "code",
   "execution_count": 14,
   "id": "24fde65d",
   "metadata": {
    "execution": {
     "iopub.execute_input": "2022-05-23T08:37:28.082781Z",
     "iopub.status.busy": "2022-05-23T08:37:28.082398Z",
     "iopub.status.idle": "2022-05-23T08:37:28.087708Z",
     "shell.execute_reply": "2022-05-23T08:37:28.086892Z"
    },
    "papermill": {
     "duration": 0.042613,
     "end_time": "2022-05-23T08:37:28.090697",
     "exception": false,
     "start_time": "2022-05-23T08:37:28.048084",
     "status": "completed"
    },
    "tags": []
   },
   "outputs": [],
   "source": [
    "#for param in teacher_model.parameters():\n",
    "   # param.requires_grad = False"
   ]
  },
  {
   "cell_type": "code",
   "execution_count": 15,
   "id": "418a7ef1",
   "metadata": {
    "execution": {
     "iopub.execute_input": "2022-05-23T08:37:28.178275Z",
     "iopub.status.busy": "2022-05-23T08:37:28.177907Z",
     "iopub.status.idle": "2022-05-23T08:37:28.181706Z",
     "shell.execute_reply": "2022-05-23T08:37:28.180890Z"
    },
    "papermill": {
     "duration": 0.034835,
     "end_time": "2022-05-23T08:37:28.183884",
     "exception": false,
     "start_time": "2022-05-23T08:37:28.149049",
     "status": "completed"
    },
    "tags": []
   },
   "outputs": [],
   "source": [
    "#teacher_model.fc= nn.Linear(512,10)"
   ]
  },
  {
   "cell_type": "code",
   "execution_count": 16,
   "id": "729d0aac",
   "metadata": {
    "execution": {
     "iopub.execute_input": "2022-05-23T08:37:28.240683Z",
     "iopub.status.busy": "2022-05-23T08:37:28.240452Z",
     "iopub.status.idle": "2022-05-23T08:37:28.243874Z",
     "shell.execute_reply": "2022-05-23T08:37:28.243056Z"
    },
    "papermill": {
     "duration": 0.033773,
     "end_time": "2022-05-23T08:37:28.245872",
     "exception": false,
     "start_time": "2022-05-23T08:37:28.212099",
     "status": "completed"
    },
    "tags": []
   },
   "outputs": [],
   "source": [
    "#teacher_model"
   ]
  },
  {
   "cell_type": "code",
   "execution_count": 17,
   "id": "89eef542",
   "metadata": {
    "execution": {
     "iopub.execute_input": "2022-05-23T08:37:28.301668Z",
     "iopub.status.busy": "2022-05-23T08:37:28.301103Z",
     "iopub.status.idle": "2022-05-23T08:37:28.308621Z",
     "shell.execute_reply": "2022-05-23T08:37:28.307716Z"
    },
    "papermill": {
     "duration": 0.036873,
     "end_time": "2022-05-23T08:37:28.310486",
     "exception": false,
     "start_time": "2022-05-23T08:37:28.273613",
     "status": "completed"
    },
    "tags": []
   },
   "outputs": [
    {
     "name": "stdout",
     "output_type": "stream",
     "text": [
      "Adjusting learning rate of group 0 to 1.0000e-01.\n"
     ]
    }
   ],
   "source": [
    "learning_rate=0.1\n",
    "num_epochs=200\n",
    "optimizer_teacher =torch.optim.SGD(teacher_model.parameters(), lr=1e-1, momentum=0.9, weight_decay=0.0005, nesterov=True)\n",
    "scheduler_teacher = torch.optim.lr_scheduler.MultiStepLR(optimizer_teacher, milestones=[66,132], gamma=0.1,verbose=True)"
   ]
  },
  {
   "cell_type": "code",
   "execution_count": 18,
   "id": "6b320cad",
   "metadata": {
    "execution": {
     "iopub.execute_input": "2022-05-23T08:37:28.368440Z",
     "iopub.status.busy": "2022-05-23T08:37:28.367790Z",
     "iopub.status.idle": "2022-05-23T08:37:28.372581Z",
     "shell.execute_reply": "2022-05-23T08:37:28.371894Z"
    },
    "papermill": {
     "duration": 0.035481,
     "end_time": "2022-05-23T08:37:28.374601",
     "exception": false,
     "start_time": "2022-05-23T08:37:28.339120",
     "status": "completed"
    },
    "tags": []
   },
   "outputs": [],
   "source": [
    "def freeze_teacher(t_net):\n",
    "    # freeze the layers of the teacher\n",
    "    for param in t_net.parameters():\n",
    "        param.requires_grad = False\n",
    "    # set the teacher net into evaluation mode\n",
    "    t_net.eval()\n",
    "    return t_net"
   ]
  },
  {
   "cell_type": "code",
   "execution_count": 19,
   "id": "ac373355",
   "metadata": {
    "execution": {
     "iopub.execute_input": "2022-05-23T08:37:28.431207Z",
     "iopub.status.busy": "2022-05-23T08:37:28.431001Z",
     "iopub.status.idle": "2022-05-23T08:37:28.436325Z",
     "shell.execute_reply": "2022-05-23T08:37:28.435554Z"
    },
    "papermill": {
     "duration": 0.035798,
     "end_time": "2022-05-23T08:37:28.438124",
     "exception": false,
     "start_time": "2022-05-23T08:37:28.402326",
     "status": "completed"
    },
    "tags": []
   },
   "outputs": [],
   "source": [
    "def init_progress_bar(train_loader):\n",
    "    batch_size = train_loader.batch_size\n",
    "    bar_format = \"{desc}{percentage:3.0f}%\"\n",
    "    # bar_format += \"|{bar}|\"\n",
    "    bar_format += \" {n_fmt}/{total_fmt} [{elapsed} < {remaining}]\"\n",
    "    bar_format += \"{postfix}\"\n",
    "    # if stderr has no tty disable the progress bar\n",
    "    disable = not sys.stderr.isatty()\n",
    "    t = tqdm(total=len(train_loader) * batch_size,\n",
    "             bar_format=bar_format)\n",
    "    if disable:\n",
    "        # a trick to allow execution in environments where stderr is redirected\n",
    "        t._time = lambda: 0.0\n",
    "    return t"
   ]
  },
  {
   "cell_type": "code",
   "execution_count": 20,
   "id": "3ae47025",
   "metadata": {
    "execution": {
     "iopub.execute_input": "2022-05-23T08:37:28.496471Z",
     "iopub.status.busy": "2022-05-23T08:37:28.495977Z",
     "iopub.status.idle": "2022-05-23T08:37:28.500072Z",
     "shell.execute_reply": "2022-05-23T08:37:28.499238Z"
    },
    "papermill": {
     "duration": 0.035296,
     "end_time": "2022-05-23T08:37:28.502157",
     "exception": false,
     "start_time": "2022-05-23T08:37:28.466861",
     "status": "completed"
    },
    "tags": []
   },
   "outputs": [
    {
     "name": "stdout",
     "output_type": "stream",
     "text": [
      "<function init_progress_bar at 0x7f5c58157d40>\n"
     ]
    }
   ],
   "source": [
    "print(init_progress_bar)"
   ]
  },
  {
   "cell_type": "code",
   "execution_count": 21,
   "id": "5abda7d7",
   "metadata": {
    "execution": {
     "iopub.execute_input": "2022-05-23T08:37:28.559938Z",
     "iopub.status.busy": "2022-05-23T08:37:28.559517Z",
     "iopub.status.idle": "2022-05-23T08:37:28.565749Z",
     "shell.execute_reply": "2022-05-23T08:37:28.565021Z"
    },
    "papermill": {
     "duration": 0.037022,
     "end_time": "2022-05-23T08:37:28.567505",
     "exception": false,
     "start_time": "2022-05-23T08:37:28.530483",
     "status": "completed"
    },
    "tags": []
   },
   "outputs": [],
   "source": [
    "class AverageMeter(object):\n",
    "    \"\"\"Computes and stores the average and current value\"\"\"\n",
    "    def __init__(self):\n",
    "        self.reset()\n",
    "\n",
    "    def reset(self):\n",
    "        self.val = 0\n",
    "        self.avg = 0\n",
    "        self.sum = 0\n",
    "        self.count = 0\n",
    "\n",
    "    def update(self, val, n=1):\n",
    "        self.val = val\n",
    "        self.sum += val * n\n",
    "        self.count += n\n",
    "        self.avg = self.sum / self.count\n",
    "\n",
    "def get_score(y_true, y_pred):\n",
    "    return accuracy_score(y_true, y_pred)"
   ]
  },
  {
   "cell_type": "code",
   "execution_count": 22,
   "id": "ce731b99",
   "metadata": {
    "execution": {
     "iopub.execute_input": "2022-05-23T08:37:28.625730Z",
     "iopub.status.busy": "2022-05-23T08:37:28.625261Z",
     "iopub.status.idle": "2022-05-23T08:37:28.640405Z",
     "shell.execute_reply": "2022-05-23T08:37:28.639714Z"
    },
    "papermill": {
     "duration": 0.046014,
     "end_time": "2022-05-23T08:37:28.642279",
     "exception": false,
     "start_time": "2022-05-23T08:37:28.596265",
     "status": "completed"
    },
    "tags": []
   },
   "outputs": [],
   "source": [
    "def train_fn(train_loader, model, criterion, optimizer, scheduler, device):\n",
    "    batch_time = AverageMeter()\n",
    "    data_time = AverageMeter()\n",
    "    losses = AverageMeter()\n",
    "    scores = AverageMeter()\n",
    "\n",
    "\n",
    "    model.train()\n",
    "    start = end = time.time()\n",
    "    for step, (images, labels) in tqdm(enumerate(train_loader), total = len(train_loader)):\n",
    "        data_time.update(time.time() - end)\n",
    "        images = images.to(device, dtype=torch.float)\n",
    "        labels = labels.to(device)\n",
    "        batch_size = labels.size(0)\n",
    "\n",
    "        y_preds = model(images)\n",
    "        loss = criterion(y_preds, labels)\n",
    "        losses.update(loss.item(), batch_size)\n",
    "\n",
    "        loss.backward()\n",
    "        optimizer.step()\n",
    "        optimizer.zero_grad()\n",
    "        batch_time.update(time.time() - end)\n",
    "        end = time.time()\n",
    "\n",
    "    return losses.avg\n",
    "\n",
    "def valid_fn(test_loader, model, criterion, device):\n",
    "    batch_time = AverageMeter()\n",
    "    data_time = AverageMeter()\n",
    "    losses = AverageMeter()\n",
    "    scores = AverageMeter()\n",
    "\n",
    "\n",
    "    model.eval()\n",
    "    start = end = time.time()\n",
    "    preds = []\n",
    "    valid_labels = []\n",
    "    for step, (images, labels) in tqdm(enumerate(test_loader), total = len(test_loader)):\n",
    "        data_time.update(time.time() - end)\n",
    "        images = images.to(device, dtype=torch.float)\n",
    "        labels = labels.to(device)\n",
    "        batch_size = labels.size(0)\n",
    "\n",
    "        with torch.no_grad():\n",
    "            y_preds = model(images)\n",
    "        loss = criterion(y_preds, labels)\n",
    "        losses.update(loss.item(), batch_size)\n",
    "\n",
    "        preds.append(y_preds.softmax(1).to('cpu').numpy())\n",
    "        valid_labels.append(labels.to('cpu').numpy())\n",
    "        \n",
    "        batch_time.update(time.time() - end)\n",
    "        end = time.time()\n",
    "\n",
    "    predictions = np.concatenate(preds)\n",
    "    valid_labels = np.concatenate(valid_labels)\n",
    "    \n",
    "    score = get_score(valid_labels, predictions.argmax(1))\n",
    "    \n",
    "    return losses.avg, score"
   ]
  },
  {
   "cell_type": "code",
   "execution_count": 23,
   "id": "c560b3d4",
   "metadata": {
    "execution": {
     "iopub.execute_input": "2022-05-23T08:37:28.699575Z",
     "iopub.status.busy": "2022-05-23T08:37:28.699391Z",
     "iopub.status.idle": "2022-05-23T08:37:28.703674Z",
     "shell.execute_reply": "2022-05-23T08:37:28.702866Z"
    },
    "papermill": {
     "duration": 0.034833,
     "end_time": "2022-05-23T08:37:28.705428",
     "exception": false,
     "start_time": "2022-05-23T08:37:28.670595",
     "status": "completed"
    },
    "tags": []
   },
   "outputs": [],
   "source": [
    "def calculate_loss(model, data, target):\n",
    "        # Standard Learning Loss ( Classification Loss)\n",
    "        output = model(data)\n",
    "        loss = F.cross_entropy(output, target)\n",
    "        loss.backward()\n",
    "        optimizer_teacher.step()\n",
    "        return output, loss"
   ]
  },
  {
   "cell_type": "code",
   "execution_count": 24,
   "id": "0966aeb3",
   "metadata": {
    "execution": {
     "iopub.execute_input": "2022-05-23T08:37:28.764161Z",
     "iopub.status.busy": "2022-05-23T08:37:28.763980Z",
     "iopub.status.idle": "2022-05-23T08:37:28.767591Z",
     "shell.execute_reply": "2022-05-23T08:37:28.766908Z"
    },
    "papermill": {
     "duration": 0.035155,
     "end_time": "2022-05-23T08:37:28.769549",
     "exception": false,
     "start_time": "2022-05-23T08:37:28.734394",
     "status": "completed"
    },
    "tags": []
   },
   "outputs": [],
   "source": [
    " def save(model, epoch, name):\n",
    "        torch.save({\"model_state_dict\": model.state_dict(), }, name)"
   ]
  },
  {
   "cell_type": "code",
   "execution_count": 25,
   "id": "d7d4dd43",
   "metadata": {
    "execution": {
     "iopub.execute_input": "2022-05-23T08:37:28.828369Z",
     "iopub.status.busy": "2022-05-23T08:37:28.828032Z",
     "iopub.status.idle": "2022-05-23T08:37:47.047508Z",
     "shell.execute_reply": "2022-05-23T08:37:47.046747Z"
    },
    "papermill": {
     "duration": 18.251427,
     "end_time": "2022-05-23T08:37:47.049731",
     "exception": false,
     "start_time": "2022-05-23T08:37:28.798304",
     "status": "completed"
    },
    "tags": []
   },
   "outputs": [
    {
     "name": "stdout",
     "output_type": "stream",
     "text": [
      "Loading CIFAR10...\n",
      "Downloading https://www.cs.toronto.edu/~kriz/cifar-10-python.tar.gz to ./data/cifar-10-python.tar.gz\n"
     ]
    },
    {
     "data": {
      "application/vnd.jupyter.widget-view+json": {
       "model_id": "c9e1deac7812460bb8393587d970a5f4",
       "version_major": 2,
       "version_minor": 0
      },
      "text/plain": [
       "  0%|          | 0/170498071 [00:00<?, ?it/s]"
      ]
     },
     "metadata": {},
     "output_type": "display_data"
    },
    {
     "name": "stdout",
     "output_type": "stream",
     "text": [
      "Extracting ./data/cifar-10-python.tar.gz to ./data\n",
      "Files already downloaded and verified\n"
     ]
    }
   ],
   "source": [
    "train_loader,test_loader=get_cifar(num_classes=10, dataset_dir=\"./data\", batch_size=128,\n",
    "              use_cifar_10_1=False)"
   ]
  },
  {
   "cell_type": "code",
   "execution_count": 26,
   "id": "ea08eb74",
   "metadata": {
    "execution": {
     "iopub.execute_input": "2022-05-23T08:37:47.119484Z",
     "iopub.status.busy": "2022-05-23T08:37:47.119240Z",
     "iopub.status.idle": "2022-05-23T08:37:47.123173Z",
     "shell.execute_reply": "2022-05-23T08:37:47.122303Z"
    },
    "papermill": {
     "duration": 0.046234,
     "end_time": "2022-05-23T08:37:47.125320",
     "exception": false,
     "start_time": "2022-05-23T08:37:47.079086",
     "status": "completed"
    },
    "tags": []
   },
   "outputs": [],
   "source": [
    "criterion = nn.CrossEntropyLoss()"
   ]
  },
  {
   "cell_type": "code",
   "execution_count": 27,
   "id": "ca5e2759",
   "metadata": {
    "execution": {
     "iopub.execute_input": "2022-05-23T08:37:47.182568Z",
     "iopub.status.busy": "2022-05-23T08:37:47.182346Z",
     "iopub.status.idle": "2022-05-23T11:09:09.523167Z",
     "shell.execute_reply": "2022-05-23T11:09:09.520595Z"
    },
    "papermill": {
     "duration": 9082.3708,
     "end_time": "2022-05-23T11:09:09.524996",
     "exception": false,
     "start_time": "2022-05-23T08:37:47.154196",
     "status": "completed"
    },
    "tags": []
   },
   "outputs": [
    {
     "name": "stderr",
     "output_type": "stream",
     "text": [
      "100%|██████████| 391/391 [00:48<00:00,  8.13it/s]\n",
      "100%|██████████| 79/79 [00:02<00:00, 27.97it/s]\n"
     ]
    },
    {
     "name": "stdout",
     "output_type": "stream",
     "text": [
      "Adjusting learning rate of group 0 to 1.0000e-01.\n",
      "Epoch 1\n",
      "Accuracy: 0.4698 | Train loss: 1.797891656227112 | Valid loss: 1.4240377485275268\n",
      "YES\n"
     ]
    },
    {
     "name": "stderr",
     "output_type": "stream",
     "text": [
      "100%|██████████| 391/391 [00:41<00:00,  9.31it/s]\n",
      "100%|██████████| 79/79 [00:03<00:00, 24.77it/s]\n"
     ]
    },
    {
     "name": "stdout",
     "output_type": "stream",
     "text": [
      "Adjusting learning rate of group 0 to 1.0000e-01.\n",
      "Epoch 2\n",
      "Accuracy: 0.5805 | Train loss: 1.2592047958755492 | Valid loss: 1.1614779123306274\n",
      "YES\n"
     ]
    },
    {
     "name": "stderr",
     "output_type": "stream",
     "text": [
      "100%|██████████| 391/391 [00:41<00:00,  9.34it/s]\n",
      "100%|██████████| 79/79 [00:02<00:00, 28.36it/s]\n"
     ]
    },
    {
     "name": "stdout",
     "output_type": "stream",
     "text": [
      "Adjusting learning rate of group 0 to 1.0000e-01.\n",
      "Epoch 3\n",
      "Accuracy: 0.6314 | Train loss: 0.9871660079956055 | Valid loss: 1.0535282562255859\n",
      "YES\n"
     ]
    },
    {
     "name": "stderr",
     "output_type": "stream",
     "text": [
      "100%|██████████| 391/391 [00:41<00:00,  9.33it/s]\n",
      "100%|██████████| 79/79 [00:02<00:00, 28.36it/s]\n"
     ]
    },
    {
     "name": "stdout",
     "output_type": "stream",
     "text": [
      "Adjusting learning rate of group 0 to 1.0000e-01.\n",
      "Epoch 4\n",
      "Accuracy: 0.6766 | Train loss: 0.8360444214248657 | Valid loss: 0.9422455269813538\n",
      "YES\n"
     ]
    },
    {
     "name": "stderr",
     "output_type": "stream",
     "text": [
      "100%|██████████| 391/391 [00:42<00:00,  9.30it/s]\n",
      "100%|██████████| 79/79 [00:02<00:00, 27.31it/s]\n"
     ]
    },
    {
     "name": "stdout",
     "output_type": "stream",
     "text": [
      "Adjusting learning rate of group 0 to 1.0000e-01.\n",
      "Epoch 5\n",
      "Accuracy: 0.7463 | Train loss: 0.7232202589416504 | Valid loss: 0.7311131223201752\n",
      "YES\n"
     ]
    },
    {
     "name": "stderr",
     "output_type": "stream",
     "text": [
      "100%|██████████| 391/391 [00:41<00:00,  9.34it/s]\n",
      "100%|██████████| 79/79 [00:02<00:00, 26.50it/s]\n"
     ]
    },
    {
     "name": "stdout",
     "output_type": "stream",
     "text": [
      "Adjusting learning rate of group 0 to 1.0000e-01.\n",
      "Epoch 6\n",
      "Accuracy: 0.748 | Train loss: 0.6167220442390442 | Valid loss: 0.7301322626113892\n",
      "YES\n"
     ]
    },
    {
     "name": "stderr",
     "output_type": "stream",
     "text": [
      "100%|██████████| 391/391 [00:42<00:00,  9.26it/s]\n",
      "100%|██████████| 79/79 [00:03<00:00, 23.97it/s]\n"
     ]
    },
    {
     "name": "stdout",
     "output_type": "stream",
     "text": [
      "Adjusting learning rate of group 0 to 1.0000e-01.\n",
      "Epoch 7\n",
      "Accuracy: 0.7675 | Train loss: 0.553077488269806 | Valid loss: 0.6815140803813934\n",
      "YES\n"
     ]
    },
    {
     "name": "stderr",
     "output_type": "stream",
     "text": [
      "100%|██████████| 391/391 [00:42<00:00,  9.27it/s]\n",
      "100%|██████████| 79/79 [00:03<00:00, 25.39it/s]\n"
     ]
    },
    {
     "name": "stdout",
     "output_type": "stream",
     "text": [
      "Adjusting learning rate of group 0 to 1.0000e-01.\n",
      "Epoch 8\n",
      "Accuracy: 0.796 | Train loss: 0.5093381766605377 | Valid loss: 0.6130352278709411\n",
      "YES\n"
     ]
    },
    {
     "name": "stderr",
     "output_type": "stream",
     "text": [
      "100%|██████████| 391/391 [00:42<00:00,  9.26it/s]\n",
      "100%|██████████| 79/79 [00:03<00:00, 24.30it/s]"
     ]
    },
    {
     "name": "stdout",
     "output_type": "stream",
     "text": [
      "Adjusting learning rate of group 0 to 1.0000e-01.\n",
      "Epoch 9\n",
      "Accuracy: 0.769 | Train loss: 0.4784513513755798 | Valid loss: 0.6975954564094543\n"
     ]
    },
    {
     "name": "stderr",
     "output_type": "stream",
     "text": [
      "\n",
      "100%|██████████| 391/391 [00:41<00:00,  9.33it/s]\n",
      "100%|██████████| 79/79 [00:03<00:00, 24.11it/s]\n"
     ]
    },
    {
     "name": "stdout",
     "output_type": "stream",
     "text": [
      "Adjusting learning rate of group 0 to 1.0000e-01.\n",
      "Epoch 10\n",
      "Accuracy: 0.7983 | Train loss: 0.4544195354652405 | Valid loss: 0.6267803780555725\n",
      "YES\n"
     ]
    },
    {
     "name": "stderr",
     "output_type": "stream",
     "text": [
      "100%|██████████| 391/391 [00:42<00:00,  9.29it/s]\n",
      "100%|██████████| 79/79 [00:02<00:00, 27.74it/s]\n"
     ]
    },
    {
     "name": "stdout",
     "output_type": "stream",
     "text": [
      "Adjusting learning rate of group 0 to 1.0000e-01.\n",
      "Epoch 11\n",
      "Accuracy: 0.8001 | Train loss: 0.4376021834754944 | Valid loss: 0.605010719203949\n",
      "YES\n"
     ]
    },
    {
     "name": "stderr",
     "output_type": "stream",
     "text": [
      "100%|██████████| 391/391 [00:42<00:00,  9.29it/s]\n",
      "100%|██████████| 79/79 [00:03<00:00, 24.90it/s]"
     ]
    },
    {
     "name": "stdout",
     "output_type": "stream",
     "text": [
      "Adjusting learning rate of group 0 to 1.0000e-01.\n",
      "Epoch 12\n",
      "Accuracy: 0.7352 | Train loss: 0.42637807077407835 | Valid loss: 0.8705079021453858\n"
     ]
    },
    {
     "name": "stderr",
     "output_type": "stream",
     "text": [
      "\n",
      "100%|██████████| 391/391 [00:42<00:00,  9.31it/s]\n",
      "100%|██████████| 79/79 [00:02<00:00, 27.86it/s]\n"
     ]
    },
    {
     "name": "stdout",
     "output_type": "stream",
     "text": [
      "Adjusting learning rate of group 0 to 1.0000e-01.\n",
      "Epoch 13\n",
      "Accuracy: 0.8225 | Train loss: 0.41004899642944337 | Valid loss: 0.5540577250480652\n",
      "YES\n"
     ]
    },
    {
     "name": "stderr",
     "output_type": "stream",
     "text": [
      "100%|██████████| 391/391 [00:42<00:00,  9.31it/s]\n",
      "100%|██████████| 79/79 [00:03<00:00, 23.80it/s]"
     ]
    },
    {
     "name": "stdout",
     "output_type": "stream",
     "text": [
      "Adjusting learning rate of group 0 to 1.0000e-01.\n",
      "Epoch 14\n",
      "Accuracy: 0.7887 | Train loss: 0.40332930530548095 | Valid loss: 0.643055442237854\n"
     ]
    },
    {
     "name": "stderr",
     "output_type": "stream",
     "text": [
      "\n",
      "100%|██████████| 391/391 [00:42<00:00,  9.31it/s]\n",
      "100%|██████████| 79/79 [00:04<00:00, 17.46it/s]"
     ]
    },
    {
     "name": "stdout",
     "output_type": "stream",
     "text": [
      "Adjusting learning rate of group 0 to 1.0000e-01.\n",
      "Epoch 15\n",
      "Accuracy: 0.8083 | Train loss: 0.3911586009788513 | Valid loss: 0.5818879728317261\n"
     ]
    },
    {
     "name": "stderr",
     "output_type": "stream",
     "text": [
      "\n",
      "100%|██████████| 391/391 [00:42<00:00,  9.22it/s]\n",
      "100%|██████████| 79/79 [00:02<00:00, 27.57it/s]"
     ]
    },
    {
     "name": "stdout",
     "output_type": "stream",
     "text": [
      "Adjusting learning rate of group 0 to 1.0000e-01.\n",
      "Epoch 16\n",
      "Accuracy: 0.7974 | Train loss: 0.38295093868255614 | Valid loss: 0.6090707112789154\n"
     ]
    },
    {
     "name": "stderr",
     "output_type": "stream",
     "text": [
      "\n",
      "100%|██████████| 391/391 [00:42<00:00,  9.27it/s]\n",
      "100%|██████████| 79/79 [00:02<00:00, 26.58it/s]\n"
     ]
    },
    {
     "name": "stdout",
     "output_type": "stream",
     "text": [
      "Adjusting learning rate of group 0 to 1.0000e-01.\n",
      "Epoch 17\n",
      "Accuracy: 0.8297 | Train loss: 0.37115308086395266 | Valid loss: 0.5022851333618165\n",
      "YES\n"
     ]
    },
    {
     "name": "stderr",
     "output_type": "stream",
     "text": [
      "100%|██████████| 391/391 [00:41<00:00,  9.32it/s]\n",
      "100%|██████████| 79/79 [00:04<00:00, 17.23it/s]"
     ]
    },
    {
     "name": "stdout",
     "output_type": "stream",
     "text": [
      "Adjusting learning rate of group 0 to 1.0000e-01.\n",
      "Epoch 18\n",
      "Accuracy: 0.7759 | Train loss: 0.37222078198432923 | Valid loss: 0.7451525278091431\n"
     ]
    },
    {
     "name": "stderr",
     "output_type": "stream",
     "text": [
      "\n",
      "100%|██████████| 391/391 [00:41<00:00,  9.31it/s]\n",
      "100%|██████████| 79/79 [00:03<00:00, 25.72it/s]"
     ]
    },
    {
     "name": "stdout",
     "output_type": "stream",
     "text": [
      "Adjusting learning rate of group 0 to 1.0000e-01.\n",
      "Epoch 19\n",
      "Accuracy: 0.8213 | Train loss: 0.36476855676651 | Valid loss: 0.5336509488105774\n"
     ]
    },
    {
     "name": "stderr",
     "output_type": "stream",
     "text": [
      "\n",
      "100%|██████████| 391/391 [00:42<00:00,  9.26it/s]\n",
      "100%|██████████| 79/79 [00:03<00:00, 26.17it/s]\n"
     ]
    },
    {
     "name": "stdout",
     "output_type": "stream",
     "text": [
      "Adjusting learning rate of group 0 to 1.0000e-01.\n",
      "Epoch 20\n",
      "Accuracy: 0.8416 | Train loss: 0.36019789651870726 | Valid loss: 0.48308692770004275\n",
      "YES\n"
     ]
    },
    {
     "name": "stderr",
     "output_type": "stream",
     "text": [
      "100%|██████████| 391/391 [00:41<00:00,  9.31it/s]\n",
      "100%|██████████| 79/79 [00:04<00:00, 16.31it/s]"
     ]
    },
    {
     "name": "stdout",
     "output_type": "stream",
     "text": [
      "Adjusting learning rate of group 0 to 1.0000e-01.\n",
      "Epoch 21\n",
      "Accuracy: 0.832 | Train loss: 0.35511445200920105 | Valid loss: 0.49921899309158324\n"
     ]
    },
    {
     "name": "stderr",
     "output_type": "stream",
     "text": [
      "\n",
      "100%|██████████| 391/391 [00:41<00:00,  9.31it/s]\n",
      "100%|██████████| 79/79 [00:02<00:00, 27.89it/s]"
     ]
    },
    {
     "name": "stdout",
     "output_type": "stream",
     "text": [
      "Adjusting learning rate of group 0 to 1.0000e-01.\n",
      "Epoch 22\n",
      "Accuracy: 0.8401 | Train loss: 0.34956406979084015 | Valid loss: 0.48046416244506834\n"
     ]
    },
    {
     "name": "stderr",
     "output_type": "stream",
     "text": [
      "\n",
      "100%|██████████| 391/391 [00:42<00:00,  9.23it/s]\n",
      "100%|██████████| 79/79 [00:02<00:00, 27.47it/s]\n"
     ]
    },
    {
     "name": "stdout",
     "output_type": "stream",
     "text": [
      "Adjusting learning rate of group 0 to 1.0000e-01.\n",
      "Epoch 23\n",
      "Accuracy: 0.8569 | Train loss: 0.3459214489173889 | Valid loss: 0.44225152707099913\n",
      "YES\n"
     ]
    },
    {
     "name": "stderr",
     "output_type": "stream",
     "text": [
      "100%|██████████| 391/391 [00:42<00:00,  9.22it/s]\n",
      "100%|██████████| 79/79 [00:04<00:00, 19.36it/s]"
     ]
    },
    {
     "name": "stdout",
     "output_type": "stream",
     "text": [
      "Adjusting learning rate of group 0 to 1.0000e-01.\n",
      "Epoch 24\n",
      "Accuracy: 0.842 | Train loss: 0.3433986719799042 | Valid loss: 0.46759094104766846\n"
     ]
    },
    {
     "name": "stderr",
     "output_type": "stream",
     "text": [
      "\n",
      "100%|██████████| 391/391 [00:42<00:00,  9.30it/s]\n",
      "100%|██████████| 79/79 [00:02<00:00, 28.24it/s]"
     ]
    },
    {
     "name": "stdout",
     "output_type": "stream",
     "text": [
      "Adjusting learning rate of group 0 to 1.0000e-01.\n",
      "Epoch 25\n",
      "Accuracy: 0.8296 | Train loss: 0.3403996645641327 | Valid loss: 0.5091232223510742\n"
     ]
    },
    {
     "name": "stderr",
     "output_type": "stream",
     "text": [
      "\n",
      "100%|██████████| 391/391 [00:42<00:00,  9.25it/s]\n",
      "100%|██████████| 79/79 [00:04<00:00, 19.55it/s]"
     ]
    },
    {
     "name": "stdout",
     "output_type": "stream",
     "text": [
      "Adjusting learning rate of group 0 to 1.0000e-01.\n",
      "Epoch 26\n",
      "Accuracy: 0.8556 | Train loss: 0.3342778503894806 | Valid loss: 0.42502001094818115\n"
     ]
    },
    {
     "name": "stderr",
     "output_type": "stream",
     "text": [
      "\n",
      "100%|██████████| 391/391 [00:42<00:00,  9.28it/s]\n",
      "100%|██████████| 79/79 [00:04<00:00, 17.53it/s]"
     ]
    },
    {
     "name": "stdout",
     "output_type": "stream",
     "text": [
      "Adjusting learning rate of group 0 to 1.0000e-01.\n",
      "Epoch 27\n",
      "Accuracy: 0.8455 | Train loss: 0.3299908140659332 | Valid loss: 0.4512882984161377\n"
     ]
    },
    {
     "name": "stderr",
     "output_type": "stream",
     "text": [
      "\n",
      "100%|██████████| 391/391 [00:42<00:00,  9.27it/s]\n",
      "100%|██████████| 79/79 [00:02<00:00, 29.17it/s]"
     ]
    },
    {
     "name": "stdout",
     "output_type": "stream",
     "text": [
      "Adjusting learning rate of group 0 to 1.0000e-01.\n",
      "Epoch 28\n",
      "Accuracy: 0.8542 | Train loss: 0.32989912066459653 | Valid loss: 0.42369354643821716\n"
     ]
    },
    {
     "name": "stderr",
     "output_type": "stream",
     "text": [
      "\n",
      "100%|██████████| 391/391 [00:42<00:00,  9.20it/s]\n",
      "100%|██████████| 79/79 [00:02<00:00, 26.69it/s]"
     ]
    },
    {
     "name": "stdout",
     "output_type": "stream",
     "text": [
      "Adjusting learning rate of group 0 to 1.0000e-01.\n",
      "Epoch 29\n",
      "Accuracy: 0.8093 | Train loss: 0.32667113849163054 | Valid loss: 0.585465817642212\n"
     ]
    },
    {
     "name": "stderr",
     "output_type": "stream",
     "text": [
      "\n",
      "100%|██████████| 391/391 [00:41<00:00,  9.34it/s]\n",
      "100%|██████████| 79/79 [00:02<00:00, 27.14it/s]"
     ]
    },
    {
     "name": "stdout",
     "output_type": "stream",
     "text": [
      "Adjusting learning rate of group 0 to 1.0000e-01.\n",
      "Epoch 30\n",
      "Accuracy: 0.8335 | Train loss: 0.32531332938194274 | Valid loss: 0.504368212223053\n"
     ]
    },
    {
     "name": "stderr",
     "output_type": "stream",
     "text": [
      "\n",
      "100%|██████████| 391/391 [00:42<00:00,  9.24it/s]\n",
      "100%|██████████| 79/79 [00:02<00:00, 26.76it/s]\n"
     ]
    },
    {
     "name": "stdout",
     "output_type": "stream",
     "text": [
      "Adjusting learning rate of group 0 to 1.0000e-01.\n",
      "Epoch 31\n",
      "Accuracy: 0.8642 | Train loss: 0.325565844745636 | Valid loss: 0.4116060050964355\n",
      "YES\n"
     ]
    },
    {
     "name": "stderr",
     "output_type": "stream",
     "text": [
      "100%|██████████| 391/391 [00:42<00:00,  9.26it/s]\n",
      "100%|██████████| 79/79 [00:02<00:00, 28.52it/s]"
     ]
    },
    {
     "name": "stdout",
     "output_type": "stream",
     "text": [
      "Adjusting learning rate of group 0 to 1.0000e-01.\n",
      "Epoch 32\n",
      "Accuracy: 0.7844 | Train loss: 0.32304199368476866 | Valid loss: 0.6440772959709168\n"
     ]
    },
    {
     "name": "stderr",
     "output_type": "stream",
     "text": [
      "\n",
      "100%|██████████| 391/391 [00:41<00:00,  9.34it/s]\n",
      "100%|██████████| 79/79 [00:03<00:00, 24.46it/s]"
     ]
    },
    {
     "name": "stdout",
     "output_type": "stream",
     "text": [
      "Adjusting learning rate of group 0 to 1.0000e-01.\n",
      "Epoch 33\n",
      "Accuracy: 0.8521 | Train loss: 0.3163111787366867 | Valid loss: 0.45110523352622983\n"
     ]
    },
    {
     "name": "stderr",
     "output_type": "stream",
     "text": [
      "\n",
      "100%|██████████| 391/391 [00:42<00:00,  9.28it/s]\n",
      "100%|██████████| 79/79 [00:03<00:00, 26.27it/s]\n"
     ]
    },
    {
     "name": "stdout",
     "output_type": "stream",
     "text": [
      "Adjusting learning rate of group 0 to 1.0000e-01.\n",
      "Epoch 34\n",
      "Accuracy: 0.7907 | Train loss: 0.31576196603775025 | Valid loss: 0.66099393825531\n"
     ]
    },
    {
     "name": "stderr",
     "output_type": "stream",
     "text": [
      "100%|██████████| 391/391 [00:42<00:00,  9.27it/s]\n",
      "100%|██████████| 79/79 [00:03<00:00, 21.61it/s]"
     ]
    },
    {
     "name": "stdout",
     "output_type": "stream",
     "text": [
      "Adjusting learning rate of group 0 to 1.0000e-01.\n",
      "Epoch 35\n",
      "Accuracy: 0.8314 | Train loss: 0.3168332948112488 | Valid loss: 0.5321008163452149\n"
     ]
    },
    {
     "name": "stderr",
     "output_type": "stream",
     "text": [
      "\n",
      "100%|██████████| 391/391 [00:41<00:00,  9.33it/s]\n",
      "100%|██████████| 79/79 [00:02<00:00, 27.28it/s]"
     ]
    },
    {
     "name": "stdout",
     "output_type": "stream",
     "text": [
      "Adjusting learning rate of group 0 to 1.0000e-01.\n",
      "Epoch 36\n",
      "Accuracy: 0.8478 | Train loss: 0.3187598193740845 | Valid loss: 0.46584528074264525\n"
     ]
    },
    {
     "name": "stderr",
     "output_type": "stream",
     "text": [
      "\n",
      "100%|██████████| 391/391 [00:42<00:00,  9.27it/s]\n",
      "100%|██████████| 79/79 [00:02<00:00, 27.99it/s]"
     ]
    },
    {
     "name": "stdout",
     "output_type": "stream",
     "text": [
      "Adjusting learning rate of group 0 to 1.0000e-01.\n",
      "Epoch 37\n",
      "Accuracy: 0.8104 | Train loss: 0.3149484908390045 | Valid loss: 0.5936704572677612\n"
     ]
    },
    {
     "name": "stderr",
     "output_type": "stream",
     "text": [
      "\n",
      "100%|██████████| 391/391 [00:41<00:00,  9.35it/s]\n",
      "100%|██████████| 79/79 [00:03<00:00, 22.67it/s]"
     ]
    },
    {
     "name": "stdout",
     "output_type": "stream",
     "text": [
      "Adjusting learning rate of group 0 to 1.0000e-01.\n",
      "Epoch 38\n",
      "Accuracy: 0.849 | Train loss: 0.31583639452934265 | Valid loss: 0.46582564635276796\n"
     ]
    },
    {
     "name": "stderr",
     "output_type": "stream",
     "text": [
      "\n",
      "100%|██████████| 391/391 [00:42<00:00,  9.27it/s]\n",
      "100%|██████████| 79/79 [00:02<00:00, 27.54it/s]"
     ]
    },
    {
     "name": "stdout",
     "output_type": "stream",
     "text": [
      "Adjusting learning rate of group 0 to 1.0000e-01.\n",
      "Epoch 39\n",
      "Accuracy: 0.8593 | Train loss: 0.31408879775047305 | Valid loss: 0.4251533215522766\n"
     ]
    },
    {
     "name": "stderr",
     "output_type": "stream",
     "text": [
      "\n",
      "100%|██████████| 391/391 [00:42<00:00,  9.26it/s]\n",
      "100%|██████████| 79/79 [00:02<00:00, 28.42it/s]"
     ]
    },
    {
     "name": "stdout",
     "output_type": "stream",
     "text": [
      "Adjusting learning rate of group 0 to 1.0000e-01.\n",
      "Epoch 40\n",
      "Accuracy: 0.8449 | Train loss: 0.3104027385807037 | Valid loss: 0.46786909494400025\n"
     ]
    },
    {
     "name": "stderr",
     "output_type": "stream",
     "text": [
      "\n",
      "100%|██████████| 391/391 [00:41<00:00,  9.36it/s]\n",
      "100%|██████████| 79/79 [00:02<00:00, 29.38it/s]"
     ]
    },
    {
     "name": "stdout",
     "output_type": "stream",
     "text": [
      "Adjusting learning rate of group 0 to 1.0000e-01.\n",
      "Epoch 41\n",
      "Accuracy: 0.8572 | Train loss: 0.31257363704681396 | Valid loss: 0.4461350782871246\n"
     ]
    },
    {
     "name": "stderr",
     "output_type": "stream",
     "text": [
      "\n",
      "100%|██████████| 391/391 [00:42<00:00,  9.23it/s]\n",
      "100%|██████████| 79/79 [00:03<00:00, 25.70it/s]\n"
     ]
    },
    {
     "name": "stdout",
     "output_type": "stream",
     "text": [
      "Adjusting learning rate of group 0 to 1.0000e-01.\n",
      "Epoch 42\n",
      "Accuracy: 0.8242 | Train loss: 0.30951793738365174 | Valid loss: 0.5803337244033814\n"
     ]
    },
    {
     "name": "stderr",
     "output_type": "stream",
     "text": [
      "100%|██████████| 391/391 [00:41<00:00,  9.36it/s]\n",
      "100%|██████████| 79/79 [00:03<00:00, 24.03it/s]"
     ]
    },
    {
     "name": "stdout",
     "output_type": "stream",
     "text": [
      "Adjusting learning rate of group 0 to 1.0000e-01.\n",
      "Epoch 43\n",
      "Accuracy: 0.8375 | Train loss: 0.3085062430381775 | Valid loss: 0.5065162123680115\n"
     ]
    },
    {
     "name": "stderr",
     "output_type": "stream",
     "text": [
      "\n",
      "100%|██████████| 391/391 [00:41<00:00,  9.36it/s]\n",
      "100%|██████████| 79/79 [00:02<00:00, 28.06it/s]"
     ]
    },
    {
     "name": "stdout",
     "output_type": "stream",
     "text": [
      "Adjusting learning rate of group 0 to 1.0000e-01.\n",
      "Epoch 44\n",
      "Accuracy: 0.856 | Train loss: 0.30571898438453676 | Valid loss: 0.44052782325744627\n"
     ]
    },
    {
     "name": "stderr",
     "output_type": "stream",
     "text": [
      "\n",
      "100%|██████████| 391/391 [00:42<00:00,  9.26it/s]\n",
      "100%|██████████| 79/79 [00:02<00:00, 27.80it/s]"
     ]
    },
    {
     "name": "stdout",
     "output_type": "stream",
     "text": [
      "Adjusting learning rate of group 0 to 1.0000e-01.\n",
      "Epoch 45\n",
      "Accuracy: 0.8492 | Train loss: 0.309335061044693 | Valid loss: 0.4623339283466339\n"
     ]
    },
    {
     "name": "stderr",
     "output_type": "stream",
     "text": [
      "\n",
      "100%|██████████| 391/391 [00:41<00:00,  9.36it/s]\n",
      "100%|██████████| 79/79 [00:02<00:00, 28.12it/s]\n"
     ]
    },
    {
     "name": "stdout",
     "output_type": "stream",
     "text": [
      "Adjusting learning rate of group 0 to 1.0000e-01.\n",
      "Epoch 46\n",
      "Accuracy: 0.7894 | Train loss: 0.307704115562439 | Valid loss: 0.6767827488899231\n"
     ]
    },
    {
     "name": "stderr",
     "output_type": "stream",
     "text": [
      "100%|██████████| 391/391 [00:41<00:00,  9.36it/s]\n",
      "100%|██████████| 79/79 [00:03<00:00, 22.08it/s]"
     ]
    },
    {
     "name": "stdout",
     "output_type": "stream",
     "text": [
      "Adjusting learning rate of group 0 to 1.0000e-01.\n",
      "Epoch 47\n",
      "Accuracy: 0.8315 | Train loss: 0.30643914617538454 | Valid loss: 0.5207510735988617\n"
     ]
    },
    {
     "name": "stderr",
     "output_type": "stream",
     "text": [
      "\n",
      "100%|██████████| 391/391 [00:42<00:00,  9.26it/s]\n",
      "100%|██████████| 79/79 [00:02<00:00, 28.85it/s]\n"
     ]
    },
    {
     "name": "stdout",
     "output_type": "stream",
     "text": [
      "Adjusting learning rate of group 0 to 1.0000e-01.\n",
      "Epoch 48\n",
      "Accuracy: 0.8757 | Train loss: 0.3053874744033813 | Valid loss: 0.3655324038505554\n",
      "YES\n"
     ]
    },
    {
     "name": "stderr",
     "output_type": "stream",
     "text": [
      "100%|██████████| 391/391 [00:41<00:00,  9.35it/s]\n",
      "100%|██████████| 79/79 [00:02<00:00, 28.38it/s]"
     ]
    },
    {
     "name": "stdout",
     "output_type": "stream",
     "text": [
      "Adjusting learning rate of group 0 to 1.0000e-01.\n",
      "Epoch 49\n",
      "Accuracy: 0.8577 | Train loss: 0.3055383009338379 | Valid loss: 0.42072106008529664\n"
     ]
    },
    {
     "name": "stderr",
     "output_type": "stream",
     "text": [
      "\n",
      "100%|██████████| 391/391 [00:41<00:00,  9.35it/s]\n",
      "100%|██████████| 79/79 [00:02<00:00, 28.31it/s]"
     ]
    },
    {
     "name": "stdout",
     "output_type": "stream",
     "text": [
      "Adjusting learning rate of group 0 to 1.0000e-01.\n",
      "Epoch 50\n",
      "Accuracy: 0.8321 | Train loss: 0.30537123700141905 | Valid loss: 0.5277500801086425\n"
     ]
    },
    {
     "name": "stderr",
     "output_type": "stream",
     "text": [
      "\n",
      "100%|██████████| 391/391 [00:42<00:00,  9.23it/s]\n",
      "100%|██████████| 79/79 [00:03<00:00, 22.13it/s]"
     ]
    },
    {
     "name": "stdout",
     "output_type": "stream",
     "text": [
      "Adjusting learning rate of group 0 to 1.0000e-01.\n",
      "Epoch 51\n",
      "Accuracy: 0.8431 | Train loss: 0.3016070268440247 | Valid loss: 0.5068241600036621\n"
     ]
    },
    {
     "name": "stderr",
     "output_type": "stream",
     "text": [
      "\n",
      "100%|██████████| 391/391 [00:41<00:00,  9.36it/s]\n",
      "100%|██████████| 79/79 [00:03<00:00, 23.87it/s]"
     ]
    },
    {
     "name": "stdout",
     "output_type": "stream",
     "text": [
      "Adjusting learning rate of group 0 to 1.0000e-01.\n",
      "Epoch 52\n",
      "Accuracy: 0.841 | Train loss: 0.30206775018692017 | Valid loss: 0.47679136271476746\n"
     ]
    },
    {
     "name": "stderr",
     "output_type": "stream",
     "text": [
      "\n",
      "100%|██████████| 391/391 [00:41<00:00,  9.33it/s]\n",
      "100%|██████████| 79/79 [00:02<00:00, 27.13it/s]"
     ]
    },
    {
     "name": "stdout",
     "output_type": "stream",
     "text": [
      "Adjusting learning rate of group 0 to 1.0000e-01.\n",
      "Epoch 53\n",
      "Accuracy: 0.8596 | Train loss: 0.30166871771812437 | Valid loss: 0.43456736392974854\n"
     ]
    },
    {
     "name": "stderr",
     "output_type": "stream",
     "text": [
      "\n",
      "100%|██████████| 391/391 [00:42<00:00,  9.22it/s]\n",
      "100%|██████████| 79/79 [00:03<00:00, 23.20it/s]"
     ]
    },
    {
     "name": "stdout",
     "output_type": "stream",
     "text": [
      "Adjusting learning rate of group 0 to 1.0000e-01.\n",
      "Epoch 54\n",
      "Accuracy: 0.8396 | Train loss: 0.3029188438415527 | Valid loss: 0.481792350435257\n"
     ]
    },
    {
     "name": "stderr",
     "output_type": "stream",
     "text": [
      "\n",
      "100%|██████████| 391/391 [00:41<00:00,  9.36it/s]\n",
      "100%|██████████| 79/79 [00:02<00:00, 29.24it/s]"
     ]
    },
    {
     "name": "stdout",
     "output_type": "stream",
     "text": [
      "Adjusting learning rate of group 0 to 1.0000e-01.\n",
      "Epoch 55\n",
      "Accuracy: 0.8454 | Train loss: 0.298332460231781 | Valid loss: 0.48133480286598207\n"
     ]
    },
    {
     "name": "stderr",
     "output_type": "stream",
     "text": [
      "\n",
      "100%|██████████| 391/391 [00:41<00:00,  9.36it/s]\n",
      "100%|██████████| 79/79 [00:02<00:00, 27.06it/s]"
     ]
    },
    {
     "name": "stdout",
     "output_type": "stream",
     "text": [
      "Adjusting learning rate of group 0 to 1.0000e-01.\n",
      "Epoch 56\n",
      "Accuracy: 0.8662 | Train loss: 0.3056378493833542 | Valid loss: 0.4017340873718262\n"
     ]
    },
    {
     "name": "stderr",
     "output_type": "stream",
     "text": [
      "\n",
      "100%|██████████| 391/391 [00:42<00:00,  9.20it/s]\n",
      "100%|██████████| 79/79 [00:02<00:00, 28.17it/s]"
     ]
    },
    {
     "name": "stdout",
     "output_type": "stream",
     "text": [
      "Adjusting learning rate of group 0 to 1.0000e-01.\n",
      "Epoch 57\n",
      "Accuracy: 0.849 | Train loss: 0.3031698987197876 | Valid loss: 0.47625117950439455\n"
     ]
    },
    {
     "name": "stderr",
     "output_type": "stream",
     "text": [
      "\n",
      "100%|██████████| 391/391 [00:41<00:00,  9.36it/s]\n",
      "100%|██████████| 79/79 [00:02<00:00, 28.10it/s]"
     ]
    },
    {
     "name": "stdout",
     "output_type": "stream",
     "text": [
      "Adjusting learning rate of group 0 to 1.0000e-01.\n",
      "Epoch 58\n",
      "Accuracy: 0.8712 | Train loss: 0.2996600177955627 | Valid loss: 0.38559232087135314\n"
     ]
    },
    {
     "name": "stderr",
     "output_type": "stream",
     "text": [
      "\n",
      "100%|██████████| 391/391 [00:41<00:00,  9.37it/s]\n",
      "100%|██████████| 79/79 [00:02<00:00, 28.20it/s]"
     ]
    },
    {
     "name": "stdout",
     "output_type": "stream",
     "text": [
      "Adjusting learning rate of group 0 to 1.0000e-01.\n",
      "Epoch 59\n",
      "Accuracy: 0.8665 | Train loss: 0.29918859453201296 | Valid loss: 0.4210682680606842\n"
     ]
    },
    {
     "name": "stderr",
     "output_type": "stream",
     "text": [
      "\n",
      "100%|██████████| 391/391 [00:42<00:00,  9.25it/s]\n",
      "100%|██████████| 79/79 [00:04<00:00, 17.18it/s]"
     ]
    },
    {
     "name": "stdout",
     "output_type": "stream",
     "text": [
      "Adjusting learning rate of group 0 to 1.0000e-01.\n",
      "Epoch 60\n",
      "Accuracy: 0.8354 | Train loss: 0.2967841669416428 | Valid loss: 0.5120629127979278\n"
     ]
    },
    {
     "name": "stderr",
     "output_type": "stream",
     "text": [
      "\n",
      "100%|██████████| 391/391 [00:41<00:00,  9.35it/s]\n",
      "100%|██████████| 79/79 [00:03<00:00, 25.60it/s]"
     ]
    },
    {
     "name": "stdout",
     "output_type": "stream",
     "text": [
      "Adjusting learning rate of group 0 to 1.0000e-01.\n",
      "Epoch 61\n",
      "Accuracy: 0.8521 | Train loss: 0.3006893869924545 | Valid loss: 0.46590220398902893\n"
     ]
    },
    {
     "name": "stderr",
     "output_type": "stream",
     "text": [
      "\n",
      "100%|██████████| 391/391 [00:41<00:00,  9.38it/s]\n",
      "100%|██████████| 79/79 [00:03<00:00, 22.31it/s]"
     ]
    },
    {
     "name": "stdout",
     "output_type": "stream",
     "text": [
      "Adjusting learning rate of group 0 to 1.0000e-01.\n",
      "Epoch 62\n",
      "Accuracy: 0.8609 | Train loss: 0.3014027547836304 | Valid loss: 0.4199878002166748\n"
     ]
    },
    {
     "name": "stderr",
     "output_type": "stream",
     "text": [
      "\n",
      "100%|██████████| 391/391 [00:42<00:00,  9.29it/s]\n",
      "100%|██████████| 79/79 [00:03<00:00, 21.28it/s]"
     ]
    },
    {
     "name": "stdout",
     "output_type": "stream",
     "text": [
      "Adjusting learning rate of group 0 to 1.0000e-01.\n",
      "Epoch 63\n",
      "Accuracy: 0.8454 | Train loss: 0.2971672735500336 | Valid loss: 0.46982272772789\n"
     ]
    },
    {
     "name": "stderr",
     "output_type": "stream",
     "text": [
      "\n",
      "100%|██████████| 391/391 [00:42<00:00,  9.24it/s]\n",
      "100%|██████████| 79/79 [00:02<00:00, 28.39it/s]"
     ]
    },
    {
     "name": "stdout",
     "output_type": "stream",
     "text": [
      "Adjusting learning rate of group 0 to 1.0000e-01.\n",
      "Epoch 64\n",
      "Accuracy: 0.8585 | Train loss: 0.30101521156311034 | Valid loss: 0.41284563302993776\n"
     ]
    },
    {
     "name": "stderr",
     "output_type": "stream",
     "text": [
      "\n",
      "100%|██████████| 391/391 [00:41<00:00,  9.38it/s]\n",
      "100%|██████████| 79/79 [00:02<00:00, 29.25it/s]"
     ]
    },
    {
     "name": "stdout",
     "output_type": "stream",
     "text": [
      "Adjusting learning rate of group 0 to 1.0000e-01.\n",
      "Epoch 65\n",
      "Accuracy: 0.8433 | Train loss: 0.2946971206188202 | Valid loss: 0.46565609073638914\n"
     ]
    },
    {
     "name": "stderr",
     "output_type": "stream",
     "text": [
      "\n",
      "100%|██████████| 391/391 [00:41<00:00,  9.34it/s]\n",
      "100%|██████████| 79/79 [00:04<00:00, 17.36it/s]"
     ]
    },
    {
     "name": "stdout",
     "output_type": "stream",
     "text": [
      "Adjusting learning rate of group 0 to 1.0000e-02.\n",
      "Epoch 66\n",
      "Accuracy: 0.7946 | Train loss: 0.2965851326274872 | Valid loss: 0.6794845216751099\n"
     ]
    },
    {
     "name": "stderr",
     "output_type": "stream",
     "text": [
      "\n",
      "100%|██████████| 391/391 [00:42<00:00,  9.22it/s]\n",
      "100%|██████████| 79/79 [00:02<00:00, 27.07it/s]\n"
     ]
    },
    {
     "name": "stdout",
     "output_type": "stream",
     "text": [
      "Adjusting learning rate of group 0 to 1.0000e-02.\n",
      "Epoch 67\n",
      "Accuracy: 0.9302 | Train loss: 0.16361234216690063 | Valid loss: 0.20961702378988267\n",
      "YES\n"
     ]
    },
    {
     "name": "stderr",
     "output_type": "stream",
     "text": [
      "100%|██████████| 391/391 [00:41<00:00,  9.36it/s]\n",
      "100%|██████████| 79/79 [00:03<00:00, 24.94it/s]\n"
     ]
    },
    {
     "name": "stdout",
     "output_type": "stream",
     "text": [
      "Adjusting learning rate of group 0 to 1.0000e-02.\n",
      "Epoch 68\n",
      "Accuracy: 0.9342 | Train loss: 0.11238472710609436 | Valid loss: 0.20295292732715606\n",
      "YES\n"
     ]
    },
    {
     "name": "stderr",
     "output_type": "stream",
     "text": [
      "100%|██████████| 391/391 [00:41<00:00,  9.38it/s]\n",
      "100%|██████████| 79/79 [00:03<00:00, 22.47it/s]\n"
     ]
    },
    {
     "name": "stdout",
     "output_type": "stream",
     "text": [
      "Adjusting learning rate of group 0 to 1.0000e-02.\n",
      "Epoch 69\n",
      "Accuracy: 0.9348 | Train loss: 0.09703410932540893 | Valid loss: 0.20214289950728417\n",
      "YES\n"
     ]
    },
    {
     "name": "stderr",
     "output_type": "stream",
     "text": [
      "100%|██████████| 391/391 [00:43<00:00,  9.09it/s]\n",
      "100%|██████████| 79/79 [00:02<00:00, 27.82it/s]\n"
     ]
    },
    {
     "name": "stdout",
     "output_type": "stream",
     "text": [
      "Adjusting learning rate of group 0 to 1.0000e-02.\n",
      "Epoch 70\n",
      "Accuracy: 0.9355 | Train loss: 0.08301573364973068 | Valid loss: 0.1974721940279007\n",
      "YES\n"
     ]
    },
    {
     "name": "stderr",
     "output_type": "stream",
     "text": [
      "100%|██████████| 391/391 [00:41<00:00,  9.36it/s]\n",
      "100%|██████████| 79/79 [00:02<00:00, 27.69it/s]\n"
     ]
    },
    {
     "name": "stdout",
     "output_type": "stream",
     "text": [
      "Adjusting learning rate of group 0 to 1.0000e-02.\n",
      "Epoch 71\n",
      "Accuracy: 0.9372 | Train loss: 0.07051166559576988 | Valid loss: 0.20411776905059814\n",
      "YES\n"
     ]
    },
    {
     "name": "stderr",
     "output_type": "stream",
     "text": [
      "100%|██████████| 391/391 [00:42<00:00,  9.27it/s]\n",
      "100%|██████████| 79/79 [00:02<00:00, 27.44it/s]"
     ]
    },
    {
     "name": "stdout",
     "output_type": "stream",
     "text": [
      "Adjusting learning rate of group 0 to 1.0000e-02.\n",
      "Epoch 72\n",
      "Accuracy: 0.936 | Train loss: 0.06516830889940262 | Valid loss: 0.20809502005577088\n"
     ]
    },
    {
     "name": "stderr",
     "output_type": "stream",
     "text": [
      "\n",
      "100%|██████████| 391/391 [00:42<00:00,  9.13it/s]\n",
      "100%|██████████| 79/79 [00:03<00:00, 25.69it/s]\n"
     ]
    },
    {
     "name": "stdout",
     "output_type": "stream",
     "text": [
      "Adjusting learning rate of group 0 to 1.0000e-02.\n",
      "Epoch 73\n",
      "Accuracy: 0.9374 | Train loss: 0.05773612747907639 | Valid loss: 0.20663446922302245\n",
      "YES\n"
     ]
    },
    {
     "name": "stderr",
     "output_type": "stream",
     "text": [
      "100%|██████████| 391/391 [00:41<00:00,  9.36it/s]\n",
      "100%|██████████| 79/79 [00:02<00:00, 28.20it/s]"
     ]
    },
    {
     "name": "stdout",
     "output_type": "stream",
     "text": [
      "Adjusting learning rate of group 0 to 1.0000e-02.\n",
      "Epoch 74\n",
      "Accuracy: 0.9362 | Train loss: 0.051504165008068085 | Valid loss: 0.20849991443157195\n"
     ]
    },
    {
     "name": "stderr",
     "output_type": "stream",
     "text": [
      "\n",
      "100%|██████████| 391/391 [00:41<00:00,  9.35it/s]\n",
      "100%|██████████| 79/79 [00:02<00:00, 29.49it/s]"
     ]
    },
    {
     "name": "stdout",
     "output_type": "stream",
     "text": [
      "Adjusting learning rate of group 0 to 1.0000e-02.\n",
      "Epoch 75\n",
      "Accuracy: 0.9347 | Train loss: 0.048649825115203854 | Valid loss: 0.21574120918661355\n"
     ]
    },
    {
     "name": "stderr",
     "output_type": "stream",
     "text": [
      "\n",
      "100%|██████████| 391/391 [00:42<00:00,  9.26it/s]\n",
      "100%|██████████| 79/79 [00:03<00:00, 20.56it/s]\n"
     ]
    },
    {
     "name": "stdout",
     "output_type": "stream",
     "text": [
      "Adjusting learning rate of group 0 to 1.0000e-02.\n",
      "Epoch 76\n",
      "Accuracy: 0.9383 | Train loss: 0.04282715301632881 | Valid loss: 0.21078484877347947\n",
      "YES\n"
     ]
    },
    {
     "name": "stderr",
     "output_type": "stream",
     "text": [
      "100%|██████████| 391/391 [00:42<00:00,  9.30it/s]\n",
      "100%|██████████| 79/79 [00:03<00:00, 21.54it/s]\n"
     ]
    },
    {
     "name": "stdout",
     "output_type": "stream",
     "text": [
      "Adjusting learning rate of group 0 to 1.0000e-02.\n",
      "Epoch 77\n",
      "Accuracy: 0.941 | Train loss: 0.04194215759396553 | Valid loss: 0.21080799185037613\n",
      "YES\n"
     ]
    },
    {
     "name": "stderr",
     "output_type": "stream",
     "text": [
      "100%|██████████| 391/391 [00:41<00:00,  9.36it/s]\n",
      "100%|██████████| 79/79 [00:02<00:00, 28.67it/s]"
     ]
    },
    {
     "name": "stdout",
     "output_type": "stream",
     "text": [
      "Adjusting learning rate of group 0 to 1.0000e-02.\n",
      "Epoch 78\n",
      "Accuracy: 0.9379 | Train loss: 0.03767947297334671 | Valid loss: 0.21616976864337922\n"
     ]
    },
    {
     "name": "stderr",
     "output_type": "stream",
     "text": [
      "\n",
      "100%|██████████| 391/391 [00:42<00:00,  9.29it/s]\n",
      "100%|██████████| 79/79 [00:04<00:00, 17.83it/s]\n"
     ]
    },
    {
     "name": "stdout",
     "output_type": "stream",
     "text": [
      "Adjusting learning rate of group 0 to 1.0000e-02.\n",
      "Epoch 79\n",
      "Accuracy: 0.9382 | Train loss: 0.03682138017058372 | Valid loss: 0.217603800201416\n"
     ]
    },
    {
     "name": "stderr",
     "output_type": "stream",
     "text": [
      "100%|██████████| 391/391 [00:42<00:00,  9.15it/s]\n",
      "100%|██████████| 79/79 [00:02<00:00, 29.74it/s]"
     ]
    },
    {
     "name": "stdout",
     "output_type": "stream",
     "text": [
      "Adjusting learning rate of group 0 to 1.0000e-02.\n",
      "Epoch 80\n",
      "Accuracy: 0.9365 | Train loss: 0.034989568984508515 | Valid loss: 0.22287547615021466\n"
     ]
    },
    {
     "name": "stderr",
     "output_type": "stream",
     "text": [
      "\n",
      "100%|██████████| 391/391 [00:41<00:00,  9.37it/s]\n",
      "100%|██████████| 79/79 [00:02<00:00, 28.64it/s]"
     ]
    },
    {
     "name": "stdout",
     "output_type": "stream",
     "text": [
      "Adjusting learning rate of group 0 to 1.0000e-02.\n",
      "Epoch 81\n",
      "Accuracy: 0.9331 | Train loss: 0.03398169259250164 | Valid loss: 0.23675037817955016\n"
     ]
    },
    {
     "name": "stderr",
     "output_type": "stream",
     "text": [
      "\n",
      "100%|██████████| 391/391 [00:41<00:00,  9.38it/s]\n",
      "100%|██████████| 79/79 [00:02<00:00, 28.09it/s]"
     ]
    },
    {
     "name": "stdout",
     "output_type": "stream",
     "text": [
      "Adjusting learning rate of group 0 to 1.0000e-02.\n",
      "Epoch 82\n",
      "Accuracy: 0.9354 | Train loss: 0.034195484389066694 | Valid loss: 0.23326510933041572\n"
     ]
    },
    {
     "name": "stderr",
     "output_type": "stream",
     "text": [
      "\n",
      "100%|██████████| 391/391 [00:41<00:00,  9.34it/s]\n",
      "100%|██████████| 79/79 [00:02<00:00, 29.27it/s]"
     ]
    },
    {
     "name": "stdout",
     "output_type": "stream",
     "text": [
      "Adjusting learning rate of group 0 to 1.0000e-02.\n",
      "Epoch 83\n",
      "Accuracy: 0.9337 | Train loss: 0.032715366178154945 | Valid loss: 0.23590620483160019\n"
     ]
    },
    {
     "name": "stderr",
     "output_type": "stream",
     "text": [
      "\n",
      "100%|██████████| 391/391 [00:41<00:00,  9.35it/s]\n",
      "100%|██████████| 79/79 [00:03<00:00, 25.28it/s]"
     ]
    },
    {
     "name": "stdout",
     "output_type": "stream",
     "text": [
      "Adjusting learning rate of group 0 to 1.0000e-02.\n",
      "Epoch 84\n",
      "Accuracy: 0.9362 | Train loss: 0.031023326303958893 | Valid loss: 0.23388412985801696\n"
     ]
    },
    {
     "name": "stderr",
     "output_type": "stream",
     "text": [
      "\n",
      "100%|██████████| 391/391 [00:41<00:00,  9.34it/s]\n",
      "100%|██████████| 79/79 [00:03<00:00, 21.39it/s]"
     ]
    },
    {
     "name": "stdout",
     "output_type": "stream",
     "text": [
      "Adjusting learning rate of group 0 to 1.0000e-02.\n",
      "Epoch 85\n",
      "Accuracy: 0.9313 | Train loss: 0.03169098436892032 | Valid loss: 0.2650348823547363\n"
     ]
    },
    {
     "name": "stderr",
     "output_type": "stream",
     "text": [
      "\n",
      "100%|██████████| 391/391 [00:42<00:00,  9.19it/s]\n",
      "100%|██████████| 79/79 [00:04<00:00, 19.60it/s]"
     ]
    },
    {
     "name": "stdout",
     "output_type": "stream",
     "text": [
      "Adjusting learning rate of group 0 to 1.0000e-02.\n",
      "Epoch 86\n",
      "Accuracy: 0.9376 | Train loss: 0.03385820872306824 | Valid loss: 0.2333825558900833\n"
     ]
    },
    {
     "name": "stderr",
     "output_type": "stream",
     "text": [
      "\n",
      "100%|██████████| 391/391 [00:41<00:00,  9.38it/s]\n",
      "100%|██████████| 79/79 [00:02<00:00, 28.56it/s]"
     ]
    },
    {
     "name": "stdout",
     "output_type": "stream",
     "text": [
      "Adjusting learning rate of group 0 to 1.0000e-02.\n",
      "Epoch 87\n",
      "Accuracy: 0.9326 | Train loss: 0.033284103563427925 | Valid loss: 0.2451298954486847\n"
     ]
    },
    {
     "name": "stderr",
     "output_type": "stream",
     "text": [
      "\n",
      "100%|██████████| 391/391 [00:41<00:00,  9.36it/s]\n",
      "100%|██████████| 79/79 [00:02<00:00, 27.37it/s]"
     ]
    },
    {
     "name": "stdout",
     "output_type": "stream",
     "text": [
      "Adjusting learning rate of group 0 to 1.0000e-02.\n",
      "Epoch 88\n",
      "Accuracy: 0.9331 | Train loss: 0.03274484815955162 | Valid loss: 0.24152571759223937\n"
     ]
    },
    {
     "name": "stderr",
     "output_type": "stream",
     "text": [
      "\n",
      "100%|██████████| 391/391 [00:41<00:00,  9.35it/s]\n",
      "100%|██████████| 79/79 [00:02<00:00, 27.30it/s]"
     ]
    },
    {
     "name": "stdout",
     "output_type": "stream",
     "text": [
      "Adjusting learning rate of group 0 to 1.0000e-02.\n",
      "Epoch 89\n",
      "Accuracy: 0.9326 | Train loss: 0.031125562471151353 | Valid loss: 0.24286861881017685\n"
     ]
    },
    {
     "name": "stderr",
     "output_type": "stream",
     "text": [
      "\n",
      "100%|██████████| 391/391 [00:41<00:00,  9.37it/s]\n",
      "100%|██████████| 79/79 [00:02<00:00, 27.71it/s]"
     ]
    },
    {
     "name": "stdout",
     "output_type": "stream",
     "text": [
      "Adjusting learning rate of group 0 to 1.0000e-02.\n",
      "Epoch 90\n",
      "Accuracy: 0.9381 | Train loss: 0.03280579519212246 | Valid loss: 0.2348910439968109\n"
     ]
    },
    {
     "name": "stderr",
     "output_type": "stream",
     "text": [
      "\n",
      "100%|██████████| 391/391 [00:41<00:00,  9.31it/s]\n",
      "100%|██████████| 79/79 [00:03<00:00, 20.08it/s]"
     ]
    },
    {
     "name": "stdout",
     "output_type": "stream",
     "text": [
      "Adjusting learning rate of group 0 to 1.0000e-02.\n",
      "Epoch 91\n",
      "Accuracy: 0.9339 | Train loss: 0.032200012199282646 | Valid loss: 0.24111493599414827\n"
     ]
    },
    {
     "name": "stderr",
     "output_type": "stream",
     "text": [
      "\n",
      "100%|██████████| 391/391 [00:42<00:00,  9.13it/s]\n",
      "100%|██████████| 79/79 [00:03<00:00, 20.67it/s]"
     ]
    },
    {
     "name": "stdout",
     "output_type": "stream",
     "text": [
      "Adjusting learning rate of group 0 to 1.0000e-02.\n",
      "Epoch 92\n",
      "Accuracy: 0.9323 | Train loss: 0.03562200889110565 | Valid loss: 0.2643372323989868\n"
     ]
    },
    {
     "name": "stderr",
     "output_type": "stream",
     "text": [
      "\n",
      "100%|██████████| 391/391 [00:41<00:00,  9.35it/s]\n",
      "100%|██████████| 79/79 [00:02<00:00, 28.81it/s]"
     ]
    },
    {
     "name": "stdout",
     "output_type": "stream",
     "text": [
      "Adjusting learning rate of group 0 to 1.0000e-02.\n",
      "Epoch 93\n",
      "Accuracy: 0.9356 | Train loss: 0.034188297357559204 | Valid loss: 0.24152012839317322\n"
     ]
    },
    {
     "name": "stderr",
     "output_type": "stream",
     "text": [
      "\n",
      "100%|██████████| 391/391 [00:41<00:00,  9.34it/s]\n",
      "100%|██████████| 79/79 [00:02<00:00, 28.93it/s]"
     ]
    },
    {
     "name": "stdout",
     "output_type": "stream",
     "text": [
      "Adjusting learning rate of group 0 to 1.0000e-02.\n",
      "Epoch 94\n",
      "Accuracy: 0.9312 | Train loss: 0.03231097371995449 | Valid loss: 0.26495642325878144\n"
     ]
    },
    {
     "name": "stderr",
     "output_type": "stream",
     "text": [
      "\n",
      "100%|██████████| 391/391 [00:41<00:00,  9.33it/s]\n",
      "100%|██████████| 79/79 [00:03<00:00, 24.75it/s]\n"
     ]
    },
    {
     "name": "stdout",
     "output_type": "stream",
     "text": [
      "Adjusting learning rate of group 0 to 1.0000e-02.\n",
      "Epoch 95\n",
      "Accuracy: 0.9339 | Train loss: 0.03618316739082336 | Valid loss: 0.2344996047794819\n"
     ]
    },
    {
     "name": "stderr",
     "output_type": "stream",
     "text": [
      "100%|██████████| 391/391 [00:41<00:00,  9.37it/s]\n",
      "100%|██████████| 79/79 [00:02<00:00, 27.59it/s]"
     ]
    },
    {
     "name": "stdout",
     "output_type": "stream",
     "text": [
      "Adjusting learning rate of group 0 to 1.0000e-02.\n",
      "Epoch 96\n",
      "Accuracy: 0.9267 | Train loss: 0.0386773416852951 | Valid loss: 0.2686922323834151\n"
     ]
    },
    {
     "name": "stderr",
     "output_type": "stream",
     "text": [
      "\n",
      "100%|██████████| 391/391 [00:41<00:00,  9.34it/s]\n",
      "100%|██████████| 79/79 [00:03<00:00, 21.01it/s]"
     ]
    },
    {
     "name": "stdout",
     "output_type": "stream",
     "text": [
      "Adjusting learning rate of group 0 to 1.0000e-02.\n",
      "Epoch 97\n",
      "Accuracy: 0.9306 | Train loss: 0.037687387545108794 | Valid loss: 0.24255521552562714\n"
     ]
    },
    {
     "name": "stderr",
     "output_type": "stream",
     "text": [
      "\n",
      "100%|██████████| 391/391 [00:42<00:00,  9.11it/s]\n",
      "100%|██████████| 79/79 [00:02<00:00, 28.29it/s]"
     ]
    },
    {
     "name": "stdout",
     "output_type": "stream",
     "text": [
      "Adjusting learning rate of group 0 to 1.0000e-02.\n",
      "Epoch 98\n",
      "Accuracy: 0.9326 | Train loss: 0.03746341869771481 | Valid loss: 0.24903934909105302\n"
     ]
    },
    {
     "name": "stderr",
     "output_type": "stream",
     "text": [
      "\n",
      "100%|██████████| 391/391 [00:41<00:00,  9.33it/s]\n",
      "100%|██████████| 79/79 [00:02<00:00, 28.80it/s]"
     ]
    },
    {
     "name": "stdout",
     "output_type": "stream",
     "text": [
      "Adjusting learning rate of group 0 to 1.0000e-02.\n",
      "Epoch 99\n",
      "Accuracy: 0.9296 | Train loss: 0.03922261388659477 | Valid loss: 0.252901143682003\n"
     ]
    },
    {
     "name": "stderr",
     "output_type": "stream",
     "text": [
      "\n",
      "100%|██████████| 391/391 [00:41<00:00,  9.37it/s]\n",
      "100%|██████████| 79/79 [00:03<00:00, 24.79it/s]"
     ]
    },
    {
     "name": "stdout",
     "output_type": "stream",
     "text": [
      "Adjusting learning rate of group 0 to 1.0000e-02.\n",
      "Epoch 100\n",
      "Accuracy: 0.9286 | Train loss: 0.037787252416014674 | Valid loss: 0.2677501609802246\n"
     ]
    },
    {
     "name": "stderr",
     "output_type": "stream",
     "text": [
      "\n",
      "100%|██████████| 391/391 [00:42<00:00,  9.30it/s]\n",
      "100%|██████████| 79/79 [00:03<00:00, 25.38it/s]"
     ]
    },
    {
     "name": "stdout",
     "output_type": "stream",
     "text": [
      "Adjusting learning rate of group 0 to 1.0000e-02.\n",
      "Epoch 101\n",
      "Accuracy: 0.9294 | Train loss: 0.042522804375886916 | Valid loss: 0.24736042413711548\n"
     ]
    },
    {
     "name": "stderr",
     "output_type": "stream",
     "text": [
      "\n",
      "100%|██████████| 391/391 [00:41<00:00,  9.35it/s]\n",
      "100%|██████████| 79/79 [00:03<00:00, 24.98it/s]"
     ]
    },
    {
     "name": "stdout",
     "output_type": "stream",
     "text": [
      "Adjusting learning rate of group 0 to 1.0000e-02.\n",
      "Epoch 102\n",
      "Accuracy: 0.9316 | Train loss: 0.04056176766812802 | Valid loss: 0.24472329885959626\n"
     ]
    },
    {
     "name": "stderr",
     "output_type": "stream",
     "text": [
      "\n",
      "100%|██████████| 391/391 [00:41<00:00,  9.36it/s]\n",
      "100%|██████████| 79/79 [00:04<00:00, 17.30it/s]"
     ]
    },
    {
     "name": "stdout",
     "output_type": "stream",
     "text": [
      "Adjusting learning rate of group 0 to 1.0000e-02.\n",
      "Epoch 103\n",
      "Accuracy: 0.9328 | Train loss: 0.040013995804786685 | Valid loss: 0.2489191229969263\n"
     ]
    },
    {
     "name": "stderr",
     "output_type": "stream",
     "text": [
      "\n",
      "100%|██████████| 391/391 [00:43<00:00,  9.08it/s]\n",
      "100%|██████████| 79/79 [00:02<00:00, 29.20it/s]"
     ]
    },
    {
     "name": "stdout",
     "output_type": "stream",
     "text": [
      "Adjusting learning rate of group 0 to 1.0000e-02.\n",
      "Epoch 104\n",
      "Accuracy: 0.9212 | Train loss: 0.04307626411139965 | Valid loss: 0.29561476197242736\n"
     ]
    },
    {
     "name": "stderr",
     "output_type": "stream",
     "text": [
      "\n",
      "100%|██████████| 391/391 [00:41<00:00,  9.37it/s]\n",
      "100%|██████████| 79/79 [00:02<00:00, 28.12it/s]\n"
     ]
    },
    {
     "name": "stdout",
     "output_type": "stream",
     "text": [
      "Adjusting learning rate of group 0 to 1.0000e-02.\n",
      "Epoch 105\n",
      "Accuracy: 0.9178 | Train loss: 0.043726953743696215 | Valid loss: 0.2987843173503876\n"
     ]
    },
    {
     "name": "stderr",
     "output_type": "stream",
     "text": [
      "100%|██████████| 391/391 [00:41<00:00,  9.34it/s]\n",
      "100%|██████████| 79/79 [00:02<00:00, 26.57it/s]"
     ]
    },
    {
     "name": "stdout",
     "output_type": "stream",
     "text": [
      "Adjusting learning rate of group 0 to 1.0000e-02.\n",
      "Epoch 106\n",
      "Accuracy: 0.9269 | Train loss: 0.046658672872781755 | Valid loss: 0.2597659203529358\n"
     ]
    },
    {
     "name": "stderr",
     "output_type": "stream",
     "text": [
      "\n",
      "100%|██████████| 391/391 [00:41<00:00,  9.35it/s]\n",
      "100%|██████████| 79/79 [00:02<00:00, 27.64it/s]"
     ]
    },
    {
     "name": "stdout",
     "output_type": "stream",
     "text": [
      "Adjusting learning rate of group 0 to 1.0000e-02.\n",
      "Epoch 107\n",
      "Accuracy: 0.9215 | Train loss: 0.04268186077713967 | Valid loss: 0.2881122531890869\n"
     ]
    },
    {
     "name": "stderr",
     "output_type": "stream",
     "text": [
      "\n",
      "100%|██████████| 391/391 [00:41<00:00,  9.35it/s]\n",
      "100%|██████████| 79/79 [00:02<00:00, 27.72it/s]"
     ]
    },
    {
     "name": "stdout",
     "output_type": "stream",
     "text": [
      "Adjusting learning rate of group 0 to 1.0000e-02.\n",
      "Epoch 108\n",
      "Accuracy: 0.9244 | Train loss: 0.04154747075378895 | Valid loss: 0.26204949493408203\n"
     ]
    },
    {
     "name": "stderr",
     "output_type": "stream",
     "text": [
      "\n",
      "100%|██████████| 391/391 [00:41<00:00,  9.36it/s]\n",
      "100%|██████████| 79/79 [00:03<00:00, 25.85it/s]"
     ]
    },
    {
     "name": "stdout",
     "output_type": "stream",
     "text": [
      "Adjusting learning rate of group 0 to 1.0000e-02.\n",
      "Epoch 109\n",
      "Accuracy: 0.928 | Train loss: 0.04324744005918503 | Valid loss: 0.2709581227302551\n"
     ]
    },
    {
     "name": "stderr",
     "output_type": "stream",
     "text": [
      "\n",
      "100%|██████████| 391/391 [00:42<00:00,  9.13it/s]\n",
      "100%|██████████| 79/79 [00:03<00:00, 20.93it/s]"
     ]
    },
    {
     "name": "stdout",
     "output_type": "stream",
     "text": [
      "Adjusting learning rate of group 0 to 1.0000e-02.\n",
      "Epoch 110\n",
      "Accuracy: 0.92 | Train loss: 0.04663406803131104 | Valid loss: 0.2883493763923645\n"
     ]
    },
    {
     "name": "stderr",
     "output_type": "stream",
     "text": [
      "\n",
      "100%|██████████| 391/391 [00:41<00:00,  9.35it/s]\n",
      "100%|██████████| 79/79 [00:03<00:00, 22.71it/s]"
     ]
    },
    {
     "name": "stdout",
     "output_type": "stream",
     "text": [
      "Adjusting learning rate of group 0 to 1.0000e-02.\n",
      "Epoch 111\n",
      "Accuracy: 0.9168 | Train loss: 0.0444071563911438 | Valid loss: 0.3040198025584221\n"
     ]
    },
    {
     "name": "stderr",
     "output_type": "stream",
     "text": [
      "\n",
      "100%|██████████| 391/391 [00:41<00:00,  9.37it/s]\n",
      "100%|██████████| 79/79 [00:02<00:00, 28.95it/s]"
     ]
    },
    {
     "name": "stdout",
     "output_type": "stream",
     "text": [
      "Adjusting learning rate of group 0 to 1.0000e-02.\n",
      "Epoch 112\n",
      "Accuracy: 0.9204 | Train loss: 0.048342835626602174 | Valid loss: 0.3036846751689911\n"
     ]
    },
    {
     "name": "stderr",
     "output_type": "stream",
     "text": [
      "\n",
      "100%|██████████| 391/391 [00:41<00:00,  9.35it/s]\n",
      "100%|██████████| 79/79 [00:02<00:00, 28.07it/s]\n"
     ]
    },
    {
     "name": "stdout",
     "output_type": "stream",
     "text": [
      "Adjusting learning rate of group 0 to 1.0000e-02.\n",
      "Epoch 113\n",
      "Accuracy: 0.9236 | Train loss: 0.04580453469514847 | Valid loss: 0.27252536573410036\n"
     ]
    },
    {
     "name": "stderr",
     "output_type": "stream",
     "text": [
      "100%|██████████| 391/391 [00:41<00:00,  9.33it/s]\n",
      "100%|██████████| 79/79 [00:02<00:00, 28.53it/s]"
     ]
    },
    {
     "name": "stdout",
     "output_type": "stream",
     "text": [
      "Adjusting learning rate of group 0 to 1.0000e-02.\n",
      "Epoch 114\n",
      "Accuracy: 0.9201 | Train loss: 0.0454519022911787 | Valid loss: 0.2813407311916351\n"
     ]
    },
    {
     "name": "stderr",
     "output_type": "stream",
     "text": [
      "\n",
      "100%|██████████| 391/391 [00:41<00:00,  9.36it/s]\n",
      "100%|██████████| 79/79 [00:02<00:00, 28.11it/s]"
     ]
    },
    {
     "name": "stdout",
     "output_type": "stream",
     "text": [
      "Adjusting learning rate of group 0 to 1.0000e-02.\n",
      "Epoch 115\n",
      "Accuracy: 0.9269 | Train loss: 0.04783259730696678 | Valid loss: 0.26795909321308137\n"
     ]
    },
    {
     "name": "stderr",
     "output_type": "stream",
     "text": [
      "\n",
      "100%|██████████| 391/391 [00:42<00:00,  9.16it/s]\n",
      "100%|██████████| 79/79 [00:03<00:00, 20.09it/s]"
     ]
    },
    {
     "name": "stdout",
     "output_type": "stream",
     "text": [
      "Adjusting learning rate of group 0 to 1.0000e-02.\n",
      "Epoch 116\n",
      "Accuracy: 0.9259 | Train loss: 0.0456548866802454 | Valid loss: 0.2761529573917389\n"
     ]
    },
    {
     "name": "stderr",
     "output_type": "stream",
     "text": [
      "\n",
      "100%|██████████| 391/391 [00:42<00:00,  9.21it/s]\n",
      "100%|██████████| 79/79 [00:02<00:00, 27.44it/s]"
     ]
    },
    {
     "name": "stdout",
     "output_type": "stream",
     "text": [
      "Adjusting learning rate of group 0 to 1.0000e-02.\n",
      "Epoch 117\n",
      "Accuracy: 0.9248 | Train loss: 0.04921196135997772 | Valid loss: 0.26396603701114657\n"
     ]
    },
    {
     "name": "stderr",
     "output_type": "stream",
     "text": [
      "\n",
      "100%|██████████| 391/391 [00:41<00:00,  9.38it/s]\n",
      "100%|██████████| 79/79 [00:03<00:00, 23.21it/s]"
     ]
    },
    {
     "name": "stdout",
     "output_type": "stream",
     "text": [
      "Adjusting learning rate of group 0 to 1.0000e-02.\n",
      "Epoch 118\n",
      "Accuracy: 0.9259 | Train loss: 0.0457119859200716 | Valid loss: 0.27148442182540894\n"
     ]
    },
    {
     "name": "stderr",
     "output_type": "stream",
     "text": [
      "\n",
      "100%|██████████| 391/391 [00:41<00:00,  9.36it/s]\n",
      "100%|██████████| 79/79 [00:03<00:00, 21.79it/s]"
     ]
    },
    {
     "name": "stdout",
     "output_type": "stream",
     "text": [
      "Adjusting learning rate of group 0 to 1.0000e-02.\n",
      "Epoch 119\n",
      "Accuracy: 0.9298 | Train loss: 0.04473958231568337 | Valid loss: 0.2631996299505234\n"
     ]
    },
    {
     "name": "stderr",
     "output_type": "stream",
     "text": [
      "\n",
      "100%|██████████| 391/391 [00:41<00:00,  9.36it/s]\n",
      "100%|██████████| 79/79 [00:02<00:00, 28.88it/s]"
     ]
    },
    {
     "name": "stdout",
     "output_type": "stream",
     "text": [
      "Adjusting learning rate of group 0 to 1.0000e-02.\n",
      "Epoch 120\n",
      "Accuracy: 0.9233 | Train loss: 0.0429119287109375 | Valid loss: 0.2800796724319458\n"
     ]
    },
    {
     "name": "stderr",
     "output_type": "stream",
     "text": [
      "\n",
      "100%|██████████| 391/391 [00:41<00:00,  9.37it/s]\n",
      "100%|██████████| 79/79 [00:02<00:00, 28.72it/s]"
     ]
    },
    {
     "name": "stdout",
     "output_type": "stream",
     "text": [
      "Adjusting learning rate of group 0 to 1.0000e-02.\n",
      "Epoch 121\n",
      "Accuracy: 0.9288 | Train loss: 0.04421363895535469 | Valid loss: 0.26167529598474504\n"
     ]
    },
    {
     "name": "stderr",
     "output_type": "stream",
     "text": [
      "\n",
      "100%|██████████| 391/391 [00:42<00:00,  9.25it/s]\n",
      "100%|██████████| 79/79 [00:04<00:00, 17.69it/s]"
     ]
    },
    {
     "name": "stdout",
     "output_type": "stream",
     "text": [
      "Adjusting learning rate of group 0 to 1.0000e-02.\n",
      "Epoch 122\n",
      "Accuracy: 0.9242 | Train loss: 0.04657708010405302 | Valid loss: 0.27797185621261594\n"
     ]
    },
    {
     "name": "stderr",
     "output_type": "stream",
     "text": [
      "\n",
      "100%|██████████| 391/391 [00:42<00:00,  9.14it/s]\n",
      "100%|██████████| 79/79 [00:02<00:00, 27.20it/s]"
     ]
    },
    {
     "name": "stdout",
     "output_type": "stream",
     "text": [
      "Adjusting learning rate of group 0 to 1.0000e-02.\n",
      "Epoch 123\n",
      "Accuracy: 0.9221 | Train loss: 0.042788916653394696 | Valid loss: 0.2932926582336426\n"
     ]
    },
    {
     "name": "stderr",
     "output_type": "stream",
     "text": [
      "\n",
      "100%|██████████| 391/391 [00:41<00:00,  9.36it/s]\n",
      "100%|██████████| 79/79 [00:02<00:00, 28.86it/s]"
     ]
    },
    {
     "name": "stdout",
     "output_type": "stream",
     "text": [
      "Adjusting learning rate of group 0 to 1.0000e-02.\n",
      "Epoch 124\n",
      "Accuracy: 0.9208 | Train loss: 0.049301115106344225 | Valid loss: 0.29661259021759034\n"
     ]
    },
    {
     "name": "stderr",
     "output_type": "stream",
     "text": [
      "\n",
      "100%|██████████| 391/391 [00:41<00:00,  9.37it/s]\n",
      "100%|██████████| 79/79 [00:02<00:00, 27.86it/s]"
     ]
    },
    {
     "name": "stdout",
     "output_type": "stream",
     "text": [
      "Adjusting learning rate of group 0 to 1.0000e-02.\n",
      "Epoch 125\n",
      "Accuracy: 0.9255 | Train loss: 0.04800015807747841 | Valid loss: 0.2704360863633454\n"
     ]
    },
    {
     "name": "stderr",
     "output_type": "stream",
     "text": [
      "\n",
      "100%|██████████| 391/391 [00:41<00:00,  9.35it/s]\n",
      "100%|██████████| 79/79 [00:02<00:00, 27.64it/s]"
     ]
    },
    {
     "name": "stdout",
     "output_type": "stream",
     "text": [
      "Adjusting learning rate of group 0 to 1.0000e-02.\n",
      "Epoch 126\n",
      "Accuracy: 0.9199 | Train loss: 0.04601569169878959 | Valid loss: 0.2898158845424652\n"
     ]
    },
    {
     "name": "stderr",
     "output_type": "stream",
     "text": [
      "\n",
      "100%|██████████| 391/391 [00:41<00:00,  9.37it/s]\n",
      "100%|██████████| 79/79 [00:03<00:00, 25.66it/s]"
     ]
    },
    {
     "name": "stdout",
     "output_type": "stream",
     "text": [
      "Adjusting learning rate of group 0 to 1.0000e-02.\n",
      "Epoch 127\n",
      "Accuracy: 0.9281 | Train loss: 0.04973309401392937 | Valid loss: 0.268314204788208\n"
     ]
    },
    {
     "name": "stderr",
     "output_type": "stream",
     "text": [
      "\n",
      "100%|██████████| 391/391 [00:41<00:00,  9.37it/s]\n",
      "100%|██████████| 79/79 [00:04<00:00, 19.12it/s]"
     ]
    },
    {
     "name": "stdout",
     "output_type": "stream",
     "text": [
      "Adjusting learning rate of group 0 to 1.0000e-02.\n",
      "Epoch 128\n",
      "Accuracy: 0.9253 | Train loss: 0.04796343809247017 | Valid loss: 0.270948419380188\n"
     ]
    },
    {
     "name": "stderr",
     "output_type": "stream",
     "text": [
      "\n",
      "100%|██████████| 391/391 [00:43<00:00,  8.96it/s]\n",
      "100%|██████████| 79/79 [00:03<00:00, 22.48it/s]"
     ]
    },
    {
     "name": "stdout",
     "output_type": "stream",
     "text": [
      "Adjusting learning rate of group 0 to 1.0000e-02.\n",
      "Epoch 129\n",
      "Accuracy: 0.9283 | Train loss: 0.04584631881475448 | Valid loss: 0.264988193321228\n"
     ]
    },
    {
     "name": "stderr",
     "output_type": "stream",
     "text": [
      "\n",
      "100%|██████████| 391/391 [00:41<00:00,  9.36it/s]\n",
      "100%|██████████| 79/79 [00:02<00:00, 27.38it/s]"
     ]
    },
    {
     "name": "stdout",
     "output_type": "stream",
     "text": [
      "Adjusting learning rate of group 0 to 1.0000e-02.\n",
      "Epoch 130\n",
      "Accuracy: 0.9229 | Train loss: 0.045811643857955935 | Valid loss: 0.27030966143608093\n"
     ]
    },
    {
     "name": "stderr",
     "output_type": "stream",
     "text": [
      "\n",
      "100%|██████████| 391/391 [00:41<00:00,  9.36it/s]\n",
      "100%|██████████| 79/79 [00:02<00:00, 28.12it/s]"
     ]
    },
    {
     "name": "stdout",
     "output_type": "stream",
     "text": [
      "Adjusting learning rate of group 0 to 1.0000e-02.\n",
      "Epoch 131\n",
      "Accuracy: 0.9274 | Train loss: 0.04453987141609192 | Valid loss: 0.2596214161872864\n"
     ]
    },
    {
     "name": "stderr",
     "output_type": "stream",
     "text": [
      "\n",
      "100%|██████████| 391/391 [00:41<00:00,  9.38it/s]\n",
      "100%|██████████| 79/79 [00:03<00:00, 21.77it/s]"
     ]
    },
    {
     "name": "stdout",
     "output_type": "stream",
     "text": [
      "Adjusting learning rate of group 0 to 1.0000e-03.\n",
      "Epoch 132\n",
      "Accuracy: 0.9281 | Train loss: 0.04344957470297813 | Valid loss: 0.26831622648239134\n"
     ]
    },
    {
     "name": "stderr",
     "output_type": "stream",
     "text": [
      "\n",
      "100%|██████████| 391/391 [00:41<00:00,  9.34it/s]\n",
      "100%|██████████| 79/79 [00:02<00:00, 28.05it/s]\n"
     ]
    },
    {
     "name": "stdout",
     "output_type": "stream",
     "text": [
      "Adjusting learning rate of group 0 to 1.0000e-03.\n",
      "Epoch 133\n",
      "Accuracy: 0.9452 | Train loss: 0.021500593796670436 | Valid loss: 0.20174375867843627\n",
      "YES\n"
     ]
    },
    {
     "name": "stderr",
     "output_type": "stream",
     "text": [
      "100%|██████████| 391/391 [00:41<00:00,  9.32it/s]\n",
      "100%|██████████| 79/79 [00:03<00:00, 24.34it/s]\n"
     ]
    },
    {
     "name": "stdout",
     "output_type": "stream",
     "text": [
      "Adjusting learning rate of group 0 to 1.0000e-03.\n",
      "Epoch 134\n",
      "Accuracy: 0.9464 | Train loss: 0.011519385307133197 | Valid loss: 0.19905783038139344\n",
      "YES\n"
     ]
    },
    {
     "name": "stderr",
     "output_type": "stream",
     "text": [
      "100%|██████████| 391/391 [00:43<00:00,  9.08it/s]\n",
      "100%|██████████| 79/79 [00:04<00:00, 17.53it/s]\n"
     ]
    },
    {
     "name": "stdout",
     "output_type": "stream",
     "text": [
      "Adjusting learning rate of group 0 to 1.0000e-03.\n",
      "Epoch 135\n",
      "Accuracy: 0.9483 | Train loss: 0.009572240012586117 | Valid loss: 0.19511181592941285\n",
      "YES\n"
     ]
    },
    {
     "name": "stderr",
     "output_type": "stream",
     "text": [
      "100%|██████████| 391/391 [00:42<00:00,  9.23it/s]\n",
      "100%|██████████| 79/79 [00:02<00:00, 27.90it/s]\n"
     ]
    },
    {
     "name": "stdout",
     "output_type": "stream",
     "text": [
      "Adjusting learning rate of group 0 to 1.0000e-03.\n",
      "Epoch 136\n",
      "Accuracy: 0.9487 | Train loss: 0.007120297301113606 | Valid loss: 0.19637466678619384\n",
      "YES\n"
     ]
    },
    {
     "name": "stderr",
     "output_type": "stream",
     "text": [
      "100%|██████████| 391/391 [00:41<00:00,  9.36it/s]\n",
      "100%|██████████| 79/79 [00:02<00:00, 28.13it/s]\n"
     ]
    },
    {
     "name": "stdout",
     "output_type": "stream",
     "text": [
      "Adjusting learning rate of group 0 to 1.0000e-03.\n",
      "Epoch 137\n",
      "Accuracy: 0.9495 | Train loss: 0.006466780821979046 | Valid loss: 0.19582026047706605\n",
      "YES\n"
     ]
    },
    {
     "name": "stderr",
     "output_type": "stream",
     "text": [
      "100%|██████████| 391/391 [00:41<00:00,  9.32it/s]\n",
      "100%|██████████| 79/79 [00:02<00:00, 27.45it/s]\n"
     ]
    },
    {
     "name": "stdout",
     "output_type": "stream",
     "text": [
      "Adjusting learning rate of group 0 to 1.0000e-03.\n",
      "Epoch 138\n",
      "Accuracy: 0.9498 | Train loss: 0.005836580258905887 | Valid loss: 0.1958950152873993\n",
      "YES\n"
     ]
    },
    {
     "name": "stderr",
     "output_type": "stream",
     "text": [
      "100%|██████████| 391/391 [00:42<00:00,  9.31it/s]\n",
      "100%|██████████| 79/79 [00:02<00:00, 27.40it/s]"
     ]
    },
    {
     "name": "stdout",
     "output_type": "stream",
     "text": [
      "Adjusting learning rate of group 0 to 1.0000e-03.\n",
      "Epoch 139\n",
      "Accuracy: 0.9494 | Train loss: 0.005347544076889753 | Valid loss: 0.19576846680641175\n"
     ]
    },
    {
     "name": "stderr",
     "output_type": "stream",
     "text": [
      "\n",
      "100%|██████████| 391/391 [00:41<00:00,  9.35it/s]\n",
      "100%|██████████| 79/79 [00:02<00:00, 27.15it/s]\n"
     ]
    },
    {
     "name": "stdout",
     "output_type": "stream",
     "text": [
      "Adjusting learning rate of group 0 to 1.0000e-03.\n",
      "Epoch 140\n",
      "Accuracy: 0.95 | Train loss: 0.005261032569408417 | Valid loss: 0.19623714227676392\n",
      "YES\n"
     ]
    },
    {
     "name": "stderr",
     "output_type": "stream",
     "text": [
      "100%|██████████| 391/391 [00:42<00:00,  9.26it/s]\n",
      "100%|██████████| 79/79 [00:04<00:00, 18.70it/s]\n"
     ]
    },
    {
     "name": "stdout",
     "output_type": "stream",
     "text": [
      "Adjusting learning rate of group 0 to 1.0000e-03.\n",
      "Epoch 141\n",
      "Accuracy: 0.9504 | Train loss: 0.004595579119175673 | Valid loss: 0.19553184213638305\n",
      "YES\n"
     ]
    },
    {
     "name": "stderr",
     "output_type": "stream",
     "text": [
      "100%|██████████| 391/391 [00:43<00:00,  9.01it/s]\n",
      "100%|██████████| 79/79 [00:02<00:00, 28.13it/s]"
     ]
    },
    {
     "name": "stdout",
     "output_type": "stream",
     "text": [
      "Adjusting learning rate of group 0 to 1.0000e-03.\n",
      "Epoch 142\n",
      "Accuracy: 0.95 | Train loss: 0.0043124597553163765 | Valid loss: 0.19567607178688048\n"
     ]
    },
    {
     "name": "stderr",
     "output_type": "stream",
     "text": [
      "\n",
      "100%|██████████| 391/391 [00:41<00:00,  9.37it/s]\n",
      "100%|██████████| 79/79 [00:02<00:00, 27.76it/s]\n"
     ]
    },
    {
     "name": "stdout",
     "output_type": "stream",
     "text": [
      "Adjusting learning rate of group 0 to 1.0000e-03.\n",
      "Epoch 143\n",
      "Accuracy: 0.9505 | Train loss: 0.0040022208228707315 | Valid loss: 0.19539813165664674\n",
      "YES\n"
     ]
    },
    {
     "name": "stderr",
     "output_type": "stream",
     "text": [
      "100%|██████████| 391/391 [00:41<00:00,  9.36it/s]\n",
      "100%|██████████| 79/79 [00:03<00:00, 23.14it/s]"
     ]
    },
    {
     "name": "stdout",
     "output_type": "stream",
     "text": [
      "Adjusting learning rate of group 0 to 1.0000e-03.\n",
      "Epoch 144\n",
      "Accuracy: 0.9498 | Train loss: 0.0035351564252376557 | Valid loss: 0.19731579031944274\n"
     ]
    },
    {
     "name": "stderr",
     "output_type": "stream",
     "text": [
      "\n",
      "100%|██████████| 391/391 [00:41<00:00,  9.37it/s]\n",
      "100%|██████████| 79/79 [00:02<00:00, 28.18it/s]"
     ]
    },
    {
     "name": "stdout",
     "output_type": "stream",
     "text": [
      "Adjusting learning rate of group 0 to 1.0000e-03.\n",
      "Epoch 145\n",
      "Accuracy: 0.9494 | Train loss: 0.0034596090064942836 | Valid loss: 0.19564442176818847\n"
     ]
    },
    {
     "name": "stderr",
     "output_type": "stream",
     "text": [
      "\n",
      "100%|██████████| 391/391 [00:41<00:00,  9.38it/s]\n",
      "100%|██████████| 79/79 [00:02<00:00, 28.77it/s]\n"
     ]
    },
    {
     "name": "stdout",
     "output_type": "stream",
     "text": [
      "Adjusting learning rate of group 0 to 1.0000e-03.\n",
      "Epoch 146\n",
      "Accuracy: 0.9512 | Train loss: 0.003789559309706092 | Valid loss: 0.19616790580749513\n",
      "YES\n"
     ]
    },
    {
     "name": "stderr",
     "output_type": "stream",
     "text": [
      "100%|██████████| 391/391 [00:41<00:00,  9.37it/s]\n",
      "100%|██████████| 79/79 [00:02<00:00, 28.60it/s]"
     ]
    },
    {
     "name": "stdout",
     "output_type": "stream",
     "text": [
      "Adjusting learning rate of group 0 to 1.0000e-03.\n",
      "Epoch 147\n",
      "Accuracy: 0.9502 | Train loss: 0.0032234915164113045 | Valid loss: 0.1949833721637726\n"
     ]
    },
    {
     "name": "stderr",
     "output_type": "stream",
     "text": [
      "\n",
      "100%|██████████| 391/391 [00:43<00:00,  9.07it/s]\n",
      "100%|██████████| 79/79 [00:04<00:00, 18.66it/s]\n"
     ]
    },
    {
     "name": "stdout",
     "output_type": "stream",
     "text": [
      "Adjusting learning rate of group 0 to 1.0000e-03.\n",
      "Epoch 148\n",
      "Accuracy: 0.9516 | Train loss: 0.0030649099405109883 | Valid loss: 0.19304401359558104\n",
      "YES\n"
     ]
    },
    {
     "name": "stderr",
     "output_type": "stream",
     "text": [
      "100%|██████████| 391/391 [00:42<00:00,  9.28it/s]\n",
      "100%|██████████| 79/79 [00:03<00:00, 25.26it/s]"
     ]
    },
    {
     "name": "stdout",
     "output_type": "stream",
     "text": [
      "Adjusting learning rate of group 0 to 1.0000e-03.\n",
      "Epoch 149\n",
      "Accuracy: 0.9502 | Train loss: 0.0031179736490547657 | Valid loss: 0.19519275827407837\n"
     ]
    },
    {
     "name": "stderr",
     "output_type": "stream",
     "text": [
      "\n",
      "100%|██████████| 391/391 [00:41<00:00,  9.33it/s]\n",
      "100%|██████████| 79/79 [00:02<00:00, 28.37it/s]"
     ]
    },
    {
     "name": "stdout",
     "output_type": "stream",
     "text": [
      "Adjusting learning rate of group 0 to 1.0000e-03.\n",
      "Epoch 150\n",
      "Accuracy: 0.9505 | Train loss: 0.0027660099023580553 | Valid loss: 0.1968120988845825\n"
     ]
    },
    {
     "name": "stderr",
     "output_type": "stream",
     "text": [
      "\n",
      "100%|██████████| 391/391 [00:41<00:00,  9.37it/s]\n",
      "100%|██████████| 79/79 [00:02<00:00, 27.27it/s]"
     ]
    },
    {
     "name": "stdout",
     "output_type": "stream",
     "text": [
      "Adjusting learning rate of group 0 to 1.0000e-03.\n",
      "Epoch 151\n",
      "Accuracy: 0.9504 | Train loss: 0.003006893984526396 | Valid loss: 0.1959456178188324\n"
     ]
    },
    {
     "name": "stderr",
     "output_type": "stream",
     "text": [
      "\n",
      "100%|██████████| 391/391 [00:41<00:00,  9.36it/s]\n",
      "100%|██████████| 79/79 [00:02<00:00, 28.60it/s]"
     ]
    },
    {
     "name": "stdout",
     "output_type": "stream",
     "text": [
      "Adjusting learning rate of group 0 to 1.0000e-03.\n",
      "Epoch 152\n",
      "Accuracy: 0.9512 | Train loss: 0.00267379830352962 | Valid loss: 0.1948218623638153\n"
     ]
    },
    {
     "name": "stderr",
     "output_type": "stream",
     "text": [
      "\n",
      "100%|██████████| 391/391 [00:41<00:00,  9.38it/s]\n",
      "100%|██████████| 79/79 [00:02<00:00, 28.49it/s]"
     ]
    },
    {
     "name": "stdout",
     "output_type": "stream",
     "text": [
      "Adjusting learning rate of group 0 to 1.0000e-03.\n",
      "Epoch 153\n",
      "Accuracy: 0.9511 | Train loss: 0.0028522853684425356 | Valid loss: 0.19476208539009093\n"
     ]
    },
    {
     "name": "stderr",
     "output_type": "stream",
     "text": [
      "\n",
      "100%|██████████| 391/391 [00:42<00:00,  9.21it/s]\n",
      "100%|██████████| 79/79 [00:03<00:00, 22.29it/s]"
     ]
    },
    {
     "name": "stdout",
     "output_type": "stream",
     "text": [
      "Adjusting learning rate of group 0 to 1.0000e-03.\n",
      "Epoch 154\n",
      "Accuracy: 0.9511 | Train loss: 0.0024549471915513276 | Valid loss: 0.1928622857093811\n"
     ]
    },
    {
     "name": "stderr",
     "output_type": "stream",
     "text": [
      "\n",
      "100%|██████████| 391/391 [00:43<00:00,  9.08it/s]\n",
      "100%|██████████| 79/79 [00:02<00:00, 28.15it/s]"
     ]
    },
    {
     "name": "stdout",
     "output_type": "stream",
     "text": [
      "Adjusting learning rate of group 0 to 1.0000e-03.\n",
      "Epoch 155\n",
      "Accuracy: 0.951 | Train loss: 0.002305307390913367 | Valid loss: 0.19644979801177978\n"
     ]
    },
    {
     "name": "stderr",
     "output_type": "stream",
     "text": [
      "\n",
      "100%|██████████| 391/391 [00:41<00:00,  9.35it/s]\n",
      "100%|██████████| 79/79 [00:03<00:00, 22.70it/s]"
     ]
    },
    {
     "name": "stdout",
     "output_type": "stream",
     "text": [
      "Adjusting learning rate of group 0 to 1.0000e-03.\n",
      "Epoch 156\n",
      "Accuracy: 0.9512 | Train loss: 0.0026393389309197664 | Valid loss: 0.19504020261764526\n"
     ]
    },
    {
     "name": "stderr",
     "output_type": "stream",
     "text": [
      "\n",
      "100%|██████████| 391/391 [00:41<00:00,  9.36it/s]\n",
      "100%|██████████| 79/79 [00:03<00:00, 24.36it/s]"
     ]
    },
    {
     "name": "stdout",
     "output_type": "stream",
     "text": [
      "Adjusting learning rate of group 0 to 1.0000e-03.\n",
      "Epoch 157\n",
      "Accuracy: 0.9514 | Train loss: 0.002530232563875616 | Valid loss: 0.19690686345100403\n"
     ]
    },
    {
     "name": "stderr",
     "output_type": "stream",
     "text": [
      "\n",
      "100%|██████████| 391/391 [00:41<00:00,  9.37it/s]\n",
      "100%|██████████| 79/79 [00:03<00:00, 26.17it/s]"
     ]
    },
    {
     "name": "stdout",
     "output_type": "stream",
     "text": [
      "Adjusting learning rate of group 0 to 1.0000e-03.\n",
      "Epoch 158\n",
      "Accuracy: 0.9502 | Train loss: 0.002477913465723395 | Valid loss: 0.19702538542747497\n"
     ]
    },
    {
     "name": "stderr",
     "output_type": "stream",
     "text": [
      "\n",
      "100%|██████████| 391/391 [00:41<00:00,  9.34it/s]\n",
      "100%|██████████| 79/79 [00:02<00:00, 27.42it/s]"
     ]
    },
    {
     "name": "stdout",
     "output_type": "stream",
     "text": [
      "Adjusting learning rate of group 0 to 1.0000e-03.\n",
      "Epoch 159\n",
      "Accuracy: 0.9514 | Train loss: 0.0022928205574303867 | Valid loss: 0.19367921910285948\n"
     ]
    },
    {
     "name": "stderr",
     "output_type": "stream",
     "text": [
      "\n",
      "100%|██████████| 391/391 [00:41<00:00,  9.34it/s]\n",
      "100%|██████████| 79/79 [00:02<00:00, 28.19it/s]\n"
     ]
    },
    {
     "name": "stdout",
     "output_type": "stream",
     "text": [
      "Adjusting learning rate of group 0 to 1.0000e-03.\n",
      "Epoch 160\n",
      "Accuracy: 0.9524 | Train loss: 0.0022836865951493383 | Valid loss: 0.1969457902908325\n",
      "YES\n"
     ]
    },
    {
     "name": "stderr",
     "output_type": "stream",
     "text": [
      "100%|██████████| 391/391 [00:43<00:00,  9.05it/s]\n",
      "100%|██████████| 79/79 [00:03<00:00, 21.18it/s]"
     ]
    },
    {
     "name": "stdout",
     "output_type": "stream",
     "text": [
      "Adjusting learning rate of group 0 to 1.0000e-03.\n",
      "Epoch 161\n",
      "Accuracy: 0.9506 | Train loss: 0.0022890142829716208 | Valid loss: 0.19426724534034728\n"
     ]
    },
    {
     "name": "stderr",
     "output_type": "stream",
     "text": [
      "\n",
      "100%|██████████| 391/391 [00:43<00:00,  9.09it/s]\n",
      "100%|██████████| 79/79 [00:02<00:00, 27.76it/s]"
     ]
    },
    {
     "name": "stdout",
     "output_type": "stream",
     "text": [
      "Adjusting learning rate of group 0 to 1.0000e-03.\n",
      "Epoch 162\n",
      "Accuracy: 0.9509 | Train loss: 0.002185706909298897 | Valid loss: 0.19246764640808106\n"
     ]
    },
    {
     "name": "stderr",
     "output_type": "stream",
     "text": [
      "\n",
      "100%|██████████| 391/391 [00:41<00:00,  9.36it/s]\n",
      "100%|██████████| 79/79 [00:02<00:00, 27.73it/s]\n"
     ]
    },
    {
     "name": "stdout",
     "output_type": "stream",
     "text": [
      "Adjusting learning rate of group 0 to 1.0000e-03.\n",
      "Epoch 163\n",
      "Accuracy: 0.9524 | Train loss: 0.0021646926744282244 | Valid loss: 0.19404854307174682\n"
     ]
    },
    {
     "name": "stderr",
     "output_type": "stream",
     "text": [
      "100%|██████████| 391/391 [00:41<00:00,  9.37it/s]\n",
      "100%|██████████| 79/79 [00:03<00:00, 21.52it/s]"
     ]
    },
    {
     "name": "stdout",
     "output_type": "stream",
     "text": [
      "Adjusting learning rate of group 0 to 1.0000e-03.\n",
      "Epoch 164\n",
      "Accuracy: 0.9502 | Train loss: 0.002148586463741958 | Valid loss: 0.1943022698879242\n"
     ]
    },
    {
     "name": "stderr",
     "output_type": "stream",
     "text": [
      "\n",
      "100%|██████████| 391/391 [00:41<00:00,  9.37it/s]\n",
      "100%|██████████| 79/79 [00:03<00:00, 25.17it/s]\n"
     ]
    },
    {
     "name": "stdout",
     "output_type": "stream",
     "text": [
      "Adjusting learning rate of group 0 to 1.0000e-03.\n",
      "Epoch 165\n",
      "Accuracy: 0.9506 | Train loss: 0.0021190167997404935 | Valid loss: 0.19393860321044923\n"
     ]
    },
    {
     "name": "stderr",
     "output_type": "stream",
     "text": [
      "100%|██████████| 391/391 [00:41<00:00,  9.37it/s]\n",
      "100%|██████████| 79/79 [00:03<00:00, 25.26it/s]\n"
     ]
    },
    {
     "name": "stdout",
     "output_type": "stream",
     "text": [
      "Adjusting learning rate of group 0 to 1.0000e-03.\n",
      "Epoch 166\n",
      "Accuracy: 0.9527 | Train loss: 0.0019779152020066976 | Valid loss: 0.19500742468833923\n",
      "YES\n"
     ]
    },
    {
     "name": "stderr",
     "output_type": "stream",
     "text": [
      "100%|██████████| 391/391 [00:41<00:00,  9.33it/s]\n",
      "100%|██████████| 79/79 [00:03<00:00, 25.24it/s]"
     ]
    },
    {
     "name": "stdout",
     "output_type": "stream",
     "text": [
      "Adjusting learning rate of group 0 to 1.0000e-03.\n",
      "Epoch 167\n",
      "Accuracy: 0.9514 | Train loss: 0.0022397068256512285 | Valid loss: 0.19449074640274047\n"
     ]
    },
    {
     "name": "stderr",
     "output_type": "stream",
     "text": [
      "\n",
      "100%|██████████| 391/391 [00:41<00:00,  9.32it/s]\n",
      "100%|██████████| 79/79 [00:03<00:00, 26.28it/s]"
     ]
    },
    {
     "name": "stdout",
     "output_type": "stream",
     "text": [
      "Adjusting learning rate of group 0 to 1.0000e-03.\n",
      "Epoch 168\n",
      "Accuracy: 0.9505 | Train loss: 0.0020571302085742355 | Valid loss: 0.19440167536735534\n"
     ]
    },
    {
     "name": "stderr",
     "output_type": "stream",
     "text": [
      "\n",
      "100%|██████████| 391/391 [00:41<00:00,  9.38it/s]\n",
      "100%|██████████| 79/79 [00:02<00:00, 26.57it/s]"
     ]
    },
    {
     "name": "stdout",
     "output_type": "stream",
     "text": [
      "Adjusting learning rate of group 0 to 1.0000e-03.\n",
      "Epoch 169\n",
      "Accuracy: 0.9521 | Train loss: 0.002113289343826473 | Valid loss: 0.1934486701965332\n"
     ]
    },
    {
     "name": "stderr",
     "output_type": "stream",
     "text": [
      "\n",
      "100%|██████████| 391/391 [00:41<00:00,  9.36it/s]\n",
      "100%|██████████| 79/79 [00:03<00:00, 24.26it/s]"
     ]
    },
    {
     "name": "stdout",
     "output_type": "stream",
     "text": [
      "Adjusting learning rate of group 0 to 1.0000e-03.\n",
      "Epoch 170\n",
      "Accuracy: 0.9515 | Train loss: 0.0019195482068881393 | Valid loss: 0.19288692479133607\n"
     ]
    },
    {
     "name": "stderr",
     "output_type": "stream",
     "text": [
      "\n",
      "100%|██████████| 391/391 [00:41<00:00,  9.32it/s]\n",
      "100%|██████████| 79/79 [00:02<00:00, 29.23it/s]"
     ]
    },
    {
     "name": "stdout",
     "output_type": "stream",
     "text": [
      "Adjusting learning rate of group 0 to 1.0000e-03.\n",
      "Epoch 171\n",
      "Accuracy: 0.9515 | Train loss: 0.00211438577927649 | Valid loss: 0.19461244311332704\n"
     ]
    },
    {
     "name": "stderr",
     "output_type": "stream",
     "text": [
      "\n",
      "100%|██████████| 391/391 [00:41<00:00,  9.35it/s]\n",
      "100%|██████████| 79/79 [00:02<00:00, 28.44it/s]"
     ]
    },
    {
     "name": "stdout",
     "output_type": "stream",
     "text": [
      "Adjusting learning rate of group 0 to 1.0000e-03.\n",
      "Epoch 172\n",
      "Accuracy: 0.9518 | Train loss: 0.001731130542010069 | Valid loss: 0.1931363757610321\n"
     ]
    },
    {
     "name": "stderr",
     "output_type": "stream",
     "text": [
      "\n",
      "100%|██████████| 391/391 [00:42<00:00,  9.10it/s]\n",
      "100%|██████████| 79/79 [00:04<00:00, 18.07it/s]"
     ]
    },
    {
     "name": "stdout",
     "output_type": "stream",
     "text": [
      "Adjusting learning rate of group 0 to 1.0000e-03.\n",
      "Epoch 173\n",
      "Accuracy: 0.9515 | Train loss: 0.0018950549228861928 | Valid loss: 0.194645592212677\n"
     ]
    },
    {
     "name": "stderr",
     "output_type": "stream",
     "text": [
      "\n",
      "100%|██████████| 391/391 [00:42<00:00,  9.18it/s]\n",
      "100%|██████████| 79/79 [00:02<00:00, 27.45it/s]"
     ]
    },
    {
     "name": "stdout",
     "output_type": "stream",
     "text": [
      "Adjusting learning rate of group 0 to 1.0000e-03.\n",
      "Epoch 174\n",
      "Accuracy: 0.9516 | Train loss: 0.002005968419276178 | Valid loss: 0.19091557607650758\n"
     ]
    },
    {
     "name": "stderr",
     "output_type": "stream",
     "text": [
      "\n",
      "100%|██████████| 391/391 [00:41<00:00,  9.36it/s]\n",
      "100%|██████████| 79/79 [00:02<00:00, 27.45it/s]"
     ]
    },
    {
     "name": "stdout",
     "output_type": "stream",
     "text": [
      "Adjusting learning rate of group 0 to 1.0000e-03.\n",
      "Epoch 175\n",
      "Accuracy: 0.9522 | Train loss: 0.001785956238284707 | Valid loss: 0.1922650740146637\n"
     ]
    },
    {
     "name": "stderr",
     "output_type": "stream",
     "text": [
      "\n",
      "100%|██████████| 391/391 [00:41<00:00,  9.35it/s]\n",
      "100%|██████████| 79/79 [00:02<00:00, 27.25it/s]"
     ]
    },
    {
     "name": "stdout",
     "output_type": "stream",
     "text": [
      "Adjusting learning rate of group 0 to 1.0000e-03.\n",
      "Epoch 176\n",
      "Accuracy: 0.9511 | Train loss: 0.0018076230178028345 | Valid loss: 0.19081609225273133\n"
     ]
    },
    {
     "name": "stderr",
     "output_type": "stream",
     "text": [
      "\n",
      "100%|██████████| 391/391 [00:41<00:00,  9.36it/s]\n",
      "100%|██████████| 79/79 [00:02<00:00, 29.71it/s]"
     ]
    },
    {
     "name": "stdout",
     "output_type": "stream",
     "text": [
      "Adjusting learning rate of group 0 to 1.0000e-03.\n",
      "Epoch 177\n",
      "Accuracy: 0.9514 | Train loss: 0.0016997489957511424 | Valid loss: 0.18965662088394164\n"
     ]
    },
    {
     "name": "stderr",
     "output_type": "stream",
     "text": [
      "\n",
      "100%|██████████| 391/391 [00:41<00:00,  9.36it/s]\n",
      "100%|██████████| 79/79 [00:02<00:00, 28.14it/s]"
     ]
    },
    {
     "name": "stdout",
     "output_type": "stream",
     "text": [
      "Adjusting learning rate of group 0 to 1.0000e-03.\n",
      "Epoch 178\n",
      "Accuracy: 0.9522 | Train loss: 0.0017784261113405228 | Valid loss: 0.1914623456478119\n"
     ]
    },
    {
     "name": "stderr",
     "output_type": "stream",
     "text": [
      "\n",
      "100%|██████████| 391/391 [00:41<00:00,  9.32it/s]\n",
      "100%|██████████| 79/79 [00:02<00:00, 27.51it/s]"
     ]
    },
    {
     "name": "stdout",
     "output_type": "stream",
     "text": [
      "Adjusting learning rate of group 0 to 1.0000e-03.\n",
      "Epoch 179\n",
      "Accuracy: 0.9518 | Train loss: 0.0017795786676555873 | Valid loss: 0.1929413432121277\n"
     ]
    },
    {
     "name": "stderr",
     "output_type": "stream",
     "text": [
      "\n",
      "100%|██████████| 391/391 [00:41<00:00,  9.35it/s]\n",
      "100%|██████████| 79/79 [00:03<00:00, 26.01it/s]"
     ]
    },
    {
     "name": "stdout",
     "output_type": "stream",
     "text": [
      "Adjusting learning rate of group 0 to 1.0000e-03.\n",
      "Epoch 180\n",
      "Accuracy: 0.9516 | Train loss: 0.0017283265356719494 | Valid loss: 0.19049469056129456\n"
     ]
    },
    {
     "name": "stderr",
     "output_type": "stream",
     "text": [
      "\n",
      "100%|██████████| 391/391 [00:42<00:00,  9.30it/s]\n",
      "100%|██████████| 79/79 [00:03<00:00, 25.77it/s]"
     ]
    },
    {
     "name": "stdout",
     "output_type": "stream",
     "text": [
      "Adjusting learning rate of group 0 to 1.0000e-03.\n",
      "Epoch 181\n",
      "Accuracy: 0.952 | Train loss: 0.0017800426901131868 | Valid loss: 0.19093774299621583\n"
     ]
    },
    {
     "name": "stderr",
     "output_type": "stream",
     "text": [
      "\n",
      "100%|██████████| 391/391 [00:42<00:00,  9.26it/s]\n",
      "100%|██████████| 79/79 [00:03<00:00, 25.81it/s]"
     ]
    },
    {
     "name": "stdout",
     "output_type": "stream",
     "text": [
      "Adjusting learning rate of group 0 to 1.0000e-03.\n",
      "Epoch 182\n",
      "Accuracy: 0.9507 | Train loss: 0.002045430115312338 | Valid loss: 0.19246494188308716\n"
     ]
    },
    {
     "name": "stderr",
     "output_type": "stream",
     "text": [
      "\n",
      "100%|██████████| 391/391 [00:42<00:00,  9.31it/s]\n",
      "100%|██████████| 79/79 [00:03<00:00, 21.58it/s]"
     ]
    },
    {
     "name": "stdout",
     "output_type": "stream",
     "text": [
      "Adjusting learning rate of group 0 to 1.0000e-03.\n",
      "Epoch 183\n",
      "Accuracy: 0.9519 | Train loss: 0.001688195236250758 | Valid loss: 0.1920077769756317\n"
     ]
    },
    {
     "name": "stderr",
     "output_type": "stream",
     "text": [
      "\n",
      "100%|██████████| 391/391 [00:41<00:00,  9.34it/s]\n",
      "100%|██████████| 79/79 [00:03<00:00, 25.01it/s]"
     ]
    },
    {
     "name": "stdout",
     "output_type": "stream",
     "text": [
      "Adjusting learning rate of group 0 to 1.0000e-03.\n",
      "Epoch 184\n",
      "Accuracy: 0.9512 | Train loss: 0.0017490370476990938 | Valid loss: 0.19184720511436462\n"
     ]
    },
    {
     "name": "stderr",
     "output_type": "stream",
     "text": [
      "\n",
      "100%|██████████| 391/391 [00:43<00:00,  9.06it/s]\n",
      "100%|██████████| 79/79 [00:04<00:00, 17.96it/s]"
     ]
    },
    {
     "name": "stdout",
     "output_type": "stream",
     "text": [
      "Adjusting learning rate of group 0 to 1.0000e-03.\n",
      "Epoch 185\n",
      "Accuracy: 0.9518 | Train loss: 0.0017058388616144656 | Valid loss: 0.19329066643714904\n"
     ]
    },
    {
     "name": "stderr",
     "output_type": "stream",
     "text": [
      "\n",
      "100%|██████████| 391/391 [00:43<00:00,  9.03it/s]\n",
      "100%|██████████| 79/79 [00:02<00:00, 28.14it/s]"
     ]
    },
    {
     "name": "stdout",
     "output_type": "stream",
     "text": [
      "Adjusting learning rate of group 0 to 1.0000e-03.\n",
      "Epoch 186\n",
      "Accuracy: 0.9524 | Train loss: 0.0017186512016505002 | Valid loss: 0.19181298961639404\n"
     ]
    },
    {
     "name": "stderr",
     "output_type": "stream",
     "text": [
      "\n",
      "100%|██████████| 391/391 [00:41<00:00,  9.34it/s]\n",
      "100%|██████████| 79/79 [00:03<00:00, 21.76it/s]"
     ]
    },
    {
     "name": "stdout",
     "output_type": "stream",
     "text": [
      "Adjusting learning rate of group 0 to 1.0000e-03.\n",
      "Epoch 187\n",
      "Accuracy: 0.9515 | Train loss: 0.0017224274876713752 | Valid loss: 0.19239797472953796\n"
     ]
    },
    {
     "name": "stderr",
     "output_type": "stream",
     "text": [
      "\n",
      "100%|██████████| 391/391 [00:41<00:00,  9.36it/s]\n",
      "100%|██████████| 79/79 [00:02<00:00, 28.18it/s]"
     ]
    },
    {
     "name": "stdout",
     "output_type": "stream",
     "text": [
      "Adjusting learning rate of group 0 to 1.0000e-03.\n",
      "Epoch 188\n",
      "Accuracy: 0.952 | Train loss: 0.0017593454018980264 | Valid loss: 0.19186962189674378\n"
     ]
    },
    {
     "name": "stderr",
     "output_type": "stream",
     "text": [
      "\n",
      "100%|██████████| 391/391 [00:41<00:00,  9.35it/s]\n",
      "100%|██████████| 79/79 [00:03<00:00, 26.08it/s]"
     ]
    },
    {
     "name": "stdout",
     "output_type": "stream",
     "text": [
      "Adjusting learning rate of group 0 to 1.0000e-03.\n",
      "Epoch 189\n",
      "Accuracy: 0.9522 | Train loss: 0.0016639754275232553 | Valid loss: 0.18876302008628845\n"
     ]
    },
    {
     "name": "stderr",
     "output_type": "stream",
     "text": [
      "\n",
      "100%|██████████| 391/391 [00:41<00:00,  9.35it/s]\n",
      "100%|██████████| 79/79 [00:03<00:00, 25.52it/s]"
     ]
    },
    {
     "name": "stdout",
     "output_type": "stream",
     "text": [
      "Adjusting learning rate of group 0 to 1.0000e-03.\n",
      "Epoch 190\n",
      "Accuracy: 0.9522 | Train loss: 0.0017523785375803708 | Valid loss: 0.18896670598983764\n"
     ]
    },
    {
     "name": "stderr",
     "output_type": "stream",
     "text": [
      "\n",
      "100%|██████████| 391/391 [00:41<00:00,  9.38it/s]\n",
      "100%|██████████| 79/79 [00:03<00:00, 23.04it/s]"
     ]
    },
    {
     "name": "stdout",
     "output_type": "stream",
     "text": [
      "Adjusting learning rate of group 0 to 1.0000e-03.\n",
      "Epoch 191\n",
      "Accuracy: 0.9522 | Train loss: 0.0015562690244615078 | Valid loss: 0.18831409850120545\n"
     ]
    },
    {
     "name": "stderr",
     "output_type": "stream",
     "text": [
      "\n",
      "100%|██████████| 391/391 [00:41<00:00,  9.37it/s]\n",
      "100%|██████████| 79/79 [00:02<00:00, 27.89it/s]"
     ]
    },
    {
     "name": "stdout",
     "output_type": "stream",
     "text": [
      "Adjusting learning rate of group 0 to 1.0000e-03.\n",
      "Epoch 192\n",
      "Accuracy: 0.9515 | Train loss: 0.00152433886885643 | Valid loss: 0.18934756174087525\n"
     ]
    },
    {
     "name": "stderr",
     "output_type": "stream",
     "text": [
      "\n",
      "100%|██████████| 391/391 [00:41<00:00,  9.35it/s]\n",
      "100%|██████████| 79/79 [00:02<00:00, 28.54it/s]"
     ]
    },
    {
     "name": "stdout",
     "output_type": "stream",
     "text": [
      "Adjusting learning rate of group 0 to 1.0000e-03.\n",
      "Epoch 193\n",
      "Accuracy: 0.9512 | Train loss: 0.00154232518594712 | Valid loss: 0.18871303834915162\n"
     ]
    },
    {
     "name": "stderr",
     "output_type": "stream",
     "text": [
      "\n",
      "100%|██████████| 391/391 [00:41<00:00,  9.37it/s]\n",
      "100%|██████████| 79/79 [00:03<00:00, 25.93it/s]"
     ]
    },
    {
     "name": "stdout",
     "output_type": "stream",
     "text": [
      "Adjusting learning rate of group 0 to 1.0000e-03.\n",
      "Epoch 194\n",
      "Accuracy: 0.9519 | Train loss: 0.0015295615830272437 | Valid loss: 0.18781785912513732\n"
     ]
    },
    {
     "name": "stderr",
     "output_type": "stream",
     "text": [
      "\n",
      "100%|██████████| 391/391 [00:41<00:00,  9.37it/s]\n",
      "100%|██████████| 79/79 [00:02<00:00, 29.06it/s]\n"
     ]
    },
    {
     "name": "stdout",
     "output_type": "stream",
     "text": [
      "Adjusting learning rate of group 0 to 1.0000e-03.\n",
      "Epoch 195\n",
      "Accuracy: 0.9523 | Train loss: 0.00175933059906587 | Valid loss: 0.19029563145637513\n"
     ]
    },
    {
     "name": "stderr",
     "output_type": "stream",
     "text": [
      "100%|██████████| 391/391 [00:41<00:00,  9.33it/s]\n",
      "100%|██████████| 79/79 [00:02<00:00, 28.18it/s]"
     ]
    },
    {
     "name": "stdout",
     "output_type": "stream",
     "text": [
      "Adjusting learning rate of group 0 to 1.0000e-03.\n",
      "Epoch 196\n",
      "Accuracy: 0.9515 | Train loss: 0.0015756671384721994 | Valid loss: 0.18880110478401185\n"
     ]
    },
    {
     "name": "stderr",
     "output_type": "stream",
     "text": [
      "\n",
      "100%|██████████| 391/391 [00:42<00:00,  9.19it/s]\n",
      "100%|██████████| 79/79 [00:03<00:00, 20.82it/s]"
     ]
    },
    {
     "name": "stdout",
     "output_type": "stream",
     "text": [
      "Adjusting learning rate of group 0 to 1.0000e-03.\n",
      "Epoch 197\n",
      "Accuracy: 0.9514 | Train loss: 0.0016836160247772933 | Valid loss: 0.18812270817756652\n"
     ]
    },
    {
     "name": "stderr",
     "output_type": "stream",
     "text": [
      "\n",
      "100%|██████████| 391/391 [00:43<00:00,  9.05it/s]\n",
      "100%|██████████| 79/79 [00:03<00:00, 20.13it/s]"
     ]
    },
    {
     "name": "stdout",
     "output_type": "stream",
     "text": [
      "Adjusting learning rate of group 0 to 1.0000e-03.\n",
      "Epoch 198\n",
      "Accuracy: 0.9514 | Train loss: 0.0015371468069031835 | Valid loss: 0.1893610878944397\n"
     ]
    },
    {
     "name": "stderr",
     "output_type": "stream",
     "text": [
      "\n",
      "100%|██████████| 391/391 [00:42<00:00,  9.30it/s]\n",
      "100%|██████████| 79/79 [00:03<00:00, 26.16it/s]\n"
     ]
    },
    {
     "name": "stdout",
     "output_type": "stream",
     "text": [
      "Adjusting learning rate of group 0 to 1.0000e-03.\n",
      "Epoch 199\n",
      "Accuracy: 0.9521 | Train loss: 0.0016757110823132097 | Valid loss: 0.1892338653087616\n"
     ]
    },
    {
     "name": "stderr",
     "output_type": "stream",
     "text": [
      "100%|██████████| 391/391 [00:41<00:00,  9.38it/s]\n",
      "100%|██████████| 79/79 [00:02<00:00, 29.11it/s]"
     ]
    },
    {
     "name": "stdout",
     "output_type": "stream",
     "text": [
      "Adjusting learning rate of group 0 to 1.0000e-03.\n",
      "Epoch 200\n",
      "Accuracy: 0.9522 | Train loss: 0.001640079644396901 | Valid loss: 0.19031467709541322\n"
     ]
    },
    {
     "name": "stderr",
     "output_type": "stream",
     "text": [
      "\n"
     ]
    }
   ],
   "source": [
    "best_score = 0\n",
    "\n",
    "for epoch in range(200):\n",
    "    start_time = time.time()\n",
    "    teacher_model.to(DEVICE)\n",
    "    avg_loss = train_fn(train_loader, teacher_model, criterion, optimizer_teacher, None, DEVICE)\n",
    "    avg_val_loss, score = valid_fn(test_loader, teacher_model, criterion, DEVICE)\n",
    "\n",
    "    scheduler_teacher.step()\n",
    "    \n",
    "    print(f\"Epoch {epoch+1}\")\n",
    "    print(f\"Accuracy: {score} | Train loss: {avg_loss} | Valid loss: {avg_val_loss}\")\n",
    "    \n",
    "    if score > best_score:\n",
    "        print(\"YES\")\n",
    "        best_score = score\n",
    "        torch.save(teacher_model.state_dict(), f\"best_model.pt\")\n",
    "        \n",
    "    elapsed = time.time() - start_time"
   ]
  },
  {
   "cell_type": "code",
   "execution_count": 28,
   "id": "7b5cd3dc",
   "metadata": {
    "execution": {
     "iopub.execute_input": "2022-05-23T11:10:03.211483Z",
     "iopub.status.busy": "2022-05-23T11:10:03.211142Z",
     "iopub.status.idle": "2022-05-23T11:10:03.217212Z",
     "shell.execute_reply": "2022-05-23T11:10:03.216576Z"
    },
    "papermill": {
     "duration": 27.243524,
     "end_time": "2022-05-23T11:10:03.218860",
     "exception": false,
     "start_time": "2022-05-23T11:09:35.975336",
     "status": "completed"
    },
    "tags": []
   },
   "outputs": [
    {
     "data": {
      "text/plain": [
       "0.9527"
      ]
     },
     "execution_count": 28,
     "metadata": {},
     "output_type": "execute_result"
    }
   ],
   "source": [
    "best_score"
   ]
  }
 ],
 "metadata": {
  "kernelspec": {
   "display_name": "Python 3",
   "language": "python",
   "name": "python3"
  },
  "language_info": {
   "codemirror_mode": {
    "name": "ipython",
    "version": 3
   },
   "file_extension": ".py",
   "mimetype": "text/x-python",
   "name": "python",
   "nbconvert_exporter": "python",
   "pygments_lexer": "ipython3",
   "version": "3.7.12"
  },
  "papermill": {
   "default_parameters": {},
   "duration": 9196.230363,
   "end_time": "2022-05-23T11:10:32.939121",
   "environment_variables": {},
   "exception": null,
   "input_path": "__notebook__.ipynb",
   "output_path": "__notebook__.ipynb",
   "parameters": {},
   "start_time": "2022-05-23T08:37:16.708758",
   "version": "2.3.4"
  },
  "widgets": {
   "application/vnd.jupyter.widget-state+json": {
    "state": {
     "3e72d5b4d9bb45f39ebfdd5361430e1f": {
      "model_module": "@jupyter-widgets/base",
      "model_module_version": "1.2.0",
      "model_name": "LayoutModel",
      "state": {
       "_model_module": "@jupyter-widgets/base",
       "_model_module_version": "1.2.0",
       "_model_name": "LayoutModel",
       "_view_count": null,
       "_view_module": "@jupyter-widgets/base",
       "_view_module_version": "1.2.0",
       "_view_name": "LayoutView",
       "align_content": null,
       "align_items": null,
       "align_self": null,
       "border": null,
       "bottom": null,
       "display": null,
       "flex": null,
       "flex_flow": null,
       "grid_area": null,
       "grid_auto_columns": null,
       "grid_auto_flow": null,
       "grid_auto_rows": null,
       "grid_column": null,
       "grid_gap": null,
       "grid_row": null,
       "grid_template_areas": null,
       "grid_template_columns": null,
       "grid_template_rows": null,
       "height": null,
       "justify_content": null,
       "justify_items": null,
       "left": null,
       "margin": null,
       "max_height": null,
       "max_width": null,
       "min_height": null,
       "min_width": null,
       "object_fit": null,
       "object_position": null,
       "order": null,
       "overflow": null,
       "overflow_x": null,
       "overflow_y": null,
       "padding": null,
       "right": null,
       "top": null,
       "visibility": null,
       "width": null
      }
     },
     "5a50c374337148348c18e733a3ca5f6f": {
      "model_module": "@jupyter-widgets/base",
      "model_module_version": "1.2.0",
      "model_name": "LayoutModel",
      "state": {
       "_model_module": "@jupyter-widgets/base",
       "_model_module_version": "1.2.0",
       "_model_name": "LayoutModel",
       "_view_count": null,
       "_view_module": "@jupyter-widgets/base",
       "_view_module_version": "1.2.0",
       "_view_name": "LayoutView",
       "align_content": null,
       "align_items": null,
       "align_self": null,
       "border": null,
       "bottom": null,
       "display": null,
       "flex": null,
       "flex_flow": null,
       "grid_area": null,
       "grid_auto_columns": null,
       "grid_auto_flow": null,
       "grid_auto_rows": null,
       "grid_column": null,
       "grid_gap": null,
       "grid_row": null,
       "grid_template_areas": null,
       "grid_template_columns": null,
       "grid_template_rows": null,
       "height": null,
       "justify_content": null,
       "justify_items": null,
       "left": null,
       "margin": null,
       "max_height": null,
       "max_width": null,
       "min_height": null,
       "min_width": null,
       "object_fit": null,
       "object_position": null,
       "order": null,
       "overflow": null,
       "overflow_x": null,
       "overflow_y": null,
       "padding": null,
       "right": null,
       "top": null,
       "visibility": null,
       "width": null
      }
     },
     "5c00c50a15c54b22a679b25657b40992": {
      "model_module": "@jupyter-widgets/controls",
      "model_module_version": "1.5.0",
      "model_name": "DescriptionStyleModel",
      "state": {
       "_model_module": "@jupyter-widgets/controls",
       "_model_module_version": "1.5.0",
       "_model_name": "DescriptionStyleModel",
       "_view_count": null,
       "_view_module": "@jupyter-widgets/base",
       "_view_module_version": "1.2.0",
       "_view_name": "StyleView",
       "description_width": ""
      }
     },
     "6ed5b0ba98e34b1e955ecd27e1982a5f": {
      "model_module": "@jupyter-widgets/controls",
      "model_module_version": "1.5.0",
      "model_name": "DescriptionStyleModel",
      "state": {
       "_model_module": "@jupyter-widgets/controls",
       "_model_module_version": "1.5.0",
       "_model_name": "DescriptionStyleModel",
       "_view_count": null,
       "_view_module": "@jupyter-widgets/base",
       "_view_module_version": "1.2.0",
       "_view_name": "StyleView",
       "description_width": ""
      }
     },
     "93813a12db894368bf9acd4163cd668d": {
      "model_module": "@jupyter-widgets/controls",
      "model_module_version": "1.5.0",
      "model_name": "HTMLModel",
      "state": {
       "_dom_classes": [],
       "_model_module": "@jupyter-widgets/controls",
       "_model_module_version": "1.5.0",
       "_model_name": "HTMLModel",
       "_view_count": null,
       "_view_module": "@jupyter-widgets/controls",
       "_view_module_version": "1.5.0",
       "_view_name": "HTMLView",
       "description": "",
       "description_tooltip": null,
       "layout": "IPY_MODEL_5a50c374337148348c18e733a3ca5f6f",
       "placeholder": "​",
       "style": "IPY_MODEL_6ed5b0ba98e34b1e955ecd27e1982a5f",
       "value": " 170499072/? [00:12&lt;00:00, 15232235.34it/s]"
      }
     },
     "96109e2fd9e242acaad431ad2d6f7b5d": {
      "model_module": "@jupyter-widgets/controls",
      "model_module_version": "1.5.0",
      "model_name": "ProgressStyleModel",
      "state": {
       "_model_module": "@jupyter-widgets/controls",
       "_model_module_version": "1.5.0",
       "_model_name": "ProgressStyleModel",
       "_view_count": null,
       "_view_module": "@jupyter-widgets/base",
       "_view_module_version": "1.2.0",
       "_view_name": "StyleView",
       "bar_color": null,
       "description_width": ""
      }
     },
     "9d06d5c7b66849dca0e2c85d9cde61a7": {
      "model_module": "@jupyter-widgets/base",
      "model_module_version": "1.2.0",
      "model_name": "LayoutModel",
      "state": {
       "_model_module": "@jupyter-widgets/base",
       "_model_module_version": "1.2.0",
       "_model_name": "LayoutModel",
       "_view_count": null,
       "_view_module": "@jupyter-widgets/base",
       "_view_module_version": "1.2.0",
       "_view_name": "LayoutView",
       "align_content": null,
       "align_items": null,
       "align_self": null,
       "border": null,
       "bottom": null,
       "display": null,
       "flex": null,
       "flex_flow": null,
       "grid_area": null,
       "grid_auto_columns": null,
       "grid_auto_flow": null,
       "grid_auto_rows": null,
       "grid_column": null,
       "grid_gap": null,
       "grid_row": null,
       "grid_template_areas": null,
       "grid_template_columns": null,
       "grid_template_rows": null,
       "height": null,
       "justify_content": null,
       "justify_items": null,
       "left": null,
       "margin": null,
       "max_height": null,
       "max_width": null,
       "min_height": null,
       "min_width": null,
       "object_fit": null,
       "object_position": null,
       "order": null,
       "overflow": null,
       "overflow_x": null,
       "overflow_y": null,
       "padding": null,
       "right": null,
       "top": null,
       "visibility": null,
       "width": null
      }
     },
     "ad3f2fab4dfd4622a8c98d9e1ed09bdf": {
      "model_module": "@jupyter-widgets/controls",
      "model_module_version": "1.5.0",
      "model_name": "FloatProgressModel",
      "state": {
       "_dom_classes": [],
       "_model_module": "@jupyter-widgets/controls",
       "_model_module_version": "1.5.0",
       "_model_name": "FloatProgressModel",
       "_view_count": null,
       "_view_module": "@jupyter-widgets/controls",
       "_view_module_version": "1.5.0",
       "_view_name": "ProgressView",
       "bar_style": "success",
       "description": "",
       "description_tooltip": null,
       "layout": "IPY_MODEL_3e72d5b4d9bb45f39ebfdd5361430e1f",
       "max": 170498071.0,
       "min": 0.0,
       "orientation": "horizontal",
       "style": "IPY_MODEL_96109e2fd9e242acaad431ad2d6f7b5d",
       "value": 170498071.0
      }
     },
     "b437a8e7a1a64ca9841b8423c8aa6c65": {
      "model_module": "@jupyter-widgets/controls",
      "model_module_version": "1.5.0",
      "model_name": "HTMLModel",
      "state": {
       "_dom_classes": [],
       "_model_module": "@jupyter-widgets/controls",
       "_model_module_version": "1.5.0",
       "_model_name": "HTMLModel",
       "_view_count": null,
       "_view_module": "@jupyter-widgets/controls",
       "_view_module_version": "1.5.0",
       "_view_name": "HTMLView",
       "description": "",
       "description_tooltip": null,
       "layout": "IPY_MODEL_9d06d5c7b66849dca0e2c85d9cde61a7",
       "placeholder": "​",
       "style": "IPY_MODEL_5c00c50a15c54b22a679b25657b40992",
       "value": ""
      }
     },
     "c9e1deac7812460bb8393587d970a5f4": {
      "model_module": "@jupyter-widgets/controls",
      "model_module_version": "1.5.0",
      "model_name": "HBoxModel",
      "state": {
       "_dom_classes": [],
       "_model_module": "@jupyter-widgets/controls",
       "_model_module_version": "1.5.0",
       "_model_name": "HBoxModel",
       "_view_count": null,
       "_view_module": "@jupyter-widgets/controls",
       "_view_module_version": "1.5.0",
       "_view_name": "HBoxView",
       "box_style": "",
       "children": [
        "IPY_MODEL_b437a8e7a1a64ca9841b8423c8aa6c65",
        "IPY_MODEL_ad3f2fab4dfd4622a8c98d9e1ed09bdf",
        "IPY_MODEL_93813a12db894368bf9acd4163cd668d"
       ],
       "layout": "IPY_MODEL_dcdc9c073e674ea0a924e668a7a610c8"
      }
     },
     "dcdc9c073e674ea0a924e668a7a610c8": {
      "model_module": "@jupyter-widgets/base",
      "model_module_version": "1.2.0",
      "model_name": "LayoutModel",
      "state": {
       "_model_module": "@jupyter-widgets/base",
       "_model_module_version": "1.2.0",
       "_model_name": "LayoutModel",
       "_view_count": null,
       "_view_module": "@jupyter-widgets/base",
       "_view_module_version": "1.2.0",
       "_view_name": "LayoutView",
       "align_content": null,
       "align_items": null,
       "align_self": null,
       "border": null,
       "bottom": null,
       "display": null,
       "flex": null,
       "flex_flow": null,
       "grid_area": null,
       "grid_auto_columns": null,
       "grid_auto_flow": null,
       "grid_auto_rows": null,
       "grid_column": null,
       "grid_gap": null,
       "grid_row": null,
       "grid_template_areas": null,
       "grid_template_columns": null,
       "grid_template_rows": null,
       "height": null,
       "justify_content": null,
       "justify_items": null,
       "left": null,
       "margin": null,
       "max_height": null,
       "max_width": null,
       "min_height": null,
       "min_width": null,
       "object_fit": null,
       "object_position": null,
       "order": null,
       "overflow": null,
       "overflow_x": null,
       "overflow_y": null,
       "padding": null,
       "right": null,
       "top": null,
       "visibility": null,
       "width": null
      }
     }
    },
    "version_major": 2,
    "version_minor": 0
   }
  }
 },
 "nbformat": 4,
 "nbformat_minor": 5
}
